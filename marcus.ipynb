{
  "cells": [
    {
      "cell_type": "code",
      "source": [
        "# Mounting of Google Drive to access the datasets\n",
        "\n",
        "from google.colab import drive\n",
        "drive.mount('/content/drive') \n"
      ],
      "metadata": {
        "colab": {
          "base_uri": "https://localhost:8080/"
        },
        "id": "Tr4oahE6WALe",
        "outputId": "363dbc18-4cea-4fe2-b670-61f0f16573dd"
      },
      "execution_count": 2,
      "outputs": [
        {
          "output_type": "stream",
          "name": "stdout",
          "text": [
            "Drive already mounted at /content/drive; to attempt to forcibly remount, call drive.mount(\"/content/drive\", force_remount=True).\n"
          ]
        }
      ]
    },
    {
      "cell_type": "code",
      "source": [
        "pip install pandas==1.0.5 pyarrow nltk iteration_utilities textblob"
      ],
      "metadata": {
        "colab": {
          "base_uri": "https://localhost:8080/"
        },
        "id": "z7kiDnTcWbhh",
        "outputId": "359a81e9-55d4-4d37-d402-b16e31ba5619"
      },
      "execution_count": 2,
      "outputs": [
        {
          "output_type": "stream",
          "name": "stdout",
          "text": [
            "Requirement already satisfied: pandas==1.0.5 in /usr/local/lib/python3.7/dist-packages (1.0.5)\n",
            "Requirement already satisfied: pyarrow in /usr/local/lib/python3.7/dist-packages (3.0.0)\n",
            "Requirement already satisfied: nltk in /usr/local/lib/python3.7/dist-packages (3.2.5)\n",
            "Requirement already satisfied: iteration_utilities in /usr/local/lib/python3.7/dist-packages (0.11.0)\n",
            "Requirement already satisfied: textblob in /usr/local/lib/python3.7/dist-packages (0.15.3)\n",
            "Requirement already satisfied: pytz>=2017.2 in /usr/local/lib/python3.7/dist-packages (from pandas==1.0.5) (2018.9)\n",
            "Requirement already satisfied: numpy>=1.13.3 in /usr/local/lib/python3.7/dist-packages (from pandas==1.0.5) (1.19.5)\n",
            "Requirement already satisfied: python-dateutil>=2.6.1 in /usr/local/lib/python3.7/dist-packages (from pandas==1.0.5) (2.8.2)\n",
            "Requirement already satisfied: six>=1.5 in /usr/local/lib/python3.7/dist-packages (from python-dateutil>=2.6.1->pandas==1.0.5) (1.15.0)\n"
          ]
        }
      ]
    },
    {
      "cell_type": "code",
      "execution_count": 3,
      "metadata": {
        "colab": {
          "base_uri": "https://localhost:8080/",
          "height": 104
        },
        "id": "qNYSMpBKV5fz",
        "outputId": "8bfbd555-4ef4-4052-ca00-c7bbc171cd26"
      },
      "outputs": [
        {
          "output_type": "stream",
          "name": "stdout",
          "text": [
            "[nltk_data] Downloading package vader_lexicon to /root/nltk_data...\n",
            "[nltk_data]   Package vader_lexicon is already up-to-date!\n"
          ]
        },
        {
          "output_type": "stream",
          "name": "stderr",
          "text": [
            "/usr/local/lib/python3.7/dist-packages/nltk/twitter/__init__.py:20: UserWarning: The twython library has not been installed. Some functionality from the twitter package will not be available.\n",
            "  warnings.warn(\"The twython library has not been installed. \"\n"
          ]
        },
        {
          "output_type": "display_data",
          "data": {
            "text/plain": [
              "<Figure size 432x288 with 0 Axes>"
            ]
          },
          "metadata": {}
        }
      ],
      "source": [
        "import pandas as pd\n",
        "import seaborn as sns\n",
        "from IPython.display import display, HTML\n",
        "import matplotlib.pyplot as plt\n",
        "import scipy.stats as stats\n",
        "import numpy as np\n",
        "import nltk as nltk\n",
        "import pyarrow\n",
        "import bz2\n",
        "import json\n",
        "import datetime\n",
        "from iteration_utilities import deepflatten\n",
        "import nltk as nltk\n",
        "import scipy.stats as stats\n",
        "from nltk.sentiment.vader import SentimentIntensityAnalyzer\n",
        "nltk.download('vader_lexicon')\n",
        "pd.options.mode.chained_assignment = None\n",
        "from textblob import TextBlob\n",
        "sns.set_theme(context='notebook', style='white')\n",
        "plt.tight_layout()"
      ]
    },
    {
      "cell_type": "code",
      "source": [
        "import sys\n",
        "import os\n",
        "\n",
        "py_file_location = \"/content/drive/My Drive\"\n",
        "sys.path.append(os.path.abspath(py_file_location))\n",
        "\n",
        "from helpers import add_time, week, weekday_number, weekday, month, add_dict, to_dict, get_media, find_media"
      ],
      "metadata": {
        "id": "I4fX3p-wXyRN"
      },
      "execution_count": 4,
      "outputs": []
    },
    {
      "cell_type": "code",
      "execution_count": 5,
      "metadata": {
        "id": "ikZKiPdfV5f1"
      },
      "outputs": [],
      "source": [
        "# Local\n",
        "data_path = 'C:/Users/Marcus/Desktop/Quotebank/'\n",
        "files = ['quotes-2020.json.bz2']"
      ]
    },
    {
      "cell_type": "code",
      "source": [
        "# Drive\n",
        "path_to_file = '/content/drive/MyDrive/Quotebank/'\n",
        "\n",
        "files_pre_cleaning = ['quotes-2015.json.bz2','quotes-2016.json.bz2','quotes-2017.json.bz2',\n",
        "                  'quotes-2018.json.bz2','quotes-2019.json.bz2','quotes-2020.json.bz2']\n",
        "\n",
        "files_cleaned = ['clean-quotes-2015.csv.bz2','clean-quotes-2016.csv.bz2','clean-quotes-2017.csv.bz2',\n",
        "                  'clean-quotes-2018.csv.bz2','clean-quotes-2019.csv.bz2','clean-quotes-2020.csv.bz2']\n",
        "\n",
        "path_to_wikidata_file = '/content/drive/MyDrive/Project datasets/speaker_attributes.parquet'"
      ],
      "metadata": {
        "id": "g-9xxoJkWNKS"
      },
      "execution_count": 6,
      "outputs": []
    },
    {
      "cell_type": "code",
      "source": [
        "data_path = path_to_file\n",
        "files = files_pre_cleaning"
      ],
      "metadata": {
        "id": "E9aj1bF4Yhct"
      },
      "execution_count": 7,
      "outputs": []
    },
    {
      "cell_type": "code",
      "source": [
        "# Reading the Wikidata files\n",
        "read_wikidata_parquet = pd.read_parquet(path_to_wikidata_file)\n"
      ],
      "metadata": {
        "id": "NwbA3s-UcwiK"
      },
      "execution_count": null,
      "outputs": []
    },
    {
      "cell_type": "code",
      "source": [
        "def find_alias_in_wiki(alias):\n",
        "  ''' Returning a dataframe, consisting of one row, with Wikidata information about the given alias .\n",
        "  \n",
        "  Parameters\n",
        "  ----------\n",
        "  alias: str\n",
        "    A given alias to look up in the Wikidata files\n",
        "    \n",
        "  Returns\n",
        "  -------\n",
        "  match: dataframe\n",
        "    A dataframe containing information about the given alias.\n",
        "  '''\n",
        "  \n",
        "  index = []\n",
        "  for i, aliases in enumerate(read_wikidata_parquet['aliases']):\n",
        "    if aliases is None:\n",
        "      continue\n",
        "    if alias in aliases:\n",
        "        index.append(i)\n",
        "  \n",
        "  match = read_wikidata_parquet.loc[index]\n",
        "  return match\n",
        "\n",
        "# Testing the above function by looking up President Washington\n",
        "print(find_alias_in_wiki(\"President Washington\"))"
      ],
      "metadata": {
        "id": "qfJ_KuUkdcQT"
      },
      "execution_count": null,
      "outputs": []
    },
    {
      "cell_type": "code",
      "source": [
        "def dataset_filtered_on_aliases(aliases, dataset):\n",
        "  '''Returning a filtered dataframe containing rows where 'speaker' is present in aliases array.\n",
        "  \n",
        "  Parameters\n",
        "  ----------\n",
        "  aliases: array\n",
        "    An array containing desired aliases to filter on.\n",
        "    \n",
        "  dataset: dataframe\n",
        "    The dataframe to filter.\n",
        "    \n",
        "  Returns\n",
        "  -------\n",
        "  dataset_alias_filtered: dataframe\n",
        "    The given dataset filtered as described.\n",
        "  '''\n",
        "  \n",
        "  dataset_alias_filtered = dataset[dataset['speaker'].isin(aliases)]\n",
        "  # Replacing speakers of None with NaN values\n",
        "  dataset_alias_filtered['speaker'] = dataset_alias_filtered['speaker'].replace('None', np.nan)\n",
        "  # Dropping NaN values\n",
        "  dataset_alias_filtered = dataset_alias_filtered.dropna(axis=0, subset=['speaker'])\n",
        "  return dataset_alias_filtered\n",
        "\n",
        "\n",
        "def dataset_filtered_on_politicians(wikidata, dataset):\n",
        "  ''' Returning a filtered dataframe only containing quotes by politicians. \n",
        "  Note that a person can be listed with many professions and therefore distringuishing\n",
        "  someone who is a former politican can be difficult.\n",
        "\n",
        "  Parameters\n",
        "  ----------\n",
        "  wikidata: dataframe\n",
        "    A dataframe containing the Wikidata dataset.\n",
        "\n",
        "  dataset: dataframe\n",
        "    A dataframe to filter on politicians.\n",
        "\n",
        "  Returns\n",
        "  -------\n",
        "  dataset_filtered_on_politicans: dataframe\n",
        "    A dataframe filtered as described.\n",
        "  '''\n",
        "\n",
        "  wikidata['politician'] = wikidata['occupation'].apply(lambda x: isPolitician(x))\n",
        "  wikidata_politician_filtered = wikidata[wikidata.politician]\n",
        "  \n",
        "  # After filtering on occupation, turns all aliases into 1D list\n",
        "  all_wiki_aliases_politician_filtered = wikidata_politician_filtered['aliases'].tolist()\n",
        "  all_wiki_aliases_politician_filtered = list(deepflatten(all_wiki_aliases_politician_filtered, depth=1))\n",
        "\n",
        "  # Returns original dataset filtered on the speakers corresponding to politicians\n",
        "  dataset_filtered_on_politicans = dataset_filtered_on_aliases(all_wiki_aliases_politician_filtered, dataset)\n",
        "  return dataset_filtered_on_politicans\n",
        "\n",
        "\n",
        "def conv_to_string(x):\n",
        "  ''' Converting the first element of a list x to a string. \n",
        "  If the input not is a list, it returns 'N/A.\n",
        "\n",
        "  Parameters\n",
        "  ----------\n",
        "  x: array\n",
        "    An array where we want to convert the first element into a string.\n",
        "\n",
        "  Returns\n",
        "  -------\n",
        "  first_elem: str\n",
        "    The first element of the array converted into a string or 'N/A' if the input is not a list.\n",
        "  '''\n",
        "\n",
        "  try:\n",
        "    first_elem = str(x[0])\n",
        "    return first_elem\n",
        "  except:\n",
        "    return 'N/A'\n",
        "\n",
        "def isPolitician(array):\n",
        "  ''' Checking whether the QID for the politician occupation is in array.\n",
        "  \n",
        "  Parameters\n",
        "  ----------\n",
        "  array: array \n",
        "    An array to check whether the QID is in.\n",
        "    \n",
        "  Returns\n",
        "  -------\n",
        "  bool\n",
        "    A boolean telling whether the QID correspond to a polication or not.'''\n",
        "\n",
        "  try:\n",
        "    # Uses harcoded QID for politician == Q82955\n",
        "    if 'Q82955' in array:\n",
        "      return True\n",
        "    else:\n",
        "      return False\n",
        "  except:\n",
        "    return False\n",
        "\n",
        "def dataset_filtered_on_gender_with_alias(gender, wikidata, dataset):\n",
        "  ''' Filtering dataset on gender given the information in Wikidata\n",
        "      Only includes a row if the speaker is not 'None'.\n",
        "  Parameters\n",
        "  ----------\n",
        "  gender: str\n",
        "    A string either 'male' or 'female'.\n",
        "  \n",
        "  wikidata: dataframe\n",
        "    A dataframe containing the Wikidata dataset.\n",
        "\n",
        "  dataset: dataframe\n",
        "    The dataset to filter on gender.\n",
        "\n",
        "  Returns\n",
        "  -------\n",
        "  dataframe\n",
        "    The given dataset filtered on gender.\n",
        "  '''\n",
        "  \n",
        "  if gender == 'male' or gender == 'female':\n",
        "    gender_qid = 'Q6581097' if gender == 'male' else 'Q6581072'\n",
        "    # Converting the gender column to string to be able to check if it equals gender_qid\n",
        "    wikidata['gender'] = wikidata['gender'].apply(lambda x: conv_to_string(x))\n",
        "    wikidata_gender_filtered = wikidata.loc[wikidata['gender'] == gender_qid]\n",
        "\n",
        "  else:\n",
        "    print(\"Invalid gender, the function does only consider binary genders.\")\n",
        "    exit()\n",
        "  \n",
        "  # After filtering on gender, make turn all aliases into 1D list\n",
        "  all_wiki_aliases_gender_filtered = wikidata_gender_filtered['aliases'].tolist()\n",
        "  all_wiki_aliases_gender_filtered = list(deepflatten(all_wiki_aliases_gender_filtered, depth=1))\n",
        "  \n",
        "  # Returning original dataset filtered on the speakers corresponding to a gender\n",
        "  return dataset_filtered_on_aliases(all_wiki_aliases_gender_filtered, dataset)"
      ],
      "metadata": {
        "id": "7AhYDNo9dmYU"
      },
      "execution_count": 10,
      "outputs": []
    },
    {
      "cell_type": "code",
      "source": [
        "# Initializing a sentiment analyzer\n",
        "sent_analyzer = SentimentIntensityAnalyzer()\n",
        "\n",
        "# Testing whether the above-mentioned functions work by creating two dataframes. \n",
        "# 'males' includes only male speakers while 'politicians' includes only speakers that are politicans.\n",
        "df_reader = pd.read_json(path_to_file + 'quotes-2020.json.bz2', lines=True, compression='bz2', chunksize=100000)\n",
        "\n",
        "for chunk in df_reader:\n",
        "  #Adding date, month, and weekday to the df\n",
        "\n",
        "  chunk = add_time(chunk)\n",
        "      \n",
        "  #Calculating compound score with NLTK Vader\n",
        "  chunk['compound'] = chunk['quotation'].apply(lambda x: sent_analyzer.polarity_scores(x)['compound'])\n",
        "\n",
        "  #Computing polarity and subjectivity score with Text Blob\n",
        "  chunk['polarity'] = chunk['quotation'].apply(lambda x: TextBlob(x).sentiment[0])\n",
        "  chunk['subjectivity'] = chunk['quotation'].apply(lambda x: TextBlob(x).sentiment[1])\n",
        "\n",
        "  # Only keeping relevant columns\n",
        "  chunk = chunk[['speaker', 'date_short','compound','polarity','subjectivity','weekday', 'Month']]\n",
        "\n",
        "  males = dataset_filtered_on_gender_with_alias('male', read_wikidata_parquet, chunk)\n",
        "  politicians = dataset_filtered_on_politicians(read_wikidata_parquet, chunk)\n",
        "\n",
        "  # Writing the chunk to a csv file\n",
        "  x = 0\n",
        "  chunk.to_csv(path_or_buf='chunk_output_%d.csv.bz2'%x, compression='bz2', mode = 'a')\n",
        "  males.to_csv(path_or_buf='males_output_%d.csv.bz2'%x, compression='bz2', mode = 'a')\n",
        "  politicians.to_csv(path_or_buf='politicians_output_%d.csv.bz2'%x, compression='bz2', mode = 'a')\n",
        "  break\n",
        "\n"
      ],
      "metadata": {
        "id": "fSOj7NAYdw_P"
      },
      "execution_count": 41,
      "outputs": []
    },
    {
      "cell_type": "code",
      "source": [
        "# Reading all chunk files into one large dataframe\n",
        "df_chunk = pd.read_csv('chunk_output_0.csv.bz2')\n",
        "df_males = pd.read_csv('males_output_0.csv.bz2')\n",
        "df_politicians = pd.read_csv('politicians_output_0.csv.bz2')"
      ],
      "metadata": {
        "id": "GB5ulwCEnTnc"
      },
      "execution_count": 48,
      "outputs": []
    },
    {
      "cell_type": "code",
      "source": [
        "# Converting relevant columns to numeric\n",
        "df_politicians['compound'] = pd.to_numeric(df_politicians.compound, errors='coerce')\n",
        "df_politicians['polarity'] = pd.to_numeric(df_politicians.polarity, errors='coerce')\n",
        "df_politicians['subjectivity'] = pd.to_numeric(df_politicians.subjectivity, errors='coerce')\n",
        "\n",
        "# Sorting column by date\n",
        "df_politicians = df_politicians.sort_values(by=['date_short'])"
      ],
      "metadata": {
        "id": "0zj7ISCHnlZH"
      },
      "execution_count": 52,
      "outputs": []
    },
    {
      "cell_type": "code",
      "source": [
        "df_politicians.head()"
      ],
      "metadata": {
        "colab": {
          "base_uri": "https://localhost:8080/",
          "height": 206
        },
        "id": "j64xQjMxnol0",
        "outputId": "40a422df-0996-4174-9b7b-b97346d96174"
      },
      "execution_count": 53,
      "outputs": [
        {
          "output_type": "execute_result",
          "data": {
            "text/html": [
              "<div>\n",
              "<style scoped>\n",
              "    .dataframe tbody tr th:only-of-type {\n",
              "        vertical-align: middle;\n",
              "    }\n",
              "\n",
              "    .dataframe tbody tr th {\n",
              "        vertical-align: top;\n",
              "    }\n",
              "\n",
              "    .dataframe thead th {\n",
              "        text-align: right;\n",
              "    }\n",
              "</style>\n",
              "<table border=\"1\" class=\"dataframe\">\n",
              "  <thead>\n",
              "    <tr style=\"text-align: right;\">\n",
              "      <th></th>\n",
              "      <th>Unnamed: 0</th>\n",
              "      <th>speaker</th>\n",
              "      <th>date_short</th>\n",
              "      <th>compound</th>\n",
              "      <th>polarity</th>\n",
              "      <th>subjectivity</th>\n",
              "      <th>weekday</th>\n",
              "      <th>Month</th>\n",
              "    </tr>\n",
              "  </thead>\n",
              "  <tbody>\n",
              "    <tr>\n",
              "      <th>661</th>\n",
              "      <td>20039</td>\n",
              "      <td>Bill O'Brien</td>\n",
              "      <td>2020-01-01</td>\n",
              "      <td>0.0000</td>\n",
              "      <td>0.00000</td>\n",
              "      <td>0.000</td>\n",
              "      <td>Wednesday</td>\n",
              "      <td>January</td>\n",
              "    </tr>\n",
              "    <tr>\n",
              "      <th>2675</th>\n",
              "      <td>82006</td>\n",
              "      <td>Recep Tayyip Erdogan</td>\n",
              "      <td>2020-01-01</td>\n",
              "      <td>0.3612</td>\n",
              "      <td>0.00000</td>\n",
              "      <td>0.000</td>\n",
              "      <td>Wednesday</td>\n",
              "      <td>January</td>\n",
              "    </tr>\n",
              "    <tr>\n",
              "      <th>1830</th>\n",
              "      <td>54851</td>\n",
              "      <td>Robert Bruce</td>\n",
              "      <td>2020-01-01</td>\n",
              "      <td>-0.4019</td>\n",
              "      <td>-0.80000</td>\n",
              "      <td>0.900</td>\n",
              "      <td>Wednesday</td>\n",
              "      <td>January</td>\n",
              "    </tr>\n",
              "    <tr>\n",
              "      <th>2688</th>\n",
              "      <td>82482</td>\n",
              "      <td>John Stuart</td>\n",
              "      <td>2020-01-01</td>\n",
              "      <td>-0.7003</td>\n",
              "      <td>-0.19375</td>\n",
              "      <td>0.675</td>\n",
              "      <td>Wednesday</td>\n",
              "      <td>January</td>\n",
              "    </tr>\n",
              "    <tr>\n",
              "      <th>680</th>\n",
              "      <td>20470</td>\n",
              "      <td>President Donald Trump</td>\n",
              "      <td>2020-01-01</td>\n",
              "      <td>0.0000</td>\n",
              "      <td>0.00000</td>\n",
              "      <td>0.000</td>\n",
              "      <td>Wednesday</td>\n",
              "      <td>January</td>\n",
              "    </tr>\n",
              "  </tbody>\n",
              "</table>\n",
              "</div>"
            ],
            "text/plain": [
              "      Unnamed: 0                 speaker  ...    weekday    Month\n",
              "661        20039            Bill O'Brien  ...  Wednesday  January\n",
              "2675       82006    Recep Tayyip Erdogan  ...  Wednesday  January\n",
              "1830       54851            Robert Bruce  ...  Wednesday  January\n",
              "2688       82482             John Stuart  ...  Wednesday  January\n",
              "680        20470  President Donald Trump  ...  Wednesday  January\n",
              "\n",
              "[5 rows x 8 columns]"
            ]
          },
          "metadata": {},
          "execution_count": 53
        }
      ]
    },
    {
      "cell_type": "code",
      "source": [
        "fig, ax = plt.subplots(1,1, figsize = (16,4))\n",
        "ax.hist(chunk['compound'], 101)\n",
        "ax.set_title('Distribution of compound sentiment scores') \n",
        "ax.set_xlabel('Compound sentiment score')\n",
        "ax.set_ylabel('Frequency')\n",
        "ax.set_yscale('log')\n",
        "plt.show()"
      ],
      "metadata": {
        "colab": {
          "base_uri": "https://localhost:8080/",
          "height": 301
        },
        "id": "WA-EbsonjiDH",
        "outputId": "17a21f07-25b6-41a8-8d5a-6ca8e79d00f4"
      },
      "execution_count": 54,
      "outputs": [
        {
          "output_type": "display_data",
          "data": {
            "image/png": "[encoded data removed]",
            "text/plain": [
              "<Figure size 1152x288 with 1 Axes>"
            ]
          },
          "metadata": {}
        }
      ]
    },
    {
      "cell_type": "code",
      "source": [
        "fig, ax = plt.subplots(1,1, figsize = (16,4))\n",
        "ax.hist(politicians['compound'], 101)\n",
        "ax.set_title('Distribution of compound sentiment scores for politicians') \n",
        "ax.set_xlabel('Compound sentiment score')\n",
        "ax.set_ylabel('Frequency')\n",
        "ax.set_yscale('log')\n",
        "plt.show()"
      ],
      "metadata": {
        "colab": {
          "base_uri": "https://localhost:8080/",
          "height": 301
        },
        "id": "IM2K7I3YlM5k",
        "outputId": "e9ab9e99-0f19-4b27-a8e4-b69612bdd9b1"
      },
      "execution_count": 37,
      "outputs": [
        {
          "output_type": "display_data",
          "data": {
            "image/png": "[encoded data removed]",
            "text/plain": [
              "<Figure size 1152x288 with 1 Axes>"
            ]
          },
          "metadata": {}
        }
      ]
    },
    {
      "cell_type": "code",
      "source": [
        "t, p = stats.ttest_ind(df_chunk['compound'], df_politicians['compound'])\n",
        "print(\"Two sided paired t-test with null hypothesis: The mean mood for politicians is the same as the mean mood for the overall.\")\n",
        "print(f\"t-value: {round(t, 4)}, p-value: {round(p, 4)}\")"
      ],
      "metadata": {
        "colab": {
          "base_uri": "https://localhost:8080/"
        },
        "id": "omVNKARKqNkY",
        "outputId": "7959ee58-b28f-4bca-a5df-d7848ef1f443"
      },
      "execution_count": 56,
      "outputs": [
        {
          "output_type": "stream",
          "name": "stdout",
          "text": [
            "Two sided paired t-test with null hypothesis: The mean mood for politicians is the same as the mean mood for the overall.\n",
            "t-value: 3.5517, p-value: 0.0004\n"
          ]
        }
      ]
    },
    {
      "cell_type": "code",
      "source": [
        ""
      ],
      "metadata": {
        "id": "a46mV9VYlpTP"
      },
      "execution_count": null,
      "outputs": []
    }
  ],
  "metadata": {
    "interpreter": {
      "hash": "ad4c0613312704d8cc10c140de42faceef6d81b6d49a9f4d806a60569ce36c6e"
    },
    "kernelspec": {
      "display_name": "Python 3 (ipykernel)",
      "language": "python",
      "name": "python3"
    },
    "language_info": {
      "codemirror_mode": {
        "name": "ipython",
        "version": 3
      },
      "file_extension": ".py",
      "mimetype": "text/x-python",
      "name": "python",
      "nbconvert_exporter": "python",
      "pygments_lexer": "ipython3",
      "version": "3.8.12"
    },
    "colab": {
      "name": "marcus.ipynb",
      "provenance": [],
      "collapsed_sections": []
    }
  },
  "nbformat": 4,
  "nbformat_minor": 0
}