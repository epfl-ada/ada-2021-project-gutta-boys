{
  "cells": [
    {
      "cell_type": "markdown",
      "metadata": {
        "id": "MS8eYlHJQwPM"
      },
      "source": [
        "# Initial Analyses and Data Handling\n",
        "\n",
        "In this notebook, we are loading, cleaning, and doing initial processing and analysis of the Quotebank datasets from 2015 to 2020.\n",
        "The notebook consists of the following:\n",
        "- Data cleaning\n",
        "- Descriptive statistics and plotting\n",
        "- Handling of additional datasets\n",
        "- Initial sentiment analysis\n",
        "- Description and mathematical outline of methods"
      ]
    },
    {
      "cell_type": "markdown",
      "metadata": {
        "id": "rRZ45uNiGRCf"
      },
      "source": [
        "## Installing and Mounting"
      ]
    },
    {
      "cell_type": "code",
      "execution_count": 1,
      "metadata": {
        "colab": {
          "base_uri": "https://localhost:8080/"
        },
        "id": "Hrqg9snrPmAq",
        "outputId": "b5d174d3-dbbf-4ffc-9547-0ca90d378de9"
      },
      "outputs": [
        {
          "name": "stdout",
          "output_type": "stream",
          "text": [
            "Mounted at /content/drive\n"
          ]
        }
      ],
      "source": [
        "# Mounting of Google Drive to access the datasets\n",
        "\n",
        "from google.colab import drive\n",
        "drive.mount('/content/drive') "
      ]
    },
    {
      "cell_type": "markdown",
      "metadata": {
        "id": "O6N39aZeOAss"
      },
      "source": [
        "Installing necessary libraries"
      ]
    },
    {
      "cell_type": "code",
      "execution_count": 2,
      "metadata": {
        "colab": {
          "base_uri": "https://localhost:8080/",
          "height": 358
        },
        "id": "PczO36mGwRbL",
        "outputId": "bb825427-7a5d-4503-cfc4-2aa149b615f2"
      },
      "outputs": [
        {
          "name": "stdout",
          "output_type": "stream",
          "text": [
            "Collecting pandas==1.0.5\n",
            "  Downloading pandas-1.0.5-cp37-cp37m-manylinux1_x86_64.whl (10.1 MB)\n",
            "\u001b[K     |████████████████████████████████| 10.1 MB 6.3 MB/s \n",
            "\u001b[?25hRequirement already satisfied: pytz>=2017.2 in /usr/local/lib/python3.7/dist-packages (from pandas==1.0.5) (2018.9)\n",
            "Requirement already satisfied: numpy>=1.13.3 in /usr/local/lib/python3.7/dist-packages (from pandas==1.0.5) (1.19.5)\n",
            "Requirement already satisfied: python-dateutil>=2.6.1 in /usr/local/lib/python3.7/dist-packages (from pandas==1.0.5) (2.8.2)\n",
            "Requirement already satisfied: six>=1.5 in /usr/local/lib/python3.7/dist-packages (from python-dateutil>=2.6.1->pandas==1.0.5) (1.15.0)\n",
            "Installing collected packages: pandas\n",
            "  Attempting uninstall: pandas\n",
            "    Found existing installation: pandas 1.1.5\n",
            "    Uninstalling pandas-1.1.5:\n",
            "      Successfully uninstalled pandas-1.1.5\n",
            "\u001b[31mERROR: pip's dependency resolver does not currently take into account all the packages that are installed. This behaviour is the source of the following dependency conflicts.\n",
            "google-colab 1.0.0 requires pandas~=1.1.0; python_version >= \"3.0\", but you have pandas 1.0.5 which is incompatible.\u001b[0m\n",
            "Successfully installed pandas-1.0.5\n"
          ]
        },
        {
          "data": {
            "application/vnd.colab-display-data+json": {
              "pip_warning": {
                "packages": [
                  "pandas"
                ]
              }
            }
          },
          "metadata": {},
          "output_type": "display_data"
        }
      ],
      "source": [
        "pip install pandas==1.0.5"
      ]
    },
    {
      "cell_type": "code",
      "execution_count": null,
      "metadata": {
        "colab": {
          "base_uri": "https://localhost:8080/"
        },
        "id": "IfBl5LMrwVFZ",
        "outputId": "d46b6162-7751-4b53-aff6-633d2b0109c7"
      },
      "outputs": [
        {
          "name": "stdout",
          "output_type": "stream",
          "text": [
            "Requirement already satisfied: pyarrow in /usr/local/lib/python3.7/dist-packages (3.0.0)\n",
            "Requirement already satisfied: numpy>=1.16.6 in /usr/local/lib/python3.7/dist-packages (from pyarrow) (1.19.5)\n"
          ]
        }
      ],
      "source": [
        "pip install pyarrow"
      ]
    },
    {
      "cell_type": "code",
      "execution_count": null,
      "metadata": {
        "colab": {
          "base_uri": "https://localhost:8080/"
        },
        "id": "yXS7GVFawWZJ",
        "outputId": "0b327e70-a616-4f3d-8962-b02a9221eda0"
      },
      "outputs": [
        {
          "name": "stdout",
          "output_type": "stream",
          "text": [
            "Requirement already satisfied: nltk in /usr/local/lib/python3.7/dist-packages (3.2.5)\n",
            "Requirement already satisfied: six in /usr/local/lib/python3.7/dist-packages (from nltk) (1.15.0)\n"
          ]
        }
      ],
      "source": [
        "pip install nltk"
      ]
    },
    {
      "cell_type": "code",
      "execution_count": 1,
      "metadata": {
        "colab": {
          "base_uri": "https://localhost:8080/"
        },
        "id": "apa06e25wXf1",
        "outputId": "665b535e-b5b6-42f8-8c5a-e4adc9696dfc"
      },
      "outputs": [
        {
          "name": "stdout",
          "output_type": "stream",
          "text": [
            "Collecting iteration_utilities\n",
            "  Downloading iteration_utilities-0.11.0-cp37-cp37m-manylinux2014_x86_64.whl (283 kB)\n",
            "\u001b[?25l\r\u001b[K     |█▏                              | 10 kB 23.5 MB/s eta 0:00:01\r\u001b[K     |██▎                             | 20 kB 29.9 MB/s eta 0:00:01\r\u001b[K     |███▌                            | 30 kB 26.3 MB/s eta 0:00:01\r\u001b[K     |████▋                           | 40 kB 18.2 MB/s eta 0:00:01\r\u001b[K     |█████▊                          | 51 kB 8.4 MB/s eta 0:00:01\r\u001b[K     |███████                         | 61 kB 8.7 MB/s eta 0:00:01\r\u001b[K     |████████                        | 71 kB 7.4 MB/s eta 0:00:01\r\u001b[K     |█████████▎                      | 81 kB 8.3 MB/s eta 0:00:01\r\u001b[K     |██████████▍                     | 92 kB 8.5 MB/s eta 0:00:01\r\u001b[K     |███████████▌                    | 102 kB 7.7 MB/s eta 0:00:01\r\u001b[K     |████████████▊                   | 112 kB 7.7 MB/s eta 0:00:01\r\u001b[K     |█████████████▉                  | 122 kB 7.7 MB/s eta 0:00:01\r\u001b[K     |███████████████                 | 133 kB 7.7 MB/s eta 0:00:01\r\u001b[K     |████████████████▏               | 143 kB 7.7 MB/s eta 0:00:01\r\u001b[K     |█████████████████▎              | 153 kB 7.7 MB/s eta 0:00:01\r\u001b[K     |██████████████████▌             | 163 kB 7.7 MB/s eta 0:00:01\r\u001b[K     |███████████████████▋            | 174 kB 7.7 MB/s eta 0:00:01\r\u001b[K     |████████████████████▉           | 184 kB 7.7 MB/s eta 0:00:01\r\u001b[K     |██████████████████████          | 194 kB 7.7 MB/s eta 0:00:01\r\u001b[K     |███████████████████████         | 204 kB 7.7 MB/s eta 0:00:01\r\u001b[K     |████████████████████████▎       | 215 kB 7.7 MB/s eta 0:00:01\r\u001b[K     |█████████████████████████▍      | 225 kB 7.7 MB/s eta 0:00:01\r\u001b[K     |██████████████████████████▋     | 235 kB 7.7 MB/s eta 0:00:01\r\u001b[K     |███████████████████████████▊    | 245 kB 7.7 MB/s eta 0:00:01\r\u001b[K     |████████████████████████████▉   | 256 kB 7.7 MB/s eta 0:00:01\r\u001b[K     |██████████████████████████████  | 266 kB 7.7 MB/s eta 0:00:01\r\u001b[K     |███████████████████████████████▏| 276 kB 7.7 MB/s eta 0:00:01\r\u001b[K     |████████████████████████████████| 283 kB 7.7 MB/s \n",
            "\u001b[?25hInstalling collected packages: iteration-utilities\n",
            "Successfully installed iteration-utilities-0.11.0\n"
          ]
        }
      ],
      "source": [
        "pip install iteration_utilities"
      ]
    },
    {
      "cell_type": "markdown",
      "metadata": {
        "id": "LmQY4u0dqfUI"
      },
      "source": [
        "## Imports"
      ]
    },
    {
      "cell_type": "code",
      "execution_count": 2,
      "metadata": {
        "colab": {
          "base_uri": "https://localhost:8080/"
        },
        "id": "pae7OPwt3OF6",
        "outputId": "34989c5e-d46d-456d-ef5e-cb3d4c437ef7"
      },
      "outputs": [
        {
          "name": "stderr",
          "output_type": "stream",
          "text": [
            "/usr/local/lib/python3.7/dist-packages/nltk/twitter/__init__.py:20: UserWarning: The twython library has not been installed. Some functionality from the twitter package will not be available.\n",
            "  warnings.warn(\"The twython library has not been installed. \"\n"
          ]
        },
        {
          "name": "stdout",
          "output_type": "stream",
          "text": [
            "[nltk_data] Downloading package vader_lexicon to /root/nltk_data...\n"
          ]
        }
      ],
      "source": [
        "import pandas as pd\n",
        "import seaborn as sns\n",
        "from IPython.display import display, HTML\n",
        "import matplotlib.pyplot as plt\n",
        "import scipy.stats as stats\n",
        "import numpy as np\n",
        "import nltk as nltk\n",
        "import pyarrow\n",
        "import bz2\n",
        "import json\n",
        "import datetime\n",
        "from iteration_utilities import deepflatten\n",
        "import nltk as nltk\n",
        "import scipy.stats as stats\n",
        "from nltk.sentiment.vader import SentimentIntensityAnalyzer\n",
        "nltk.download('vader_lexicon')\n",
        "pd.options.mode.chained_assignment = None"
      ]
    },
    {
      "cell_type": "markdown",
      "metadata": {
        "id": "F2P8GD-HubWU"
      },
      "source": [
        "## Datapaths"
      ]
    },
    {
      "cell_type": "code",
      "execution_count": 3,
      "metadata": {
        "id": "99-HiJ42uakK"
      },
      "outputs": [],
      "source": [
        "path_to_file = '/content/drive/MyDrive/Quotebank/'\n",
        "\n",
        "files_pre_cleaning = ['quotes-2015.json.bz2','quotes-2016.json.bz2','quotes-2017.json.bz2',\n",
        "                  'quotes-2018.json.bz2','quotes-2019.json.bz2','quotes-2020.json.bz2']\n",
        "\n",
        "files_cleaned = ['clean-quotes-2015.csv.bz2','clean-quotes-2016.csv.bz2','clean-quotes-2017.csv.bz2',\n",
        "                  'clean-quotes-2018.csv.bz2','clean-quotes-2019.csv.bz2','clean-quotes-2020.csv.bz2']\n",
        "\n",
        "path_to_wikidata_file = '/content/drive/MyDrive/Project datasets/speaker_attributes.parquet'"
      ]
    },
    {
      "cell_type": "markdown",
      "metadata": {
        "id": "3gulqX-_X2p5"
      },
      "source": [
        "## Data Cleaning\n"
      ]
    },
    {
      "cell_type": "markdown",
      "metadata": {
        "id": "7roM2kHDGyRz"
      },
      "source": [
        "*In this part of the notebook, we do the necessary data cleaning for the project:*\n",
        " - Dropping rows with `NaN` or `None` values in the column `quotation`.\n",
        " - Dropping columns not related to our project to reduce the file size. We will remove the columns `quoteID` and `phase`. We know that all quotes in the Quotebank datasets from 2015 to 2020 are from \"phase E\". We do therefore consider these values as irrelevant.\n",
        " - Saving the cleaned data to avoid having to rerun the clean function. Due to issues with mounting to the EPFL drive on the deadline day, the rest of the analysis is run on the non-cleaned version of the dataset. In milestone 3, we plan to run it on the cleaned dataset.\n",
        "\n",
        "*In addition to the cleaning described over, we want to highlight and discuss some findings from inspecting the data on the Quotebank website:*\n",
        "\n",
        "- Some quotes are not in English. We choose not to remove these for two reasons: 1) They will not drastically affect our analysis, as they will probably be considered neutral. This is because the Vader lexicon we use for sentiment analysis does not include support for foreign languages. 2) It is hard to detect which quotes are in other languages, and it demands more work than reward.\n",
        "- Some quotes are repetitive, e.g., \"Yes, yes, yes, yes, yes, yes\". As our sentiment analysis will give standardized results in the range `[-1, 1]`, these quotes will not be a problem for our analysis. It could also be argued that a quote of five \"yes\" should be considered more positive than a quote containing one \"yes\".\n",
        "- Some of the quotes have `None` as the most probable speaker. When analyzing subsets of the data, this is something we have to consider. However, when analyzing the entire dataset, without looking at the speaker, this will not be a problem. We will, therefore, not do anything with this in the initial cleaning."
      ]
    },
    {
      "cell_type": "code",
      "execution_count": null,
      "metadata": {
        "id": "CeBA4LR23Bfy"
      },
      "outputs": [],
      "source": [
        "def clean_data(chunk):\n",
        "  ''' Cleaning a chunk of the data set by replacing 'None' values with NaN and dropping columns that will not be used in the project.\n",
        "\n",
        "  Parameters\n",
        "  ----------\n",
        "  chunk: dataframe\n",
        "    An uncleaned chunk of the data set.\n",
        "\n",
        "  Returns\n",
        "  -------\n",
        "  chunk: dataframe\n",
        "    A cleaned version of the chunk.\n",
        "  '''\n",
        "\n",
        "  # Replacing quotes of None with NaN values\n",
        "  chunk['quotation'] = chunk['quotation'].replace('None', np.nan)\n",
        "\n",
        "  # Dropping NaN values\n",
        "  chunk = chunk.dropna(axis=0, subset=['quotation'])\n",
        "\n",
        "  # Dropping column 'quoteID' and 'phase' to reduce filesize\n",
        "  chunk = chunk.drop(axis=1, columns = 'quoteID')\n",
        "  chunk = chunk.drop(axis=1, columns = 'phase')\n",
        "  \n",
        "  return chunk\n",
        "\n",
        "\n",
        "# Reading and cleaning the data set in chunks and stores the cleaned data in compressed csv files\n",
        "for x in range(len(files_pre_cleaning)):\n",
        "  df_reader = pd.read_json(path_to_file + files_pre_cleaning[x], lines=True, compression='bz2', chunksize=500000)\n",
        "  for chunk in df_reader:\n",
        "      cleaned_chunk = clean_data(chunk)\n",
        "      \n",
        "      filename = files_cleaned[x]\n",
        "      cleaned_chunk.to_csv(path_or_buf='/content/drive/MyDrive/CleanData/' + filename, compression='bz2', mode = 'a')\n",
        "\n",
        "  print(f'Cleaned {files_pre_cleaning[x]}')\n"
      ]
    },
    {
      "cell_type": "markdown",
      "metadata": {
        "id": "Hr220vHP1axo"
      },
      "source": [
        "- Due to some issues with mounting of the EPFL drive on the deadline day, the rest of the analysis is ran on the non-cleaned version of the dataset. In milestone 3, we plan to run it on the cleaned dataset"
      ]
    },
    {
      "cell_type": "markdown",
      "metadata": {
        "id": "uzp_aWZdvirm"
      },
      "source": [
        "# Describing the Data\n",
        "\n",
        "Initially, we inspect the data, calculate descriptive statistics and visualize distributions. This analysis helps us detect errors and understand the data. "
      ]
    },
    {
      "cell_type": "markdown",
      "metadata": {
        "id": "HOQPVMAdG2QZ"
      },
      "source": [
        "## Helper Functions"
      ]
    },
    {
      "cell_type": "markdown",
      "metadata": {
        "id": "u24RX36Cbg8I"
      },
      "source": [
        "Functions for dealing with date and time"
      ]
    },
    {
      "cell_type": "code",
      "execution_count": 5,
      "metadata": {
        "id": "j3waxn703cST"
      },
      "outputs": [],
      "source": [
        "def weekday_number(date):\n",
        "  ''' Returning the weekday number of a date, e.g., 0 for Mondays.\n",
        "\n",
        "  Parameters\n",
        "  ----------\n",
        "  date: datetime\n",
        "    A datetime for which to find the weekday number.\n",
        "\n",
        "  Returns\n",
        "  -------\n",
        "  weekday_number: int\n",
        "    The weekday number of the date.\n",
        "  '''\n",
        "\n",
        "  weekday_number = date.weekday()\n",
        "  return weekday_number\n",
        "\n",
        "\n",
        "def weekday(date):\n",
        "  ''' Returning the name of the weekday for a date.\n",
        "\n",
        "  Parameters\n",
        "  ----------\n",
        "  date: datetime\n",
        "    A datetime for which to find the weekday.\n",
        "\n",
        "  Returns\n",
        "  -------\n",
        "  weekday: str\n",
        "    The weekday of the date.\n",
        "  '''\n",
        "  \n",
        "  day_number = date.weekday()\n",
        "  week_days = [\"Monday\", \"Tuesday\", \"Wednesday\", \"Thursday\", \"Friday\", \"Saturday\", \"Sunday\"]\n",
        "  weekday = week_days[day_number]\n",
        "  return weekday\n",
        "\n",
        "\n",
        "def week(date):\n",
        "  ''' Returning the week number of a date.\n",
        "\n",
        "  Parameters\n",
        "  ----------\n",
        "  date: datetime\n",
        "    A datetime for which to find the weekday.\n",
        "\n",
        "  Returns\n",
        "  -------\n",
        "  week_number: int\n",
        "    The week number of the date.\n",
        "  '''\n",
        "\n",
        "  week_number = date.week()\n",
        "  return week_number\n",
        "\n",
        "\n",
        "def month(date):\n",
        "  ''' Returning the month name of date.\n",
        "\n",
        "  Parameters\n",
        "  ----------\n",
        "  date: datetime\n",
        "    A date for which to find the month name.\n",
        "\n",
        "  Returns\n",
        "  -------\n",
        "  name_month: str\n",
        "    The name of the month.\n",
        "  '''\n",
        "  name_month = date.month_name()\n",
        "  return name_month\n",
        "\n",
        "\n",
        "def add_time(chunk):\n",
        "  ''' Adding columns for weekday, weekday number and month name to a chunk.\n",
        "\n",
        "  Parameters\n",
        "  ----------\n",
        "  chunk: dataframe\n",
        "    The chunk for which to add date information.\n",
        "\n",
        "  Returns\n",
        "  -------\n",
        "  chunk: dataframe\n",
        "    The chunk with date information.\n",
        "  '''\n",
        "\n",
        "  chunk['weekday'] = chunk['date'].apply(lambda x: weekday(x))\n",
        "  chunk['weekday_number'] = chunk['date'].apply(lambda x: weekday_number(x))  \n",
        "  chunk['Month'] =  chunk['date'].apply(lambda x: month(x))\n",
        "  chunk['date_short'] = pd.to_datetime(chunk['date']).dt.date\n",
        "  return chunk\n"
      ]
    },
    {
      "cell_type": "markdown",
      "metadata": {
        "id": "jRp6Hgp2Ol8K"
      },
      "source": [
        "Helper functions for dealing with dictionaries"
      ]
    },
    {
      "cell_type": "code",
      "execution_count": null,
      "metadata": {
        "id": "wk-KXrwP8UZq"
      },
      "outputs": [],
      "source": [
        "def add_dict(key, dictionary):\n",
        "  ''' Incrementing the value of a key in a dictionary.\n",
        "  \n",
        "  Parameters\n",
        "  ----------\n",
        "  key: object\n",
        "    The key for which to increment the value.\n",
        "  \n",
        "  dictionary: dict\n",
        "    A dictionary in which we are incrementing the value of the key, or adding the key if not already present.\n",
        "\n",
        "  Returns\n",
        "  -------\n",
        "  dictionary: dict\n",
        "    The given dictionary after incrementing the value.\n",
        "  '''\n",
        "  \n",
        "  if key in dictionary:\n",
        "    dictionary[key] += 1\n",
        "  else:\n",
        "    dictionary[key] = 1\n",
        "  return dictionary\n",
        "\n",
        "\n",
        "def to_dict(dictionary, chunk_column):\n",
        "  ''' Making a column of a dataframe into a dictionary, e.g., making a dictionary where weekdays are keys,\n",
        "  and the values are the number of occurences of the key in the key.\n",
        "  \n",
        "  Parameters\n",
        "  ----------\n",
        "  dictionary: dict\n",
        "    An initalized dictionary, either containing some preset keys or empty.\n",
        "  \n",
        "  chunk_column: series\n",
        "    A series containing a column of a dataframe.\n",
        "\n",
        "  Returns\n",
        "  -------\n",
        "  dictionary: dict\n",
        "    A dictionary containing the desired values and keys as descripted.\n",
        "  '''\n",
        "\n",
        "  chunk_column.apply(lambda x: add_dict(x, dictionary))\n",
        "  return dictionary\n",
        "\n"
      ]
    },
    {
      "cell_type": "markdown",
      "metadata": {
        "id": "m-wzstg7xLhz"
      },
      "source": [
        "Functions for extracting media information"
      ]
    },
    {
      "cell_type": "code",
      "execution_count": 12,
      "metadata": {
        "id": "IZYaE_7N-Dhh"
      },
      "outputs": [],
      "source": [
        "def find_media(url, medias_list):\n",
        "  ''' Returning the media outlet where the quote is found, \n",
        "  but only if the outlet is present in medias_list.\n",
        "  \n",
        "  Parameters\n",
        "  ----------\n",
        "  url: array\n",
        "    An entry in the column 'urls' of the Quotebank dataset, where the first value is the first source where the quote was found.\n",
        "  \n",
        "  medias_list: array\n",
        "    An array containing some chosen media outlets, e.g., 'nytimes'.\n",
        "  \n",
        "  Returns\n",
        "  -------\n",
        "  media: str\n",
        "    The first entry in url if its present in medias_list.\n",
        "  '''\n",
        "\n",
        "  for string in medias_list:\n",
        "    url_string = str(url[0])\n",
        "    if string in url_string:\n",
        "      media = string\n",
        "      return media\n",
        "\n",
        "\n",
        "def get_media(chunk, medias_list):\n",
        "  ''' Adding column with the media outlet where the quote is first found, \n",
        "  but only if the outlet is present in medias_list.\n",
        "  \n",
        "  Parameters\n",
        "  ----------\n",
        "  chunk: dataframe  \n",
        "    A chunk of the Quotebank dataset.\n",
        "\n",
        "  medias_list: array\n",
        "    An array containing some chosen media outlets represented as strings, e.g., 'nytimes'.\n",
        "\n",
        "  Returns\n",
        "  -------\n",
        "  chunk: dataframe\n",
        "    The given chunk of the dataset, now containing a column 'media_outlet' \n",
        "    keeping the media where the quote was first found.\n",
        "  '''\n",
        "\n",
        "  chunk['media_outlet'] = chunk['urls'].apply(lambda x: find_media(x, medias_list))\n",
        "  return chunk\n"
      ]
    },
    {
      "cell_type": "markdown",
      "metadata": {
        "id": "ManMn8Y8Te-N"
      },
      "source": [
        "Functions for descriptive statistics"
      ]
    },
    {
      "cell_type": "code",
      "execution_count": null,
      "metadata": {
        "id": "ZBfgYwEcvKng"
      },
      "outputs": [],
      "source": [
        "def occurences_stats(chunk):\n",
        "  ''' Returning the median and 75-th percentile of 'numOccurences' for the given chunk.\n",
        "  \n",
        "  Parameters\n",
        "  ----------\n",
        "  chunk: dataframe\n",
        "    The dataframe keeping a chunk of the dataset.\n",
        "  \n",
        "  Returns\n",
        "  -------\n",
        "  chunk_stats: array\n",
        "    An array containing the median and the 75-th percentile.\n",
        "  '''\n",
        "  \n",
        "  median = chunk.numOccurrences.describe()['50%']\n",
        "  third_quartile = chunk.numOccurrences.describe()['75%']\n",
        "  chunk_stats = [median, third_quartile]\n",
        "  return chunk_stats\n",
        "\n",
        "\n",
        "def stats_entire_dataset(occurence_stats_list):\n",
        "  ''' Aggregating and printing statistics on numOccurences for the entire data set based upon the values in occurence_stats_list.\n",
        "  \n",
        "  Parameters\n",
        "  ----------\n",
        "  occurence_stats_list: array\n",
        "    A 2D-array containing inner arrays with median and 75th percentile for each chunk of the dataset.   \n",
        "  '''\n",
        "\n",
        "  avg_median = 0\n",
        "  avg_75th = 0\n",
        "  for element in occurence_stats_list:\n",
        "    avg_median += element[0]\n",
        "    avg_75th += element[1]\n",
        "  avg_median = avg_median/len(occurence_stats_list)\n",
        "  avg_75th = avg_75th/len(occurence_stats_list)\n",
        "\n",
        "  print(f'Average of median for each chunk for numOccurences: {round(avg_median, 2)}')\n",
        "  print(f'Average 75th quantile for each chunk for  numOccurences: {round(avg_75th, 2)}')\n",
        "\n",
        "\n",
        "def add_length(chunk):\n",
        "  ''' Helper function adding the length of each quote to a new column.\n",
        "  \n",
        "  Parameters\n",
        "  ----------\n",
        "  chunk: dataframe\n",
        "    A chunk of the dataset.\n",
        "    \n",
        "  Returns\n",
        "  -------\n",
        "  chunk: dataframe\n",
        "    The given chunk containing a 'len_quote' column.\n",
        "  '''\n",
        "\n",
        "  chunk['len_quote'] = chunk['quotation'].apply(lambda x: len(str(x)))\n",
        "  return chunk"
      ]
    },
    {
      "cell_type": "markdown",
      "metadata": {
        "id": "9qVIR8Q2HeSf"
      },
      "source": [
        "## Exploratory Data Analysis"
      ]
    },
    {
      "cell_type": "markdown",
      "metadata": {
        "id": "GG7msi_EbcOT"
      },
      "source": [
        "Plotting the distribution of the length of quotes and number of occurences for one chunk of size 200 000 from the 2020 dataset"
      ]
    },
    {
      "cell_type": "code",
      "execution_count": null,
      "metadata": {
        "colab": {
          "base_uri": "https://localhost:8080/",
          "height": 621
        },
        "id": "Lexu-awjW7Gl",
        "outputId": "638a47e6-9434-48a8-cd5c-048110624201"
      },
      "outputs": [
        {
          "data": {
            "image/png": "[encoded data removed]",
            "text/plain": [
              "<Figure size 1008x720 with 2 Axes>"
            ]
          },
          "metadata": {
            "needs_background": "light"
          },
          "output_type": "display_data"
        }
      ],
      "source": [
        "# Loading one chunk of size 200 000 from the 2020 dataset.\n",
        "df_reader = pd.read_json(path_to_file + 'quotes-2020.json.bz2', lines=True, compression='bz2', chunksize=200000)\n",
        "for chunk in df_reader:\n",
        "  break\n",
        "\n",
        "# Adding a 'len_quote' column to the chunk\n",
        "chunk = add_length(chunk)\n",
        "\n",
        "# Plotting the distribution of 'len_quote' and 'numOccurences' for visual inspection\n",
        "fix, ax = plt.subplots(2,1, figsize=(14,10))\n",
        "\n",
        "ax[0].hist(chunk.len_quote, bins=100)\n",
        "ax[0].set_title(\"Length of quotes\")\n",
        "ax[0].set_xlabel(\"Number of signs\")\n",
        "ax[0].set_ylabel(\"Frequency\")\n",
        "ax[0].set_yscale('log')\n",
        "\n",
        "ax[1].hist(chunk.numOccurrences, bins=100)\n",
        "ax[1].set_title(\"Number of occurences of quotes\")\n",
        "ax[1].set_xlabel(\"Number of occurences\")\n",
        "ax[1].set_ylabel(\"Frequency\")\n",
        "ax[1].set_yscale('log')\n",
        "\n",
        "plt.show()\n"
      ]
    },
    {
      "cell_type": "markdown",
      "metadata": {
        "id": "06sSPwZRaspQ"
      },
      "source": [
        "- The plots show that the length of quotes and the number of occurrences follow a heavy-tailed distribution. We keep this in mind when reporting descriptive statistics.\n",
        "- We observe outliers in the form of long quotes. We do not remove these as we do not think they will affect our sentiment analysis. In addition, we have no reason to claim they are wrong, even though it could be reasoned that 2000+ sign quotes may result from misclassification from the Quotebank algorithm. \n",
        "- For the number of occurrences, we see that most quotes are quoted a few times, but some are repeated many times. This is important for our sentiment analysis since the quotation sentiment should be scaled by the number of occurrences to reflect the total sentiment in the media correctly."
      ]
    },
    {
      "cell_type": "code",
      "execution_count": null,
      "metadata": {
        "colab": {
          "base_uri": "https://localhost:8080/",
          "height": 357
        },
        "id": "XtqBGb5Bk1X5",
        "outputId": "bc356bf6-f2c7-483c-d14d-1e454ad88141"
      },
      "outputs": [
        {
          "data": {
            "text/html": [
              "<div>\n",
              "<style scoped>\n",
              "    .dataframe tbody tr th:only-of-type {\n",
              "        vertical-align: middle;\n",
              "    }\n",
              "\n",
              "    .dataframe tbody tr th {\n",
              "        vertical-align: top;\n",
              "    }\n",
              "\n",
              "    .dataframe thead th {\n",
              "        text-align: right;\n",
              "    }\n",
              "</style>\n",
              "<table border=\"1\" class=\"dataframe\">\n",
              "  <thead>\n",
              "    <tr style=\"text-align: right;\">\n",
              "      <th></th>\n",
              "      <th>quoteID</th>\n",
              "      <th>quotation</th>\n",
              "      <th>speaker</th>\n",
              "      <th>qids</th>\n",
              "      <th>date</th>\n",
              "      <th>numOccurrences</th>\n",
              "      <th>probas</th>\n",
              "      <th>urls</th>\n",
              "      <th>phase</th>\n",
              "      <th>len_quote</th>\n",
              "    </tr>\n",
              "  </thead>\n",
              "  <tbody>\n",
              "    <tr>\n",
              "      <th>0</th>\n",
              "      <td>2020-01-28-000082</td>\n",
              "      <td>[ D ] espite the efforts of the partners to cr...</td>\n",
              "      <td>None</td>\n",
              "      <td>[]</td>\n",
              "      <td>2020-01-28 08:04:05</td>\n",
              "      <td>1</td>\n",
              "      <td>[[None, 0.7272], [Prime Minister Netanyahu, 0....</td>\n",
              "      <td>[http://israelnationalnews.com/News/News.aspx/...</td>\n",
              "      <td>E</td>\n",
              "      <td>276</td>\n",
              "    </tr>\n",
              "    <tr>\n",
              "      <th>1</th>\n",
              "      <td>2020-01-16-000088</td>\n",
              "      <td>[ Department of Homeland Security ] was livid ...</td>\n",
              "      <td>Sue Myrick</td>\n",
              "      <td>[Q367796]</td>\n",
              "      <td>2020-01-16 12:00:13</td>\n",
              "      <td>1</td>\n",
              "      <td>[[Sue Myrick, 0.8867], [None, 0.0992], [Ron Wy...</td>\n",
              "      <td>[http://thehill.com/opinion/international/4782...</td>\n",
              "      <td>E</td>\n",
              "      <td>91</td>\n",
              "    </tr>\n",
              "    <tr>\n",
              "      <th>2</th>\n",
              "      <td>2020-02-10-000142</td>\n",
              "      <td>... He (Madhav) also disclosed that the illega...</td>\n",
              "      <td>None</td>\n",
              "      <td>[]</td>\n",
              "      <td>2020-02-10 23:45:54</td>\n",
              "      <td>1</td>\n",
              "      <td>[[None, 0.8926], [Prakash Rai, 0.1074]]</td>\n",
              "      <td>[https://indianexpress.com/article/business/ec...</td>\n",
              "      <td>E</td>\n",
              "      <td>264</td>\n",
              "    </tr>\n",
              "    <tr>\n",
              "      <th>3</th>\n",
              "      <td>2020-02-15-000053</td>\n",
              "      <td>... [ I ] f it gets to the floor,</td>\n",
              "      <td>None</td>\n",
              "      <td>[]</td>\n",
              "      <td>2020-02-15 14:12:51</td>\n",
              "      <td>2</td>\n",
              "      <td>[[None, 0.581], [Andy Harris, 0.4191]]</td>\n",
              "      <td>[https://patriotpost.us/opinion/68622-trump-bu...</td>\n",
              "      <td>E</td>\n",
              "      <td>33</td>\n",
              "    </tr>\n",
              "    <tr>\n",
              "      <th>4</th>\n",
              "      <td>2020-01-24-000168</td>\n",
              "      <td>[ I met them ] when they just turned 4 and 7. ...</td>\n",
              "      <td>Meghan King Edmonds</td>\n",
              "      <td>[Q20684375]</td>\n",
              "      <td>2020-01-24 20:37:09</td>\n",
              "      <td>4</td>\n",
              "      <td>[[Meghan King Edmonds, 0.5446], [None, 0.2705]...</td>\n",
              "      <td>[https://people.com/parents/meghan-king-edmond...</td>\n",
              "      <td>E</td>\n",
              "      <td>102</td>\n",
              "    </tr>\n",
              "  </tbody>\n",
              "</table>\n",
              "</div>"
            ],
            "text/plain": [
              "             quoteID  ... len_quote\n",
              "0  2020-01-28-000082  ...       276\n",
              "1  2020-01-16-000088  ...        91\n",
              "2  2020-02-10-000142  ...       264\n",
              "3  2020-02-15-000053  ...        33\n",
              "4  2020-01-24-000168  ...       102\n",
              "\n",
              "[5 rows x 10 columns]"
            ]
          },
          "execution_count": 12,
          "metadata": {},
          "output_type": "execute_result"
        }
      ],
      "source": [
        "# Showing the head of a chunk of the 2020 dataset for visual inspection\n",
        "chunk.head(5)"
      ]
    },
    {
      "cell_type": "markdown",
      "metadata": {
        "id": "YcEGFiT7b856"
      },
      "source": [
        "The data seems to have loaded as expected, and we do not notice some errors immediately."
      ]
    },
    {
      "cell_type": "markdown",
      "metadata": {
        "id": "DtQqyOD9d8u6"
      },
      "source": [
        "Calculating statistics and gathering data on the whole dataset\n"
      ]
    },
    {
      "cell_type": "code",
      "execution_count": null,
      "metadata": {
        "id": "gRPeQliw0J0t"
      },
      "outputs": [],
      "source": [
        "# Initializing an array that will store the mean and variance of 'numOccurences' as well as the size of a chunk\n",
        "occurence_stats_list = []\n",
        "\n",
        "# Initializing dictionaries for dates, weekdays and months that will store values for all the chunks\n",
        "date_dictionary = {}\n",
        "\n",
        "# Dictionaries for weekdays and months are initialized with keys to keep them in the correct order for later plotting\n",
        "weekday_dictionary = {'Monday': 0, 'Tuesday': 0, 'Wednesday': 0, 'Thursday': 0,\n",
        "                      'Friday': 0, 'Saturday': 0, 'Sunday': 0}\n",
        "\n",
        "month_dictionary = {'January': 0, 'February': 0,'March': 0,\n",
        "                    'April': 0, 'May': 0, 'June': 0, \n",
        "                    'July': 0, 'August': 0, 'September': 0,\n",
        "                    'October': 0, 'November': 0, 'December': 0}\n",
        "\n",
        "# Iterating through all the cleaned data sets in chunks\n",
        "for x in range(len(files_pre_cleaning)): \n",
        "  print('Working on %d. dataset'%(x+1))\n",
        "  df_reader = pd.read_json(path_to_file + files_pre_cleaning[x], lines=True, compression='bz2', chunksize=50000)\n",
        "  for chunk in df_reader:\n",
        "    chunk = add_time(chunk)\n",
        "    \n",
        "    # Inserting values in the dictionaries\n",
        "    date_dictionary = to_dict(date_dictionary, chunk['date_short'])\n",
        "    weekday_dictionary = to_dict(weekday_dictionary, chunk['weekday'])\n",
        "    month_dictionary = to_dict(month_dictionary, chunk['Month'])\n",
        "\n",
        "    # Generating descriptive stats for the chunk and adding them to occurence_stats_list\n",
        "    occurence_stats_list.append(occurences_stats(chunk))\n",
        "\n",
        "# Creating empty array to store dictionary values\n",
        "arr = []\n",
        "for element in date_dictionary.values():\n",
        "    arr.append(element)\n",
        "arr = np.array(arr)\n",
        "\n",
        "# Calculating mean, std, and median for date_dictionary\n",
        "mean = np.mean(arr)\n",
        "std = np.std(arr)\n",
        "median = np.median(arr)"
      ]
    },
    {
      "cell_type": "markdown",
      "metadata": {
        "id": "fXrPfiY9JWbl"
      },
      "source": [
        "Descriptive statistics for the number of quotes and the number of occurrences for quotes"
      ]
    },
    {
      "cell_type": "code",
      "execution_count": null,
      "metadata": {
        "colab": {
          "base_uri": "https://localhost:8080/"
        },
        "id": "v4GJuJ70g1BQ",
        "outputId": "3865ab14-8421-4361-9977-3c2a6d3c6264"
      },
      "outputs": [
        {
          "name": "stdout",
          "output_type": "stream",
          "text": [
            "Mean of quotes per day: 59764.35\n",
            "Standard deviation of quotes per day: 31690.1\n",
            "Median of quotes per day: 64147.5\n",
            "\n",
            "Average of median for each chunk for numOccurences: 1.0\n",
            "Average 75th quantile for each chunk for  numOccurences: 2.0\n"
          ]
        }
      ],
      "source": [
        "print(f'Mean of quotes per day: {round(mean, 2)}\\nStandard deviation of quotes per day: {round(std, 2)}\\nMedian of quotes per day: {round(median, 2)}\\n')\n",
        "\n",
        "# Printing the average of median and 75th quantile per chunk for numOccurences for the entire dataset\n",
        "stats_entire_dataset(occurence_stats_list)"
      ]
    },
    {
      "cell_type": "markdown",
      "metadata": {
        "id": "NHf53zwkcH__"
      },
      "source": [
        "- On average, there are around 60 000 quotations per day. The standard deviation is very high, probably because of the gaps in 2015-2017 that can be seen in the plot below.\n",
        "- For the number of occurrences, we report the average of the median and the average of the 75th quantile for the chunks. This is because it follows a heavy-tailed distribution, and it is necessary to report robust statistics.\n",
        "- We see that the average median per chunk for numOccurences is one and the 75th quantile is two. This shows that most quotes are quoted few times."
      ]
    },
    {
      "cell_type": "markdown",
      "metadata": {
        "id": "iaZmjAq_K3n9"
      },
      "source": [
        "Barplot showing number of quotes per day for the entire dataset using log-scaled Y-axis"
      ]
    },
    {
      "cell_type": "code",
      "execution_count": null,
      "metadata": {
        "colab": {
          "base_uri": "https://localhost:8080/",
          "height": 508
        },
        "id": "iB1Z_kzwdAIo",
        "outputId": "28dcc820-7e8a-479d-d725-ac306ad8c679"
      },
      "outputs": [
        {
          "data": {
            "image/png": "[encoded data removed]",
            "text/plain": [
              "<Figure size 1440x576 with 1 Axes>"
            ]
          },
          "metadata": {
            "needs_background": "light"
          },
          "output_type": "display_data"
        }
      ],
      "source": [
        "fig, ax=plt.subplots(1,1, figsize = (20,8))\n",
        "ax.bar(date_dictionary.keys(), date_dictionary.values(), width=1.0)\n",
        "ax.set_title(\"Quotes per day\")\n",
        "ax.set_xlabel(\"Date\")\n",
        "ax.set_ylabel(\"Frequency\")\n",
        "ax.set_yscale('log')\n",
        "plt.show()"
      ]
    },
    {
      "cell_type": "markdown",
      "metadata": {
        "id": "TxtULoDtK_Nl"
      },
      "source": [
        "Barplot showing number of quotes per day for the entire dataset"
      ]
    },
    {
      "cell_type": "code",
      "execution_count": null,
      "metadata": {
        "colab": {
          "base_uri": "https://localhost:8080/",
          "height": 500
        },
        "id": "Iax_bnAePV59",
        "outputId": "5f373468-eee2-4fcf-9633-a1b4c8c19f73"
      },
      "outputs": [
        {
          "data": {
            "image/png": "[encoded data removed]",
            "text/plain": [
              "<Figure size 1440x576 with 1 Axes>"
            ]
          },
          "metadata": {
            "needs_background": "light"
          },
          "output_type": "display_data"
        }
      ],
      "source": [
        "fig, ax=plt.subplots(1,1, figsize = (20,8))\n",
        "ax.bar(date_dictionary.keys(), date_dictionary.values(), width=1.0)\n",
        "ax.set_title(\"Quotes per day\")\n",
        "ax.set_xlabel(\"Date\")\n",
        "ax.set_ylabel(\"Frequency\")\n",
        "plt.show()"
      ]
    },
    {
      "cell_type": "markdown",
      "metadata": {
        "id": "pAK0DNr-cWcK"
      },
      "source": [
        "- We notice that there are some large gaps between 2015 and 2017 where very few quotes was registered which should be kept in mind for future analyses"
      ]
    },
    {
      "cell_type": "markdown",
      "metadata": {
        "id": "DjXFRkU1LTpo"
      },
      "source": [
        "Barplot showing number of quotes per weekday"
      ]
    },
    {
      "cell_type": "code",
      "execution_count": null,
      "metadata": {
        "colab": {
          "base_uri": "https://localhost:8080/",
          "height": 507
        },
        "id": "79r6oXFwOz3L",
        "outputId": "117807b1-deea-482b-e335-26c0eda2aa6a"
      },
      "outputs": [
        {
          "data": {
            "image/png": "[encoded data removed]",
            "text/plain": [
              "<Figure size 1440x576 with 1 Axes>"
            ]
          },
          "metadata": {
            "needs_background": "light"
          },
          "output_type": "display_data"
        }
      ],
      "source": [
        "fig, ax = plt.subplots(1, figsize = (20,8))\n",
        "ax.bar(weekday_dictionary.keys(), weekday_dictionary.values())\n",
        "ax.set_title(\"Total quotes per weekday\")\n",
        "ax.set_xlabel(\"Weekday\")\n",
        "ax.set_ylabel(\"Number of quotes\")\n",
        "plt.show()"
      ]
    },
    {
      "cell_type": "markdown",
      "metadata": {
        "id": "kf9Ll9jtcoqu"
      },
      "source": [
        "- The plot shows, as expected, that there are fewer quotes in the weekends"
      ]
    },
    {
      "cell_type": "markdown",
      "metadata": {
        "id": "BuvNhCDkLbzh"
      },
      "source": [
        "Barplot showing number of quotes per month"
      ]
    },
    {
      "cell_type": "code",
      "execution_count": null,
      "metadata": {
        "colab": {
          "base_uri": "https://localhost:8080/",
          "height": 509
        },
        "id": "_9uDjUngP5NG",
        "outputId": "3f7663dd-0373-48a3-c2d6-bed51fde8a58"
      },
      "outputs": [
        {
          "data": {
            "image/png": "[encoded data removed]",
            "text/plain": [
              "<Figure size 1440x576 with 1 Axes>"
            ]
          },
          "metadata": {
            "needs_background": "light"
          },
          "output_type": "display_data"
        }
      ],
      "source": [
        "fig, ax = plt.subplots(1, figsize = (20,8))\n",
        "ax.bar(month_dictionary.keys(), month_dictionary.values())\n",
        "ax.set_title(\"Total quotes per month\")\n",
        "ax.set_xlabel(\"Month\")\n",
        "ax.set_ylabel(\"Number of quotes\")\n",
        "plt.show()"
      ]
    },
    {
      "cell_type": "markdown",
      "metadata": {
        "id": "G0tU_IPjcs2T"
      },
      "source": [
        "- We see that the number of quotes varies across months. There are several natural reasons for this:\n",
        " - In 2020, only quotes from January to April are included\n",
        " - Between 2015 and 2017, there are, as aforementioned, gaps in quotes for some months. From this and the plots above, it seems like January, June, and November have been most severely impacted. "
      ]
    },
    {
      "cell_type": "markdown",
      "metadata": {
        "id": "IbQ0Kavkfkur"
      },
      "source": [
        "# Additional dataset\n"
      ]
    },
    {
      "cell_type": "markdown",
      "metadata": {},
      "source": [
        "As mentioned in the ReadMe, we will use the Wikidata dataset to enrich our analyses. It will mainly be used for determining whether a speaker is a man or woman and whether the speaker is a politician or not. In this section, we have included the necessary code to extract this information from the dataset. This means that the data is ready to use for analysis in milestone 3."
      ]
    },
    {
      "cell_type": "code",
      "execution_count": 4,
      "metadata": {
        "colab": {
          "base_uri": "https://localhost:8080/",
          "height": 0
        },
        "id": "BBdG0fbFQUHa",
        "outputId": "6d9e2a6f-988a-464a-9264-35061c60799c"
      },
      "outputs": [
        {
          "data": {
            "text/html": [
              "<div>\n",
              "<style scoped>\n",
              "    .dataframe tbody tr th:only-of-type {\n",
              "        vertical-align: middle;\n",
              "    }\n",
              "\n",
              "    .dataframe tbody tr th {\n",
              "        vertical-align: top;\n",
              "    }\n",
              "\n",
              "    .dataframe thead th {\n",
              "        text-align: right;\n",
              "    }\n",
              "</style>\n",
              "<table border=\"1\" class=\"dataframe\">\n",
              "  <thead>\n",
              "    <tr style=\"text-align: right;\">\n",
              "      <th></th>\n",
              "      <th>aliases</th>\n",
              "      <th>date_of_birth</th>\n",
              "      <th>nationality</th>\n",
              "      <th>gender</th>\n",
              "      <th>lastrevid</th>\n",
              "      <th>ethnic_group</th>\n",
              "      <th>US_congress_bio_ID</th>\n",
              "      <th>occupation</th>\n",
              "      <th>party</th>\n",
              "      <th>academic_degree</th>\n",
              "      <th>id</th>\n",
              "      <th>label</th>\n",
              "      <th>candidacy</th>\n",
              "      <th>type</th>\n",
              "      <th>religion</th>\n",
              "    </tr>\n",
              "  </thead>\n",
              "  <tbody>\n",
              "    <tr>\n",
              "      <th>0</th>\n",
              "      <td>[Washington, President Washington, G. Washingt...</td>\n",
              "      <td>[+1732-02-22T00:00:00Z]</td>\n",
              "      <td>[Q161885, Q30]</td>\n",
              "      <td>[Q6581097]</td>\n",
              "      <td>1395141751</td>\n",
              "      <td>None</td>\n",
              "      <td>W000178</td>\n",
              "      <td>[Q82955, Q189290, Q131512, Q1734662, Q294126, ...</td>\n",
              "      <td>[Q327591]</td>\n",
              "      <td>None</td>\n",
              "      <td>Q23</td>\n",
              "      <td>George Washington</td>\n",
              "      <td>[Q698073, Q697949]</td>\n",
              "      <td>item</td>\n",
              "      <td>[Q682443]</td>\n",
              "    </tr>\n",
              "    <tr>\n",
              "      <th>1</th>\n",
              "      <td>[Douglas Noel Adams, Douglas Noël Adams, Dougl...</td>\n",
              "      <td>[+1952-03-11T00:00:00Z]</td>\n",
              "      <td>[Q145]</td>\n",
              "      <td>[Q6581097]</td>\n",
              "      <td>1395737157</td>\n",
              "      <td>[Q7994501]</td>\n",
              "      <td>None</td>\n",
              "      <td>[Q214917, Q28389, Q6625963, Q4853732, Q1884422...</td>\n",
              "      <td>None</td>\n",
              "      <td>None</td>\n",
              "      <td>Q42</td>\n",
              "      <td>Douglas Adams</td>\n",
              "      <td>None</td>\n",
              "      <td>item</td>\n",
              "      <td>None</td>\n",
              "    </tr>\n",
              "    <tr>\n",
              "      <th>2</th>\n",
              "      <td>[Paul Marie Ghislain Otlet, Paul Marie Otlet]</td>\n",
              "      <td>[+1868-08-23T00:00:00Z]</td>\n",
              "      <td>[Q31]</td>\n",
              "      <td>[Q6581097]</td>\n",
              "      <td>1380367296</td>\n",
              "      <td>None</td>\n",
              "      <td>None</td>\n",
              "      <td>[Q36180, Q40348, Q182436, Q1265807, Q205375, Q...</td>\n",
              "      <td>None</td>\n",
              "      <td>None</td>\n",
              "      <td>Q1868</td>\n",
              "      <td>Paul Otlet</td>\n",
              "      <td>None</td>\n",
              "      <td>item</td>\n",
              "      <td>None</td>\n",
              "    </tr>\n",
              "    <tr>\n",
              "      <th>3</th>\n",
              "      <td>[George Walker Bush, Bush Jr., Dubya, GWB, Bus...</td>\n",
              "      <td>[+1946-07-06T00:00:00Z]</td>\n",
              "      <td>[Q30]</td>\n",
              "      <td>[Q6581097]</td>\n",
              "      <td>1395142029</td>\n",
              "      <td>None</td>\n",
              "      <td>None</td>\n",
              "      <td>[Q82955, Q15982858, Q18814623, Q1028181, Q1408...</td>\n",
              "      <td>[Q29468]</td>\n",
              "      <td>None</td>\n",
              "      <td>Q207</td>\n",
              "      <td>George W. Bush</td>\n",
              "      <td>[Q327959, Q464075, Q3586276, Q4450587]</td>\n",
              "      <td>item</td>\n",
              "      <td>[Q329646, Q682443, Q33203]</td>\n",
              "    </tr>\n",
              "    <tr>\n",
              "      <th>4</th>\n",
              "      <td>[Velázquez, Diego Rodríguez de Silva y Velázqu...</td>\n",
              "      <td>[+1599-06-06T00:00:00Z]</td>\n",
              "      <td>[Q29]</td>\n",
              "      <td>[Q6581097]</td>\n",
              "      <td>1391704596</td>\n",
              "      <td>None</td>\n",
              "      <td>None</td>\n",
              "      <td>[Q1028181]</td>\n",
              "      <td>None</td>\n",
              "      <td>None</td>\n",
              "      <td>Q297</td>\n",
              "      <td>Diego Velázquez</td>\n",
              "      <td>None</td>\n",
              "      <td>item</td>\n",
              "      <td>None</td>\n",
              "    </tr>\n",
              "  </tbody>\n",
              "</table>\n",
              "</div>"
            ],
            "text/plain": [
              "                                             aliases  ...                    religion\n",
              "0  [Washington, President Washington, G. Washingt...  ...                   [Q682443]\n",
              "1  [Douglas Noel Adams, Douglas Noël Adams, Dougl...  ...                        None\n",
              "2      [Paul Marie Ghislain Otlet, Paul Marie Otlet]  ...                        None\n",
              "3  [George Walker Bush, Bush Jr., Dubya, GWB, Bus...  ...  [Q329646, Q682443, Q33203]\n",
              "4  [Velázquez, Diego Rodríguez de Silva y Velázqu...  ...                        None\n",
              "\n",
              "[5 rows x 15 columns]"
            ]
          },
          "execution_count": 4,
          "metadata": {},
          "output_type": "execute_result"
        }
      ],
      "source": [
        "# Reading the Wikidata files\n",
        "read_wikidata_parquet = pd.read_parquet(path_to_wikidata_file)\n",
        "\n",
        "read_wikidata_parquet.head()"
      ]
    },
    {
      "cell_type": "markdown",
      "metadata": {
        "id": "LkV4s2l5i0t6"
      },
      "source": [
        "The wikidata dataset loaded as expected"
      ]
    },
    {
      "cell_type": "markdown",
      "metadata": {
        "id": "pa1OmQDujFbI"
      },
      "source": [
        "Functions for extracting quotes by politicians and gender"
      ]
    },
    {
      "cell_type": "code",
      "execution_count": null,
      "metadata": {
        "colab": {
          "base_uri": "https://localhost:8080/"
        },
        "id": "fzY78-FQa8S3",
        "outputId": "7706374a-c96e-4742-e47e-2397117d8b00"
      },
      "outputs": [
        {
          "name": "stdout",
          "output_type": "stream",
          "text": [
            "                                             aliases  ...   religion\n",
            "0  [Washington, President Washington, G. Washingt...  ...  [Q682443]\n",
            "\n",
            "[1 rows x 15 columns]\n"
          ]
        }
      ],
      "source": [
        "def find_alias_in_wiki(alias):\n",
        "  ''' Returning a dataframe, consisting of one row, with Wikidata information about the given alias .\n",
        "  \n",
        "  Parameters\n",
        "  ----------\n",
        "  alias: str\n",
        "    A given alias to look up in the Wikidata files\n",
        "    \n",
        "  Returns\n",
        "  -------\n",
        "  match: dataframe\n",
        "    A dataframe containing information about the given alias.\n",
        "  '''\n",
        "  \n",
        "  index = []\n",
        "  for i, aliases in enumerate(read_wikidata_parquet['aliases']):\n",
        "    if aliases is None:\n",
        "      continue\n",
        "    if alias in aliases:\n",
        "        index.append(i)\n",
        "  \n",
        "  match = read_wikidata_parquet.loc[index]\n",
        "  return match\n",
        "\n",
        "# Testing the above function by looking up President Washington\n",
        "print(find_alias_in_wiki(\"President Washington\"))\n"
      ]
    },
    {
      "cell_type": "code",
      "execution_count": null,
      "metadata": {
        "id": "S2nrlqAu2lRi"
      },
      "outputs": [],
      "source": [
        "def dataset_filtered_on_aliases(aliases, dataset):\n",
        "  '''Returning a filtered dataframe containing rows where 'speaker' is present in aliases array.\n",
        "  \n",
        "  Parameters\n",
        "  ----------\n",
        "  aliases: array\n",
        "    An array containing desired aliases to filter on.\n",
        "    \n",
        "  dataset: dataframe\n",
        "    The dataframe to filter.\n",
        "    \n",
        "  Returns\n",
        "  -------\n",
        "  dataset_alias_filtered: dataframe\n",
        "    The given dataset filtered as described.\n",
        "  '''\n",
        "  \n",
        "  dataset_alias_filtered = dataset[dataset['speaker'].isin(aliases)]\n",
        "  # Replacing speakers of None with NaN values\n",
        "  dataset_alias_filtered['speaker'] = dataset_alias_filtered['speaker'].replace('None', np.nan)\n",
        "  # Dropping NaN values\n",
        "  dataset_alias_filtered = dataset_alias_filtered.dropna(axis=0, subset=['speaker'])\n",
        "  return dataset_alias_filtered\n",
        "\n",
        "\n",
        "def dataset_filtered_on_politicians(wikidata, dataset):\n",
        "  ''' Returning a filtered dataframe only containing quotes by politicians. \n",
        "  Note that a person can be listed with many professions and therefore distringuishing\n",
        "  someone who is a former politican can be difficult.\n",
        "\n",
        "  Parameters\n",
        "  ----------\n",
        "  wikidata: dataframe\n",
        "    A dataframe containing the Wikidata dataset.\n",
        "\n",
        "  dataset: dataframe\n",
        "    A dataframe to filter on politicians.\n",
        "\n",
        "  Returns\n",
        "  -------\n",
        "  dataset_filtered_on_politicans: dataframe\n",
        "    A dataframe filtered as described.\n",
        "  '''\n",
        "\n",
        "  wikidata['politician'] = wikidata['occupation'].apply(lambda x: isPolitician(x))\n",
        "  wikidata_politician_filtered = wikidata[wikidata.politician]\n",
        "  \n",
        "  # After filtering on occupation, turns all aliases into 1D list\n",
        "  all_wiki_aliases_politician_filtered = wikidata_politician_filtered['aliases'].tolist()\n",
        "  all_wiki_aliases_politician_filtered = list(deepflatten(all_wiki_aliases_politician_filtered, depth=1))\n",
        "\n",
        "  # Returns original dataset filtered on the speakers corresponding to politicians\n",
        "  dataset_filtered_on_politicans = dataset_filtered_on_aliases(all_wiki_aliases_politician_filtered, dataset)\n",
        "  return dataset_filtered_on_politicans\n",
        "\n",
        "\n",
        "def conv_to_string(x):\n",
        "  ''' Converting the first element of a list x to a string. \n",
        "  If the input not is a list, it returns 'N/A.\n",
        "\n",
        "  Parameters\n",
        "  ----------\n",
        "  x: array\n",
        "    An array where we want to convert the first element into a string.\n",
        "\n",
        "  Returns\n",
        "  -------\n",
        "  first_elem: str\n",
        "    The first element of the array converted into a string or 'N/A' if the input is not a list.\n",
        "  '''\n",
        "\n",
        "  try:\n",
        "    first_elem = str(x[0])\n",
        "    return first_elem\n",
        "  except:\n",
        "    return 'N/A'\n",
        "\n",
        "def isPolitician(array):\n",
        "  ''' Checking whether the QID for the politician occupation is in array.\n",
        "  \n",
        "  Parameters\n",
        "  ----------\n",
        "  array: array \n",
        "    An array to check whether the QID is in.\n",
        "    \n",
        "  Returns\n",
        "  -------\n",
        "  bool\n",
        "    A boolean telling whether the QID correspond to a polication or not.'''\n",
        "\n",
        "  try:\n",
        "    # Uses harcoded QID for politician == Q82955\n",
        "    if 'Q82955' in array:\n",
        "      return True\n",
        "    else:\n",
        "      return False\n",
        "  except:\n",
        "    return False\n",
        "\n",
        "def dataset_filtered_on_gender_with_alias(gender, wikidata, dataset):\n",
        "  ''' Filtering dataset on gender given the information in Wikidata\n",
        "      Only includes a row if the speaker is not 'None'.\n",
        "  Parameters\n",
        "  ----------\n",
        "  gender: str\n",
        "    A string either 'male' or 'female'.\n",
        "  \n",
        "  wikidata: dataframe\n",
        "    A dataframe containing the Wikidata dataset.\n",
        "\n",
        "  dataset: dataframe\n",
        "    The dataset to filter on gender.\n",
        "\n",
        "  Returns\n",
        "  -------\n",
        "  dataframe\n",
        "    The given dataset filtered on gender.\n",
        "  '''\n",
        "  \n",
        "  if gender == 'male' or gender == 'female':\n",
        "    gender_qid = 'Q6581097' if gender == 'male' else 'Q6581072'\n",
        "    # Converting the gender column to string to be able to check if it equals gender_qid\n",
        "    wikidata['gender'] = wikidata['gender'].apply(lambda x: conv_to_string(x))\n",
        "    wikidata_gender_filtered = wikidata.loc[wikidata['gender'] == gender_qid]\n",
        "\n",
        "  else:\n",
        "    print(\"Invalid gender, the function does only consider binary genders.\")\n",
        "    exit()\n",
        "  \n",
        "  # After filtering on gender, make turn all aliases into 1D list\n",
        "  all_wiki_aliases_gender_filtered = wikidata_gender_filtered['aliases'].tolist()\n",
        "  all_wiki_aliases_gender_filtered = list(deepflatten(all_wiki_aliases_gender_filtered, depth=1))\n",
        "  \n",
        "  # Returning original dataset filtered on the speakers corresponding to a gender\n",
        "  return dataset_filtered_on_aliases(all_wiki_aliases_gender_filtered, dataset)"
      ]
    },
    {
      "cell_type": "markdown",
      "metadata": {
        "id": "GA7lCEZD48FH"
      },
      "source": [
        "Testing the functions"
      ]
    },
    {
      "cell_type": "code",
      "execution_count": null,
      "metadata": {
        "id": "A5MGrzjLoGwM"
      },
      "outputs": [],
      "source": [
        "# Testing whether the above-mentioned functions work by creating two dataframes. \n",
        "# 'males' includes only male speakers while 'politicians' includes only speakers that are politicans.\n",
        "df_reader = pd.read_json(path_to_file + 'quotes-2020.json.bz2', lines=True, compression='bz2', chunksize=100000)\n",
        "for chunk in df_reader:\n",
        "  males = dataset_filtered_on_gender_with_alias('male', read_wikidata_parquet, chunk)\n",
        "  politicians = dataset_filtered_on_politicians(read_wikidata_parquet, chunk)\n",
        "  break"
      ]
    },
    {
      "cell_type": "code",
      "execution_count": null,
      "metadata": {
        "colab": {
          "base_uri": "https://localhost:8080/",
          "height": 431
        },
        "id": "rFmFPe-whp6q",
        "outputId": "44c3872d-e41e-4817-e804-185c4f4d0b40"
      },
      "outputs": [
        {
          "data": {
            "text/html": [
              "<div>\n",
              "<style scoped>\n",
              "    .dataframe tbody tr th:only-of-type {\n",
              "        vertical-align: middle;\n",
              "    }\n",
              "\n",
              "    .dataframe tbody tr th {\n",
              "        vertical-align: top;\n",
              "    }\n",
              "\n",
              "    .dataframe thead th {\n",
              "        text-align: right;\n",
              "    }\n",
              "</style>\n",
              "<table border=\"1\" class=\"dataframe\">\n",
              "  <thead>\n",
              "    <tr style=\"text-align: right;\">\n",
              "      <th></th>\n",
              "      <th>quoteID</th>\n",
              "      <th>quotation</th>\n",
              "      <th>speaker</th>\n",
              "      <th>qids</th>\n",
              "      <th>date</th>\n",
              "      <th>numOccurrences</th>\n",
              "      <th>probas</th>\n",
              "      <th>urls</th>\n",
              "      <th>phase</th>\n",
              "    </tr>\n",
              "  </thead>\n",
              "  <tbody>\n",
              "    <tr>\n",
              "      <th>25</th>\n",
              "      <td>2020-02-18-000907</td>\n",
              "      <td>A city is not an accident but the result of co...</td>\n",
              "      <td>Leon Krier</td>\n",
              "      <td>[Q970000]</td>\n",
              "      <td>2020-02-18 09:39:38</td>\n",
              "      <td>1</td>\n",
              "      <td>[[Leon Krier, 0.8559], [None, 0.1441]]</td>\n",
              "      <td>[http://allafrica.com/stories/202002180401.html]</td>\n",
              "      <td>E</td>\n",
              "    </tr>\n",
              "    <tr>\n",
              "      <th>29</th>\n",
              "      <td>2020-01-26-000499</td>\n",
              "      <td>a few of the candidates who will do better in ...</td>\n",
              "      <td>Dave Loebsack</td>\n",
              "      <td>[Q771586]</td>\n",
              "      <td>2020-01-26 13:21:36</td>\n",
              "      <td>11</td>\n",
              "      <td>[[Dave Loebsack, 0.9011], [None, 0.0949], [Joe...</td>\n",
              "      <td>[http://rss.cnn.com/~r/rss/cnn_allpolitics/~3/...</td>\n",
              "      <td>E</td>\n",
              "    </tr>\n",
              "    <tr>\n",
              "      <th>34</th>\n",
              "      <td>2020-02-29-000491</td>\n",
              "      <td>a lack of resources and government funding</td>\n",
              "      <td>Paul Harvey</td>\n",
              "      <td>[Q16195572, Q16204369, Q39074951, Q47350253, Q...</td>\n",
              "      <td>2020-02-29 00:13:45</td>\n",
              "      <td>1</td>\n",
              "      <td>[[Paul Harvey, 0.9212], [None, 0.0788]]</td>\n",
              "      <td>[http://basingstokegazette.co.uk/news/18270936...</td>\n",
              "      <td>E</td>\n",
              "    </tr>\n",
              "    <tr>\n",
              "      <th>62</th>\n",
              "      <td>2020-02-17-001857</td>\n",
              "      <td>Absolutely they could (cause some upsets),</td>\n",
              "      <td>Tim Cridland</td>\n",
              "      <td>[Q8065902]</td>\n",
              "      <td>2020-02-17 00:40:00</td>\n",
              "      <td>1</td>\n",
              "      <td>[[Tim Cridland, 0.9051], [None, 0.0949]]</td>\n",
              "      <td>[http://www.dailymercury.com.au/news/rival-ski...</td>\n",
              "      <td>E</td>\n",
              "    </tr>\n",
              "    <tr>\n",
              "      <th>68</th>\n",
              "      <td>2020-04-03-002052</td>\n",
              "      <td>After talking with Chris about his background ...</td>\n",
              "      <td>Brad Smith</td>\n",
              "      <td>[Q15477554, Q16218831, Q23664265, Q24084114, Q...</td>\n",
              "      <td>2020-04-03 15:16:31</td>\n",
              "      <td>1</td>\n",
              "      <td>[[Brad Smith, 0.7482], [None, 0.2469], [Chris ...</td>\n",
              "      <td>[http://www.hmenews.com/article/brief-package-...</td>\n",
              "      <td>E</td>\n",
              "    </tr>\n",
              "  </tbody>\n",
              "</table>\n",
              "</div>"
            ],
            "text/plain": [
              "              quoteID  ... phase\n",
              "25  2020-02-18-000907  ...     E\n",
              "29  2020-01-26-000499  ...     E\n",
              "34  2020-02-29-000491  ...     E\n",
              "62  2020-02-17-001857  ...     E\n",
              "68  2020-04-03-002052  ...     E\n",
              "\n",
              "[5 rows x 9 columns]"
            ]
          },
          "execution_count": 13,
          "metadata": {},
          "output_type": "execute_result"
        }
      ],
      "source": [
        "males.head()"
      ]
    },
    {
      "cell_type": "markdown",
      "metadata": {
        "id": "fvZl071hyosz"
      },
      "source": [
        "The male filtering seems to have worked as expected"
      ]
    },
    {
      "cell_type": "code",
      "execution_count": null,
      "metadata": {
        "colab": {
          "base_uri": "https://localhost:8080/",
          "height": 466
        },
        "id": "4RB_JRZCnFJZ",
        "outputId": "1b3a1bc4-df09-4d0d-90eb-aac082a6a90d"
      },
      "outputs": [
        {
          "data": {
            "text/html": [
              "<div>\n",
              "<style scoped>\n",
              "    .dataframe tbody tr th:only-of-type {\n",
              "        vertical-align: middle;\n",
              "    }\n",
              "\n",
              "    .dataframe tbody tr th {\n",
              "        vertical-align: top;\n",
              "    }\n",
              "\n",
              "    .dataframe thead th {\n",
              "        text-align: right;\n",
              "    }\n",
              "</style>\n",
              "<table border=\"1\" class=\"dataframe\">\n",
              "  <thead>\n",
              "    <tr style=\"text-align: right;\">\n",
              "      <th></th>\n",
              "      <th>quoteID</th>\n",
              "      <th>quotation</th>\n",
              "      <th>speaker</th>\n",
              "      <th>qids</th>\n",
              "      <th>date</th>\n",
              "      <th>numOccurrences</th>\n",
              "      <th>probas</th>\n",
              "      <th>urls</th>\n",
              "      <th>phase</th>\n",
              "    </tr>\n",
              "  </thead>\n",
              "  <tbody>\n",
              "    <tr>\n",
              "      <th>29</th>\n",
              "      <td>2020-01-26-000499</td>\n",
              "      <td>a few of the candidates who will do better in ...</td>\n",
              "      <td>Dave Loebsack</td>\n",
              "      <td>[Q771586]</td>\n",
              "      <td>2020-01-26 13:21:36</td>\n",
              "      <td>11</td>\n",
              "      <td>[[Dave Loebsack, 0.9011], [None, 0.0949], [Joe...</td>\n",
              "      <td>[http://rss.cnn.com/~r/rss/cnn_allpolitics/~3/...</td>\n",
              "      <td>E</td>\n",
              "    </tr>\n",
              "    <tr>\n",
              "      <th>72</th>\n",
              "      <td>2020-02-07-003833</td>\n",
              "      <td>All future inquiries should be directed to the...</td>\n",
              "      <td>Seamus Ryan</td>\n",
              "      <td>[Q7440788]</td>\n",
              "      <td>2020-02-07 22:11:55</td>\n",
              "      <td>1</td>\n",
              "      <td>[[Seamus Ryan, 0.6351], [None, 0.3649]]</td>\n",
              "      <td>[https://www.koaa.com/news/news5-investigates/...</td>\n",
              "      <td>E</td>\n",
              "    </tr>\n",
              "    <tr>\n",
              "      <th>88</th>\n",
              "      <td>2020-01-23-004492</td>\n",
              "      <td>Although not a lubricant issue, tire wear is e...</td>\n",
              "      <td>John Burke</td>\n",
              "      <td>[Q15451851, Q16188889, Q16297972, Q1699458, Q2...</td>\n",
              "      <td>2020-01-23 16:23:57</td>\n",
              "      <td>1</td>\n",
              "      <td>[[John Burke, 0.7478], [None, 0.2522]]</td>\n",
              "      <td>[http://www.theenergycollective.com/node/40103...</td>\n",
              "      <td>E</td>\n",
              "    </tr>\n",
              "    <tr>\n",
              "      <th>105</th>\n",
              "      <td>2020-01-09-005110</td>\n",
              "      <td>And his own drama is that he's stuck in this c...</td>\n",
              "      <td>John Moore</td>\n",
              "      <td>[Q10500229, Q1537696, Q16089768, Q16106364, Q1...</td>\n",
              "      <td>2020-01-09 06:00:48</td>\n",
              "      <td>1</td>\n",
              "      <td>[[John Moore, 0.7892], [None, 0.2108]]</td>\n",
              "      <td>[https://www.seattletimes.com/entertainment/mo...</td>\n",
              "      <td>E</td>\n",
              "    </tr>\n",
              "    <tr>\n",
              "      <th>109</th>\n",
              "      <td>2020-01-23-005418</td>\n",
              "      <td>And I think we've come to a time where we are ...</td>\n",
              "      <td>Sheila Oliver</td>\n",
              "      <td>[Q7493177]</td>\n",
              "      <td>2020-01-23 21:15:14</td>\n",
              "      <td>1</td>\n",
              "      <td>[[Sheila Oliver, 0.9228], [None, 0.0772]]</td>\n",
              "      <td>[https://wobm.com/how-toxic-is-nj-political-cl...</td>\n",
              "      <td>E</td>\n",
              "    </tr>\n",
              "  </tbody>\n",
              "</table>\n",
              "</div>"
            ],
            "text/plain": [
              "               quoteID  ... phase\n",
              "29   2020-01-26-000499  ...     E\n",
              "72   2020-02-07-003833  ...     E\n",
              "88   2020-01-23-004492  ...     E\n",
              "105  2020-01-09-005110  ...     E\n",
              "109  2020-01-23-005418  ...     E\n",
              "\n",
              "[5 rows x 9 columns]"
            ]
          },
          "execution_count": 12,
          "metadata": {},
          "output_type": "execute_result"
        }
      ],
      "source": [
        "politicians.head()"
      ]
    },
    {
      "cell_type": "markdown",
      "metadata": {
        "id": "qIB1X_8YnRSd"
      },
      "source": [
        "A quick Google search indicates that the filtering has worked for politicians as well\n",
        "\n"
      ]
    },
    {
      "cell_type": "markdown",
      "metadata": {
        "id": "1pKO4b9WqLax"
      },
      "source": [
        "# Initial Sentiment Analysis\n",
        "\n",
        "To test the feasibility of our project, we decided to investigate some of our research questions on a chunk from the 2020 dataset consisting of 500 000 quotes.\n",
        "\n",
        "In this section, we often refer to the compound sentiment score from the NLTK library. Shortly, the compound score references the total sentiment of a quote standardized to be between -1 and 1. More information can be found at the bottom of this notebook under **Methods**\n",
        "\n",
        "Our initial results vary in significance and size, as the code below shows. However, some results indicate that it is feasible to find exciting insights. Especially, there seems to be a significant difference in mood across media outlets. However, we need to test it on the full dataset to figure if this is the case. "
      ]
    },
    {
      "cell_type": "code",
      "execution_count": 6,
      "metadata": {
        "id": "l7xBg6CzqUzi"
      },
      "outputs": [],
      "source": [
        "# Initializing a sentiment analyzer\n",
        "sent_analyzer = SentimentIntensityAnalyzer()\n",
        "\n",
        "# Reading the data in chunks\n",
        "df_reader = pd.read_json(path_to_file + 'quotes-2020.json.bz2', lines=True, compression='bz2', chunksize=500000)\n",
        "for chunk in df_reader:\n",
        "\n",
        "  # Calculating compound sentiment scores for the chunk and append the values in a column\n",
        "  chunk['compound'] = chunk['quotation'].apply(lambda x: sent_analyzer.polarity_scores(x)['compound'])\n",
        "\n",
        "  # Extracting the sentiments for Mondays and Fridays\n",
        "  chunk = add_time(chunk)\n",
        "  monday_quotes = chunk.loc[chunk['weekday_number'] == 0]\n",
        "  friday_quotes = chunk.loc[chunk['weekday_number'] == 4]\n",
        "\n",
        "  break\n"
      ]
    },
    {
      "cell_type": "markdown",
      "metadata": {
        "id": "PObTsLhHzL0-"
      },
      "source": [
        "Plotting the sentiment scores for the chunk on a log-scaled Y-axis"
      ]
    },
    {
      "cell_type": "code",
      "execution_count": 8,
      "metadata": {
        "colab": {
          "base_uri": "https://localhost:8080/",
          "height": 295
        },
        "id": "f_pkAQ5bzLLY",
        "outputId": "f8dc221d-6c28-4888-f7ac-93a5d4ca60d9"
      },
      "outputs": [
        {
          "data": {
            "image/png": "[encoded data removed]",
            "text/plain": [
              "<Figure size 1152x288 with 1 Axes>"
            ]
          },
          "metadata": {
            "needs_background": "light"
          },
          "output_type": "display_data"
        }
      ],
      "source": [
        "fig, ax = plt.subplots(1,1, figsize = (16,4))\n",
        "ax.hist(chunk['compound'], 101)\n",
        "ax.set_title('Distribution of compound sentiment scores') \n",
        "ax.set_xlabel('Compound sentiment score')\n",
        "ax.set_ylabel('Frequency')\n",
        "ax.set_yscale('log')\n",
        "plt.show()"
      ]
    },
    {
      "cell_type": "markdown",
      "metadata": {
        "id": "wqI97kXJnDes"
      },
      "source": [
        "We observe that the most common compund sentiment score is around 0. This makes sense as the Vader lexicon only changes the sentiment score from 0 if there is positive or negative words included in a sentence."
      ]
    },
    {
      "cell_type": "markdown",
      "metadata": {
        "id": "cRJoRgIRyjBd"
      },
      "source": [
        "Printing quote and compound score for five quotations"
      ]
    },
    {
      "cell_type": "code",
      "execution_count": null,
      "metadata": {
        "colab": {
          "base_uri": "https://localhost:8080/"
        },
        "id": "xB-OQMRhyhsH",
        "outputId": "95012e70-fe23-4d54-ab69-55d0f71429d4"
      },
      "outputs": [
        {
          "name": "stdout",
          "output_type": "stream",
          "text": [
            "And [ festivalgoers ] are also drawn to coming in to Whanganui as well so I think it's great.\n",
            "Compound: 0.8255\n",
            "\n",
            "And for the record, Eamonn Holmes made me laugh, he lightened a very emotional moment and I'm very happy that he did.\n",
            "Compound: 0.8586\n",
            "\n",
            "And he stood there patiently and said, `I'm here to help you. I want to help you.' And I would roll up my window and look the other way.\n",
            "Compound: 0.6908\n",
            "\n",
            "and he was trying to tie the record of Harry Vardon: six British Opens. He was under a lot of pressure also. We were not close, but champions in the same category never are close. You never see both go outside for dinner. Never. That's not because it is personal. The competition carries on, not just on the golf course, but off the golf course also. It was that way for me and Watson.\n",
            "Compound: -0.6444\n",
            "\n",
            "And help he always did. For someone who preferred to be behind the scenes, he was at the center of absolutely everything.\n",
            "Compound: 0.4019\n",
            "\n"
          ]
        }
      ],
      "source": [
        "# Iterating through a sample of the chunk to show the compounds\n",
        "for x in range(100,105):\n",
        "    sentence = chunk['quotation'][x]\n",
        "    print(sentence)\n",
        "    compound = sent_analyzer.polarity_scores(sentence)['compound']\n",
        "    print(f'Compound: {str(compound)}\\n')"
      ]
    },
    {
      "cell_type": "markdown",
      "metadata": {
        "id": "qL6LIDEclLA0"
      },
      "source": [
        "The first three sentences and the fifth look quite correctly classified, but the fourth sentence recieved a more negative compound score than we expected. This inaccuracy is important to keep in mind during future analysis."
      ]
    },
    {
      "cell_type": "markdown",
      "metadata": {
        "id": "o1Vjox2Bz6Jf"
      },
      "source": [
        "Inspecting the sentiment scores for Mondays and Fridays"
      ]
    },
    {
      "cell_type": "code",
      "execution_count": null,
      "metadata": {
        "colab": {
          "base_uri": "https://localhost:8080/"
        },
        "id": "KEuBNkf6zzYf",
        "outputId": "012601a2-11fa-4ad4-8c3f-c95ad0d091e3"
      },
      "outputs": [
        {
          "name": "stdout",
          "output_type": "stream",
          "text": [
            "Sentiment statistics for quotes quoted on Mondays:\n",
            "count    72991.000000\n",
            "mean         0.177723\n",
            "std          0.467393\n",
            "min         -0.996900\n",
            "25%          0.000000\n",
            "50%          0.088000\n",
            "75%          0.571900\n",
            "max          0.997800\n",
            "Name: compound, dtype: float64\n",
            "\n",
            "Sentiment statistics for quotes quoted on Fridays:\n",
            "count    81629.000000\n",
            "mean         0.174108\n",
            "std          0.466973\n",
            "min         -0.996400\n",
            "25%          0.000000\n",
            "50%          0.077200\n",
            "75%          0.569900\n",
            "max          0.998200\n",
            "Name: compound, dtype: float64\n"
          ]
        }
      ],
      "source": [
        "print(\"Sentiment statistics for quotes quoted on Mondays:\")\n",
        "print(monday_quotes['compound'].describe())\n",
        "print(\"\\nSentiment statistics for quotes quoted on Fridays:\")\n",
        "print(friday_quotes['compound'].describe())"
      ]
    },
    {
      "cell_type": "markdown",
      "metadata": {
        "id": "QCvfZLxel_3l"
      },
      "source": [
        "The mean sentiment on Mondays and Fridays is quite similar but the sentiment is, contrary to our expectations, slightly higher on Mondays. "
      ]
    },
    {
      "cell_type": "markdown",
      "metadata": {
        "id": "0GbU1_T6zzDp"
      },
      "source": [
        "Performing a t-test to see if the sentiment is different on Mondays and Fridays"
      ]
    },
    {
      "cell_type": "code",
      "execution_count": 9,
      "metadata": {
        "colab": {
          "base_uri": "https://localhost:8080/"
        },
        "id": "Y16P1jqY0E3s",
        "outputId": "c6c8adb0-4ae0-484b-a2e4-0c7dcab168a3"
      },
      "outputs": [
        {
          "name": "stdout",
          "output_type": "stream",
          "text": [
            "Two sided paired t-test with null hypothesis: The mean mood on Mondays equals the mean mood on Fridays.\n",
            "t-value: 1.519, p-value: 0.1288\n"
          ]
        }
      ],
      "source": [
        "t, p = stats.ttest_ind(monday_quotes['compound'], friday_quotes['compound'])\n",
        "print(\"Two sided paired t-test with null hypothesis: The mean mood on Mondays equals the mean mood on Fridays.\")\n",
        "print(f\"t-value: {round(t, 4)}, p-value: {round(p, 4)}\")"
      ]
    },
    {
      "cell_type": "markdown",
      "metadata": {
        "id": "DddBWf3fmM6Y"
      },
      "source": [
        "- We do a t-test on different sentiments on Monday and Friday with H0: The mean compound sentiment score on Mondays and Fridays is different.\n",
        "- We do not reject the null at a significance level of 5%. This means that we cannot conclude that the mood in the media is more positive on Mondays than on Fridays, even though the mean is higher on Mondays."
      ]
    },
    {
      "cell_type": "markdown",
      "metadata": {
        "id": "Z7HFMHfn0GkN"
      },
      "source": [
        "Finding the number of quotes in the chunk from the medias in the media_outlets list"
      ]
    },
    {
      "cell_type": "code",
      "execution_count": 13,
      "metadata": {
        "colab": {
          "base_uri": "https://localhost:8080/"
        },
        "id": "ZXtnWHS00Gxc",
        "outputId": "d15368b4-5cbe-493a-b1ab-c8439c83a86a"
      },
      "outputs": [
        {
          "name": "stdout",
          "output_type": "stream",
          "text": [
            "Number of quotes in nytimes: 3568\n",
            "Number of quotes in wsj: 378\n",
            "Number of quotes in womansday: 31\n",
            "Number of quotes in nbcnews: 1568\n",
            "Number of quotes in foxnews: 3945\n",
            "Number of quotes in aarp: 94\n"
          ]
        }
      ],
      "source": [
        "media_outlets = ['nytimes', 'wsj', 'womansday', 'nbcnews', 'foxnews', 'aarp']\n",
        "chunk = get_media(chunk, media_outlets)\n",
        "for element in media_outlets:\n",
        "    media_chunk = chunk.loc[chunk['media_outlet'] == element]\n",
        "    print(\"Number of quotes in %s: %d\"%(element, media_chunk.shape[0]))"
      ]
    },
    {
      "cell_type": "markdown",
      "metadata": {
        "id": "lU9_ZnyhmgTb"
      },
      "source": [
        "The number of quotes from media outlets varies greatly"
      ]
    },
    {
      "cell_type": "markdown",
      "metadata": {
        "id": "xPHPQfX20v7z"
      },
      "source": [
        "Descriptive statistics of the compound sentiment score for media outlets\n",
        "\n"
      ]
    },
    {
      "cell_type": "code",
      "execution_count": 14,
      "metadata": {
        "colab": {
          "base_uri": "https://localhost:8080/"
        },
        "id": "vjECZ1wZoXhP",
        "outputId": "e47ab601-91af-4da4-b184-a836562d3b8a"
      },
      "outputs": [
        {
          "name": "stdout",
          "output_type": "stream",
          "text": [
            "Sentiment scores for quotes in New York Times:\n",
            "count    3568.000000\n",
            "mean        0.074247\n",
            "std         0.404358\n",
            "min        -0.958400\n",
            "25%        -0.077200\n",
            "50%         0.000000\n",
            "75%         0.386750\n",
            "max         0.981600\n",
            "Name: compound, dtype: float64\n"
          ]
        }
      ],
      "source": [
        "# Looking at the differences in the sentiment across media outlets\n",
        "nytimes = chunk.loc[chunk['media_outlet']=='nytimes']\n",
        "\n",
        "print(\"Sentiment scores for quotes in New York Times:\")\n",
        "print(nytimes['compound'].describe())"
      ]
    },
    {
      "cell_type": "code",
      "execution_count": 15,
      "metadata": {
        "colab": {
          "base_uri": "https://localhost:8080/"
        },
        "id": "ajfVz1EH5f4F",
        "outputId": "975c29ea-e89a-4a4a-d7d6-6582a3936d3b"
      },
      "outputs": [
        {
          "name": "stdout",
          "output_type": "stream",
          "text": [
            "Sentiment scores for quotes in the Wall Street Journal:\n",
            "count    378.000000\n",
            "mean       0.161874\n",
            "std        0.441007\n",
            "min       -0.880500\n",
            "25%        0.000000\n",
            "50%        0.041350\n",
            "75%        0.510600\n",
            "max        0.978100\n",
            "Name: compound, dtype: float64\n"
          ]
        }
      ],
      "source": [
        "wsj = chunk.loc[chunk['media_outlet']=='wsj']\n",
        "\n",
        "print(\"Sentiment scores for quotes in the Wall Street Journal:\")\n",
        "print(wsj['compound'].describe())"
      ]
    },
    {
      "cell_type": "code",
      "execution_count": null,
      "metadata": {
        "colab": {
          "base_uri": "https://localhost:8080/"
        },
        "id": "T1z_7Pff6i50",
        "outputId": "4de33f47-9870-4a53-ecfb-071e39cea3c1"
      },
      "outputs": [
        {
          "name": "stdout",
          "output_type": "stream",
          "text": [
            "Sentiment scores for quotes in the Womansday:\n",
            "count    31.000000\n",
            "mean      0.186561\n",
            "std       0.518135\n",
            "min      -0.743000\n",
            "25%      -0.177000\n",
            "50%       0.000000\n",
            "75%       0.669700\n",
            "max       0.962700\n",
            "Name: compound, dtype: float64\n"
          ]
        }
      ],
      "source": [
        "womansday = chunk.loc[chunk['media_outlet']=='womansday']\n",
        "\n",
        "print(\"Sentiment scores for quotes in the Womansday:\")\n",
        "print(womansday['compound'].describe())"
      ]
    },
    {
      "cell_type": "code",
      "execution_count": null,
      "metadata": {
        "colab": {
          "base_uri": "https://localhost:8080/"
        },
        "id": "l6Wm3_Mw6vVb",
        "outputId": "405c0ef9-aa94-48d1-df72-99bef4030c86"
      },
      "outputs": [
        {
          "name": "stdout",
          "output_type": "stream",
          "text": [
            "Sentiment scores for quotes in FOX news:\n",
            "count    3945.000000\n",
            "mean        0.093046\n",
            "std         0.474749\n",
            "min        -0.971900\n",
            "25%        -0.226300\n",
            "50%         0.000000\n",
            "75%         0.476700\n",
            "max         0.992300\n",
            "Name: compound, dtype: float64\n"
          ]
        }
      ],
      "source": [
        "fox = chunk.loc[chunk['media_outlet']=='foxnews']\n",
        "\n",
        "print(\"Sentiment scores for quotes in FOX news:\")\n",
        "print(fox['compound'].describe())"
      ]
    },
    {
      "cell_type": "markdown",
      "metadata": {
        "id": "aeyNXq1ztGCB"
      },
      "source": [
        "- We see that the mean of the different media outlets varies, with NYTimes and FOX news having the lower mean sentiment, and Wall Street Journal and Womansday having the higher mean sentiment.\n",
        "- The variance in sentiment is the greatest for Womansday, but this may be caused by the low number of quotes"
      ]
    },
    {
      "cell_type": "markdown",
      "metadata": {
        "id": "8HfLUBLEqHuf"
      },
      "source": [
        "Testing for difference in sentiment across media outlets"
      ]
    },
    {
      "cell_type": "code",
      "execution_count": 16,
      "metadata": {
        "colab": {
          "base_uri": "https://localhost:8080/"
        },
        "id": "yrPghVbb0vpk",
        "outputId": "40ae90f8-fc5f-4de7-a22b-6c0279ae10c2"
      },
      "outputs": [
        {
          "name": "stdout",
          "output_type": "stream",
          "text": [
            "Two sided paired t-test with null hypothesis: The mean mood in NYtimes equals the mean mood in Wall Street Journal:\n",
            "t-value: -3.7018, p-value: 0.0002\n"
          ]
        }
      ],
      "source": [
        "t, p = stats.ttest_ind(nytimes['compound'], wsj['compound'], equal_var=False)\n",
        "print(\"Two sided paired t-test with null hypothesis: The mean mood in NYtimes equals the mean mood in Wall Street Journal:\")\n",
        "print(f\"t-value: {round(t,4)}, p-value: {round(p,4)}\")"
      ]
    },
    {
      "cell_type": "markdown",
      "metadata": {
        "id": "UPPMb0ijtfoS"
      },
      "source": [
        "- We do a Welch t-test with H0: The mean compound sentiment score for NYTimes and Wall Street Journal is equal\n",
        "- We reject the null hypotesis with a significance level of 5%\n",
        "- It is interesting to see that the significance level is strong, and additionally that the mean difference is big (0.0876). We will analyze this further in Milestone 3 to determine if we can conclude that the mood is more positive in Wall Street Journal."
      ]
    },
    {
      "cell_type": "markdown",
      "metadata": {
        "id": "e9wtYAwcp13P"
      },
      "source": [
        "# Mathematical Outline of Methods\n",
        "The following cells will deal with the necessary outline of the mathematical concepts that will be used in our analysis\n",
        "* t-test\n",
        "* Welch's t-test\n",
        "* Confidence intervals\n",
        "* Natural language processing methods"
      ]
    },
    {
      "cell_type": "markdown",
      "metadata": {},
      "source": [
        "## Statistical methods"
      ]
    },
    {
      "cell_type": "markdown",
      "metadata": {
        "id": "T1mUcqN0p8c8"
      },
      "source": [
        "### t-test\n",
        "\n",
        "To test whether our results are statistically significant, we will use paired t-tests. The assumption needed to make t-test a valid form for hypothesis test is that the test-statistic is normally distributed. Since we will use the t-test for very large N, and the t-statistic is a sum of independent and identically distributed random variables, this assumption will hold of the central limit theorem.\n",
        "\n",
        "We will use the t-test to test the differences in mood in different scenarios. For example, to test if the mood in the media on Fridays is more positive than on Mondays. \n",
        "\n",
        "The t-statistic:\n",
        "\n",
        "${t} = \\frac{\\bar D-\\mu _D}{s_D / \\sqrt n}$\n",
        "\n",
        "where $\\bar D$ is the sample mean difference between the two distributions. $ \\mu _D$ is the real mean difference. $s_D$ is the sample standard deviation of the difference $\\bar D$, and $n$ is the number of observations.\n",
        "\n",
        "As our null hypothesis we will use $H_0: \\mu _D = 0$"
      ]
    },
    {
      "cell_type": "markdown",
      "metadata": {
        "id": "onVCvj9Klvgf"
      },
      "source": [
        "### Welch's t-test\n",
        "\n",
        "We will also use Welch's t-test which is a variant of the t-test for when the two populations we study have unequal variance.\n",
        "\n",
        "The t-test will for example be used to test the different in sentiment between media outlets as above.\n",
        "\n",
        "The Welch t-statistic:\n",
        "\n",
        "${t} = \\frac{\\bar X_1-\\bar X_2}{\\sqrt {\\frac{s_1^2}{N_1}+\\frac{s_2^2}{N_2}}}$\n",
        "\n",
        "where $\\bar X_1- \\bar X_2$ is the sample mean difference between the two distributions, $s_i$ is the empirical standard error for $X_i$, and $N_i$ is the number of observations for $X_i$.\n",
        "\n",
        "Our null hyopthesis for the Welch t-test is also that that the two population means are equal."
      ]
    },
    {
      "cell_type": "markdown",
      "metadata": {
        "id": "5J8hWwdzp-UT"
      },
      "source": [
        "### Confidence Intervals\n",
        "\n",
        "We will also utilize confidence intervals to estimate the uncertatinty of our results. The confidence intervals is based on the aforementioned test statistic:\n",
        "\n",
        "$ CI = [\\bar D - t_{n-1,  \\frac{\\alpha}{2}} s_D / \\sqrt n,  \\bar D + t_{n-1,  \\frac{\\alpha}{2}} s_D / \\sqrt n ]$\n",
        "\n",
        "Where $t_{n-1, \\frac{\\alpha}{2}}$ is the critical value of a student-t distribution with $n-1$ degrees of freedom and significance level $\\alpha$."
      ]
    },
    {
      "cell_type": "markdown",
      "metadata": {
        "id": "eZoTQNm3qAgP"
      },
      "source": [
        "## Natural Language Processing\n",
        "\n",
        "We will utilize NLTK, a Python library for Natural Language Processing, to complete this project’s natural language processing task. More information about NLTK can be found at _https://www.nltk.org/index.html_, or in the NLT book [1].\n",
        "### Sentiment Analysis\n",
        "\n",
        "To study the changes in mood in the media, we will utilize sentiment analysis. Our sentiment analysis will aim to classify whether a quote is positive, neutral, or negative and to which extent it is positive or negative. \n",
        "\n",
        "To conduct the sentiment analysis, we will use the [nltk.sentiment.vader](_https://www.nltk.org/api/nltk.sentiment.vader.html_) module. This module uses the Vader rule-based model for sentiment analysis [2]. Vader’s sentiment lexicon consists of over 7500 lexical features, assigned an intensity score between -4 and 4. \n",
        "\n",
        "We chose the Vader module because it differentiates between slightly positive words and very positive words. This way, we can capture nuances in the sentiment of quotes.\n",
        "\n",
        "To quantify the sentiment, we will use the compound score provided by the Vader module. This score is calculated by normalizing the sum of valence scores for the individual words in the quote. The valence scores are calculated by finding the word score in the Vader lexicon. It does also include heuristics, such as giving extra weight to words written in upper case. To summarize, the following formulas calculate the compound score:\n",
        "\n",
        "$compoundScore = \\frac{sum_s}{\\sqrt{(sum_s^2+15)}}$ where $sum_s =\\sum_{i=1}^{n} valenceScore_i$\n",
        "\n",
        "# References\n",
        "\n",
        "1. Bird, Steven, Edward Loper and Ewan Klein (2009), Natural Language Processing with Python. O’Reilly Media Inc.\n",
        "2. Hutto, C.J. & Gilbert, E.E. (2014). VADER: A Parsimonious Rule-based Model for Sentiment Analysis of Social Media Text. Eighth International Conference on Weblogs and Social Media (ICWSM-14). Ann Arbor, MI, June 2014."
      ]
    }
  ],
  "metadata": {
    "colab": {
      "collapsed_sections": [
        "rRZ45uNiGRCf",
        "LmQY4u0dqfUI",
        "F2P8GD-HubWU",
        "3gulqX-_X2p5",
        "HOQPVMAdG2QZ",
        "9qVIR8Q2HeSf",
        "IbQ0Kavkfkur"
      ],
      "name": "Nyeste.ipynb",
      "provenance": []
    },
    "kernelspec": {
      "display_name": "Python 3",
      "name": "python3"
    },
    "language_info": {
      "name": "python"
    }
  },
  "nbformat": 4,
  "nbformat_minor": 0
}
