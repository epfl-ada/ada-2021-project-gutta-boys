{
  "cells": [
    {
      "cell_type": "code",
      "execution_count": 4,
      "metadata": {
        "colab": {
          "base_uri": "https://localhost:8080/"
        },
        "id": "ek-bP8DHkTyX",
        "outputId": "fc462fc5-0d0f-40ea-8fc9-a63915d49550"
      },
      "outputs": [
        {
          "name": "stderr",
          "output_type": "stream",
          "text": [
            "[nltk_data] Downloading package vader_lexicon to\n",
            "[nltk_data]     C:\\Users\\asbjo\\AppData\\Roaming\\nltk_data...\n"
          ]
        }
      ],
      "source": [
        "import pandas as pd\n",
        "import seaborn as sns\n",
        "from IPython.display import display, HTML\n",
        "import matplotlib.pyplot as plt\n",
        "import scipy.stats as stats\n",
        "import numpy as np\n",
        "import nltk as nltk\n",
        "#import pyarrow\n",
        "import bz2\n",
        "import json\n",
        "import datetime\n",
        "from iteration_utilities import deepflatten\n",
        "import nltk as nltk\n",
        "import scipy.stats as stats\n",
        "from nltk.sentiment.vader import SentimentIntensityAnalyzer\n",
        "nltk.download('vader_lexicon')\n",
        "pd.options.mode.chained_assignment = None"
      ]
    },
    {
      "cell_type": "code",
      "execution_count": 5,
      "metadata": {
        "id": "m7MFr6YSkX3W"
      },
      "outputs": [],
      "source": [
        "#path_to_file = '/content/drive/MyDrive/Quotebank/'\n",
        "\n",
        "files_pre_cleaning = ['quotes-2015.json-001.bz2','quotes-2016.json-002.bz2','quotes-2017.json.bz2',\n",
        "                  'quotes-2018-004.json.bz2','quotes-2019-005.json.bz2','quotes-2020.json.bz2']\n",
        "\n",
        "files_cleaned = ['clean-quotes-2015.csv.bz2','clean-quotes-2016.csv.bz2','clean-quotes-2017.csv.bz2',\n",
        "                  'clean-quotes-2018.csv.bz2','clean-quotes-2019.csv.bz2','clean-quotes-2020.csv.bz2']\n",
        "\n",
        "path_to_wikidata_file = '/content/drive/MyDrive/Project datasets/speaker_attributes.parquet'\n",
        "\n",
        "wikidata_csv = '/content/drive/MyDrive/Project datasets/wikidata_labels_descriptions_quotebank.csv.bz2' "
      ]
    },
    {
      "cell_type": "code",
      "execution_count": 6,
      "metadata": {
        "id": "GZjBM05zkh45"
      },
      "outputs": [],
      "source": [
        "def weekday_number(date):\n",
        "  ''' Returning the weekday number of a date, e.g., 0 for Mondays.\n",
        "\n",
        "  Parameters\n",
        "  ----------\n",
        "  date: datetime\n",
        "    A datetime for which to find the weekday number.\n",
        "\n",
        "  Returns\n",
        "  -------\n",
        "  weekday_number: int\n",
        "    The weekday number of the date.\n",
        "  '''\n",
        "\n",
        "  weekday_number = date.weekday()\n",
        "  return weekday_number\n",
        "\n",
        "\n",
        "def weekday(date):\n",
        "  ''' Returning the name of the weekday for a date.\n",
        "\n",
        "  Parameters\n",
        "  ----------\n",
        "  date: datetime\n",
        "    A datetime for which to find the weekday.\n",
        "\n",
        "  Returns\n",
        "  -------\n",
        "  weekday: str\n",
        "    The weekday of the date.\n",
        "  '''\n",
        "  \n",
        "  day_number = date.weekday()\n",
        "  week_days = [\"Monday\", \"Tuesday\", \"Wednesday\", \"Thursday\", \"Friday\", \"Saturday\", \"Sunday\"]\n",
        "  weekday = week_days[day_number]\n",
        "  return weekday\n",
        "\n",
        "\n",
        "def week(date):\n",
        "  ''' Returning the week number of a date.\n",
        "\n",
        "  Parameters\n",
        "  ----------\n",
        "  date: datetime\n",
        "    A datetime for which to find the weekday.\n",
        "\n",
        "  Returns\n",
        "  -------\n",
        "  week_number: int\n",
        "    The week number of the date.\n",
        "  '''\n",
        "\n",
        "  week_number = date.week()\n",
        "  return week_number\n",
        "\n",
        "\n",
        "def month(date):\n",
        "  ''' Returning the month name of date.\n",
        "\n",
        "  Parameters\n",
        "  ----------\n",
        "  date: datetime\n",
        "    A date for which to find the month name.\n",
        "\n",
        "  Returns\n",
        "  -------\n",
        "  name_month: str\n",
        "    The name of the month.\n",
        "  '''\n",
        "  name_month = date.month_name()\n",
        "  return name_month\n",
        "\n",
        "\n",
        "def add_time(chunk):\n",
        "  ''' Adding columns for weekday, weekday number and month name to a chunk.\n",
        "\n",
        "  Parameters\n",
        "  ----------\n",
        "  chunk: dataframe\n",
        "    The chunk for which to add date information.\n",
        "\n",
        "  Returns\n",
        "  -------\n",
        "  chunk: dataframe\n",
        "    The chunk with date information.\n",
        "  '''\n",
        "\n",
        "  chunk['weekday'] = chunk['date'].apply(lambda x: weekday(x))\n",
        "  chunk['weekday_number'] = chunk['date'].apply(lambda x: weekday_number(x))  \n",
        "  chunk['Month'] =  chunk['date'].apply(lambda x: month(x))\n",
        "  chunk['date_short'] = pd.to_datetime(chunk['date']).dt.date\n",
        "  return chunk\n"
      ]
    },
    {
      "cell_type": "code",
      "execution_count": 7,
      "metadata": {
        "id": "W38iFrOGklAV"
      },
      "outputs": [],
      "source": [
        "def add_dict(key, dictionary):\n",
        "  ''' Incrementing the value of a key in a dictionary.\n",
        "  \n",
        "  Parameters\n",
        "  ----------\n",
        "  key: object\n",
        "    The key for which to increment the value.\n",
        "  \n",
        "  dictionary: dict\n",
        "    A dictionary in which we are incrementing the value of the key, or adding the key if not already present.\n",
        "\n",
        "  Returns\n",
        "  -------\n",
        "  dictionary: dict\n",
        "    The given dictionary after incrementing the value.\n",
        "  '''\n",
        "  \n",
        "  if key in dictionary:\n",
        "    dictionary[key] += 1\n",
        "  else:\n",
        "    dictionary[key] = 1\n",
        "  return dictionary\n",
        "\n",
        "\n",
        "def to_dict(dictionary, chunk_column):\n",
        "  ''' Making a column of a dataframe into a dictionary, e.g., making a dictionary where weekdays are keys,\n",
        "  and the values are the number of occurences of the key in the key.\n",
        "  \n",
        "  Parameters\n",
        "  ----------\n",
        "  dictionary: dict\n",
        "    An initalized dictionary, either containing some preset keys or empty.\n",
        "  \n",
        "  chunk_column: series\n",
        "    A series containing a column of a dataframe.\n",
        "\n",
        "  Returns\n",
        "  -------\n",
        "  dictionary: dict\n",
        "    A dictionary containing the desired values and keys as descripted.\n",
        "  '''\n",
        "\n",
        "  chunk_column.apply(lambda x: add_dict(x, dictionary))\n",
        "  return dictionary"
      ]
    },
    {
      "cell_type": "code",
      "execution_count": 8,
      "metadata": {
        "id": "htGr6kzXklh7"
      },
      "outputs": [],
      "source": [
        "def find_media(url, medias_list):\n",
        "  ''' Returning the media outlet where the quote is found, \n",
        "  but only if the outlet is present in medias_list.\n",
        "  \n",
        "  Parameters\n",
        "  ----------\n",
        "  url: array\n",
        "    An entry in the column 'urls' of the Quotebank dataset, where the first value is the first source where the quote was found.\n",
        "  \n",
        "  medias_list: array\n",
        "    An array containing some chosen media outlets, e.g., 'nytimes'.\n",
        "  \n",
        "  Returns\n",
        "  -------\n",
        "  media: str\n",
        "    The first entry in url if its present in medias_list.\n",
        "  '''\n",
        "\n",
        "  for string in medias_list:\n",
        "    url_string = str(url[0])\n",
        "    if string in url_string:\n",
        "      media = string\n",
        "      return media\n",
        "\n",
        "\n",
        "def get_media(chunk, medias_list):\n",
        "  ''' Adding column with the media outlet where the quote is first found, \n",
        "  but only if the outlet is present in medias_list.\n",
        "  \n",
        "  Parameters\n",
        "  ----------\n",
        "  chunk: dataframe  \n",
        "    A chunk of the Quotebank dataset.\n",
        "\n",
        "  medias_list: array\n",
        "    An array containing some chosen media outlets represented as strings, e.g., 'nytimes'.\n",
        "\n",
        "  Returns\n",
        "  -------\n",
        "  chunk: dataframe\n",
        "    The given chunk of the dataset, now containing a column 'media_outlet' \n",
        "    keeping the media where the quote was first found.\n",
        "  '''\n",
        "\n",
        "  chunk['media_outlet'] = chunk['urls'].apply(lambda x: find_media(x, medias_list))\n",
        "  return chunk"
      ]
    },
    {
      "cell_type": "code",
      "execution_count": 9,
      "metadata": {
        "id": "GPvjYaNCksn_"
      },
      "outputs": [],
      "source": [
        "def occurences_stats(chunk):\n",
        "  ''' Returning the median and 75-th percentile of 'numOccurences' for the given chunk, as well as the chunk size.\n",
        "  \n",
        "  Parameters\n",
        "  ----------\n",
        "  chunk: dataframe\n",
        "    The dataframe keeping a chunk of the dataset.\n",
        "  \n",
        "  Returns\n",
        "  -------\n",
        "  chunk_stats: array\n",
        "    An array keeping the median, 75-th percentile.\n",
        "  '''\n",
        "  \n",
        "  median = chunk.numOccurrences.describe()['50%']\n",
        "  third_quartile = chunk.numOccurrences.describe()['75%']\n",
        "  chunk_stats = [median, third_quartile]\n",
        "  return chunk_stats\n",
        "\n",
        "\n",
        "def stats_entire_dataset(occurence_stats_list):\n",
        "  ''' Aggregating and printing statistics on numOccurences for the entire data set based upon the values in occurence_stats_list.\n",
        "  \n",
        "  Parameters\n",
        "  ----------\n",
        "  occurence_stats_list: array\n",
        "    A 2D-array containing median and 75th percentile for each chunk of the dataset.   \n",
        "  '''\n",
        "\n",
        "  avg_median = 0\n",
        "  avg_75th = 0\n",
        "  for element in occurence_stats_list:\n",
        "    avg_median += element[0]\n",
        "    avg_75th += element[1]\n",
        "  avg_median = avg_median/len(occurence_stats_list)\n",
        "  avg_75th = avg_75th/len(occurence_stats_list)\n",
        "\n",
        "  print(f'Average of median for each chunk for numOccurences: {round(avg_median, 2)}')\n",
        "  print(f'Average 75th quantile for each chunk for  numOccurences: {round(avg_75th, 2)}')\n",
        "\n",
        "\n",
        "def add_length(chunk):\n",
        "  ''' Helper function adding the length of each quote in a new column.\n",
        "  \n",
        "  Parameters\n",
        "  ----------\n",
        "  chunk: dataframe\n",
        "    A chunk of the dataset.\n",
        "    \n",
        "  Returns\n",
        "  -------\n",
        "  chunk: dataframe\n",
        "    The given chunk now containing a 'len_quote' column.\n",
        "  '''\n",
        "\n",
        "  chunk['len_quote'] = chunk['quotation'].apply(lambda x: len(str(x)))\n",
        "  return chunk"
      ]
    },
    {
      "cell_type": "code",
      "execution_count": null,
      "metadata": {
        "id": "CzdZBueKmBpb"
      },
      "outputs": [],
      "source": [
        "# Initializing an array that will store the mean and variance of 'numOccurences' as well as the size of a chunk\n",
        "occurence_stats_list = []\n",
        "\n",
        "# Initializing dictionaries for dates, weekdays and months that will store values for all the chunks\n",
        "date_dictionary = {}\n",
        "\n",
        "# Dictionaries for weekdays and months are initialized with keys to keep them in the correct order for later plotting\n",
        "weekday_dictionary = {'Monday': 0, 'Tuesday': 0, 'Wednesday': 0, 'Thursday': 0,\n",
        "                      'Friday': 0, 'Saturday': 0, 'Sunday': 0}\n",
        "\n",
        "month_dictionary = {'January': 0, 'February': 0,'March': 0,\n",
        "                    'April': 0, 'May': 0, 'June': 0, \n",
        "                    'July': 0, 'August': 0, 'September': 0,\n",
        "                    'October': 0, 'November': 0, 'December': 0}\n",
        "\n",
        "# Iterating through all the cleaned data sets in chunks\n",
        "for x in range(len(files_pre_cleaning)): \n",
        "  print('Working on %d. dataset'%(x+1))\n",
        "  df_reader = pd.read_json(path_to_file + files_pre_cleaning[x], lines=True, compression='bz2', chunksize=50000)\n",
        "  for chunk in df_reader:\n",
        "    chunk = add_time(chunk)\n",
        "    \n",
        "    # Inserting values in the dictionaries\n",
        "    date_dictionary = to_dict(date_dictionary, chunk['date_short'])\n",
        "    weekday_dictionary = to_dict(weekday_dictionary, chunk['weekday'])\n",
        "    month_dictionary = to_dict(month_dictionary, chunk['Month'])\n",
        "\n",
        "    # Generating descriptive stats for the chunk and adding them to occurence_stats_list\n",
        "    occurence_stats_list.append(occurences_stats(chunk))\n",
        "\n",
        "# Creating empty array to store dictionary values\n",
        "arr = []\n",
        "for element in date_dictionary.values():\n",
        "    arr.append(element)\n",
        "arr = np.array(arr)\n",
        "\n",
        "# Calculating mean, std, and median for date_dictionary\n",
        "mean = np.mean(arr)\n",
        "std = np.std(arr)\n",
        "median = np.median(arr)"
      ]
    },
    {
      "cell_type": "code",
      "execution_count": 21,
      "metadata": {
        "id": "49Y2jV1KnKOw"
      },
      "outputs": [],
      "source": [
        "#Bruker ikke per nå\n",
        "#from empath import Empath\n",
        "#lexicon = Empath()\n"
      ]
    },
    {
      "cell_type": "code",
      "execution_count": 10,
      "metadata": {},
      "outputs": [],
      "source": [
        "from textblob import TextBlob"
      ]
    },
    {
      "cell_type": "code",
      "execution_count": 13,
      "metadata": {},
      "outputs": [
        {
          "data": {
            "text/plain": [
              "'\\nchunk = get_media(chunk, media_outlets)\\nfor element in media_outlets:\\n    media_chunk = chunk.loc[chunk[\\'media_outlet\\'] == element]\\n    #print(\"Number of quotes in %s: %d\"%(element, media_chunk.shape[0]))\\n\\n'"
            ]
          },
          "execution_count": 13,
          "metadata": {},
          "output_type": "execute_result"
        }
      ],
      "source": [
        "media_outlets = ['nytimes', 'wsj', 'womansday', 'nbcnews', 'foxnews', 'aarp', 'usmagazine', 'espn', 'usatoday', \n",
        "'newstoday', 'sportingnews', 'theguardian', 'people', 'tmz', 'mtv', 'cnn', 'msn', 'reuters', 'timesrepublican', \n",
        "'nationalgeographic', 'latimes', 'washingtonpost', 'startribune', 'chicagotribune', 'usnews', 'theathletic', \n",
        "'si', 'rollingstone', 'vanityfair', 'intouchweekly', 'starmagazine', 'bbc', 'independent', 'thesun', 'thetimes',\n",
        "'express', 'dailymail', 'mirror', 'economist', ]\n",
        "\n",
        "'''\n",
        "chunk = get_media(chunk, media_outlets)\n",
        "for element in media_outlets:\n",
        "    media_chunk = chunk.loc[chunk['media_outlet'] == element]\n",
        "    #print(\"Number of quotes in %s: %d\"%(element, media_chunk.shape[0]))\n",
        "\n",
        "'''\n"
      ]
    },
    {
      "cell_type": "code",
      "execution_count": 15,
      "metadata": {
        "id": "UFZ2c1Ffln3f"
      },
      "outputs": [
        {
          "name": "stdout",
          "output_type": "stream",
          "text": [
            "chunk OK\n",
            "chunk OK\n",
            "chunk OK\n",
            "chunk OK\n",
            "chunk OK\n",
            "chunk OK\n",
            "chunk OK\n",
            "chunk OK\n",
            "chunk OK\n",
            "chunk OK\n",
            "chunk OK\n"
          ]
        }
      ],
      "source": [
        "# Initializing a sentiment analyzer\n",
        "sent_analyzer = SentimentIntensityAnalyzer()\n",
        "\n",
        "# Reading the data in chunks\n",
        "df_reader = pd.read_json('quotes-2020.json.bz2', lines=True, compression='bz2', chunksize=500000)\n",
        "for chunk in df_reader:\n",
        "  \n",
        "  #Dropping unnecesary columns\n",
        "  \n",
        "\n",
        "  # Calculating compound sentiment scores for the chunk and append the values in a column\n",
        "  chunk['compound'] = chunk['quotation'].apply(lambda x: sent_analyzer.polarity_scores(x)['compound'])\n",
        "  #chunk['positive'] = chunk['quotation'].apply(lambda x: sent_analyzer.polarity_scores(x)['pos'])\n",
        "  #chunk['negative'] = chunk['quotation'].apply(lambda x: sent_analyzer.polarity_scores(x)['neg'])\n",
        "  #chunk['blob_polar'] = chunk['quotation'].apply(lambda x: TextBlob(x).sentiment.polarity)\n",
        "  #chunk = add_time(chunk)\n",
        "\n",
        "\n",
        "  chunk = get_media(chunk, media_outlets)\n",
        "\n",
        "  \n",
        "  #monday_quotes = chunk.loc[chunk['weekday_number'] == 0]\n",
        "  #friday_quotes = chunk.loc[chunk['weekday_number'] == 4]\n",
        "  chunk = chunk.drop(axis=1, columns = 'quoteID')\n",
        "  chunk = chunk.drop(axis=1, columns = 'phase')\n",
        "  chunk = chunk.drop(axis=1, columns = 'quotation')\n",
        "  chunk = chunk.drop(axis=1, columns = 'speaker')\n",
        "  chunk = chunk.drop(axis=1, columns = 'qids')\n",
        "  chunk = chunk.drop(axis=1, columns = 'date')\n",
        "  chunk = chunk.drop(axis=1, columns = 'numOccurrences')\n",
        "  chunk = chunk.drop(axis=1, columns = 'urls')\n",
        "\n",
        "  chunk.to_csv(path_or_buf='quotes-2020-vader_compound.csv.bz2', compression='bz2', mode = 'a')\n",
        "  print('chunk OK')\n",
        "\n",
        "\n",
        "  "
      ]
    },
    {
      "cell_type": "code",
      "execution_count": null,
      "metadata": {},
      "outputs": [],
      "source": []
    },
    {
      "cell_type": "code",
      "execution_count": null,
      "metadata": {},
      "outputs": [],
      "source": [
        "df_reader = pd.read_json('quotes-2020_vader_compound.json.bz2', lines=True, compression='bz2', chunksize=5000000)\n",
        "for chunk in df_reader:\n",
        "\n",
        "break"
      ]
    },
    {
      "cell_type": "code",
      "execution_count": null,
      "metadata": {},
      "outputs": [],
      "source": []
    },
    {
      "cell_type": "code",
      "execution_count": 75,
      "metadata": {
        "colab": {
          "base_uri": "https://localhost:8080/"
        },
        "id": "PQk2-yG23xuY",
        "outputId": "0ef4c62e-40a9-43d5-d547-9f448eab2d20"
      },
      "outputs": [
        {
          "name": "stdout",
          "output_type": "stream",
          "text": [
            "Sentiment scores for quotes in ESPN:\n",
            "count    2786.000000\n",
            "mean        0.257457\n",
            "std         0.447614\n",
            "min        -0.916900\n",
            "25%         0.000000\n",
            "50%         0.273200\n",
            "75%         0.636900\n",
            "max         0.989000\n",
            "Name: compound, dtype: float64\n"
          ]
        }
      ],
      "source": [
        "# Looking at the differences in the sentiment across media outlets\n",
        "espn = chunk.loc[chunk['media_outlet']=='espn']\n",
        "\n",
        "print(\"Sentiment scores for quotes in ESPN:\")\n",
        "print(espn['compound'].describe())"
      ]
    },
    {
      "cell_type": "code",
      "execution_count": 53,
      "metadata": {
        "colab": {
          "base_uri": "https://localhost:8080/"
        },
        "id": "Z_8t04UYlV3U",
        "outputId": "ebd341fc-0805-48b8-bdc6-ceb662cb1e38"
      },
      "outputs": [
        {
          "name": "stdout",
          "output_type": "stream",
          "text": [
            "Sentiment scores for quotes in New York Times:\n",
            "count    3568.000000\n",
            "mean        0.074247\n",
            "std         0.404358\n",
            "min        -0.958400\n",
            "25%        -0.077200\n",
            "50%         0.000000\n",
            "75%         0.386750\n",
            "max         0.981600\n",
            "Name: compound, dtype: float64\n"
          ]
        }
      ],
      "source": [
        "# Looking at the differences in the sentiment across media outlets\n",
        "nytimes = chunk.loc[chunk['media_outlet']=='nytimes']\n",
        "\n",
        "print(\"Sentiment scores for quotes in New York Times:\")\n",
        "print(nytimes['compound'].describe())"
      ]
    },
    {
      "cell_type": "code",
      "execution_count": 67,
      "metadata": {
        "colab": {
          "base_uri": "https://localhost:8080/"
        },
        "id": "oeHeDIiz2uPZ",
        "outputId": "a7fb8b78-f2ab-4380-d4c6-401f5759fbb4"
      },
      "outputs": [
        {
          "name": "stdout",
          "output_type": "stream",
          "text": [
            "Sentiment scores for quotes in USmagazine:\n",
            "count    827.000000\n",
            "mean       0.267237\n",
            "std        0.456941\n",
            "min       -0.951400\n",
            "25%        0.000000\n",
            "50%        0.286900\n",
            "75%        0.659350\n",
            "max        0.994400\n",
            "Name: compound, dtype: float64\n"
          ]
        }
      ],
      "source": [
        "usmagazine = chunk.loc[chunk['media_outlet']=='usmagazine']\n",
        "\n",
        "print(\"Sentiment scores for quotes in USmagazine:\")\n",
        "print(usmagazine['compound'].describe())"
      ]
    },
    {
      "cell_type": "code",
      "execution_count": 54,
      "metadata": {
        "colab": {
          "base_uri": "https://localhost:8080/"
        },
        "id": "gjy9oigPlXg-",
        "outputId": "871e7bcd-a62d-4080-b056-fa711c084157"
      },
      "outputs": [
        {
          "name": "stdout",
          "output_type": "stream",
          "text": [
            "Sentiment scores for quotes in the Wall Street Journal:\n",
            "count    378.000000\n",
            "mean       0.161874\n",
            "std        0.441007\n",
            "min       -0.880500\n",
            "25%        0.000000\n",
            "50%        0.041350\n",
            "75%        0.510600\n",
            "max        0.978100\n",
            "Name: compound, dtype: float64\n"
          ]
        }
      ],
      "source": [
        "wsj = chunk.loc[chunk['media_outlet']=='wsj']\n",
        "\n",
        "print(\"Sentiment scores for quotes in the Wall Street Journal:\")\n",
        "print(wsj['compound'].describe())"
      ]
    },
    {
      "cell_type": "code",
      "execution_count": 55,
      "metadata": {
        "colab": {
          "base_uri": "https://localhost:8080/"
        },
        "id": "Gk2e260XlZCm",
        "outputId": "b15b0b57-b4e3-4ef6-fec5-d73eeb0b34f7"
      },
      "outputs": [
        {
          "name": "stdout",
          "output_type": "stream",
          "text": [
            "Sentiment scores for quotes in the Womansday:\n",
            "count    31.000000\n",
            "mean      0.186561\n",
            "std       0.518135\n",
            "min      -0.743000\n",
            "25%      -0.177000\n",
            "50%       0.000000\n",
            "75%       0.669700\n",
            "max       0.962700\n",
            "Name: compound, dtype: float64\n"
          ]
        }
      ],
      "source": [
        "womansday = chunk.loc[chunk['media_outlet']=='womansday']\n",
        "\n",
        "print(\"Sentiment scores for quotes in the Womansday:\")\n",
        "print(womansday['compound'].describe())"
      ]
    },
    {
      "cell_type": "code",
      "execution_count": 56,
      "metadata": {
        "colab": {
          "base_uri": "https://localhost:8080/"
        },
        "id": "CnZ6G13_lamr",
        "outputId": "dc9a6148-720e-4bc6-b796-1b26d7e49af2"
      },
      "outputs": [
        {
          "name": "stdout",
          "output_type": "stream",
          "text": [
            "Sentiment scores for quotes in FOX news:\n",
            "count    3945.000000\n",
            "mean        0.093046\n",
            "std         0.474749\n",
            "min        -0.971900\n",
            "25%        -0.226300\n",
            "50%         0.000000\n",
            "75%         0.476700\n",
            "max         0.992300\n",
            "Name: compound, dtype: float64\n"
          ]
        }
      ],
      "source": [
        "fox = chunk.loc[chunk['media_outlet']=='foxnews']\n",
        "\n",
        "print(\"Sentiment scores for quotes in FOX news:\")\n",
        "print(fox['compound'].describe())"
      ]
    },
    {
      "cell_type": "code",
      "execution_count": 57,
      "metadata": {
        "colab": {
          "base_uri": "https://localhost:8080/"
        },
        "id": "pPkgSp_OldCK",
        "outputId": "0511855b-cf3f-4c4b-9421-2e43388ee009"
      },
      "outputs": [
        {
          "name": "stdout",
          "output_type": "stream",
          "text": [
            "Two sided paired t-test with null hypothesis: The mean mood in NYtimes equals the mean mood in Wall Street Journal:\n",
            "t-value: -3.701782122842041, p-value: 0.0002408394123224489\n"
          ]
        }
      ],
      "source": [
        "t, p = stats.ttest_ind(nytimes['compound'], wsj['compound'], equal_var=False)\n",
        "print(\"Two sided paired t-test with null hypothesis: The mean mood in NYtimes equals the mean mood in Wall Street Journal:\")\n",
        "print(f\"t-value: {t}, p-value: {p}\")"
      ]
    },
    {
      "cell_type": "code",
      "execution_count": 59,
      "metadata": {
        "colab": {
          "base_uri": "https://localhost:8080/"
        },
        "id": "GEJOB04mmHo4",
        "outputId": "264026b4-1add-4d26-f511-c37ee7a33cb6"
      },
      "outputs": [
        {
          "name": "stdout",
          "output_type": "stream",
          "text": [
            "Sentiment scores for quotes in New York Times:\n",
            "count    3568.000000\n",
            "mean        0.074247\n",
            "std         0.404358\n",
            "min        -0.958400\n",
            "25%        -0.077200\n",
            "50%         0.000000\n",
            "75%         0.386750\n",
            "max         0.981600\n",
            "Name: compound, dtype: float64\n"
          ]
        }
      ],
      "source": [
        "nytimes = chunk.loc[chunk['media_outlet']=='nytimes']\n",
        "print(\"Sentiment scores for quotes in New York Times:\")\n",
        "print(nytimes['compound'].describe())\n"
      ]
    },
    {
      "cell_type": "code",
      "execution_count": 60,
      "metadata": {
        "colab": {
          "base_uri": "https://localhost:8080/"
        },
        "id": "jkfUHjOg1udY",
        "outputId": "d37d9fca-475e-4f2e-a8aa-f2a6ed1ce8d0"
      },
      "outputs": [
        {
          "data": {
            "text/plain": [
              "78        0.200000\n",
              "128       0.193182\n",
              "374       0.300000\n",
              "562       0.450000\n",
              "564      -0.533333\n",
              "            ...   \n",
              "499276    0.166667\n",
              "499694    0.000000\n",
              "499780    0.000000\n",
              "499799    0.357143\n",
              "499863    0.000000\n",
              "Name: blob_polar, Length: 3568, dtype: float64"
            ]
          },
          "execution_count": 60,
          "metadata": {},
          "output_type": "execute_result"
        }
      ],
      "source": [
        "nytimes['blob_polar']"
      ]
    },
    {
      "cell_type": "code",
      "execution_count": 61,
      "metadata": {
        "colab": {
          "base_uri": "https://localhost:8080/"
        },
        "id": "Y20xwEvlwWmP",
        "outputId": "2441ec59-93bd-449c-ad6d-0dd3e4326608"
      },
      "outputs": [
        {
          "name": "stdout",
          "output_type": "stream",
          "text": [
            "count    3568.000000\n",
            "mean        0.078764\n",
            "std         0.258061\n",
            "min        -1.000000\n",
            "25%         0.000000\n",
            "50%         0.000000\n",
            "75%         0.200000\n",
            "max         1.000000\n",
            "Name: blob_polar, dtype: float64\n"
          ]
        }
      ],
      "source": [
        "print(nytimes['blob_polar'].describe())"
      ]
    },
    {
      "cell_type": "code",
      "execution_count": 64,
      "metadata": {
        "colab": {
          "base_uri": "https://localhost:8080/",
          "height": 335
        },
        "id": "-VV67OS42TqU",
        "outputId": "bd1ba759-0ffd-4edb-9639-55aa439e2a55"
      },
      "outputs": [
        {
          "data": {
            "text/plain": [
              "(array([  19.,   20.,  106.,  129.,  360., 2087.,  474.,  264.,   59.,\n",
              "          50.]),\n",
              " array([-1. , -0.8, -0.6, -0.4, -0.2,  0. ,  0.2,  0.4,  0.6,  0.8,  1. ]),\n",
              " <a list of 10 Patch objects>)"
            ]
          },
          "execution_count": 64,
          "metadata": {},
          "output_type": "execute_result"
        },
        {
          "data": {
            "image/png": "[encoded data removed]",
            "text/plain": [
              "<Figure size 432x288 with 1 Axes>"
            ]
          },
          "metadata": {
            "needs_background": "light"
          },
          "output_type": "display_data"
        }
      ],
      "source": [
        "plt.hist(nytimes['blob_polar'])"
      ]
    },
    {
      "cell_type": "code",
      "execution_count": 65,
      "metadata": {
        "colab": {
          "base_uri": "https://localhost:8080/",
          "height": 355
        },
        "id": "z_leNXzL2cdC",
        "outputId": "a301e9b7-a67f-4b70-8f74-65a92243fb3c"
      },
      "outputs": [
        {
          "data": {
            "text/plain": [
              "(array([  86.,  170.,  271.,  270., 1340.,  222.,  324.,  441.,  316.,\n",
              "         128.]),\n",
              " array([-0.9584, -0.7644, -0.5704, -0.3764, -0.1824,  0.0116,  0.2056,\n",
              "         0.3996,  0.5936,  0.7876,  0.9816]),\n",
              " <a list of 10 Patch objects>)"
            ]
          },
          "execution_count": 65,
          "metadata": {},
          "output_type": "execute_result"
        },
        {
          "data": {
            "image/png": "[encoded data removed]",
            "text/plain": [
              "<Figure size 432x288 with 1 Axes>"
            ]
          },
          "metadata": {
            "needs_background": "light"
          },
          "output_type": "display_data"
        }
      ],
      "source": [
        "plt.hist(nytimes['compound'])"
      ]
    },
    {
      "cell_type": "code",
      "execution_count": 68,
      "metadata": {
        "colab": {
          "base_uri": "https://localhost:8080/",
          "height": 335
        },
        "id": "Nw2Rm8Fx28tZ",
        "outputId": "dcaba1fd-aabc-4af2-a66f-6de32a6c150a"
      },
      "outputs": [
        {
          "data": {
            "text/plain": [
              "(array([ 20.,  21.,  42.,  30., 230.,  45.,  93., 105., 114., 127.]),\n",
              " array([-0.9514 , -0.75682, -0.56224, -0.36766, -0.17308,  0.0215 ,\n",
              "         0.21608,  0.41066,  0.60524,  0.79982,  0.9944 ]),\n",
              " <a list of 10 Patch objects>)"
            ]
          },
          "execution_count": 68,
          "metadata": {},
          "output_type": "execute_result"
        },
        {
          "data": {
            "image/png": "[encoded data removed]",
            "text/plain": [
              "<Figure size 432x288 with 1 Axes>"
            ]
          },
          "metadata": {
            "needs_background": "light"
          },
          "output_type": "display_data"
        }
      ],
      "source": [
        "plt.hist(usmagazine['compound'])"
      ]
    },
    {
      "cell_type": "code",
      "execution_count": 80,
      "metadata": {
        "colab": {
          "base_uri": "https://localhost:8080/",
          "height": 1000
        },
        "id": "ei6SODM69tDc",
        "outputId": "cef2ea5e-984e-4e20-c72a-99b5eb5e13b8"
      },
      "outputs": [
        {
          "data": {
            "text/html": [
              "<div>\n",
              "<style scoped>\n",
              "    .dataframe tbody tr th:only-of-type {\n",
              "        vertical-align: middle;\n",
              "    }\n",
              "\n",
              "    .dataframe tbody tr th {\n",
              "        vertical-align: top;\n",
              "    }\n",
              "\n",
              "    .dataframe thead th {\n",
              "        text-align: right;\n",
              "    }\n",
              "</style>\n",
              "<table border=\"1\" class=\"dataframe\">\n",
              "  <thead>\n",
              "    <tr style=\"text-align: right;\">\n",
              "      <th></th>\n",
              "      <th>quoteID</th>\n",
              "      <th>quotation</th>\n",
              "      <th>speaker</th>\n",
              "      <th>qids</th>\n",
              "      <th>date</th>\n",
              "      <th>numOccurrences</th>\n",
              "      <th>probas</th>\n",
              "      <th>urls</th>\n",
              "      <th>phase</th>\n",
              "      <th>compound</th>\n",
              "      <th>positive</th>\n",
              "      <th>negative</th>\n",
              "      <th>blob_polar</th>\n",
              "      <th>blob_subj</th>\n",
              "      <th>weekday</th>\n",
              "      <th>weekday_number</th>\n",
              "      <th>Month</th>\n",
              "      <th>date_short</th>\n",
              "      <th>media_outlet</th>\n",
              "    </tr>\n",
              "  </thead>\n",
              "  <tbody>\n",
              "    <tr>\n",
              "      <th>78</th>\n",
              "      <td>2020-04-10-002022</td>\n",
              "      <td>All the films and my life are thanks to my mot...</td>\n",
              "      <td>Bruce Baillie</td>\n",
              "      <td>[Q2926392]</td>\n",
              "      <td>2020-04-10 23:47:23</td>\n",
              "      <td>1</td>\n",
              "      <td>[[Bruce Baillie, 0.9506], [None, 0.0494]]</td>\n",
              "      <td>[http://nytimes.com/2020/04/10/movies/bruce-ba...</td>\n",
              "      <td>E</td>\n",
              "      <td>0.4404</td>\n",
              "      <td>0.146</td>\n",
              "      <td>0.000</td>\n",
              "      <td>0.200000</td>\n",
              "      <td>0.200000</td>\n",
              "      <td>Friday</td>\n",
              "      <td>4</td>\n",
              "      <td>April</td>\n",
              "      <td>2020-04-10</td>\n",
              "      <td>nytimes</td>\n",
              "    </tr>\n",
              "    <tr>\n",
              "      <th>128</th>\n",
              "      <td>2020-01-09-006199</td>\n",
              "      <td>Andrew Yang's Lies About Supporting Medicare f...</td>\n",
              "      <td>Andrew Yang</td>\n",
              "      <td>[Q11118258, Q28723576]</td>\n",
              "      <td>2020-01-09 01:21:54</td>\n",
              "      <td>2</td>\n",
              "      <td>[[Andrew Yang, 0.7197], [None, 0.2804]]</td>\n",
              "      <td>[https://www.nytimes.com/2020/01/08/opinion/me...</td>\n",
              "      <td>E</td>\n",
              "      <td>-0.0516</td>\n",
              "      <td>0.145</td>\n",
              "      <td>0.205</td>\n",
              "      <td>0.193182</td>\n",
              "      <td>0.375000</td>\n",
              "      <td>Thursday</td>\n",
              "      <td>3</td>\n",
              "      <td>January</td>\n",
              "      <td>2020-01-09</td>\n",
              "      <td>nytimes</td>\n",
              "    </tr>\n",
              "    <tr>\n",
              "      <th>374</th>\n",
              "      <td>2020-01-22-017789</td>\n",
              "      <td>eager to erase the image of congressional Repu...</td>\n",
              "      <td>Eric Cantor</td>\n",
              "      <td>[Q497271]</td>\n",
              "      <td>2020-01-22 21:20:52</td>\n",
              "      <td>2</td>\n",
              "      <td>[[Eric Cantor, 0.5013], [None, 0.3045], [Kevin...</td>\n",
              "      <td>[http://mobile.nytimes.com/2020/01/22/us/polit...</td>\n",
              "      <td>E</td>\n",
              "      <td>0.6249</td>\n",
              "      <td>0.254</td>\n",
              "      <td>0.000</td>\n",
              "      <td>0.300000</td>\n",
              "      <td>0.550000</td>\n",
              "      <td>Wednesday</td>\n",
              "      <td>2</td>\n",
              "      <td>January</td>\n",
              "      <td>2020-01-22</td>\n",
              "      <td>nytimes</td>\n",
              "    </tr>\n",
              "    <tr>\n",
              "      <th>562</th>\n",
              "      <td>2020-01-31-027972</td>\n",
              "      <td>How many players in the N.B.A. have a huge rol...</td>\n",
              "      <td>Brian Baldinger</td>\n",
              "      <td>[Q4963033]</td>\n",
              "      <td>2020-01-31 10:00:17</td>\n",
              "      <td>4</td>\n",
              "      <td>[[Brian Baldinger, 0.5348], [None, 0.3464], [D...</td>\n",
              "      <td>[http://www.nytimes.com/2020/01/31/sports/foot...</td>\n",
              "      <td>E</td>\n",
              "      <td>0.1655</td>\n",
              "      <td>0.130</td>\n",
              "      <td>0.000</td>\n",
              "      <td>0.450000</td>\n",
              "      <td>0.700000</td>\n",
              "      <td>Friday</td>\n",
              "      <td>4</td>\n",
              "      <td>January</td>\n",
              "      <td>2020-01-31</td>\n",
              "      <td>nytimes</td>\n",
              "    </tr>\n",
              "    <tr>\n",
              "      <th>564</th>\n",
              "      <td>2020-01-01-010404</td>\n",
              "      <td>How terrifying can this human be? How afraid o...</td>\n",
              "      <td>Simon Stone</td>\n",
              "      <td>[Q7519836]</td>\n",
              "      <td>2020-01-01 15:00:09</td>\n",
              "      <td>2</td>\n",
              "      <td>[[Simon Stone, 0.5783], [Rose Byrne, 0.3029], ...</td>\n",
              "      <td>[http://nytimes.com/2020/01/01/theater/simon-s...</td>\n",
              "      <td>E</td>\n",
              "      <td>-0.6199</td>\n",
              "      <td>0.000</td>\n",
              "      <td>0.253</td>\n",
              "      <td>-0.533333</td>\n",
              "      <td>0.666667</td>\n",
              "      <td>Wednesday</td>\n",
              "      <td>2</td>\n",
              "      <td>January</td>\n",
              "      <td>2020-01-01</td>\n",
              "      <td>nytimes</td>\n",
              "    </tr>\n",
              "    <tr>\n",
              "      <th>...</th>\n",
              "      <td>...</td>\n",
              "      <td>...</td>\n",
              "      <td>...</td>\n",
              "      <td>...</td>\n",
              "      <td>...</td>\n",
              "      <td>...</td>\n",
              "      <td>...</td>\n",
              "      <td>...</td>\n",
              "      <td>...</td>\n",
              "      <td>...</td>\n",
              "      <td>...</td>\n",
              "      <td>...</td>\n",
              "      <td>...</td>\n",
              "      <td>...</td>\n",
              "      <td>...</td>\n",
              "      <td>...</td>\n",
              "      <td>...</td>\n",
              "      <td>...</td>\n",
              "      <td>...</td>\n",
              "    </tr>\n",
              "    <tr>\n",
              "      <th>499276</th>\n",
              "      <td>2020-01-31-098461</td>\n",
              "      <td>This is an area where I frankly disagree with ...</td>\n",
              "      <td>Kevin Cramer</td>\n",
              "      <td>[Q3957020]</td>\n",
              "      <td>2020-01-31 02:26:37</td>\n",
              "      <td>2</td>\n",
              "      <td>[[Kevin Cramer, 0.6926], [None, 0.2458], [Mich...</td>\n",
              "      <td>[http://www.nytimes.com/2020/01/30/business/ec...</td>\n",
              "      <td>E</td>\n",
              "      <td>-0.6808</td>\n",
              "      <td>0.000</td>\n",
              "      <td>0.237</td>\n",
              "      <td>0.166667</td>\n",
              "      <td>0.333333</td>\n",
              "      <td>Friday</td>\n",
              "      <td>4</td>\n",
              "      <td>January</td>\n",
              "      <td>2020-01-31</td>\n",
              "      <td>nytimes</td>\n",
              "    </tr>\n",
              "    <tr>\n",
              "      <th>499694</th>\n",
              "      <td>2020-02-06-122735</td>\n",
              "      <td>We've heard a lot of candidates make a lot of ...</td>\n",
              "      <td>Michael Bloomberg</td>\n",
              "      <td>[Q607]</td>\n",
              "      <td>2020-02-06 17:11:43</td>\n",
              "      <td>2</td>\n",
              "      <td>[[Michael Bloomberg, 0.5358], [None, 0.4642]]</td>\n",
              "      <td>[http://mobile.nytimes.com/2020/02/06/us/polit...</td>\n",
              "      <td>E</td>\n",
              "      <td>0.1027</td>\n",
              "      <td>0.125</td>\n",
              "      <td>0.106</td>\n",
              "      <td>0.000000</td>\n",
              "      <td>0.000000</td>\n",
              "      <td>Thursday</td>\n",
              "      <td>3</td>\n",
              "      <td>February</td>\n",
              "      <td>2020-02-06</td>\n",
              "      <td>nytimes</td>\n",
              "    </tr>\n",
              "    <tr>\n",
              "      <th>499780</th>\n",
              "      <td>2020-03-17-089328</td>\n",
              "      <td>while they were still up and running.</td>\n",
              "      <td>None</td>\n",
              "      <td>[]</td>\n",
              "      <td>2020-03-17 21:43:22</td>\n",
              "      <td>1</td>\n",
              "      <td>[[None, 0.8751], [Branden Jacobs-Jenkins, 0.12...</td>\n",
              "      <td>[http://nytimes.com/2020/03/17/theater/theater...</td>\n",
              "      <td>E</td>\n",
              "      <td>0.0000</td>\n",
              "      <td>0.000</td>\n",
              "      <td>0.000</td>\n",
              "      <td>0.000000</td>\n",
              "      <td>0.000000</td>\n",
              "      <td>Tuesday</td>\n",
              "      <td>1</td>\n",
              "      <td>March</td>\n",
              "      <td>2020-03-17</td>\n",
              "      <td>nytimes</td>\n",
              "    </tr>\n",
              "    <tr>\n",
              "      <th>499799</th>\n",
              "      <td>2020-03-23-084212</td>\n",
              "      <td>With large population centers, where people ar...</td>\n",
              "      <td>Steven Goodman</td>\n",
              "      <td>[Q2183197]</td>\n",
              "      <td>2020-03-23 23:31:03</td>\n",
              "      <td>2</td>\n",
              "      <td>[[Steven Goodman, 0.8217], [None, 0.1225], [Br...</td>\n",
              "      <td>[http://mobile.nytimes.com/2020/03/23/nyregion...</td>\n",
              "      <td>E</td>\n",
              "      <td>0.0000</td>\n",
              "      <td>0.000</td>\n",
              "      <td>0.000</td>\n",
              "      <td>0.357143</td>\n",
              "      <td>0.464286</td>\n",
              "      <td>Monday</td>\n",
              "      <td>0</td>\n",
              "      <td>March</td>\n",
              "      <td>2020-03-23</td>\n",
              "      <td>nytimes</td>\n",
              "    </tr>\n",
              "    <tr>\n",
              "      <th>499863</th>\n",
              "      <td>2020-02-19-111143</td>\n",
              "      <td>`Your mom' is the standard that we measure eve...</td>\n",
              "      <td>None</td>\n",
              "      <td>[]</td>\n",
              "      <td>2020-02-19 08:00:06</td>\n",
              "      <td>3</td>\n",
              "      <td>[[None, 0.95], [Philip D. Murphy, 0.0283], [Bi...</td>\n",
              "      <td>[http://nytimes.com/2020/02/19/nyregion/new-je...</td>\n",
              "      <td>E</td>\n",
              "      <td>0.0000</td>\n",
              "      <td>0.000</td>\n",
              "      <td>0.000</td>\n",
              "      <td>0.000000</td>\n",
              "      <td>0.000000</td>\n",
              "      <td>Wednesday</td>\n",
              "      <td>2</td>\n",
              "      <td>February</td>\n",
              "      <td>2020-02-19</td>\n",
              "      <td>nytimes</td>\n",
              "    </tr>\n",
              "  </tbody>\n",
              "</table>\n",
              "<p>3568 rows × 19 columns</p>\n",
              "</div>"
            ],
            "text/plain": [
              "                  quoteID  ... media_outlet\n",
              "78      2020-04-10-002022  ...      nytimes\n",
              "128     2020-01-09-006199  ...      nytimes\n",
              "374     2020-01-22-017789  ...      nytimes\n",
              "562     2020-01-31-027972  ...      nytimes\n",
              "564     2020-01-01-010404  ...      nytimes\n",
              "...                   ...  ...          ...\n",
              "499276  2020-01-31-098461  ...      nytimes\n",
              "499694  2020-02-06-122735  ...      nytimes\n",
              "499780  2020-03-17-089328  ...      nytimes\n",
              "499799  2020-03-23-084212  ...      nytimes\n",
              "499863  2020-02-19-111143  ...      nytimes\n",
              "\n",
              "[3568 rows x 19 columns]"
            ]
          },
          "execution_count": 80,
          "metadata": {},
          "output_type": "execute_result"
        }
      ],
      "source": [
        "nytimes"
      ]
    },
    {
      "cell_type": "code",
      "execution_count": 82,
      "metadata": {
        "id": "ul-VkcDc-o1d"
      },
      "outputs": [],
      "source": [
        "date_dictionary = to_dict(date_dictionary, chunk['date_short'])"
      ]
    },
    {
      "cell_type": "code",
      "execution_count": 99,
      "metadata": {
        "id": "WJHjRdvr--hl"
      },
      "outputs": [],
      "source": [
        "date = chunk.groupby('date_short').compound.mean()\n",
        "day = chunk.groupby('weekday').compound.mean()\n",
        "month = chunk.groupby('Month').compound.mean()"
      ]
    },
    {
      "cell_type": "code",
      "execution_count": 95,
      "metadata": {
        "colab": {
          "base_uri": "https://localhost:8080/",
          "height": 283
        },
        "id": "C4GeQiJ3_xvU",
        "outputId": "8abd2233-8c97-4e3e-d751-cffdfbdc22fc"
      },
      "outputs": [
        {
          "data": {
            "text/plain": [
              "[<matplotlib.lines.Line2D at 0x7fc6578c9ed0>]"
            ]
          },
          "execution_count": 95,
          "metadata": {},
          "output_type": "execute_result"
        },
        {
          "data": {
            "image/png": "[encoded data removed]",
            "text/plain": [
              "<Figure size 432x288 with 1 Axes>"
            ]
          },
          "metadata": {
            "needs_background": "light"
          },
          "output_type": "display_data"
        }
      ],
      "source": [
        "plt.plot(date)"
      ]
    },
    {
      "cell_type": "code",
      "execution_count": 97,
      "metadata": {
        "colab": {
          "base_uri": "https://localhost:8080/",
          "height": 283
        },
        "id": "PyLsCsykADA0",
        "outputId": "6ad0b486-cd81-4116-be3f-3d36bc9b0cab"
      },
      "outputs": [
        {
          "data": {
            "text/plain": [
              "[<matplotlib.lines.Line2D at 0x7fc6577c0990>]"
            ]
          },
          "execution_count": 97,
          "metadata": {},
          "output_type": "execute_result"
        },
        {
          "data": {
            "image/png": "[encoded data removed]",
            "text/plain": [
              "<Figure size 432x288 with 1 Axes>"
            ]
          },
          "metadata": {
            "needs_background": "light"
          },
          "output_type": "display_data"
        }
      ],
      "source": [
        "plt.plot(day)"
      ]
    },
    {
      "cell_type": "code",
      "execution_count": 100,
      "metadata": {
        "colab": {
          "base_uri": "https://localhost:8080/",
          "height": 283
        },
        "id": "gmhjx2KQA84w",
        "outputId": "25e1e58a-c355-4ec7-850d-6fb7b28196e4"
      },
      "outputs": [
        {
          "data": {
            "text/plain": [
              "[<matplotlib.lines.Line2D at 0x7fc657621710>]"
            ]
          },
          "execution_count": 100,
          "metadata": {},
          "output_type": "execute_result"
        },
        {
          "data": {
            "image/png": "[encoded data removed]",
            "text/plain": [
              "<Figure size 432x288 with 1 Axes>"
            ]
          },
          "metadata": {
            "needs_background": "light"
          },
          "output_type": "display_data"
        }
      ],
      "source": [
        "plt.plot(month)"
      ]
    }
  ],
  "metadata": {
    "colab": {
      "name": "Mediastats.ipynb",
      "provenance": []
    },
    "kernelspec": {
      "display_name": "Python 3",
      "name": "python3"
    },
    "language_info": {
      "codemirror_mode": {
        "name": "ipython",
        "version": 3
      },
      "file_extension": ".py",
      "mimetype": "text/x-python",
      "name": "python",
      "nbconvert_exporter": "python",
      "pygments_lexer": "ipython3",
      "version": "3.8.11"
    }
  },
  "nbformat": 4,
  "nbformat_minor": 0
}
