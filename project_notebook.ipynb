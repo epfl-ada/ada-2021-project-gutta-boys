{
 "cells": [
  {
   "cell_type": "markdown",
   "metadata": {
    "id": "MS8eYlHJQwPM"
   },
   "source": [
    "### **Investigating the Mood in the Media by Analyzing the Quotebank Data Set**"
   ]
  },
  {
   "cell_type": "markdown",
   "metadata": {},
   "source": [
    "This notebook contains all data loading, cleaning and analysis corresponding to the data story [A Thing Or Two About Mood](https://sigurdkampevold.github.io/media_mood/). The notebook analyzes the mood in the media by using the Quotebank data sets from 2015 to 2020 and a data set from Wikidata. \n",
    "\n",
    "This notebook consists of the following sections:\n",
    "- Setup\n",
    "- Data cleaning\n",
    "- Exploratory Data Analysis (EDA)\n",
    "- Data storing\n",
    "- Helper functions\n",
    "- Handling of additional data sets\n",
    "- Sentiment analysis by time\n",
    "- Sentiment analysis by media outlets\n",
    "- Sentiment analysis by subsamples\n",
    "- Description and mathematical outline of methods\n",
    "\n",
    "During the process of analyzing, we have loaded files, made changes and saved new files. All the used data sets can be found in this [drive](https://drive.google.com/drive/folders/10GVjYHqvwf_UIextesBKyL8Wd6Wr4g9Z?usp=sharing). To run the notebook, please download the data folder and put it on your desktop."
   ]
  },
  {
   "cell_type": "markdown",
   "metadata": {
    "id": "rRZ45uNiGRCf"
   },
   "source": [
    "### Setup"
   ]
  },
  {
   "cell_type": "markdown",
   "metadata": {},
   "source": [
    "The setup section handles the necessary installs and imports needed for the analysis"
   ]
  },
  {
   "cell_type": "markdown",
   "metadata": {
    "id": "LmQY4u0dqfUI"
   },
   "source": [
    "**Imports**"
   ]
  },
  {
   "cell_type": "code",
   "execution_count": 6,
   "metadata": {
    "colab": {
     "base_uri": "https://localhost:8080/"
    },
    "id": "pae7OPwt3OF6",
    "outputId": "34989c5e-d46d-456d-ef5e-cb3d4c437ef7"
   },
   "outputs": [
    {
     "name": "stderr",
     "output_type": "stream",
     "text": [
      "[nltk_data] Downloading package vader_lexicon to\n",
      "[nltk_data]     C:\\Users\\asbjo\\AppData\\Roaming\\nltk_data...\n",
      "[nltk_data]   Package vader_lexicon is already up-to-date!\n"
     ]
    },
    {
     "data": {
      "text/plain": [
       "<Figure size 432x288 with 0 Axes>"
      ]
     },
     "metadata": {},
     "output_type": "display_data"
    }
   ],
   "source": [
    "from iteration_utilities import deepflatten\n",
    "import matplotlib.pyplot as plt\n",
    "plt.tight_layout()\n",
    "import numpy as np\n",
    "import nltk as nltk\n",
    "from nltk.sentiment.vader import SentimentIntensityAnalyzer\n",
    "nltk.download('vader_lexicon')\n",
    "import os\n",
    "import pandas as pd\n",
    "pd.options.mode.chained_assignment = None\n",
    "import plotly.graph_objects as go\n",
    "from plotly.graph_objs import *\n",
    "from plotly.graph_objects import Layout\n",
    "import plotly.io as pio\n",
    "pio.templates.default = \"seaborn\"\n",
    "import seaborn as sns\n",
    "sns.set_theme(context='notebook', style='white')\n",
    "import scipy.stats as stats\n",
    "from textblob import TextBlob\n",
    "import plotly.express as px"
   ]
  },
  {
   "cell_type": "code",
   "execution_count": null,
   "metadata": {},
   "outputs": [],
   "source": [
    "# general path to the data folder, compatible as long as data folder is stored on the dekstop\n",
    "path = os.path.expanduser(\"~/Desktop\") + '/data_mood/'"
   ]
  },
  {
   "cell_type": "markdown",
   "metadata": {
    "id": "3gulqX-_X2p5"
   },
   "source": [
    "### Data Cleaning\n"
   ]
  },
  {
   "cell_type": "markdown",
   "metadata": {
    "id": "7roM2kHDGyRz"
   },
   "source": [
    "*In this part of the notebook, we do the necessary data cleaning for the project:*\n",
    " - Dropping rows with `NaN` or `None` values in the column `quotation`.\n",
    " - Dropping columns not related to our project to reduce the file size. We will remove the columns `quoteID` and `phase`. We know that all quotes in the Quotebank data sets from 2015 to 2020 are from \"phase E\". We do therefore consider these values as irrelevant.\n",
    " - Saving the cleaned data to avoid having to rerun the clean function. In the analysis part of the notebook, the cleaned data sets are used.\n",
    "\n",
    "*In addition to the cleaning described over, we want to highlight and discuss some findings from inspecting the data on the Quotebank website:*\n",
    "\n",
    "- Some quotes are not in English. We choose not to remove these for two reasons: 1) They will not drastically affect our analysis, as they will probably be considered neutral. This is because the Vader Lexicon we use for sentiment analysis does not include support for foreign languages. 2) We think filtering on language demands more work than reward for our project.\n",
    "- Some quotes are repetitive, e.g., \"Yes, yes, yes, yes, yes, yes\". As our sentiment analysis will give standardized results in the range `[-1, 1]`, these quotes will not be a problem for our analysis. It could also be argued that a quote of five \"yes\" should be considered more positive than a quote containing one \"yes\".\n",
    "- Some of the quotes have `None` as the most probable speaker. When analyzing subsets of the data, this is something we have to consider. However, when analyzing the entire data set, without looking at the speaker, this will not be a problem. We will, therefore, not do anything with this in the initial cleaning."
   ]
  },
  {
   "cell_type": "code",
   "execution_count": 3,
   "metadata": {
    "id": "99-HiJ42uakK"
   },
   "outputs": [],
   "source": [
    "files_pre_cleaning = ['quotes-2015.json.bz2','quotes-2016.json.bz2','quotes-2017.json.bz2',\n",
    "                  'quotes-2018.json.bz2','quotes-2019.json.bz2','quotes-2020.json.bz2']\n",
    "\n",
    "files_cleaned = ['clean-quotes-2015.csv.bz2','clean-quotes-2016.csv.bz2','clean-quotes-2017.csv.bz2',\n",
    "                  'clean-quotes-2018.csv.bz2','clean-quotes-2019.csv.bz2','clean-quotes-2020.csv.bz2']\n",
    "\n",
    "path_to_wikidata_file = path + 'speaker_attributes.parquet'"
   ]
  },
  {
   "cell_type": "code",
   "execution_count": null,
   "metadata": {
    "id": "CeBA4LR23Bfy"
   },
   "outputs": [],
   "source": [
    "def clean_data(chunk):\n",
    "  ''' Cleaning a chunk of the data set by replacing 'None' values with NaN and dropping columns that \n",
    "  will not be used in the project.\n",
    "\n",
    "  Parameters\n",
    "  ----------\n",
    "  chunk: dataframe\n",
    "    An uncleaned chunk of the data set.\n",
    "\n",
    "  Returns\n",
    "  -------\n",
    "  chunk: dataframe\n",
    "    A cleaned version of the chunk.\n",
    "  '''\n",
    "\n",
    "  # Replacing quotes of None with NaN values\n",
    "  chunk['quotation'] = chunk['quotation'].replace('None', np.nan)\n",
    "\n",
    "  # Dropping NaN values\n",
    "  chunk = chunk.dropna(axis=0, subset=['quotation'])\n",
    "\n",
    "  # Dropping column 'quoteID' and 'phase' to reduce filesize\n",
    "  chunk = chunk.drop(axis=1, columns = 'quoteID')\n",
    "  chunk = chunk.drop(axis=1, columns = 'phase')\n",
    "  \n",
    "  return chunk\n",
    "\n",
    "\n",
    "# Reading and cleaning the data set in chunks and stores the cleaned data in compressed csv files\n",
    "for x in range(len(files_pre_cleaning)):\n",
    "  df_reader = pd.read_json(path + files_pre_cleaning[x], lines=True, compression='bz2', chunksize=500000)\n",
    "  for chunk in df_reader:\n",
    "      cleaned_chunk = clean_data(chunk)\n",
    "      \n",
    "      filename = files_cleaned[x]\n",
    "      cleaned_chunk.to_csv(path_or_buf=path + filename, compression='bz2', mode='a')\n",
    "\n",
    "  print(f'Cleaned {files_pre_cleaning[x]}')\n"
   ]
  },
  {
   "cell_type": "markdown",
   "metadata": {
    "id": "HOQPVMAdG2QZ"
   },
   "source": [
    "### Helper Functions"
   ]
  },
  {
   "cell_type": "markdown",
   "metadata": {},
   "source": [
    "\n",
    "This section contains helper functions from milestone 2 that are utilized in the final project."
   ]
  },
  {
   "cell_type": "markdown",
   "metadata": {
    "id": "u24RX36Cbg8I"
   },
   "source": [
    "__Functions for dealing with date and time__"
   ]
  },
  {
   "cell_type": "code",
   "execution_count": 5,
   "metadata": {
    "id": "j3waxn703cST"
   },
   "outputs": [],
   "source": [
    "def weekday_number(date):\n",
    "  ''' Returning the weekday number of a date, e.g., 0 for Mondays.\n",
    "\n",
    "  Parameters\n",
    "  ----------\n",
    "  date: datetime\n",
    "    A datetime for which to find the weekday number.\n",
    "\n",
    "  Returns\n",
    "  -------\n",
    "  weekday_number: int\n",
    "    The weekday number of the date.\n",
    "  '''\n",
    "\n",
    "  weekday_number = date.weekday()\n",
    "  return weekday_number\n",
    "\n",
    "\n",
    "def weekday(date):\n",
    "  ''' Returning the name of the weekday for a date.\n",
    "\n",
    "  Parameters\n",
    "  ----------\n",
    "  date: datetime\n",
    "    A datetime for which to find the weekday.\n",
    "\n",
    "  Returns\n",
    "  -------\n",
    "  weekday: str\n",
    "    The weekday of the date.\n",
    "  '''\n",
    "  \n",
    "  day_number = date.weekday()\n",
    "  week_days = [\"Monday\", \"Tuesday\", \"Wednesday\", \"Thursday\", \"Friday\", \"Saturday\", \"Sunday\"]\n",
    "  weekday = week_days[day_number]\n",
    "  return weekday\n",
    "\n",
    "\n",
    "def week(date):\n",
    "  ''' Returning the week number of a date.\n",
    "\n",
    "  Parameters\n",
    "  ----------\n",
    "  date: datetime\n",
    "    A datetime for which to find the weekday.\n",
    "\n",
    "  Returns\n",
    "  -------\n",
    "  week_number: int\n",
    "    The week number of the date.\n",
    "  '''\n",
    "\n",
    "  week_number = date.week()\n",
    "  return week_number\n",
    "\n",
    "\n",
    "def month(date):\n",
    "  ''' Returning the month name of date.\n",
    "\n",
    "  Parameters\n",
    "  ----------\n",
    "  date: datetime\n",
    "    A date for which to find the month name.\n",
    "\n",
    "  Returns\n",
    "  -------\n",
    "  name_month: str\n",
    "    The name of the month.\n",
    "  '''\n",
    "\n",
    "  name_month = date.month_name()\n",
    "  return name_month\n",
    "\n",
    "\n",
    "def add_time(chunk):\n",
    "  ''' Adding columns for weekday, weekday number and month name to a chunk.\n",
    "\n",
    "  Parameters\n",
    "  ----------\n",
    "  chunk: dataframe\n",
    "    The chunk for which to add date information.\n",
    "\n",
    "  Returns\n",
    "  -------\n",
    "  chunk: dataframe\n",
    "    The chunk with date information.\n",
    "  '''\n",
    "\n",
    "  chunk['weekday'] = chunk['date'].apply(lambda x: weekday(x))\n",
    "  chunk['weekday_number'] = chunk['date'].apply(lambda x: weekday_number(x))  \n",
    "  chunk['Month'] =  chunk['date'].apply(lambda x: month(x))\n",
    "  chunk['date_short'] = pd.to_datetime(chunk['date']).dt.date\n",
    "  return chunk"
   ]
  },
  {
   "cell_type": "markdown",
   "metadata": {
    "id": "jRp6Hgp2Ol8K"
   },
   "source": [
    "__Helper functions for dealing with dictionaries__"
   ]
  },
  {
   "cell_type": "code",
   "execution_count": null,
   "metadata": {
    "id": "wk-KXrwP8UZq"
   },
   "outputs": [],
   "source": [
    "def add_dict(key, dictionary):\n",
    "  ''' Incrementing the value of a key in a dictionary.\n",
    "  \n",
    "  Parameters\n",
    "  ----------\n",
    "  key: object\n",
    "    The key for which to increment the value.\n",
    "  \n",
    "  dictionary: dict\n",
    "    A dictionary in which we are incrementing the value of the key, or adding the key if not already present.\n",
    "\n",
    "  Returns\n",
    "  -------\n",
    "  dictionary: dict\n",
    "    The given dictionary after incrementing the value.\n",
    "  '''\n",
    "  \n",
    "  if key in dictionary:\n",
    "    dictionary[key] += 1\n",
    "  else:\n",
    "    dictionary[key] = 1\n",
    "  return dictionary\n",
    "\n",
    "\n",
    "def to_dict(dictionary, chunk_column):\n",
    "  ''' Making a column of a dataframe into a dictionary, e.g., making a dictionary where weekdays are keys,\n",
    "  and the values are the number of occurences of the key in the key.\n",
    "  \n",
    "  Parameters\n",
    "  ----------\n",
    "  dictionary: dict\n",
    "    An initalized dictionary, either containing some preset keys or empty.\n",
    "  \n",
    "  chunk_column: series\n",
    "    A series containing a column of a dataframe.\n",
    "\n",
    "  Returns\n",
    "  -------\n",
    "  dictionary: dict\n",
    "    A dictionary containing the desired values and keys as descripted.\n",
    "  '''\n",
    "\n",
    "  chunk_column.apply(lambda x: add_dict(x, dictionary))\n",
    "  return dictionary"
   ]
  },
  {
   "cell_type": "markdown",
   "metadata": {
    "id": "m-wzstg7xLhz"
   },
   "source": [
    "__Functions for extracting media information__"
   ]
  },
  {
   "cell_type": "code",
   "execution_count": 7,
   "metadata": {
    "id": "IZYaE_7N-Dhh"
   },
   "outputs": [],
   "source": [
    "def find_media(url, medias_list):\n",
    "  ''' Returning the media outlet where the quote is found, \n",
    "  but only if the outlet is present in medias_list.\n",
    "  \n",
    "  Parameters\n",
    "  ----------\n",
    "  url: array\n",
    "    An entry in the column 'urls' of the Quotebank data set, where the first value is the first source where the quote was found.\n",
    "  \n",
    "  medias_list: array\n",
    "    An array containing some chosen media outlets, e.g., 'nytimes'.\n",
    "  \n",
    "  Returns\n",
    "  -------\n",
    "  media: str\n",
    "    The first entry in url if its present in medias_list.\n",
    "  '''\n",
    "\n",
    "  for string in medias_list:\n",
    "    url_string = str(url[0])\n",
    "    if string in url_string:\n",
    "      media = string\n",
    "      return media\n",
    "\n",
    "\n",
    "def get_media(chunk, medias_list):\n",
    "  ''' Adding column with the media outlet where the quote is first found, \n",
    "  but only if the outlet is present in medias_list.\n",
    "  \n",
    "  Parameters\n",
    "  ----------\n",
    "  chunk: dataframe  \n",
    "    A chunk of the Quotebank data set.\n",
    "\n",
    "  medias_list: array\n",
    "    An array containing some chosen media outlets represented as strings, e.g., 'nytimes'.\n",
    "\n",
    "  Returns\n",
    "  -------\n",
    "  chunk: dataframe\n",
    "    The given chunk of the data set, now containing a column 'media_outlet' \n",
    "    keeping the media where the quote was first found.\n",
    "  '''\n",
    "\n",
    "  chunk['media_outlet'] = chunk['urls'].apply(lambda x: find_media(x, medias_list))\n",
    "  return chunk"
   ]
  },
  {
   "cell_type": "markdown",
   "metadata": {
    "id": "ManMn8Y8Te-N"
   },
   "source": [
    "__Functions for descriptive statistics__"
   ]
  },
  {
   "cell_type": "code",
   "execution_count": null,
   "metadata": {
    "id": "ZBfgYwEcvKng"
   },
   "outputs": [],
   "source": [
    "def occurences_stats(chunk):\n",
    "  ''' Returning the median and 75-th percentile of 'numOccurences' for the given chunk.\n",
    "  \n",
    "  Parameters\n",
    "  ----------\n",
    "  chunk: dataframe\n",
    "    The dataframe keeping a chunk of the data set.\n",
    "  \n",
    "  Returns\n",
    "  -------\n",
    "  chunk_stats: array\n",
    "    An array containing the median and the 75-th percentile.\n",
    "  '''\n",
    "  \n",
    "  median = chunk.numOccurrences.describe()['50%']\n",
    "  third_quartile = chunk.numOccurrences.describe()['75%']\n",
    "  chunk_stats = [median, third_quartile]\n",
    "  return chunk_stats\n",
    "\n",
    "\n",
    "def stats_entire_dataset(occurence_stats_list):\n",
    "  ''' Aggregating and printing statistics on numOccurences for the entire data set based upon the values in occurence_stats_list.\n",
    "  \n",
    "  Parameters\n",
    "  ----------\n",
    "  occurence_stats_list: array\n",
    "    A 2D-array containing inner arrays with median and 75th percentile for each chunk of the data set.   \n",
    "  '''\n",
    "\n",
    "  avg_median = 0\n",
    "  avg_75th = 0\n",
    "  for element in occurence_stats_list:\n",
    "    avg_median += element[0]\n",
    "    avg_75th += element[1]\n",
    "  avg_median = avg_median/len(occurence_stats_list)\n",
    "  avg_75th = avg_75th/len(occurence_stats_list)\n",
    "\n",
    "  print(f'Average of median for each chunk for numOccurences: {round(avg_median, 2)}')\n",
    "  print(f'Average 75th quantile for each chunk for  numOccurences: {round(avg_75th, 2)}')\n",
    "\n",
    "\n",
    "def add_length(chunk):\n",
    "  ''' Helper function adding the length of each quote to a new column.\n",
    "  \n",
    "  Parameters\n",
    "  ----------\n",
    "  chunk: dataframe\n",
    "    A chunk of the data set.\n",
    "    \n",
    "  Returns\n",
    "  -------\n",
    "  chunk: dataframe\n",
    "    The given chunk containing a 'len_quote' column.\n",
    "  '''\n",
    "\n",
    "  chunk['len_quote'] = chunk['quotation'].apply(lambda x: len(str(x)))\n",
    "  return chunk"
   ]
  },
  {
   "cell_type": "markdown",
   "metadata": {
    "id": "9qVIR8Q2HeSf"
   },
   "source": [
    "### Exploratory Data Analysis"
   ]
  },
  {
   "cell_type": "markdown",
   "metadata": {},
   "source": [
    "The Exploratory Data Analysis section inspects the data to understand the underlying distributions of the data, identify anomalies and get a grasp of the overall patterns of the data."
   ]
  },
  {
   "cell_type": "markdown",
   "metadata": {
    "id": "GG7msi_EbcOT"
   },
   "source": [
    "__The distribution of the length of quotes and number of occurences for one chunk of size 200 000 from the 2020 data set__"
   ]
  },
  {
   "cell_type": "code",
   "execution_count": null,
   "metadata": {
    "colab": {
     "base_uri": "https://localhost:8080/",
     "height": 621
    },
    "id": "Lexu-awjW7Gl",
    "outputId": "638a47e6-9434-48a8-cd5c-048110624201"
   },
   "outputs": [
    {
     "data": {
      "image/png": "[encoded data removed]",
      "text/plain": [
       "<Figure size 1008x720 with 2 Axes>"
      ]
     },
     "metadata": {
      "needs_background": "light"
     },
     "output_type": "display_data"
    }
   ],
   "source": [
    "# Loading one chunk of size 200 000 from the 2020 data set.\n",
    "df_reader = pd.read_json(path + 'quotes-2020.json.bz2', lines=True, compression='bz2', chunksize=200000)\n",
    "for chunk in df_reader:\n",
    "  break\n",
    "\n",
    "# Adding a 'len_quote' column to the chunk\n",
    "chunk = add_length(chunk)\n",
    "\n",
    "# Plotting the distribution of 'len_quote' and 'numOccurences' for visual inspection\n",
    "fix, ax = plt.subplots(2,1, figsize=(14,10))\n",
    "\n",
    "ax[0].hist(chunk.len_quote, bins=100)\n",
    "ax[0].set_title(\"Length of quotes\")\n",
    "ax[0].set_xlabel(\"Number of signs\")\n",
    "ax[0].set_ylabel(\"Frequency\")\n",
    "ax[0].set_yscale('log')\n",
    "\n",
    "ax[1].hist(chunk.numOccurrences, bins=100)\n",
    "ax[1].set_title(\"Number of occurences of quotes\")\n",
    "ax[1].set_xlabel(\"Number of occurences\")\n",
    "ax[1].set_ylabel(\"Frequency\")\n",
    "ax[1].set_yscale('log')\n",
    "\n",
    "plt.show()"
   ]
  },
  {
   "cell_type": "markdown",
   "metadata": {
    "id": "06sSPwZRaspQ"
   },
   "source": [
    "- The plots show that the length of quotes and the number of occurrences follow a heavy-tailed distribution. We keep this in mind when reporting descriptive statistics.\n",
    "- We observe outliers in the form of long quotes. We do not remove these as we do not think they will affect our sentiment analysis. In addition, we have no reason to claim they are wrong, even though it could be reasoned that 2000+ sign quotes may result from misclassification from the Quotebank algorithm. \n",
    "- For the number of occurrences, we see that most quotes are quoted a few times, but some are repeated many times. This is important for our sentiment analysis since the quotation sentiment should be scaled by the number of occurrences to reflect the total sentiment in the media correctly."
   ]
  },
  {
   "cell_type": "code",
   "execution_count": null,
   "metadata": {
    "colab": {
     "base_uri": "https://localhost:8080/",
     "height": 357
    },
    "id": "XtqBGb5Bk1X5",
    "outputId": "bc356bf6-f2c7-483c-d14d-1e454ad88141"
   },
   "outputs": [
    {
     "data": {
      "text/html": [
       "<div>\n",
       "<style scoped>\n",
       "    .dataframe tbody tr th:only-of-type {\n",
       "        vertical-align: middle;\n",
       "    }\n",
       "\n",
       "    .dataframe tbody tr th {\n",
       "        vertical-align: top;\n",
       "    }\n",
       "\n",
       "    .dataframe thead th {\n",
       "        text-align: right;\n",
       "    }\n",
       "</style>\n",
       "<table border=\"1\" class=\"dataframe\">\n",
       "  <thead>\n",
       "    <tr style=\"text-align: right;\">\n",
       "      <th></th>\n",
       "      <th>quoteID</th>\n",
       "      <th>quotation</th>\n",
       "      <th>speaker</th>\n",
       "      <th>qids</th>\n",
       "      <th>date</th>\n",
       "      <th>numOccurrences</th>\n",
       "      <th>probas</th>\n",
       "      <th>urls</th>\n",
       "      <th>phase</th>\n",
       "      <th>len_quote</th>\n",
       "    </tr>\n",
       "  </thead>\n",
       "  <tbody>\n",
       "    <tr>\n",
       "      <th>0</th>\n",
       "      <td>2020-01-28-000082</td>\n",
       "      <td>[ D ] espite the efforts of the partners to cr...</td>\n",
       "      <td>None</td>\n",
       "      <td>[]</td>\n",
       "      <td>2020-01-28 08:04:05</td>\n",
       "      <td>1</td>\n",
       "      <td>[[None, 0.7272], [Prime Minister Netanyahu, 0....</td>\n",
       "      <td>[http://israelnationalnews.com/News/News.aspx/...</td>\n",
       "      <td>E</td>\n",
       "      <td>276</td>\n",
       "    </tr>\n",
       "    <tr>\n",
       "      <th>1</th>\n",
       "      <td>2020-01-16-000088</td>\n",
       "      <td>[ Department of Homeland Security ] was livid ...</td>\n",
       "      <td>Sue Myrick</td>\n",
       "      <td>[Q367796]</td>\n",
       "      <td>2020-01-16 12:00:13</td>\n",
       "      <td>1</td>\n",
       "      <td>[[Sue Myrick, 0.8867], [None, 0.0992], [Ron Wy...</td>\n",
       "      <td>[http://thehill.com/opinion/international/4782...</td>\n",
       "      <td>E</td>\n",
       "      <td>91</td>\n",
       "    </tr>\n",
       "    <tr>\n",
       "      <th>2</th>\n",
       "      <td>2020-02-10-000142</td>\n",
       "      <td>... He (Madhav) also disclosed that the illega...</td>\n",
       "      <td>None</td>\n",
       "      <td>[]</td>\n",
       "      <td>2020-02-10 23:45:54</td>\n",
       "      <td>1</td>\n",
       "      <td>[[None, 0.8926], [Prakash Rai, 0.1074]]</td>\n",
       "      <td>[https://indianexpress.com/article/business/ec...</td>\n",
       "      <td>E</td>\n",
       "      <td>264</td>\n",
       "    </tr>\n",
       "    <tr>\n",
       "      <th>3</th>\n",
       "      <td>2020-02-15-000053</td>\n",
       "      <td>... [ I ] f it gets to the floor,</td>\n",
       "      <td>None</td>\n",
       "      <td>[]</td>\n",
       "      <td>2020-02-15 14:12:51</td>\n",
       "      <td>2</td>\n",
       "      <td>[[None, 0.581], [Andy Harris, 0.4191]]</td>\n",
       "      <td>[https://patriotpost.us/opinion/68622-trump-bu...</td>\n",
       "      <td>E</td>\n",
       "      <td>33</td>\n",
       "    </tr>\n",
       "    <tr>\n",
       "      <th>4</th>\n",
       "      <td>2020-01-24-000168</td>\n",
       "      <td>[ I met them ] when they just turned 4 and 7. ...</td>\n",
       "      <td>Meghan King Edmonds</td>\n",
       "      <td>[Q20684375]</td>\n",
       "      <td>2020-01-24 20:37:09</td>\n",
       "      <td>4</td>\n",
       "      <td>[[Meghan King Edmonds, 0.5446], [None, 0.2705]...</td>\n",
       "      <td>[https://people.com/parents/meghan-king-edmond...</td>\n",
       "      <td>E</td>\n",
       "      <td>102</td>\n",
       "    </tr>\n",
       "  </tbody>\n",
       "</table>\n",
       "</div>"
      ],
      "text/plain": [
       "             quoteID  ... len_quote\n",
       "0  2020-01-28-000082  ...       276\n",
       "1  2020-01-16-000088  ...        91\n",
       "2  2020-02-10-000142  ...       264\n",
       "3  2020-02-15-000053  ...        33\n",
       "4  2020-01-24-000168  ...       102\n",
       "\n",
       "[5 rows x 10 columns]"
      ]
     },
     "execution_count": 12,
     "metadata": {},
     "output_type": "execute_result"
    }
   ],
   "source": [
    "# Showing the head of a chunk of the 2020 dataset for visual inspection\n",
    "chunk.head(5)"
   ]
  },
  {
   "cell_type": "markdown",
   "metadata": {
    "id": "YcEGFiT7b856"
   },
   "source": [
    "The data seems to have loaded as expected, and we do not notice any errors immediately."
   ]
  },
  {
   "cell_type": "markdown",
   "metadata": {
    "id": "DtQqyOD9d8u6"
   },
   "source": [
    "__Calculating descriptive statistics and gathering data on the whole data set__\n"
   ]
  },
  {
   "cell_type": "code",
   "execution_count": null,
   "metadata": {
    "id": "gRPeQliw0J0t"
   },
   "outputs": [],
   "source": [
    "# Initializing an array that will store the mean and variance of 'numOccurences' as well as the size of a chunk\n",
    "occurence_stats_list = []\n",
    "\n",
    "# Initializing dictionaries for dates, weekdays and months that will store values for all the chunks\n",
    "date_dictionary = {}\n",
    "\n",
    "# Dictionaries for weekdays and months are initialized with keys to keep them in the correct order for later plotting\n",
    "weekday_dictionary = {'Monday': 0, 'Tuesday': 0, 'Wednesday': 0, 'Thursday': 0,\n",
    "                      'Friday': 0, 'Saturday': 0, 'Sunday': 0}\n",
    "\n",
    "month_dictionary = {'January': 0, 'February': 0,'March': 0,\n",
    "                    'April': 0, 'May': 0, 'June': 0, \n",
    "                    'July': 0, 'August': 0, 'September': 0,\n",
    "                    'October': 0, 'November': 0, 'December': 0}\n",
    "\n",
    "# Iterating through all the cleaned data sets in chunks\n",
    "for x in range(len(files_pre_cleaning)): \n",
    "  print('Working on %d. dataset'%(x+1))\n",
    "  df_reader = pd.read_json(path + files_pre_cleaning[x], lines=True, compression='bz2', chunksize=50000)\n",
    "  for chunk in df_reader:\n",
    "    chunk = add_time(chunk)\n",
    "    \n",
    "    # Inserting values in the dictionaries\n",
    "    date_dictionary = to_dict(date_dictionary, chunk['date_short'])\n",
    "    weekday_dictionary = to_dict(weekday_dictionary, chunk['weekday'])\n",
    "    month_dictionary = to_dict(month_dictionary, chunk['Month'])\n",
    "\n",
    "    # Generating descriptive stats for the chunk and adding them to occurence_stats_list\n",
    "    occurence_stats_list.append(occurences_stats(chunk))\n",
    "\n",
    "# Creating empty array to store dictionary values\n",
    "arr = []\n",
    "for element in date_dictionary.values():\n",
    "    arr.append(element)\n",
    "arr = np.array(arr)\n",
    "\n",
    "# Calculating mean, std, and median for date_dictionary\n",
    "mean = np.mean(arr)\n",
    "std = np.std(arr)\n",
    "median = np.median(arr)"
   ]
  },
  {
   "cell_type": "markdown",
   "metadata": {
    "id": "fXrPfiY9JWbl"
   },
   "source": [
    "__Descriptive statistics for the number of quotes and the number of occurrences for quotes__"
   ]
  },
  {
   "cell_type": "code",
   "execution_count": null,
   "metadata": {
    "colab": {
     "base_uri": "https://localhost:8080/"
    },
    "id": "v4GJuJ70g1BQ",
    "outputId": "3865ab14-8421-4361-9977-3c2a6d3c6264"
   },
   "outputs": [
    {
     "name": "stdout",
     "output_type": "stream",
     "text": [
      "Mean of quotes per day: 59764.35\n",
      "Standard deviation of quotes per day: 31690.1\n",
      "Median of quotes per day: 64147.5\n",
      "\n",
      "Average of median for each chunk for numOccurences: 1.0\n",
      "Average 75th quantile for each chunk for  numOccurences: 2.0\n"
     ]
    }
   ],
   "source": [
    "print(f'Mean of quotes per day: {round(mean, 2)}\\nStandard deviation of quotes per day: {round(std, 2)}\\nMedian of quotes per day: {round(median, 2)}\\n')\n",
    "\n",
    "# Printing the average of median and 75th quantile per chunk for numOccurences for the entire data set\n",
    "stats_entire_dataset(occurence_stats_list)"
   ]
  },
  {
   "cell_type": "markdown",
   "metadata": {
    "id": "NHf53zwkcH__"
   },
   "source": [
    "- On average, there are around 60 000 quotations per day. The standard deviation is very high, probably because of the gaps in 2015-2017 that can be seen in the plot below.\n",
    "- For the number of occurrences, we report the average of the median and the average of the 75th quantile for the chunks. This is because it follows a heavy-tailed distribution, and it is necessary to report robust statistics.\n",
    "- We see that the average median per chunk for numOccurences is one and the 75th quantile is two. This shows that most quotes are quoted few times."
   ]
  },
  {
   "cell_type": "markdown",
   "metadata": {
    "id": "iaZmjAq_K3n9"
   },
   "source": [
    "__Number of quotes per day for the entire data set on a log-scaled Y-axis__"
   ]
  },
  {
   "cell_type": "code",
   "execution_count": null,
   "metadata": {
    "colab": {
     "base_uri": "https://localhost:8080/",
     "height": 508
    },
    "id": "iB1Z_kzwdAIo",
    "outputId": "28dcc820-7e8a-479d-d725-ac306ad8c679"
   },
   "outputs": [
    {
     "data": {
      "image/png": "[encoded data removed]",
      "text/plain": [
       "<Figure size 1440x576 with 1 Axes>"
      ]
     },
     "metadata": {
      "needs_background": "light"
     },
     "output_type": "display_data"
    }
   ],
   "source": [
    "fig, ax=plt.subplots(1,1, figsize = (20,8))\n",
    "ax.bar(date_dictionary.keys(), date_dictionary.values(), width=1.0)\n",
    "ax.set_title(\"Quotes per day\")\n",
    "ax.set_xlabel(\"Date\")\n",
    "ax.set_ylabel(\"Frequency\")\n",
    "ax.set_yscale('log')\n",
    "plt.show()"
   ]
  },
  {
   "cell_type": "markdown",
   "metadata": {
    "id": "TxtULoDtK_Nl"
   },
   "source": [
    "__Number of quotes per day for the entire data set__"
   ]
  },
  {
   "cell_type": "code",
   "execution_count": null,
   "metadata": {
    "colab": {
     "base_uri": "https://localhost:8080/",
     "height": 500
    },
    "id": "Iax_bnAePV59",
    "outputId": "5f373468-eee2-4fcf-9633-a1b4c8c19f73"
   },
   "outputs": [
    {
     "data": {
      "image/png": "[encoded data removed]",
      "text/plain": [
       "<Figure size 1440x576 with 1 Axes>"
      ]
     },
     "metadata": {
      "needs_background": "light"
     },
     "output_type": "display_data"
    }
   ],
   "source": [
    "fig, ax=plt.subplots(1,1, figsize = (20,8))\n",
    "ax.bar(date_dictionary.keys(), date_dictionary.values(), width=1.0)\n",
    "ax.set_title(\"Quotes per day\")\n",
    "ax.set_xlabel(\"Date\")\n",
    "ax.set_ylabel(\"Frequency\")\n",
    "plt.show()"
   ]
  },
  {
   "cell_type": "markdown",
   "metadata": {
    "id": "pAK0DNr-cWcK"
   },
   "source": [
    "- We notice that there are some large gaps between 2015 and 2017 where very few quotes was registered which should be kept in mind for future analyses"
   ]
  },
  {
   "cell_type": "markdown",
   "metadata": {
    "id": "DjXFRkU1LTpo"
   },
   "source": [
    "__Quotes per weekday__"
   ]
  },
  {
   "cell_type": "code",
   "execution_count": null,
   "metadata": {
    "colab": {
     "base_uri": "https://localhost:8080/",
     "height": 507
    },
    "id": "79r6oXFwOz3L",
    "outputId": "117807b1-deea-482b-e335-26c0eda2aa6a"
   },
   "outputs": [
    {
     "data": {
      "image/png": "[encoded data removed]",
      "text/plain": [
       "<Figure size 1440x576 with 1 Axes>"
      ]
     },
     "metadata": {
      "needs_background": "light"
     },
     "output_type": "display_data"
    }
   ],
   "source": [
    "fig, ax = plt.subplots(1, figsize = (20,8))\n",
    "ax.bar(weekday_dictionary.keys(), weekday_dictionary.values())\n",
    "ax.set_title(\"Total quotes per weekday\")\n",
    "ax.set_xlabel(\"Weekday\")\n",
    "ax.set_ylabel(\"Number of quotes\")\n",
    "plt.show()"
   ]
  },
  {
   "cell_type": "markdown",
   "metadata": {
    "id": "kf9Ll9jtcoqu"
   },
   "source": [
    "- The plot shows, as expected, that there are fewer quotes in the weekends"
   ]
  },
  {
   "cell_type": "markdown",
   "metadata": {
    "id": "BuvNhCDkLbzh"
   },
   "source": [
    "__Quotes per month__"
   ]
  },
  {
   "cell_type": "code",
   "execution_count": null,
   "metadata": {
    "colab": {
     "base_uri": "https://localhost:8080/",
     "height": 509
    },
    "id": "_9uDjUngP5NG",
    "outputId": "3f7663dd-0373-48a3-c2d6-bed51fde8a58"
   },
   "outputs": [
    {
     "data": {
      "image/png": "[encoded data removed]",
      "text/plain": [
       "<Figure size 1440x576 with 1 Axes>"
      ]
     },
     "metadata": {
      "needs_background": "light"
     },
     "output_type": "display_data"
    }
   ],
   "source": [
    "fig, ax = plt.subplots(1, figsize = (20,8))\n",
    "ax.bar(month_dictionary.keys(), month_dictionary.values())\n",
    "ax.set_title(\"Total quotes per month\")\n",
    "ax.set_xlabel(\"Month\")\n",
    "ax.set_ylabel(\"Number of quotes\")\n",
    "plt.show()"
   ]
  },
  {
   "cell_type": "markdown",
   "metadata": {
    "id": "G0tU_IPjcs2T"
   },
   "source": [
    "- We see that the number of quotes varies across months. There are several natural reasons for this:\n",
    " - In 2020, only quotes from January to April are included\n",
    " - Between 2015 and 2017, there are, as aforementioned, gaps in quotes for some months. From this and the plots above, it seems like January, June, and November have been most severely impacted. "
   ]
  },
  {
   "cell_type": "markdown",
   "metadata": {
    "id": "IbQ0Kavkfkur"
   },
   "source": [
    "### Additional Data Set\n"
   ]
  },
  {
   "cell_type": "markdown",
   "metadata": {},
   "source": [
    "As mentioned in the ReadMe, we use the Wikidata data set to enrich our analyses. It is mainly used for determining whether a speaker is a man or woman and whether the speaker is a politician or not. In this section, we have included the necessary code to extract this information from the data set. "
   ]
  },
  {
   "cell_type": "code",
   "execution_count": 4,
   "metadata": {
    "colab": {
     "base_uri": "https://localhost:8080/",
     "height": 0
    },
    "id": "BBdG0fbFQUHa",
    "outputId": "6d9e2a6f-988a-464a-9264-35061c60799c"
   },
   "outputs": [
    {
     "data": {
      "text/html": [
       "<div>\n",
       "<style scoped>\n",
       "    .dataframe tbody tr th:only-of-type {\n",
       "        vertical-align: middle;\n",
       "    }\n",
       "\n",
       "    .dataframe tbody tr th {\n",
       "        vertical-align: top;\n",
       "    }\n",
       "\n",
       "    .dataframe thead th {\n",
       "        text-align: right;\n",
       "    }\n",
       "</style>\n",
       "<table border=\"1\" class=\"dataframe\">\n",
       "  <thead>\n",
       "    <tr style=\"text-align: right;\">\n",
       "      <th></th>\n",
       "      <th>aliases</th>\n",
       "      <th>date_of_birth</th>\n",
       "      <th>nationality</th>\n",
       "      <th>gender</th>\n",
       "      <th>lastrevid</th>\n",
       "      <th>ethnic_group</th>\n",
       "      <th>US_congress_bio_ID</th>\n",
       "      <th>occupation</th>\n",
       "      <th>party</th>\n",
       "      <th>academic_degree</th>\n",
       "      <th>id</th>\n",
       "      <th>label</th>\n",
       "      <th>candidacy</th>\n",
       "      <th>type</th>\n",
       "      <th>religion</th>\n",
       "    </tr>\n",
       "  </thead>\n",
       "  <tbody>\n",
       "    <tr>\n",
       "      <th>0</th>\n",
       "      <td>[Washington, President Washington, G. Washingt...</td>\n",
       "      <td>[+1732-02-22T00:00:00Z]</td>\n",
       "      <td>[Q161885, Q30]</td>\n",
       "      <td>[Q6581097]</td>\n",
       "      <td>1395141751</td>\n",
       "      <td>None</td>\n",
       "      <td>W000178</td>\n",
       "      <td>[Q82955, Q189290, Q131512, Q1734662, Q294126, ...</td>\n",
       "      <td>[Q327591]</td>\n",
       "      <td>None</td>\n",
       "      <td>Q23</td>\n",
       "      <td>George Washington</td>\n",
       "      <td>[Q698073, Q697949]</td>\n",
       "      <td>item</td>\n",
       "      <td>[Q682443]</td>\n",
       "    </tr>\n",
       "    <tr>\n",
       "      <th>1</th>\n",
       "      <td>[Douglas Noel Adams, Douglas Noël Adams, Dougl...</td>\n",
       "      <td>[+1952-03-11T00:00:00Z]</td>\n",
       "      <td>[Q145]</td>\n",
       "      <td>[Q6581097]</td>\n",
       "      <td>1395737157</td>\n",
       "      <td>[Q7994501]</td>\n",
       "      <td>None</td>\n",
       "      <td>[Q214917, Q28389, Q6625963, Q4853732, Q1884422...</td>\n",
       "      <td>None</td>\n",
       "      <td>None</td>\n",
       "      <td>Q42</td>\n",
       "      <td>Douglas Adams</td>\n",
       "      <td>None</td>\n",
       "      <td>item</td>\n",
       "      <td>None</td>\n",
       "    </tr>\n",
       "    <tr>\n",
       "      <th>2</th>\n",
       "      <td>[Paul Marie Ghislain Otlet, Paul Marie Otlet]</td>\n",
       "      <td>[+1868-08-23T00:00:00Z]</td>\n",
       "      <td>[Q31]</td>\n",
       "      <td>[Q6581097]</td>\n",
       "      <td>1380367296</td>\n",
       "      <td>None</td>\n",
       "      <td>None</td>\n",
       "      <td>[Q36180, Q40348, Q182436, Q1265807, Q205375, Q...</td>\n",
       "      <td>None</td>\n",
       "      <td>None</td>\n",
       "      <td>Q1868</td>\n",
       "      <td>Paul Otlet</td>\n",
       "      <td>None</td>\n",
       "      <td>item</td>\n",
       "      <td>None</td>\n",
       "    </tr>\n",
       "    <tr>\n",
       "      <th>3</th>\n",
       "      <td>[George Walker Bush, Bush Jr., Dubya, GWB, Bus...</td>\n",
       "      <td>[+1946-07-06T00:00:00Z]</td>\n",
       "      <td>[Q30]</td>\n",
       "      <td>[Q6581097]</td>\n",
       "      <td>1395142029</td>\n",
       "      <td>None</td>\n",
       "      <td>None</td>\n",
       "      <td>[Q82955, Q15982858, Q18814623, Q1028181, Q1408...</td>\n",
       "      <td>[Q29468]</td>\n",
       "      <td>None</td>\n",
       "      <td>Q207</td>\n",
       "      <td>George W. Bush</td>\n",
       "      <td>[Q327959, Q464075, Q3586276, Q4450587]</td>\n",
       "      <td>item</td>\n",
       "      <td>[Q329646, Q682443, Q33203]</td>\n",
       "    </tr>\n",
       "    <tr>\n",
       "      <th>4</th>\n",
       "      <td>[Velázquez, Diego Rodríguez de Silva y Velázqu...</td>\n",
       "      <td>[+1599-06-06T00:00:00Z]</td>\n",
       "      <td>[Q29]</td>\n",
       "      <td>[Q6581097]</td>\n",
       "      <td>1391704596</td>\n",
       "      <td>None</td>\n",
       "      <td>None</td>\n",
       "      <td>[Q1028181]</td>\n",
       "      <td>None</td>\n",
       "      <td>None</td>\n",
       "      <td>Q297</td>\n",
       "      <td>Diego Velázquez</td>\n",
       "      <td>None</td>\n",
       "      <td>item</td>\n",
       "      <td>None</td>\n",
       "    </tr>\n",
       "  </tbody>\n",
       "</table>\n",
       "</div>"
      ],
      "text/plain": [
       "                                             aliases  ...                    religion\n",
       "0  [Washington, President Washington, G. Washingt...  ...                   [Q682443]\n",
       "1  [Douglas Noel Adams, Douglas Noël Adams, Dougl...  ...                        None\n",
       "2      [Paul Marie Ghislain Otlet, Paul Marie Otlet]  ...                        None\n",
       "3  [George Walker Bush, Bush Jr., Dubya, GWB, Bus...  ...  [Q329646, Q682443, Q33203]\n",
       "4  [Velázquez, Diego Rodríguez de Silva y Velázqu...  ...                        None\n",
       "\n",
       "[5 rows x 15 columns]"
      ]
     },
     "execution_count": 4,
     "metadata": {},
     "output_type": "execute_result"
    }
   ],
   "source": [
    "# Reading the Wikidata files\n",
    "read_wikidata_parquet = pd.read_parquet(path_to_wikidata_file)\n",
    "read_wikidata_parquet.head()"
   ]
  },
  {
   "cell_type": "markdown",
   "metadata": {
    "id": "LkV4s2l5i0t6"
   },
   "source": [
    "The wikidata data set loaded as expected"
   ]
  },
  {
   "cell_type": "markdown",
   "metadata": {
    "id": "pa1OmQDujFbI"
   },
   "source": [
    "__Functions for extracting quotes by politicians and gender__"
   ]
  },
  {
   "cell_type": "code",
   "execution_count": null,
   "metadata": {
    "colab": {
     "base_uri": "https://localhost:8080/"
    },
    "id": "fzY78-FQa8S3",
    "outputId": "7706374a-c96e-4742-e47e-2397117d8b00"
   },
   "outputs": [
    {
     "name": "stdout",
     "output_type": "stream",
     "text": [
      "                                             aliases  ...   religion\n",
      "0  [Washington, President Washington, G. Washingt...  ...  [Q682443]\n",
      "\n",
      "[1 rows x 15 columns]\n"
     ]
    }
   ],
   "source": [
    "def find_alias_in_wiki(alias):\n",
    "  ''' Returning a dataframe, consisting of one row, with Wikidata information about the given alias .\n",
    "  \n",
    "  Parameters\n",
    "  ----------\n",
    "  alias: str\n",
    "    A given alias to look up in the Wikidata files\n",
    "    \n",
    "  Returns\n",
    "  -------\n",
    "  match: dataframe\n",
    "    A dataframe containing information about the given alias.\n",
    "  '''\n",
    "  \n",
    "  index = []\n",
    "  for i, aliases in enumerate(read_wikidata_parquet['aliases']):\n",
    "    if aliases is None:\n",
    "      continue\n",
    "    if alias in aliases:\n",
    "        index.append(i)\n",
    "  \n",
    "  match = read_wikidata_parquet.loc[index]\n",
    "  return match\n",
    "\n",
    "# Testing the above function by looking up President Washington\n",
    "print(find_alias_in_wiki(\"President Washington\"))"
   ]
  },
  {
   "cell_type": "code",
   "execution_count": null,
   "metadata": {
    "id": "S2nrlqAu2lRi"
   },
   "outputs": [],
   "source": [
    "def dataset_filtered_on_aliases(aliases, dataset):\n",
    "  '''Returning a filtered dataframe containing rows where 'speaker' is present in aliases array.\n",
    "  \n",
    "  Parameters\n",
    "  ----------\n",
    "  aliases: array\n",
    "    An array containing desired aliases to filter on.\n",
    "    \n",
    "  dataset: dataframe\n",
    "    The dataframe to filter.\n",
    "    \n",
    "  Returns\n",
    "  -------\n",
    "  dataset_alias_filtered: dataframe\n",
    "    The given data set filtered as described.\n",
    "  '''\n",
    "  \n",
    "  dataset_alias_filtered = dataset[dataset['speaker'].isin(aliases)]\n",
    "  \n",
    "  # Replacing speakers of None with NaN values\n",
    "  dataset_alias_filtered['speaker'] = dataset_alias_filtered['speaker'].replace('None', np.nan)\n",
    "  \n",
    "  # Dropping NaN values\n",
    "  dataset_alias_filtered = dataset_alias_filtered.dropna(axis=0, subset=['speaker'])\n",
    "  return dataset_alias_filtered\n",
    "\n",
    "\n",
    "def dataset_filtered_on_politicians(wikidata, dataset):\n",
    "  ''' Returning a filtered dataframe only containing quotes by politicians. \n",
    "  Note that a person can be listed with many professions and therefore distringuishing\n",
    "  someone who is a former politican can be difficult.\n",
    "\n",
    "  Parameters\n",
    "  ----------\n",
    "  wikidata: dataframe\n",
    "    A dataframe containing the Wikidata data set.\n",
    "\n",
    "  dataset: dataframe\n",
    "    A dataframe to filter on politicians.\n",
    "\n",
    "  Returns\n",
    "  -------\n",
    "  dataset_filtered_on_politicans: dataframe\n",
    "    A dataframe filtered as described.\n",
    "  '''\n",
    "\n",
    "  wikidata['politician'] = wikidata['occupation'].apply(lambda x: isPolitician(x))\n",
    "  wikidata_politician_filtered = wikidata[wikidata.politician]\n",
    "  \n",
    "  # After filtering on occupation, turns all aliases into 1D list\n",
    "  all_wiki_aliases_politician_filtered = wikidata_politician_filtered['aliases'].tolist()\n",
    "  all_wiki_aliases_politician_filtered = list(deepflatten(all_wiki_aliases_politician_filtered, depth=1))\n",
    "\n",
    "  # Returns original data set filtered on the speakers corresponding to politicians\n",
    "  dataset_filtered_on_politicans = dataset_filtered_on_aliases(all_wiki_aliases_politician_filtered, dataset)\n",
    "  return dataset_filtered_on_politicans\n",
    "\n",
    "\n",
    "def conv_to_string(x):\n",
    "  ''' Converting the first element of a list x to a string. \n",
    "  If the input not is a list, it returns 'N/A.\n",
    "\n",
    "  Parameters\n",
    "  ----------\n",
    "  x: array\n",
    "    An array where we want to convert the first element into a string.\n",
    "\n",
    "  Returns\n",
    "  -------\n",
    "  first_elem: str\n",
    "    The first element of the array converted into a string or 'N/A' if the input is not a list.\n",
    "  '''\n",
    "\n",
    "  try:\n",
    "    first_elem = str(x[0])\n",
    "    return first_elem\n",
    "  except:\n",
    "    return 'N/A'\n",
    "\n",
    "def isPolitician(array):\n",
    "  ''' Checking whether the QID for the politician occupation is in array.\n",
    "  \n",
    "  Parameters\n",
    "  ----------\n",
    "  array: array \n",
    "    An array to check whether the QID is in.\n",
    "    \n",
    "  Returns\n",
    "  -------\n",
    "  bool\n",
    "    A boolean telling whether the QID correspond to a polication or not.'''\n",
    "\n",
    "  try:\n",
    "    # Uses harcoded QID for politician == Q82955\n",
    "    if 'Q82955' in array:\n",
    "      return True\n",
    "    else:\n",
    "      return False\n",
    "  except:\n",
    "    return False\n",
    "\n",
    "def dataset_filtered_on_gender_with_alias(gender, wikidata, dataset):\n",
    "  ''' Filtering data set on gender given the information in Wikidata\n",
    "      Only includes a row if the speaker is not 'None'.\n",
    "  Parameters\n",
    "  ----------\n",
    "  gender: str\n",
    "    A string either 'male' or 'female'.\n",
    "  \n",
    "  wikidata: dataframe\n",
    "    A dataframe containing the Wikidata data set.\n",
    "\n",
    "  dataset: dataframe\n",
    "    The dataset to filter on gender.\n",
    "\n",
    "  Returns\n",
    "  -------\n",
    "  dataframe\n",
    "    The given data set filtered on gender.\n",
    "  '''\n",
    "  \n",
    "  if gender == 'male' or gender == 'female':\n",
    "    gender_qid = 'Q6581097' if gender == 'male' else 'Q6581072'\n",
    "    # Converting the gender column to string to be able to check if it equals gender_qid\n",
    "    wikidata['gender'] = wikidata['gender'].apply(lambda x: conv_to_string(x))\n",
    "    wikidata_gender_filtered = wikidata.loc[wikidata['gender'] == gender_qid]\n",
    "\n",
    "  else:\n",
    "    print(\"Invalid gender, the function does only consider binary genders.\")\n",
    "    exit()\n",
    "  \n",
    "  # After filtering on gender, make turn all aliases into 1D list\n",
    "  all_wiki_aliases_gender_filtered = wikidata_gender_filtered['aliases'].tolist()\n",
    "  all_wiki_aliases_gender_filtered = list(deepflatten(all_wiki_aliases_gender_filtered, depth=1))\n",
    "  \n",
    "  # Returning original data set filtered on the speakers corresponding to a gender\n",
    "  return dataset_filtered_on_aliases(all_wiki_aliases_gender_filtered, dataset)"
   ]
  },
  {
   "cell_type": "markdown",
   "metadata": {
    "id": "GA7lCEZD48FH"
   },
   "source": [
    "__Testing the gender and politicians filtering functions__"
   ]
  },
  {
   "cell_type": "code",
   "execution_count": null,
   "metadata": {
    "id": "A5MGrzjLoGwM"
   },
   "outputs": [],
   "source": [
    "# Testing whether the above-mentioned functions work by creating two dataframes. \n",
    "# 'males' includes only male speakers while 'politicians' includes only speakers that are politicans.\n",
    "df_reader = pd.read_json(path + 'quotes-2020.json.bz2', lines=True, compression='bz2', chunksize=100000)\n",
    "for chunk in df_reader:\n",
    "  males = dataset_filtered_on_gender_with_alias('male', read_wikidata_parquet, chunk)\n",
    "  politicians = dataset_filtered_on_politicians(read_wikidata_parquet, chunk)\n",
    "  break"
   ]
  },
  {
   "cell_type": "code",
   "execution_count": null,
   "metadata": {
    "colab": {
     "base_uri": "https://localhost:8080/",
     "height": 431
    },
    "id": "rFmFPe-whp6q",
    "outputId": "44c3872d-e41e-4817-e804-185c4f4d0b40"
   },
   "outputs": [
    {
     "data": {
      "text/html": [
       "<div>\n",
       "<style scoped>\n",
       "    .dataframe tbody tr th:only-of-type {\n",
       "        vertical-align: middle;\n",
       "    }\n",
       "\n",
       "    .dataframe tbody tr th {\n",
       "        vertical-align: top;\n",
       "    }\n",
       "\n",
       "    .dataframe thead th {\n",
       "        text-align: right;\n",
       "    }\n",
       "</style>\n",
       "<table border=\"1\" class=\"dataframe\">\n",
       "  <thead>\n",
       "    <tr style=\"text-align: right;\">\n",
       "      <th></th>\n",
       "      <th>quoteID</th>\n",
       "      <th>quotation</th>\n",
       "      <th>speaker</th>\n",
       "      <th>qids</th>\n",
       "      <th>date</th>\n",
       "      <th>numOccurrences</th>\n",
       "      <th>probas</th>\n",
       "      <th>urls</th>\n",
       "      <th>phase</th>\n",
       "    </tr>\n",
       "  </thead>\n",
       "  <tbody>\n",
       "    <tr>\n",
       "      <th>25</th>\n",
       "      <td>2020-02-18-000907</td>\n",
       "      <td>A city is not an accident but the result of co...</td>\n",
       "      <td>Leon Krier</td>\n",
       "      <td>[Q970000]</td>\n",
       "      <td>2020-02-18 09:39:38</td>\n",
       "      <td>1</td>\n",
       "      <td>[[Leon Krier, 0.8559], [None, 0.1441]]</td>\n",
       "      <td>[http://allafrica.com/stories/202002180401.html]</td>\n",
       "      <td>E</td>\n",
       "    </tr>\n",
       "    <tr>\n",
       "      <th>29</th>\n",
       "      <td>2020-01-26-000499</td>\n",
       "      <td>a few of the candidates who will do better in ...</td>\n",
       "      <td>Dave Loebsack</td>\n",
       "      <td>[Q771586]</td>\n",
       "      <td>2020-01-26 13:21:36</td>\n",
       "      <td>11</td>\n",
       "      <td>[[Dave Loebsack, 0.9011], [None, 0.0949], [Joe...</td>\n",
       "      <td>[http://rss.cnn.com/~r/rss/cnn_allpolitics/~3/...</td>\n",
       "      <td>E</td>\n",
       "    </tr>\n",
       "    <tr>\n",
       "      <th>34</th>\n",
       "      <td>2020-02-29-000491</td>\n",
       "      <td>a lack of resources and government funding</td>\n",
       "      <td>Paul Harvey</td>\n",
       "      <td>[Q16195572, Q16204369, Q39074951, Q47350253, Q...</td>\n",
       "      <td>2020-02-29 00:13:45</td>\n",
       "      <td>1</td>\n",
       "      <td>[[Paul Harvey, 0.9212], [None, 0.0788]]</td>\n",
       "      <td>[http://basingstokegazette.co.uk/news/18270936...</td>\n",
       "      <td>E</td>\n",
       "    </tr>\n",
       "    <tr>\n",
       "      <th>62</th>\n",
       "      <td>2020-02-17-001857</td>\n",
       "      <td>Absolutely they could (cause some upsets),</td>\n",
       "      <td>Tim Cridland</td>\n",
       "      <td>[Q8065902]</td>\n",
       "      <td>2020-02-17 00:40:00</td>\n",
       "      <td>1</td>\n",
       "      <td>[[Tim Cridland, 0.9051], [None, 0.0949]]</td>\n",
       "      <td>[http://www.dailymercury.com.au/news/rival-ski...</td>\n",
       "      <td>E</td>\n",
       "    </tr>\n",
       "    <tr>\n",
       "      <th>68</th>\n",
       "      <td>2020-04-03-002052</td>\n",
       "      <td>After talking with Chris about his background ...</td>\n",
       "      <td>Brad Smith</td>\n",
       "      <td>[Q15477554, Q16218831, Q23664265, Q24084114, Q...</td>\n",
       "      <td>2020-04-03 15:16:31</td>\n",
       "      <td>1</td>\n",
       "      <td>[[Brad Smith, 0.7482], [None, 0.2469], [Chris ...</td>\n",
       "      <td>[http://www.hmenews.com/article/brief-package-...</td>\n",
       "      <td>E</td>\n",
       "    </tr>\n",
       "  </tbody>\n",
       "</table>\n",
       "</div>"
      ],
      "text/plain": [
       "              quoteID  ... phase\n",
       "25  2020-02-18-000907  ...     E\n",
       "29  2020-01-26-000499  ...     E\n",
       "34  2020-02-29-000491  ...     E\n",
       "62  2020-02-17-001857  ...     E\n",
       "68  2020-04-03-002052  ...     E\n",
       "\n",
       "[5 rows x 9 columns]"
      ]
     },
     "execution_count": 13,
     "metadata": {},
     "output_type": "execute_result"
    }
   ],
   "source": [
    "males.head()"
   ]
  },
  {
   "cell_type": "markdown",
   "metadata": {
    "id": "fvZl071hyosz"
   },
   "source": [
    "The male filtering seems to have worked as expected"
   ]
  },
  {
   "cell_type": "code",
   "execution_count": null,
   "metadata": {
    "colab": {
     "base_uri": "https://localhost:8080/",
     "height": 466
    },
    "id": "4RB_JRZCnFJZ",
    "outputId": "1b3a1bc4-df09-4d0d-90eb-aac082a6a90d"
   },
   "outputs": [
    {
     "data": {
      "text/html": [
       "<div>\n",
       "<style scoped>\n",
       "    .dataframe tbody tr th:only-of-type {\n",
       "        vertical-align: middle;\n",
       "    }\n",
       "\n",
       "    .dataframe tbody tr th {\n",
       "        vertical-align: top;\n",
       "    }\n",
       "\n",
       "    .dataframe thead th {\n",
       "        text-align: right;\n",
       "    }\n",
       "</style>\n",
       "<table border=\"1\" class=\"dataframe\">\n",
       "  <thead>\n",
       "    <tr style=\"text-align: right;\">\n",
       "      <th></th>\n",
       "      <th>quoteID</th>\n",
       "      <th>quotation</th>\n",
       "      <th>speaker</th>\n",
       "      <th>qids</th>\n",
       "      <th>date</th>\n",
       "      <th>numOccurrences</th>\n",
       "      <th>probas</th>\n",
       "      <th>urls</th>\n",
       "      <th>phase</th>\n",
       "    </tr>\n",
       "  </thead>\n",
       "  <tbody>\n",
       "    <tr>\n",
       "      <th>29</th>\n",
       "      <td>2020-01-26-000499</td>\n",
       "      <td>a few of the candidates who will do better in ...</td>\n",
       "      <td>Dave Loebsack</td>\n",
       "      <td>[Q771586]</td>\n",
       "      <td>2020-01-26 13:21:36</td>\n",
       "      <td>11</td>\n",
       "      <td>[[Dave Loebsack, 0.9011], [None, 0.0949], [Joe...</td>\n",
       "      <td>[http://rss.cnn.com/~r/rss/cnn_allpolitics/~3/...</td>\n",
       "      <td>E</td>\n",
       "    </tr>\n",
       "    <tr>\n",
       "      <th>72</th>\n",
       "      <td>2020-02-07-003833</td>\n",
       "      <td>All future inquiries should be directed to the...</td>\n",
       "      <td>Seamus Ryan</td>\n",
       "      <td>[Q7440788]</td>\n",
       "      <td>2020-02-07 22:11:55</td>\n",
       "      <td>1</td>\n",
       "      <td>[[Seamus Ryan, 0.6351], [None, 0.3649]]</td>\n",
       "      <td>[https://www.koaa.com/news/news5-investigates/...</td>\n",
       "      <td>E</td>\n",
       "    </tr>\n",
       "    <tr>\n",
       "      <th>88</th>\n",
       "      <td>2020-01-23-004492</td>\n",
       "      <td>Although not a lubricant issue, tire wear is e...</td>\n",
       "      <td>John Burke</td>\n",
       "      <td>[Q15451851, Q16188889, Q16297972, Q1699458, Q2...</td>\n",
       "      <td>2020-01-23 16:23:57</td>\n",
       "      <td>1</td>\n",
       "      <td>[[John Burke, 0.7478], [None, 0.2522]]</td>\n",
       "      <td>[http://www.theenergycollective.com/node/40103...</td>\n",
       "      <td>E</td>\n",
       "    </tr>\n",
       "    <tr>\n",
       "      <th>105</th>\n",
       "      <td>2020-01-09-005110</td>\n",
       "      <td>And his own drama is that he's stuck in this c...</td>\n",
       "      <td>John Moore</td>\n",
       "      <td>[Q10500229, Q1537696, Q16089768, Q16106364, Q1...</td>\n",
       "      <td>2020-01-09 06:00:48</td>\n",
       "      <td>1</td>\n",
       "      <td>[[John Moore, 0.7892], [None, 0.2108]]</td>\n",
       "      <td>[https://www.seattletimes.com/entertainment/mo...</td>\n",
       "      <td>E</td>\n",
       "    </tr>\n",
       "    <tr>\n",
       "      <th>109</th>\n",
       "      <td>2020-01-23-005418</td>\n",
       "      <td>And I think we've come to a time where we are ...</td>\n",
       "      <td>Sheila Oliver</td>\n",
       "      <td>[Q7493177]</td>\n",
       "      <td>2020-01-23 21:15:14</td>\n",
       "      <td>1</td>\n",
       "      <td>[[Sheila Oliver, 0.9228], [None, 0.0772]]</td>\n",
       "      <td>[https://wobm.com/how-toxic-is-nj-political-cl...</td>\n",
       "      <td>E</td>\n",
       "    </tr>\n",
       "  </tbody>\n",
       "</table>\n",
       "</div>"
      ],
      "text/plain": [
       "               quoteID  ... phase\n",
       "29   2020-01-26-000499  ...     E\n",
       "72   2020-02-07-003833  ...     E\n",
       "88   2020-01-23-004492  ...     E\n",
       "105  2020-01-09-005110  ...     E\n",
       "109  2020-01-23-005418  ...     E\n",
       "\n",
       "[5 rows x 9 columns]"
      ]
     },
     "execution_count": 12,
     "metadata": {},
     "output_type": "execute_result"
    }
   ],
   "source": [
    "politicians.head()"
   ]
  },
  {
   "cell_type": "markdown",
   "metadata": {
    "id": "qIB1X_8YnRSd"
   },
   "source": [
    "Some quick Google searches indicates that the filtering has worked for politicians as well"
   ]
  },
  {
   "cell_type": "markdown",
   "metadata": {},
   "source": [
    "### Data Storing"
   ]
  },
  {
   "cell_type": "markdown",
   "metadata": {},
   "source": [
    "This section runs the code that implements the necessary calculations for the analyses and stores the results in new files. There are three of these storing operations, one for each part of the analysis, i.e. mood across time, mood across media outlets, and mood across subsamples. Three seperate storing operations may seem redundant, but we chose to do it this way to ease the division of work. This way, each person needed only to do the calculations for his own part and we avoided having to work with larger data sets than needed."
   ]
  },
  {
   "cell_type": "markdown",
   "metadata": {},
   "source": [
    "#### Mood Across Time\n",
    "\n",
    "Calculating and storing the data needed for the analysis on mood across time"
   ]
  },
  {
   "cell_type": "code",
   "execution_count": 1,
   "metadata": {},
   "outputs": [],
   "source": [
    "# Defining data paths\n",
    "files = ['quotes-2015.json.bz2','quotes-2016.json.bz2','quotes-2017.json.bz2',\n",
    "                  'quotes-2018.json.bz2','quotes-2019.json.bz2','quotes-2020.json.bz2']"
   ]
  },
  {
   "cell_type": "markdown",
   "metadata": {},
   "source": [
    "Storing time data, semtiment scores and media outlet for all quotations in the data set"
   ]
  },
  {
   "cell_type": "code",
   "execution_count": null,
   "metadata": {},
   "outputs": [],
   "source": [
    "# Initializing the sentiment analyzer\n",
    "sent_analyzer = SentimentIntensityAnalyzer()\n",
    "\n",
    "# Defining relevant media outlets\n",
    "media_outlets = ['nytimes', 'wsj', 'womansday', 'nbcnews', 'foxnews', 'aarp', 'usmagazine', 'espn', 'usatoday', \n",
    "'newstoday', 'sportingnews', 'theguardian', 'people', 'tmz', 'mtv', 'cnn', 'msn', 'reuters', 'timesrepublican', \n",
    "'nationalgeographic', 'latimes', 'washingtonpost', 'startribune', 'chicagotribune', 'usnews', 'theathletic', \n",
    "'si', 'rollingstone', 'vanityfair', 'intouchweekly', 'starmagazine', 'bbc', 'independent', 'thesun', 'thetimes',\n",
    "'express', 'dailymail', 'mirror', 'economist', ]\n",
    "\n",
    "# Iterating through all the cleaned data sets in chunks and saving compound, polarity and subjectivity score, and media outlet\n",
    "for x in range(len(files)): \n",
    "  print('Working on %d. dataset'%(x + 1))\n",
    "  df_reader = pd.read_json(path + files[x], lines=True, compression='bz2', chunksize=50000)\n",
    "  a = 0\n",
    "  for chunk in df_reader:\n",
    "    # Adding date, month, and weekday to the dataframe\n",
    "    chunk = add_time(chunk)\n",
    "    \n",
    "    # Calculating compound score with NLTK Vader\n",
    "    chunk['compound'] = chunk['quotation'].apply(lambda x: sent_analyzer.polarity_scores(x)['compound'])\n",
    "\n",
    "    # Computing polarity and subjectivity score with Text Blob\n",
    "    chunk['polarity'] = chunk['quotation'].apply(lambda x: TextBlob(x).sentiment[0])\n",
    "    chunk['subjectivity'] = chunk['quotation'].apply(lambda x: TextBlob(x).sentiment[1])\n",
    "\n",
    "    # Adding the media outlet to the dataframe if the media outlet is included in media_outlets\n",
    "    chunk = get_media(chunk, media_outlets)\n",
    "    \n",
    "    # Only keeping relevant columns\n",
    "    chunk = chunk[['date_short','compound','polarity','subjectivity','media_outlet','weekday', 'Month']]\n",
    "\n",
    "    # Writing the chunk to a csv file\n",
    "    chunk.to_csv(path_or_buf=path+'fil%d.csv.bz2'%x, compression='bz2', mode = 'a')"
   ]
  },
  {
   "cell_type": "code",
   "execution_count": null,
   "metadata": {},
   "outputs": [],
   "source": [
    "# Reading all the newly created quote files into one large dataframe\n",
    "files = [path+'fil%d.csv.bz2'%i for i in range(6)]\n",
    "df = pd.concat(map(pd.read_csv, [files[i] for i in range(6)]))"
   ]
  },
  {
   "cell_type": "markdown",
   "metadata": {},
   "source": [
    "Formatting the new dataframe"
   ]
  },
  {
   "cell_type": "code",
   "execution_count": null,
   "metadata": {},
   "outputs": [],
   "source": [
    "# Converting relevant columns to numeric\n",
    "df['compound'] = pd.to_numeric(df.compound, errors='coerce')\n",
    "df['polarity'] = pd.to_numeric(df.polarity, errors='coerce')\n",
    "df['subjectivity'] = pd.to_numeric(df.subjectivity, errors='coerce')\n",
    "\n",
    "# Dropping excessive column\n",
    "df = df.drop('Unnamed: 0', axis=1)\n",
    "\n",
    "# Sorting dataframe by date for enabling visualizing time series\n",
    "df = df.sort_values(by=['date_short'])\n",
    "\n",
    "# Dropping rows with Nan values except for nan values in media_outlet\n",
    "df_new = df.dropna(subset=['date_short','compound', 'polarity', 'subjectivity','weekday','Month'])"
   ]
  },
  {
   "cell_type": "markdown",
   "metadata": {},
   "source": [
    "Checking whether the formatting have worked as expected by studying the tail of the old and new dataframe"
   ]
  },
  {
   "cell_type": "code",
   "execution_count": null,
   "metadata": {},
   "outputs": [
    {
     "data": {
      "text/html": [
       "<div>\n",
       "<style scoped>\n",
       "    .dataframe tbody tr th:only-of-type {\n",
       "        vertical-align: middle;\n",
       "    }\n",
       "\n",
       "    .dataframe tbody tr th {\n",
       "        vertical-align: top;\n",
       "    }\n",
       "\n",
       "    .dataframe thead th {\n",
       "        text-align: right;\n",
       "    }\n",
       "</style>\n",
       "<table border=\"1\" class=\"dataframe\">\n",
       "  <thead>\n",
       "    <tr style=\"text-align: right;\">\n",
       "      <th></th>\n",
       "      <th>date_short</th>\n",
       "      <th>compound</th>\n",
       "      <th>polarity</th>\n",
       "      <th>subjectivity</th>\n",
       "      <th>media_outlet</th>\n",
       "      <th>weekday</th>\n",
       "      <th>Month</th>\n",
       "    </tr>\n",
       "  </thead>\n",
       "  <tbody>\n",
       "    <tr>\n",
       "      <th>17100341</th>\n",
       "      <td>date_short</td>\n",
       "      <td>NaN</td>\n",
       "      <td>NaN</td>\n",
       "      <td>NaN</td>\n",
       "      <td>media_outlet</td>\n",
       "      <td>weekday</td>\n",
       "      <td>Month</td>\n",
       "    </tr>\n",
       "    <tr>\n",
       "      <th>17150342</th>\n",
       "      <td>date_short</td>\n",
       "      <td>NaN</td>\n",
       "      <td>NaN</td>\n",
       "      <td>NaN</td>\n",
       "      <td>media_outlet</td>\n",
       "      <td>weekday</td>\n",
       "      <td>Month</td>\n",
       "    </tr>\n",
       "    <tr>\n",
       "      <th>17200343</th>\n",
       "      <td>date_short</td>\n",
       "      <td>NaN</td>\n",
       "      <td>NaN</td>\n",
       "      <td>NaN</td>\n",
       "      <td>media_outlet</td>\n",
       "      <td>weekday</td>\n",
       "      <td>Month</td>\n",
       "    </tr>\n",
       "    <tr>\n",
       "      <th>16150322</th>\n",
       "      <td>date_short</td>\n",
       "      <td>NaN</td>\n",
       "      <td>NaN</td>\n",
       "      <td>NaN</td>\n",
       "      <td>media_outlet</td>\n",
       "      <td>weekday</td>\n",
       "      <td>Month</td>\n",
       "    </tr>\n",
       "    <tr>\n",
       "      <th>25100501</th>\n",
       "      <td>date_short</td>\n",
       "      <td>NaN</td>\n",
       "      <td>NaN</td>\n",
       "      <td>NaN</td>\n",
       "      <td>media_outlet</td>\n",
       "      <td>weekday</td>\n",
       "      <td>Month</td>\n",
       "    </tr>\n",
       "  </tbody>\n",
       "</table>\n",
       "</div>"
      ],
      "text/plain": [
       "          date_short  compound  polarity  subjectivity  media_outlet  weekday  \\\n",
       "17100341  date_short       NaN       NaN           NaN  media_outlet  weekday   \n",
       "17150342  date_short       NaN       NaN           NaN  media_outlet  weekday   \n",
       "17200343  date_short       NaN       NaN           NaN  media_outlet  weekday   \n",
       "16150322  date_short       NaN       NaN           NaN  media_outlet  weekday   \n",
       "25100501  date_short       NaN       NaN           NaN  media_outlet  weekday   \n",
       "\n",
       "          Month  \n",
       "17100341  Month  \n",
       "17150342  Month  \n",
       "17200343  Month  \n",
       "16150322  Month  \n",
       "25100501  Month  "
      ]
     },
     "execution_count": 62,
     "metadata": {},
     "output_type": "execute_result"
    }
   ],
   "source": [
    "# original dataframe\n",
    "df.tail()"
   ]
  },
  {
   "cell_type": "code",
   "execution_count": null,
   "metadata": {},
   "outputs": [
    {
     "data": {
      "text/html": [
       "<div>\n",
       "<style scoped>\n",
       "    .dataframe tbody tr th:only-of-type {\n",
       "        vertical-align: middle;\n",
       "    }\n",
       "\n",
       "    .dataframe tbody tr th {\n",
       "        vertical-align: top;\n",
       "    }\n",
       "\n",
       "    .dataframe thead th {\n",
       "        text-align: right;\n",
       "    }\n",
       "</style>\n",
       "<table border=\"1\" class=\"dataframe\">\n",
       "  <thead>\n",
       "    <tr style=\"text-align: right;\">\n",
       "      <th></th>\n",
       "      <th>date_short</th>\n",
       "      <th>compound</th>\n",
       "      <th>polarity</th>\n",
       "      <th>subjectivity</th>\n",
       "      <th>media_outlet</th>\n",
       "      <th>weekday</th>\n",
       "      <th>Month</th>\n",
       "    </tr>\n",
       "  </thead>\n",
       "  <tbody>\n",
       "    <tr>\n",
       "      <th>2549961</th>\n",
       "      <td>2020-04-17</td>\n",
       "      <td>0.7506</td>\n",
       "      <td>0.250000</td>\n",
       "      <td>0.35</td>\n",
       "      <td>NaN</td>\n",
       "      <td>Friday</td>\n",
       "      <td>April</td>\n",
       "    </tr>\n",
       "    <tr>\n",
       "      <th>5020444</th>\n",
       "      <td>2020-04-17</td>\n",
       "      <td>0.0000</td>\n",
       "      <td>0.000000</td>\n",
       "      <td>0.00</td>\n",
       "      <td>NaN</td>\n",
       "      <td>Friday</td>\n",
       "      <td>April</td>\n",
       "    </tr>\n",
       "    <tr>\n",
       "      <th>2902381</th>\n",
       "      <td>2020-04-17</td>\n",
       "      <td>-0.5191</td>\n",
       "      <td>0.179167</td>\n",
       "      <td>0.45</td>\n",
       "      <td>NaN</td>\n",
       "      <td>Friday</td>\n",
       "      <td>April</td>\n",
       "    </tr>\n",
       "    <tr>\n",
       "      <th>1597999</th>\n",
       "      <td>2020-04-17</td>\n",
       "      <td>-0.2023</td>\n",
       "      <td>-0.187500</td>\n",
       "      <td>0.50</td>\n",
       "      <td>NaN</td>\n",
       "      <td>Friday</td>\n",
       "      <td>April</td>\n",
       "    </tr>\n",
       "    <tr>\n",
       "      <th>3854446</th>\n",
       "      <td>2020-04-17</td>\n",
       "      <td>0.0258</td>\n",
       "      <td>0.000000</td>\n",
       "      <td>0.00</td>\n",
       "      <td>NaN</td>\n",
       "      <td>Friday</td>\n",
       "      <td>April</td>\n",
       "    </tr>\n",
       "  </tbody>\n",
       "</table>\n",
       "</div>"
      ],
      "text/plain": [
       "         date_short  compound  polarity  subjectivity media_outlet weekday  \\\n",
       "2549961  2020-04-17    0.7506  0.250000          0.35          NaN  Friday   \n",
       "5020444  2020-04-17    0.0000  0.000000          0.00          NaN  Friday   \n",
       "2902381  2020-04-17   -0.5191  0.179167          0.45          NaN  Friday   \n",
       "1597999  2020-04-17   -0.2023 -0.187500          0.50          NaN  Friday   \n",
       "3854446  2020-04-17    0.0258  0.000000          0.00          NaN  Friday   \n",
       "\n",
       "         Month  \n",
       "2549961  April  \n",
       "5020444  April  \n",
       "2902381  April  \n",
       "1597999  April  \n",
       "3854446  April  "
      ]
     },
     "execution_count": 63,
     "metadata": {},
     "output_type": "execute_result"
    }
   ],
   "source": [
    "# formatted dataframe\n",
    "df_new.tail()"
   ]
  },
  {
   "cell_type": "markdown",
   "metadata": {},
   "source": [
    "We see that that NaN values are succesfully dropped."
   ]
  },
  {
   "cell_type": "code",
   "execution_count": null,
   "metadata": {},
   "outputs": [
    {
     "name": "stdout",
     "output_type": "stream",
     "text": [
      "Number of rows dropped: 16177\n"
     ]
    }
   ],
   "source": [
    "# Checking the number of rows that were dropped due to NaN values\n",
    "print(\"Number of rows dropped: %d\"%(df.size - df_new.size))"
   ]
  },
  {
   "cell_type": "code",
   "execution_count": null,
   "metadata": {},
   "outputs": [],
   "source": [
    "# Writing the formatted dataframe into a new single csv file for ease of use\n",
    "df_new.to_csv(path_or_buf=path+'complete.csv.bz2', compression='bz2', mode = 'a')"
   ]
  },
  {
   "cell_type": "markdown",
   "metadata": {},
   "source": [
    "#### Mood Across Media Outlets - Data Storing\n",
    "\n",
    "Calculating and storing the data needed for the analysis on mood across media outlets"
   ]
  },
  {
   "cell_type": "code",
   "execution_count": 1,
   "metadata": {},
   "outputs": [],
   "source": [
    "# Cleaning of files from milestone 2\n",
    "files = ['quotes-2015.json-001.bz2','quotes-2016.json-002.bz2','quotes-2017.json.bz2',\n",
    "                  'quotes-2018-004.json.bz2','quotes-2019-005.json.bz2','quotes-2020.json.bz2']\n",
    "\n",
    "# Path to files after adding media and remove unnecessary columns\n",
    "files_with_sentiment = ['clean-quotes-2015_with_sentiment.csv.bz2','clean-quotes-2016_with_sentiment.csv.bz2','clean-quotes-2017_with_sentiment.csv.bz2',\n",
    "                  'clean-quotes-2018_with_sentiment.csv.bz2','clean-quotes-2019_with_sentiment.csv.bz2','clean-quotes-2020_with_sentiment.csv.bz2']\n",
    "\n",
    "# The media outlets that will be studied in the analysis\n",
    "media_outlets = ['nytimes', 'wsj', 'womansday', 'nbcnews', 'foxnews', 'aarp', 'usmagazine', 'espn', 'usatoday', \n",
    "'newstoday', 'sportingnews', 'theguardian', 'people', 'tmz', 'mtv', 'cnn', 'msn', 'reuters', 'timesrepublican', \n",
    "'nationalgeographic', 'latimes', 'washingtonpost', 'startribune', 'chicagotribune', 'usnews', 'theathletic', \n",
    "'rollingstone', 'vanityfair', 'intouchweekly', 'starmagazine', 'bbc', 'independent', 'thesun', 'thetimes',\n",
    "'express', 'dailymail', 'mirror', 'economist', ]"
   ]
  },
  {
   "cell_type": "code",
   "execution_count": null,
   "metadata": {},
   "outputs": [],
   "source": [
    "# Initializing a sentiment analyzer\n",
    "sent_analyzer = SentimentIntensityAnalyzer()\n",
    "\n",
    "# Iterating through the cleaned files\n",
    "for x in range(len(files)):\n",
    "# Reading the data in chunks\n",
    "  df_reader = pd.read_json(path + files[x], lines=True, compression='bz2', chunksize=500000)\n",
    "  for chunk in df_reader:\n",
    "\n",
    "    # Dropping unnecesary columns\n",
    "    chunk = chunk.drop(axis=1, columns = 'quoteID')\n",
    "    chunk = chunk.drop(axis=1, columns = 'phase')\n",
    "    chunk = chunk.drop(axis=1, columns = 'speaker')\n",
    "    chunk = chunk.drop(axis=1, columns = 'qids')\n",
    "    chunk = chunk.drop(axis=1, columns = 'numOccurrences')\n",
    "    chunk = chunk.drop(axis=1, columns = 'probas')\n",
    "    \n",
    "    # Adding media outlet if substring found in url\n",
    "    chunk = get_media(chunk, media_outlets)\n",
    "    \n",
    "    # Dropping NaN values in media_outlet\n",
    "    chunk = chunk.dropna(axis=0, subset=['media_outlet'])\n",
    "    chunk = chunk.drop(axis=1, columns = 'urls')\n",
    "\n",
    "    # Calculating compound sentiment scores for the chunk and appending the values in a column\n",
    "    chunk['compound'] = chunk['quotation'].apply(lambda x: sent_analyzer.polarity_scores(x)['compound'])\n",
    "    chunk['positive'] = chunk['quotation'].apply(lambda x: sent_analyzer.polarity_scores(x)['pos'])\n",
    "    chunk['negative'] = chunk['quotation'].apply(lambda x: sent_analyzer.polarity_scores(x)['neg'])\n",
    "    chunk['blob_polar'] = chunk['quotation'].apply(lambda x: TextBlob(x).sentiment.polarity)\n",
    "    chunk['blob_subj'] = chunk['quotation'].apply(lambda x: TextBlob(x).sentiment.subjectivity)\n",
    "    chunk = chunk.drop(axis=1, columns = 'quotation')\n",
    "\n",
    "    # Adding date_short\n",
    "    chunk['date_short'] = pd.to_datetime(chunk['date']).dt.date\n",
    "    chunk = chunk.drop(axis=1, columns = 'date')\n",
    "    \n",
    "    # Writing chunk to csv\n",
    "    chunk.to_csv(path_or_buf= path + files_with_sentiment[x], compression='bz2', mode = 'a')\n",
    "    print('chunk OK')"
   ]
  },
  {
   "cell_type": "markdown",
   "metadata": {},
   "source": [
    "#### Mood Across Subsamples - Data Storing\n",
    "\n",
    "Calculating and storing the data needed for the analysis on mood across subsamples"
   ]
  },
  {
   "cell_type": "code",
   "execution_count": 4,
   "metadata": {
    "id": "I4fX3p-wXyRN"
   },
   "outputs": [],
   "source": [
    "# Defining files and filepaths\n",
    "\n",
    "files_pre_cleaning = ['quotes-2015.csv.bz2','quotes-2016.csv.bz2','quotes-2017.csv.bz2',\n",
    "                  'quotes-2018.csv.bz2','quotes-2019.csv.bz2','quotes-2020.csv.bz2']\n",
    "\n",
    "files_cleaned = ['clean-quotes-2015.csv.bz2','clean-quotes-2016.csv.bz2','clean-quotes-2017.csv.bz2',\n",
    "                  'clean-quotes-2018.csv.bz2','clean-quotes-2019.csv.bz2','clean-quotes-2020.csv.bz2']\n",
    "\n",
    "files = files_pre_cleaning\n",
    "\n",
    "path_to_wikidata_file = path + 'wikidata.csv'"
   ]
  },
  {
   "cell_type": "code",
   "execution_count": 6,
   "metadata": {
    "colab": {
     "base_uri": "https://localhost:8080/",
     "height": 433
    },
    "id": "NwbA3s-UcwiK",
    "outputId": "dd941dde-41cb-41cf-82a4-21a46ce03179"
   },
   "outputs": [],
   "source": [
    "# Reading processed Wikidata file, not necessary if parquet version loaded\n",
    "read_wikidata_parquet = pd.read_csv(path_to_wikidata_file)"
   ]
  },
  {
   "cell_type": "markdown",
   "metadata": {},
   "source": [
    "Helper functions for extracting aliases"
   ]
  },
  {
   "cell_type": "code",
   "execution_count": null,
   "metadata": {
    "id": "7AhYDNo9dmYU"
   },
   "outputs": [],
   "source": [
    "def get_politician_aliases(wikidata):\n",
    "  ''' Returns a filtered dataframe containing all aliases by politicians. \n",
    "  Note that a person can be listed with many professions and therefore distringuishing\n",
    "  someone who is a former politican can be difficult.\n",
    "\n",
    "  Parameters\n",
    "  ----------\n",
    "  wikidata: dataframe\n",
    "    A dataframe containing the Wikidata data set.\n",
    "\n",
    "  Returns\n",
    "  -------\n",
    "  dataset_filtered_on_politicans: list\n",
    "    A 1D list with the filtered alias strings.\n",
    "  '''\n",
    "\n",
    "  wikidata['politician'] = wikidata['occupation'].apply(lambda x: isPolitician(x))\n",
    "  wikidata_politician_filtered = wikidata[wikidata.politician]\n",
    "  \n",
    "  # After filtering on occupation, turns all aliases into 1D list\n",
    "  all_wiki_aliases_politician_filtered = wikidata_politician_filtered['aliases'].tolist()\n",
    "  all_wiki_aliases_politician_filtered = list(deepflatten(all_wiki_aliases_politician_filtered, depth=1))\n",
    "  return all_wiki_aliases_politician_filtered\n",
    "\n",
    "\n",
    "def get_all_aliases_of_gender(gender, wikidata):\n",
    "  ''' Returns a 1D list containing all aliases we can identify by one of the genders. \n",
    "\n",
    "  Parameters\n",
    "  ----------\n",
    "  gender: string\n",
    "    A string specifying the requested gender.\n",
    "    Function only handles male and female.\n",
    "    \n",
    "  wikidata: list\n",
    "    A list containing the Wikidata data set.\n",
    "\n",
    "  Returns\n",
    "  -------\n",
    "  1D list of all aliases belonging to a gender in wikidata\n",
    "  '''\n",
    "\n",
    "  if gender == 'male' or gender == 'female':\n",
    "    gender_qid = 'Q6581097' if gender == 'male' else 'Q6581072'\n",
    "    # Converting the gender column to string to be able to check if it equals gender_qid\n",
    "    wikidata_copy = wikidata.copy()\n",
    "    wikidata_copy['gender'] = wikidata_copy['gender'].apply(lambda x: conv_to_string(x))\n",
    "    wikidata_gender_filtered = wikidata_copy.loc[wikidata_copy['gender'] == gender_qid]\n",
    "\n",
    "  else:\n",
    "    print(\"Invalid gender, the function does only consider binary genders.\")\n",
    "    exit()\n",
    "  \n",
    "  # After filtering on gender, turn all aliases into 1D list\n",
    "  all_wiki_aliases_gender_filtered = wikidata_gender_filtered['aliases'].tolist()\n",
    "  all_wiki_aliases_gender_filtered = list(deepflatten(all_wiki_aliases_gender_filtered, depth=1))\n",
    "  return all_wiki_aliases_gender_filtered"
   ]
  },
  {
   "cell_type": "code",
   "execution_count": null,
   "metadata": {
    "id": "fSOj7NAYdw_P"
   },
   "outputs": [],
   "source": [
    "# Initializing a sentiment analyzer\n",
    "sent_analyzer = SentimentIntensityAnalyzer()\n",
    "\n",
    "# Retrieve all identifiable aliases of the relevant demographics: males, females and politicians\n",
    "male_aliases = get_all_aliases_of_gender('male', read_wikidata_parquet)\n",
    "female_aliases = get_all_aliases_of_gender('female', read_wikidata_parquet)\n",
    "politician_aliases = get_politician_aliases(read_wikidata_parquet)"
   ]
  },
  {
   "cell_type": "code",
   "execution_count": null,
   "metadata": {
    "id": "JJvP7fi0otTq"
   },
   "outputs": [],
   "source": [
    "# Iterating through the cleaned data sets in chunks and saving compound, polarity, and subjectivity score for males, females and politicians\n",
    "for x in range(len(files)): \n",
    "  print('Working on %d. dataset'%(x + 1))\n",
    "  df_reader = pd.read_json(path + files[x], lines=True, compression='bz2', chunksize=400000)\n",
    "  a=0\n",
    "  for chunk in df_reader:\n",
    "    print(\"New chunk\")\n",
    "    \n",
    "    # Adding date, month, and weekday to the df\n",
    "    chunk = add_time(chunk)\n",
    "\n",
    "    # Creating three dataframes from the chunk filtered on subsamples aliases\n",
    "    females = dataset_filtered_on_aliases(female_aliases, chunk)\n",
    "    males = dataset_filtered_on_aliases(male_aliases, chunk)\n",
    "    politicians = dataset_filtered_on_aliases(politician_aliases, chunk)\n",
    "        \n",
    "    # Calculating compound score with NLTK Vader\n",
    "    females['compound'] = females['quotation'].apply(lambda x: sent_analyzer.polarity_scores(x)['compound'])\n",
    "    males['compound'] = males['quotation'].apply(lambda x: sent_analyzer.polarity_scores(x)['compound'])\n",
    "    politicians['compound'] = politicians['quotation'].apply(lambda x: sent_analyzer.polarity_scores(x)['compound'])\n",
    "\n",
    "    # Computing polarity and subjectivity score with Text Blob\n",
    "    females['polarity'] = females['quotation'].apply(lambda x: TextBlob(x).sentiment[0])\n",
    "    males['polarity'] = males['quotation'].apply(lambda x: TextBlob(x).sentiment[0])\n",
    "    politicians['polarity'] = politicians['quotation'].apply(lambda x: TextBlob(x).sentiment[0])\n",
    "    females['subjectivity'] = females['quotation'].apply(lambda x: TextBlob(x).sentiment[1])\n",
    "    males['subjectivity'] = males['quotation'].apply(lambda x: TextBlob(x).sentiment[1])\n",
    "    politicians['subjectivity'] = politicians['quotation'].apply(lambda x: TextBlob(x).sentiment[1])\n",
    "\n",
    "    # Only keeping relevant columns\n",
    "    females = females[['speaker', 'date_short', 'compound', 'polarity', 'subjectivity', 'weekday', 'Month']]\n",
    "    males = males[['speaker', 'date_short', 'compound', 'polarity', 'subjectivity', 'weekday', 'Month']]\n",
    "    politicians = politicians[['speaker', 'date_short', 'compound', 'polarity', 'subjectivity', 'weekday', 'Month']]\n",
    "    \n",
    "    # Writing the chunks to three csv files\n",
    "    # One for males, one for females, and one for politicians\n",
    "    males.to_csv(path_or_buf=path + 'males_output_%d.csv.bz2'%x, compression='bz2', mode = 'a')\n",
    "    females.to_csv(path_or_buf=path + 'fesmales_output_%d.csv.bz2'%x, compression='bz2', mode = 'a')\n",
    "    politicians.to_csv(path_or_buf=path + 'politicians_output_%d.csv.bz2'%x, compression='bz2', mode = 'a')"
   ]
  },
  {
   "cell_type": "markdown",
   "metadata": {},
   "source": [
    "### Analysis"
   ]
  },
  {
   "cell_type": "markdown",
   "metadata": {},
   "source": [
    "This section performs the analysis that the data story is based upon. We create plots to visualize differences and perform statistical tests to determine the statistical signficance of our findings. To ensure the integrity of our findings we defined a signficance level of $1\\%$ for all analyses before studying them. This way, we avoid the temptation of doing *p-value hacking*. \n",
    "\n",
    "To perform the analysie, we often refer to the compound sentiment score from the *NLTK* library. Shortly, the compound score references the total sentiment of a quote standardized to be a value between $-1$ and $1$. We do also use the *TextBlob* library, which gives us polarity and subjectivity score. The polarity scores aim to quantify the level of postivity and negativity of a statement while the subjectivity score aims to quantify how subjective or objective the statement is. Finally, we utlize statistical tests like *t-tests*. More information about the methods can be found at the bottom of this notebook under **Methods**\n",
    "\n",
    "There are a lot of plots generated in this section. To keep the notebook readable in GitHub, we have removed the plotly plots from the notebook as they make the notebook to big to render online. The relevant plots can be found in the [data story](https://sigurdkampevold.github.io/media_mood/). "
   ]
  },
  {
   "cell_type": "markdown",
   "metadata": {},
   "source": [
    "#### **Mood Across Time - Analysis**"
   ]
  },
  {
   "cell_type": "markdown",
   "metadata": {},
   "source": [
    "##### __Loading the data__"
   ]
  },
  {
   "cell_type": "code",
   "execution_count": null,
   "metadata": {},
   "outputs": [],
   "source": [
    "# Reading all quote files into one large dataframe\n",
    "all_files = [path + '/fil%d.csv.bz2'%i for i in range(6)]\n",
    "df = pd.concat(map(pd.read_csv, [all_files[0], all_files[1],all_files[2], all_files[3], all_files[4], all_files[5]]))"
   ]
  },
  {
   "cell_type": "code",
   "execution_count": null,
   "metadata": {},
   "outputs": [],
   "source": [
    "# Removing chunk headers\n",
    "df = df[df['Unnamed: 0'].notna()]\n",
    "df[df['Unnamed: 0'].isnull()]"
   ]
  },
  {
   "cell_type": "markdown",
   "metadata": {},
   "source": [
    "Inspecting that the data has been loaded correctly"
   ]
  },
  {
   "cell_type": "code",
   "execution_count": 3,
   "metadata": {},
   "outputs": [
    {
     "data": {
      "text/html": [
       "<div>\n",
       "<style scoped>\n",
       "    .dataframe tbody tr th:only-of-type {\n",
       "        vertical-align: middle;\n",
       "    }\n",
       "\n",
       "    .dataframe tbody tr th {\n",
       "        vertical-align: top;\n",
       "    }\n",
       "\n",
       "    .dataframe thead th {\n",
       "        text-align: right;\n",
       "    }\n",
       "</style>\n",
       "<table border=\"1\" class=\"dataframe\">\n",
       "  <thead>\n",
       "    <tr style=\"text-align: right;\">\n",
       "      <th></th>\n",
       "      <th>date_short</th>\n",
       "      <th>compound</th>\n",
       "      <th>polarity</th>\n",
       "      <th>subjectivity</th>\n",
       "      <th>media_outlet</th>\n",
       "      <th>weekday</th>\n",
       "      <th>Month</th>\n",
       "    </tr>\n",
       "  </thead>\n",
       "  <tbody>\n",
       "    <tr>\n",
       "      <th>2761852</th>\n",
       "      <td>2015-01-01</td>\n",
       "      <td>0.4795</td>\n",
       "      <td>0.375</td>\n",
       "      <td>0.75</td>\n",
       "      <td>NaN</td>\n",
       "      <td>Thursday</td>\n",
       "      <td>January</td>\n",
       "    </tr>\n",
       "    <tr>\n",
       "      <th>2574019</th>\n",
       "      <td>2015-01-01</td>\n",
       "      <td>0.0000</td>\n",
       "      <td>0.000</td>\n",
       "      <td>0.00</td>\n",
       "      <td>si</td>\n",
       "      <td>Thursday</td>\n",
       "      <td>January</td>\n",
       "    </tr>\n",
       "    <tr>\n",
       "      <th>17438571</th>\n",
       "      <td>2015-01-01</td>\n",
       "      <td>0.1027</td>\n",
       "      <td>0.000</td>\n",
       "      <td>1.00</td>\n",
       "      <td>NaN</td>\n",
       "      <td>Thursday</td>\n",
       "      <td>January</td>\n",
       "    </tr>\n",
       "    <tr>\n",
       "      <th>15664687</th>\n",
       "      <td>2015-01-01</td>\n",
       "      <td>0.0000</td>\n",
       "      <td>0.000</td>\n",
       "      <td>0.00</td>\n",
       "      <td>NaN</td>\n",
       "      <td>Thursday</td>\n",
       "      <td>January</td>\n",
       "    </tr>\n",
       "    <tr>\n",
       "      <th>7604764</th>\n",
       "      <td>2015-01-01</td>\n",
       "      <td>0.0000</td>\n",
       "      <td>-0.100</td>\n",
       "      <td>0.10</td>\n",
       "      <td>NaN</td>\n",
       "      <td>Thursday</td>\n",
       "      <td>January</td>\n",
       "    </tr>\n",
       "  </tbody>\n",
       "</table>\n",
       "</div>"
      ],
      "text/plain": [
       "          date_short  compound  polarity  subjectivity media_outlet   weekday  \\\n",
       "2761852   2015-01-01    0.4795     0.375          0.75          NaN  Thursday   \n",
       "2574019   2015-01-01    0.0000     0.000          0.00           si  Thursday   \n",
       "17438571  2015-01-01    0.1027     0.000          1.00          NaN  Thursday   \n",
       "15664687  2015-01-01    0.0000     0.000          0.00          NaN  Thursday   \n",
       "7604764   2015-01-01    0.0000    -0.100          0.10          NaN  Thursday   \n",
       "\n",
       "            Month  \n",
       "2761852   January  \n",
       "2574019   January  \n",
       "17438571  January  \n",
       "15664687  January  \n",
       "7604764   January  "
      ]
     },
     "execution_count": 3,
     "metadata": {},
     "output_type": "execute_result"
    }
   ],
   "source": [
    "df.head()"
   ]
  },
  {
   "cell_type": "code",
   "execution_count": 4,
   "metadata": {},
   "outputs": [
    {
     "data": {
      "text/html": [
       "<div>\n",
       "<style scoped>\n",
       "    .dataframe tbody tr th:only-of-type {\n",
       "        vertical-align: middle;\n",
       "    }\n",
       "\n",
       "    .dataframe tbody tr th {\n",
       "        vertical-align: top;\n",
       "    }\n",
       "\n",
       "    .dataframe thead th {\n",
       "        text-align: right;\n",
       "    }\n",
       "</style>\n",
       "<table border=\"1\" class=\"dataframe\">\n",
       "  <thead>\n",
       "    <tr style=\"text-align: right;\">\n",
       "      <th></th>\n",
       "      <th>date_short</th>\n",
       "      <th>compound</th>\n",
       "      <th>polarity</th>\n",
       "      <th>subjectivity</th>\n",
       "      <th>media_outlet</th>\n",
       "      <th>weekday</th>\n",
       "      <th>Month</th>\n",
       "    </tr>\n",
       "  </thead>\n",
       "  <tbody>\n",
       "    <tr>\n",
       "      <th>2549961</th>\n",
       "      <td>2020-04-17</td>\n",
       "      <td>0.7506</td>\n",
       "      <td>0.250000</td>\n",
       "      <td>0.35</td>\n",
       "      <td>NaN</td>\n",
       "      <td>Friday</td>\n",
       "      <td>April</td>\n",
       "    </tr>\n",
       "    <tr>\n",
       "      <th>5020444</th>\n",
       "      <td>2020-04-17</td>\n",
       "      <td>0.0000</td>\n",
       "      <td>0.000000</td>\n",
       "      <td>0.00</td>\n",
       "      <td>NaN</td>\n",
       "      <td>Friday</td>\n",
       "      <td>April</td>\n",
       "    </tr>\n",
       "    <tr>\n",
       "      <th>2902381</th>\n",
       "      <td>2020-04-17</td>\n",
       "      <td>-0.5191</td>\n",
       "      <td>0.179167</td>\n",
       "      <td>0.45</td>\n",
       "      <td>NaN</td>\n",
       "      <td>Friday</td>\n",
       "      <td>April</td>\n",
       "    </tr>\n",
       "    <tr>\n",
       "      <th>1597999</th>\n",
       "      <td>2020-04-17</td>\n",
       "      <td>-0.2023</td>\n",
       "      <td>-0.187500</td>\n",
       "      <td>0.50</td>\n",
       "      <td>NaN</td>\n",
       "      <td>Friday</td>\n",
       "      <td>April</td>\n",
       "    </tr>\n",
       "    <tr>\n",
       "      <th>3854446</th>\n",
       "      <td>2020-04-17</td>\n",
       "      <td>0.0258</td>\n",
       "      <td>0.000000</td>\n",
       "      <td>0.00</td>\n",
       "      <td>NaN</td>\n",
       "      <td>Friday</td>\n",
       "      <td>April</td>\n",
       "    </tr>\n",
       "  </tbody>\n",
       "</table>\n",
       "</div>"
      ],
      "text/plain": [
       "         date_short  compound  polarity  subjectivity media_outlet weekday  \\\n",
       "2549961  2020-04-17    0.7506  0.250000          0.35          NaN  Friday   \n",
       "5020444  2020-04-17    0.0000  0.000000          0.00          NaN  Friday   \n",
       "2902381  2020-04-17   -0.5191  0.179167          0.45          NaN  Friday   \n",
       "1597999  2020-04-17   -0.2023 -0.187500          0.50          NaN  Friday   \n",
       "3854446  2020-04-17    0.0258  0.000000          0.00          NaN  Friday   \n",
       "\n",
       "         Month  \n",
       "2549961  April  \n",
       "5020444  April  \n",
       "2902381  April  \n",
       "1597999  April  \n",
       "3854446  April  "
      ]
     },
     "execution_count": 4,
     "metadata": {},
     "output_type": "execute_result"
    }
   ],
   "source": [
    "df.tail()"
   ]
  },
  {
   "cell_type": "markdown",
   "metadata": {},
   "source": [
    "##### __Inspecting the data__\n",
    "\n",
    "This part investigates the distribution of the data."
   ]
  },
  {
   "cell_type": "code",
   "execution_count": 8,
   "metadata": {},
   "outputs": [],
   "source": [
    "# Creating line diagram for the number of quotes over time\n",
    "df_line = df.groupby('date_short').size()\n",
    "fig = px.line(df_line, labels={\n",
    "                     \"value\": \"Count\",\n",
    "                     \"date_short\": \"Date\",\n",
    "                     \"variable\": \"\"\n",
    "                 }, title = \"Distribution of Quotes Over Time\",\n",
    "                 )\n",
    "fig.update_layout(showlegend=False, paper_bgcolor = 'rgba(0, 0, 0,0)', plot_bgcolor = 'rgba(0, 0, 0,0)')\n",
    "fig.update_xaxes(showgrid=False)\n",
    "fig.update_yaxes(showgrid=False)\n",
    "fig.write_html('plots/line_dig.html')"
   ]
  },
  {
   "cell_type": "code",
   "execution_count": 10,
   "metadata": {},
   "outputs": [],
   "source": [
    "# Creating line diagram for the average compound score over time\n",
    "df_agg = df.groupby('date_short').mean()['compound']\n",
    "fig = px.line(df_agg, labels={\n",
    "                     \"value\": \"Compound score\",\n",
    "                     \"date_short\": \"Date\",\n",
    "                     \"variable\": \"\"\n",
    "                 }, title=\"Average Compound Score Over Time\",)\n",
    "fig.update_xaxes(showgrid=False)\n",
    "fig.update_yaxes(showgrid=False)\n",
    "fig.update_layout(showlegend=False, paper_bgcolor = 'rgba(0, 0, 0,0)', plot_bgcolor = 'rgba(0, 0, 0,0)')\n",
    "fig.write_html('plots/line_comp.html')"
   ]
  },
  {
   "cell_type": "markdown",
   "metadata": {},
   "source": [
    "##### __The COVID-19 effect__\n",
    "\n",
    "This part studies whether there are significant differences in the mood in the media before and after the COVID-19 pandemic hit the western world. We use Welch's t-test to determine whether the mean of the two periods are different. We assume that the most representable pre-Covid period is January and February 2020 while the Covid period is March and April 2020."
   ]
  },
  {
   "cell_type": "code",
   "execution_count": 11,
   "metadata": {},
   "outputs": [],
   "source": [
    "# Testing the COVID-19 effect\n",
    "df_temp = df.copy()\n",
    "\n",
    "# Filtering on quotes from 2020\n",
    "df_temp['temp'] = df_temp['date_short'].apply(lambda x: x[:4]=='2020')\n",
    "df_temp = df_temp[df_temp['temp']==True]\n",
    "\n",
    "# Creating a dataframe with quotes from January and February\n",
    "df_precovid = df_temp[df_temp['Month'].isin(['January', 'February'])]['compound']\n",
    "\n",
    "# Creating a dataframe with quotes from March and April\n",
    "df_covid = df_temp[df_temp['Month'].isin(['March', 'April'])]['compound']"
   ]
  },
  {
   "cell_type": "code",
   "execution_count": 12,
   "metadata": {},
   "outputs": [
    {
     "name": "stdout",
     "output_type": "stream",
     "text": [
      "Mean pre-covid: 0.19\n",
      "Mean Covid: 0.16\n",
      "Two sided paired t-test with null hypothesis: The mean mood pre-Covid equals the mean mood Covid:\n",
      "t-value: -68.023, p-value: 0.000\n"
     ]
    }
   ],
   "source": [
    "# Printing means for the pre-COVID-19 and COVID-19 periods\n",
    "print('Mean pre-covid: %.2f'%df_precovid.mean())\n",
    "print('Mean Covid: %.2f'%df_covid.mean())\n",
    "\n",
    "# Using a t-test to determine whether the mean mood pre-COVID-19 equals the mean mood COVID-19\n",
    "t, p = stats.ttest_ind(df_covid, df_precovid, equal_var=False)\n",
    "print(\"Two sided paired t-test with null hypothesis: The mean mood pre-Covid equals the mean mood Covid:\")\n",
    "print(\"t-value: %.3f, p-value: %.3f\"%(t,p))"
   ]
  },
  {
   "cell_type": "markdown",
   "metadata": {},
   "source": [
    "From the results above, we see that there are signficiant differences between the two periods. We reject the null hyopthesis that the mean mood of the pre-COVID-19 period equals the mean mood of the COVID-19 period with a significance level of 1%."
   ]
  },
  {
   "cell_type": "code",
   "execution_count": 13,
   "metadata": {},
   "outputs": [],
   "source": [
    "# Visualizing mean compound score in 2020\n",
    "df_agg = df_temp.groupby('date_short').mean()['compound']\n",
    "fig = px.line(df_agg, labels={\n",
    "                     \"value\": \"Compound score\",\n",
    "                     \"date_short\": \"Date\",\n",
    "                     \"variable\": \"\"\n",
    "                 }, title=\"Average Compound Score in 2020\",\n",
    "                 )\n",
    "fig.update_xaxes(showgrid=False)\n",
    "fig.update_yaxes(showgrid=False)\n",
    "fig.update_layout(showlegend=False, paper_bgcolor = 'rgba(0, 0, 0,0)', plot_bgcolor = 'rgba(0, 0, 0,0)')\n",
    "fig.write_html('plots/covid_line.html')"
   ]
  },
  {
   "cell_type": "code",
   "execution_count": 14,
   "metadata": {},
   "outputs": [
    {
     "data": {
      "text/plain": [
       "4095"
      ]
     },
     "execution_count": 14,
     "metadata": {},
     "output_type": "execute_result"
    }
   ],
   "source": [
    "# Using garbage collector to free memory\n",
    "del df_temp\n",
    "del df_agg\n",
    "del df_line\n",
    "import gc\n",
    "gc.collect()"
   ]
  },
  {
   "cell_type": "markdown",
   "metadata": {},
   "source": [
    "##### __Initial plotting of distributions through time periods__"
   ]
  },
  {
   "cell_type": "code",
   "execution_count": 4,
   "metadata": {},
   "outputs": [],
   "source": [
    "# Plotting the number of quotes per day\n",
    "days = ['Monday', 'Tuesday', 'Wednesday', 'Thursday', 'Friday', 'Saturday', 'Sunday']\n",
    "\n",
    "df_week = df.groupby('weekday').size()\n",
    "fig = px.bar(df_week, title=\"Number of Quotes per Day of the Week\", category_orders={'weekday':days}, labels={\n",
    "            'value':'Count',\n",
    "            'weekday':'Weekday'\n",
    "            }, opacity=0.75)\n",
    "fig.update_xaxes(showgrid=False)\n",
    "fig.update_yaxes(showgrid=False)\n",
    "fig.update_layout(showlegend=False, paper_bgcolor = 'rgba(0, 0, 0,0)', plot_bgcolor = 'rgba(0, 0, 0,0)')\n",
    "fig.write_html('plots/quotesperday.html')"
   ]
  },
  {
   "cell_type": "code",
   "execution_count": 5,
   "metadata": {},
   "outputs": [],
   "source": [
    "# Plotting the number of quotes per month\n",
    "months = ['January', 'February', 'March', 'April', 'May', 'June', 'July', 'August', 'September', 'October', 'November', 'December']\n",
    "df_mon = df.groupby('Month').size()\n",
    "fig = px.bar(df_mon, title=\"Number of Quotes per Month\", category_orders={'Month':months}, labels={\n",
    "            'value':'Count'\n",
    "            }, opacity=0.75)\n",
    "fig.update_xaxes(showgrid=False)\n",
    "fig.update_yaxes(showgrid=False)\n",
    "fig.update_layout(showlegend=False, paper_bgcolor = 'rgba(0, 0, 0,0)', plot_bgcolor = 'rgba(0, 0, 0,0)')\n",
    "fig.update_layout(showlegend=False, paper_bgcolor = 'rgba(0, 0, 0,0)', plot_bgcolor = 'rgba(0, 0, 0,0)')\n",
    "fig.write_html('plots/quotespermonth.html')"
   ]
  },
  {
   "cell_type": "markdown",
   "metadata": {},
   "source": [
    "##### __Random split__"
   ]
  },
  {
   "cell_type": "markdown",
   "metadata": {},
   "source": [
    "Beneath, we do a random split of 500k rows from the data set to be able to handle the large data size. We believe 500k quotations is a large enough subsample to be representative for the population."
   ]
  },
  {
   "cell_type": "code",
   "execution_count": 3,
   "metadata": {},
   "outputs": [],
   "source": [
    "# Sampling 500 000 random quotes from the dataframe\n",
    "df = df.sample(500000)"
   ]
  },
  {
   "cell_type": "code",
   "execution_count": 14,
   "metadata": {},
   "outputs": [],
   "source": [
    "# Splitting into smaller dataframes to enable smaller size of plotly plots\n",
    "df_pol = df['polarity']\n",
    "df_comp = df['compound']\n",
    "df_sub = df['subjectivity']"
   ]
  },
  {
   "cell_type": "markdown",
   "metadata": {},
   "source": [
    "Distributions of sentiment scores"
   ]
  },
  {
   "cell_type": "code",
   "execution_count": 26,
   "metadata": {},
   "outputs": [],
   "source": [
    "# Calculating and plotting distribution of compound sentiment scores\n",
    "comp = px.histogram(df_comp, x='compound', title='Distribution of Compound Sentiment Scores',nbins=40, labels={\n",
    "                     \"compound\": \"Compound score\",\n",
    "                     \"count\": \"Count\"\n",
    "                 },opacity=0.75,)\n",
    "comp.update_xaxes(showgrid=False)\n",
    "comp.update_yaxes(showgrid=False)\n",
    "comp.update_layout(paper_bgcolor = 'rgba(0, 0, 0,0)', plot_bgcolor = 'rgba(0, 0, 0,0)')\n",
    "comp.write_html('plots/comp_dist.html')\n",
    "\n",
    "# Calculating and plotting distribution of polarity scores\n",
    "pol = px.histogram(df_pol, x='polarity', title='Distribution of Polarity Sentiment Scores',nbins=40,\n",
    "                    opacity=0.75,)\n",
    "pol.update_xaxes(showgrid=False)\n",
    "pol.update_yaxes(showgrid=False)\n",
    "pol.update_layout(paper_bgcolor = 'rgba(0, 0, 0,0)', plot_bgcolor = 'rgba(0, 0, 0,0)')\n",
    "pol.write_html('plots/pol_dist.html')\n",
    "\n",
    "# Calculating and plotting distribution of subjectivity scores\n",
    "sub = px.histogram(df_sub, x='subjectivity', title='Distribution of Subjectivity Sentiment Scores',nbins=40, labels={\n",
    "                     \"count\": \"Count\",\n",
    "                     \"subjectivity\": \"Subjectivity score\"\n",
    "                 },opacity=0.75,\n",
    "                 )\n",
    "sub.update_xaxes(showgrid=False)\n",
    "sub.update_yaxes(showgrid=False)\n",
    "sub.update_layout(paper_bgcolor = 'rgba(0, 0, 0,0)', plot_bgcolor = 'rgba(0, 0, 0,0)')\n",
    "sub.write_html('plots/sub_dist.html')"
   ]
  },
  {
   "cell_type": "code",
   "execution_count": 30,
   "metadata": {},
   "outputs": [],
   "source": [
    "# Visualizing distribution of compound and polarity score\n",
    "fig = go.Figure()\n",
    "fig.add_trace(go.Histogram(x=df_comp, nbinsx=41, name='Compound score'))\n",
    "fig.add_trace(go.Histogram(x=df_pol, nbinsx=41, name='Polarity score'))\n",
    "\n",
    "# Overlaying both histograms\n",
    "fig.update_layout(barmode='overlay', paper_bgcolor = 'rgba(0, 0, 0,0)', plot_bgcolor = 'rgba(0, 0, 0,0)',\n",
    "                    title='Distributions of Compound and Polarity Scores',\n",
    "                    xaxis_title='Score',\n",
    "                    yaxis_title='Count')\n",
    "# Reducing opacity to see both histograms\n",
    "fig.update_traces(opacity=0.75, bingroup=\"1\")\n",
    "fig.update_xaxes(showgrid=False)\n",
    "fig.update_yaxes(showgrid=False)\n",
    "fig.write_html('plots/comp_pol.html')"
   ]
  },
  {
   "cell_type": "code",
   "execution_count": 27,
   "metadata": {},
   "outputs": [
    {
     "data": {
      "text/plain": [
       "1349"
      ]
     },
     "execution_count": 27,
     "metadata": {},
     "output_type": "execute_result"
    }
   ],
   "source": [
    "# Using the garbage collector to free up memory\n",
    "del df_comp\n",
    "del df_pol\n",
    "del df_sub\n",
    "gc.collect()"
   ]
  },
  {
   "cell_type": "markdown",
   "metadata": {},
   "source": [
    "##### __The weekend effect__\n",
    "This section analyzes the hypothesis that the mood is better on Mondays than on Fridays, and other differences in mood between weekdays"
   ]
  },
  {
   "cell_type": "code",
   "execution_count": 29,
   "metadata": {},
   "outputs": [],
   "source": [
    "# Creating a boxplot for compound sentiment score for weekdays\n",
    "fig = px.box(df, x='weekday', y='compound', title='Distribution of Compound Scores for Weekdays',category_orders={'weekday':days}, labels={\n",
    "            'weekday':'Weekday',\n",
    "            'compound':'Compound score'\n",
    "            },\n",
    "          )\n",
    "sub.update_xaxes(showgrid=False)\n",
    "sub.update_yaxes(showgrid=False)\n",
    "fig.update_layout(paper_bgcolor = 'rgba(0, 0, 0,0)', plot_bgcolor = 'rgba(0, 0, 0,0)')\n",
    "fig.write_html('plots/boxplot_day.html')"
   ]
  },
  {
   "cell_type": "code",
   "execution_count": 7,
   "metadata": {},
   "outputs": [
    {
     "name": "stdout",
     "output_type": "stream",
     "text": [
      "Compound sentiment score (TextBlob polarity score) for Monday: \n",
      "Mean: 0.192 (0.120), Standard deviation: 0.466 (0.264)\n",
      "\n",
      "\n",
      "Compound sentiment score (TextBlob polarity score) for Tuesday: \n",
      "Mean: 0.188 (0.118), Standard deviation: 0.466 (0.263)\n",
      "\n",
      "\n",
      "Compound sentiment score (TextBlob polarity score) for Wednesday: \n",
      "Mean: 0.191 (0.119), Standard deviation: 0.461 (0.263)\n",
      "\n",
      "\n",
      "Compound sentiment score (TextBlob polarity score) for Thursday: \n",
      "Mean: 0.193 (0.121), Standard deviation: 0.462 (0.262)\n",
      "\n",
      "\n",
      "Compound sentiment score (TextBlob polarity score) for Friday: \n",
      "Mean: 0.192 (0.120), Standard deviation: 0.463 (0.267)\n",
      "\n",
      "\n",
      "Compound sentiment score (TextBlob polarity score) for Saturday: \n",
      "Mean: 0.198 (0.126), Standard deviation: 0.462 (0.271)\n",
      "\n",
      "\n",
      "Compound sentiment score (TextBlob polarity score) for Sunday: \n",
      "Mean: 0.196 (0.124), Standard deviation: 0.462 (0.271)\n",
      "\n",
      "\n"
     ]
    }
   ],
   "source": [
    "# Printing the mean and standard deviations for the sentiment scores on different days\n",
    "for day in days:\n",
    "    df_mini = df[df['weekday']==day][['compound', 'polarity']]\n",
    "    print(\"Compound sentiment score (TextBlob polarity score) for %s: \"%(day))\n",
    "    print(\"Mean: %.3f (%.3f), Standard deviation: %.3f (%.3f)\" % (df_mini.mean()['compound'], df_mini.mean()['polarity'], df_mini.std()['compound'], df_mini.std()['polarity']))\n",
    "    print('\\n')"
   ]
  },
  {
   "cell_type": "code",
   "execution_count": 64,
   "metadata": {},
   "outputs": [
    {
     "name": "stdout",
     "output_type": "stream",
     "text": [
      "Two sided paired t-test with null hypothesis: The mean mood on Mondays equals the mean mood on Fridays:\n",
      "t-value: 0.2406, p-value: 0.8099\n"
     ]
    }
   ],
   "source": [
    "# Using a t-test to determine whether the mean mood on Mondays equals the mean mood on Fridays\n",
    "t, p = stats.ttest_ind(df[df['weekday']=='Monday']['compound'], df[df['weekday']=='Friday']['compound'], equal_var=True)\n",
    "print(\"Two sided paired t-test with null hypothesis: The mean mood on Mondays equals the mean mood on Fridays:\")\n",
    "print(f\"t-value: {round(t,4)}, p-value: {round(p,4)}\")"
   ]
  },
  {
   "cell_type": "markdown",
   "metadata": {},
   "source": [
    "We do not reject the null hypothesis, that the mean mood on Mondays equals the mean mood on Fridays, as the p-value is $0.8099$. This means that there are no evidence for the mood being higher on Fridays than on Mondays."
   ]
  },
  {
   "cell_type": "code",
   "execution_count": 65,
   "metadata": {},
   "outputs": [
    {
     "name": "stdout",
     "output_type": "stream",
     "text": [
      "Two sided paired t-test with null hypothesis: The mean mood on Tuesdays equals the mean mood on Saturdays:\n",
      "t-value: -3.953, p-value: 0.0001\n"
     ]
    }
   ],
   "source": [
    "# Using a t-test to determine whether the mean mood on Tuesdays equals the mean mood on Saturdays\n",
    "t, p = stats.ttest_ind(df[df['weekday']=='Tuesday']['compound'], df[df['weekday']=='Saturday']['compound'], equal_var=True)\n",
    "print(\"Two sided paired t-test with null hypothesis: The mean mood on Tuesdays equals the mean mood on Saturdays:\")\n",
    "print(f\"t-value: {round(t,4)}, p-value: {round(p,4)}\")"
   ]
  },
  {
   "cell_type": "markdown",
   "metadata": {},
   "source": [
    "On the other hand, we reject the null hyopthesis that the mean mood on Tuesdays equals the mean mood on Saturdays. However the differences in mood are so small, with $0.199$ versus $0.192$, that the result is not interesting.\n",
    "\n",
    "This means that there are no evidence for _the weekend effect_."
   ]
  },
  {
   "cell_type": "markdown",
   "metadata": {},
   "source": [
    "##### __The season effect__\n",
    "\n",
    "This section analyzes the mood over different seasons and months"
   ]
  },
  {
   "cell_type": "code",
   "execution_count": 10,
   "metadata": {},
   "outputs": [],
   "source": [
    "# Visualizing the compound sentiment score for months by a boxplot\n",
    "fig2 = px.box(df, x='Month', y='compound', title='Distribution of Compound Score for Months',category_orders={'Month':months},labels={\n",
    "            'Month':'Month',\n",
    "            'compound':'Compound score'})\n",
    "fig2.update_xaxes(showgrid=False)\n",
    "fig2.update_yaxes(showgrid=False)\n",
    "fig2.update_layout(paper_bgcolor = 'rgba(0, 0, 0,0)', plot_bgcolor = 'rgba(0, 0, 0,0)')\n",
    "fig2.write_html('plots/boxplot_month.html')"
   ]
  },
  {
   "cell_type": "code",
   "execution_count": 55,
   "metadata": {},
   "outputs": [
    {
     "name": "stdout",
     "output_type": "stream",
     "text": [
      "Compound sentiment score for January: \n",
      "Mean: 0.187, Standard deviation: 0.465\n",
      "\n",
      "\n",
      "Compound sentiment score for February: \n",
      "Mean: 0.189, Standard deviation: 0.462\n",
      "\n",
      "\n",
      "Compound sentiment score for March: \n",
      "Mean: 0.187, Standard deviation: 0.461\n",
      "\n",
      "\n",
      "Compound sentiment score for April: \n",
      "Mean: 0.193, Standard deviation: 0.459\n",
      "\n",
      "\n",
      "Compound sentiment score for May: \n",
      "Mean: 0.191, Standard deviation: 0.461\n",
      "\n",
      "\n",
      "Compound sentiment score for June: \n",
      "Mean: 0.194, Standard deviation: 0.464\n",
      "\n",
      "\n",
      "Compound sentiment score for July: \n",
      "Mean: 0.188, Standard deviation: 0.466\n",
      "\n",
      "\n",
      "Compound sentiment score for August: \n",
      "Mean: 0.197, Standard deviation: 0.463\n",
      "\n",
      "\n",
      "Compound sentiment score for September: \n",
      "Mean: 0.195, Standard deviation: 0.460\n",
      "\n",
      "\n",
      "Compound sentiment score for October: \n",
      "Mean: 0.188, Standard deviation: 0.463\n",
      "\n",
      "\n",
      "Compound sentiment score for November: \n",
      "Mean: 0.196, Standard deviation: 0.465\n",
      "\n",
      "\n",
      "Compound sentiment score for December: \n",
      "Mean: 0.194, Standard deviation: 0.464\n",
      "\n",
      "\n"
     ]
    }
   ],
   "source": [
    "# Printing mean and standard deviation compound score for all months\n",
    "for month in months:\n",
    "    df_mini = df[df['Month']==month]['compound']\n",
    "    print(\"Compound sentiment score for %s: \"%(month))\n",
    "    print(\"Mean: %.3f, Standard deviation: %.3f\"%(df_mini.mean(), df_mini.std()))\n",
    "    print('\\n')"
   ]
  },
  {
   "cell_type": "markdown",
   "metadata": {},
   "source": [
    "As for _the weekend effect_, there is no evidence for a _season effect_ in the data. We do not do any statistical tests as we see from the boxplot and the descriptive statistics that the differences between the months are very small."
   ]
  },
  {
   "cell_type": "markdown",
   "metadata": {},
   "source": [
    "#### **Mood Across Media Outlets - Analysis**"
   ]
  },
  {
   "cell_type": "markdown",
   "metadata": {},
   "source": [
    "##### __Loading the data__"
   ]
  },
  {
   "cell_type": "code",
   "execution_count": 3,
   "metadata": {},
   "outputs": [],
   "source": [
    "# Defining filenames\n",
    "files = ['clean-quotes-2015_with_sentiment.csv.bz2',\n",
    "    'clean-quotes-2016_with_sentiment.csv.bz2',\n",
    "    'clean-quotes-2017_with_sentiment.csv.bz2',\n",
    "    'clean-quotes-2018_with_sentiment.csv.bz2',\n",
    "    'clean-quotes-2019_with_sentiment.csv.bz2',\n",
    "    'clean-quotes-2020_with_sentiment.csv.bz2']"
   ]
  },
  {
   "cell_type": "code",
   "execution_count": 4,
   "metadata": {},
   "outputs": [],
   "source": [
    "# Declaring the media outlets that will be studied in the analysis\n",
    "media_outlets = ['nytimes', 'wsj', 'womansday', 'nbcnews', 'foxnews', 'aarp', 'usmagazine', 'espn', 'usatoday', \n",
    "'newstoday', 'sportingnews', 'theguardian', 'people', 'tmz', 'mtv', 'cnn', 'msn', 'reuters', 'timesrepublican', \n",
    "'nationalgeographic', 'latimes', 'washingtonpost', 'startribune', 'chicagotribune', 'usnews', 'theathletic', \n",
    "'rollingstone', 'vanityfair', 'intouchweekly', 'starmagazine', 'bbc', 'independent', 'thesun', 'thetimes',\n",
    "'express', 'dailymail', 'mirror', 'economist', ]\n",
    "\n",
    "# The different categories of media outlets that will be used\n",
    "newspapers = ['nytimes', 'wsj','foxnews', 'aarp','usatoday', 'newstoday', 'reuters', 'timesrepublican', \n",
    "'latimes', 'washingtonpost', 'startribune', 'cnn',  'chicagotribune', 'usnews', 'nbcnews', 'theguardian',\n",
    "'bbc', 'independent', 'thesun', 'thetimes','express', 'dailymail', 'mirror', 'economist']\n",
    "\n",
    "celebmagazines = ['usmagazine', 'people','tmz', 'intouchweekly', 'starmagazine']\n",
    "\n",
    "other = ['mtv', 'msn','nationalgeographic', 'vanityfair', 'rollingstone', 'womansday']\n",
    "\n",
    "sport = ['espn', 'sportingnews', 'theathletic']\n",
    "\n"
   ]
  },
  {
   "cell_type": "code",
   "execution_count": null,
   "metadata": {},
   "outputs": [],
   "source": [
    "# Reading all files into one dataframe\n",
    "df = pd.concat(map(pd.read_csv, [path + files[i] for i in range(6)]))"
   ]
  },
  {
   "cell_type": "code",
   "execution_count": 8,
   "metadata": {},
   "outputs": [],
   "source": [
    "# Ensuring that each column have the right datatype\n",
    "df['compound'] = pd.to_numeric(df.compound, errors='coerce')\n",
    "df['positive'] = pd.to_numeric(df.positive, errors='coerce')\n",
    "df['negative'] = pd.to_numeric(df.negative, errors='coerce')\n",
    "df['blob_polar'] = pd.to_numeric(df.blob_polar, errors='coerce')\n",
    "df['blob_subj'] = pd.to_numeric(df.blob_subj, errors='coerce')\n",
    "\n",
    "\n",
    "def add_category(row):\n",
    "    '''\n",
    "    Finding category of media outlet from a dataframe row\n",
    "\n",
    "    Parameters\n",
    "    ------------\n",
    "    row: ndarray\n",
    "        A row from a dataframe that has the column 'media_outlet'\n",
    "    \n",
    "    Returns\n",
    "    ------------\n",
    "    val: string\n",
    "        The category the media outlet belongs to\n",
    "    '''\n",
    "    if (row['media_outlet'] in newspapers):\n",
    "        val = 'Newspaper'\n",
    "    elif (row['media_outlet'] in celebmagazines):\n",
    "        val = 'Celebrity magazine'\n",
    "    elif (row['media_outlet'] in other):\n",
    "        val = 'Other'\n",
    "    else:\n",
    "        val = 'Sports'\n",
    "    return val\n",
    "\n",
    "# Adding categories to the dataframe\n",
    "df['category'] = df.apply(add_category, axis=1)\n",
    "\n",
    "# Removing irrelevant column\n",
    "df = df.drop(axis=1, columns = 'Unnamed: 0')"
   ]
  },
  {
   "cell_type": "markdown",
   "metadata": {},
   "source": [
    "##### __Inspecting the data__"
   ]
  },
  {
   "cell_type": "code",
   "execution_count": 10,
   "metadata": {},
   "outputs": [
    {
     "data": {
      "text/html": [
       "<div>\n",
       "<style scoped>\n",
       "    .dataframe tbody tr th:only-of-type {\n",
       "        vertical-align: middle;\n",
       "    }\n",
       "\n",
       "    .dataframe tbody tr th {\n",
       "        vertical-align: top;\n",
       "    }\n",
       "\n",
       "    .dataframe thead th {\n",
       "        text-align: right;\n",
       "    }\n",
       "</style>\n",
       "<table border=\"1\" class=\"dataframe\">\n",
       "  <thead>\n",
       "    <tr style=\"text-align: right;\">\n",
       "      <th></th>\n",
       "      <th>media_outlet</th>\n",
       "      <th>compound</th>\n",
       "      <th>positive</th>\n",
       "      <th>negative</th>\n",
       "      <th>blob_polar</th>\n",
       "      <th>blob_subj</th>\n",
       "      <th>date_short</th>\n",
       "      <th>category</th>\n",
       "    </tr>\n",
       "  </thead>\n",
       "  <tbody>\n",
       "    <tr>\n",
       "      <th>0</th>\n",
       "      <td>washingtonpost</td>\n",
       "      <td>0.2500</td>\n",
       "      <td>0.083</td>\n",
       "      <td>0.000</td>\n",
       "      <td>0.000000</td>\n",
       "      <td>0.000000</td>\n",
       "      <td>2015-12-13</td>\n",
       "      <td>Newspaper</td>\n",
       "    </tr>\n",
       "    <tr>\n",
       "      <th>1</th>\n",
       "      <td>startribune</td>\n",
       "      <td>0.0000</td>\n",
       "      <td>0.000</td>\n",
       "      <td>0.000</td>\n",
       "      <td>0.062500</td>\n",
       "      <td>0.354167</td>\n",
       "      <td>2015-10-02</td>\n",
       "      <td>Newspaper</td>\n",
       "    </tr>\n",
       "    <tr>\n",
       "      <th>2</th>\n",
       "      <td>mtv</td>\n",
       "      <td>0.0000</td>\n",
       "      <td>0.000</td>\n",
       "      <td>0.000</td>\n",
       "      <td>-0.083333</td>\n",
       "      <td>0.216667</td>\n",
       "      <td>2015-10-09</td>\n",
       "      <td>Other</td>\n",
       "    </tr>\n",
       "    <tr>\n",
       "      <th>3</th>\n",
       "      <td>express</td>\n",
       "      <td>-0.3400</td>\n",
       "      <td>0.073</td>\n",
       "      <td>0.094</td>\n",
       "      <td>0.600000</td>\n",
       "      <td>1.000000</td>\n",
       "      <td>2015-11-17</td>\n",
       "      <td>Newspaper</td>\n",
       "    </tr>\n",
       "    <tr>\n",
       "      <th>4</th>\n",
       "      <td>reuters</td>\n",
       "      <td>-0.2732</td>\n",
       "      <td>0.000</td>\n",
       "      <td>0.110</td>\n",
       "      <td>-0.187500</td>\n",
       "      <td>0.500000</td>\n",
       "      <td>2015-02-06</td>\n",
       "      <td>Newspaper</td>\n",
       "    </tr>\n",
       "  </tbody>\n",
       "</table>\n",
       "</div>"
      ],
      "text/plain": [
       "     media_outlet  compound  positive  negative  blob_polar  blob_subj  \\\n",
       "0  washingtonpost    0.2500     0.083     0.000    0.000000   0.000000   \n",
       "1     startribune    0.0000     0.000     0.000    0.062500   0.354167   \n",
       "2             mtv    0.0000     0.000     0.000   -0.083333   0.216667   \n",
       "3         express   -0.3400     0.073     0.094    0.600000   1.000000   \n",
       "4         reuters   -0.2732     0.000     0.110   -0.187500   0.500000   \n",
       "\n",
       "   date_short   category  \n",
       "0  2015-12-13  Newspaper  \n",
       "1  2015-10-02  Newspaper  \n",
       "2  2015-10-09      Other  \n",
       "3  2015-11-17  Newspaper  \n",
       "4  2015-02-06  Newspaper  "
      ]
     },
     "execution_count": 10,
     "metadata": {},
     "output_type": "execute_result"
    }
   ],
   "source": [
    "df.head()"
   ]
  },
  {
   "cell_type": "code",
   "execution_count": 11,
   "metadata": {},
   "outputs": [
    {
     "data": {
      "text/html": [
       "<div>\n",
       "<style scoped>\n",
       "    .dataframe tbody tr th:only-of-type {\n",
       "        vertical-align: middle;\n",
       "    }\n",
       "\n",
       "    .dataframe tbody tr th {\n",
       "        vertical-align: top;\n",
       "    }\n",
       "\n",
       "    .dataframe thead th {\n",
       "        text-align: right;\n",
       "    }\n",
       "</style>\n",
       "<table border=\"1\" class=\"dataframe\">\n",
       "  <thead>\n",
       "    <tr style=\"text-align: right;\">\n",
       "      <th></th>\n",
       "      <th>media_outlet</th>\n",
       "      <th>compound</th>\n",
       "      <th>category</th>\n",
       "    </tr>\n",
       "  </thead>\n",
       "  <tbody>\n",
       "    <tr>\n",
       "      <th>0</th>\n",
       "      <td>aarp</td>\n",
       "      <td>10647</td>\n",
       "      <td>Newspaper</td>\n",
       "    </tr>\n",
       "    <tr>\n",
       "      <th>1</th>\n",
       "      <td>bbc</td>\n",
       "      <td>633483</td>\n",
       "      <td>Newspaper</td>\n",
       "    </tr>\n",
       "    <tr>\n",
       "      <th>2</th>\n",
       "      <td>chicagotribune</td>\n",
       "      <td>302545</td>\n",
       "      <td>Newspaper</td>\n",
       "    </tr>\n",
       "    <tr>\n",
       "      <th>3</th>\n",
       "      <td>cnn</td>\n",
       "      <td>542743</td>\n",
       "      <td>Newspaper</td>\n",
       "    </tr>\n",
       "    <tr>\n",
       "      <th>4</th>\n",
       "      <td>dailymail</td>\n",
       "      <td>104839</td>\n",
       "      <td>Newspaper</td>\n",
       "    </tr>\n",
       "    <tr>\n",
       "      <th>5</th>\n",
       "      <td>economist</td>\n",
       "      <td>30048</td>\n",
       "      <td>Newspaper</td>\n",
       "    </tr>\n",
       "    <tr>\n",
       "      <th>6</th>\n",
       "      <td>espn</td>\n",
       "      <td>889974</td>\n",
       "      <td>Sports</td>\n",
       "    </tr>\n",
       "    <tr>\n",
       "      <th>7</th>\n",
       "      <td>express</td>\n",
       "      <td>1219309</td>\n",
       "      <td>Newspaper</td>\n",
       "    </tr>\n",
       "    <tr>\n",
       "      <th>8</th>\n",
       "      <td>foxnews</td>\n",
       "      <td>448658</td>\n",
       "      <td>Newspaper</td>\n",
       "    </tr>\n",
       "    <tr>\n",
       "      <th>9</th>\n",
       "      <td>independent</td>\n",
       "      <td>706913</td>\n",
       "      <td>Newspaper</td>\n",
       "    </tr>\n",
       "    <tr>\n",
       "      <th>10</th>\n",
       "      <td>intouchweekly</td>\n",
       "      <td>18645</td>\n",
       "      <td>Celebrity magazine</td>\n",
       "    </tr>\n",
       "    <tr>\n",
       "      <th>11</th>\n",
       "      <td>latimes</td>\n",
       "      <td>523155</td>\n",
       "      <td>Newspaper</td>\n",
       "    </tr>\n",
       "    <tr>\n",
       "      <th>12</th>\n",
       "      <td>media_outlet</td>\n",
       "      <td>0</td>\n",
       "      <td>Sports</td>\n",
       "    </tr>\n",
       "    <tr>\n",
       "      <th>13</th>\n",
       "      <td>mirror</td>\n",
       "      <td>899252</td>\n",
       "      <td>Newspaper</td>\n",
       "    </tr>\n",
       "    <tr>\n",
       "      <th>14</th>\n",
       "      <td>msn</td>\n",
       "      <td>892391</td>\n",
       "      <td>Other</td>\n",
       "    </tr>\n",
       "    <tr>\n",
       "      <th>15</th>\n",
       "      <td>mtv</td>\n",
       "      <td>60622</td>\n",
       "      <td>Other</td>\n",
       "    </tr>\n",
       "    <tr>\n",
       "      <th>16</th>\n",
       "      <td>nationalgeographic</td>\n",
       "      <td>14120</td>\n",
       "      <td>Other</td>\n",
       "    </tr>\n",
       "    <tr>\n",
       "      <th>17</th>\n",
       "      <td>nbcnews</td>\n",
       "      <td>196008</td>\n",
       "      <td>Newspaper</td>\n",
       "    </tr>\n",
       "    <tr>\n",
       "      <th>18</th>\n",
       "      <td>newstoday</td>\n",
       "      <td>58413</td>\n",
       "      <td>Newspaper</td>\n",
       "    </tr>\n",
       "    <tr>\n",
       "      <th>19</th>\n",
       "      <td>nytimes</td>\n",
       "      <td>669739</td>\n",
       "      <td>Newspaper</td>\n",
       "    </tr>\n",
       "    <tr>\n",
       "      <th>20</th>\n",
       "      <td>people</td>\n",
       "      <td>1015700</td>\n",
       "      <td>Celebrity magazine</td>\n",
       "    </tr>\n",
       "    <tr>\n",
       "      <th>21</th>\n",
       "      <td>reuters</td>\n",
       "      <td>233767</td>\n",
       "      <td>Newspaper</td>\n",
       "    </tr>\n",
       "    <tr>\n",
       "      <th>22</th>\n",
       "      <td>rollingstone</td>\n",
       "      <td>70055</td>\n",
       "      <td>Other</td>\n",
       "    </tr>\n",
       "    <tr>\n",
       "      <th>23</th>\n",
       "      <td>sportingnews</td>\n",
       "      <td>98512</td>\n",
       "      <td>Sports</td>\n",
       "    </tr>\n",
       "    <tr>\n",
       "      <th>24</th>\n",
       "      <td>starmagazine</td>\n",
       "      <td>2</td>\n",
       "      <td>Celebrity magazine</td>\n",
       "    </tr>\n",
       "    <tr>\n",
       "      <th>25</th>\n",
       "      <td>startribune</td>\n",
       "      <td>214206</td>\n",
       "      <td>Newspaper</td>\n",
       "    </tr>\n",
       "    <tr>\n",
       "      <th>26</th>\n",
       "      <td>theathletic</td>\n",
       "      <td>193</td>\n",
       "      <td>Sports</td>\n",
       "    </tr>\n",
       "    <tr>\n",
       "      <th>27</th>\n",
       "      <td>theguardian</td>\n",
       "      <td>422700</td>\n",
       "      <td>Newspaper</td>\n",
       "    </tr>\n",
       "    <tr>\n",
       "      <th>28</th>\n",
       "      <td>thesun</td>\n",
       "      <td>391473</td>\n",
       "      <td>Newspaper</td>\n",
       "    </tr>\n",
       "    <tr>\n",
       "      <th>29</th>\n",
       "      <td>thetimes</td>\n",
       "      <td>86669</td>\n",
       "      <td>Newspaper</td>\n",
       "    </tr>\n",
       "    <tr>\n",
       "      <th>30</th>\n",
       "      <td>timesrepublican</td>\n",
       "      <td>10467</td>\n",
       "      <td>Newspaper</td>\n",
       "    </tr>\n",
       "    <tr>\n",
       "      <th>31</th>\n",
       "      <td>tmz</td>\n",
       "      <td>20019</td>\n",
       "      <td>Celebrity magazine</td>\n",
       "    </tr>\n",
       "    <tr>\n",
       "      <th>32</th>\n",
       "      <td>usatoday</td>\n",
       "      <td>217865</td>\n",
       "      <td>Newspaper</td>\n",
       "    </tr>\n",
       "    <tr>\n",
       "      <th>33</th>\n",
       "      <td>usmagazine</td>\n",
       "      <td>72427</td>\n",
       "      <td>Celebrity magazine</td>\n",
       "    </tr>\n",
       "    <tr>\n",
       "      <th>34</th>\n",
       "      <td>usnews</td>\n",
       "      <td>50768</td>\n",
       "      <td>Newspaper</td>\n",
       "    </tr>\n",
       "    <tr>\n",
       "      <th>35</th>\n",
       "      <td>vanityfair</td>\n",
       "      <td>79712</td>\n",
       "      <td>Other</td>\n",
       "    </tr>\n",
       "    <tr>\n",
       "      <th>36</th>\n",
       "      <td>washingtonpost</td>\n",
       "      <td>555325</td>\n",
       "      <td>Newspaper</td>\n",
       "    </tr>\n",
       "    <tr>\n",
       "      <th>37</th>\n",
       "      <td>womansday</td>\n",
       "      <td>7486</td>\n",
       "      <td>Other</td>\n",
       "    </tr>\n",
       "    <tr>\n",
       "      <th>38</th>\n",
       "      <td>wsj</td>\n",
       "      <td>148151</td>\n",
       "      <td>Newspaper</td>\n",
       "    </tr>\n",
       "  </tbody>\n",
       "</table>\n",
       "</div>"
      ],
      "text/plain": [
       "          media_outlet  compound            category\n",
       "0                 aarp     10647           Newspaper\n",
       "1                  bbc    633483           Newspaper\n",
       "2       chicagotribune    302545           Newspaper\n",
       "3                  cnn    542743           Newspaper\n",
       "4            dailymail    104839           Newspaper\n",
       "5            economist     30048           Newspaper\n",
       "6                 espn    889974              Sports\n",
       "7              express   1219309           Newspaper\n",
       "8              foxnews    448658           Newspaper\n",
       "9          independent    706913           Newspaper\n",
       "10       intouchweekly     18645  Celebrity magazine\n",
       "11             latimes    523155           Newspaper\n",
       "12        media_outlet         0              Sports\n",
       "13              mirror    899252           Newspaper\n",
       "14                 msn    892391               Other\n",
       "15                 mtv     60622               Other\n",
       "16  nationalgeographic     14120               Other\n",
       "17             nbcnews    196008           Newspaper\n",
       "18           newstoday     58413           Newspaper\n",
       "19             nytimes    669739           Newspaper\n",
       "20              people   1015700  Celebrity magazine\n",
       "21             reuters    233767           Newspaper\n",
       "22        rollingstone     70055               Other\n",
       "23        sportingnews     98512              Sports\n",
       "24        starmagazine         2  Celebrity magazine\n",
       "25         startribune    214206           Newspaper\n",
       "26         theathletic       193              Sports\n",
       "27         theguardian    422700           Newspaper\n",
       "28              thesun    391473           Newspaper\n",
       "29            thetimes     86669           Newspaper\n",
       "30     timesrepublican     10467           Newspaper\n",
       "31                 tmz     20019  Celebrity magazine\n",
       "32            usatoday    217865           Newspaper\n",
       "33          usmagazine     72427  Celebrity magazine\n",
       "34              usnews     50768           Newspaper\n",
       "35          vanityfair     79712               Other\n",
       "36      washingtonpost    555325           Newspaper\n",
       "37           womansday      7486               Other\n",
       "38                 wsj    148151           Newspaper"
      ]
     },
     "execution_count": 11,
     "metadata": {},
     "output_type": "execute_result"
    }
   ],
   "source": [
    "# Counting the number of quotes from each media outlet\n",
    "media = df.groupby(by='media_outlet')['compound'].count().reset_index()\n",
    "media['category'] = media.apply(add_category, axis=1)\n",
    "media"
   ]
  },
  {
   "cell_type": "code",
   "execution_count": 12,
   "metadata": {},
   "outputs": [],
   "source": [
    "# Dropping irrelevant row\n",
    "df = df[df.media_outlet != 'media_outlet']\n",
    "\n",
    "# Dropping row due to too low sample size\n",
    "df = df[df.media_outlet != 'starmagazine']"
   ]
  },
  {
   "cell_type": "markdown",
   "metadata": {},
   "source": [
    "##### __How the mood differs across media outlets__"
   ]
  },
  {
   "cell_type": "code",
   "execution_count": 13,
   "metadata": {},
   "outputs": [
    {
     "name": "stdout",
     "output_type": "stream",
     "text": [
      "                    compound  positive  negative  blob_polar  blob_subj\n",
      "media_outlet                                                           \n",
      "aarp                0.183836  0.131132  0.060667    0.126072   0.374449\n",
      "bbc                 0.153965  0.125621  0.067830    0.109402   0.382687\n",
      "chicagotribune      0.185827  0.130868  0.056026    0.124636   0.375464\n",
      "cnn                 0.095295  0.110996  0.075607    0.088059   0.367360\n",
      "dailymail           0.187443  0.133669  0.061801    0.114771   0.378852\n",
      "economist           0.102192  0.106390  0.072124    0.089859   0.373278\n",
      "espn                0.278250  0.145377  0.049500    0.147783   0.404517\n",
      "express             0.163235  0.121867  0.064466    0.106405   0.388064\n",
      "foxnews             0.076495  0.112459  0.084968    0.080844   0.371784\n",
      "independent         0.161623  0.124508  0.067617    0.108429   0.389633\n",
      "intouchweekly       0.165652  0.142469  0.073848    0.123912   0.415321\n",
      "latimes             0.153323  0.123426  0.063203    0.109983   0.368558\n",
      "mirror              0.160879  0.129979  0.070235    0.109335   0.400109\n",
      "msn                 0.115606  0.115248  0.072714    0.095105   0.377244\n",
      "mtv                 0.234072  0.141683  0.057314    0.134443   0.410578\n",
      "nationalgeographic  0.093581  0.099284  0.059935    0.097730   0.380689\n",
      "nbcnews             0.076978  0.108449  0.079126    0.084946   0.367146\n",
      "newstoday           0.193942  0.128289  0.058385    0.122465   0.387792\n",
      "nytimes             0.085280  0.109771  0.072273    0.085834   0.343863\n",
      "people              0.167555  0.129060  0.067402    0.114517   0.392129\n",
      "reuters             0.119560  0.116939  0.073184    0.091926   0.379604\n",
      "rollingstone        0.126240  0.115878  0.068627    0.094108   0.372821\n",
      "sportingnews        0.260013  0.142864  0.053068    0.144375   0.403348\n",
      "startribune         0.201327  0.134079  0.053238    0.129532   0.378024\n",
      "theathletic         0.174704  0.135959  0.062477    0.126849   0.379356\n",
      "theguardian         0.118336  0.116120  0.074918    0.092561   0.384001\n",
      "thesun              0.143466  0.132226  0.074396    0.104349   0.396626\n",
      "thetimes            0.169441  0.127955  0.059283    0.119120   0.366986\n",
      "timesrepublican     0.258052  0.134534  0.044864    0.150235   0.400762\n",
      "tmz                 0.129816  0.132279  0.081084    0.098428   0.363039\n",
      "usatoday            0.196227  0.133505  0.059257    0.126009   0.390706\n",
      "usmagazine          0.236536  0.154404  0.059317    0.142679   0.416816\n",
      "usnews              0.083012  0.108974  0.077022    0.087411   0.369065\n",
      "vanityfair          0.121082  0.114180  0.069472    0.094713   0.380916\n",
      "washingtonpost      0.112803  0.115204  0.071702    0.092025   0.361353\n",
      "womansday           0.227933  0.147299  0.059954    0.136795   0.426340\n",
      "wsj                 0.128148  0.118370  0.064802    0.102832   0.361352\n"
     ]
    }
   ],
   "source": [
    "# Printing mean scores related to mediaoutlets\n",
    "\n",
    "print(df.groupby(by = 'media_outlet').mean())"
   ]
  },
  {
   "cell_type": "markdown",
   "metadata": {},
   "source": [
    "From the table above, we observe that there are surprisingly large differences in sentiment scores across media outlets."
   ]
  },
  {
   "cell_type": "code",
   "execution_count": 16,
   "metadata": {},
   "outputs": [],
   "source": [
    "# Making new dataframe with the count of quotes per dataframe plus the compound and\n",
    "# blob_subj score per media outlet\n",
    "df_scatter = pd.DataFrame()\n",
    "df_scatter['numquotes'] = df.groupby(by = ['media_outlet'])['media_outlet'].count()\n",
    "df_scatter['Compound'] = df.groupby(by = ['media_outlet'])['compound'].mean()\n",
    "df_scatter['Subjectivity'] = df.groupby(by = ['media_outlet'])['blob_subj'].mean()\n",
    "df_scatter['media_outlet'] = df_scatter.index\n",
    "df_scatter['category'] = df_scatter.apply(add_category, axis=1)"
   ]
  },
  {
   "cell_type": "code",
   "execution_count": 17,
   "metadata": {},
   "outputs": [],
   "source": [
    "# Scatterplot with mean compound and blob_subj score per media outlet\n",
    "# Color based on category\n",
    "# Size of circles based on number of quotes per media outlet\n",
    "#TODO: Run\n",
    "fig = px.scatter(df_scatter, x='Compound', y = 'Subjectivity', color='category', size='numquotes', text='media_outlet')\n",
    "fig.update_layout(title = 'Average Compound and Subjectivity per Media Outlet')\n",
    "fig.update_traces(textposition=\"bottom right\")\n",
    "fig.update_xaxes(showgrid=False)\n",
    "fig.update_yaxes(showgrid=False)\n",
    "fig.update_layout(paper_bgcolor = 'rgba(0, 0, 0,0)', plot_bgcolor = 'rgba(0, 0, 0,0)')\n",
    "fig.write_html('plots/scatterplot_medias.html')"
   ]
  },
  {
   "cell_type": "code",
   "execution_count": null,
   "metadata": {},
   "outputs": [],
   "source": [
    "# Making dataframes from a selection of media outlets\n",
    "\n",
    "nytimes = df.loc[df['media_outlet']=='nytimes']\n",
    "wsj = df.loc[df['media_outlet']=='wsj']\n",
    "people = df.loc[df['media_outlet']=='people']\n",
    "womansday = df.loc[df['media_outlet'] == 'womansday'] \n",
    "mtv = df.loc[df['media_outlet'] == 'mtv']\n",
    "tmz = df.loc[df['media_outlet'] == 'tmz']\n",
    "espn = df.loc[df['media_outlet'] == 'espn']"
   ]
  },
  {
   "cell_type": "code",
   "execution_count": 18,
   "metadata": {},
   "outputs": [
    {
     "name": "stdout",
     "output_type": "stream",
     "text": [
      "Mean compound score nytimes: 0.08528024693197732\n",
      "Mean compound score Womansday: 0.22793258081752665\n",
      "Mean compound score WSJ: 0.12814827169577306\n",
      "Mean compound score ESPN: 0.27825008719375127\n"
     ]
    }
   ],
   "source": [
    "print(f\"Mean compound score nytimes: {nytimes.compound.mean()}\")\n",
    "print(f\"Mean compound score Womansday: {womansday.compound.mean()}\")\n",
    "print(f\"Mean compound score WSJ: {wsj.compound.mean()}\")\n",
    "print(f\"Mean compound score ESPN: {espn.compound.mean()}\")"
   ]
  },
  {
   "cell_type": "code",
   "execution_count": 19,
   "metadata": {},
   "outputs": [
    {
     "name": "stdout",
     "output_type": "stream",
     "text": [
      "Two sided paired t-test with null hypothesis: The mean compound score in NYTimes equals the mean compound score in Wall Street Journal:\n",
      "t-value: -35.834473757551145, p-value: 2.1812370930100076e-280\n"
     ]
    }
   ],
   "source": [
    "t, p = stats.ttest_ind(nytimes['compound'], wsj['compound'], equal_var=False)\n",
    "print(\"Two sided paired t-test with null hypothesis: The mean compound score in NYTimes equals the mean compound score in Wall Street Journal:\")\n",
    "print(f\"t-value: {t}, p-value: {p}\")"
   ]
  },
  {
   "cell_type": "markdown",
   "metadata": {},
   "source": [
    "We reject the null hypothesis that the mean mood in New York Times equals the mean mood in Wall Street Jorunal at a significance level of 1%. The difference is also quite large with the compound score being approximatley 50% higher in Wall Street Journal."
   ]
  },
  {
   "cell_type": "code",
   "execution_count": 20,
   "metadata": {},
   "outputs": [
    {
     "name": "stdout",
     "output_type": "stream",
     "text": [
      "Two sided paired t-test with null hypothesis: The mean compound score in NYtimes equals the mean compound score in ESPN:\n",
      "t-value: -282.18957162795226, p-value: 0.0\n"
     ]
    }
   ],
   "source": [
    "t, p = stats.ttest_ind(nytimes['compound'], espn['compound'], equal_var=False)\n",
    "print(\"Two sided paired t-test with null hypothesis: The mean compound score in NYtimes equals the mean compound score in ESPN:\")\n",
    "print(f\"t-value: {t}, p-value: {p}\")"
   ]
  },
  {
   "cell_type": "markdown",
   "metadata": {},
   "source": [
    "We also reject the null hypothesis that the mean mood in New York Times equals the mean mood in ESPN at a significance level of 1%. In this case, the compound score difference is even larger with the mean compound score for ESPN being around 3.5 times higher than in New York Times."
   ]
  },
  {
   "cell_type": "code",
   "execution_count": 21,
   "metadata": {},
   "outputs": [
    {
     "name": "stdout",
     "output_type": "stream",
     "text": [
      "Two sided paired t-test with null hypothesis: The mean blob polar score in NYtimes equals the mean blob_polar score in ESPN:\n",
      "t-value: -142.41662557831026, p-value: 0.0\n"
     ]
    }
   ],
   "source": [
    "t, p = stats.ttest_ind(nytimes['blob_polar'], espn['blob_polar'], equal_var=False)\n",
    "print(\"Two sided paired t-test with null hypothesis: The mean blob polar score in NYtimes equals the mean blob_polar score in ESPN:\")\n",
    "print(f\"t-value: {t}, p-value: {p}\")"
   ]
  },
  {
   "cell_type": "markdown",
   "metadata": {},
   "source": [
    "We do the same analysis as above, but this time with *TextBlob's* polarity scores instead of Vader compound score to check the robustness of our results. We see that the results still are very signficiant, indicating that our results are signals rather than noise."
   ]
  },
  {
   "cell_type": "code",
   "execution_count": 22,
   "metadata": {},
   "outputs": [
    {
     "name": "stdout",
     "output_type": "stream",
     "text": [
      "Two sided paired t-test with null hypothesis: The mean compound score in NYtimes equals the mean compound score in Womansday:\n",
      "t-value: -25.90305738105446, p-value: 7.535646575194922e-142\n"
     ]
    }
   ],
   "source": [
    "t, p = stats.ttest_ind(nytimes['compound'], womansday['compound'], equal_var=False)\n",
    "print(\"Two sided paired t-test with null hypothesis: The mean compound score in NYtimes equals the mean compound score in Womansday:\")\n",
    "print(f\"t-value: {t}, p-value: {p}\")"
   ]
  },
  {
   "cell_type": "markdown",
   "metadata": {},
   "source": [
    "Finally, we reject the null hypothesis that the mean mood in New York Times equals the mean mood in Womansday at a significance level of 1%.\n",
    "\n",
    "Overall, we see that there is clear evidence for different moods across media outlets. We reach similar results both by using the compound score of *Vader* and the polarity score of *TextBlob*. This shows that the results are robust. "
   ]
  },
  {
   "cell_type": "markdown",
   "metadata": {},
   "source": [
    "Moreover, we look at the difference across categories."
   ]
  },
  {
   "cell_type": "code",
   "execution_count": 23,
   "metadata": {},
   "outputs": [],
   "source": [
    "# Adding categories to the dataframe\n",
    "df['category'] = df.apply(add_category, axis=1)"
   ]
  },
  {
   "cell_type": "code",
   "execution_count": 24,
   "metadata": {},
   "outputs": [
    {
     "data": {
      "text/html": [
       "<div>\n",
       "<style scoped>\n",
       "    .dataframe tbody tr th:only-of-type {\n",
       "        vertical-align: middle;\n",
       "    }\n",
       "\n",
       "    .dataframe tbody tr th {\n",
       "        vertical-align: top;\n",
       "    }\n",
       "\n",
       "    .dataframe thead th {\n",
       "        text-align: right;\n",
       "    }\n",
       "</style>\n",
       "<table border=\"1\" class=\"dataframe\">\n",
       "  <thead>\n",
       "    <tr style=\"text-align: right;\">\n",
       "      <th></th>\n",
       "      <th>media_outlet</th>\n",
       "      <th>compound</th>\n",
       "      <th>positive</th>\n",
       "      <th>negative</th>\n",
       "      <th>blob_polar</th>\n",
       "      <th>blob_subj</th>\n",
       "      <th>date_short</th>\n",
       "      <th>category</th>\n",
       "    </tr>\n",
       "  </thead>\n",
       "  <tbody>\n",
       "    <tr>\n",
       "      <th>0</th>\n",
       "      <td>washingtonpost</td>\n",
       "      <td>0.2500</td>\n",
       "      <td>0.083</td>\n",
       "      <td>0.000</td>\n",
       "      <td>0.000000</td>\n",
       "      <td>0.000000</td>\n",
       "      <td>2015-12-13</td>\n",
       "      <td>Newspaper</td>\n",
       "    </tr>\n",
       "    <tr>\n",
       "      <th>1</th>\n",
       "      <td>startribune</td>\n",
       "      <td>0.0000</td>\n",
       "      <td>0.000</td>\n",
       "      <td>0.000</td>\n",
       "      <td>0.062500</td>\n",
       "      <td>0.354167</td>\n",
       "      <td>2015-10-02</td>\n",
       "      <td>Newspaper</td>\n",
       "    </tr>\n",
       "    <tr>\n",
       "      <th>2</th>\n",
       "      <td>mtv</td>\n",
       "      <td>0.0000</td>\n",
       "      <td>0.000</td>\n",
       "      <td>0.000</td>\n",
       "      <td>-0.083333</td>\n",
       "      <td>0.216667</td>\n",
       "      <td>2015-10-09</td>\n",
       "      <td>Other</td>\n",
       "    </tr>\n",
       "    <tr>\n",
       "      <th>3</th>\n",
       "      <td>express</td>\n",
       "      <td>-0.3400</td>\n",
       "      <td>0.073</td>\n",
       "      <td>0.094</td>\n",
       "      <td>0.600000</td>\n",
       "      <td>1.000000</td>\n",
       "      <td>2015-11-17</td>\n",
       "      <td>Newspaper</td>\n",
       "    </tr>\n",
       "    <tr>\n",
       "      <th>4</th>\n",
       "      <td>reuters</td>\n",
       "      <td>-0.2732</td>\n",
       "      <td>0.000</td>\n",
       "      <td>0.110</td>\n",
       "      <td>-0.187500</td>\n",
       "      <td>0.500000</td>\n",
       "      <td>2015-02-06</td>\n",
       "      <td>Newspaper</td>\n",
       "    </tr>\n",
       "  </tbody>\n",
       "</table>\n",
       "</div>"
      ],
      "text/plain": [
       "     media_outlet  compound  positive  negative  blob_polar  blob_subj  \\\n",
       "0  washingtonpost    0.2500     0.083     0.000    0.000000   0.000000   \n",
       "1     startribune    0.0000     0.000     0.000    0.062500   0.354167   \n",
       "2             mtv    0.0000     0.000     0.000   -0.083333   0.216667   \n",
       "3         express   -0.3400     0.073     0.094    0.600000   1.000000   \n",
       "4         reuters   -0.2732     0.000     0.110   -0.187500   0.500000   \n",
       "\n",
       "   date_short   category  \n",
       "0  2015-12-13  Newspaper  \n",
       "1  2015-10-02  Newspaper  \n",
       "2  2015-10-09      Other  \n",
       "3  2015-11-17  Newspaper  \n",
       "4  2015-02-06  Newspaper  "
      ]
     },
     "execution_count": 24,
     "metadata": {},
     "output_type": "execute_result"
    }
   ],
   "source": [
    "# Checking that the categories was added as planned\n",
    "df.head()"
   ]
  },
  {
   "cell_type": "code",
   "execution_count": 25,
   "metadata": {},
   "outputs": [
    {
     "data": {
      "text/html": [
       "<div>\n",
       "<style scoped>\n",
       "    .dataframe tbody tr th:only-of-type {\n",
       "        vertical-align: middle;\n",
       "    }\n",
       "\n",
       "    .dataframe tbody tr th {\n",
       "        vertical-align: top;\n",
       "    }\n",
       "\n",
       "    .dataframe thead th {\n",
       "        text-align: right;\n",
       "    }\n",
       "</style>\n",
       "<table border=\"1\" class=\"dataframe\">\n",
       "  <thead>\n",
       "    <tr style=\"text-align: right;\">\n",
       "      <th></th>\n",
       "      <th>compound</th>\n",
       "      <th>positive</th>\n",
       "      <th>negative</th>\n",
       "      <th>blob_polar</th>\n",
       "      <th>blob_subj</th>\n",
       "    </tr>\n",
       "    <tr>\n",
       "      <th>category</th>\n",
       "      <th></th>\n",
       "      <th></th>\n",
       "      <th></th>\n",
       "      <th></th>\n",
       "      <th></th>\n",
       "    </tr>\n",
       "  </thead>\n",
       "  <tbody>\n",
       "    <tr>\n",
       "      <th>Celebrity magazine</th>\n",
       "      <td>0.171287</td>\n",
       "      <td>0.130968</td>\n",
       "      <td>0.067232</td>\n",
       "      <td>0.116196</td>\n",
       "      <td>0.393583</td>\n",
       "    </tr>\n",
       "    <tr>\n",
       "      <th>Newspaper</th>\n",
       "      <td>0.139379</td>\n",
       "      <td>0.121508</td>\n",
       "      <td>0.069086</td>\n",
       "      <td>0.102571</td>\n",
       "      <td>0.378537</td>\n",
       "    </tr>\n",
       "    <tr>\n",
       "      <th>Other</th>\n",
       "      <td>0.123515</td>\n",
       "      <td>0.116649</td>\n",
       "      <td>0.071154</td>\n",
       "      <td>0.097446</td>\n",
       "      <td>0.379396</td>\n",
       "    </tr>\n",
       "    <tr>\n",
       "      <th>Sports</th>\n",
       "      <td>0.276413</td>\n",
       "      <td>0.145125</td>\n",
       "      <td>0.049858</td>\n",
       "      <td>0.147439</td>\n",
       "      <td>0.404395</td>\n",
       "    </tr>\n",
       "  </tbody>\n",
       "</table>\n",
       "</div>"
      ],
      "text/plain": [
       "                    compound  positive  negative  blob_polar  blob_subj\n",
       "category                                                               \n",
       "Celebrity magazine  0.171287  0.130968  0.067232    0.116196   0.393583\n",
       "Newspaper           0.139379  0.121508  0.069086    0.102571   0.378537\n",
       "Other               0.123515  0.116649  0.071154    0.097446   0.379396\n",
       "Sports              0.276413  0.145125  0.049858    0.147439   0.404395"
      ]
     },
     "execution_count": 25,
     "metadata": {},
     "output_type": "execute_result"
    }
   ],
   "source": [
    "# Inspecting mean sentiment scores for the different categories\n",
    "df.groupby(by = 'category').agg('mean')"
   ]
  },
  {
   "cell_type": "code",
   "execution_count": 26,
   "metadata": {},
   "outputs": [
    {
     "name": "stdout",
     "output_type": "stream",
     "text": [
      "Two sided paired t-test with null hypothesis: The mean compound score for Newspapers equals the mean compound score for Sports:\n",
      "t-value: -290.27011618667115, p-value: 0.0\n"
     ]
    }
   ],
   "source": [
    "t, p = stats.ttest_ind(df.loc[df['category'] == 'Newspaper'].compound, df.loc[df['category'] == 'Sports'].compound, equal_var=False)\n",
    "print(\"Two sided paired t-test with null hypothesis: The mean compound score for Newspapers equals the mean compound score for Sports:\")\n",
    "print(f\"t-value: {t}, p-value: {p}\")"
   ]
  },
  {
   "cell_type": "markdown",
   "metadata": {},
   "source": [
    "We reject the null hypothesis that the mean compound score for daily newspapers equals the mean compound score for sports newspapers at a significance level of 1%. The difference is also quite large with the compound score being approximately 100% higher for sports newspapers."
   ]
  },
  {
   "cell_type": "code",
   "execution_count": 27,
   "metadata": {},
   "outputs": [
    {
     "name": "stdout",
     "output_type": "stream",
     "text": [
      "Two sided paired t-test with null hypothesis: The mean compound score in nespapers equals the mean compound in celebrity magazines:\n",
      "t-value: -66.56030181078874, p-value: 0.0\n"
     ]
    }
   ],
   "source": [
    "t, p = stats.ttest_ind(df.loc[df['category'] == 'Newspaper'].compound, df.loc[df['category'] == 'Celebrity magazine'].compound, equal_var=False)\n",
    "print(\"Two sided paired t-test with null hypothesis: The mean compound score in nespapers equals the mean compound in celebrity magazines:\")\n",
    "print(f\"t-value: {t}, p-value: {p}\")"
   ]
  },
  {
   "cell_type": "markdown",
   "metadata": {},
   "source": [
    "We reject the null hypothesis that the mean compound score for daily newspapers equals the mean compound score for celebrity magazines at a significance level of 1%. "
   ]
  },
  {
   "cell_type": "code",
   "execution_count": 28,
   "metadata": {},
   "outputs": [
    {
     "name": "stdout",
     "output_type": "stream",
     "text": [
      "Two sided paired t-test with null hypothesis: The mean compound score for 'others' equals the mean compound score in celebrity magazines:\n",
      "t-value: -76.27134646588573, p-value: 0.0\n"
     ]
    }
   ],
   "source": [
    "t, p = stats.ttest_ind(df.loc[df['category'] == 'Other'].compound, df.loc[df['category'] == 'Celebrity magazine'].compound, equal_var=False)\n",
    "print(\"Two sided paired t-test with null hypothesis: The mean compound score for 'others' equals the mean compound score in celebrity magazines:\")\n",
    "print(f\"t-value: {t}, p-value: {p}\")"
   ]
  },
  {
   "cell_type": "markdown",
   "metadata": {},
   "source": [
    "We reject the null hypothesis that the mean compound score for 'others' equals the mean compound score for celebrity magazines at a significance level of 1%. "
   ]
  },
  {
   "cell_type": "markdown",
   "metadata": {},
   "source": [
    "In other words, we do also see clear differences across categories of media outlets. The differences are both statistically signficant and large."
   ]
  },
  {
   "cell_type": "markdown",
   "metadata": {},
   "source": [
    "##### __Plotting the data__"
   ]
  },
  {
   "cell_type": "code",
   "execution_count": 29,
   "metadata": {},
   "outputs": [],
   "source": [
    "# Plotting treemap sorted in categories, showing the number of quotes per media outlet and cateogry\n",
    "fig = px.treemap(media, path= ['category', 'media_outlet'] , values = 'compound',\n",
    "                  color = 'category',\n",
    "                  color_continuous_scale='RdBu')\n",
    "fig.update_layout(margin = dict(t=50, l=25, r=25, b=25))\n",
    "fig.update_traces(opacity=0.75, selector=dict(type='treemap'))\n",
    "fig.update_layout(title='Share of quotes per media outlet and category')\n",
    "fig.write_html(\"plots/treemap_media.html\")"
   ]
  },
  {
   "cell_type": "code",
   "execution_count": 30,
   "metadata": {},
   "outputs": [],
   "source": [
    "# Plotting treemap sorted in categories, showing the number of quotes per category\n",
    "fig = px.treemap(media, path= ['category'] , values = 'compound',\n",
    "                  color = 'category',\n",
    "                  color_continuous_scale='RdBu')\n",
    "fig.update_layout(margin = dict(t=50, l=25, r=25, b=25))\n",
    "fig.update_traces(opacity=0.75, selector=dict(type='treemap'))\n",
    "fig.update_layout(title='Share of quotes per category')\n",
    "fig.write_html(\"plots/treemap_category.html\")"
   ]
  },
  {
   "cell_type": "code",
   "execution_count": 31,
   "metadata": {},
   "outputs": [],
   "source": [
    "# Plotting pie chart showing number of quotes per category\n",
    "#TODO: Run\n",
    "fig = px.pie(media, values='compound', names='category', opacity=0.75, labels={\n",
    "                     \"compound\": \"Count\",\n",
    "                     \"category\": \"Category\"\n",
    "                 })\n",
    "fig.update_layout(title='Share of Quotes per Category')\n",
    "fig.write_html(\"plots/pieechart_category.html\")"
   ]
  },
  {
   "cell_type": "code",
   "execution_count": 39,
   "metadata": {},
   "outputs": [
    {
     "data": {
      "text/html": [
       "<div>\n",
       "<style scoped>\n",
       "    .dataframe tbody tr th:only-of-type {\n",
       "        vertical-align: middle;\n",
       "    }\n",
       "\n",
       "    .dataframe tbody tr th {\n",
       "        vertical-align: top;\n",
       "    }\n",
       "\n",
       "    .dataframe thead th {\n",
       "        text-align: right;\n",
       "    }\n",
       "</style>\n",
       "<table border=\"1\" class=\"dataframe\">\n",
       "  <thead>\n",
       "    <tr style=\"text-align: right;\">\n",
       "      <th></th>\n",
       "      <th>media_outlet</th>\n",
       "      <th>compound</th>\n",
       "      <th>positive</th>\n",
       "      <th>negative</th>\n",
       "      <th>blob_polar</th>\n",
       "      <th>blob_subj</th>\n",
       "      <th>date_short</th>\n",
       "      <th>category</th>\n",
       "    </tr>\n",
       "  </thead>\n",
       "  <tbody>\n",
       "    <tr>\n",
       "      <th>0</th>\n",
       "      <td>washingtonpost</td>\n",
       "      <td>0.25</td>\n",
       "      <td>0.083</td>\n",
       "      <td>0.000</td>\n",
       "      <td>0.00</td>\n",
       "      <td>0.00</td>\n",
       "      <td>2015-12-13</td>\n",
       "      <td>Newspaper</td>\n",
       "    </tr>\n",
       "    <tr>\n",
       "      <th>1</th>\n",
       "      <td>startribune</td>\n",
       "      <td>0.00</td>\n",
       "      <td>0.000</td>\n",
       "      <td>0.000</td>\n",
       "      <td>0.06</td>\n",
       "      <td>0.35</td>\n",
       "      <td>2015-10-02</td>\n",
       "      <td>Newspaper</td>\n",
       "    </tr>\n",
       "    <tr>\n",
       "      <th>2</th>\n",
       "      <td>mtv</td>\n",
       "      <td>0.00</td>\n",
       "      <td>0.000</td>\n",
       "      <td>0.000</td>\n",
       "      <td>-0.08</td>\n",
       "      <td>0.22</td>\n",
       "      <td>2015-10-09</td>\n",
       "      <td>Other</td>\n",
       "    </tr>\n",
       "    <tr>\n",
       "      <th>3</th>\n",
       "      <td>express</td>\n",
       "      <td>-0.34</td>\n",
       "      <td>0.073</td>\n",
       "      <td>0.094</td>\n",
       "      <td>0.60</td>\n",
       "      <td>1.00</td>\n",
       "      <td>2015-11-17</td>\n",
       "      <td>Newspaper</td>\n",
       "    </tr>\n",
       "    <tr>\n",
       "      <th>4</th>\n",
       "      <td>reuters</td>\n",
       "      <td>-0.27</td>\n",
       "      <td>0.000</td>\n",
       "      <td>0.110</td>\n",
       "      <td>-0.19</td>\n",
       "      <td>0.50</td>\n",
       "      <td>2015-02-06</td>\n",
       "      <td>Newspaper</td>\n",
       "    </tr>\n",
       "    <tr>\n",
       "      <th>...</th>\n",
       "      <td>...</td>\n",
       "      <td>...</td>\n",
       "      <td>...</td>\n",
       "      <td>...</td>\n",
       "      <td>...</td>\n",
       "      <td>...</td>\n",
       "      <td>...</td>\n",
       "      <td>...</td>\n",
       "    </tr>\n",
       "    <tr>\n",
       "      <th>607108</th>\n",
       "      <td>express</td>\n",
       "      <td>0.30</td>\n",
       "      <td>0.151</td>\n",
       "      <td>0.000</td>\n",
       "      <td>-0.08</td>\n",
       "      <td>0.70</td>\n",
       "      <td>2020-03-08</td>\n",
       "      <td>Newspaper</td>\n",
       "    </tr>\n",
       "    <tr>\n",
       "      <th>607109</th>\n",
       "      <td>espn</td>\n",
       "      <td>0.75</td>\n",
       "      <td>0.145</td>\n",
       "      <td>0.033</td>\n",
       "      <td>0.26</td>\n",
       "      <td>0.32</td>\n",
       "      <td>2020-03-02</td>\n",
       "      <td>Sports</td>\n",
       "    </tr>\n",
       "    <tr>\n",
       "      <th>607110</th>\n",
       "      <td>mirror</td>\n",
       "      <td>0.00</td>\n",
       "      <td>0.000</td>\n",
       "      <td>0.000</td>\n",
       "      <td>0.00</td>\n",
       "      <td>0.00</td>\n",
       "      <td>2020-01-13</td>\n",
       "      <td>Newspaper</td>\n",
       "    </tr>\n",
       "    <tr>\n",
       "      <th>607111</th>\n",
       "      <td>latimes</td>\n",
       "      <td>-0.13</td>\n",
       "      <td>0.000</td>\n",
       "      <td>0.097</td>\n",
       "      <td>-0.39</td>\n",
       "      <td>0.83</td>\n",
       "      <td>2020-02-22</td>\n",
       "      <td>Newspaper</td>\n",
       "    </tr>\n",
       "    <tr>\n",
       "      <th>607112</th>\n",
       "      <td>thesun</td>\n",
       "      <td>-0.51</td>\n",
       "      <td>0.000</td>\n",
       "      <td>0.623</td>\n",
       "      <td>0.00</td>\n",
       "      <td>0.00</td>\n",
       "      <td>2020-01-15</td>\n",
       "      <td>Newspaper</td>\n",
       "    </tr>\n",
       "  </tbody>\n",
       "</table>\n",
       "<p>11916999 rows × 8 columns</p>\n",
       "</div>"
      ],
      "text/plain": [
       "          media_outlet  compound  positive  negative  blob_polar  blob_subj  \\\n",
       "0       washingtonpost      0.25     0.083     0.000        0.00       0.00   \n",
       "1          startribune      0.00     0.000     0.000        0.06       0.35   \n",
       "2                  mtv      0.00     0.000     0.000       -0.08       0.22   \n",
       "3              express     -0.34     0.073     0.094        0.60       1.00   \n",
       "4              reuters     -0.27     0.000     0.110       -0.19       0.50   \n",
       "...                ...       ...       ...       ...         ...        ...   \n",
       "607108         express      0.30     0.151     0.000       -0.08       0.70   \n",
       "607109            espn      0.75     0.145     0.033        0.26       0.32   \n",
       "607110          mirror      0.00     0.000     0.000        0.00       0.00   \n",
       "607111         latimes     -0.13     0.000     0.097       -0.39       0.83   \n",
       "607112          thesun     -0.51     0.000     0.623        0.00       0.00   \n",
       "\n",
       "        date_short   category  \n",
       "0       2015-12-13  Newspaper  \n",
       "1       2015-10-02  Newspaper  \n",
       "2       2015-10-09      Other  \n",
       "3       2015-11-17  Newspaper  \n",
       "4       2015-02-06  Newspaper  \n",
       "...            ...        ...  \n",
       "607108  2020-03-08  Newspaper  \n",
       "607109  2020-03-02     Sports  \n",
       "607110  2020-01-13  Newspaper  \n",
       "607111  2020-02-22  Newspaper  \n",
       "607112  2020-01-15  Newspaper  \n",
       "\n",
       "[11916999 rows x 8 columns]"
      ]
     },
     "execution_count": 39,
     "metadata": {},
     "output_type": "execute_result"
    }
   ],
   "source": [
    "#Making a dataframe with rounded scores to ease plotting\n",
    "df_rounded = df.copy()\n",
    "df_rounded['compound'] = df_rounded['compound'].apply(lambda x: round(x, 2))\n",
    "df_rounded['blob_polar'] = df_rounded['blob_polar'].apply(lambda x: round(x, 2))\n",
    "df_rounded['blob_subj'] = df_rounded['blob_subj'].apply(lambda x: round(x, 2))\n",
    "df_rounded['category'] = df_rounded.apply(add_category, axis=1)\n",
    "df_rounded"
   ]
  },
  {
   "cell_type": "code",
   "execution_count": 44,
   "metadata": {},
   "outputs": [],
   "source": [
    "# Creating copy of df_rounded to do some calculations\n",
    "df_compound = df_rounded.copy()"
   ]
  },
  {
   "cell_type": "code",
   "execution_count": 45,
   "metadata": {},
   "outputs": [
    {
     "data": {
      "text/html": [
       "<div>\n",
       "<style scoped>\n",
       "    .dataframe tbody tr th:only-of-type {\n",
       "        vertical-align: middle;\n",
       "    }\n",
       "\n",
       "    .dataframe tbody tr th {\n",
       "        vertical-align: top;\n",
       "    }\n",
       "\n",
       "    .dataframe thead th {\n",
       "        text-align: right;\n",
       "    }\n",
       "</style>\n",
       "<table border=\"1\" class=\"dataframe\">\n",
       "  <thead>\n",
       "    <tr style=\"text-align: right;\">\n",
       "      <th></th>\n",
       "      <th>category</th>\n",
       "      <th>compound</th>\n",
       "      <th>count</th>\n",
       "    </tr>\n",
       "  </thead>\n",
       "  <tbody>\n",
       "    <tr>\n",
       "      <th>0</th>\n",
       "      <td>Celebrity magazine</td>\n",
       "      <td>-1.00</td>\n",
       "      <td>12</td>\n",
       "    </tr>\n",
       "    <tr>\n",
       "      <th>1</th>\n",
       "      <td>Celebrity magazine</td>\n",
       "      <td>-0.99</td>\n",
       "      <td>124</td>\n",
       "    </tr>\n",
       "    <tr>\n",
       "      <th>2</th>\n",
       "      <td>Celebrity magazine</td>\n",
       "      <td>-0.98</td>\n",
       "      <td>351</td>\n",
       "    </tr>\n",
       "    <tr>\n",
       "      <th>3</th>\n",
       "      <td>Celebrity magazine</td>\n",
       "      <td>-0.97</td>\n",
       "      <td>594</td>\n",
       "    </tr>\n",
       "    <tr>\n",
       "      <th>4</th>\n",
       "      <td>Celebrity magazine</td>\n",
       "      <td>-0.96</td>\n",
       "      <td>843</td>\n",
       "    </tr>\n",
       "    <tr>\n",
       "      <th>...</th>\n",
       "      <td>...</td>\n",
       "      <td>...</td>\n",
       "      <td>...</td>\n",
       "    </tr>\n",
       "    <tr>\n",
       "      <th>798</th>\n",
       "      <td>Sports</td>\n",
       "      <td>0.96</td>\n",
       "      <td>6677</td>\n",
       "    </tr>\n",
       "    <tr>\n",
       "      <th>799</th>\n",
       "      <td>Sports</td>\n",
       "      <td>0.97</td>\n",
       "      <td>5424</td>\n",
       "    </tr>\n",
       "    <tr>\n",
       "      <th>800</th>\n",
       "      <td>Sports</td>\n",
       "      <td>0.98</td>\n",
       "      <td>3552</td>\n",
       "    </tr>\n",
       "    <tr>\n",
       "      <th>801</th>\n",
       "      <td>Sports</td>\n",
       "      <td>0.99</td>\n",
       "      <td>1395</td>\n",
       "    </tr>\n",
       "    <tr>\n",
       "      <th>802</th>\n",
       "      <td>Sports</td>\n",
       "      <td>1.00</td>\n",
       "      <td>60</td>\n",
       "    </tr>\n",
       "  </tbody>\n",
       "</table>\n",
       "<p>803 rows × 3 columns</p>\n",
       "</div>"
      ],
      "text/plain": [
       "               category  compound  count\n",
       "0    Celebrity magazine     -1.00     12\n",
       "1    Celebrity magazine     -0.99    124\n",
       "2    Celebrity magazine     -0.98    351\n",
       "3    Celebrity magazine     -0.97    594\n",
       "4    Celebrity magazine     -0.96    843\n",
       "..                  ...       ...    ...\n",
       "798              Sports      0.96   6677\n",
       "799              Sports      0.97   5424\n",
       "800              Sports      0.98   3552\n",
       "801              Sports      0.99   1395\n",
       "802              Sports      1.00     60\n",
       "\n",
       "[803 rows x 3 columns]"
      ]
     },
     "execution_count": 45,
     "metadata": {},
     "output_type": "execute_result"
    }
   ],
   "source": [
    "# Grouping the dataframe on catgory and compound score\n",
    "df_compound = df_compound.groupby(['category', 'compound']).agg({'compound': 'count'}).rename(columns={'compound': 'count'}).reset_index()\n",
    "df_compound"
   ]
  },
  {
   "cell_type": "code",
   "execution_count": 46,
   "metadata": {},
   "outputs": [],
   "source": [
    "# Making dictionaries with count of the compound scores for the different categories\n",
    "categories = ['Sports', 'Newspaper','Celebrity magazine', 'Other' ]\n",
    "\n",
    "array_dict_2 = {}\n",
    "for outlet in categories:\n",
    "    array_dict_2[f'x_{outlet}'] = df_compound[df_compound['category']==outlet]['compound']\n",
    "    # Log scaling and normalizing (min-max normalization) the values\n",
    "    array_dict_2[f'y_{outlet}'] = np.log(df_compound[df_compound['category']==outlet]['count'])\n",
    "    array_dict_2[f'y_{outlet}'] = (array_dict_2[f'y_{outlet}'] - array_dict_2[f'y_{outlet}'].min()) \\\n",
    "                                / (array_dict_2[f'y_{outlet}'].max() - array_dict_2[f'y_{outlet}'].min())"
   ]
  },
  {
   "cell_type": "code",
   "execution_count": 49,
   "metadata": {},
   "outputs": [],
   "source": [
    "# Making ridge plot of the blob_polar distributions per category\n",
    "fig = go.Figure()\n",
    "\n",
    "# Iterating over categories and drawing the corresponding media compound score count line\n",
    "for index, media in enumerate(categories):\n",
    "    \n",
    "    # 'blank line' that is placed at y = index\n",
    "    fig.add_trace(go.Scatter(\n",
    "                            x=[-1, 1], y=np.full(5, len(categories)-index),\n",
    "                            mode='lines',\n",
    "                            line_color='white'))\n",
    "    # Media compound score count line\n",
    "    fig.add_trace(go.Scatter(\n",
    "                            x=array_dict_2[f'x_{media}'],\n",
    "                            y=array_dict_2[f'y_{media}']+ (len(categories)-index) ,\n",
    "                            fill='tonexty',\n",
    "                            name=f'{media}'))\n",
    "\n",
    "    # Adding text to figure\n",
    "    fig.add_annotation(\n",
    "                        x=-0.1,\n",
    "                        y=len(categories)-index,\n",
    "                        text=f'{media}',\n",
    "                        showarrow=False,\n",
    "                        yshift=1)\n",
    "\n",
    "# Modifing the figure and the legend titles\n",
    "fig.update_layout(\n",
    "                title='Distribution of Compound Score by Category',\n",
    "                showlegend=False,\n",
    "                xaxis=dict(title='Compound score'),\n",
    "                yaxis=dict(showticklabels=False)\n",
    "                )\n",
    "\n",
    "# Removing grid\n",
    "fig.update_xaxes(showgrid=False)\n",
    "fig.update_yaxes(showgrid=False)\n",
    "fig.update_layout(paper_bgcolor = 'rgba(0, 0, 0,0)', plot_bgcolor = 'rgba(0, 0, 0,0)')\n",
    "\n",
    "fig.write_html(\"plots/polarity_distribution_categories.html\")"
   ]
  },
  {
   "cell_type": "code",
   "execution_count": 51,
   "metadata": {},
   "outputs": [],
   "source": [
    "# Making dictionaries with count of the compound for a selection of media outlets\n",
    "\n",
    "chosen_news = ['nytimes', 'espn', 'womansday', 'foxnews', 'cnn', 'mtv', 'wsj']\n",
    "\n",
    "df_news_compound = df_rounded.copy()\n",
    "df_news_compound['compound'] = df_news_compound['compound'].apply(lambda x: round(x, 1))\n",
    "df_news_compound = df_news_compound.groupby(['media_outlet', 'compound']).agg({'compound': 'count'}).rename(columns={'compound': 'count'}).reset_index()\n",
    "\n",
    "\n",
    "array_dict_3 = {}\n",
    "for outlet in chosen_news:\n",
    "    array_dict_3[f'x_{outlet}'] = df_news_compound[df_news_compound['media_outlet']==outlet]['compound'] # storing the compound score values for each category\n",
    "    \n",
    "    # Log scaling and normalizing (min max normalization) the values\n",
    "    array_dict_3[f'y_{outlet}'] = np.log(df_news_compound[df_news_compound['media_outlet']==outlet]['count']) # # storing the compound score for each value\n",
    "    array_dict_3[f'y_{outlet}'] = (array_dict_3[f'y_{outlet}'] - array_dict_3[f'y_{outlet}'].min()) \\\n",
    "                                / (array_dict_3[f'y_{outlet}'].max() - array_dict_3[f'y_{outlet}'].min())"
   ]
  },
  {
   "cell_type": "code",
   "execution_count": 54,
   "metadata": {},
   "outputs": [],
   "source": [
    "# Creating ridge plot for some notable newspapers\n",
    "fig = go.Figure()\n",
    "\n",
    "# Iterating over categories and drawing the corresponding media compound score count line\n",
    "for index, media in enumerate(chosen_news):\n",
    "    # 'blank line' that is placed at y = index\n",
    "    fig.add_trace(go.Scatter(\n",
    "                            x=[-1, 1], y=np.full(5, len(chosen_news)-index),\n",
    "                            mode='lines',\n",
    "                            line_color='white'))\n",
    "     # Media compound score count line\n",
    "    fig.add_trace(go.Scatter(\n",
    "                            x=array_dict_3[f'x_{media}'],\n",
    "                            y=array_dict_3[f'y_{media}'] + (len(chosen_news)-index) ,\n",
    "                            fill='tonexty',\n",
    "                            name=f'{media}'))\n",
    "    \n",
    "    # Adding text to figure\n",
    "    fig.add_annotation(\n",
    "                        x=-0.1,\n",
    "                        y=len(chosen_news)-index,\n",
    "                        text=f'{media}',\n",
    "                        showarrow=False,\n",
    "                        yshift=1)\n",
    "\n",
    "# Modifing the figure and the legend titles\n",
    "fig.update_layout(\n",
    "                title='Distribution of Compound Score by Media Outlet',\n",
    "                showlegend=False,\n",
    "                xaxis=dict(title='Compound score'),\n",
    "                yaxis=dict(showticklabels=False)\n",
    "                )\n",
    "\n",
    "# Removing grid\n",
    "fig.update_xaxes(showgrid=False)\n",
    "fig.update_yaxes(showgrid=False)\n",
    "fig.update_layout(paper_bgcolor = 'rgba(0, 0, 0,0)', plot_bgcolor = 'rgba(0, 0, 0,0)')\n",
    "\n",
    "fig.write_html(\"plots/polarity_distribution_medias.html\")"
   ]
  },
  {
   "cell_type": "code",
   "execution_count": 59,
   "metadata": {},
   "outputs": [],
   "source": [
    "# Visualizing line plot of the compound score for different newspapers\n",
    "fig = go.Figure()\n",
    "text = []\n",
    "# iterating over categories and drawing the corresponding media count line\n",
    "for index, media in enumerate(chosen_news):\n",
    "\n",
    "    # Media compound score count line\n",
    "    fig.add_trace(go.Scatter(\n",
    "                            x=array_dict_3[f'x_{media}'],\n",
    "                            y=array_dict_3[f'y_{media}'] ,\n",
    "                            name=f'{media}'))\n",
    "\n",
    "# Adding text to figure\n",
    "fig.update_layout(\n",
    "                title='Distribution of Compound Score by Media Outlet',\n",
    "                showlegend=True,\n",
    "                xaxis=dict(title='Compound score'),\n",
    "                yaxis=dict(title = 'Density')\n",
    "                )\n",
    "\n",
    "# Removing grid\n",
    "fig.update_xaxes(showgrid=False)\n",
    "fig.update_yaxes(showgrid=False)\n",
    "fig.update_layout(paper_bgcolor = 'rgba(0, 0, 0,0)', plot_bgcolor = 'rgba(0, 0, 0,0)')\n",
    "\n",
    "fig.write_html(\"plots/polarity_distribution_media.html\")"
   ]
  },
  {
   "cell_type": "code",
   "execution_count": 60,
   "metadata": {},
   "outputs": [],
   "source": [
    "# Making dictionaries with count of the compound score for the different categories\n",
    "df_categories_compound = df_rounded.copy()\n",
    "df_categories_compound['compound'] = df_categories_compound['compound'].apply(lambda x: round(x, 1))\n",
    "df_categories_compound = df_categories_compound.groupby(['category', 'compound']).agg({'compound': 'count'}).rename(columns={'compound': 'count'}).reset_index()\n",
    "\n",
    "array_dict_3 = {}\n",
    "for outlet in categories:\n",
    "    array_dict_3[f'x_{outlet}'] = df_categories_compound[df_categories_compound['category']==outlet]['compound']\n",
    "    # Log scaling and normalizing (min-max normalization)\n",
    "    array_dict_3[f'y_{outlet}'] = np.log(df_categories_compound[df_categories_compound['category']==outlet]['count'])\n",
    "    array_dict_3[f'y_{outlet}'] = (array_dict_3[f'y_{outlet}'] - array_dict_3[f'y_{outlet}'].min()) \\\n",
    "                                / (array_dict_3[f'y_{outlet}'].max() - array_dict_3[f'y_{outlet}'].min())"
   ]
  },
  {
   "cell_type": "code",
   "execution_count": null,
   "metadata": {},
   "outputs": [],
   "source": [
    "# Visualizing line plot for categories of media outlets\n",
    "fig = go.Figure()\n",
    "text = []\n",
    "\n",
    "# Iterating over categories and drawing the corresponding media count line\n",
    "for index, media in enumerate(categories):\n",
    "\n",
    "    # Media compound score count line\n",
    "    fig.add_trace(go.Scatter(\n",
    "                            x=array_dict_3[f'x_{media}'],\n",
    "                            y=array_dict_3[f'y_{media}'] ,\n",
    "                            name=f'{media}'))\n",
    "\n",
    "# Adding text to figure\n",
    "fig.update_layout(\n",
    "                title='Distribution of Compound Score by Category',\n",
    "                showlegend=True,\n",
    "                xaxis=dict(title='Compound score'),\n",
    "                yaxis=dict(title='Density (log-scaled and normalized)') \n",
    "                )\n",
    "\n",
    "# Removing grid\n",
    "fig.update_xaxes(showgrid=False)\n",
    "fig.update_yaxes(showgrid=False)\n",
    "fig.update_layout(paper_bgcolor = 'rgba(0, 0, 0,0)', plot_bgcolor = 'rgba(0, 0, 0,0)')\n",
    "fig.write_html(\"plots/polarity_distribution_categories_same_plot.html\")"
   ]
  },
  {
   "cell_type": "markdown",
   "metadata": {},
   "source": [
    "#### **Mood Across Subsamples - Analysis**"
   ]
  },
  {
   "cell_type": "markdown",
   "metadata": {},
   "source": [
    "##### __Loading the data__"
   ]
  },
  {
   "cell_type": "code",
   "execution_count": null,
   "metadata": {},
   "outputs": [],
   "source": [
    "# Reading all quote files into one large dataframe\n",
    "all_files = [path + '/fil%d.csv.bz2'%i for i in range(6)]\n",
    "df = pd.concat(map(pd.read_csv, [all_files[0], all_files[1],all_files[2], all_files[3], all_files[4], all_files[5]]))"
   ]
  },
  {
   "cell_type": "code",
   "execution_count": 7,
   "metadata": {},
   "outputs": [
    {
     "data": {
      "text/html": [
       "<div>\n",
       "<style scoped>\n",
       "    .dataframe tbody tr th:only-of-type {\n",
       "        vertical-align: middle;\n",
       "    }\n",
       "\n",
       "    .dataframe tbody tr th {\n",
       "        vertical-align: top;\n",
       "    }\n",
       "\n",
       "    .dataframe thead th {\n",
       "        text-align: right;\n",
       "    }\n",
       "</style>\n",
       "<table border=\"1\" class=\"dataframe\">\n",
       "  <thead>\n",
       "    <tr style=\"text-align: right;\">\n",
       "      <th></th>\n",
       "      <th>Unnamed: 0</th>\n",
       "      <th>date_short</th>\n",
       "      <th>compound</th>\n",
       "      <th>polarity</th>\n",
       "      <th>subjectivity</th>\n",
       "      <th>media_outlet</th>\n",
       "      <th>weekday</th>\n",
       "      <th>Month</th>\n",
       "    </tr>\n",
       "  </thead>\n",
       "  <tbody>\n",
       "  </tbody>\n",
       "</table>\n",
       "</div>"
      ],
      "text/plain": [
       "Empty DataFrame\n",
       "Columns: [Unnamed: 0, date_short, compound, polarity, subjectivity, media_outlet, weekday, Month]\n",
       "Index: []"
      ]
     },
     "execution_count": 7,
     "metadata": {},
     "output_type": "execute_result"
    }
   ],
   "source": [
    "# Removing df headers\n",
    "df = df[df['Unnamed: 0'].notna()]\n",
    "df[df['Unnamed: 0'].isnull()]"
   ]
  },
  {
   "cell_type": "code",
   "execution_count": null,
   "metadata": {},
   "outputs": [],
   "source": [
    "# Reading rest of subsample processed files into dataframes\n",
    "all_male_df = [path + 'males_output_%d.csv.bz2'%i for i in range(6)]\n",
    "all_female_df = [path + 'females_output_%d.csv.bz2'%i for i in range(6)]\n",
    "all_politician_df = [path + 'politician_output_%d.csv.bz2'%i for i in range(6)]\n",
    "\n",
    "male_df = pd.concat(map(pd.read_csv, [all_male_df[0], all_male_df[1], all_male_df[2], all_male_df[3], all_male_df[4], all_male_df[5]]))\n",
    "female_df = pd.concat(map(pd.read_csv, [all_female_df[0], all_female_df[1], all_female_df[2], all_female_df[3], all_female_df[4], all_female_df[5]]))\n",
    "politician_df = pd.concat(map(pd.read_csv, [all_politician_df[0], all_politician_df[1], all_politician_df[2], all_politician_df[3], all_politician_df[4], all_politician_df[5]]))"
   ]
  },
  {
   "cell_type": "markdown",
   "metadata": {},
   "source": [
    "##### __Analysis__"
   ]
  },
  {
   "cell_type": "code",
   "execution_count": 9,
   "metadata": {},
   "outputs": [],
   "source": [
    "# Keep lists and dict to organize dataframes\n",
    "frames = [df, female_df, male_df, politician_df]\n",
    "frame_names = {'all': df, 'females': female_df, 'males': male_df, 'politicians': politician_df}"
   ]
  },
  {
   "cell_type": "code",
   "execution_count": 10,
   "metadata": {},
   "outputs": [],
   "source": [
    "# Converting relevant columns to numeric\n",
    "for i in range(len(frames)):     \n",
    "    frames[i]['compound'] = pd.to_numeric(frames[i].compound, errors='coerce')\n",
    "    frames[i]['polarity'] = pd.to_numeric(frames[i].polarity, errors='coerce')\n",
    "    frames[i]['subjectivity'] = pd.to_numeric(frames[i].subjectivity, errors='coerce')"
   ]
  },
  {
   "cell_type": "code",
   "execution_count": 21,
   "metadata": {},
   "outputs": [
    {
     "name": "stdout",
     "output_type": "stream",
     "text": [
      "Mean value of compound for all is 0.191828\n",
      "Mean value of subjectivity for all is 0.387901\n",
      "Mean value of polarity for all is 0.120359\n",
      "Mean value of compound for females is 0.196080\n",
      "Mean value of subjectivity for females is 0.395474\n",
      "Mean value of polarity for females is 0.125534\n",
      "Mean value of compound for males is 0.194134\n",
      "Mean value of subjectivity for males is 0.391385\n",
      "Mean value of polarity for males is 0.122818\n",
      "Mean value of compound for politicians is 0.156465\n",
      "Mean value of subjectivity for politicians is 0.382190\n",
      "Mean value of polarity for politicians is 0.107740\n"
     ]
    }
   ],
   "source": [
    "# Calculating key metrics, means of the three sentiment columns\n",
    "for key, value in frame_names.items():\n",
    "    print(\"Mean value of compound for \" + key + \" is %f\" % value['compound'].mean())\n",
    "    print(\"Mean value of subjectivity for \" + key + \" is %f\" % value['subjectivity'].mean())\n",
    "    print(\"Mean value of polarity for \" + key + \" is %f\" % value['polarity'].mean())"
   ]
  },
  {
   "cell_type": "code",
   "execution_count": 14,
   "metadata": {},
   "outputs": [
    {
     "name": "stdout",
     "output_type": "stream",
     "text": [
      "Two sided paired t-test with null hypothesis: The mean mood for politicians is the same as the mean mood for all.\n",
      "t-value: -132.1912, p-value: 0.0\n",
      "H0 rejected\n"
     ]
    }
   ],
   "source": [
    "t, p = stats.ttest_ind(politician_df['compound'], df['compound'])\n",
    "print(\"Two sided paired t-test with null hypothesis: The mean mood for politicians is the same as the mean mood for all.\")\n",
    "print(f\"t-value: {round(t, 4)}, p-value: {round(p, 10)}\")\n",
    "print(\"H0 rejected\")"
   ]
  },
  {
   "cell_type": "markdown",
   "metadata": {},
   "source": [
    "Here, we are testing the null hypothesis $H_0$: The mean compound score of politicans equals the compound score of the average quote. We reject the null hypothesis at a significance level of 1% as the p-value is 0.0."
   ]
  },
  {
   "cell_type": "code",
   "execution_count": 13,
   "metadata": {
    "colab": {
     "base_uri": "https://localhost:8080/"
    },
    "id": "omVNKARKqNkY",
    "outputId": "759e5625-6e68-45d7-e65d-dbd6e691b7bc"
   },
   "outputs": [
    {
     "name": "stdout",
     "output_type": "stream",
     "text": [
      "Two sided paired t-test with null hypothesis: The mean mood for males is the same as the mean mood for females.\n",
      "t-value: 5.7939, p-value: 6.9e-09\n",
      "H0 rejected\n"
     ]
    }
   ],
   "source": [
    "t, p = stats.ttest_ind(female_df['compound'], male_df['compound'])\n",
    "print(\"Two sided paired t-test with null hypothesis: The mean mood for males is the same as the mean mood for females.\")\n",
    "print(f\"t-value: {round(t, 4)}, p-value: {round(p, 10)}\")\n",
    "print(\"H0 rejected\")"
   ]
  },
  {
   "cell_type": "markdown",
   "metadata": {},
   "source": [
    "Here, we are testing the null hypothesis $H_0$: The mean compound score of women equals the mean compound score of men. We reject the null hypothesis at a significance level of 1% as the p-value is 6.9e-0.9."
   ]
  },
  {
   "cell_type": "markdown",
   "metadata": {},
   "source": [
    "Calculating the ratio of quotations from men and women, to be used for making a pie chart."
   ]
  },
  {
   "cell_type": "code",
   "execution_count": 115,
   "metadata": {},
   "outputs": [
    {
     "name": "stdout",
     "output_type": "stream",
     "text": [
      "The female ratio is: 0.127507\n",
      "The male ratio is: 0.872493\n"
     ]
    }
   ],
   "source": [
    "female_ratio = len(female_df.index)/(len(female_df.index)+len(male_df.index))\n",
    "male_ratio = len(male_df.index)/(len(female_df.index)+len(male_df.index))\n",
    "print('The female ratio is: %f' % female_ratio)\n",
    "print('The male ratio is: %f' % male_ratio)"
   ]
  },
  {
   "cell_type": "code",
   "execution_count": null,
   "metadata": {},
   "outputs": [],
   "source": [
    "# Visualizing the ratio of quotes from men and women\n",
    "fig = px.pie(values=[female_ratio, male_ratio], names=['Female ratio', 'Male ratio'], template='seaborn', opacity=0.75)\n",
    "\n",
    "fig.update_layout({\n",
    "'plot_bgcolor': 'rgba(0, 0, 0, 0)',\n",
    "'paper_bgcolor': 'rgba(0, 0, 0, 0)',\n",
    "})\n",
    "fig.update_traces(hovertemplate='</br>Name: %{label} </br>Ratio: %{percent}</br>')\n",
    "fig.update_layout(title='Gender Ratio')\n",
    "fig.update_traces(textposition='inside', textinfo='percent+label')\n",
    "\n",
    "fig.write_html('plots/pie_genders.html', full_html=False, include_plotlyjs='cdn')\n",
    "\n",
    "fig.show()"
   ]
  },
  {
   "cell_type": "markdown",
   "metadata": {},
   "source": [
    "Calculating the ratio of quotations from politicans, used for making a pie chart."
   ]
  },
  {
   "cell_type": "code",
   "execution_count": 11,
   "metadata": {
    "scrolled": true
   },
   "outputs": [
    {
     "name": "stdout",
     "output_type": "stream",
     "text": [
      "The politician ratio is: 0.025892\n",
      "The non-politican ratio is: 0.974108\n"
     ]
    }
   ],
   "source": [
    "df_size = len(df.index)\n",
    "pol_size = len(politician_df.index)\n",
    "politician_ratio = pol_size/(pol_size+df_size)\n",
    "non_politician_ratio = 1-politician_ratio\n",
    "print('The politician ratio is: %f' % politician_ratio)\n",
    "print('The non-politican ratio is: %f' % non_politician_ratio)"
   ]
  },
  {
   "cell_type": "code",
   "execution_count": null,
   "metadata": {},
   "outputs": [],
   "source": [
    "# Visualizing the ratio of quotes from politicans in a pie chart\n",
    "fig = px.pie(values=[politician_ratio, non_politician_ratio], names=['Politician ratio', 'Non-politician ratio'], template='seaborn', opacity=0.75)\n",
    "fig.update_layout({\n",
    "'plot_bgcolor': 'rgba(0, 0, 0, 0)',\n",
    "'paper_bgcolor': 'rgba(0, 0, 0, 0)',\n",
    "})\n",
    "\n",
    "fig.update_traces(hovertemplate='</br>Name: %{label} </br>Ratio: %{percent}</br>')\n",
    "\n",
    "fig.update_layout(title='Politician Ratio')\n",
    "fig.update_traces(textposition='inside', textinfo='percent+label')\n",
    "\n",
    "fig.write_html('plots/pie_pol.html', full_html=False, include_plotlyjs='cdn')\n",
    "\n",
    "fig.show()"
   ]
  },
  {
   "cell_type": "markdown",
   "metadata": {},
   "source": [
    "\n",
    "#### **Resampling data**"
   ]
  },
  {
   "cell_type": "code",
   "execution_count": null,
   "metadata": {},
   "outputs": [],
   "source": [
    "# Resampling the dataframes by averaging the numeric values with respect to date\n",
    "format = '%Y-%m-%d'\n",
    "resampled_dfs = [df, female_df, male_df, politician_df]\n",
    "for i in range(len(resampled_dfs)):\n",
    "    resampled_dfs[i]['Datetime'] = pd.to_datetime(resampled_dfs[i]['date_short'], format=format)\n",
    "    resampled_dfs[i] = resampled_dfs[i].set_index(pd.DatetimeIndex(resampled_dfs[i]['Datetime']))\n",
    "    resampled_dfs[i] = resampled_dfs[i][['compound','polarity','subjectivity', 'Datetime']]\n",
    "    resampled_dfs[i] = resampled_dfs[i].resample('D', on='Datetime').mean()"
   ]
  },
  {
   "cell_type": "code",
   "execution_count": null,
   "metadata": {},
   "outputs": [],
   "source": [
    "# Writing resamples to file\n",
    "x = 0\n",
    "for frame in resampled_dfs:\n",
    "    frame.to_csv(path+'%s_resampled.csv' % list(frame_names.keys())[x], mode = 'a')\n",
    "    x += 1"
   ]
  },
  {
   "cell_type": "code",
   "execution_count": null,
   "metadata": {},
   "outputs": [],
   "source": [
    "# Loading previously saved resamples from file\n",
    "df_resampled = pd.read_csv(path + 'all_resampled.csv', index_col='Datetime', parse_dates=['Datetime'])\n",
    "female_df_resampled = pd.read_csv(path + 'female_resampled.csv', index_col='Datetime', parse_dates=['Datetime'])\n",
    "male_df_resampled = pd.read_csv(path + 'male_resampled.csv', index_col='Datetime', parse_dates=['Datetime'])\n",
    "politician_df_resampled = pd.read_csv(path + 'politician_resampled.csv', index_col='Datetime', parse_dates=['Datetime'])\n",
    "\n",
    "resampled_dfs = [df_resampled, female_df_resampled, male_df_resampled, politician_df_resampled]"
   ]
  },
  {
   "cell_type": "code",
   "execution_count": 70,
   "metadata": {},
   "outputs": [
    {
     "data": {
      "text/html": [
       "<div>\n",
       "<style scoped>\n",
       "    .dataframe tbody tr th:only-of-type {\n",
       "        vertical-align: middle;\n",
       "    }\n",
       "\n",
       "    .dataframe tbody tr th {\n",
       "        vertical-align: top;\n",
       "    }\n",
       "\n",
       "    .dataframe thead th {\n",
       "        text-align: right;\n",
       "    }\n",
       "</style>\n",
       "<table border=\"1\" class=\"dataframe\">\n",
       "  <thead>\n",
       "    <tr style=\"text-align: right;\">\n",
       "      <th></th>\n",
       "      <th>compound</th>\n",
       "      <th>polarity</th>\n",
       "      <th>subjectivity</th>\n",
       "    </tr>\n",
       "    <tr>\n",
       "      <th>Datetime</th>\n",
       "      <th></th>\n",
       "      <th></th>\n",
       "      <th></th>\n",
       "    </tr>\n",
       "  </thead>\n",
       "  <tbody>\n",
       "    <tr>\n",
       "      <th>2015-01-01</th>\n",
       "      <td>0.147157</td>\n",
       "      <td>0.047470</td>\n",
       "      <td>0.222729</td>\n",
       "    </tr>\n",
       "    <tr>\n",
       "      <th>2015-01-02</th>\n",
       "      <td>0.157131</td>\n",
       "      <td>0.102814</td>\n",
       "      <td>0.368783</td>\n",
       "    </tr>\n",
       "    <tr>\n",
       "      <th>2015-01-03</th>\n",
       "      <td>0.133693</td>\n",
       "      <td>0.082452</td>\n",
       "      <td>0.537166</td>\n",
       "    </tr>\n",
       "    <tr>\n",
       "      <th>2015-01-04</th>\n",
       "      <td>0.162390</td>\n",
       "      <td>0.163016</td>\n",
       "      <td>0.397769</td>\n",
       "    </tr>\n",
       "    <tr>\n",
       "      <th>2015-01-05</th>\n",
       "      <td>0.217920</td>\n",
       "      <td>0.189188</td>\n",
       "      <td>0.387918</td>\n",
       "    </tr>\n",
       "    <tr>\n",
       "      <th>...</th>\n",
       "      <td>...</td>\n",
       "      <td>...</td>\n",
       "      <td>...</td>\n",
       "    </tr>\n",
       "    <tr>\n",
       "      <th>2020-04-13</th>\n",
       "      <td>0.105438</td>\n",
       "      <td>0.107659</td>\n",
       "      <td>0.399949</td>\n",
       "    </tr>\n",
       "    <tr>\n",
       "      <th>2020-04-14</th>\n",
       "      <td>0.144819</td>\n",
       "      <td>0.117700</td>\n",
       "      <td>0.389043</td>\n",
       "    </tr>\n",
       "    <tr>\n",
       "      <th>2020-04-15</th>\n",
       "      <td>0.104051</td>\n",
       "      <td>0.106981</td>\n",
       "      <td>0.377379</td>\n",
       "    </tr>\n",
       "    <tr>\n",
       "      <th>2020-04-16</th>\n",
       "      <td>0.122896</td>\n",
       "      <td>0.101309</td>\n",
       "      <td>0.391075</td>\n",
       "    </tr>\n",
       "    <tr>\n",
       "      <th>2020-04-17</th>\n",
       "      <td>-0.075600</td>\n",
       "      <td>0.144444</td>\n",
       "      <td>0.577778</td>\n",
       "    </tr>\n",
       "  </tbody>\n",
       "</table>\n",
       "<p>1934 rows × 3 columns</p>\n",
       "</div>"
      ],
      "text/plain": [
       "            compound  polarity  subjectivity\n",
       "Datetime                                    \n",
       "2015-01-01  0.147157  0.047470      0.222729\n",
       "2015-01-02  0.157131  0.102814      0.368783\n",
       "2015-01-03  0.133693  0.082452      0.537166\n",
       "2015-01-04  0.162390  0.163016      0.397769\n",
       "2015-01-05  0.217920  0.189188      0.387918\n",
       "...              ...       ...           ...\n",
       "2020-04-13  0.105438  0.107659      0.399949\n",
       "2020-04-14  0.144819  0.117700      0.389043\n",
       "2020-04-15  0.104051  0.106981      0.377379\n",
       "2020-04-16  0.122896  0.101309      0.391075\n",
       "2020-04-17 -0.075600  0.144444      0.577778\n",
       "\n",
       "[1934 rows x 3 columns]"
      ]
     },
     "execution_count": 70,
     "metadata": {},
     "output_type": "execute_result"
    }
   ],
   "source": [
    "resampled_dfs[3]"
   ]
  },
  {
   "cell_type": "markdown",
   "metadata": {},
   "source": [
    "#### **Binning the data**\n",
    "Aggregating the dataframes with respect to numeric intervals and frequency of occurence"
   ]
  },
  {
   "cell_type": "code",
   "execution_count": 13,
   "metadata": {},
   "outputs": [],
   "source": [
    "def bin_df(frame, column, bin_width):\n",
    "    \"\"\" Helper functions for binning a data frame.\n",
    "    \n",
    "    Parameters\n",
    "    ----------\n",
    "    frame: dataframe\n",
    "        The original dataframe to be binned\n",
    "    column: str\n",
    "        The name of the column to be binned\n",
    "    bin_width: int\n",
    "        The desired width of the bins\n",
    "    \n",
    "    Returns\n",
    "    -------\n",
    "    dict\n",
    "        A dictionary containing the bins and their respective counts\n",
    "    \"\"\"\n",
    "\n",
    "    binning_df = frame[[column]]\n",
    "    \n",
    "    # Creating the bins\n",
    "    counts, bins = np.histogram(binning_df[column], bins=bin_width,  density=True)\n",
    "    bins = 0.5 * (bins[:-1] + bins[1:])\n",
    "    return {'bins': bins, 'counts': counts}"
   ]
  },
  {
   "cell_type": "code",
   "execution_count": 14,
   "metadata": {},
   "outputs": [],
   "source": [
    "# Removing rows that have NaN values on relevant values\n",
    "female_df = female_df[female_df.compound.notna()]\n",
    "male_df = male_df[male_df.compound.notna()]\n",
    "politician_df = politician_df[politician_df.compound.notna()]\n",
    "\n",
    "female_df = female_df[female_df.subjectivity.notna()]\n",
    "male_df = male_df[male_df.subjectivity.notna()]\n",
    "politician_df = politician_df[politician_df.subjectivity.notna()]"
   ]
  },
  {
   "cell_type": "code",
   "execution_count": null,
   "metadata": {},
   "outputs": [],
   "source": [
    "# Binning the relevant dataframes on compound\n",
    "df_binned = bin_df(df, 'compound', 201)\n",
    "male_df_binned = bin_df(male_df, 'compound', 201)\n",
    "female_df_binned = bin_df(female_df, 'compound', 201)\n",
    "politician_df_binned = bin_df(politician_df, 'compound', 201)"
   ]
  },
  {
   "cell_type": "code",
   "execution_count": 15,
   "metadata": {},
   "outputs": [],
   "source": [
    "# Binning relevant dataframes on subjectivity\n",
    "df_binned_sub = bin_df(df, 'subjectivity', 21)\n",
    "male_df_binned_sub = bin_df(male_df, 'subjectivity', 21)\n",
    "female_df_binned_sub = bin_df(female_df, 'subjectivity', 21)\n",
    "politician_df_binned_sub = bin_df(politician_df, 'subjectivity', 21)"
   ]
  },
  {
   "cell_type": "code",
   "execution_count": null,
   "metadata": {},
   "outputs": [],
   "source": [
    "binned = [df_binned, female_df_binned, male_df_binned, politician_df_binned]\n",
    "binned_subs = [df_binned_sub, female_df_binned_sub, male_df_binned_sub, politician_df_binned_sub]"
   ]
  },
  {
   "cell_type": "code",
   "execution_count": null,
   "metadata": {},
   "outputs": [],
   "source": [
    "# Writing binned frames to file\n",
    "for i in range(len(binned)):\n",
    "    pd.DataFrame(binned[i]).to_csv(path + '/binned_%d.csv' % i) \n",
    "for i in range(len(binned_subs)):\n",
    "    pd.DataFrame(binned_subs[i]).to_csv(path + '/binned_subs_%d.csv' % i)     "
   ]
  },
  {
   "cell_type": "markdown",
   "metadata": {},
   "source": [
    "##### __Visualizing the data__"
   ]
  },
  {
   "cell_type": "code",
   "execution_count": 32,
   "metadata": {
    "colab": {
     "base_uri": "https://localhost:8080/",
     "height": 288
    },
    "id": "IM2K7I3YlM5k",
    "outputId": "176e39a4-1093-498f-b7f3-c9fb182a0456"
   },
   "outputs": [
    {
     "data": {
      "image/png": "[encoded data removed]",
      "text/plain": [
       "<Figure size 1152x288 with 1 Axes>"
      ]
     },
     "metadata": {},
     "output_type": "display_data"
    }
   ],
   "source": [
    "# Visualizing the distribution of compound score for politicans through time\n",
    "fig, ax = plt.subplots(1,1, figsize = (16,4))\n",
    "ax.plot(resampled_dfs[0].index, resampled_dfs[0].compound)\n",
    "ax.plot(resampled_dfs[3].index, resampled_dfs[3].compound)\n",
    "ax.legend(['General', 'Politicians'])\n",
    "ax.set_title('Distribution of compound sentiment scores for politicians') \n",
    "ax.set_xlabel('Dates')\n",
    "ax.set_ylabel('Mean compound sentiment score')\n",
    "ax.set_yscale('linear')\n",
    "plt.show()"
   ]
  },
  {
   "cell_type": "code",
   "execution_count": 20,
   "metadata": {},
   "outputs": [
    {
     "data": {
      "image/png": "[encoded data removed]",
      "text/plain": [
       "<Figure size 1008x720 with 2 Axes>"
      ]
     },
     "metadata": {},
     "output_type": "display_data"
    }
   ],
   "source": [
    "# Plotting the compound score distributions of all data and politicians\n",
    "fig, ax = plt.subplots(2,1, figsize=(14,10))\n",
    "\n",
    "ax[0].hist(frames[0].compound, bins=15)\n",
    "ax[0].set_xlabel('Compound score')\n",
    "ax[0].set_ylabel('Frequency')\n",
    "ax[1].hist(frames[3].compound, bins=15)\n",
    "ax[1].set_xlabel('Compound score')\n",
    "ax[1].set_ylabel('Frequency')\n",
    "\n",
    "fig.tight_layout()\n",
    "\n",
    "plt.show()"
   ]
  },
  {
   "cell_type": "markdown",
   "metadata": {},
   "source": [
    "Visualizing and exporting distributions in plotly"
   ]
  },
  {
   "cell_type": "code",
   "execution_count": null,
   "metadata": {
    "scrolled": false
   },
   "outputs": [],
   "source": [
    "layout = Layout(\n",
    "    paper_bgcolor='rgba(0,0,0,0)',\n",
    "    plot_bgcolor='rgba(0,0,0,0)'\n",
    ")\n",
    "\n",
    "# Visualizing subjectivity distribution for politicans and the average quotes\n",
    "fig = go.Figure(data=[\n",
    "    go.Bar(name='Politicians', x=politician_df_binned_sub['bins'], y=politician_df_binned_sub['counts'], opacity=0.75),\n",
    "    go.Bar(name='All', x=df_binned_sub['bins'], y=df_binned_sub['counts'], opacity=0.75)\n",
    "], layout=layout)\n",
    "\n",
    "fig.update_layout(title='Subjectivity Distribution', yaxis_title=\"Normalized and logistic frequency\", xaxis_title=\"Subjectivity scores\")\n",
    "\n",
    "fig.update_layout(barmode='group', template='seaborn')\n",
    "\n",
    "fig.update_yaxes(type='log')\n",
    "\n",
    "fig.write_html('plots/bar_dist_sub_pol_all.html', full_html=False, include_plotlyjs='cdn')\n",
    "\n",
    "fig.show()"
   ]
  },
  {
   "cell_type": "code",
   "execution_count": null,
   "metadata": {},
   "outputs": [],
   "source": [
    "# Visualizing the compound distribution for men and women\n",
    "fig = go.Figure(data=[\n",
    "    go.Line(name='Males', x=male_df_binned['bins'], y=male_df_binned['counts']),\n",
    "    go.Line(name='Females', x=female_df_binned['bins'].tolist(), y=female_df_binned['counts'].tolist())\n",
    "], layout=layout)\n",
    "\n",
    "fig.update_layout(title='Compound Distribution', yaxis_title=\"Normalized and logistic frequency\", xaxis_title=\"Compound score\"\n",
    ")\n",
    "\n",
    "fig.update_layout(barmode='group', template='seaborn')\n",
    "\n",
    "fig.update_yaxes(type='log')\n",
    "\n",
    "fig.write_html('plots/line_dist_comp_males_females.html', full_html=False, include_plotlyjs='cdn')\n",
    "\n",
    "fig.show()"
   ]
  },
  {
   "cell_type": "code",
   "execution_count": null,
   "metadata": {},
   "outputs": [],
   "source": [
    "# Visualizing the distribution of subjectivity scores for politicans and the entire data set\n",
    "fig = go.Figure()\n",
    "fig.add_trace(go.Histogram(\n",
    "    x=df.subjectivity,\n",
    "    histnorm='percent',\n",
    "    name='All', \n",
    "    xbins=dict(\n",
    "        start=0.0,\n",
    "        end=1.0,\n",
    "        size=0.1\n",
    "    ),\n",
    "    opacity=0.75\n",
    "))\n",
    "fig.add_trace(go.Histogram(\n",
    "    x=politician_df.subjectivity,\n",
    "    histnorm='percent',\n",
    "    name='Politicians',\n",
    "    xbins=dict(\n",
    "        start=0.0,\n",
    "        end=1,\n",
    "        size=0.1\n",
    "    ),\n",
    "    opacity=0.75\n",
    "))\n",
    "\n",
    "fig.update_layout(\n",
    "    title_text='Compound distribution', \n",
    "    xaxis_title_text='Value', \n",
    "    yaxis_title_text='Frequency', \n",
    "    bargap=0.01, \n",
    "    bargroupgap=0.01 \n",
    ")\n",
    "\n",
    "fig.write_html('plots/line_subjectivity_dist_pol_df.html', full_html=False, include_plotlyjs='cdn')\n",
    "\n",
    "fig.show()"
   ]
  },
  {
   "cell_type": "code",
   "execution_count": null,
   "metadata": {},
   "outputs": [],
   "source": [
    "# Creating line diagram for average compound score over different time periods for the different demographics\n",
    "i = 0\n",
    "timeperiod_names = ['date', 'week', 'month']\n",
    "frame_names = ['all', 'females', 'males', 'politicians']\n",
    "\n",
    "for frame in resampled_dfs:\n",
    "    frame.index = pd.to_datetime(frame.index)\n",
    "\n",
    "    # Using date, week and month \n",
    "    timeperiods = [frame, frame.resample('7D').mean(), frame.resample('M').mean()]\n",
    "    j = 0\n",
    "    for timeperiod in timeperiods:\n",
    "        title = \"Mean sentiment of quotes per day for %s\" % frame_names[i]\n",
    "        fig = px.line(timeperiod.compound, title=title, labels={\n",
    "                    'value': 'Mean sentiment',\n",
    "                    'variable': 'Type',\n",
    "                    'Datetime': 'Date'\n",
    "                    })\n",
    "        fig.update_layout(showlegend=False)\n",
    "        fig.data[0].name = 'Sentiment\n",
    "        fig.write_html('plots/line_compound_%s_%s.html' % (frame_names[i], timeperiod_names[j]), full_html=False,\n",
    "                        include_plotlyjs='cdn')\n",
    "        j+=1\n",
    "        fig.show()\n",
    "    i+=1"
   ]
  },
  {
   "cell_type": "code",
   "execution_count": null,
   "metadata": {},
   "outputs": [],
   "source": [
    "# Creating line diagram for average compound score over different time periods for the different demographics\n",
    "pol_week = resampled_dfs[3].resample('7D').mean()\n",
    "all_week = resampled_dfs[0].resample('7D').mean()\n",
    "\n",
    "line = px.line(y=[pol_week.compound, all_week.compound], x=pol_week.index, title=\"Average Compound Score Over Time\", category_orders={'Dates': resampled_dfs[3].index}, labels={\n",
    "                    'value':'Average compound score',\n",
    "                    'x': 'Time in weeks',\n",
    "                    'variable': '',\n",
    "                    }, template='seaborn')\n",
    "\n",
    "line.update_layout({\n",
    "'plot_bgcolor': 'rgba(0, 0, 0, 0)',\n",
    "'paper_bgcolor': 'rgba(0, 0, 0, 0)',\n",
    "})\n",
    "\n",
    "line.update_traces(hovertemplate='')\n",
    "line.data[0].name=\"Politicians\"\n",
    "line.data[1].name=\"All\"\n",
    "\n",
    "line.write_html('plots/line_compound_pol_all_week.html', full_html=False,\n",
    "                        include_plotlyjs='cdn')\n",
    "\n",
    "line.show()"
   ]
  },
  {
   "cell_type": "code",
   "execution_count": null,
   "metadata": {},
   "outputs": [],
   "source": [
    "# Creating line diagram for average compound score over different timeperiods for the different demographics\n",
    "\n",
    "female_week = resampled_dfs[1].resample('7D').mean()\n",
    "male_week = resampled_dfs[2].resample('7D').mean()\n",
    "\n",
    "\n",
    "line_2 = px.line(y=[male_week.compound, female_week.compound], x=male_week.index, title=\"Average Compound Score Over Time\", category_orders={'Dates': resampled_dfs[3].index}, labels={\n",
    "                    'value':'Average sentiment score',\n",
    "                    'x': 'Time in weeks',\n",
    "                    'variable': '',\n",
    "                    }, template='seaborn')\n",
    "\n",
    "line_2.update_layout({\n",
    "'plot_bgcolor': 'rgba(0, 0, 0, 0)',\n",
    "'paper_bgcolor': 'rgba(0, 0, 0, 0)',\n",
    "})\n",
    "line_2.update_traces(hovertemplate='')\n",
    "line_2.data[0].name=\"Males\"\n",
    "line_2.data[1].name=\"Females\"\n",
    "\n",
    "line_2.write_html('plots/line_compound_males_females_week.html', full_html=False,\n",
    "                        include_plotlyjs='cdn')\n",
    "\n",
    "line_2.show()"
   ]
  },
  {
   "cell_type": "code",
   "execution_count": 185,
   "metadata": {
    "id": "F7LX9HLfx3M0"
   },
   "outputs": [
    {
     "data": {
      "image/png": "[encoded data removed]",
      "text/plain": [
       "<Figure size 720x360 with 1 Axes>"
      ]
     },
     "metadata": {},
     "output_type": "display_data"
    }
   ],
   "source": [
    "# Plotting the distribution of compound score for men and women on top of eachother\n",
    "plt.figure(figsize=(10, 5))\n",
    "plt.hist(male_df['compound'], bins=21,density=True, alpha=0.7, label='Males')\n",
    "plt.hist(female_df['compound'], bins=21,density=True, alpha=0.7, label='Females')\n",
    "plt.title(\"Compound sentiment score for Males and Females\")\n",
    "plt.xlabel('Score')\n",
    "plt.ylabel('Density')\n",
    "plt.legend(loc='upper left')\n",
    "plt.show()"
   ]
  },
  {
   "cell_type": "markdown",
   "metadata": {
    "id": "e9wtYAwcp13P"
   },
   "source": [
    "### __Mathematical Outline of Methods__\n",
    "The following cells will deal with the necessary outline of the mathematical concepts that will be used in our analysis\n",
    "* t-test\n",
    "* Welch's t-test\n",
    "* Natural language processing methods"
   ]
  },
  {
   "cell_type": "markdown",
   "metadata": {},
   "source": [
    "#### Statistical methods"
   ]
  },
  {
   "cell_type": "markdown",
   "metadata": {
    "id": "T1mUcqN0p8c8"
   },
   "source": [
    "__t-test__\n",
    "\n",
    "To test whether our results are statistically significant, we will use paired t-tests. The assumption needed to make t-test a valid form for hypothesis test is that the test-statistic is normally distributed. Since we will use the t-test for very large N, and the t-statistic is a sum of independent and identically distributed random variables, this assumption will hold of the central limit theorem.\n",
    "\n",
    "We will use the t-test to test the differences in mood in different scenarios. For example, to test if the mood in the media on Fridays is more positive than on Mondays. \n",
    "\n",
    "The t-statistic:\n",
    "\n",
    "${t} = \\frac{\\bar D-\\mu _D}{s_D / \\sqrt n}$\n",
    "\n",
    "where $\\bar D$ is the sample mean difference between the two distributions. $ \\mu _D$ is the real mean difference. $s_D$ is the sample standard deviation of the difference $\\bar D$, and $n$ is the number of observations.\n",
    "\n",
    "As our null hypothesis we will use $H_0: \\mu _D = 0$"
   ]
  },
  {
   "cell_type": "markdown",
   "metadata": {
    "id": "onVCvj9Klvgf"
   },
   "source": [
    "__Welch's t-test__\n",
    "\n",
    "We will also use Welch's t-test which is a variant of the t-test for when the two populations we study have unequal variance.\n",
    "\n",
    "The t-test will for example be used to test the different in sentiment between media outlets as above.\n",
    "\n",
    "The Welch t-statistic:\n",
    "\n",
    "${t} = \\frac{\\bar X_1-\\bar X_2}{\\sqrt {\\frac{s_1^2}{N_1}+\\frac{s_2^2}{N_2}}}$\n",
    "\n",
    "where $\\bar X_1- \\bar X_2$ is the sample mean difference between the two distributions, $s_i$ is the empirical standard error for $X_i$, and $N_i$ is the number of observations for $X_i$.\n",
    "\n",
    "Our null hyopthesis for the Welch t-test is also that that the two population means are equal."
   ]
  },
  {
   "cell_type": "markdown",
   "metadata": {
    "id": "eZoTQNm3qAgP"
   },
   "source": [
    "#### Natural Language Processing\n",
    "\n",
    "We will utilize NLTK, a Python library for Natural Language Processing, to complete this project’s natural language processing task. More information about NLTK can be found at _https://www.nltk.org/index.html_, or in the NLT book [1]. Additionally, we use the polarity and subjectivity score of the TextBlob text processing library. More information about TextBlob can be found here: https://textblob.readthedocs.io/."
   ]
  },
  {
   "cell_type": "markdown",
   "metadata": {},
   "source": [
    "##### Sentiment Analysis\n",
    "\n",
    "To study the changes in mood in the media, we will utilize sentiment analysis. Our sentiment analysis will aim to classify whether a quote is positive, neutral, or negative and to which extent it is positive or negative. \n",
    "\n",
    "To conduct the sentiment analysis, we will use the [nltk.sentiment.vader](_https://www.nltk.org/api/nltk.sentiment.vader.html_) module. This module uses the Vader rule-based model for sentiment analysis [2]. Vader’s sentiment lexicon consists of over 7500 lexical features, assigned an intensity score between -4 and 4. \n",
    "\n",
    "We chose the Vader module because it differentiates between slightly positive words and very positive words. This way, we can capture nuances in the sentiment of quotes.\n",
    "\n",
    "To quantify the sentiment, we will use the compound score provided by the Vader module. This score is calculated by normalizing the sum of valence scores for the individual words in the quote. The valence scores are calculated by finding the word score in the Vader lexicon. It does also include heuristics, such as giving extra weight to words written in upper case. To summarize, the following formulas calculate the compound score:\n",
    "\n",
    "$compoundScore = \\frac{sum_s}{\\sqrt{(sum_s^2+15)}}$ where $sum_s =\\sum_{i=1}^{n} valenceScore_i$\n",
    "\n",
    "To furthermore, enrichen our analysis, we will also use the TextBlob library's polarity and subjectivity scores. By comparing results with NLTK and TextBlob we can study the robustness of our results. The results are stronger if the same conclusion is reached with both sentiment analyzers. The TextBlob sentiment analyzer builds upon the pattern library (https://github.com/clips/pattern). The pattern sentiment uses, like the Vader module, a lexicon to determined the sentiment. More specifically, it used adjectives from product reviews. The polarity sentiment returns a value in the [-1,1] interval where -1 is the most negative. The subjectivity sentiment returns a score on the interval [0,1] with 0 being completley objective and vice versa. More information can be found here: https://github.com/clips/pattern/wiki/pattern-en#sentiment."
   ]
  },
  {
   "cell_type": "markdown",
   "metadata": {},
   "source": [
    "### References\n",
    "\n",
    "1. Bird, Steven, Edward Loper and Ewan Klein (2009), Natural Language Processing with Python. O’Reilly Media Inc.\n",
    "2. Hutto, C.J. & Gilbert, E.E. (2014). VADER: A Parsimonious Rule-based Model for Sentiment Analysis of Social Media Text. Eighth International Conference on Weblogs and Social Media (ICWSM-14). Ann Arbor, MI, June 2014."
   ]
  }
 ],
 "metadata": {
  "colab": {
   "collapsed_sections": [
    "rRZ45uNiGRCf",
    "LmQY4u0dqfUI",
    "F2P8GD-HubWU",
    "3gulqX-_X2p5",
    "HOQPVMAdG2QZ",
    "9qVIR8Q2HeSf",
    "IbQ0Kavkfkur"
   ],
   "name": "Nyeste.ipynb",
   "provenance": []
  },
  "interpreter": {
   "hash": "ad4c0613312704d8cc10c140de42faceef6d81b6d49a9f4d806a60569ce36c6e"
  },
  "kernelspec": {
   "display_name": "Python 3 (ipykernel)",
   "language": "python",
   "name": "python3"
  },
  "language_info": {
   "codemirror_mode": {
    "name": "ipython",
    "version": 3
   },
   "file_extension": ".py",
   "mimetype": "text/x-python",
   "name": "python",
   "nbconvert_exporter": "python",
   "pygments_lexer": "ipython3",
   "version": "3.8.11"
  }
 },
 "nbformat": 4,
 "nbformat_minor": 1
}
