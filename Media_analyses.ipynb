{
 "cells": [
  {
   "cell_type": "code",
   "execution_count": 228,
   "metadata": {},
   "outputs": [
    {
     "name": "stderr",
     "output_type": "stream",
     "text": [
      "[nltk_data] Downloading package vader_lexicon to\n",
      "[nltk_data]     C:\\Users\\asbjo\\AppData\\Roaming\\nltk_data...\n",
      "[nltk_data]   Package vader_lexicon is already up-to-date!\n"
     ]
    },
    {
     "data": {
      "text/plain": [
       "<Figure size 432x288 with 0 Axes>"
      ]
     },
     "metadata": {},
     "output_type": "display_data"
    }
   ],
   "source": [
    "import pandas as pd\n",
    "import seaborn as sns\n",
    "from IPython.display import display, HTML\n",
    "import matplotlib.pyplot as plt\n",
    "import scipy.stats as stats\n",
    "import numpy as np\n",
    "import nltk as nltk\n",
    "#import pyarrow\n",
    "import bz2\n",
    "import json\n",
    "import datetime\n",
    "from iteration_utilities import deepflatten\n",
    "import nltk as nltk\n",
    "import scipy.stats as stats\n",
    "from nltk.sentiment.vader import SentimentIntensityAnalyzer\n",
    "nltk.download('vader_lexicon')\n",
    "pd.options.mode.chained_assignment = None\n",
    "from helpers import add_time, week, weekday_number, weekday, month, add_dict, to_dict, get_media, find_media\n",
    "sns.set_theme(context='notebook', style='white')\n",
    "plt.tight_layout()\n",
    "import plotly.express as px"
   ]
  },
  {
   "cell_type": "code",
   "execution_count": 229,
   "metadata": {},
   "outputs": [
    {
     "name": "stderr",
     "output_type": "stream",
     "text": [
      "C:\\Users\\asbjo\\anaconda3\\envs\\ADA\\lib\\site-packages\\numpy\\lib\\arraysetops.py:583: FutureWarning:\n",
      "\n",
      "elementwise comparison failed; returning scalar instead, but in the future will perform elementwise comparison\n",
      "\n"
     ]
    }
   ],
   "source": [
    "df_2015 = pd.read_csv('media_outlet_with_sentiment/clean-quotes-2015_with_sentiment.csv.bz2', compression='bz2', index_col=[0])\n"
   ]
  },
  {
   "cell_type": "code",
   "execution_count": 230,
   "metadata": {},
   "outputs": [],
   "source": [
    "df_2015['compound'] = pd.to_numeric(df_2015.compound, errors='coerce')"
   ]
  },
  {
   "cell_type": "code",
   "execution_count": 231,
   "metadata": {},
   "outputs": [
    {
     "data": {
      "text/plain": [
       "dtype('float64')"
      ]
     },
     "execution_count": 231,
     "metadata": {},
     "output_type": "execute_result"
    }
   ],
   "source": [
    "df_2015['compound'].dtype"
   ]
  },
  {
   "cell_type": "code",
   "execution_count": 232,
   "metadata": {},
   "outputs": [],
   "source": [
    "files = ['media_outlet_with_sentiment/clean-quotes-2015_with_sentiment.csv.bz2',\n",
    "    'media_outlet_with_sentiment/clean-quotes-2016_with_sentiment.csv.bz2',\n",
    "    'media_outlet_with_sentiment/clean-quotes-2017_with_sentiment.csv.bz2',\n",
    "    'media_outlet_with_sentiment/clean-quotes-2018_with_sentiment.csv.bz2',\n",
    "    'media_outlet_with_sentiment/clean-quotes-2019_with_sentiment.csv.bz2',\n",
    "    'media_outlet_with_sentiment/clean-quotes-2020_with_sentiment.csv.bz2']"
   ]
  },
  {
   "cell_type": "code",
   "execution_count": 233,
   "metadata": {},
   "outputs": [
    {
     "name": "stderr",
     "output_type": "stream",
     "text": [
      "C:\\Users\\asbjo\\anaconda3\\envs\\ADA\\lib\\site-packages\\IPython\\core\\interactiveshell.py:3441: DtypeWarning:\n",
      "\n",
      "Columns (2,3,4,5,6) have mixed types.Specify dtype option on import or set low_memory=False.\n",
      "\n"
     ]
    }
   ],
   "source": [
    "df = pd.concat(map(pd.read_csv, [files[0], files[1],files[2], files[3], files[4], files[5]]))"
   ]
  },
  {
   "cell_type": "code",
   "execution_count": 234,
   "metadata": {},
   "outputs": [],
   "source": [
    "df['compound'] = pd.to_numeric(df.compound, errors='coerce')\n",
    "df['positive'] = pd.to_numeric(df.positive, errors='coerce')\n",
    "df['negative'] = pd.to_numeric(df.negative, errors='coerce')\n",
    "df['blob_polar'] = pd.to_numeric(df.blob_polar, errors='coerce')\n",
    "df['blob_subj'] = pd.to_numeric(df.blob_subj, errors='coerce')\n",
    "\n",
    "df = df.drop(axis=1, columns = 'Unnamed: 0')"
   ]
  },
  {
   "cell_type": "code",
   "execution_count": 235,
   "metadata": {},
   "outputs": [
    {
     "data": {
      "text/html": [
       "<div>\n",
       "<style scoped>\n",
       "    .dataframe tbody tr th:only-of-type {\n",
       "        vertical-align: middle;\n",
       "    }\n",
       "\n",
       "    .dataframe tbody tr th {\n",
       "        vertical-align: top;\n",
       "    }\n",
       "\n",
       "    .dataframe thead th {\n",
       "        text-align: right;\n",
       "    }\n",
       "</style>\n",
       "<table border=\"1\" class=\"dataframe\">\n",
       "  <thead>\n",
       "    <tr style=\"text-align: right;\">\n",
       "      <th></th>\n",
       "      <th>compound</th>\n",
       "      <th>positive</th>\n",
       "      <th>negative</th>\n",
       "      <th>blob_polar</th>\n",
       "      <th>blob_subj</th>\n",
       "    </tr>\n",
       "  </thead>\n",
       "  <tbody>\n",
       "    <tr>\n",
       "      <th>count</th>\n",
       "      <td>1.191700e+07</td>\n",
       "      <td>1.191700e+07</td>\n",
       "      <td>1.191700e+07</td>\n",
       "      <td>1.191700e+07</td>\n",
       "      <td>1.191700e+07</td>\n",
       "    </tr>\n",
       "    <tr>\n",
       "      <th>mean</th>\n",
       "      <td>1.522685e-01</td>\n",
       "      <td>1.239034e-01</td>\n",
       "      <td>6.751057e-02</td>\n",
       "      <td>1.070985e-01</td>\n",
       "      <td>3.821861e-01</td>\n",
       "    </tr>\n",
       "    <tr>\n",
       "      <th>std</th>\n",
       "      <td>4.606570e-01</td>\n",
       "      <td>1.416592e-01</td>\n",
       "      <td>1.135490e-01</td>\n",
       "      <td>2.694825e-01</td>\n",
       "      <td>3.010360e-01</td>\n",
       "    </tr>\n",
       "    <tr>\n",
       "      <th>min</th>\n",
       "      <td>-9.991000e-01</td>\n",
       "      <td>0.000000e+00</td>\n",
       "      <td>0.000000e+00</td>\n",
       "      <td>-1.000000e+00</td>\n",
       "      <td>0.000000e+00</td>\n",
       "    </tr>\n",
       "    <tr>\n",
       "      <th>25%</th>\n",
       "      <td>-2.580000e-02</td>\n",
       "      <td>0.000000e+00</td>\n",
       "      <td>0.000000e+00</td>\n",
       "      <td>0.000000e+00</td>\n",
       "      <td>0.000000e+00</td>\n",
       "    </tr>\n",
       "    <tr>\n",
       "      <th>50%</th>\n",
       "      <td>0.000000e+00</td>\n",
       "      <td>9.000000e-02</td>\n",
       "      <td>0.000000e+00</td>\n",
       "      <td>0.000000e+00</td>\n",
       "      <td>4.000000e-01</td>\n",
       "    </tr>\n",
       "    <tr>\n",
       "      <th>75%</th>\n",
       "      <td>5.267000e-01</td>\n",
       "      <td>2.070000e-01</td>\n",
       "      <td>1.070000e-01</td>\n",
       "      <td>2.500000e-01</td>\n",
       "      <td>6.000000e-01</td>\n",
       "    </tr>\n",
       "    <tr>\n",
       "      <th>max</th>\n",
       "      <td>9.996000e-01</td>\n",
       "      <td>1.000000e+00</td>\n",
       "      <td>1.000000e+00</td>\n",
       "      <td>1.000000e+00</td>\n",
       "      <td>1.000000e+00</td>\n",
       "    </tr>\n",
       "  </tbody>\n",
       "</table>\n",
       "</div>"
      ],
      "text/plain": [
       "           compound      positive      negative    blob_polar     blob_subj\n",
       "count  1.191700e+07  1.191700e+07  1.191700e+07  1.191700e+07  1.191700e+07\n",
       "mean   1.522685e-01  1.239034e-01  6.751057e-02  1.070985e-01  3.821861e-01\n",
       "std    4.606570e-01  1.416592e-01  1.135490e-01  2.694825e-01  3.010360e-01\n",
       "min   -9.991000e-01  0.000000e+00  0.000000e+00 -1.000000e+00  0.000000e+00\n",
       "25%   -2.580000e-02  0.000000e+00  0.000000e+00  0.000000e+00  0.000000e+00\n",
       "50%    0.000000e+00  9.000000e-02  0.000000e+00  0.000000e+00  4.000000e-01\n",
       "75%    5.267000e-01  2.070000e-01  1.070000e-01  2.500000e-01  6.000000e-01\n",
       "max    9.996000e-01  1.000000e+00  1.000000e+00  1.000000e+00  1.000000e+00"
      ]
     },
     "execution_count": 235,
     "metadata": {},
     "output_type": "execute_result"
    }
   ],
   "source": [
    "df.describe()"
   ]
  },
  {
   "cell_type": "code",
   "execution_count": 236,
   "metadata": {},
   "outputs": [
    {
     "data": {
      "text/html": [
       "<div>\n",
       "<style scoped>\n",
       "    .dataframe tbody tr th:only-of-type {\n",
       "        vertical-align: middle;\n",
       "    }\n",
       "\n",
       "    .dataframe tbody tr th {\n",
       "        vertical-align: top;\n",
       "    }\n",
       "\n",
       "    .dataframe thead th {\n",
       "        text-align: right;\n",
       "    }\n",
       "</style>\n",
       "<table border=\"1\" class=\"dataframe\">\n",
       "  <thead>\n",
       "    <tr style=\"text-align: right;\">\n",
       "      <th></th>\n",
       "      <th>media_outlet</th>\n",
       "      <th>compound</th>\n",
       "      <th>positive</th>\n",
       "      <th>negative</th>\n",
       "      <th>blob_polar</th>\n",
       "      <th>blob_subj</th>\n",
       "      <th>date_short</th>\n",
       "    </tr>\n",
       "  </thead>\n",
       "  <tbody>\n",
       "    <tr>\n",
       "      <th>0</th>\n",
       "      <td>washingtonpost</td>\n",
       "      <td>0.2500</td>\n",
       "      <td>0.083</td>\n",
       "      <td>0.000</td>\n",
       "      <td>0.000000</td>\n",
       "      <td>0.000000</td>\n",
       "      <td>2015-12-13</td>\n",
       "    </tr>\n",
       "    <tr>\n",
       "      <th>1</th>\n",
       "      <td>startribune</td>\n",
       "      <td>0.0000</td>\n",
       "      <td>0.000</td>\n",
       "      <td>0.000</td>\n",
       "      <td>0.062500</td>\n",
       "      <td>0.354167</td>\n",
       "      <td>2015-10-02</td>\n",
       "    </tr>\n",
       "    <tr>\n",
       "      <th>2</th>\n",
       "      <td>mtv</td>\n",
       "      <td>0.0000</td>\n",
       "      <td>0.000</td>\n",
       "      <td>0.000</td>\n",
       "      <td>-0.083333</td>\n",
       "      <td>0.216667</td>\n",
       "      <td>2015-10-09</td>\n",
       "    </tr>\n",
       "    <tr>\n",
       "      <th>3</th>\n",
       "      <td>express</td>\n",
       "      <td>-0.3400</td>\n",
       "      <td>0.073</td>\n",
       "      <td>0.094</td>\n",
       "      <td>0.600000</td>\n",
       "      <td>1.000000</td>\n",
       "      <td>2015-11-17</td>\n",
       "    </tr>\n",
       "    <tr>\n",
       "      <th>4</th>\n",
       "      <td>reuters</td>\n",
       "      <td>-0.2732</td>\n",
       "      <td>0.000</td>\n",
       "      <td>0.110</td>\n",
       "      <td>-0.187500</td>\n",
       "      <td>0.500000</td>\n",
       "      <td>2015-02-06</td>\n",
       "    </tr>\n",
       "  </tbody>\n",
       "</table>\n",
       "</div>"
      ],
      "text/plain": [
       "     media_outlet  compound  positive  negative  blob_polar  blob_subj  \\\n",
       "0  washingtonpost    0.2500     0.083     0.000    0.000000   0.000000   \n",
       "1     startribune    0.0000     0.000     0.000    0.062500   0.354167   \n",
       "2             mtv    0.0000     0.000     0.000   -0.083333   0.216667   \n",
       "3         express   -0.3400     0.073     0.094    0.600000   1.000000   \n",
       "4         reuters   -0.2732     0.000     0.110   -0.187500   0.500000   \n",
       "\n",
       "   date_short  \n",
       "0  2015-12-13  \n",
       "1  2015-10-02  \n",
       "2  2015-10-09  \n",
       "3  2015-11-17  \n",
       "4  2015-02-06  "
      ]
     },
     "execution_count": 236,
     "metadata": {},
     "output_type": "execute_result"
    }
   ],
   "source": [
    "df.head()"
   ]
  },
  {
   "cell_type": "code",
   "execution_count": 237,
   "metadata": {},
   "outputs": [],
   "source": [
    "df = df[df.media_outlet != 'media_outlet']\n",
    "df = df[df.media_outlet != 'starmagazine']"
   ]
  },
  {
   "cell_type": "code",
   "execution_count": 238,
   "metadata": {},
   "outputs": [
    {
     "data": {
      "text/plain": [
       "media_outlet     object\n",
       "compound        float64\n",
       "positive        float64\n",
       "negative        float64\n",
       "blob_polar      float64\n",
       "blob_subj       float64\n",
       "date_short       object\n",
       "dtype: object"
      ]
     },
     "execution_count": 238,
     "metadata": {},
     "output_type": "execute_result"
    }
   ],
   "source": [
    "df.dtypes"
   ]
  },
  {
   "cell_type": "code",
   "execution_count": 239,
   "metadata": {},
   "outputs": [],
   "source": [
    "from datetime import datetime\n",
    "\n",
    "def weekday_number(date):\n",
    "  ''' Returning the weekday number of a date, e.g., 0 for Mondays.\n",
    "\n",
    "  Parameters\n",
    "  ----------\n",
    "  date: datetime\n",
    "    A datetime for which to find the weekday number.\n",
    "\n",
    "  Returns\n",
    "  -------\n",
    "  weekday_number: int\n",
    "    The weekday number of the date.\n",
    "  '''\n",
    "\n",
    "  weekday_number = date.weekday()\n",
    "  return weekday_number\n",
    "\n",
    "\n",
    "def weekday(date):\n",
    "  ''' Returning the name of the weekday for a date.\n",
    "\n",
    "  Parameters\n",
    "  ----------\n",
    "  date: datetime\n",
    "    A datetime for which to find the weekday.\n",
    "\n",
    "  Returns\n",
    "  -------\n",
    "  weekday: str\n",
    "    The weekday of the date.\n",
    "  '''\n",
    "  \n",
    "  day_number = date.weekday()\n",
    "  week_days = [\"Monday\", \"Tuesday\", \"Wednesday\", \"Thursday\", \"Friday\", \"Saturday\", \"Sunday\"]\n",
    "  weekday = week_days[day_number]\n",
    "  return weekday\n",
    "\n",
    "\n",
    "def week(date):\n",
    "  ''' Returning the week number of a date.\n",
    "\n",
    "  Parameters\n",
    "  ----------\n",
    "  date: datetime\n",
    "    A datetime for which to find the weekday.\n",
    "\n",
    "  Returns\n",
    "  -------\n",
    "  week_number: int\n",
    "    The week number of the date.\n",
    "  '''\n",
    "\n",
    "  week_number = date.week()\n",
    "  return week_number\n",
    "\n",
    "\n",
    "def month(date):\n",
    "  ''' Returning the month name of date.\n",
    "\n",
    "  Parameters\n",
    "  ----------\n",
    "  date: datetime\n",
    "    A date for which to find the month name.\n",
    "\n",
    "  Returns\n",
    "  -------\n",
    "  name_month: str\n",
    "    The name of the month.\n",
    "  '''\n",
    "  name_month = date.month_name()\n",
    "  return name_month\n",
    "\n",
    "\n",
    "def add_time(chunk):\n",
    "  ''' Adding columns for weekday, weekday number and month name to a chunk.\n",
    "\n",
    "  Parameters\n",
    "  ----------\n",
    "  chunk: dataframe\n",
    "    The chunk for which to add date information.\n",
    "\n",
    "  Returns\n",
    "  -------\n",
    "  chunk: dataframe\n",
    "    The chunk with date information.\n",
    "  '''\n",
    "\n",
    "  #chunk['weekday'] = chunk['date_short'].apply(lambda x: weekday(x))\n",
    "  chunk['date_short'] = chunk['date_short'].apply(lambda x: datetime.strptime(x, '%Y-%m-%d'))\n",
    "  chunk['weekday_number'] = chunk['date_short'].apply(lambda x: weekday_number(x))  \n",
    "  chunk['Month'] =  chunk['date_short'].apply(lambda x: month(x))\n",
    "  return chunk"
   ]
  },
  {
   "cell_type": "code",
   "execution_count": 240,
   "metadata": {},
   "outputs": [],
   "source": [
    "media = df.groupby(by='media_outlet').count()"
   ]
  },
  {
   "cell_type": "code",
   "execution_count": 241,
   "metadata": {},
   "outputs": [
    {
     "data": {
      "text/plain": [
       "media_outlet\n",
       "aarp                    10647\n",
       "bbc                    633483\n",
       "chicagotribune         302545\n",
       "cnn                    542743\n",
       "dailymail              104839\n",
       "economist               30048\n",
       "espn                   889974\n",
       "express               1219309\n",
       "foxnews                448658\n",
       "independent            706913\n",
       "intouchweekly           18645\n",
       "latimes                523155\n",
       "mirror                 899252\n",
       "msn                    892391\n",
       "mtv                     60622\n",
       "nationalgeographic      14120\n",
       "nbcnews                196008\n",
       "newstoday               58413\n",
       "nytimes                669739\n",
       "people                1015700\n",
       "reuters                233767\n",
       "rollingstone            70055\n",
       "sportingnews            98512\n",
       "startribune            214206\n",
       "theathletic               193\n",
       "theguardian            422700\n",
       "thesun                 391473\n",
       "thetimes                86669\n",
       "timesrepublican         10467\n",
       "tmz                     20019\n",
       "usatoday               217865\n",
       "usmagazine              72427\n",
       "usnews                  50768\n",
       "vanityfair              79712\n",
       "washingtonpost         555325\n",
       "womansday                7486\n",
       "wsj                    148151\n",
       "Name: compound, dtype: int64"
      ]
     },
     "execution_count": 241,
     "metadata": {},
     "output_type": "execute_result"
    }
   ],
   "source": [
    "media['compound']"
   ]
  },
  {
   "cell_type": "code",
   "execution_count": 242,
   "metadata": {},
   "outputs": [
    {
     "name": "stdout",
     "output_type": "stream",
     "text": [
      "                    compound  positive  negative  blob_polar  blob_subj\n",
      "media_outlet                                                           \n",
      "aarp                0.183836  0.131132  0.060667    0.126072   0.374449\n",
      "bbc                 0.153965  0.125621  0.067830    0.109402   0.382687\n",
      "chicagotribune      0.185827  0.130868  0.056026    0.124636   0.375464\n",
      "cnn                 0.095295  0.110996  0.075607    0.088059   0.367360\n",
      "dailymail           0.187443  0.133669  0.061801    0.114771   0.378852\n",
      "economist           0.102192  0.106390  0.072124    0.089859   0.373278\n",
      "espn                0.278250  0.145377  0.049500    0.147783   0.404517\n",
      "express             0.163235  0.121867  0.064466    0.106405   0.388064\n",
      "foxnews             0.076495  0.112459  0.084968    0.080844   0.371784\n",
      "independent         0.161623  0.124508  0.067617    0.108429   0.389633\n",
      "intouchweekly       0.165652  0.142469  0.073848    0.123912   0.415321\n",
      "latimes             0.153323  0.123426  0.063203    0.109983   0.368558\n",
      "mirror              0.160879  0.129979  0.070235    0.109335   0.400109\n",
      "msn                 0.115606  0.115248  0.072714    0.095105   0.377244\n",
      "mtv                 0.234072  0.141683  0.057314    0.134443   0.410578\n",
      "nationalgeographic  0.093581  0.099284  0.059935    0.097730   0.380689\n",
      "nbcnews             0.076978  0.108449  0.079126    0.084946   0.367146\n",
      "newstoday           0.193942  0.128289  0.058385    0.122465   0.387792\n",
      "nytimes             0.085280  0.109771  0.072273    0.085834   0.343863\n",
      "people              0.167555  0.129060  0.067402    0.114517   0.392129\n",
      "reuters             0.119560  0.116939  0.073184    0.091926   0.379604\n",
      "rollingstone        0.126240  0.115878  0.068627    0.094108   0.372821\n",
      "sportingnews        0.260013  0.142864  0.053068    0.144375   0.403348\n",
      "startribune         0.201327  0.134079  0.053238    0.129532   0.378024\n",
      "theathletic         0.174704  0.135959  0.062477    0.126849   0.379356\n",
      "theguardian         0.118336  0.116120  0.074918    0.092561   0.384001\n",
      "thesun              0.143466  0.132226  0.074396    0.104349   0.396626\n",
      "thetimes            0.169441  0.127955  0.059283    0.119120   0.366986\n",
      "timesrepublican     0.258052  0.134534  0.044864    0.150235   0.400762\n",
      "tmz                 0.129816  0.132279  0.081084    0.098428   0.363039\n",
      "usatoday            0.196227  0.133505  0.059257    0.126009   0.390706\n",
      "usmagazine          0.236536  0.154404  0.059317    0.142679   0.416816\n",
      "usnews              0.083012  0.108974  0.077022    0.087411   0.369065\n",
      "vanityfair          0.121082  0.114180  0.069472    0.094713   0.380916\n",
      "washingtonpost      0.112803  0.115204  0.071702    0.092025   0.361353\n",
      "womansday           0.227933  0.147299  0.059954    0.136795   0.426340\n",
      "wsj                 0.128148  0.118370  0.064802    0.102832   0.361352\n"
     ]
    }
   ],
   "source": [
    "print(df.groupby(by = 'media_outlet').mean())"
   ]
  },
  {
   "cell_type": "code",
   "execution_count": 243,
   "metadata": {},
   "outputs": [],
   "source": [
    "nytimes = df.loc[df['media_outlet']=='nytimes']\n",
    "wsj = df.loc[df['media_outlet']=='wsj']\n",
    "people = df.loc[df['media_outlet']=='people']\n",
    "womansday = df.loc[df['media_outlet'] == 'womansday'] \n",
    "mtv = df.loc[df['media_outlet'] == 'mtv']\n",
    "tmz = df.loc[df['media_outlet'] == 'tmz']\n",
    "espn = df.loc[df['media_outlet'] == 'espn']"
   ]
  },
  {
   "cell_type": "code",
   "execution_count": 244,
   "metadata": {},
   "outputs": [
    {
     "data": {
      "image/png": "[encoded data removed]",
      "text/plain": [
       "<Figure size 1008x720 with 7 Axes>"
      ]
     },
     "metadata": {},
     "output_type": "display_data"
    }
   ],
   "source": [
    "fig, ax = plt.subplots(7,1, figsize=(14,10))\n",
    "\n",
    "ax[0].hist(nytimes.compound, bins=15)\n",
    "\n",
    "ax[1].hist(wsj.compound, bins=15)\n",
    "\n",
    "ax[2].hist(people.compound, bins = 15)\n",
    "\n",
    "ax[3].hist(womansday.compound, bins = 15)\n",
    "\n",
    "ax[4].hist(mtv.compound, bins = 15)\n",
    "\n",
    "ax[5].hist(tmz.compound, bins = 15)\n",
    "\n",
    "ax[6].hist(espn.compound, bins = 15)\n",
    "\n",
    "fig.tight_layout()\n",
    "\n",
    "plt.show()"
   ]
  },
  {
   "cell_type": "code",
   "execution_count": 245,
   "metadata": {},
   "outputs": [
    {
     "data": {
      "image/png": "[encoded data removed]",
      "text/plain": [
       "<Figure size 1008x720 with 7 Axes>"
      ]
     },
     "metadata": {},
     "output_type": "display_data"
    }
   ],
   "source": [
    "fig, ax = plt.subplots(7,1, figsize=(14,10))\n",
    "\n",
    "ax[0].hist(nytimes.blob_polar, bins=15)\n",
    "\n",
    "ax[1].hist(wsj.blob_polar, bins=15)\n",
    "\n",
    "ax[2].hist(people.blob_polar, bins = 15)\n",
    "\n",
    "ax[3].hist(womansday.blob_polar, bins = 15)\n",
    "\n",
    "ax[4].hist(mtv.blob_polar, bins = 15)\n",
    "\n",
    "ax[5].hist(tmz.blob_polar, bins = 15)\n",
    "\n",
    "ax[6].hist(espn.blob_polar, bins = 15)\n",
    "\n",
    "fig.tight_layout()\n",
    "\n",
    "plt.show()"
   ]
  },
  {
   "cell_type": "code",
   "execution_count": 246,
   "metadata": {},
   "outputs": [
    {
     "data": {
      "image/png": "[encoded data removed]",
      "text/plain": [
       "<Figure size 1008x720 with 7 Axes>"
      ]
     },
     "metadata": {},
     "output_type": "display_data"
    }
   ],
   "source": [
    "fig, ax = plt.subplots(7,1, figsize=(14,10))\n",
    "\n",
    "ax[0].hist(nytimes.blob_subj, bins=15)\n",
    "\n",
    "ax[1].hist(wsj.blob_subj, bins=15)\n",
    "\n",
    "ax[2].hist(people.blob_subj, bins = 15)\n",
    "\n",
    "ax[3].hist(womansday.blob_subj, bins = 15)\n",
    "\n",
    "ax[4].hist(mtv.blob_subj, bins = 15)\n",
    "\n",
    "ax[5].hist(tmz.blob_subj, bins = 15)\n",
    "\n",
    "ax[6].hist(espn.blob_subj, bins = 15)\n",
    "\n",
    "fig.tight_layout()\n",
    "\n",
    "plt.show()"
   ]
  },
  {
   "cell_type": "code",
   "execution_count": 247,
   "metadata": {},
   "outputs": [
    {
     "name": "stdout",
     "output_type": "stream",
     "text": [
      "0.08528024693197732\n",
      "0.22793258081752665\n"
     ]
    }
   ],
   "source": [
    "print(nytimes.compound.mean())\n",
    "print(womansday.compound.mean())"
   ]
  },
  {
   "cell_type": "code",
   "execution_count": 248,
   "metadata": {},
   "outputs": [],
   "source": [
    "media_outlets = ['nytimes', 'wsj', 'womansday', 'nbcnews', 'foxnews', 'aarp', 'usmagazine', 'espn', 'usatoday', \n",
    "'newstoday', 'sportingnews', 'theguardian', 'people', 'tmz', 'mtv', 'cnn', 'msn', 'reuters', 'timesrepublican', \n",
    "'nationalgeographic', 'latimes', 'washingtonpost', 'startribune', 'chicagotribune', 'usnews', 'theathletic', \n",
    "'rollingstone', 'vanityfair', 'intouchweekly', 'starmagazine', 'bbc', 'independent', 'thesun', 'thetimes',\n",
    "'express', 'dailymail', 'mirror', 'economist']\n",
    "\n",
    "newspapers = ['nytimes', 'wsj','foxnews', 'aarp','usatoday', 'newstoday', 'reuters', 'timesrepublican', \n",
    "'latimes', 'washingtonpost', 'startribune', 'cnn',  'chicagotribune', 'usnews', 'nbcnews', 'theguardian',\n",
    "'bbc', 'independent', 'thesun', 'thetimes','express', 'dailymail', 'mirror', 'economist']\n",
    "\n",
    "celebmagazines = ['womansday', 'usmagazine', 'people','tmz', 'intouchweekly', 'starmagazine']\n",
    "\n",
    "other = ['mtv', 'msn','nationalgeographic', 'vanityfair', 'rollingstone']\n",
    "\n",
    "sport = ['espn', 'sportingnews', 'theathletic']\n"
   ]
  },
  {
   "cell_type": "code",
   "execution_count": 249,
   "metadata": {},
   "outputs": [
    {
     "data": {
      "text/plain": [
       "Text(0.5, 1.0, '')"
      ]
     },
     "execution_count": 249,
     "metadata": {},
     "output_type": "execute_result"
    },
    {
     "data": {
      "image/png": "[encoded data removed]",
      "text/plain": [
       "<Figure size 720x720 with 1 Axes>"
      ]
     },
     "metadata": {},
     "output_type": "display_data"
    }
   ],
   "source": [
    "mean_polar = df.groupby(by = ['media_outlet'])['blob_polar'].mean()\n",
    "mean_subj = df.groupby(by = ['media_outlet'])['blob_subj'].mean()\n",
    "\n",
    "\n",
    "name = mean_polar.keys()\n",
    "\n",
    "def pltcolor(lst):\n",
    "    cols=[]\n",
    "    for l in lst:\n",
    "        if (l in newspapers):\n",
    "            cols.append('red')\n",
    "        elif (l in celebmagazines):\n",
    "            cols.append('blue')\n",
    "        elif (l in other):\n",
    "            cols.append('yellow')\n",
    "        else:\n",
    "            cols.append('green')\n",
    "    return cols\n",
    "# Create the colors list using the function above\n",
    "cols=pltcolor(mean_polar.keys())\n",
    "\n",
    "fig, ax = plt.subplots(figsize=(10,10))\n",
    "ax.scatter(mean_polar, mean_subj, c=cols)\n",
    "for i, txt in enumerate(name):\n",
    "    ax.annotate(txt, (mean_subj[i], mean_polar[i]))\n",
    "ax.set_title('')\n"
   ]
  },
  {
   "cell_type": "code",
   "execution_count": 250,
   "metadata": {},
   "outputs": [],
   "source": [
    "df_scatter = pd.DataFrame()\n",
    "df_scatter['Polarity'] = df.groupby(by = ['media_outlet'])['blob_polar'].mean()\n",
    "df_scatter['Subjectivity'] = df.groupby(by = ['media_outlet'])['blob_subj'].mean()\n",
    "df_scatter['mediaoutlet'] = df_scatter.index\n",
    "\n",
    "def f(row):\n",
    "    if (row['mediaoutlet'] in newspapers):\n",
    "        val = 'Newspaper'\n",
    "    elif (row['mediaoutlet'] in celebmagazines):\n",
    "        val = 'Celebrity magazine'\n",
    "    elif (row['mediaoutlet'] in other):\n",
    "        val = 'Other'\n",
    "    else:\n",
    "        val = 'Sports'\n",
    "    return val\n",
    "\n",
    "df_scatter['category'] = df_scatter.apply(f, axis=1)"
   ]
  },
  {
   "cell_type": "code",
   "execution_count": 251,
   "metadata": {},
   "outputs": [
    {
     "data": {
      "application/vnd.plotly.v1+json": {
       "config": {
        "plotlyServerURL": "https://plot.ly"
       },
       "data": [
        {
         "hovertemplate": "category=Newspaper<br>Polarity=%{x}<br>Subjectivity=%{y}<br>mediaoutlet=%{text}<extra></extra>",
         "legendgroup": "Newspaper",
         "marker": {
          "color": "#636efa",
          "symbol": "circle"
         },
         "mode": "markers+text",
         "name": "Newspaper",
         "orientation": "v",
         "showlegend": true,
         "text": [
          "aarp",
          "bbc",
          "chicagotribune",
          "cnn",
          "dailymail",
          "economist",
          "express",
          "foxnews",
          "independent",
          "latimes",
          "mirror",
          "nbcnews",
          "newstoday",
          "nytimes",
          "reuters",
          "startribune",
          "theguardian",
          "thesun",
          "thetimes",
          "timesrepublican",
          "usatoday",
          "usnews",
          "washingtonpost",
          "wsj"
         ],
         "textposition": "bottom right",
         "type": "scatter",
         "x": [
          0.12607170483555827,
          0.1094016003195945,
          0.12463567876753545,
          0.08805864923902959,
          0.11477087733411862,
          0.08985947145148475,
          0.10640510364464555,
          0.08084401281892531,
          0.10842936607639672,
          0.10998322933666663,
          0.10933458154045966,
          0.08494632650234392,
          0.12246460304152065,
          0.0858342137133931,
          0.09192630519182025,
          0.1295315868277594,
          0.09256143179181052,
          0.10434860856155259,
          0.11911973809355327,
          0.1502346940372679,
          0.1260092329694737,
          0.08741065196651417,
          0.09202484984227888,
          0.10283235717086375
         ],
         "xaxis": "x",
         "y": [
          0.37444873940855283,
          0.3826866088964548,
          0.3754635301401023,
          0.3673595221043469,
          0.3788517132594974,
          0.3732775154114441,
          0.38806425908411574,
          0.37178417425224825,
          0.389633153625474,
          0.36855834930055664,
          0.4001091472419341,
          0.36714583932474576,
          0.3877921464713478,
          0.34386292591034756,
          0.37960356540792095,
          0.37802431783563206,
          0.38400083227471815,
          0.3966257517730122,
          0.3669861414026695,
          0.4007623441449086,
          0.3907055217239117,
          0.3690654815499488,
          0.3613530721162659,
          0.3613523464292976
         ],
         "yaxis": "y"
        },
        {
         "hovertemplate": "category=Sports<br>Polarity=%{x}<br>Subjectivity=%{y}<br>mediaoutlet=%{text}<extra></extra>",
         "legendgroup": "Sports",
         "marker": {
          "color": "#EF553B",
          "symbol": "diamond"
         },
         "mode": "markers+text",
         "name": "Sports",
         "orientation": "v",
         "showlegend": true,
         "text": [
          "espn",
          "sportingnews",
          "theathletic"
         ],
         "textposition": "bottom right",
         "type": "scatter",
         "x": [
          0.1477825845154443,
          0.14437548530550923,
          0.12684908681115192
         ],
         "xaxis": "x",
         "y": [
          0.40451685397952636,
          0.4033481210929586,
          0.37935611074736436
         ],
         "yaxis": "y"
        },
        {
         "hovertemplate": "category=Celebrity magazine<br>Polarity=%{x}<br>Subjectivity=%{y}<br>mediaoutlet=%{text}<extra></extra>",
         "legendgroup": "Celebrity magazine",
         "marker": {
          "color": "#00cc96",
          "symbol": "square"
         },
         "mode": "markers+text",
         "name": "Celebrity magazine",
         "orientation": "v",
         "showlegend": true,
         "text": [
          "intouchweekly",
          "people",
          "tmz",
          "usmagazine",
          "womansday"
         ],
         "textposition": "bottom right",
         "type": "scatter",
         "x": [
          0.12391172043105501,
          0.11451660856813274,
          0.09842790978074807,
          0.14267907146848594,
          0.13679483685364588
         ],
         "xaxis": "x",
         "y": [
          0.41532078011875134,
          0.3921289398031538,
          0.3630387359587357,
          0.41681613934607675,
          0.4263403100597505
         ],
         "yaxis": "y"
        },
        {
         "hovertemplate": "category=Other<br>Polarity=%{x}<br>Subjectivity=%{y}<br>mediaoutlet=%{text}<extra></extra>",
         "legendgroup": "Other",
         "marker": {
          "color": "#ab63fa",
          "symbol": "x"
         },
         "mode": "markers+text",
         "name": "Other",
         "orientation": "v",
         "showlegend": true,
         "text": [
          "msn",
          "mtv",
          "nationalgeographic",
          "rollingstone",
          "vanityfair"
         ],
         "textposition": "bottom right",
         "type": "scatter",
         "x": [
          0.09510480804083123,
          0.1344426526618121,
          0.09773029147388952,
          0.094107804339251,
          0.09471254067763805
         ],
         "xaxis": "x",
         "y": [
          0.37724354731559356,
          0.410578016543632,
          0.3806892277143651,
          0.3728209166086783,
          0.3809155108312891
         ],
         "yaxis": "y"
        }
       ],
       "layout": {
        "legend": {
         "title": {
          "text": "category"
         },
         "tracegroupgap": 0
        },
        "margin": {
         "t": 60
        },
        "template": {
         "data": {
          "bar": [
           {
            "error_x": {
             "color": "#2a3f5f"
            },
            "error_y": {
             "color": "#2a3f5f"
            },
            "marker": {
             "line": {
              "color": "#E5ECF6",
              "width": 0.5
             },
             "pattern": {
              "fillmode": "overlay",
              "size": 10,
              "solidity": 0.2
             }
            },
            "type": "bar"
           }
          ],
          "barpolar": [
           {
            "marker": {
             "line": {
              "color": "#E5ECF6",
              "width": 0.5
             },
             "pattern": {
              "fillmode": "overlay",
              "size": 10,
              "solidity": 0.2
             }
            },
            "type": "barpolar"
           }
          ],
          "carpet": [
           {
            "aaxis": {
             "endlinecolor": "#2a3f5f",
             "gridcolor": "white",
             "linecolor": "white",
             "minorgridcolor": "white",
             "startlinecolor": "#2a3f5f"
            },
            "baxis": {
             "endlinecolor": "#2a3f5f",
             "gridcolor": "white",
             "linecolor": "white",
             "minorgridcolor": "white",
             "startlinecolor": "#2a3f5f"
            },
            "type": "carpet"
           }
          ],
          "choropleth": [
           {
            "colorbar": {
             "outlinewidth": 0,
             "ticks": ""
            },
            "type": "choropleth"
           }
          ],
          "contour": [
           {
            "colorbar": {
             "outlinewidth": 0,
             "ticks": ""
            },
            "colorscale": [
             [
              0,
              "#0d0887"
             ],
             [
              0.1111111111111111,
              "#46039f"
             ],
             [
              0.2222222222222222,
              "#7201a8"
             ],
             [
              0.3333333333333333,
              "#9c179e"
             ],
             [
              0.4444444444444444,
              "#bd3786"
             ],
             [
              0.5555555555555556,
              "#d8576b"
             ],
             [
              0.6666666666666666,
              "#ed7953"
             ],
             [
              0.7777777777777778,
              "#fb9f3a"
             ],
             [
              0.8888888888888888,
              "#fdca26"
             ],
             [
              1,
              "#f0f921"
             ]
            ],
            "type": "contour"
           }
          ],
          "contourcarpet": [
           {
            "colorbar": {
             "outlinewidth": 0,
             "ticks": ""
            },
            "type": "contourcarpet"
           }
          ],
          "heatmap": [
           {
            "colorbar": {
             "outlinewidth": 0,
             "ticks": ""
            },
            "colorscale": [
             [
              0,
              "#0d0887"
             ],
             [
              0.1111111111111111,
              "#46039f"
             ],
             [
              0.2222222222222222,
              "#7201a8"
             ],
             [
              0.3333333333333333,
              "#9c179e"
             ],
             [
              0.4444444444444444,
              "#bd3786"
             ],
             [
              0.5555555555555556,
              "#d8576b"
             ],
             [
              0.6666666666666666,
              "#ed7953"
             ],
             [
              0.7777777777777778,
              "#fb9f3a"
             ],
             [
              0.8888888888888888,
              "#fdca26"
             ],
             [
              1,
              "#f0f921"
             ]
            ],
            "type": "heatmap"
           }
          ],
          "heatmapgl": [
           {
            "colorbar": {
             "outlinewidth": 0,
             "ticks": ""
            },
            "colorscale": [
             [
              0,
              "#0d0887"
             ],
             [
              0.1111111111111111,
              "#46039f"
             ],
             [
              0.2222222222222222,
              "#7201a8"
             ],
             [
              0.3333333333333333,
              "#9c179e"
             ],
             [
              0.4444444444444444,
              "#bd3786"
             ],
             [
              0.5555555555555556,
              "#d8576b"
             ],
             [
              0.6666666666666666,
              "#ed7953"
             ],
             [
              0.7777777777777778,
              "#fb9f3a"
             ],
             [
              0.8888888888888888,
              "#fdca26"
             ],
             [
              1,
              "#f0f921"
             ]
            ],
            "type": "heatmapgl"
           }
          ],
          "histogram": [
           {
            "marker": {
             "pattern": {
              "fillmode": "overlay",
              "size": 10,
              "solidity": 0.2
             }
            },
            "type": "histogram"
           }
          ],
          "histogram2d": [
           {
            "colorbar": {
             "outlinewidth": 0,
             "ticks": ""
            },
            "colorscale": [
             [
              0,
              "#0d0887"
             ],
             [
              0.1111111111111111,
              "#46039f"
             ],
             [
              0.2222222222222222,
              "#7201a8"
             ],
             [
              0.3333333333333333,
              "#9c179e"
             ],
             [
              0.4444444444444444,
              "#bd3786"
             ],
             [
              0.5555555555555556,
              "#d8576b"
             ],
             [
              0.6666666666666666,
              "#ed7953"
             ],
             [
              0.7777777777777778,
              "#fb9f3a"
             ],
             [
              0.8888888888888888,
              "#fdca26"
             ],
             [
              1,
              "#f0f921"
             ]
            ],
            "type": "histogram2d"
           }
          ],
          "histogram2dcontour": [
           {
            "colorbar": {
             "outlinewidth": 0,
             "ticks": ""
            },
            "colorscale": [
             [
              0,
              "#0d0887"
             ],
             [
              0.1111111111111111,
              "#46039f"
             ],
             [
              0.2222222222222222,
              "#7201a8"
             ],
             [
              0.3333333333333333,
              "#9c179e"
             ],
             [
              0.4444444444444444,
              "#bd3786"
             ],
             [
              0.5555555555555556,
              "#d8576b"
             ],
             [
              0.6666666666666666,
              "#ed7953"
             ],
             [
              0.7777777777777778,
              "#fb9f3a"
             ],
             [
              0.8888888888888888,
              "#fdca26"
             ],
             [
              1,
              "#f0f921"
             ]
            ],
            "type": "histogram2dcontour"
           }
          ],
          "mesh3d": [
           {
            "colorbar": {
             "outlinewidth": 0,
             "ticks": ""
            },
            "type": "mesh3d"
           }
          ],
          "parcoords": [
           {
            "line": {
             "colorbar": {
              "outlinewidth": 0,
              "ticks": ""
             }
            },
            "type": "parcoords"
           }
          ],
          "pie": [
           {
            "automargin": true,
            "type": "pie"
           }
          ],
          "scatter": [
           {
            "marker": {
             "colorbar": {
              "outlinewidth": 0,
              "ticks": ""
             }
            },
            "type": "scatter"
           }
          ],
          "scatter3d": [
           {
            "line": {
             "colorbar": {
              "outlinewidth": 0,
              "ticks": ""
             }
            },
            "marker": {
             "colorbar": {
              "outlinewidth": 0,
              "ticks": ""
             }
            },
            "type": "scatter3d"
           }
          ],
          "scattercarpet": [
           {
            "marker": {
             "colorbar": {
              "outlinewidth": 0,
              "ticks": ""
             }
            },
            "type": "scattercarpet"
           }
          ],
          "scattergeo": [
           {
            "marker": {
             "colorbar": {
              "outlinewidth": 0,
              "ticks": ""
             }
            },
            "type": "scattergeo"
           }
          ],
          "scattergl": [
           {
            "marker": {
             "colorbar": {
              "outlinewidth": 0,
              "ticks": ""
             }
            },
            "type": "scattergl"
           }
          ],
          "scattermapbox": [
           {
            "marker": {
             "colorbar": {
              "outlinewidth": 0,
              "ticks": ""
             }
            },
            "type": "scattermapbox"
           }
          ],
          "scatterpolar": [
           {
            "marker": {
             "colorbar": {
              "outlinewidth": 0,
              "ticks": ""
             }
            },
            "type": "scatterpolar"
           }
          ],
          "scatterpolargl": [
           {
            "marker": {
             "colorbar": {
              "outlinewidth": 0,
              "ticks": ""
             }
            },
            "type": "scatterpolargl"
           }
          ],
          "scatterternary": [
           {
            "marker": {
             "colorbar": {
              "outlinewidth": 0,
              "ticks": ""
             }
            },
            "type": "scatterternary"
           }
          ],
          "surface": [
           {
            "colorbar": {
             "outlinewidth": 0,
             "ticks": ""
            },
            "colorscale": [
             [
              0,
              "#0d0887"
             ],
             [
              0.1111111111111111,
              "#46039f"
             ],
             [
              0.2222222222222222,
              "#7201a8"
             ],
             [
              0.3333333333333333,
              "#9c179e"
             ],
             [
              0.4444444444444444,
              "#bd3786"
             ],
             [
              0.5555555555555556,
              "#d8576b"
             ],
             [
              0.6666666666666666,
              "#ed7953"
             ],
             [
              0.7777777777777778,
              "#fb9f3a"
             ],
             [
              0.8888888888888888,
              "#fdca26"
             ],
             [
              1,
              "#f0f921"
             ]
            ],
            "type": "surface"
           }
          ],
          "table": [
           {
            "cells": {
             "fill": {
              "color": "#EBF0F8"
             },
             "line": {
              "color": "white"
             }
            },
            "header": {
             "fill": {
              "color": "#C8D4E3"
             },
             "line": {
              "color": "white"
             }
            },
            "type": "table"
           }
          ]
         },
         "layout": {
          "annotationdefaults": {
           "arrowcolor": "#2a3f5f",
           "arrowhead": 0,
           "arrowwidth": 1
          },
          "autotypenumbers": "strict",
          "coloraxis": {
           "colorbar": {
            "outlinewidth": 0,
            "ticks": ""
           }
          },
          "colorscale": {
           "diverging": [
            [
             0,
             "#8e0152"
            ],
            [
             0.1,
             "#c51b7d"
            ],
            [
             0.2,
             "#de77ae"
            ],
            [
             0.3,
             "#f1b6da"
            ],
            [
             0.4,
             "#fde0ef"
            ],
            [
             0.5,
             "#f7f7f7"
            ],
            [
             0.6,
             "#e6f5d0"
            ],
            [
             0.7,
             "#b8e186"
            ],
            [
             0.8,
             "#7fbc41"
            ],
            [
             0.9,
             "#4d9221"
            ],
            [
             1,
             "#276419"
            ]
           ],
           "sequential": [
            [
             0,
             "#0d0887"
            ],
            [
             0.1111111111111111,
             "#46039f"
            ],
            [
             0.2222222222222222,
             "#7201a8"
            ],
            [
             0.3333333333333333,
             "#9c179e"
            ],
            [
             0.4444444444444444,
             "#bd3786"
            ],
            [
             0.5555555555555556,
             "#d8576b"
            ],
            [
             0.6666666666666666,
             "#ed7953"
            ],
            [
             0.7777777777777778,
             "#fb9f3a"
            ],
            [
             0.8888888888888888,
             "#fdca26"
            ],
            [
             1,
             "#f0f921"
            ]
           ],
           "sequentialminus": [
            [
             0,
             "#0d0887"
            ],
            [
             0.1111111111111111,
             "#46039f"
            ],
            [
             0.2222222222222222,
             "#7201a8"
            ],
            [
             0.3333333333333333,
             "#9c179e"
            ],
            [
             0.4444444444444444,
             "#bd3786"
            ],
            [
             0.5555555555555556,
             "#d8576b"
            ],
            [
             0.6666666666666666,
             "#ed7953"
            ],
            [
             0.7777777777777778,
             "#fb9f3a"
            ],
            [
             0.8888888888888888,
             "#fdca26"
            ],
            [
             1,
             "#f0f921"
            ]
           ]
          },
          "colorway": [
           "#636efa",
           "#EF553B",
           "#00cc96",
           "#ab63fa",
           "#FFA15A",
           "#19d3f3",
           "#FF6692",
           "#B6E880",
           "#FF97FF",
           "#FECB52"
          ],
          "font": {
           "color": "#2a3f5f"
          },
          "geo": {
           "bgcolor": "white",
           "lakecolor": "white",
           "landcolor": "#E5ECF6",
           "showlakes": true,
           "showland": true,
           "subunitcolor": "white"
          },
          "hoverlabel": {
           "align": "left"
          },
          "hovermode": "closest",
          "mapbox": {
           "style": "light"
          },
          "paper_bgcolor": "white",
          "plot_bgcolor": "#E5ECF6",
          "polar": {
           "angularaxis": {
            "gridcolor": "white",
            "linecolor": "white",
            "ticks": ""
           },
           "bgcolor": "#E5ECF6",
           "radialaxis": {
            "gridcolor": "white",
            "linecolor": "white",
            "ticks": ""
           }
          },
          "scene": {
           "xaxis": {
            "backgroundcolor": "#E5ECF6",
            "gridcolor": "white",
            "gridwidth": 2,
            "linecolor": "white",
            "showbackground": true,
            "ticks": "",
            "zerolinecolor": "white"
           },
           "yaxis": {
            "backgroundcolor": "#E5ECF6",
            "gridcolor": "white",
            "gridwidth": 2,
            "linecolor": "white",
            "showbackground": true,
            "ticks": "",
            "zerolinecolor": "white"
           },
           "zaxis": {
            "backgroundcolor": "#E5ECF6",
            "gridcolor": "white",
            "gridwidth": 2,
            "linecolor": "white",
            "showbackground": true,
            "ticks": "",
            "zerolinecolor": "white"
           }
          },
          "shapedefaults": {
           "line": {
            "color": "#2a3f5f"
           }
          },
          "ternary": {
           "aaxis": {
            "gridcolor": "white",
            "linecolor": "white",
            "ticks": ""
           },
           "baxis": {
            "gridcolor": "white",
            "linecolor": "white",
            "ticks": ""
           },
           "bgcolor": "#E5ECF6",
           "caxis": {
            "gridcolor": "white",
            "linecolor": "white",
            "ticks": ""
           }
          },
          "title": {
           "x": 0.05
          },
          "xaxis": {
           "automargin": true,
           "gridcolor": "white",
           "linecolor": "white",
           "ticks": "",
           "title": {
            "standoff": 15
           },
           "zerolinecolor": "white",
           "zerolinewidth": 2
          },
          "yaxis": {
           "automargin": true,
           "gridcolor": "white",
           "linecolor": "white",
           "ticks": "",
           "title": {
            "standoff": 15
           },
           "zerolinecolor": "white",
           "zerolinewidth": 2
          }
         }
        },
        "title": {
         "text": "Average polarity and subjectivity per media outlet"
        },
        "xaxis": {
         "anchor": "y",
         "domain": [
          0,
          1
         ],
         "title": {
          "text": "Polarity"
         }
        },
        "yaxis": {
         "anchor": "x",
         "domain": [
          0,
          1
         ],
         "title": {
          "text": "Subjectivity"
         }
        }
       }
      }
     },
     "metadata": {},
     "output_type": "display_data"
    }
   ],
   "source": [
    "fig = px.scatter(df_scatter, x='Polarity', y = 'Subjectivity', color='category', symbol=\"category\", text='mediaoutlet')\n",
    "fig.update_layout(title = 'Average polarity and subjectivity per media outlet')\n",
    "fig.update_traces(textposition=\"bottom right\")\n",
    "fig.show()\n",
    "fig.write_html('images/scatterplot_medias.html')\n"
   ]
  },
  {
   "cell_type": "code",
   "execution_count": 252,
   "metadata": {},
   "outputs": [
    {
     "data": {
      "image/png": "[encoded data removed]",
      "text/plain": [
       "<Figure size 720x720 with 1 Axes>"
      ]
     },
     "metadata": {},
     "output_type": "display_data"
    }
   ],
   "source": [
    "mean_polar = df.groupby(by = ['media_outlet'])['compound'].mean()\n",
    "mean_subj = df.groupby(by = ['media_outlet'])['blob_subj'].mean()\n",
    "\n",
    "\n",
    "name = mean_polar.keys()\n",
    "\n",
    "def pltcolor(lst):\n",
    "    cols=[]\n",
    "    for l in lst:\n",
    "        if (l in newspapers):\n",
    "            cols.append('red')\n",
    "        elif (l in celebmagazines):\n",
    "            cols.append('blue')\n",
    "        elif (l in other):\n",
    "            cols.append('yellow')\n",
    "        else:\n",
    "            cols.append('green')\n",
    "    return cols\n",
    "# Create the colors list using the function above\n",
    "cols=pltcolor(mean_polar.keys())\n",
    "\n",
    "fig, ax = plt.subplots(figsize=(10,10))\n",
    "ax.scatter(mean_polar, mean_subj, c=cols)\n",
    "for i, txt in enumerate(name):\n",
    "    ax.annotate(txt, (mean_subj[i], mean_polar[i]))"
   ]
  },
  {
   "cell_type": "code",
   "execution_count": 253,
   "metadata": {},
   "outputs": [
    {
     "data": {
      "text/plain": [
       "Index(['aarp', 'bbc', 'chicagotribune', 'cnn', 'dailymail', 'economist',\n",
       "       'espn', 'express', 'foxnews', 'independent', 'intouchweekly', 'latimes',\n",
       "       'mirror', 'msn', 'mtv', 'nationalgeographic', 'nbcnews', 'newstoday',\n",
       "       'nytimes', 'people', 'reuters', 'rollingstone', 'sportingnews',\n",
       "       'startribune', 'theathletic', 'theguardian', 'thesun', 'thetimes',\n",
       "       'timesrepublican', 'tmz', 'usatoday', 'usmagazine', 'usnews',\n",
       "       'vanityfair', 'washingtonpost', 'womansday', 'wsj'],\n",
       "      dtype='object', name='media_outlet')"
      ]
     },
     "execution_count": 253,
     "metadata": {},
     "output_type": "execute_result"
    }
   ],
   "source": [
    "a  = mean_polar.keys()\n",
    "a"
   ]
  },
  {
   "cell_type": "code",
   "execution_count": 254,
   "metadata": {},
   "outputs": [
    {
     "data": {
      "text/plain": [
       "<matplotlib.collections.PathCollection at 0x1cbb2063a60>"
      ]
     },
     "execution_count": 254,
     "metadata": {},
     "output_type": "execute_result"
    },
    {
     "data": {
      "image/png": "[encoded data removed]",
      "text/plain": [
       "<Figure size 432x288 with 1 Axes>"
      ]
     },
     "metadata": {},
     "output_type": "display_data"
    }
   ],
   "source": [
    "plt.scatter(mean_polar, mean_subj)"
   ]
  },
  {
   "cell_type": "code",
   "execution_count": 255,
   "metadata": {},
   "outputs": [],
   "source": [
    "date = nytimes.groupby('date_short').positive.mean()"
   ]
  },
  {
   "cell_type": "code",
   "execution_count": 256,
   "metadata": {},
   "outputs": [],
   "source": [
    "nytimes = add_time(nytimes)"
   ]
  },
  {
   "cell_type": "code",
   "execution_count": 257,
   "metadata": {},
   "outputs": [
    {
     "data": {
      "text/html": [
       "<div>\n",
       "<style scoped>\n",
       "    .dataframe tbody tr th:only-of-type {\n",
       "        vertical-align: middle;\n",
       "    }\n",
       "\n",
       "    .dataframe tbody tr th {\n",
       "        vertical-align: top;\n",
       "    }\n",
       "\n",
       "    .dataframe thead th {\n",
       "        text-align: right;\n",
       "    }\n",
       "</style>\n",
       "<table border=\"1\" class=\"dataframe\">\n",
       "  <thead>\n",
       "    <tr style=\"text-align: right;\">\n",
       "      <th></th>\n",
       "      <th>media_outlet</th>\n",
       "      <th>compound</th>\n",
       "      <th>positive</th>\n",
       "      <th>negative</th>\n",
       "      <th>blob_polar</th>\n",
       "      <th>blob_subj</th>\n",
       "      <th>date_short</th>\n",
       "      <th>weekday_number</th>\n",
       "      <th>Month</th>\n",
       "    </tr>\n",
       "  </thead>\n",
       "  <tbody>\n",
       "    <tr>\n",
       "      <th>356</th>\n",
       "      <td>nytimes</td>\n",
       "      <td>-0.3612</td>\n",
       "      <td>0.000</td>\n",
       "      <td>0.294</td>\n",
       "      <td>0.0</td>\n",
       "      <td>0.0</td>\n",
       "      <td>2015-12-14</td>\n",
       "      <td>0</td>\n",
       "      <td>December</td>\n",
       "    </tr>\n",
       "    <tr>\n",
       "      <th>536</th>\n",
       "      <td>nytimes</td>\n",
       "      <td>0.1531</td>\n",
       "      <td>0.233</td>\n",
       "      <td>0.183</td>\n",
       "      <td>0.0</td>\n",
       "      <td>0.0</td>\n",
       "      <td>2015-10-02</td>\n",
       "      <td>4</td>\n",
       "      <td>October</td>\n",
       "    </tr>\n",
       "    <tr>\n",
       "      <th>627</th>\n",
       "      <td>nytimes</td>\n",
       "      <td>-0.6249</td>\n",
       "      <td>0.165</td>\n",
       "      <td>0.615</td>\n",
       "      <td>-0.9</td>\n",
       "      <td>0.7</td>\n",
       "      <td>2015-01-29</td>\n",
       "      <td>3</td>\n",
       "      <td>January</td>\n",
       "    </tr>\n",
       "    <tr>\n",
       "      <th>1239</th>\n",
       "      <td>nytimes</td>\n",
       "      <td>0.0000</td>\n",
       "      <td>0.000</td>\n",
       "      <td>0.000</td>\n",
       "      <td>0.2</td>\n",
       "      <td>0.4</td>\n",
       "      <td>2015-11-30</td>\n",
       "      <td>0</td>\n",
       "      <td>November</td>\n",
       "    </tr>\n",
       "    <tr>\n",
       "      <th>1434</th>\n",
       "      <td>nytimes</td>\n",
       "      <td>0.3612</td>\n",
       "      <td>0.455</td>\n",
       "      <td>0.000</td>\n",
       "      <td>0.0</td>\n",
       "      <td>0.0</td>\n",
       "      <td>2015-07-31</td>\n",
       "      <td>4</td>\n",
       "      <td>July</td>\n",
       "    </tr>\n",
       "  </tbody>\n",
       "</table>\n",
       "</div>"
      ],
      "text/plain": [
       "     media_outlet  compound  positive  negative  blob_polar  blob_subj  \\\n",
       "356       nytimes   -0.3612     0.000     0.294         0.0        0.0   \n",
       "536       nytimes    0.1531     0.233     0.183         0.0        0.0   \n",
       "627       nytimes   -0.6249     0.165     0.615        -0.9        0.7   \n",
       "1239      nytimes    0.0000     0.000     0.000         0.2        0.4   \n",
       "1434      nytimes    0.3612     0.455     0.000         0.0        0.0   \n",
       "\n",
       "     date_short  weekday_number     Month  \n",
       "356  2015-12-14               0  December  \n",
       "536  2015-10-02               4   October  \n",
       "627  2015-01-29               3   January  \n",
       "1239 2015-11-30               0  November  \n",
       "1434 2015-07-31               4      July  "
      ]
     },
     "execution_count": 257,
     "metadata": {},
     "output_type": "execute_result"
    }
   ],
   "source": [
    "nytimes.head()"
   ]
  },
  {
   "cell_type": "code",
   "execution_count": 258,
   "metadata": {},
   "outputs": [
    {
     "name": "stdout",
     "output_type": "stream",
     "text": [
      "Two sided paired t-test with null hypothesis: The mean mood in NYtimes equals the mean mood in Wall Street Journal:\n",
      "t-value: -35.834473757551145, p-value: 2.1812370930100076e-280\n"
     ]
    }
   ],
   "source": [
    "t, p = stats.ttest_ind(nytimes['compound'], wsj['compound'], equal_var=False)\n",
    "print(\"Two sided paired t-test with null hypothesis: The mean mood in NYtimes equals the mean mood in Wall Street Journal:\")\n",
    "print(f\"t-value: {t}, p-value: {p}\")"
   ]
  },
  {
   "cell_type": "code",
   "execution_count": 259,
   "metadata": {},
   "outputs": [
    {
     "name": "stdout",
     "output_type": "stream",
     "text": [
      "Two sided paired t-test with null hypothesis: The mean mood in NYtimes equals the mean mood in ESPN:\n",
      "t-value: -282.18957162795226, p-value: 0.0\n"
     ]
    }
   ],
   "source": [
    "t, p = stats.ttest_ind(nytimes['compound'], espn['compound'], equal_var=False)\n",
    "print(\"Two sided paired t-test with null hypothesis: The mean mood in NYtimes equals the mean mood in ESPN:\")\n",
    "print(f\"t-value: {t}, p-value: {p}\")"
   ]
  },
  {
   "cell_type": "code",
   "execution_count": 260,
   "metadata": {},
   "outputs": [
    {
     "name": "stdout",
     "output_type": "stream",
     "text": [
      "Two sided paired t-test with null hypothesis: The mean mood in NYtimes equals the mean mood in ESPN:\n",
      "t-value: -142.41662557831026, p-value: 0.0\n"
     ]
    }
   ],
   "source": [
    "t, p = stats.ttest_ind(nytimes['blob_polar'], espn['blob_polar'], equal_var=False)\n",
    "print(\"Two sided paired t-test with null hypothesis: The mean mood in NYtimes equals the mean mood in ESPN:\")\n",
    "print(f\"t-value: {t}, p-value: {p}\")"
   ]
  },
  {
   "cell_type": "code",
   "execution_count": 261,
   "metadata": {},
   "outputs": [],
   "source": [
    "day_nytimes = nytimes.groupby('weekday_number').compound.mean()\n",
    "month_nytimes = nytimes.groupby('Month').compound.mean().reset_index()"
   ]
  },
  {
   "cell_type": "code",
   "execution_count": 262,
   "metadata": {},
   "outputs": [
    {
     "data": {
      "text/plain": [
       "[<matplotlib.lines.Line2D at 0x1cbca0c54f0>]"
      ]
     },
     "execution_count": 262,
     "metadata": {},
     "output_type": "execute_result"
    },
    {
     "data": {
      "image/png": "[encoded data removed]",
      "text/plain": [
       "<Figure size 432x288 with 1 Axes>"
      ]
     },
     "metadata": {},
     "output_type": "display_data"
    }
   ],
   "source": [
    "plt.plot(month_nytimes['compound'])\n"
   ]
  },
  {
   "cell_type": "code",
   "execution_count": 273,
   "metadata": {},
   "outputs": [],
   "source": [
    "ranges = [0,0.1,0.2,0.3,0.4,0.5,0.6,0.7,0.8,0.9,1]\n",
    "a = nytimes.groupby(pd.cut(nytimes.compound, ranges)).count().compound"
   ]
  },
  {
   "cell_type": "code",
   "execution_count": 291,
   "metadata": {},
   "outputs": [
    {
     "data": {
      "text/plain": [
       "16204"
      ]
     },
     "execution_count": 291,
     "metadata": {},
     "output_type": "execute_result"
    }
   ],
   "source": [
    "nytimes = nytimes.resample()"
   ]
  },
  {
   "cell_type": "code",
   "execution_count": 347,
   "metadata": {},
   "outputs": [
    {
     "data": {
      "text/html": [
       "<div>\n",
       "<style scoped>\n",
       "    .dataframe tbody tr th:only-of-type {\n",
       "        vertical-align: middle;\n",
       "    }\n",
       "\n",
       "    .dataframe tbody tr th {\n",
       "        vertical-align: top;\n",
       "    }\n",
       "\n",
       "    .dataframe thead th {\n",
       "        text-align: right;\n",
       "    }\n",
       "</style>\n",
       "<table border=\"1\" class=\"dataframe\">\n",
       "  <thead>\n",
       "    <tr style=\"text-align: right;\">\n",
       "      <th></th>\n",
       "      <th>media_outlet</th>\n",
       "      <th>compound</th>\n",
       "      <th>positive</th>\n",
       "      <th>negative</th>\n",
       "      <th>blob_polar</th>\n",
       "      <th>blob_subj</th>\n",
       "      <th>date_short</th>\n",
       "    </tr>\n",
       "  </thead>\n",
       "  <tbody>\n",
       "    <tr>\n",
       "      <th>0</th>\n",
       "      <td>washingtonpost</td>\n",
       "      <td>0.25</td>\n",
       "      <td>0.083</td>\n",
       "      <td>0.000</td>\n",
       "      <td>0.000000</td>\n",
       "      <td>0.000000</td>\n",
       "      <td>2015-12-13</td>\n",
       "    </tr>\n",
       "    <tr>\n",
       "      <th>1</th>\n",
       "      <td>startribune</td>\n",
       "      <td>0.00</td>\n",
       "      <td>0.000</td>\n",
       "      <td>0.000</td>\n",
       "      <td>0.062500</td>\n",
       "      <td>0.354167</td>\n",
       "      <td>2015-10-02</td>\n",
       "    </tr>\n",
       "    <tr>\n",
       "      <th>2</th>\n",
       "      <td>mtv</td>\n",
       "      <td>0.00</td>\n",
       "      <td>0.000</td>\n",
       "      <td>0.000</td>\n",
       "      <td>-0.083333</td>\n",
       "      <td>0.216667</td>\n",
       "      <td>2015-10-09</td>\n",
       "    </tr>\n",
       "    <tr>\n",
       "      <th>3</th>\n",
       "      <td>express</td>\n",
       "      <td>-0.34</td>\n",
       "      <td>0.073</td>\n",
       "      <td>0.094</td>\n",
       "      <td>0.600000</td>\n",
       "      <td>1.000000</td>\n",
       "      <td>2015-11-17</td>\n",
       "    </tr>\n",
       "    <tr>\n",
       "      <th>4</th>\n",
       "      <td>reuters</td>\n",
       "      <td>-0.27</td>\n",
       "      <td>0.000</td>\n",
       "      <td>0.110</td>\n",
       "      <td>-0.187500</td>\n",
       "      <td>0.500000</td>\n",
       "      <td>2015-02-06</td>\n",
       "    </tr>\n",
       "    <tr>\n",
       "      <th>...</th>\n",
       "      <td>...</td>\n",
       "      <td>...</td>\n",
       "      <td>...</td>\n",
       "      <td>...</td>\n",
       "      <td>...</td>\n",
       "      <td>...</td>\n",
       "      <td>...</td>\n",
       "    </tr>\n",
       "    <tr>\n",
       "      <th>607108</th>\n",
       "      <td>express</td>\n",
       "      <td>0.30</td>\n",
       "      <td>0.151</td>\n",
       "      <td>0.000</td>\n",
       "      <td>-0.075000</td>\n",
       "      <td>0.700000</td>\n",
       "      <td>2020-03-08</td>\n",
       "    </tr>\n",
       "    <tr>\n",
       "      <th>607109</th>\n",
       "      <td>espn</td>\n",
       "      <td>0.75</td>\n",
       "      <td>0.145</td>\n",
       "      <td>0.033</td>\n",
       "      <td>0.258929</td>\n",
       "      <td>0.321429</td>\n",
       "      <td>2020-03-02</td>\n",
       "    </tr>\n",
       "    <tr>\n",
       "      <th>607110</th>\n",
       "      <td>mirror</td>\n",
       "      <td>0.00</td>\n",
       "      <td>0.000</td>\n",
       "      <td>0.000</td>\n",
       "      <td>0.000000</td>\n",
       "      <td>0.000000</td>\n",
       "      <td>2020-01-13</td>\n",
       "    </tr>\n",
       "    <tr>\n",
       "      <th>607111</th>\n",
       "      <td>latimes</td>\n",
       "      <td>-0.13</td>\n",
       "      <td>0.000</td>\n",
       "      <td>0.097</td>\n",
       "      <td>-0.388889</td>\n",
       "      <td>0.833333</td>\n",
       "      <td>2020-02-22</td>\n",
       "    </tr>\n",
       "    <tr>\n",
       "      <th>607112</th>\n",
       "      <td>thesun</td>\n",
       "      <td>-0.51</td>\n",
       "      <td>0.000</td>\n",
       "      <td>0.623</td>\n",
       "      <td>0.000000</td>\n",
       "      <td>0.000000</td>\n",
       "      <td>2020-01-15</td>\n",
       "    </tr>\n",
       "  </tbody>\n",
       "</table>\n",
       "<p>11916999 rows × 7 columns</p>\n",
       "</div>"
      ],
      "text/plain": [
       "          media_outlet  compound  positive  negative  blob_polar  blob_subj  \\\n",
       "0       washingtonpost      0.25     0.083     0.000    0.000000   0.000000   \n",
       "1          startribune      0.00     0.000     0.000    0.062500   0.354167   \n",
       "2                  mtv      0.00     0.000     0.000   -0.083333   0.216667   \n",
       "3              express     -0.34     0.073     0.094    0.600000   1.000000   \n",
       "4              reuters     -0.27     0.000     0.110   -0.187500   0.500000   \n",
       "...                ...       ...       ...       ...         ...        ...   \n",
       "607108         express      0.30     0.151     0.000   -0.075000   0.700000   \n",
       "607109            espn      0.75     0.145     0.033    0.258929   0.321429   \n",
       "607110          mirror      0.00     0.000     0.000    0.000000   0.000000   \n",
       "607111         latimes     -0.13     0.000     0.097   -0.388889   0.833333   \n",
       "607112          thesun     -0.51     0.000     0.623    0.000000   0.000000   \n",
       "\n",
       "        date_short  \n",
       "0       2015-12-13  \n",
       "1       2015-10-02  \n",
       "2       2015-10-09  \n",
       "3       2015-11-17  \n",
       "4       2015-02-06  \n",
       "...            ...  \n",
       "607108  2020-03-08  \n",
       "607109  2020-03-02  \n",
       "607110  2020-01-13  \n",
       "607111  2020-02-22  \n",
       "607112  2020-01-15  \n",
       "\n",
       "[11916999 rows x 7 columns]"
      ]
     },
     "execution_count": 347,
     "metadata": {},
     "output_type": "execute_result"
    }
   ],
   "source": [
    "df_2 = df.copy()\n",
    "df_2['compound'] = df_2['compound'].apply(lambda x: round(x, 2))\n",
    "df_2"
   ]
  },
  {
   "cell_type": "code",
   "execution_count": 348,
   "metadata": {},
   "outputs": [
    {
     "data": {
      "text/html": [
       "<div>\n",
       "<style scoped>\n",
       "    .dataframe tbody tr th:only-of-type {\n",
       "        vertical-align: middle;\n",
       "    }\n",
       "\n",
       "    .dataframe tbody tr th {\n",
       "        vertical-align: top;\n",
       "    }\n",
       "\n",
       "    .dataframe thead th {\n",
       "        text-align: right;\n",
       "    }\n",
       "</style>\n",
       "<table border=\"1\" class=\"dataframe\">\n",
       "  <thead>\n",
       "    <tr style=\"text-align: right;\">\n",
       "      <th></th>\n",
       "      <th>media_outlet</th>\n",
       "      <th>compound</th>\n",
       "      <th>count</th>\n",
       "    </tr>\n",
       "  </thead>\n",
       "  <tbody>\n",
       "    <tr>\n",
       "      <th>0</th>\n",
       "      <td>aarp</td>\n",
       "      <td>-0.98</td>\n",
       "      <td>2</td>\n",
       "    </tr>\n",
       "    <tr>\n",
       "      <th>1</th>\n",
       "      <td>aarp</td>\n",
       "      <td>-0.96</td>\n",
       "      <td>4</td>\n",
       "    </tr>\n",
       "    <tr>\n",
       "      <th>2</th>\n",
       "      <td>aarp</td>\n",
       "      <td>-0.95</td>\n",
       "      <td>5</td>\n",
       "    </tr>\n",
       "    <tr>\n",
       "      <th>3</th>\n",
       "      <td>aarp</td>\n",
       "      <td>-0.94</td>\n",
       "      <td>6</td>\n",
       "    </tr>\n",
       "    <tr>\n",
       "      <th>4</th>\n",
       "      <td>aarp</td>\n",
       "      <td>-0.93</td>\n",
       "      <td>11</td>\n",
       "    </tr>\n",
       "    <tr>\n",
       "      <th>...</th>\n",
       "      <td>...</td>\n",
       "      <td>...</td>\n",
       "      <td>...</td>\n",
       "    </tr>\n",
       "    <tr>\n",
       "      <th>7273</th>\n",
       "      <td>wsj</td>\n",
       "      <td>0.96</td>\n",
       "      <td>188</td>\n",
       "    </tr>\n",
       "    <tr>\n",
       "      <th>7274</th>\n",
       "      <td>wsj</td>\n",
       "      <td>0.97</td>\n",
       "      <td>151</td>\n",
       "    </tr>\n",
       "    <tr>\n",
       "      <th>7275</th>\n",
       "      <td>wsj</td>\n",
       "      <td>0.98</td>\n",
       "      <td>102</td>\n",
       "    </tr>\n",
       "    <tr>\n",
       "      <th>7276</th>\n",
       "      <td>wsj</td>\n",
       "      <td>0.99</td>\n",
       "      <td>35</td>\n",
       "    </tr>\n",
       "    <tr>\n",
       "      <th>7277</th>\n",
       "      <td>wsj</td>\n",
       "      <td>1.00</td>\n",
       "      <td>1</td>\n",
       "    </tr>\n",
       "  </tbody>\n",
       "</table>\n",
       "<p>7278 rows × 3 columns</p>\n",
       "</div>"
      ],
      "text/plain": [
       "     media_outlet  compound  count\n",
       "0            aarp     -0.98      2\n",
       "1            aarp     -0.96      4\n",
       "2            aarp     -0.95      5\n",
       "3            aarp     -0.94      6\n",
       "4            aarp     -0.93     11\n",
       "...           ...       ...    ...\n",
       "7273          wsj      0.96    188\n",
       "7274          wsj      0.97    151\n",
       "7275          wsj      0.98    102\n",
       "7276          wsj      0.99     35\n",
       "7277          wsj      1.00      1\n",
       "\n",
       "[7278 rows x 3 columns]"
      ]
     },
     "execution_count": 348,
     "metadata": {},
     "output_type": "execute_result"
    }
   ],
   "source": [
    "df_2 = df_2.groupby(['media_outlet', 'compound']).agg({'compound': 'count'}).rename(columns={'compound': 'count'}).reset_index()\n",
    "df_2\n"
   ]
  },
  {
   "cell_type": "code",
   "execution_count": 356,
   "metadata": {},
   "outputs": [],
   "source": [
    "\n",
    "array_dict = {}\n",
    "for outlet in media_outlets:\n",
    "    array_dict[f'x_{outlet}'] = df_2[df_2['media_outlet']==outlet]['compound'] # storing the temperature data for each year\n",
    "    array_dict[f'y_{outlet}'] = df_2[df_2['media_outlet']==outlet]['count'] # storing the temperature count for each year\n",
    "    array_dict[f'y_{outlet}'] = (array_dict[f'y_{outlet}'] - array_dict[f'y_{outlet}'].mean()) \\\n",
    "                                / (array_dict[f'y_{outlet}'].std())\n",
    "    \n",
    "    #array_dict[f'y_{outlet}'] = (array_dict[f'y_{outlet}'] - array_dict[f'y_{outlet}'].min()) \\\n",
    "    #                            / (array_dict[f'y_{outlet}'].max() - array_dict[f'y_{outlet}'].min())"
   ]
  },
  {
   "cell_type": "code",
   "execution_count": 359,
   "metadata": {},
   "outputs": [
    {
     "data": {
      "application/vnd.plotly.v1+json": {
       "config": {
        "plotlyServerURL": "https://plot.ly"
       },
       "data": [
        {
         "line": {
          "color": "white"
         },
         "mode": "lines",
         "type": "scatter",
         "x": [
          -1,
          1
         ],
         "y": [
          4.4,
          4.4,
          4.4,
          4.4,
          4.4
         ]
        },
        {
         "fill": "tonexty",
         "name": "nytimes",
         "type": "scatter",
         "x": [
          -0.99,
          -0.98,
          -0.97,
          -0.96,
          -0.95,
          -0.94,
          -0.93,
          -0.92,
          -0.91,
          -0.9,
          -0.89,
          -0.88,
          -0.87,
          -0.86,
          -0.85,
          -0.84,
          -0.83,
          -0.82,
          -0.81,
          -0.8,
          -0.79,
          -0.78,
          -0.77,
          -0.76,
          -0.75,
          -0.74,
          -0.73,
          -0.72,
          -0.71,
          -0.7,
          -0.69,
          -0.68,
          -0.67,
          -0.66,
          -0.65,
          -0.64,
          -0.63,
          -0.62,
          -0.61,
          -0.6,
          -0.59,
          -0.58,
          -0.57,
          -0.56,
          -0.55,
          -0.54,
          -0.53,
          -0.52,
          -0.51,
          -0.5,
          -0.49,
          -0.48,
          -0.47,
          -0.46,
          -0.45,
          -0.44,
          -0.43,
          -0.42,
          -0.41,
          -0.4,
          -0.39,
          -0.38,
          -0.37,
          -0.36,
          -0.35,
          -0.34,
          -0.33,
          -0.32,
          -0.31,
          -0.3,
          -0.29,
          -0.28,
          -0.27,
          -0.26,
          -0.25,
          -0.24,
          -0.23,
          -0.22,
          -0.21,
          -0.2,
          -0.19,
          -0.18,
          -0.17,
          -0.16,
          -0.15,
          -0.14,
          -0.13,
          -0.12,
          -0.11,
          -0.1,
          -0.09,
          -0.08,
          -0.07,
          -0.06,
          -0.05,
          -0.04,
          -0.03,
          -0.02,
          -0.01,
          0,
          0.01,
          0.02,
          0.03,
          0.04,
          0.05,
          0.06,
          0.07,
          0.08,
          0.09,
          0.1,
          0.11,
          0.12,
          0.13,
          0.14,
          0.15,
          0.16,
          0.17,
          0.18,
          0.19,
          0.2,
          0.21,
          0.22,
          0.23,
          0.24,
          0.25,
          0.26,
          0.27,
          0.28,
          0.29,
          0.3,
          0.31,
          0.32,
          0.33,
          0.34,
          0.35,
          0.36,
          0.37,
          0.38,
          0.39,
          0.4,
          0.41,
          0.42,
          0.43,
          0.44,
          0.45,
          0.46,
          0.47,
          0.48,
          0.49,
          0.5,
          0.51,
          0.52,
          0.53,
          0.54,
          0.55,
          0.56,
          0.57,
          0.58,
          0.59,
          0.6,
          0.61,
          0.62,
          0.63,
          0.64,
          0.65,
          0.66,
          0.67,
          0.68,
          0.69,
          0.7,
          0.71,
          0.72,
          0.73,
          0.74,
          0.75,
          0.76,
          0.77,
          0.78,
          0.79,
          0.8,
          0.81,
          0.82,
          0.83,
          0.84,
          0.85,
          0.86,
          0.87,
          0.88,
          0.89,
          0.9,
          0.91,
          0.92,
          0.93,
          0.94,
          0.95,
          0.96,
          0.97,
          0.98,
          0.99,
          1
         ],
         "y": [
          3.7921744726281856,
          3.794610883410509,
          3.798046847334298,
          3.800358313973938,
          3.806855409393467,
          3.808792043605057,
          3.8149767786678774,
          3.818850047091058,
          3.821661290301431,
          3.82316062001363,
          3.829845131647183,
          3.8355300901392706,
          3.8344055928551217,
          3.8395283027051343,
          3.841090104488675,
          3.85477148811249,
          3.850835747617968,
          3.8490865296204024,
          3.8578326196082293,
          3.8660164609539818,
          3.841902241416116,
          3.8835711130009773,
          3.882946392287561,
          3.8563957619673723,
          3.855458680897248,
          3.9056237541845698,
          3.8584573403216456,
          3.8612685835320186,
          3.864454659170441,
          3.8796978445777968,
          3.894753613771128,
          3.9043118406863955,
          3.8954408065558854,
          3.911058824391291,
          3.906435891112011,
          3.888256518351599,
          3.830032547861208,
          3.9537897211889597,
          3.9039994803296874,
          3.9841511478609872,
          3.898501938051625,
          3.8322815424295067,
          3.9735933678042534,
          3.9529775842615185,
          3.825222198367903,
          3.9993318611970015,
          4.041188148995888,
          3.8290329947197423,
          4.006828509757996,
          3.83434312078378,
          4.002205576478716,
          4.126400054305859,
          3.8250347821538786,
          3.983838787504279,
          3.8228482596569218,
          4.032504531079402,
          3.8171633011648343,
          4.061866404609964,
          3.8139772255264113,
          4.124775780450976,
          3.857582731322863,
          4.044311752562969,
          3.823972756941071,
          4.0728614891660895,
          3.8142895858831194,
          4.126212638091834,
          3.849211473763086,
          4.083356797151482,
          3.857645203394205,
          4.4234547535352675,
          3.8476496719795454,
          3.9102466874638497,
          4.022508999664743,
          3.846587646766738,
          3.988461720783559,
          3.852959798043583,
          3.9999565819104177,
          3.8359049225673205,
          3.8392159423484262,
          3.9511034221212697,
          3.8297201875045,
          3.974530448874378,
          3.8402154954898924,
          3.8104787895312806,
          4.013263133106183,
          3.8146644183111693,
          3.9618486183920285,
          3.816351164237393,
          3.8171008290934925,
          4.053057842550795,
          3.816663524594101,
          3.9644099733170353,
          3.803169557184311,
          3.9236781828022984,
          3.9597870400377553,
          3.819349823661791,
          3.921991436876074,
          3.8241601731550956,
          3.8091668760331068,
          17.928167359596188,
          3.8102289012459143,
          3.8148518345251943,
          3.9877120559274597,
          3.838653693706352,
          3.9343609070017154,
          3.816538580451418,
          3.8082922670343238,
          4.284766755156868,
          3.8107286778166474,
          3.956038715757258,
          3.8130401444562874,
          3.833343567642314,
          4.013075716892158,
          3.82278578758558,
          4.006516149401288,
          3.809604180532498,
          3.839153470277085,
          3.9902109387811246,
          3.8498986665478436,
          4.137832443361376,
          3.8384038054209855,
          3.859894197962503,
          3.997957475627486,
          3.8412775207027,
          4.060866851468498,
          3.848649225121011,
          4.2759581930977,
          3.8327813190002393,
          3.8424644900581906,
          4.038939154427589,
          3.8446510125551474,
          4.22585559188172,
          3.8500860827618686,
          4.234664153940888,
          3.8202869047319155,
          4.742374677734243,
          3.8400905513472092,
          4.210424990260339,
          3.853522046685658,
          4.426390940888323,
          3.825909391152661,
          4.347551186855197,
          3.834780425283171,
          4.486239185233597,
          3.8497112503338187,
          4.132959621796729,
          3.8331561514282892,
          4.128461632660132,
          4.292138459575179,
          3.8662038771680067,
          4.140956046928457,
          3.829907603718525,
          4.0576183037587334,
          3.9893988018536835,
          3.8563957619673723,
          4.060741907325815,
          4.102598195124701,
          3.846087870196005,
          4.088979283572228,
          4.020072588882419,
          4.017698650171438,
          4.078359031444152,
          3.840965160345992,
          4.250407115918977,
          3.972906175019496,
          3.9732185353762035,
          3.9850882289311116,
          3.961348841821296,
          3.9549142184731085,
          3.968095825526191,
          3.938171703353554,
          3.946980265412723,
          3.940670586207219,
          4.013700437605574,
          3.927676395368162,
          3.926551898084013,
          3.989023969425634,
          3.983401483004888,
          3.899813851549799,
          3.956226131971283,
          3.9438566618456417,
          3.9176808639535023,
          3.9211792999486335,
          3.9271141467260873,
          3.8965653038400347,
          3.9158691738845954,
          3.8949410299851523,
          3.9002511560491904,
          3.887631797638183,
          3.879198068007064,
          3.86632882131069,
          3.864642075384466,
          3.853646990828341,
          3.8392159423484262,
          3.8354051459965874,
          3.825784447009978,
          3.811915647172138,
          3.8009830346873543,
          3.7948607716958755,
          3.7910499753440368
         ]
        },
        {
         "line": {
          "color": "white"
         },
         "mode": "lines",
         "type": "scatter",
         "x": [
          -1,
          1
         ],
         "y": [
          3.4,
          3.4,
          3.4,
          3.4,
          3.4
         ]
        },
        {
         "fill": "tonexty",
         "name": "womansday",
         "type": "scatter",
         "x": [
          -0.98,
          -0.96,
          -0.95,
          -0.94,
          -0.93,
          -0.92,
          -0.91,
          -0.9,
          -0.89,
          -0.88,
          -0.87,
          -0.86,
          -0.85,
          -0.84,
          -0.83,
          -0.82,
          -0.81,
          -0.8,
          -0.79,
          -0.78,
          -0.77,
          -0.76,
          -0.75,
          -0.74,
          -0.73,
          -0.72,
          -0.71,
          -0.7,
          -0.69,
          -0.68,
          -0.67,
          -0.66,
          -0.65,
          -0.64,
          -0.63,
          -0.62,
          -0.61,
          -0.6,
          -0.59,
          -0.58,
          -0.57,
          -0.56,
          -0.55,
          -0.54,
          -0.53,
          -0.52,
          -0.51,
          -0.5,
          -0.49,
          -0.48,
          -0.47,
          -0.46,
          -0.45,
          -0.44,
          -0.43,
          -0.42,
          -0.41,
          -0.4,
          -0.39,
          -0.38,
          -0.37,
          -0.36,
          -0.35,
          -0.34,
          -0.33,
          -0.32,
          -0.31,
          -0.3,
          -0.29,
          -0.28,
          -0.27,
          -0.26,
          -0.25,
          -0.24,
          -0.23,
          -0.22,
          -0.21,
          -0.2,
          -0.19,
          -0.18,
          -0.17,
          -0.16,
          -0.15,
          -0.14,
          -0.13,
          -0.12,
          -0.11,
          -0.1,
          -0.09,
          -0.08,
          -0.07,
          -0.06,
          -0.05,
          -0.04,
          -0.03,
          -0.02,
          -0.01,
          0,
          0.01,
          0.02,
          0.03,
          0.04,
          0.05,
          0.06,
          0.08,
          0.09,
          0.1,
          0.11,
          0.12,
          0.13,
          0.14,
          0.15,
          0.16,
          0.17,
          0.18,
          0.19,
          0.2,
          0.21,
          0.22,
          0.23,
          0.24,
          0.25,
          0.26,
          0.27,
          0.28,
          0.29,
          0.3,
          0.31,
          0.32,
          0.33,
          0.34,
          0.35,
          0.36,
          0.37,
          0.38,
          0.39,
          0.4,
          0.41,
          0.42,
          0.43,
          0.44,
          0.45,
          0.46,
          0.47,
          0.48,
          0.49,
          0.5,
          0.51,
          0.52,
          0.53,
          0.54,
          0.55,
          0.56,
          0.57,
          0.58,
          0.59,
          0.6,
          0.61,
          0.62,
          0.63,
          0.64,
          0.65,
          0.66,
          0.67,
          0.68,
          0.69,
          0.7,
          0.71,
          0.72,
          0.73,
          0.74,
          0.75,
          0.76,
          0.77,
          0.78,
          0.79,
          0.8,
          0.81,
          0.82,
          0.83,
          0.84,
          0.85,
          0.86,
          0.87,
          0.88,
          0.89,
          0.9,
          0.91,
          0.92,
          0.93,
          0.94,
          0.95,
          0.96,
          0.97,
          0.98,
          0.99
         ],
         "y": [
          2.6845161405233773,
          2.701480430360803,
          2.7184447201982294,
          2.7184447201982294,
          2.7438911549543685,
          2.7693375897105077,
          2.7184447201982294,
          2.7778197346292206,
          2.735409010035655,
          2.7693375897105077,
          2.7269268651169423,
          2.735409010035655,
          2.7438911549543685,
          2.7778197346292206,
          2.7523732998730814,
          2.8032661693853598,
          2.7778197346292206,
          2.794784024466647,
          2.735409010035655,
          2.7438911549543685,
          2.8117483143040727,
          2.794784024466647,
          2.7693375897105077,
          2.7863018795479335,
          2.828712604141499,
          2.7523732998730814,
          2.794784024466647,
          2.8032661693853598,
          2.8202304592227856,
          2.7608554447917943,
          2.7863018795479335,
          2.854159038897638,
          2.828712604141499,
          2.8456768939789248,
          2.7778197346292206,
          2.8032661693853598,
          2.862641183816351,
          2.837194749060212,
          2.7863018795479335,
          2.7778197346292206,
          2.871123328735064,
          2.862641183816351,
          2.7438911549543685,
          2.8456768939789248,
          2.88808761857249,
          2.735409010035655,
          2.930498343166055,
          2.7778197346292206,
          2.9474626330034814,
          3.032284082190612,
          2.7608554447917943,
          2.930498343166055,
          2.7269268651169423,
          2.9813912126783335,
          2.7184447201982294,
          2.9983555025157598,
          2.7269268651169423,
          3.0746948067841773,
          2.837194749060212,
          3.023801937271899,
          2.7608554447917943,
          3.1001412415403165,
          2.735409010035655,
          3.091659096621603,
          2.7608554447917943,
          3.015319792353186,
          2.7523732998730814,
          3.261301994995864,
          2.8032661693853598,
          2.8117483143040727,
          2.8456768939789248,
          2.7778197346292206,
          2.871123328735064,
          2.7693375897105077,
          2.930498343166055,
          2.794784024466647,
          2.7608554447917943,
          2.854159038897638,
          2.7693375897105077,
          2.9474626330034814,
          2.7693375897105077,
          2.7438911549543685,
          3.0746948067841773,
          2.7523732998730814,
          2.9813912126783335,
          2.7269268651169423,
          2.7438911549543685,
          2.9474626330034814,
          2.7693375897105077,
          2.871123328735064,
          2.7099625752795165,
          2.896569763491203,
          2.930498343166055,
          2.7184447201982294,
          2.871123328735064,
          2.7184447201982294,
          2.735409010035655,
          16.612198097050197,
          2.7099625752795165,
          2.7269268651169423,
          2.88808761857249,
          2.7608554447917943,
          2.9389804880847685,
          2.7438911549543685,
          3.1425519661338814,
          2.7523732998730814,
          2.854159038897638,
          2.7778197346292206,
          2.7269268651169423,
          2.9220161982473423,
          2.7523732998730814,
          2.9729090677596206,
          2.701480430360803,
          2.8202304592227856,
          2.9813912126783335,
          2.828712604141499,
          2.9559447779221943,
          2.7523732998730814,
          2.8456768939789248,
          3.1255876762964556,
          2.7693375897105077,
          3.0068376474344727,
          2.837194749060212,
          3.3546055891017077,
          2.7608554447917943,
          2.794784024466647,
          3.015319792353186,
          2.7608554447917943,
          3.1510341110525943,
          2.837194749060212,
          3.1679984008900206,
          2.7608554447917943,
          3.982284313086473,
          2.7608554447917943,
          3.184962690727447,
          2.7693375897105077,
          3.6854092409315165,
          2.735409010035655,
          3.4988020527198294,
          2.7523732998730814,
          3.2358555602397248,
          2.8456768939789248,
          3.1255876762964556,
          2.8117483143040727,
          3.184962690727447,
          3.405498458613986,
          2.7778197346292206,
          3.218891270402299,
          2.7693375897105077,
          3.0746948067841773,
          3.032284082190612,
          2.871123328735064,
          3.1086233864590294,
          3.210409125483586,
          2.8117483143040727,
          3.3037127195894294,
          3.3037127195894294,
          3.2697841399145773,
          3.227373415321012,
          2.8456768939789248,
          3.600587791744386,
          3.0407662271093248,
          3.066212661865464,
          3.2358555602397248,
          3.0746948067841773,
          3.210409125483586,
          3.1171055313777423,
          3.057730516946751,
          3.057730516946751,
          3.049248372028038,
          3.1934448356461598,
          3.1764805458087335,
          2.9983555025157598,
          3.2697841399145773,
          3.218891270402299,
          3.066212661865464,
          3.1510341110525943,
          3.2952305746707165,
          3.1001412415403165,
          3.1510341110525943,
          3.2358555602397248,
          3.1255876762964556,
          3.1595162559713077,
          3.1086233864590294,
          3.244337705158438,
          3.227373415321012,
          3.210409125483586,
          3.1764805458087335,
          3.1255876762964556,
          3.1340698212151685,
          3.1679984008900206,
          3.1340698212151685,
          3.08317695170289,
          3.0746948067841773,
          2.8032661693853598,
          2.7438911549543685
         ]
        },
        {
         "line": {
          "color": "white"
         },
         "mode": "lines",
         "type": "scatter",
         "x": [
          -1,
          1
         ],
         "y": [
          2.4,
          2.4,
          2.4,
          2.4,
          2.4
         ]
        },
        {
         "fill": "tonexty",
         "name": "espn",
         "type": "scatter",
         "x": [
          -0.99,
          -0.98,
          -0.97,
          -0.96,
          -0.95,
          -0.94,
          -0.93,
          -0.92,
          -0.91,
          -0.9,
          -0.89,
          -0.88,
          -0.87,
          -0.86,
          -0.85,
          -0.84,
          -0.83,
          -0.82,
          -0.81,
          -0.8,
          -0.79,
          -0.78,
          -0.77,
          -0.76,
          -0.75,
          -0.74,
          -0.73,
          -0.72,
          -0.71,
          -0.7,
          -0.69,
          -0.68,
          -0.67,
          -0.66,
          -0.65,
          -0.64,
          -0.63,
          -0.62,
          -0.61,
          -0.6,
          -0.59,
          -0.58,
          -0.57,
          -0.56,
          -0.55,
          -0.54,
          -0.53,
          -0.52,
          -0.51,
          -0.5,
          -0.49,
          -0.48,
          -0.47,
          -0.46,
          -0.45,
          -0.44,
          -0.43,
          -0.42,
          -0.41,
          -0.4,
          -0.39,
          -0.38,
          -0.37,
          -0.36,
          -0.35,
          -0.34,
          -0.33,
          -0.32,
          -0.31,
          -0.3,
          -0.29,
          -0.28,
          -0.27,
          -0.26,
          -0.25,
          -0.24,
          -0.23,
          -0.22,
          -0.21,
          -0.2,
          -0.19,
          -0.18,
          -0.17,
          -0.16,
          -0.15,
          -0.14,
          -0.13,
          -0.12,
          -0.11,
          -0.1,
          -0.09,
          -0.08,
          -0.07,
          -0.06,
          -0.05,
          -0.04,
          -0.03,
          -0.02,
          -0.01,
          0,
          0.01,
          0.02,
          0.03,
          0.04,
          0.05,
          0.06,
          0.07,
          0.08,
          0.09,
          0.1,
          0.11,
          0.12,
          0.13,
          0.14,
          0.15,
          0.16,
          0.17,
          0.18,
          0.19,
          0.2,
          0.21,
          0.22,
          0.23,
          0.24,
          0.25,
          0.26,
          0.27,
          0.28,
          0.29,
          0.3,
          0.31,
          0.32,
          0.33,
          0.34,
          0.35,
          0.36,
          0.37,
          0.38,
          0.39,
          0.4,
          0.41,
          0.42,
          0.43,
          0.44,
          0.45,
          0.46,
          0.47,
          0.48,
          0.49,
          0.5,
          0.51,
          0.52,
          0.53,
          0.54,
          0.55,
          0.56,
          0.57,
          0.58,
          0.59,
          0.6,
          0.61,
          0.62,
          0.63,
          0.64,
          0.65,
          0.66,
          0.67,
          0.68,
          0.69,
          0.7,
          0.71,
          0.72,
          0.73,
          0.74,
          0.75,
          0.76,
          0.77,
          0.78,
          0.79,
          0.8,
          0.81,
          0.82,
          0.83,
          0.84,
          0.85,
          0.86,
          0.87,
          0.88,
          0.89,
          0.9,
          0.91,
          0.92,
          0.93,
          0.94,
          0.95,
          0.96,
          0.97,
          0.98,
          0.99,
          1
         ],
         "y": [
          1.6800250143051625,
          1.682473139365892,
          1.6849932681048785,
          1.6872253821308378,
          1.6921936359305538,
          1.6938497205304592,
          1.697449904443297,
          1.7022741508864994,
          1.7029941876690669,
          1.7092585076774043,
          1.7086104745730935,
          1.7171789122856471,
          1.7129306952684988,
          1.7213551256245387,
          1.7175389306769309,
          1.7266113941372818,
          1.7274034345981062,
          1.728627497128471,
          1.7348198134585517,
          1.7379879753018488,
          1.729779555980579,
          1.7537567808400778,
          1.7482124976143076,
          1.7344597950672678,
          1.7392840415104704,
          1.7692375716652797,
          1.7412281408234027,
          1.749004538075132,
          1.7479244829012808,
          1.7564209169355776,
          1.7575009721094288,
          1.7917027192813866,
          1.7692375716652797,
          1.7803261381168196,
          1.776725954203982,
          1.7771579762735226,
          1.737051927484511,
          1.7940788406638595,
          1.7838543183514006,
          1.792782774455238,
          1.7993351091766026,
          1.7330917251803897,
          1.8323847974964522,
          1.8022872599851294,
          1.7289155118414978,
          1.8675945961640044,
          1.9080606633442996,
          1.7382759900148759,
          1.8524738237300862,
          1.7512366521010914,
          1.8437613786610192,
          1.9895688271309442,
          1.743748269562389,
          1.9071966192052185,
          1.7263233794242547,
          1.8915718210235033,
          1.7311476258674572,
          1.9794883121749987,
          1.7180429564247282,
          1.9878407388527821,
          1.7706776452304147,
          1.954647043176419,
          1.7337397582847003,
          1.9781922459663772,
          1.7258193536764574,
          2.0685568621786024,
          1.7582930125702532,
          1.9345580169427847,
          1.7598770934919017,
          2.31920166619036,
          1.7448283247362404,
          1.83908113957433,
          1.906188567709624,
          1.809991653558602,
          1.9184291930132722,
          1.7756458990301307,
          1.882859375954436,
          1.7489325343968753,
          1.7590850530310775,
          1.8666585483466667,
          1.763837295796023,
          1.9014363249446784,
          1.7572849610746586,
          1.7138667430858365,
          1.9830164924095797,
          1.7266113941372818,
          1.9586072454805403,
          1.7415161555364298,
          1.7263953831025116,
          2.050627946292671,
          1.7329477178238761,
          1.9014363249446784,
          1.7057303274428235,
          1.8523298163735729,
          1.9311738440647175,
          1.7372679385192813,
          1.880843272963247,
          1.7482124976143076,
          1.7206350888419712,
          15.63822605908978,
          1.7252433242504035,
          1.7319396663282816,
          1.9313178514212308,
          1.7709656599434418,
          1.8762350375548147,
          1.7361158796671732,
          1.7199150520594038,
          2.3050889452520362,
          1.7349638208150653,
          1.9279336785431636,
          1.732371688397822,
          1.7750698696040768,
          1.9642235323845672,
          1.7587250346397938,
          1.9794883121749987,
          1.7176109343551877,
          1.7821982337514952,
          1.976824176079499,
          1.8031513041242104,
          2.3405867586326154,
          1.7794620939777386,
          1.8109277013759397,
          2.000441382547714,
          1.807903546889156,
          2.1343682241052746,
          1.7911266898553326,
          2.3612518142923036,
          1.767941505456658,
          1.7713976820129822,
          2.0591963840052245,
          1.7852943919165356,
          2.2718952495756732,
          1.7948708811246838,
          2.743303331122636,
          1.7503726079620103,
          2.956506222440882,
          1.7941508443421164,
          2.21386028490073,
          1.8163279772451961,
          2.5733746504366986,
          1.770893656265185,
          2.4193587826455034,
          1.776077921099671,
          3.025845764602135,
          1.8370650365831411,
          2.1635297137992597,
          1.7891105868641435,
          2.179586534050516,
          2.5218200168048632,
          1.845561470617438,
          2.303216849617361,
          1.7785260461604009,
          2.1632416990862327,
          2.0589083692921974,
          1.8399451837134113,
          2.1514330958521253,
          2.306024993069374,
          1.8223042825405067,
          2.4217349040279763,
          2.133792194679221,
          2.1979474720059877,
          2.391133340768856,
          1.8152479220713449,
          2.5888554412619005,
          2.1542412393041386,
          2.097862359229101,
          2.1286799335229913,
          2.1297599886968426,
          2.0816615316213314,
          2.175194309676854,
          2.0636606120571432,
          2.0730930939087777,
          2.1363843270964638,
          2.284423889592348,
          2.073885134369602,
          2.1227036282276806,
          2.330002217928873,
          2.291984275809307,
          2.0687008695351157,
          2.2431657819512285,
          2.2029157258057035,
          2.1947793101626907,
          2.1817466443982183,
          2.263254808184863,
          2.1810986112939075,
          2.2279730058390537,
          2.194059273380123,
          2.238629550221053,
          2.209540064205325,
          2.2324372338909724,
          2.2034917552317577,
          2.2339493111343645,
          2.222860744682824,
          2.1621616439123814,
          2.1461768273393824,
          2.1183834075322756,
          2.0353631665022394,
          1.9110848178310833,
          1.771181670978212,
          1.6832651798267164
         ]
        },
        {
         "line": {
          "color": "white"
         },
         "mode": "lines",
         "type": "scatter",
         "x": [
          -1,
          1
         ],
         "y": [
          1.4,
          1.4,
          1.4,
          1.4,
          1.4
         ]
        },
        {
         "fill": "tonexty",
         "name": "wsj",
         "type": "scatter",
         "x": [
          -0.99,
          -0.98,
          -0.97,
          -0.96,
          -0.95,
          -0.94,
          -0.93,
          -0.92,
          -0.91,
          -0.9,
          -0.89,
          -0.88,
          -0.87,
          -0.86,
          -0.85,
          -0.84,
          -0.83,
          -0.82,
          -0.81,
          -0.8,
          -0.79,
          -0.78,
          -0.77,
          -0.76,
          -0.75,
          -0.74,
          -0.73,
          -0.72,
          -0.71,
          -0.7,
          -0.69,
          -0.68,
          -0.67,
          -0.66,
          -0.65,
          -0.64,
          -0.63,
          -0.62,
          -0.61,
          -0.6,
          -0.59,
          -0.58,
          -0.57,
          -0.56,
          -0.55,
          -0.54,
          -0.53,
          -0.52,
          -0.51,
          -0.5,
          -0.49,
          -0.48,
          -0.47,
          -0.46,
          -0.45,
          -0.44,
          -0.43,
          -0.42,
          -0.41,
          -0.4,
          -0.39,
          -0.38,
          -0.37,
          -0.36,
          -0.35,
          -0.34,
          -0.33,
          -0.32,
          -0.31,
          -0.3,
          -0.29,
          -0.28,
          -0.27,
          -0.26,
          -0.25,
          -0.24,
          -0.23,
          -0.22,
          -0.21,
          -0.2,
          -0.19,
          -0.18,
          -0.17,
          -0.16,
          -0.15,
          -0.14,
          -0.13,
          -0.12,
          -0.11,
          -0.1,
          -0.09,
          -0.08,
          -0.07,
          -0.06,
          -0.05,
          -0.04,
          -0.03,
          -0.02,
          -0.01,
          0,
          0.01,
          0.02,
          0.03,
          0.04,
          0.05,
          0.06,
          0.07,
          0.08,
          0.09,
          0.1,
          0.11,
          0.12,
          0.13,
          0.14,
          0.15,
          0.16,
          0.17,
          0.18,
          0.19,
          0.2,
          0.21,
          0.22,
          0.23,
          0.24,
          0.25,
          0.26,
          0.27,
          0.28,
          0.29,
          0.3,
          0.31,
          0.32,
          0.33,
          0.34,
          0.35,
          0.36,
          0.37,
          0.38,
          0.39,
          0.4,
          0.41,
          0.42,
          0.43,
          0.44,
          0.45,
          0.46,
          0.47,
          0.48,
          0.49,
          0.5,
          0.51,
          0.52,
          0.53,
          0.54,
          0.55,
          0.56,
          0.57,
          0.58,
          0.59,
          0.6,
          0.61,
          0.62,
          0.63,
          0.64,
          0.65,
          0.66,
          0.67,
          0.68,
          0.69,
          0.7,
          0.71,
          0.72,
          0.73,
          0.74,
          0.75,
          0.76,
          0.77,
          0.78,
          0.79,
          0.8,
          0.81,
          0.82,
          0.83,
          0.84,
          0.85,
          0.86,
          0.87,
          0.88,
          0.89,
          0.9,
          0.91,
          0.92,
          0.93,
          0.94,
          0.95,
          0.96,
          0.97,
          0.98,
          0.99,
          1
         ],
         "y": [
          0.7677073008652028,
          0.7702296340601976,
          0.7740131338526898,
          0.7781119252945563,
          0.7831565916845458,
          0.7863095081782893,
          0.7923000495164019,
          0.796083549308894,
          0.7970294242570171,
          0.8055422987901245,
          0.8074340486863706,
          0.8118481317776114,
          0.8109022568294884,
          0.8181539647650984,
          0.8017587989976322,
          0.8260362559994571,
          0.8269821309475801,
          0.8279280058957031,
          0.8257209643500827,
          0.8418008384681744,
          0.8150010482713549,
          0.8518901712481535,
          0.8515748795987792,
          0.8310809223894466,
          0.8279280058957031,
          0.8708076702106143,
          0.8263515476488315,
          0.8402243802213027,
          0.8392785052731796,
          0.8430620050656719,
          0.8648171288725017,
          0.8752217533018553,
          0.8720688368081118,
          0.8736452950549835,
          0.8928780856668187,
          0.8689159203143683,
          0.807749340335745,
          0.9269295837992482,
          0.8686006286649939,
          0.937649499877976,
          0.8862569610299573,
          0.8105869651801141,
          0.9486847076060781,
          0.9285060420461199,
          0.8030199655951297,
          0.9903032053234919,
          1.0167877038709372,
          0.8036505488938784,
          0.9780068309978924,
          0.8099563818813653,
          0.9764303727510206,
          1.1031776157995083,
          0.7979752992051401,
          0.9735927479066515,
          0.7998670491013862,
          1.0152112456240654,
          0.7992364658026375,
          1.0498933270552435,
          0.7888318413732841,
          1.113897531878236,
          0.8339185472338158,
          1.0281382032484137,
          0.8001823407507606,
          1.0842601168370474,
          0.7954529660101454,
          1.1703347371162443,
          0.8172080898169753,
          1.0782695754989349,
          0.8285585891944518,
          1.44999843011129,
          0.8238292144538366,
          0.8878334192768291,
          1.049262743756495,
          0.817838673115724,
          0.9789527059460155,
          0.8358102971300618,
          0.9871502888297485,
          0.8099563818813653,
          0.8219374645575905,
          0.9382800831767246,
          0.8093257985826167,
          0.9761150811016464,
          0.8235139228044623,
          0.7904082996201558,
          1.0205712036634293,
          0.7970294242570171,
          0.9925102468691124,
          0.796083549308894,
          0.7948223827113967,
          1.0735402007583197,
          0.7907235912695302,
          0.9556211238923138,
          0.7800036751908024,
          0.8991839186543056,
          0.975799789452272,
          0.7979752992051401,
          0.9174708343180178,
          0.8008129240495092,
          0.7872553831264124,
          14.876062735419119,
          0.7919847578670276,
          0.7913541745682788,
          1.0117430374809475,
          0.8150010482713549,
          0.9247225422536277,
          0.7973447159063914,
          0.7856789248795406,
          1.3377546029340226,
          0.7910388829189046,
          0.9751692061535233,
          0.7986058825038889,
          0.8105869651801141,
          1.0104818708834502,
          0.8004976324001349,
          1.0161571205721884,
          0.7929306328151506,
          0.8162622148688523,
          1.0287687865471624,
          0.8358102971300618,
          1.2141602763792785,
          0.825090381051334,
          0.8408549635200514,
          1.029399369845911,
          0.8197304230119701,
          1.08299895023955,
          0.8143704649726062,
          1.3415381027265147,
          0.809641090231991,
          0.8162622148688523,
          1.0533615351983614,
          0.8272974225969545,
          1.2828938559428862,
          0.8361255887794361,
          1.320728853867808,
          0.7963988409582684,
          1.726824498261967,
          0.8313962140388209,
          1.3264041035565461,
          0.8358102971300618,
          1.5313436756498717,
          0.8068034653876219,
          1.3645543931308421,
          0.8184692564144727,
          1.6492627525158776,
          0.8487372547544101,
          1.1823158197924695,
          0.8213068812588419,
          1.1548854462969012,
          1.3793731006514363,
          0.8484219631050357,
          1.2122685264830324,
          0.8184692564144727,
          1.0867824500320422,
          1.004806621194712,
          0.8377020470263079,
          1.1060152406438775,
          1.15551602959565,
          0.8326573806363183,
          1.1145281151769848,
          1.0495780354058692,
          1.0470557022108744,
          1.163713612479383,
          0.8269821309475801,
          1.3128465626334491,
          1.012058329130322,
          1.0155265372734397,
          1.0227782452090497,
          0.9855738305828767,
          0.9827362057385076,
          1.003860746246589,
          0.9581434570873085,
          0.9546752489441908,
          0.9865197055309998,
          1.0536768268477357,
          0.9515223324504473,
          0.9717009980104054,
          1.052100368600864,
          1.0227782452090497,
          0.9206237508117612,
          0.9956631633628559,
          0.9880961637778716,
          0.9559364155416881,
          0.954990540593565,
          0.9909337886222407,
          0.9322895418386121,
          0.9638187067760468,
          0.9288213336954942,
          0.9464776660604577,
          0.9262990005004995,
          0.9124261679280282,
          0.9010756685505517,
          0.8903557524718239,
          0.8730147117562348,
          0.8648171288725017,
          0.8399090885719284,
          0.8257209643500827,
          0.8140551733232319,
          0.7986058825038889,
          0.7774813419958075,
          0.7667614259170797
         ]
        }
       ],
       "layout": {
        "annotations": [
         {
          "showarrow": false,
          "text": "nytimes",
          "x": -0.1,
          "y": 4,
          "yshift": 1
         },
         {
          "showarrow": false,
          "text": "womansday",
          "x": -0.1,
          "y": 3,
          "yshift": 1
         },
         {
          "showarrow": false,
          "text": "espn",
          "x": -0.1,
          "y": 2,
          "yshift": 1
         },
         {
          "showarrow": false,
          "text": "wsj",
          "x": -0.1,
          "y": 1,
          "yshift": 1
         }
        ],
        "showlegend": false,
        "template": {
         "data": {
          "bar": [
           {
            "error_x": {
             "color": "#2a3f5f"
            },
            "error_y": {
             "color": "#2a3f5f"
            },
            "marker": {
             "line": {
              "color": "#E5ECF6",
              "width": 0.5
             },
             "pattern": {
              "fillmode": "overlay",
              "size": 10,
              "solidity": 0.2
             }
            },
            "type": "bar"
           }
          ],
          "barpolar": [
           {
            "marker": {
             "line": {
              "color": "#E5ECF6",
              "width": 0.5
             },
             "pattern": {
              "fillmode": "overlay",
              "size": 10,
              "solidity": 0.2
             }
            },
            "type": "barpolar"
           }
          ],
          "carpet": [
           {
            "aaxis": {
             "endlinecolor": "#2a3f5f",
             "gridcolor": "white",
             "linecolor": "white",
             "minorgridcolor": "white",
             "startlinecolor": "#2a3f5f"
            },
            "baxis": {
             "endlinecolor": "#2a3f5f",
             "gridcolor": "white",
             "linecolor": "white",
             "minorgridcolor": "white",
             "startlinecolor": "#2a3f5f"
            },
            "type": "carpet"
           }
          ],
          "choropleth": [
           {
            "colorbar": {
             "outlinewidth": 0,
             "ticks": ""
            },
            "type": "choropleth"
           }
          ],
          "contour": [
           {
            "colorbar": {
             "outlinewidth": 0,
             "ticks": ""
            },
            "colorscale": [
             [
              0,
              "#0d0887"
             ],
             [
              0.1111111111111111,
              "#46039f"
             ],
             [
              0.2222222222222222,
              "#7201a8"
             ],
             [
              0.3333333333333333,
              "#9c179e"
             ],
             [
              0.4444444444444444,
              "#bd3786"
             ],
             [
              0.5555555555555556,
              "#d8576b"
             ],
             [
              0.6666666666666666,
              "#ed7953"
             ],
             [
              0.7777777777777778,
              "#fb9f3a"
             ],
             [
              0.8888888888888888,
              "#fdca26"
             ],
             [
              1,
              "#f0f921"
             ]
            ],
            "type": "contour"
           }
          ],
          "contourcarpet": [
           {
            "colorbar": {
             "outlinewidth": 0,
             "ticks": ""
            },
            "type": "contourcarpet"
           }
          ],
          "heatmap": [
           {
            "colorbar": {
             "outlinewidth": 0,
             "ticks": ""
            },
            "colorscale": [
             [
              0,
              "#0d0887"
             ],
             [
              0.1111111111111111,
              "#46039f"
             ],
             [
              0.2222222222222222,
              "#7201a8"
             ],
             [
              0.3333333333333333,
              "#9c179e"
             ],
             [
              0.4444444444444444,
              "#bd3786"
             ],
             [
              0.5555555555555556,
              "#d8576b"
             ],
             [
              0.6666666666666666,
              "#ed7953"
             ],
             [
              0.7777777777777778,
              "#fb9f3a"
             ],
             [
              0.8888888888888888,
              "#fdca26"
             ],
             [
              1,
              "#f0f921"
             ]
            ],
            "type": "heatmap"
           }
          ],
          "heatmapgl": [
           {
            "colorbar": {
             "outlinewidth": 0,
             "ticks": ""
            },
            "colorscale": [
             [
              0,
              "#0d0887"
             ],
             [
              0.1111111111111111,
              "#46039f"
             ],
             [
              0.2222222222222222,
              "#7201a8"
             ],
             [
              0.3333333333333333,
              "#9c179e"
             ],
             [
              0.4444444444444444,
              "#bd3786"
             ],
             [
              0.5555555555555556,
              "#d8576b"
             ],
             [
              0.6666666666666666,
              "#ed7953"
             ],
             [
              0.7777777777777778,
              "#fb9f3a"
             ],
             [
              0.8888888888888888,
              "#fdca26"
             ],
             [
              1,
              "#f0f921"
             ]
            ],
            "type": "heatmapgl"
           }
          ],
          "histogram": [
           {
            "marker": {
             "pattern": {
              "fillmode": "overlay",
              "size": 10,
              "solidity": 0.2
             }
            },
            "type": "histogram"
           }
          ],
          "histogram2d": [
           {
            "colorbar": {
             "outlinewidth": 0,
             "ticks": ""
            },
            "colorscale": [
             [
              0,
              "#0d0887"
             ],
             [
              0.1111111111111111,
              "#46039f"
             ],
             [
              0.2222222222222222,
              "#7201a8"
             ],
             [
              0.3333333333333333,
              "#9c179e"
             ],
             [
              0.4444444444444444,
              "#bd3786"
             ],
             [
              0.5555555555555556,
              "#d8576b"
             ],
             [
              0.6666666666666666,
              "#ed7953"
             ],
             [
              0.7777777777777778,
              "#fb9f3a"
             ],
             [
              0.8888888888888888,
              "#fdca26"
             ],
             [
              1,
              "#f0f921"
             ]
            ],
            "type": "histogram2d"
           }
          ],
          "histogram2dcontour": [
           {
            "colorbar": {
             "outlinewidth": 0,
             "ticks": ""
            },
            "colorscale": [
             [
              0,
              "#0d0887"
             ],
             [
              0.1111111111111111,
              "#46039f"
             ],
             [
              0.2222222222222222,
              "#7201a8"
             ],
             [
              0.3333333333333333,
              "#9c179e"
             ],
             [
              0.4444444444444444,
              "#bd3786"
             ],
             [
              0.5555555555555556,
              "#d8576b"
             ],
             [
              0.6666666666666666,
              "#ed7953"
             ],
             [
              0.7777777777777778,
              "#fb9f3a"
             ],
             [
              0.8888888888888888,
              "#fdca26"
             ],
             [
              1,
              "#f0f921"
             ]
            ],
            "type": "histogram2dcontour"
           }
          ],
          "mesh3d": [
           {
            "colorbar": {
             "outlinewidth": 0,
             "ticks": ""
            },
            "type": "mesh3d"
           }
          ],
          "parcoords": [
           {
            "line": {
             "colorbar": {
              "outlinewidth": 0,
              "ticks": ""
             }
            },
            "type": "parcoords"
           }
          ],
          "pie": [
           {
            "automargin": true,
            "type": "pie"
           }
          ],
          "scatter": [
           {
            "marker": {
             "colorbar": {
              "outlinewidth": 0,
              "ticks": ""
             }
            },
            "type": "scatter"
           }
          ],
          "scatter3d": [
           {
            "line": {
             "colorbar": {
              "outlinewidth": 0,
              "ticks": ""
             }
            },
            "marker": {
             "colorbar": {
              "outlinewidth": 0,
              "ticks": ""
             }
            },
            "type": "scatter3d"
           }
          ],
          "scattercarpet": [
           {
            "marker": {
             "colorbar": {
              "outlinewidth": 0,
              "ticks": ""
             }
            },
            "type": "scattercarpet"
           }
          ],
          "scattergeo": [
           {
            "marker": {
             "colorbar": {
              "outlinewidth": 0,
              "ticks": ""
             }
            },
            "type": "scattergeo"
           }
          ],
          "scattergl": [
           {
            "marker": {
             "colorbar": {
              "outlinewidth": 0,
              "ticks": ""
             }
            },
            "type": "scattergl"
           }
          ],
          "scattermapbox": [
           {
            "marker": {
             "colorbar": {
              "outlinewidth": 0,
              "ticks": ""
             }
            },
            "type": "scattermapbox"
           }
          ],
          "scatterpolar": [
           {
            "marker": {
             "colorbar": {
              "outlinewidth": 0,
              "ticks": ""
             }
            },
            "type": "scatterpolar"
           }
          ],
          "scatterpolargl": [
           {
            "marker": {
             "colorbar": {
              "outlinewidth": 0,
              "ticks": ""
             }
            },
            "type": "scatterpolargl"
           }
          ],
          "scatterternary": [
           {
            "marker": {
             "colorbar": {
              "outlinewidth": 0,
              "ticks": ""
             }
            },
            "type": "scatterternary"
           }
          ],
          "surface": [
           {
            "colorbar": {
             "outlinewidth": 0,
             "ticks": ""
            },
            "colorscale": [
             [
              0,
              "#0d0887"
             ],
             [
              0.1111111111111111,
              "#46039f"
             ],
             [
              0.2222222222222222,
              "#7201a8"
             ],
             [
              0.3333333333333333,
              "#9c179e"
             ],
             [
              0.4444444444444444,
              "#bd3786"
             ],
             [
              0.5555555555555556,
              "#d8576b"
             ],
             [
              0.6666666666666666,
              "#ed7953"
             ],
             [
              0.7777777777777778,
              "#fb9f3a"
             ],
             [
              0.8888888888888888,
              "#fdca26"
             ],
             [
              1,
              "#f0f921"
             ]
            ],
            "type": "surface"
           }
          ],
          "table": [
           {
            "cells": {
             "fill": {
              "color": "#EBF0F8"
             },
             "line": {
              "color": "white"
             }
            },
            "header": {
             "fill": {
              "color": "#C8D4E3"
             },
             "line": {
              "color": "white"
             }
            },
            "type": "table"
           }
          ]
         },
         "layout": {
          "annotationdefaults": {
           "arrowcolor": "#2a3f5f",
           "arrowhead": 0,
           "arrowwidth": 1
          },
          "autotypenumbers": "strict",
          "coloraxis": {
           "colorbar": {
            "outlinewidth": 0,
            "ticks": ""
           }
          },
          "colorscale": {
           "diverging": [
            [
             0,
             "#8e0152"
            ],
            [
             0.1,
             "#c51b7d"
            ],
            [
             0.2,
             "#de77ae"
            ],
            [
             0.3,
             "#f1b6da"
            ],
            [
             0.4,
             "#fde0ef"
            ],
            [
             0.5,
             "#f7f7f7"
            ],
            [
             0.6,
             "#e6f5d0"
            ],
            [
             0.7,
             "#b8e186"
            ],
            [
             0.8,
             "#7fbc41"
            ],
            [
             0.9,
             "#4d9221"
            ],
            [
             1,
             "#276419"
            ]
           ],
           "sequential": [
            [
             0,
             "#0d0887"
            ],
            [
             0.1111111111111111,
             "#46039f"
            ],
            [
             0.2222222222222222,
             "#7201a8"
            ],
            [
             0.3333333333333333,
             "#9c179e"
            ],
            [
             0.4444444444444444,
             "#bd3786"
            ],
            [
             0.5555555555555556,
             "#d8576b"
            ],
            [
             0.6666666666666666,
             "#ed7953"
            ],
            [
             0.7777777777777778,
             "#fb9f3a"
            ],
            [
             0.8888888888888888,
             "#fdca26"
            ],
            [
             1,
             "#f0f921"
            ]
           ],
           "sequentialminus": [
            [
             0,
             "#0d0887"
            ],
            [
             0.1111111111111111,
             "#46039f"
            ],
            [
             0.2222222222222222,
             "#7201a8"
            ],
            [
             0.3333333333333333,
             "#9c179e"
            ],
            [
             0.4444444444444444,
             "#bd3786"
            ],
            [
             0.5555555555555556,
             "#d8576b"
            ],
            [
             0.6666666666666666,
             "#ed7953"
            ],
            [
             0.7777777777777778,
             "#fb9f3a"
            ],
            [
             0.8888888888888888,
             "#fdca26"
            ],
            [
             1,
             "#f0f921"
            ]
           ]
          },
          "colorway": [
           "#636efa",
           "#EF553B",
           "#00cc96",
           "#ab63fa",
           "#FFA15A",
           "#19d3f3",
           "#FF6692",
           "#B6E880",
           "#FF97FF",
           "#FECB52"
          ],
          "font": {
           "color": "#2a3f5f"
          },
          "geo": {
           "bgcolor": "white",
           "lakecolor": "white",
           "landcolor": "#E5ECF6",
           "showlakes": true,
           "showland": true,
           "subunitcolor": "white"
          },
          "hoverlabel": {
           "align": "left"
          },
          "hovermode": "closest",
          "mapbox": {
           "style": "light"
          },
          "paper_bgcolor": "white",
          "plot_bgcolor": "#E5ECF6",
          "polar": {
           "angularaxis": {
            "gridcolor": "white",
            "linecolor": "white",
            "ticks": ""
           },
           "bgcolor": "#E5ECF6",
           "radialaxis": {
            "gridcolor": "white",
            "linecolor": "white",
            "ticks": ""
           }
          },
          "scene": {
           "xaxis": {
            "backgroundcolor": "#E5ECF6",
            "gridcolor": "white",
            "gridwidth": 2,
            "linecolor": "white",
            "showbackground": true,
            "ticks": "",
            "zerolinecolor": "white"
           },
           "yaxis": {
            "backgroundcolor": "#E5ECF6",
            "gridcolor": "white",
            "gridwidth": 2,
            "linecolor": "white",
            "showbackground": true,
            "ticks": "",
            "zerolinecolor": "white"
           },
           "zaxis": {
            "backgroundcolor": "#E5ECF6",
            "gridcolor": "white",
            "gridwidth": 2,
            "linecolor": "white",
            "showbackground": true,
            "ticks": "",
            "zerolinecolor": "white"
           }
          },
          "shapedefaults": {
           "line": {
            "color": "#2a3f5f"
           }
          },
          "ternary": {
           "aaxis": {
            "gridcolor": "white",
            "linecolor": "white",
            "ticks": ""
           },
           "baxis": {
            "gridcolor": "white",
            "linecolor": "white",
            "ticks": ""
           },
           "bgcolor": "#E5ECF6",
           "caxis": {
            "gridcolor": "white",
            "linecolor": "white",
            "ticks": ""
           }
          },
          "title": {
           "x": 0.05
          },
          "xaxis": {
           "automargin": true,
           "gridcolor": "white",
           "linecolor": "white",
           "ticks": "",
           "title": {
            "standoff": 15
           },
           "zerolinecolor": "white",
           "zerolinewidth": 2
          },
          "yaxis": {
           "automargin": true,
           "gridcolor": "white",
           "linecolor": "white",
           "ticks": "",
           "title": {
            "standoff": 15
           },
           "zerolinecolor": "white",
           "zerolinewidth": 2
          }
         }
        },
        "title": {
         "text": "Distribution of compound score"
        },
        "xaxis": {
         "title": {
          "text": "Compound score"
         }
        },
        "yaxis": {
         "showticklabels": false
        }
       }
      }
     },
     "metadata": {},
     "output_type": "display_data"
    }
   ],
   "source": [
    "media_list = ['nytimes', 'womansday', 'espn', 'wsj']\n",
    "\n",
    "import plotly.graph_objects as go\n",
    "fig = go.Figure()\n",
    "for index, year in enumerate(media_list):\n",
    "    fig.add_trace(go.Scatter(\n",
    "                            x=[-1, 1], y=np.full(5, len(media_list)-index)+0.4,\n",
    "                            mode='lines',\n",
    "                            line_color='white'))\n",
    "    \n",
    "    fig.add_trace(go.Scatter(\n",
    "                            x=array_dict[f'x_{year}'],\n",
    "                            y=array_dict[f'y_{year}'] + (len(media_list)-index) ,\n",
    "                            fill='tonexty',\n",
    "                            name=f'{year}'))\n",
    "    \n",
    "    # plotly.graph_objects' way of adding text to a figure\n",
    "    fig.add_annotation(\n",
    "                        x=-0.1,\n",
    "                        y=len(media_list)-index,\n",
    "                        text=f'{year}',\n",
    "                        showarrow=False,\n",
    "                        yshift=1)\n",
    "\n",
    "# here you can modify the figure and the legend titles\n",
    "fig.update_layout(\n",
    "                title='Distribution of compound score',\n",
    "                showlegend=False,\n",
    "                xaxis=dict(title='Compound score'),\n",
    "                yaxis=dict(showticklabels=False) # that way you hide the y axis ticks labels\n",
    "                )\n",
    "\n",
    "fig.show()\n",
    "fig.write_html(\"images/polarity_distribution.html\")"
   ]
  },
  {
   "cell_type": "code",
   "execution_count": 146,
   "metadata": {},
   "outputs": [],
   "source": [
    "date_nytimes = nytimes.groupby('date_short').positive.mean().reset_index()"
   ]
  },
  {
   "cell_type": "code",
   "execution_count": 147,
   "metadata": {},
   "outputs": [
    {
     "data": {
      "text/plain": [
       "[<matplotlib.lines.Line2D at 0x1cb9ac80e50>]"
      ]
     },
     "execution_count": 147,
     "metadata": {},
     "output_type": "execute_result"
    },
    {
     "data": {
      "image/png": "[encoded data removed]",
      "text/plain": [
       "<Figure size 1440x720 with 1 Axes>"
      ]
     },
     "metadata": {},
     "output_type": "display_data"
    }
   ],
   "source": [
    "fig, ax = plt.subplots(figsize=(20,10))\n",
    "ax.plot(date_nytimes['positive'])"
   ]
  },
  {
   "cell_type": "code",
   "execution_count": 148,
   "metadata": {},
   "outputs": [
    {
     "name": "stderr",
     "output_type": "stream",
     "text": [
      "C:\\Users\\asbjo\\anaconda3\\envs\\ADA\\lib\\site-packages\\seaborn\\_decorators.py:36: FutureWarning: Pass the following variables as keyword args: x, y. From version 0.12, the only valid positional argument will be `data`, and passing other arguments without an explicit keyword will result in an error or misinterpretation.\n",
      "  warnings.warn(\n"
     ]
    },
    {
     "data": {
      "text/plain": [
       "<AxesSubplot:xlabel='blob_subj', ylabel='blob_polar'>"
      ]
     },
     "execution_count": 148,
     "metadata": {},
     "output_type": "execute_result"
    },
    {
     "data": {
      "image/png": "[encoded data removed]",
      "text/plain": [
       "<Figure size 432x288 with 1 Axes>"
      ]
     },
     "metadata": {},
     "output_type": "display_data"
    }
   ],
   "source": [
    "sns.scatterplot(nytimes['blob_subj'] , nytimes['blob_polar'])"
   ]
  },
  {
   "cell_type": "code",
   "execution_count": 149,
   "metadata": {},
   "outputs": [],
   "source": [
    "mtv = add_time(mtv)"
   ]
  },
  {
   "cell_type": "code",
   "execution_count": 150,
   "metadata": {},
   "outputs": [],
   "source": [
    "day_mtv = mtv.groupby('weekday_number').compound.mean()\n",
    "month_mtv = mtv.groupby('Month').compound.mean().reset_index()\n",
    "date_mtv = mtv.groupby('date_short').compound.mean().reset_index()\n"
   ]
  },
  {
   "cell_type": "code",
   "execution_count": 151,
   "metadata": {},
   "outputs": [
    {
     "data": {
      "text/plain": [
       "[<matplotlib.lines.Line2D at 0x1cba2c99340>]"
      ]
     },
     "execution_count": 151,
     "metadata": {},
     "output_type": "execute_result"
    },
    {
     "data": {
      "image/png": "[encoded data removed]",
      "text/plain": [
       "<Figure size 1440x720 with 1 Axes>"
      ]
     },
     "metadata": {},
     "output_type": "display_data"
    }
   ],
   "source": [
    "fig, ax = plt.subplots(figsize=(20,10))\n",
    "ax.plot(date_mtv['compound'])"
   ]
  },
  {
   "cell_type": "code",
   "execution_count": 152,
   "metadata": {},
   "outputs": [
    {
     "data": {
      "text/plain": [
       "[<matplotlib.lines.Line2D at 0x1cba01efe50>]"
      ]
     },
     "execution_count": 152,
     "metadata": {},
     "output_type": "execute_result"
    },
    {
     "data": {
      "image/png": "[encoded data removed]",
      "text/plain": [
       "<Figure size 1440x720 with 1 Axes>"
      ]
     },
     "metadata": {},
     "output_type": "display_data"
    }
   ],
   "source": [
    "fig, ax = plt.subplots(figsize=(20,10))\n",
    "ax.plot(day_mtv)"
   ]
  },
  {
   "cell_type": "code",
   "execution_count": 161,
   "metadata": {},
   "outputs": [
    {
     "ename": "KeyError",
     "evalue": "'weekday_number'",
     "output_type": "error",
     "traceback": [
      "\u001b[1;31m---------------------------------------------------------------------------\u001b[0m",
      "\u001b[1;31mKeyError\u001b[0m                                  Traceback (most recent call last)",
      "\u001b[1;32m~\\AppData\\Local\\Temp/ipykernel_18160/1675955813.py\u001b[0m in \u001b[0;36m<module>\u001b[1;34m\u001b[0m\n\u001b[1;32m----> 1\u001b[1;33m \u001b[0mday_espn\u001b[0m \u001b[1;33m=\u001b[0m \u001b[0mespn\u001b[0m\u001b[1;33m.\u001b[0m\u001b[0mgroupby\u001b[0m\u001b[1;33m(\u001b[0m\u001b[1;34m'weekday_number'\u001b[0m\u001b[1;33m)\u001b[0m\u001b[1;33m.\u001b[0m\u001b[0mcompound\u001b[0m\u001b[1;33m.\u001b[0m\u001b[0mmean\u001b[0m\u001b[1;33m(\u001b[0m\u001b[1;33m)\u001b[0m\u001b[1;33m\u001b[0m\u001b[1;33m\u001b[0m\u001b[0m\n\u001b[0m\u001b[0;32m      2\u001b[0m \u001b[0mmonth_espn\u001b[0m \u001b[1;33m=\u001b[0m \u001b[0mespn\u001b[0m\u001b[1;33m.\u001b[0m\u001b[0mgroupby\u001b[0m\u001b[1;33m(\u001b[0m\u001b[1;34m'Month'\u001b[0m\u001b[1;33m)\u001b[0m\u001b[1;33m.\u001b[0m\u001b[0mcompound\u001b[0m\u001b[1;33m.\u001b[0m\u001b[0mmean\u001b[0m\u001b[1;33m(\u001b[0m\u001b[1;33m)\u001b[0m\u001b[1;33m.\u001b[0m\u001b[0mreset_index\u001b[0m\u001b[1;33m(\u001b[0m\u001b[1;33m)\u001b[0m\u001b[1;33m\u001b[0m\u001b[1;33m\u001b[0m\u001b[0m\n\u001b[0;32m      3\u001b[0m \u001b[0mdate_espn\u001b[0m \u001b[1;33m=\u001b[0m \u001b[0mespn\u001b[0m\u001b[1;33m.\u001b[0m\u001b[0mgroupby\u001b[0m\u001b[1;33m(\u001b[0m\u001b[1;34m'date_short'\u001b[0m\u001b[1;33m)\u001b[0m\u001b[1;33m.\u001b[0m\u001b[0mcompound\u001b[0m\u001b[1;33m.\u001b[0m\u001b[0mmean\u001b[0m\u001b[1;33m(\u001b[0m\u001b[1;33m)\u001b[0m\u001b[1;33m.\u001b[0m\u001b[0mreset_index\u001b[0m\u001b[1;33m(\u001b[0m\u001b[1;33m)\u001b[0m\u001b[1;33m\u001b[0m\u001b[1;33m\u001b[0m\u001b[0m\n\u001b[0;32m      4\u001b[0m \u001b[0mday_wsj\u001b[0m \u001b[1;33m=\u001b[0m \u001b[0mwsj\u001b[0m\u001b[1;33m.\u001b[0m\u001b[0mgroupby\u001b[0m\u001b[1;33m(\u001b[0m\u001b[1;34m'weekday_number'\u001b[0m\u001b[1;33m)\u001b[0m\u001b[1;33m.\u001b[0m\u001b[0mcompound\u001b[0m\u001b[1;33m.\u001b[0m\u001b[0mmean\u001b[0m\u001b[1;33m(\u001b[0m\u001b[1;33m)\u001b[0m\u001b[1;33m\u001b[0m\u001b[1;33m\u001b[0m\u001b[0m\n\u001b[0;32m      5\u001b[0m \u001b[0mmonth_wsj\u001b[0m \u001b[1;33m=\u001b[0m \u001b[0mwsj\u001b[0m\u001b[1;33m.\u001b[0m\u001b[0mgroupby\u001b[0m\u001b[1;33m(\u001b[0m\u001b[1;34m'Month'\u001b[0m\u001b[1;33m)\u001b[0m\u001b[1;33m.\u001b[0m\u001b[0mcompound\u001b[0m\u001b[1;33m.\u001b[0m\u001b[0mmean\u001b[0m\u001b[1;33m(\u001b[0m\u001b[1;33m)\u001b[0m\u001b[1;33m.\u001b[0m\u001b[0mreset_index\u001b[0m\u001b[1;33m(\u001b[0m\u001b[1;33m)\u001b[0m\u001b[1;33m\u001b[0m\u001b[1;33m\u001b[0m\u001b[0m\n",
      "\u001b[1;32m~\\anaconda3\\envs\\ADA\\lib\\site-packages\\pandas\\core\\frame.py\u001b[0m in \u001b[0;36mgroupby\u001b[1;34m(self, by, axis, level, as_index, sort, group_keys, squeeze, observed)\u001b[0m\n\u001b[0;32m   5799\u001b[0m         \u001b[0maxis\u001b[0m \u001b[1;33m=\u001b[0m \u001b[0mself\u001b[0m\u001b[1;33m.\u001b[0m\u001b[0m_get_axis_number\u001b[0m\u001b[1;33m(\u001b[0m\u001b[0maxis\u001b[0m\u001b[1;33m)\u001b[0m\u001b[1;33m\u001b[0m\u001b[1;33m\u001b[0m\u001b[0m\n\u001b[0;32m   5800\u001b[0m \u001b[1;33m\u001b[0m\u001b[0m\n\u001b[1;32m-> 5801\u001b[1;33m         return groupby_generic.DataFrameGroupBy(\n\u001b[0m\u001b[0;32m   5802\u001b[0m             \u001b[0mobj\u001b[0m\u001b[1;33m=\u001b[0m\u001b[0mself\u001b[0m\u001b[1;33m,\u001b[0m\u001b[1;33m\u001b[0m\u001b[1;33m\u001b[0m\u001b[0m\n\u001b[0;32m   5803\u001b[0m             \u001b[0mkeys\u001b[0m\u001b[1;33m=\u001b[0m\u001b[0mby\u001b[0m\u001b[1;33m,\u001b[0m\u001b[1;33m\u001b[0m\u001b[1;33m\u001b[0m\u001b[0m\n",
      "\u001b[1;32m~\\anaconda3\\envs\\ADA\\lib\\site-packages\\pandas\\core\\groupby\\groupby.py\u001b[0m in \u001b[0;36m__init__\u001b[1;34m(self, obj, keys, axis, level, grouper, exclusions, selection, as_index, sort, group_keys, squeeze, observed, mutated)\u001b[0m\n\u001b[0;32m    401\u001b[0m             \u001b[1;32mfrom\u001b[0m \u001b[0mpandas\u001b[0m\u001b[1;33m.\u001b[0m\u001b[0mcore\u001b[0m\u001b[1;33m.\u001b[0m\u001b[0mgroupby\u001b[0m\u001b[1;33m.\u001b[0m\u001b[0mgrouper\u001b[0m \u001b[1;32mimport\u001b[0m \u001b[0mget_grouper\u001b[0m\u001b[1;33m\u001b[0m\u001b[1;33m\u001b[0m\u001b[0m\n\u001b[0;32m    402\u001b[0m \u001b[1;33m\u001b[0m\u001b[0m\n\u001b[1;32m--> 403\u001b[1;33m             grouper, exclusions, obj = get_grouper(\n\u001b[0m\u001b[0;32m    404\u001b[0m                 \u001b[0mobj\u001b[0m\u001b[1;33m,\u001b[0m\u001b[1;33m\u001b[0m\u001b[1;33m\u001b[0m\u001b[0m\n\u001b[0;32m    405\u001b[0m                 \u001b[0mkeys\u001b[0m\u001b[1;33m,\u001b[0m\u001b[1;33m\u001b[0m\u001b[1;33m\u001b[0m\u001b[0m\n",
      "\u001b[1;32m~\\anaconda3\\envs\\ADA\\lib\\site-packages\\pandas\\core\\groupby\\grouper.py\u001b[0m in \u001b[0;36mget_grouper\u001b[1;34m(obj, key, axis, level, sort, observed, mutated, validate)\u001b[0m\n\u001b[0;32m    598\u001b[0m                 \u001b[0min_axis\u001b[0m\u001b[1;33m,\u001b[0m \u001b[0mname\u001b[0m\u001b[1;33m,\u001b[0m \u001b[0mlevel\u001b[0m\u001b[1;33m,\u001b[0m \u001b[0mgpr\u001b[0m \u001b[1;33m=\u001b[0m \u001b[1;32mFalse\u001b[0m\u001b[1;33m,\u001b[0m \u001b[1;32mNone\u001b[0m\u001b[1;33m,\u001b[0m \u001b[0mgpr\u001b[0m\u001b[1;33m,\u001b[0m \u001b[1;32mNone\u001b[0m\u001b[1;33m\u001b[0m\u001b[1;33m\u001b[0m\u001b[0m\n\u001b[0;32m    599\u001b[0m             \u001b[1;32melse\u001b[0m\u001b[1;33m:\u001b[0m\u001b[1;33m\u001b[0m\u001b[1;33m\u001b[0m\u001b[0m\n\u001b[1;32m--> 600\u001b[1;33m                 \u001b[1;32mraise\u001b[0m \u001b[0mKeyError\u001b[0m\u001b[1;33m(\u001b[0m\u001b[0mgpr\u001b[0m\u001b[1;33m)\u001b[0m\u001b[1;33m\u001b[0m\u001b[1;33m\u001b[0m\u001b[0m\n\u001b[0m\u001b[0;32m    601\u001b[0m         \u001b[1;32melif\u001b[0m \u001b[0misinstance\u001b[0m\u001b[1;33m(\u001b[0m\u001b[0mgpr\u001b[0m\u001b[1;33m,\u001b[0m \u001b[0mGrouper\u001b[0m\u001b[1;33m)\u001b[0m \u001b[1;32mand\u001b[0m \u001b[0mgpr\u001b[0m\u001b[1;33m.\u001b[0m\u001b[0mkey\u001b[0m \u001b[1;32mis\u001b[0m \u001b[1;32mnot\u001b[0m \u001b[1;32mNone\u001b[0m\u001b[1;33m:\u001b[0m\u001b[1;33m\u001b[0m\u001b[1;33m\u001b[0m\u001b[0m\n\u001b[0;32m    602\u001b[0m             \u001b[1;31m# Add key to exclusions\u001b[0m\u001b[1;33m\u001b[0m\u001b[1;33m\u001b[0m\u001b[1;33m\u001b[0m\u001b[0m\n",
      "\u001b[1;31mKeyError\u001b[0m: 'weekday_number'"
     ]
    }
   ],
   "source": [
    "day_espn = espn.groupby('weekday_number').compound.mean()\n",
    "month_espn = espn.groupby('Month').compound.mean().reset_index()\n",
    "date_espn = espn.groupby('date_short').compound.mean().reset_index()\n",
    "day_wsj = wsj.groupby('weekday_number').compound.mean()\n",
    "month_wsj = wsj.groupby('Month').compound.mean().reset_index()\n",
    "date_wsj = wsj.groupby('date_short').compound.mean().reset_index()\n",
    "day_people = people.groupby('weekday_number').compound.mean()\n",
    "month_people = people.groupby('Month').compound.mean().reset_index()\n",
    "date_people = people.groupby('date_short').compound.mean().reset_index()\n",
    "day_tmz = tmz.groupby('weekday_number').compound.mean()\n",
    "month_tmz = tmz.groupby('Month').compound.mean().reset_index()\n",
    "date_tmz = tmz.groupby('date_short').compound.mean().reset_index()"
   ]
  },
  {
   "cell_type": "code",
   "execution_count": null,
   "metadata": {},
   "outputs": [
    {
     "data": {
      "text/plain": [
       "[<matplotlib.lines.Line2D at 0x24918fc4100>]"
      ]
     },
     "execution_count": 86,
     "metadata": {},
     "output_type": "execute_result"
    },
    {
     "data": {
      "image/png": "[encoded data removed]",
      "text/plain": [
       "<Figure size 1440x720 with 1 Axes>"
      ]
     },
     "metadata": {
      "needs_background": "light"
     },
     "output_type": "display_data"
    }
   ],
   "source": [
    "fig, ax = plt.subplots(figsize=(20,10))\n",
    "ax.plot(day_espn)\n",
    "ax.plot(day_nytimes)\n",
    "ax.plot(day_espn)\n",
    "ax.plot(day_wsj)\n",
    "ax.plot(day_tmz)\n",
    "ax.plot(day_people)"
   ]
  },
  {
   "cell_type": "code",
   "execution_count": null,
   "metadata": {},
   "outputs": [
    {
     "data": {
      "text/plain": [
       "[<matplotlib.lines.Line2D at 0x24919cf7370>]"
      ]
     },
     "execution_count": 81,
     "metadata": {},
     "output_type": "execute_result"
    },
    {
     "data": {
      "image/png": "[encoded data removed]",
      "text/plain": [
       "<Figure size 1440x720 with 1 Axes>"
      ]
     },
     "metadata": {
      "needs_background": "light"
     },
     "output_type": "display_data"
    }
   ],
   "source": [
    "fig, ax = plt.subplots(figsize=(20,10))\n",
    "ax.plot(day_espn)"
   ]
  },
  {
   "cell_type": "code",
   "execution_count": null,
   "metadata": {},
   "outputs": [],
   "source": [
    "womansday = add_time(womansday)"
   ]
  },
  {
   "cell_type": "code",
   "execution_count": null,
   "metadata": {},
   "outputs": [],
   "source": [
    "fig, ax = plt.subplots(2,2,figsize=(20,10))\n",
    "ax.plot(day_mtv)"
   ]
  },
  {
   "cell_type": "code",
   "execution_count": null,
   "metadata": {},
   "outputs": [
    {
     "data": {
      "text/plain": [
       "[<matplotlib.lines.Line2D at 0x2492835c160>]"
      ]
     },
     "execution_count": 91,
     "metadata": {},
     "output_type": "execute_result"
    },
    {
     "data": {
      "image/png": "[encoded data removed]",
      "text/plain": [
       "<Figure size 1440x720 with 1 Axes>"
      ]
     },
     "metadata": {
      "needs_background": "light"
     },
     "output_type": "display_data"
    }
   ],
   "source": [
    "fig, ax = plt.subplots(figsize=(20,10))\n",
    "ax.plot(month_espn['compound'])\n",
    "ax.plot(month_nytimes['compound'])\n",
    "ax.plot(month_espn['compound'])\n",
    "ax.plot(month_wsj['compound'])\n",
    "ax.plot(month_tmz['compound'])\n",
    "ax.plot(month_people['compound'])"
   ]
  },
  {
   "cell_type": "code",
   "execution_count": null,
   "metadata": {},
   "outputs": [
    {
     "data": {
      "text/html": [
       "<div>\n",
       "<style scoped>\n",
       "    .dataframe tbody tr th:only-of-type {\n",
       "        vertical-align: middle;\n",
       "    }\n",
       "\n",
       "    .dataframe tbody tr th {\n",
       "        vertical-align: top;\n",
       "    }\n",
       "\n",
       "    .dataframe thead th {\n",
       "        text-align: right;\n",
       "    }\n",
       "</style>\n",
       "<table border=\"1\" class=\"dataframe\">\n",
       "  <thead>\n",
       "    <tr style=\"text-align: right;\">\n",
       "      <th></th>\n",
       "      <th>x</th>\n",
       "      <th>g</th>\n",
       "    </tr>\n",
       "  </thead>\n",
       "  <tbody>\n",
       "    <tr>\n",
       "      <th>0</th>\n",
       "      <td>64.038123</td>\n",
       "      <td>A</td>\n",
       "    </tr>\n",
       "    <tr>\n",
       "      <th>1</th>\n",
       "      <td>66.147050</td>\n",
       "      <td>B</td>\n",
       "    </tr>\n",
       "    <tr>\n",
       "      <th>2</th>\n",
       "      <td>66.370011</td>\n",
       "      <td>C</td>\n",
       "    </tr>\n",
       "    <tr>\n",
       "      <th>3</th>\n",
       "      <td>68.791019</td>\n",
       "      <td>D</td>\n",
       "    </tr>\n",
       "    <tr>\n",
       "      <th>4</th>\n",
       "      <td>70.583534</td>\n",
       "      <td>E</td>\n",
       "    </tr>\n",
       "  </tbody>\n",
       "</table>\n",
       "</div>"
      ],
      "text/plain": [
       "           x  g\n",
       "0  64.038123  A\n",
       "1  66.147050  B\n",
       "2  66.370011  C\n",
       "3  68.791019  D\n",
       "4  70.583534  E"
      ]
     },
     "execution_count": 135,
     "metadata": {},
     "output_type": "execute_result"
    }
   ],
   "source": [
    "df.head()"
   ]
  },
  {
   "cell_type": "code",
   "execution_count": null,
   "metadata": {},
   "outputs": [],
   "source": []
  },
  {
   "cell_type": "code",
   "execution_count": null,
   "metadata": {},
   "outputs": [],
   "source": []
  },
  {
   "cell_type": "code",
   "execution_count": null,
   "metadata": {},
   "outputs": [],
   "source": []
  }
 ],
 "metadata": {
  "interpreter": {
   "hash": "f02b55953317407aa6a3868c665f9aa6d4ba331cc01e667e0182c896c3726979"
  },
  "kernelspec": {
   "display_name": "Python 3.8.11 64-bit ('ADA': conda)",
   "language": "python",
   "name": "python3"
  },
  "language_info": {
   "codemirror_mode": {
    "name": "ipython",
    "version": 3
   },
   "file_extension": ".py",
   "mimetype": "text/x-python",
   "name": "python",
   "nbconvert_exporter": "python",
   "pygments_lexer": "ipython3",
   "version": "3.8.11"
  },
  "orig_nbformat": 4
 },
 "nbformat": 4,
 "nbformat_minor": 2
}
