{
 "cells": [
  {
   "cell_type": "code",
   "execution_count": 176,
   "metadata": {},
   "outputs": [
    {
     "name": "stderr",
     "output_type": "stream",
     "text": [
      "[nltk_data] Downloading package vader_lexicon to\n",
      "[nltk_data]     C:\\Users\\asbjo\\AppData\\Roaming\\nltk_data...\n",
      "[nltk_data]   Package vader_lexicon is already up-to-date!\n"
     ]
    }
   ],
   "source": [
    "import pandas as pd\n",
    "import seaborn as sns\n",
    "from IPython.display import display, HTML\n",
    "import matplotlib.pyplot as plt\n",
    "import scipy.stats as stats\n",
    "import numpy as np\n",
    "import nltk as nltk\n",
    "#import pyarrow\n",
    "import bz2\n",
    "import json\n",
    "import datetime\n",
    "from iteration_utilities import deepflatten\n",
    "import nltk as nltk\n",
    "import scipy.stats as stats\n",
    "from nltk.sentiment.vader import SentimentIntensityAnalyzer\n",
    "nltk.download('vader_lexicon')\n",
    "pd.options.mode.chained_assignment = None"
   ]
  },
  {
   "cell_type": "code",
   "execution_count": 177,
   "metadata": {},
   "outputs": [
    {
     "name": "stderr",
     "output_type": "stream",
     "text": [
      "C:\\Users\\asbjo\\anaconda3\\envs\\ADA\\lib\\site-packages\\numpy\\lib\\arraysetops.py:583: FutureWarning: elementwise comparison failed; returning scalar instead, but in the future will perform elementwise comparison\n",
      "  mask |= (ar1 == a)\n"
     ]
    }
   ],
   "source": [
    "df_2015 = pd.read_csv('media_outlet_with_sentiment/clean-quotes-2015_with_sentiment.csv.bz2', compression='bz2', index_col=[0])\n"
   ]
  },
  {
   "cell_type": "code",
   "execution_count": 178,
   "metadata": {},
   "outputs": [],
   "source": [
    "df_2015['compound'] = pd.to_numeric(df_2015.compound, errors='coerce')"
   ]
  },
  {
   "cell_type": "code",
   "execution_count": 179,
   "metadata": {},
   "outputs": [
    {
     "data": {
      "text/plain": [
       "dtype('float64')"
      ]
     },
     "execution_count": 179,
     "metadata": {},
     "output_type": "execute_result"
    }
   ],
   "source": [
    "df_2015['compound'].dtype"
   ]
  },
  {
   "cell_type": "code",
   "execution_count": 180,
   "metadata": {},
   "outputs": [],
   "source": [
    "files = ['media_outlet_with_sentiment/clean-quotes-2015_with_sentiment.csv.bz2',\n",
    "    'media_outlet_with_sentiment/clean-quotes-2016_with_sentiment.csv.bz2',\n",
    "    'media_outlet_with_sentiment/clean-quotes-2017_with_sentiment.csv.bz2',\n",
    "    'media_outlet_with_sentiment/clean-quotes-2018_with_sentiment.csv.bz2',\n",
    "    'media_outlet_with_sentiment/clean-quotes-2019_with_sentiment.csv.bz2',\n",
    "    'media_outlet_with_sentiment/clean-quotes-2020_with_sentiment.csv.bz2']"
   ]
  },
  {
   "cell_type": "code",
   "execution_count": 181,
   "metadata": {},
   "outputs": [
    {
     "name": "stderr",
     "output_type": "stream",
     "text": [
      "C:\\Users\\asbjo\\anaconda3\\envs\\ADA\\lib\\site-packages\\IPython\\core\\interactiveshell.py:3441: DtypeWarning: Columns (2,3,4,5,6) have mixed types.Specify dtype option on import or set low_memory=False.\n",
      "  exec(code_obj, self.user_global_ns, self.user_ns)\n"
     ]
    }
   ],
   "source": [
    "df = pd.concat(map(pd.read_csv, [files[0], files[1],files[2], files[3], files[4], files[5]]))"
   ]
  },
  {
   "cell_type": "code",
   "execution_count": 182,
   "metadata": {},
   "outputs": [],
   "source": [
    "df['compound'] = pd.to_numeric(df.compound, errors='coerce')\n",
    "df['positive'] = pd.to_numeric(df.positive, errors='coerce')\n",
    "df['negative'] = pd.to_numeric(df.negative, errors='coerce')\n",
    "df['blob_polar'] = pd.to_numeric(df.blob_polar, errors='coerce')\n",
    "df['blob_subj'] = pd.to_numeric(df.blob_subj, errors='coerce')\n",
    "\n",
    "df = df.drop(axis=1, columns = 'Unnamed: 0')"
   ]
  },
  {
   "cell_type": "code",
   "execution_count": 183,
   "metadata": {},
   "outputs": [
    {
     "data": {
      "text/html": [
       "<div>\n",
       "<style scoped>\n",
       "    .dataframe tbody tr th:only-of-type {\n",
       "        vertical-align: middle;\n",
       "    }\n",
       "\n",
       "    .dataframe tbody tr th {\n",
       "        vertical-align: top;\n",
       "    }\n",
       "\n",
       "    .dataframe thead th {\n",
       "        text-align: right;\n",
       "    }\n",
       "</style>\n",
       "<table border=\"1\" class=\"dataframe\">\n",
       "  <thead>\n",
       "    <tr style=\"text-align: right;\">\n",
       "      <th></th>\n",
       "      <th>compound</th>\n",
       "      <th>positive</th>\n",
       "      <th>negative</th>\n",
       "      <th>blob_polar</th>\n",
       "      <th>blob_subj</th>\n",
       "    </tr>\n",
       "  </thead>\n",
       "  <tbody>\n",
       "    <tr>\n",
       "      <th>count</th>\n",
       "      <td>1.191700e+07</td>\n",
       "      <td>1.191700e+07</td>\n",
       "      <td>1.191700e+07</td>\n",
       "      <td>1.191700e+07</td>\n",
       "      <td>1.191700e+07</td>\n",
       "    </tr>\n",
       "    <tr>\n",
       "      <th>mean</th>\n",
       "      <td>1.522685e-01</td>\n",
       "      <td>1.239034e-01</td>\n",
       "      <td>6.751057e-02</td>\n",
       "      <td>1.070985e-01</td>\n",
       "      <td>3.821861e-01</td>\n",
       "    </tr>\n",
       "    <tr>\n",
       "      <th>std</th>\n",
       "      <td>4.606570e-01</td>\n",
       "      <td>1.416592e-01</td>\n",
       "      <td>1.135490e-01</td>\n",
       "      <td>2.694825e-01</td>\n",
       "      <td>3.010360e-01</td>\n",
       "    </tr>\n",
       "    <tr>\n",
       "      <th>min</th>\n",
       "      <td>-9.991000e-01</td>\n",
       "      <td>0.000000e+00</td>\n",
       "      <td>0.000000e+00</td>\n",
       "      <td>-1.000000e+00</td>\n",
       "      <td>0.000000e+00</td>\n",
       "    </tr>\n",
       "    <tr>\n",
       "      <th>25%</th>\n",
       "      <td>-2.580000e-02</td>\n",
       "      <td>0.000000e+00</td>\n",
       "      <td>0.000000e+00</td>\n",
       "      <td>0.000000e+00</td>\n",
       "      <td>0.000000e+00</td>\n",
       "    </tr>\n",
       "    <tr>\n",
       "      <th>50%</th>\n",
       "      <td>0.000000e+00</td>\n",
       "      <td>9.000000e-02</td>\n",
       "      <td>0.000000e+00</td>\n",
       "      <td>0.000000e+00</td>\n",
       "      <td>4.000000e-01</td>\n",
       "    </tr>\n",
       "    <tr>\n",
       "      <th>75%</th>\n",
       "      <td>5.267000e-01</td>\n",
       "      <td>2.070000e-01</td>\n",
       "      <td>1.070000e-01</td>\n",
       "      <td>2.500000e-01</td>\n",
       "      <td>6.000000e-01</td>\n",
       "    </tr>\n",
       "    <tr>\n",
       "      <th>max</th>\n",
       "      <td>9.996000e-01</td>\n",
       "      <td>1.000000e+00</td>\n",
       "      <td>1.000000e+00</td>\n",
       "      <td>1.000000e+00</td>\n",
       "      <td>1.000000e+00</td>\n",
       "    </tr>\n",
       "  </tbody>\n",
       "</table>\n",
       "</div>"
      ],
      "text/plain": [
       "           compound      positive      negative    blob_polar     blob_subj\n",
       "count  1.191700e+07  1.191700e+07  1.191700e+07  1.191700e+07  1.191700e+07\n",
       "mean   1.522685e-01  1.239034e-01  6.751057e-02  1.070985e-01  3.821861e-01\n",
       "std    4.606570e-01  1.416592e-01  1.135490e-01  2.694825e-01  3.010360e-01\n",
       "min   -9.991000e-01  0.000000e+00  0.000000e+00 -1.000000e+00  0.000000e+00\n",
       "25%   -2.580000e-02  0.000000e+00  0.000000e+00  0.000000e+00  0.000000e+00\n",
       "50%    0.000000e+00  9.000000e-02  0.000000e+00  0.000000e+00  4.000000e-01\n",
       "75%    5.267000e-01  2.070000e-01  1.070000e-01  2.500000e-01  6.000000e-01\n",
       "max    9.996000e-01  1.000000e+00  1.000000e+00  1.000000e+00  1.000000e+00"
      ]
     },
     "execution_count": 183,
     "metadata": {},
     "output_type": "execute_result"
    }
   ],
   "source": [
    "df.describe()"
   ]
  },
  {
   "cell_type": "code",
   "execution_count": 184,
   "metadata": {},
   "outputs": [
    {
     "data": {
      "text/html": [
       "<div>\n",
       "<style scoped>\n",
       "    .dataframe tbody tr th:only-of-type {\n",
       "        vertical-align: middle;\n",
       "    }\n",
       "\n",
       "    .dataframe tbody tr th {\n",
       "        vertical-align: top;\n",
       "    }\n",
       "\n",
       "    .dataframe thead th {\n",
       "        text-align: right;\n",
       "    }\n",
       "</style>\n",
       "<table border=\"1\" class=\"dataframe\">\n",
       "  <thead>\n",
       "    <tr style=\"text-align: right;\">\n",
       "      <th></th>\n",
       "      <th>media_outlet</th>\n",
       "      <th>compound</th>\n",
       "      <th>positive</th>\n",
       "      <th>negative</th>\n",
       "      <th>blob_polar</th>\n",
       "      <th>blob_subj</th>\n",
       "      <th>date_short</th>\n",
       "    </tr>\n",
       "  </thead>\n",
       "  <tbody>\n",
       "    <tr>\n",
       "      <th>0</th>\n",
       "      <td>washingtonpost</td>\n",
       "      <td>0.2500</td>\n",
       "      <td>0.083</td>\n",
       "      <td>0.000</td>\n",
       "      <td>0.000000</td>\n",
       "      <td>0.000000</td>\n",
       "      <td>2015-12-13</td>\n",
       "    </tr>\n",
       "    <tr>\n",
       "      <th>1</th>\n",
       "      <td>startribune</td>\n",
       "      <td>0.0000</td>\n",
       "      <td>0.000</td>\n",
       "      <td>0.000</td>\n",
       "      <td>0.062500</td>\n",
       "      <td>0.354167</td>\n",
       "      <td>2015-10-02</td>\n",
       "    </tr>\n",
       "    <tr>\n",
       "      <th>2</th>\n",
       "      <td>mtv</td>\n",
       "      <td>0.0000</td>\n",
       "      <td>0.000</td>\n",
       "      <td>0.000</td>\n",
       "      <td>-0.083333</td>\n",
       "      <td>0.216667</td>\n",
       "      <td>2015-10-09</td>\n",
       "    </tr>\n",
       "    <tr>\n",
       "      <th>3</th>\n",
       "      <td>express</td>\n",
       "      <td>-0.3400</td>\n",
       "      <td>0.073</td>\n",
       "      <td>0.094</td>\n",
       "      <td>0.600000</td>\n",
       "      <td>1.000000</td>\n",
       "      <td>2015-11-17</td>\n",
       "    </tr>\n",
       "    <tr>\n",
       "      <th>4</th>\n",
       "      <td>reuters</td>\n",
       "      <td>-0.2732</td>\n",
       "      <td>0.000</td>\n",
       "      <td>0.110</td>\n",
       "      <td>-0.187500</td>\n",
       "      <td>0.500000</td>\n",
       "      <td>2015-02-06</td>\n",
       "    </tr>\n",
       "  </tbody>\n",
       "</table>\n",
       "</div>"
      ],
      "text/plain": [
       "     media_outlet  compound  positive  negative  blob_polar  blob_subj  \\\n",
       "0  washingtonpost    0.2500     0.083     0.000    0.000000   0.000000   \n",
       "1     startribune    0.0000     0.000     0.000    0.062500   0.354167   \n",
       "2             mtv    0.0000     0.000     0.000   -0.083333   0.216667   \n",
       "3         express   -0.3400     0.073     0.094    0.600000   1.000000   \n",
       "4         reuters   -0.2732     0.000     0.110   -0.187500   0.500000   \n",
       "\n",
       "   date_short  \n",
       "0  2015-12-13  \n",
       "1  2015-10-02  \n",
       "2  2015-10-09  \n",
       "3  2015-11-17  \n",
       "4  2015-02-06  "
      ]
     },
     "execution_count": 184,
     "metadata": {},
     "output_type": "execute_result"
    }
   ],
   "source": [
    "df.head()"
   ]
  },
  {
   "cell_type": "code",
   "execution_count": 185,
   "metadata": {},
   "outputs": [],
   "source": [
    "df = df[df.media_outlet != 'media_outlet']\n",
    "df = df[df.media_outlet != 'starmagazine']"
   ]
  },
  {
   "cell_type": "code",
   "execution_count": 186,
   "metadata": {},
   "outputs": [
    {
     "data": {
      "text/plain": [
       "media_outlet     object\n",
       "compound        float64\n",
       "positive        float64\n",
       "negative        float64\n",
       "blob_polar      float64\n",
       "blob_subj       float64\n",
       "date_short       object\n",
       "dtype: object"
      ]
     },
     "execution_count": 186,
     "metadata": {},
     "output_type": "execute_result"
    }
   ],
   "source": [
    "df.dtypes"
   ]
  },
  {
   "cell_type": "code",
   "execution_count": 187,
   "metadata": {},
   "outputs": [],
   "source": [
    "media = df.groupby(by='media_outlet').count()\n",
    "\n",
    "\n"
   ]
  },
  {
   "cell_type": "code",
   "execution_count": 188,
   "metadata": {},
   "outputs": [
    {
     "data": {
      "text/html": [
       "<div>\n",
       "<style scoped>\n",
       "    .dataframe tbody tr th:only-of-type {\n",
       "        vertical-align: middle;\n",
       "    }\n",
       "\n",
       "    .dataframe tbody tr th {\n",
       "        vertical-align: top;\n",
       "    }\n",
       "\n",
       "    .dataframe thead th {\n",
       "        text-align: right;\n",
       "    }\n",
       "</style>\n",
       "<table border=\"1\" class=\"dataframe\">\n",
       "  <thead>\n",
       "    <tr style=\"text-align: right;\">\n",
       "      <th></th>\n",
       "      <th>compound</th>\n",
       "      <th>positive</th>\n",
       "      <th>negative</th>\n",
       "      <th>blob_polar</th>\n",
       "      <th>blob_subj</th>\n",
       "      <th>date_short</th>\n",
       "    </tr>\n",
       "    <tr>\n",
       "      <th>media_outlet</th>\n",
       "      <th></th>\n",
       "      <th></th>\n",
       "      <th></th>\n",
       "      <th></th>\n",
       "      <th></th>\n",
       "      <th></th>\n",
       "    </tr>\n",
       "  </thead>\n",
       "  <tbody>\n",
       "    <tr>\n",
       "      <th>aarp</th>\n",
       "      <td>10647</td>\n",
       "      <td>10647</td>\n",
       "      <td>10647</td>\n",
       "      <td>10647</td>\n",
       "      <td>10647</td>\n",
       "      <td>10647</td>\n",
       "    </tr>\n",
       "    <tr>\n",
       "      <th>bbc</th>\n",
       "      <td>633483</td>\n",
       "      <td>633483</td>\n",
       "      <td>633483</td>\n",
       "      <td>633483</td>\n",
       "      <td>633483</td>\n",
       "      <td>633483</td>\n",
       "    </tr>\n",
       "    <tr>\n",
       "      <th>chicagotribune</th>\n",
       "      <td>302545</td>\n",
       "      <td>302545</td>\n",
       "      <td>302545</td>\n",
       "      <td>302545</td>\n",
       "      <td>302545</td>\n",
       "      <td>302545</td>\n",
       "    </tr>\n",
       "    <tr>\n",
       "      <th>cnn</th>\n",
       "      <td>542743</td>\n",
       "      <td>542743</td>\n",
       "      <td>542743</td>\n",
       "      <td>542743</td>\n",
       "      <td>542743</td>\n",
       "      <td>542743</td>\n",
       "    </tr>\n",
       "    <tr>\n",
       "      <th>dailymail</th>\n",
       "      <td>104839</td>\n",
       "      <td>104839</td>\n",
       "      <td>104839</td>\n",
       "      <td>104839</td>\n",
       "      <td>104839</td>\n",
       "      <td>104839</td>\n",
       "    </tr>\n",
       "    <tr>\n",
       "      <th>economist</th>\n",
       "      <td>30048</td>\n",
       "      <td>30048</td>\n",
       "      <td>30048</td>\n",
       "      <td>30048</td>\n",
       "      <td>30048</td>\n",
       "      <td>30048</td>\n",
       "    </tr>\n",
       "    <tr>\n",
       "      <th>espn</th>\n",
       "      <td>889974</td>\n",
       "      <td>889974</td>\n",
       "      <td>889974</td>\n",
       "      <td>889974</td>\n",
       "      <td>889974</td>\n",
       "      <td>889974</td>\n",
       "    </tr>\n",
       "    <tr>\n",
       "      <th>express</th>\n",
       "      <td>1219309</td>\n",
       "      <td>1219309</td>\n",
       "      <td>1219309</td>\n",
       "      <td>1219309</td>\n",
       "      <td>1219309</td>\n",
       "      <td>1219309</td>\n",
       "    </tr>\n",
       "    <tr>\n",
       "      <th>foxnews</th>\n",
       "      <td>448658</td>\n",
       "      <td>448658</td>\n",
       "      <td>448658</td>\n",
       "      <td>448658</td>\n",
       "      <td>448658</td>\n",
       "      <td>448658</td>\n",
       "    </tr>\n",
       "    <tr>\n",
       "      <th>independent</th>\n",
       "      <td>706913</td>\n",
       "      <td>706913</td>\n",
       "      <td>706913</td>\n",
       "      <td>706913</td>\n",
       "      <td>706913</td>\n",
       "      <td>706913</td>\n",
       "    </tr>\n",
       "    <tr>\n",
       "      <th>intouchweekly</th>\n",
       "      <td>18645</td>\n",
       "      <td>18645</td>\n",
       "      <td>18645</td>\n",
       "      <td>18645</td>\n",
       "      <td>18645</td>\n",
       "      <td>18645</td>\n",
       "    </tr>\n",
       "    <tr>\n",
       "      <th>latimes</th>\n",
       "      <td>523155</td>\n",
       "      <td>523155</td>\n",
       "      <td>523155</td>\n",
       "      <td>523155</td>\n",
       "      <td>523155</td>\n",
       "      <td>523155</td>\n",
       "    </tr>\n",
       "    <tr>\n",
       "      <th>mirror</th>\n",
       "      <td>899252</td>\n",
       "      <td>899252</td>\n",
       "      <td>899252</td>\n",
       "      <td>899252</td>\n",
       "      <td>899252</td>\n",
       "      <td>899252</td>\n",
       "    </tr>\n",
       "    <tr>\n",
       "      <th>msn</th>\n",
       "      <td>892391</td>\n",
       "      <td>892391</td>\n",
       "      <td>892391</td>\n",
       "      <td>892391</td>\n",
       "      <td>892391</td>\n",
       "      <td>892391</td>\n",
       "    </tr>\n",
       "    <tr>\n",
       "      <th>mtv</th>\n",
       "      <td>60622</td>\n",
       "      <td>60622</td>\n",
       "      <td>60622</td>\n",
       "      <td>60622</td>\n",
       "      <td>60622</td>\n",
       "      <td>60622</td>\n",
       "    </tr>\n",
       "    <tr>\n",
       "      <th>nationalgeographic</th>\n",
       "      <td>14120</td>\n",
       "      <td>14120</td>\n",
       "      <td>14120</td>\n",
       "      <td>14120</td>\n",
       "      <td>14120</td>\n",
       "      <td>14120</td>\n",
       "    </tr>\n",
       "    <tr>\n",
       "      <th>nbcnews</th>\n",
       "      <td>196008</td>\n",
       "      <td>196008</td>\n",
       "      <td>196008</td>\n",
       "      <td>196008</td>\n",
       "      <td>196008</td>\n",
       "      <td>196008</td>\n",
       "    </tr>\n",
       "    <tr>\n",
       "      <th>newstoday</th>\n",
       "      <td>58413</td>\n",
       "      <td>58413</td>\n",
       "      <td>58413</td>\n",
       "      <td>58413</td>\n",
       "      <td>58413</td>\n",
       "      <td>58413</td>\n",
       "    </tr>\n",
       "    <tr>\n",
       "      <th>nytimes</th>\n",
       "      <td>669739</td>\n",
       "      <td>669739</td>\n",
       "      <td>669739</td>\n",
       "      <td>669739</td>\n",
       "      <td>669739</td>\n",
       "      <td>669739</td>\n",
       "    </tr>\n",
       "    <tr>\n",
       "      <th>people</th>\n",
       "      <td>1015700</td>\n",
       "      <td>1015700</td>\n",
       "      <td>1015700</td>\n",
       "      <td>1015700</td>\n",
       "      <td>1015700</td>\n",
       "      <td>1015700</td>\n",
       "    </tr>\n",
       "    <tr>\n",
       "      <th>reuters</th>\n",
       "      <td>233767</td>\n",
       "      <td>233767</td>\n",
       "      <td>233767</td>\n",
       "      <td>233767</td>\n",
       "      <td>233767</td>\n",
       "      <td>233767</td>\n",
       "    </tr>\n",
       "    <tr>\n",
       "      <th>rollingstone</th>\n",
       "      <td>70055</td>\n",
       "      <td>70055</td>\n",
       "      <td>70055</td>\n",
       "      <td>70055</td>\n",
       "      <td>70055</td>\n",
       "      <td>70055</td>\n",
       "    </tr>\n",
       "    <tr>\n",
       "      <th>sportingnews</th>\n",
       "      <td>98512</td>\n",
       "      <td>98512</td>\n",
       "      <td>98512</td>\n",
       "      <td>98512</td>\n",
       "      <td>98512</td>\n",
       "      <td>98512</td>\n",
       "    </tr>\n",
       "    <tr>\n",
       "      <th>startribune</th>\n",
       "      <td>214206</td>\n",
       "      <td>214206</td>\n",
       "      <td>214206</td>\n",
       "      <td>214206</td>\n",
       "      <td>214206</td>\n",
       "      <td>214206</td>\n",
       "    </tr>\n",
       "    <tr>\n",
       "      <th>theathletic</th>\n",
       "      <td>193</td>\n",
       "      <td>193</td>\n",
       "      <td>193</td>\n",
       "      <td>193</td>\n",
       "      <td>193</td>\n",
       "      <td>193</td>\n",
       "    </tr>\n",
       "    <tr>\n",
       "      <th>theguardian</th>\n",
       "      <td>422700</td>\n",
       "      <td>422700</td>\n",
       "      <td>422700</td>\n",
       "      <td>422700</td>\n",
       "      <td>422700</td>\n",
       "      <td>422700</td>\n",
       "    </tr>\n",
       "    <tr>\n",
       "      <th>thesun</th>\n",
       "      <td>391473</td>\n",
       "      <td>391473</td>\n",
       "      <td>391473</td>\n",
       "      <td>391473</td>\n",
       "      <td>391473</td>\n",
       "      <td>391473</td>\n",
       "    </tr>\n",
       "    <tr>\n",
       "      <th>thetimes</th>\n",
       "      <td>86669</td>\n",
       "      <td>86669</td>\n",
       "      <td>86669</td>\n",
       "      <td>86669</td>\n",
       "      <td>86669</td>\n",
       "      <td>86669</td>\n",
       "    </tr>\n",
       "    <tr>\n",
       "      <th>timesrepublican</th>\n",
       "      <td>10467</td>\n",
       "      <td>10467</td>\n",
       "      <td>10467</td>\n",
       "      <td>10467</td>\n",
       "      <td>10467</td>\n",
       "      <td>10467</td>\n",
       "    </tr>\n",
       "    <tr>\n",
       "      <th>tmz</th>\n",
       "      <td>20019</td>\n",
       "      <td>20019</td>\n",
       "      <td>20019</td>\n",
       "      <td>20019</td>\n",
       "      <td>20019</td>\n",
       "      <td>20019</td>\n",
       "    </tr>\n",
       "    <tr>\n",
       "      <th>usatoday</th>\n",
       "      <td>217865</td>\n",
       "      <td>217865</td>\n",
       "      <td>217865</td>\n",
       "      <td>217865</td>\n",
       "      <td>217865</td>\n",
       "      <td>217865</td>\n",
       "    </tr>\n",
       "    <tr>\n",
       "      <th>usmagazine</th>\n",
       "      <td>72427</td>\n",
       "      <td>72427</td>\n",
       "      <td>72427</td>\n",
       "      <td>72427</td>\n",
       "      <td>72427</td>\n",
       "      <td>72427</td>\n",
       "    </tr>\n",
       "    <tr>\n",
       "      <th>usnews</th>\n",
       "      <td>50768</td>\n",
       "      <td>50768</td>\n",
       "      <td>50768</td>\n",
       "      <td>50768</td>\n",
       "      <td>50768</td>\n",
       "      <td>50768</td>\n",
       "    </tr>\n",
       "    <tr>\n",
       "      <th>vanityfair</th>\n",
       "      <td>79712</td>\n",
       "      <td>79712</td>\n",
       "      <td>79712</td>\n",
       "      <td>79712</td>\n",
       "      <td>79712</td>\n",
       "      <td>79712</td>\n",
       "    </tr>\n",
       "    <tr>\n",
       "      <th>washingtonpost</th>\n",
       "      <td>555325</td>\n",
       "      <td>555325</td>\n",
       "      <td>555325</td>\n",
       "      <td>555325</td>\n",
       "      <td>555325</td>\n",
       "      <td>555325</td>\n",
       "    </tr>\n",
       "    <tr>\n",
       "      <th>womansday</th>\n",
       "      <td>7486</td>\n",
       "      <td>7486</td>\n",
       "      <td>7486</td>\n",
       "      <td>7486</td>\n",
       "      <td>7486</td>\n",
       "      <td>7486</td>\n",
       "    </tr>\n",
       "    <tr>\n",
       "      <th>wsj</th>\n",
       "      <td>148151</td>\n",
       "      <td>148151</td>\n",
       "      <td>148151</td>\n",
       "      <td>148151</td>\n",
       "      <td>148151</td>\n",
       "      <td>148151</td>\n",
       "    </tr>\n",
       "  </tbody>\n",
       "</table>\n",
       "</div>"
      ],
      "text/plain": [
       "                    compound  positive  negative  blob_polar  blob_subj  \\\n",
       "media_outlet                                                              \n",
       "aarp                   10647     10647     10647       10647      10647   \n",
       "bbc                   633483    633483    633483      633483     633483   \n",
       "chicagotribune        302545    302545    302545      302545     302545   \n",
       "cnn                   542743    542743    542743      542743     542743   \n",
       "dailymail             104839    104839    104839      104839     104839   \n",
       "economist              30048     30048     30048       30048      30048   \n",
       "espn                  889974    889974    889974      889974     889974   \n",
       "express              1219309   1219309   1219309     1219309    1219309   \n",
       "foxnews               448658    448658    448658      448658     448658   \n",
       "independent           706913    706913    706913      706913     706913   \n",
       "intouchweekly          18645     18645     18645       18645      18645   \n",
       "latimes               523155    523155    523155      523155     523155   \n",
       "mirror                899252    899252    899252      899252     899252   \n",
       "msn                   892391    892391    892391      892391     892391   \n",
       "mtv                    60622     60622     60622       60622      60622   \n",
       "nationalgeographic     14120     14120     14120       14120      14120   \n",
       "nbcnews               196008    196008    196008      196008     196008   \n",
       "newstoday              58413     58413     58413       58413      58413   \n",
       "nytimes               669739    669739    669739      669739     669739   \n",
       "people               1015700   1015700   1015700     1015700    1015700   \n",
       "reuters               233767    233767    233767      233767     233767   \n",
       "rollingstone           70055     70055     70055       70055      70055   \n",
       "sportingnews           98512     98512     98512       98512      98512   \n",
       "startribune           214206    214206    214206      214206     214206   \n",
       "theathletic              193       193       193         193        193   \n",
       "theguardian           422700    422700    422700      422700     422700   \n",
       "thesun                391473    391473    391473      391473     391473   \n",
       "thetimes               86669     86669     86669       86669      86669   \n",
       "timesrepublican        10467     10467     10467       10467      10467   \n",
       "tmz                    20019     20019     20019       20019      20019   \n",
       "usatoday              217865    217865    217865      217865     217865   \n",
       "usmagazine             72427     72427     72427       72427      72427   \n",
       "usnews                 50768     50768     50768       50768      50768   \n",
       "vanityfair             79712     79712     79712       79712      79712   \n",
       "washingtonpost        555325    555325    555325      555325     555325   \n",
       "womansday               7486      7486      7486        7486       7486   \n",
       "wsj                   148151    148151    148151      148151     148151   \n",
       "\n",
       "                    date_short  \n",
       "media_outlet                    \n",
       "aarp                     10647  \n",
       "bbc                     633483  \n",
       "chicagotribune          302545  \n",
       "cnn                     542743  \n",
       "dailymail               104839  \n",
       "economist                30048  \n",
       "espn                    889974  \n",
       "express                1219309  \n",
       "foxnews                 448658  \n",
       "independent             706913  \n",
       "intouchweekly            18645  \n",
       "latimes                 523155  \n",
       "mirror                  899252  \n",
       "msn                     892391  \n",
       "mtv                      60622  \n",
       "nationalgeographic       14120  \n",
       "nbcnews                 196008  \n",
       "newstoday                58413  \n",
       "nytimes                 669739  \n",
       "people                 1015700  \n",
       "reuters                 233767  \n",
       "rollingstone             70055  \n",
       "sportingnews             98512  \n",
       "startribune             214206  \n",
       "theathletic                193  \n",
       "theguardian             422700  \n",
       "thesun                  391473  \n",
       "thetimes                 86669  \n",
       "timesrepublican          10467  \n",
       "tmz                      20019  \n",
       "usatoday                217865  \n",
       "usmagazine               72427  \n",
       "usnews                   50768  \n",
       "vanityfair               79712  \n",
       "washingtonpost          555325  \n",
       "womansday                 7486  \n",
       "wsj                     148151  "
      ]
     },
     "execution_count": 188,
     "metadata": {},
     "output_type": "execute_result"
    }
   ],
   "source": [
    "media"
   ]
  },
  {
   "cell_type": "code",
   "execution_count": 189,
   "metadata": {},
   "outputs": [],
   "source": [
    "nytimes = df.loc[df['media_outlet']=='nytimes']\n",
    "wsj = df.loc[df['media_outlet']=='wsj']\n",
    "people = df.loc[df['media_outlet']=='people']\n",
    "womansday = df.loc[df['media_outlet'] == 'womansday'] \n",
    "mtv = df.loc[df['media_outlet'] == 'mtv']\n",
    "tmz = df.loc[df['media_outlet'] == 'tmz']\n",
    "espn = df.loc[df['media_outlet'] == 'espn']"
   ]
  },
  {
   "cell_type": "code",
   "execution_count": 190,
   "metadata": {},
   "outputs": [
    {
     "data": {
      "image/png": "[encoded data removed]",
      "text/plain": [
       "<Figure size 1008x720 with 7 Axes>"
      ]
     },
     "metadata": {
      "needs_background": "light"
     },
     "output_type": "display_data"
    }
   ],
   "source": [
    "fig, ax = plt.subplots(7,1, figsize=(14,10))\n",
    "\n",
    "ax[0].hist(nytimes.compound, bins=15)\n",
    "\n",
    "ax[1].hist(wsj.compound, bins=15)\n",
    "\n",
    "ax[2].hist(people.compound, bins = 15)\n",
    "\n",
    "ax[3].hist(womansday.compound, bins = 15)\n",
    "\n",
    "ax[4].hist(mtv.compound, bins = 15)\n",
    "\n",
    "ax[5].hist(tmz.compound, bins = 15)\n",
    "\n",
    "ax[6].hist(espn.compound, bins = 15)\n",
    "\n",
    "fig.tight_layout()\n",
    "\n",
    "plt.show()"
   ]
  },
  {
   "cell_type": "code",
   "execution_count": 191,
   "metadata": {},
   "outputs": [
    {
     "data": {
      "image/png": "[encoded data removed]",
      "text/plain": [
       "<Figure size 1008x720 with 7 Axes>"
      ]
     },
     "metadata": {
      "needs_background": "light"
     },
     "output_type": "display_data"
    }
   ],
   "source": [
    "fig, ax = plt.subplots(7,1, figsize=(14,10))\n",
    "\n",
    "ax[0].hist(nytimes.blob_polar, bins=15)\n",
    "\n",
    "ax[1].hist(wsj.blob_polar, bins=15)\n",
    "\n",
    "ax[2].hist(people.blob_polar, bins = 15)\n",
    "\n",
    "ax[3].hist(womansday.blob_polar, bins = 15)\n",
    "\n",
    "ax[4].hist(mtv.blob_polar, bins = 15)\n",
    "\n",
    "ax[5].hist(tmz.blob_polar, bins = 15)\n",
    "\n",
    "ax[6].hist(espn.blob_polar, bins = 15)\n",
    "\n",
    "fig.tight_layout()\n",
    "\n",
    "plt.show()"
   ]
  },
  {
   "cell_type": "code",
   "execution_count": 192,
   "metadata": {},
   "outputs": [
    {
     "data": {
      "image/png": "[encoded data removed]",
      "text/plain": [
       "<Figure size 1008x720 with 7 Axes>"
      ]
     },
     "metadata": {
      "needs_background": "light"
     },
     "output_type": "display_data"
    }
   ],
   "source": [
    "fig, ax = plt.subplots(7,1, figsize=(14,10))\n",
    "\n",
    "ax[0].hist(nytimes.blob_subj, bins=15)\n",
    "\n",
    "ax[1].hist(wsj.blob_subj, bins=15)\n",
    "\n",
    "ax[2].hist(people.blob_subj, bins = 15)\n",
    "\n",
    "ax[3].hist(womansday.blob_subj, bins = 15)\n",
    "\n",
    "ax[4].hist(mtv.blob_subj, bins = 15)\n",
    "\n",
    "ax[5].hist(tmz.blob_subj, bins = 15)\n",
    "\n",
    "ax[6].hist(espn.blob_subj, bins = 15)\n",
    "\n",
    "fig.tight_layout()\n",
    "\n",
    "plt.show()"
   ]
  },
  {
   "cell_type": "code",
   "execution_count": 193,
   "metadata": {},
   "outputs": [
    {
     "data": {
      "image/png": "[encoded data removed]",
      "text/plain": [
       "<Figure size 1008x720 with 4 Axes>"
      ]
     },
     "metadata": {
      "needs_background": "light"
     },
     "output_type": "display_data"
    }
   ],
   "source": [
    "fig, ax = plt.subplots(4,1, figsize=(14,10))\n",
    "\n",
    "ax[0].hist(nytimes.positive, bins=15)\n",
    "\n",
    "ax[1].hist(wsj.positive, bins=15)\n",
    "\n",
    "ax[2].hist(people.positive, bins = 15)\n",
    "\n",
    "ax[3].hist(womansday.positive, bins = 15)\n",
    "\n",
    "plt.show()"
   ]
  },
  {
   "cell_type": "code",
   "execution_count": 194,
   "metadata": {},
   "outputs": [
    {
     "data": {
      "image/png": "[encoded data removed]",
      "text/plain": [
       "<Figure size 1008x720 with 4 Axes>"
      ]
     },
     "metadata": {
      "needs_background": "light"
     },
     "output_type": "display_data"
    }
   ],
   "source": [
    "fig, ax = plt.subplots(4,1, figsize=(14,10))\n",
    "\n",
    "ax[0].hist(nytimes.negative, bins=15)\n",
    "\n",
    "ax[1].hist(wsj.negative, bins=15)\n",
    "\n",
    "ax[2].hist(people.negative, bins = 15)\n",
    "\n",
    "ax[3].hist(womansday.negative, bins = 15)\n",
    "\n",
    "plt.show()"
   ]
  },
  {
   "cell_type": "code",
   "execution_count": 195,
   "metadata": {},
   "outputs": [
    {
     "name": "stdout",
     "output_type": "stream",
     "text": [
      "0.08528024693197732\n",
      "0.22793258081752665\n"
     ]
    }
   ],
   "source": [
    "print(nytimes.compound.mean())\n",
    "print(womansday.compound.mean())"
   ]
  },
  {
   "cell_type": "code",
   "execution_count": 247,
   "metadata": {},
   "outputs": [],
   "source": [
    "media_outlets = ['nytimes', 'wsj', 'womansday', 'nbcnews', 'foxnews', 'aarp', 'usmagazine', 'espn', 'usatoday', \n",
    "'newstoday', 'sportingnews', 'theguardian', 'people', 'tmz', 'mtv', 'cnn', 'msn', 'reuters', 'timesrepublican', \n",
    "'nationalgeographic', 'latimes', 'washingtonpost', 'startribune', 'chicagotribune', 'usnews', 'theathletic', \n",
    "'rollingstone', 'vanityfair', 'intouchweekly', 'starmagazine', 'bbc', 'independent', 'thesun', 'thetimes',\n",
    "'express', 'dailymail', 'mirror', 'economist']\n",
    "\n",
    "newspapers = ['nytimes', 'wsj','foxnews', 'aarp','usatoday', 'newstoday', 'reuters', 'timesrepublican', \n",
    "'latimes', 'washingtonpost', 'startribune', 'cnn',  'chicagotribune', 'usnews', 'nbcnews', 'theguardian',\n",
    "'bbc', 'independent', 'thesun', 'thetimes','express', 'dailymail', 'mirror', 'economist']\n",
    "\n",
    "celebmagazines = ['womansday', 'usmagazine', 'people','tmz', 'intouchweekly', 'starmagazine']\n",
    "\n",
    "other = ['mtv', 'msn','nationalgeographic', 'vanityfair', 'rollingstone']\n",
    "\n",
    "sport = ['espn', 'sportingnews', 'theathletic']\n"
   ]
  },
  {
   "cell_type": "code",
   "execution_count": 248,
   "metadata": {},
   "outputs": [
    {
     "data": {
      "image/png": "[encoded data removed]",
      "text/plain": [
       "<Figure size 720x720 with 1 Axes>"
      ]
     },
     "metadata": {
      "needs_background": "light"
     },
     "output_type": "display_data"
    }
   ],
   "source": [
    "mean_polar = df.groupby(by = ['media_outlet'])['blob_polar'].mean()\n",
    "mean_subj = df.groupby(by = ['media_outlet'])['blob_subj'].mean()\n",
    "\n",
    "\n",
    "name = mean_polar.keys()\n",
    "\n",
    "def pltcolor(lst):\n",
    "    cols=[]\n",
    "    for l in lst:\n",
    "        if (l in newspapers):\n",
    "            cols.append('red')\n",
    "        elif (l in celebmagazines):\n",
    "            cols.append('blue')\n",
    "        elif (l in other):\n",
    "            cols.append('yellow')\n",
    "        else:\n",
    "            cols.append('green')\n",
    "    return cols\n",
    "# Create the colors list using the function above\n",
    "cols=pltcolor(mean_polar.keys())\n",
    "\n",
    "fig, ax = plt.subplots(figsize=(10,10))\n",
    "ax.scatter(mean_subj, mean_polar, c=cols)\n",
    "for i, txt in enumerate(name):\n",
    "    ax.annotate(txt, (mean_subj[i], mean_polar[i]))\n"
   ]
  },
  {
   "cell_type": "code",
   "execution_count": 213,
   "metadata": {},
   "outputs": [
    {
     "data": {
      "text/plain": [
       "Index(['aarp', 'bbc', 'chicagotribune', 'cnn', 'dailymail', 'economist',\n",
       "       'espn', 'express', 'foxnews', 'independent', 'intouchweekly', 'latimes',\n",
       "       'mirror', 'msn', 'mtv', 'nationalgeographic', 'nbcnews', 'newstoday',\n",
       "       'nytimes', 'people', 'reuters', 'rollingstone', 'sportingnews',\n",
       "       'startribune', 'theathletic', 'theguardian', 'thesun', 'thetimes',\n",
       "       'timesrepublican', 'tmz', 'usatoday', 'usmagazine', 'usnews',\n",
       "       'vanityfair', 'washingtonpost', 'womansday', 'wsj'],\n",
       "      dtype='object', name='media_outlet')"
      ]
     },
     "execution_count": 213,
     "metadata": {},
     "output_type": "execute_result"
    }
   ],
   "source": [
    "a  = mean_polar.keys()\n",
    "a"
   ]
  },
  {
   "cell_type": "code",
   "execution_count": 205,
   "metadata": {},
   "outputs": [
    {
     "data": {
      "text/plain": [
       "<matplotlib.collections.PathCollection at 0x1d490ab0a60>"
      ]
     },
     "execution_count": 205,
     "metadata": {},
     "output_type": "execute_result"
    },
    {
     "data": {
      "image/png": "[encoded data removed]",
      "text/plain": [
       "<Figure size 432x288 with 1 Axes>"
      ]
     },
     "metadata": {
      "needs_background": "light"
     },
     "output_type": "display_data"
    }
   ],
   "source": [
    "plt.scatter(mean_polar, mean_subj)"
   ]
  },
  {
   "cell_type": "code",
   "execution_count": 198,
   "metadata": {},
   "outputs": [],
   "source": [
    "date = nytimes.groupby('date_short').positive.mean()"
   ]
  },
  {
   "cell_type": "code",
   "execution_count": 199,
   "metadata": {},
   "outputs": [],
   "source": [
    "from datetime import datetime\n",
    "\n",
    "def weekday_number(date):\n",
    "  ''' Returning the weekday number of a date, e.g., 0 for Mondays.\n",
    "\n",
    "  Parameters\n",
    "  ----------\n",
    "  date: datetime\n",
    "    A datetime for which to find the weekday number.\n",
    "\n",
    "  Returns\n",
    "  -------\n",
    "  weekday_number: int\n",
    "    The weekday number of the date.\n",
    "  '''\n",
    "\n",
    "  weekday_number = date.weekday()\n",
    "  return weekday_number\n",
    "\n",
    "\n",
    "def weekday(date):\n",
    "  ''' Returning the name of the weekday for a date.\n",
    "\n",
    "  Parameters\n",
    "  ----------\n",
    "  date: datetime\n",
    "    A datetime for which to find the weekday.\n",
    "\n",
    "  Returns\n",
    "  -------\n",
    "  weekday: str\n",
    "    The weekday of the date.\n",
    "  '''\n",
    "  \n",
    "  day_number = date.weekday()\n",
    "  week_days = [\"Monday\", \"Tuesday\", \"Wednesday\", \"Thursday\", \"Friday\", \"Saturday\", \"Sunday\"]\n",
    "  weekday = week_days[day_number]\n",
    "  return weekday\n",
    "\n",
    "\n",
    "def week(date):\n",
    "  ''' Returning the week number of a date.\n",
    "\n",
    "  Parameters\n",
    "  ----------\n",
    "  date: datetime\n",
    "    A datetime for which to find the weekday.\n",
    "\n",
    "  Returns\n",
    "  -------\n",
    "  week_number: int\n",
    "    The week number of the date.\n",
    "  '''\n",
    "\n",
    "  week_number = date.week()\n",
    "  return week_number\n",
    "\n",
    "\n",
    "def month(date):\n",
    "  ''' Returning the month name of date.\n",
    "\n",
    "  Parameters\n",
    "  ----------\n",
    "  date: datetime\n",
    "    A date for which to find the month name.\n",
    "\n",
    "  Returns\n",
    "  -------\n",
    "  name_month: str\n",
    "    The name of the month.\n",
    "  '''\n",
    "\n",
    "  name_month = date.month_name()\n",
    "  return name_month\n",
    "\n",
    "\n",
    "def add_time(chunk):\n",
    "  ''' Adding columns for weekday, weekday number and month name to a chunk.\n",
    "\n",
    "  Parameters\n",
    "  ----------\n",
    "  chunk: dataframe\n",
    "    The chunk for which to add date information.\n",
    "\n",
    "  Returns\n",
    "  -------\n",
    "  chunk: dataframe\n",
    "    The chunk with date information.\n",
    "  '''\n",
    "\n",
    "  chunk['date_short'] = chunk['date_short'].apply(lambda x: datetime.strptime(x, '%Y-%m-%d'))\n",
    "  chunk['weekday_number'] = chunk['date_short'].apply(lambda x: weekday_number(x))  \n",
    "  chunk['Month'] =  chunk['date_short'].apply(lambda x: month(x))\n",
    "  return chunk"
   ]
  },
  {
   "cell_type": "code",
   "execution_count": 200,
   "metadata": {},
   "outputs": [],
   "source": [
    "nytimes = add_time(nytimes)"
   ]
  },
  {
   "cell_type": "code",
   "execution_count": 201,
   "metadata": {},
   "outputs": [
    {
     "data": {
      "text/html": [
       "<div>\n",
       "<style scoped>\n",
       "    .dataframe tbody tr th:only-of-type {\n",
       "        vertical-align: middle;\n",
       "    }\n",
       "\n",
       "    .dataframe tbody tr th {\n",
       "        vertical-align: top;\n",
       "    }\n",
       "\n",
       "    .dataframe thead th {\n",
       "        text-align: right;\n",
       "    }\n",
       "</style>\n",
       "<table border=\"1\" class=\"dataframe\">\n",
       "  <thead>\n",
       "    <tr style=\"text-align: right;\">\n",
       "      <th></th>\n",
       "      <th>media_outlet</th>\n",
       "      <th>compound</th>\n",
       "      <th>positive</th>\n",
       "      <th>negative</th>\n",
       "      <th>blob_polar</th>\n",
       "      <th>blob_subj</th>\n",
       "      <th>date_short</th>\n",
       "      <th>weekday_number</th>\n",
       "      <th>Month</th>\n",
       "    </tr>\n",
       "  </thead>\n",
       "  <tbody>\n",
       "    <tr>\n",
       "      <th>356</th>\n",
       "      <td>nytimes</td>\n",
       "      <td>-0.3612</td>\n",
       "      <td>0.000</td>\n",
       "      <td>0.294</td>\n",
       "      <td>0.0</td>\n",
       "      <td>0.0</td>\n",
       "      <td>2015-12-14</td>\n",
       "      <td>0</td>\n",
       "      <td>December</td>\n",
       "    </tr>\n",
       "    <tr>\n",
       "      <th>536</th>\n",
       "      <td>nytimes</td>\n",
       "      <td>0.1531</td>\n",
       "      <td>0.233</td>\n",
       "      <td>0.183</td>\n",
       "      <td>0.0</td>\n",
       "      <td>0.0</td>\n",
       "      <td>2015-10-02</td>\n",
       "      <td>4</td>\n",
       "      <td>October</td>\n",
       "    </tr>\n",
       "    <tr>\n",
       "      <th>627</th>\n",
       "      <td>nytimes</td>\n",
       "      <td>-0.6249</td>\n",
       "      <td>0.165</td>\n",
       "      <td>0.615</td>\n",
       "      <td>-0.9</td>\n",
       "      <td>0.7</td>\n",
       "      <td>2015-01-29</td>\n",
       "      <td>3</td>\n",
       "      <td>January</td>\n",
       "    </tr>\n",
       "    <tr>\n",
       "      <th>1239</th>\n",
       "      <td>nytimes</td>\n",
       "      <td>0.0000</td>\n",
       "      <td>0.000</td>\n",
       "      <td>0.000</td>\n",
       "      <td>0.2</td>\n",
       "      <td>0.4</td>\n",
       "      <td>2015-11-30</td>\n",
       "      <td>0</td>\n",
       "      <td>November</td>\n",
       "    </tr>\n",
       "    <tr>\n",
       "      <th>1434</th>\n",
       "      <td>nytimes</td>\n",
       "      <td>0.3612</td>\n",
       "      <td>0.455</td>\n",
       "      <td>0.000</td>\n",
       "      <td>0.0</td>\n",
       "      <td>0.0</td>\n",
       "      <td>2015-07-31</td>\n",
       "      <td>4</td>\n",
       "      <td>July</td>\n",
       "    </tr>\n",
       "  </tbody>\n",
       "</table>\n",
       "</div>"
      ],
      "text/plain": [
       "     media_outlet  compound  positive  negative  blob_polar  blob_subj  \\\n",
       "356       nytimes   -0.3612     0.000     0.294         0.0        0.0   \n",
       "536       nytimes    0.1531     0.233     0.183         0.0        0.0   \n",
       "627       nytimes   -0.6249     0.165     0.615        -0.9        0.7   \n",
       "1239      nytimes    0.0000     0.000     0.000         0.2        0.4   \n",
       "1434      nytimes    0.3612     0.455     0.000         0.0        0.0   \n",
       "\n",
       "     date_short  weekday_number     Month  \n",
       "356  2015-12-14               0  December  \n",
       "536  2015-10-02               4   October  \n",
       "627  2015-01-29               3   January  \n",
       "1239 2015-11-30               0  November  \n",
       "1434 2015-07-31               4      July  "
      ]
     },
     "execution_count": 201,
     "metadata": {},
     "output_type": "execute_result"
    }
   ],
   "source": [
    "nytimes.head()"
   ]
  },
  {
   "cell_type": "code",
   "execution_count": 202,
   "metadata": {},
   "outputs": [
    {
     "name": "stdout",
     "output_type": "stream",
     "text": [
      "Two sided paired t-test with null hypothesis: The mean mood in NYtimes equals the mean mood in Wall Street Journal:\n",
      "t-value: -35.834473757551145, p-value: 2.1812370930100076e-280\n"
     ]
    }
   ],
   "source": [
    "t, p = stats.ttest_ind(nytimes['compound'], wsj['compound'], equal_var=False)\n",
    "print(\"Two sided paired t-test with null hypothesis: The mean mood in NYtimes equals the mean mood in Wall Street Journal:\")\n",
    "print(f\"t-value: {t}, p-value: {p}\")"
   ]
  },
  {
   "cell_type": "code",
   "execution_count": 203,
   "metadata": {},
   "outputs": [],
   "source": [
    "day = nytimes.groupby('weekday_number').compound.mean()\n",
    "month = nytimes.groupby('Month').compound.mean().reset_index()"
   ]
  },
  {
   "cell_type": "code",
   "execution_count": 204,
   "metadata": {},
   "outputs": [
    {
     "data": {
      "text/plain": [
       "[<matplotlib.lines.Line2D at 0x1d4bc82a550>]"
      ]
     },
     "execution_count": 204,
     "metadata": {},
     "output_type": "execute_result"
    },
    {
     "data": {
      "image/png": "[encoded data removed]",
      "text/plain": [
       "<Figure size 432x288 with 1 Axes>"
      ]
     },
     "metadata": {
      "needs_background": "light"
     },
     "output_type": "display_data"
    }
   ],
   "source": [
    "plt.plot(month['compound'])\n"
   ]
  },
  {
   "cell_type": "code",
   "execution_count": null,
   "metadata": {},
   "outputs": [],
   "source": []
  }
 ],
 "metadata": {
  "interpreter": {
   "hash": "f02b55953317407aa6a3868c665f9aa6d4ba331cc01e667e0182c896c3726979"
  },
  "kernelspec": {
   "display_name": "Python 3.8.11 64-bit ('ADA': conda)",
   "language": "python",
   "name": "python3"
  },
  "language_info": {
   "codemirror_mode": {
    "name": "ipython",
    "version": 3
   },
   "file_extension": ".py",
   "mimetype": "text/x-python",
   "name": "python",
   "nbconvert_exporter": "python",
   "pygments_lexer": "ipython3",
   "version": "3.8.11"
  },
  "orig_nbformat": 4
 },
 "nbformat": 4,
 "nbformat_minor": 2
}
