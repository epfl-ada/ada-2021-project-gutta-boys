{
 "cells": [
  {
   "cell_type": "code",
   "execution_count": 159,
   "metadata": {},
   "outputs": [
    {
     "name": "stderr",
     "output_type": "stream",
     "text": [
      "[nltk_data] Downloading package vader_lexicon to\n",
      "[nltk_data]     C:\\Users\\asbjo\\AppData\\Roaming\\nltk_data...\n",
      "[nltk_data]   Package vader_lexicon is already up-to-date!\n"
     ]
    },
    {
     "data": {
      "text/plain": [
       "<Figure size 432x288 with 0 Axes>"
      ]
     },
     "metadata": {},
     "output_type": "display_data"
    }
   ],
   "source": [
    "import pandas as pd\n",
    "import seaborn as sns\n",
    "from IPython.display import display, HTML\n",
    "import matplotlib.pyplot as plt\n",
    "import scipy.stats as stats\n",
    "import numpy as np\n",
    "import nltk as nltk\n",
    "import bz2\n",
    "import json\n",
    "import datetime\n",
    "from iteration_utilities import deepflatten\n",
    "import nltk as nltk\n",
    "import scipy.stats as stats\n",
    "from nltk.sentiment.vader import SentimentIntensityAnalyzer\n",
    "nltk.download('vader_lexicon')\n",
    "pd.options.mode.chained_assignment = None\n",
    "from helpers import add_time, week, weekday_number, weekday, month, add_dict, to_dict, get_media, find_media\n",
    "sns.set_theme(context='notebook', style='white')\n",
    "plt.tight_layout()\n",
    "from textblob import TextBlob\n",
    "from chart_studio import plotly\n",
    "import plotly.express as px"
   ]
  },
  {
   "cell_type": "code",
   "execution_count": null,
   "metadata": {},
   "outputs": [],
   "source": [
    "# Filepaths \n",
    "\n",
    "#Cleaned files from M2\n",
    "path_to_file = ['quotes-2015.json-001.bz2','quotes-2016.json-002.bz2','quotes-2017.json.bz2',\n",
    "                  'quotes-2018-004.json.bz2','quotes-2019-005.json.bz2','quotes-2020.json.bz2']\n",
    "\n",
    "# Path to files after adding media and remove unnesceceray columns\n",
    "files_with_sentiment = ['clean-quotes-2015_with_sentiment.csv.bz2','clean-quotes-2016_with_sentiment.csv.bz2','clean-quotes-2017_with_sentiment.csv.bz2',\n",
    "                  'clean-quotes-2018_with_sentiment.csv.bz2','clean-quotes-2019_with_sentiment.csv.bz2','clean-quotes-2020_with_sentiment.csv.bz2']"
   ]
  },
  {
   "cell_type": "code",
   "execution_count": null,
   "metadata": {},
   "outputs": [],
   "source": [
    "# The media outlets that will be taken into concern for the project\n",
    "\n",
    "media_outlets = ['nytimes', 'wsj', 'womansday', 'nbcnews', 'foxnews', 'aarp', 'usmagazine', 'espn', 'usatoday', \n",
    "'newstoday', 'sportingnews', 'theguardian', 'people', 'tmz', 'mtv', 'cnn', 'msn', 'reuters', 'timesrepublican', \n",
    "'nationalgeographic', 'latimes', 'washingtonpost', 'startribune', 'chicagotribune', 'usnews', 'theathletic', \n",
    "'rollingstone', 'vanityfair', 'intouchweekly', 'starmagazine', 'bbc', 'independent', 'thesun', 'thetimes',\n",
    "'express', 'dailymail', 'mirror', 'economist', ]\n",
    "\n",
    "\n",
    "#Same media oulets sorted by category\n",
    "newspapers = ['nytimes', 'wsj','foxnews', 'aarp','usatoday', 'newstoday', 'reuters', 'timesrepublican', \n",
    "'latimes', 'washingtonpost', 'startribune', 'cnn',  'chicagotribune', 'usnews', 'nbcnews', 'theguardian',\n",
    "'bbc', 'independent', 'thesun', 'thetimes','express', 'dailymail', 'mirror', 'economist']\n",
    "\n",
    "celebmagazines = ['womansday', 'usmagazine', 'people','tmz', 'intouchweekly', 'starmagazine']\n",
    "\n",
    "other = ['mtv', 'msn','nationalgeographic', 'vanityfair', 'rollingstone']\n",
    "\n",
    "sport = ['espn', 'sportingnews', 'theathletic']\n",
    "\n"
   ]
  },
  {
   "cell_type": "code",
   "execution_count": null,
   "metadata": {},
   "outputs": [],
   "source": [
    "# Initializing a sentiment analyzer\n",
    "sent_analyzer = SentimentIntensityAnalyzer()\n",
    "\n",
    "#Iterating through the cleaned files\n",
    "for x in range(len(path_to_file)):\n",
    "# Reading the data in chunks\n",
    "  df_reader = pd.read_json(path_to_file[x], lines=True, compression='bz2', chunksize=500000)\n",
    "  for chunk in df_reader:\n",
    "\n",
    "    #Dropping unnecesary columns\n",
    "    chunk = chunk.drop(axis=1, columns = 'quoteID')\n",
    "    chunk = chunk.drop(axis=1, columns = 'phase')\n",
    "    chunk = chunk.drop(axis=1, columns = 'speaker')\n",
    "    chunk = chunk.drop(axis=1, columns = 'qids')\n",
    "    chunk = chunk.drop(axis=1, columns = 'numOccurrences')\n",
    "    chunk = chunk.drop(axis=1, columns = 'probas')\n",
    "    \n",
    "    #Adding media outlet if substring found in url\n",
    "    chunk = get_media(chunk, media_outlets)\n",
    "    \n",
    "    # Dropping NaN values in media_outlet\n",
    "    chunk = chunk.dropna(axis=0, subset=['media_outlet'])\n",
    "    chunk = chunk.drop(axis=1, columns = 'urls')\n",
    "\n",
    "    # Calculating compound sentiment scores for the chunk and append the values in a column\n",
    "    chunk['compound'] = chunk['quotation'].apply(lambda x: sent_analyzer.polarity_scores(x)['compound'])\n",
    "    chunk['positive'] = chunk['quotation'].apply(lambda x: sent_analyzer.polarity_scores(x)['pos'])\n",
    "    chunk['negative'] = chunk['quotation'].apply(lambda x: sent_analyzer.polarity_scores(x)['neg'])\n",
    "    chunk['blob_polar'] = chunk['quotation'].apply(lambda x: TextBlob(x).sentiment.polarity)\n",
    "    chunk['blob_subj'] = chunk['quotation'].apply(lambda x: TextBlob(x).sentiment.subjectivity)\n",
    "    chunk = chunk.drop(axis=1, columns = 'quotation')\n",
    "\n",
    "    #Adding date_short\n",
    "    chunk['date_short'] = pd.to_datetime(chunk['date']).dt.date\n",
    "    chunk = chunk.drop(axis=1, columns = 'date')\n",
    "    \n",
    "    #Writing chunk to csv\n",
    "    chunk.to_csv(path_or_buf= files_with_sentiment[x], compression='bz2', mode = 'a')\n",
    "    print('chunk OK')\n"
   ]
  },
  {
   "cell_type": "markdown",
   "metadata": {},
   "source": [
    "## Start media analysis"
   ]
  },
  {
   "cell_type": "code",
   "execution_count": 160,
   "metadata": {},
   "outputs": [],
   "source": [
    "# Files with media\n",
    "files = ['media_outlet_with_sentiment/clean-quotes-2015_with_sentiment.csv.bz2',\n",
    "    'media_outlet_with_sentiment/clean-quotes-2016_with_sentiment.csv.bz2',\n",
    "    'media_outlet_with_sentiment/clean-quotes-2017_with_sentiment.csv.bz2',\n",
    "    'media_outlet_with_sentiment/clean-quotes-2018_with_sentiment.csv.bz2',\n",
    "    'media_outlet_with_sentiment/clean-quotes-2019_with_sentiment.csv.bz2',\n",
    "    'media_outlet_with_sentiment/clean-quotes-2020_with_sentiment.csv.bz2']"
   ]
  },
  {
   "cell_type": "code",
   "execution_count": 161,
   "metadata": {},
   "outputs": [
    {
     "name": "stderr",
     "output_type": "stream",
     "text": [
      "C:\\Users\\asbjo\\anaconda3\\envs\\ADA\\lib\\site-packages\\IPython\\core\\interactiveshell.py:3441: DtypeWarning:\n",
      "\n",
      "Columns (2,3,4,5,6) have mixed types.Specify dtype option on import or set low_memory=False.\n",
      "\n"
     ]
    }
   ],
   "source": [
    "#Reading in all files to one dataframe\n",
    "\n",
    "df = pd.concat(map(pd.read_csv, [files[0], files[1],files[2], files[3], files[4], files[5]]))"
   ]
  },
  {
   "cell_type": "code",
   "execution_count": 162,
   "metadata": {},
   "outputs": [],
   "source": [
    "# Ensure that each column have the right datatype\n",
    "\n",
    "df['compound'] = pd.to_numeric(df.compound, errors='coerce')\n",
    "df['positive'] = pd.to_numeric(df.positive, errors='coerce')\n",
    "df['negative'] = pd.to_numeric(df.negative, errors='coerce')\n",
    "df['blob_polar'] = pd.to_numeric(df.blob_polar, errors='coerce')\n",
    "df['blob_subj'] = pd.to_numeric(df.blob_subj, errors='coerce')\n",
    "\n",
    "df = df.drop(axis=1, columns = 'Unnamed: 0')"
   ]
  },
  {
   "cell_type": "code",
   "execution_count": 163,
   "metadata": {},
   "outputs": [
    {
     "data": {
      "text/html": [
       "<div>\n",
       "<style scoped>\n",
       "    .dataframe tbody tr th:only-of-type {\n",
       "        vertical-align: middle;\n",
       "    }\n",
       "\n",
       "    .dataframe tbody tr th {\n",
       "        vertical-align: top;\n",
       "    }\n",
       "\n",
       "    .dataframe thead th {\n",
       "        text-align: right;\n",
       "    }\n",
       "</style>\n",
       "<table border=\"1\" class=\"dataframe\">\n",
       "  <thead>\n",
       "    <tr style=\"text-align: right;\">\n",
       "      <th></th>\n",
       "      <th>compound</th>\n",
       "      <th>positive</th>\n",
       "      <th>negative</th>\n",
       "      <th>blob_polar</th>\n",
       "      <th>blob_subj</th>\n",
       "    </tr>\n",
       "  </thead>\n",
       "  <tbody>\n",
       "    <tr>\n",
       "      <th>count</th>\n",
       "      <td>1.191700e+07</td>\n",
       "      <td>1.191700e+07</td>\n",
       "      <td>1.191700e+07</td>\n",
       "      <td>1.191700e+07</td>\n",
       "      <td>1.191700e+07</td>\n",
       "    </tr>\n",
       "    <tr>\n",
       "      <th>mean</th>\n",
       "      <td>1.522685e-01</td>\n",
       "      <td>1.239034e-01</td>\n",
       "      <td>6.751057e-02</td>\n",
       "      <td>1.070985e-01</td>\n",
       "      <td>3.821861e-01</td>\n",
       "    </tr>\n",
       "    <tr>\n",
       "      <th>std</th>\n",
       "      <td>4.606570e-01</td>\n",
       "      <td>1.416592e-01</td>\n",
       "      <td>1.135490e-01</td>\n",
       "      <td>2.694825e-01</td>\n",
       "      <td>3.010360e-01</td>\n",
       "    </tr>\n",
       "    <tr>\n",
       "      <th>min</th>\n",
       "      <td>-9.991000e-01</td>\n",
       "      <td>0.000000e+00</td>\n",
       "      <td>0.000000e+00</td>\n",
       "      <td>-1.000000e+00</td>\n",
       "      <td>0.000000e+00</td>\n",
       "    </tr>\n",
       "    <tr>\n",
       "      <th>25%</th>\n",
       "      <td>-2.580000e-02</td>\n",
       "      <td>0.000000e+00</td>\n",
       "      <td>0.000000e+00</td>\n",
       "      <td>0.000000e+00</td>\n",
       "      <td>0.000000e+00</td>\n",
       "    </tr>\n",
       "    <tr>\n",
       "      <th>50%</th>\n",
       "      <td>0.000000e+00</td>\n",
       "      <td>9.000000e-02</td>\n",
       "      <td>0.000000e+00</td>\n",
       "      <td>0.000000e+00</td>\n",
       "      <td>4.000000e-01</td>\n",
       "    </tr>\n",
       "    <tr>\n",
       "      <th>75%</th>\n",
       "      <td>5.267000e-01</td>\n",
       "      <td>2.070000e-01</td>\n",
       "      <td>1.070000e-01</td>\n",
       "      <td>2.500000e-01</td>\n",
       "      <td>6.000000e-01</td>\n",
       "    </tr>\n",
       "    <tr>\n",
       "      <th>max</th>\n",
       "      <td>9.996000e-01</td>\n",
       "      <td>1.000000e+00</td>\n",
       "      <td>1.000000e+00</td>\n",
       "      <td>1.000000e+00</td>\n",
       "      <td>1.000000e+00</td>\n",
       "    </tr>\n",
       "  </tbody>\n",
       "</table>\n",
       "</div>"
      ],
      "text/plain": [
       "           compound      positive      negative    blob_polar     blob_subj\n",
       "count  1.191700e+07  1.191700e+07  1.191700e+07  1.191700e+07  1.191700e+07\n",
       "mean   1.522685e-01  1.239034e-01  6.751057e-02  1.070985e-01  3.821861e-01\n",
       "std    4.606570e-01  1.416592e-01  1.135490e-01  2.694825e-01  3.010360e-01\n",
       "min   -9.991000e-01  0.000000e+00  0.000000e+00 -1.000000e+00  0.000000e+00\n",
       "25%   -2.580000e-02  0.000000e+00  0.000000e+00  0.000000e+00  0.000000e+00\n",
       "50%    0.000000e+00  9.000000e-02  0.000000e+00  0.000000e+00  4.000000e-01\n",
       "75%    5.267000e-01  2.070000e-01  1.070000e-01  2.500000e-01  6.000000e-01\n",
       "max    9.996000e-01  1.000000e+00  1.000000e+00  1.000000e+00  1.000000e+00"
      ]
     },
     "execution_count": 163,
     "metadata": {},
     "output_type": "execute_result"
    }
   ],
   "source": [
    "df.describe()"
   ]
  },
  {
   "cell_type": "code",
   "execution_count": 164,
   "metadata": {},
   "outputs": [
    {
     "data": {
      "text/html": [
       "<div>\n",
       "<style scoped>\n",
       "    .dataframe tbody tr th:only-of-type {\n",
       "        vertical-align: middle;\n",
       "    }\n",
       "\n",
       "    .dataframe tbody tr th {\n",
       "        vertical-align: top;\n",
       "    }\n",
       "\n",
       "    .dataframe thead th {\n",
       "        text-align: right;\n",
       "    }\n",
       "</style>\n",
       "<table border=\"1\" class=\"dataframe\">\n",
       "  <thead>\n",
       "    <tr style=\"text-align: right;\">\n",
       "      <th></th>\n",
       "      <th>media_outlet</th>\n",
       "      <th>compound</th>\n",
       "      <th>positive</th>\n",
       "      <th>negative</th>\n",
       "      <th>blob_polar</th>\n",
       "      <th>blob_subj</th>\n",
       "      <th>date_short</th>\n",
       "    </tr>\n",
       "  </thead>\n",
       "  <tbody>\n",
       "    <tr>\n",
       "      <th>0</th>\n",
       "      <td>washingtonpost</td>\n",
       "      <td>0.2500</td>\n",
       "      <td>0.083</td>\n",
       "      <td>0.000</td>\n",
       "      <td>0.000000</td>\n",
       "      <td>0.000000</td>\n",
       "      <td>2015-12-13</td>\n",
       "    </tr>\n",
       "    <tr>\n",
       "      <th>1</th>\n",
       "      <td>startribune</td>\n",
       "      <td>0.0000</td>\n",
       "      <td>0.000</td>\n",
       "      <td>0.000</td>\n",
       "      <td>0.062500</td>\n",
       "      <td>0.354167</td>\n",
       "      <td>2015-10-02</td>\n",
       "    </tr>\n",
       "    <tr>\n",
       "      <th>2</th>\n",
       "      <td>mtv</td>\n",
       "      <td>0.0000</td>\n",
       "      <td>0.000</td>\n",
       "      <td>0.000</td>\n",
       "      <td>-0.083333</td>\n",
       "      <td>0.216667</td>\n",
       "      <td>2015-10-09</td>\n",
       "    </tr>\n",
       "    <tr>\n",
       "      <th>3</th>\n",
       "      <td>express</td>\n",
       "      <td>-0.3400</td>\n",
       "      <td>0.073</td>\n",
       "      <td>0.094</td>\n",
       "      <td>0.600000</td>\n",
       "      <td>1.000000</td>\n",
       "      <td>2015-11-17</td>\n",
       "    </tr>\n",
       "    <tr>\n",
       "      <th>4</th>\n",
       "      <td>reuters</td>\n",
       "      <td>-0.2732</td>\n",
       "      <td>0.000</td>\n",
       "      <td>0.110</td>\n",
       "      <td>-0.187500</td>\n",
       "      <td>0.500000</td>\n",
       "      <td>2015-02-06</td>\n",
       "    </tr>\n",
       "  </tbody>\n",
       "</table>\n",
       "</div>"
      ],
      "text/plain": [
       "     media_outlet  compound  positive  negative  blob_polar  blob_subj  \\\n",
       "0  washingtonpost    0.2500     0.083     0.000    0.000000   0.000000   \n",
       "1     startribune    0.0000     0.000     0.000    0.062500   0.354167   \n",
       "2             mtv    0.0000     0.000     0.000   -0.083333   0.216667   \n",
       "3         express   -0.3400     0.073     0.094    0.600000   1.000000   \n",
       "4         reuters   -0.2732     0.000     0.110   -0.187500   0.500000   \n",
       "\n",
       "   date_short  \n",
       "0  2015-12-13  \n",
       "1  2015-10-02  \n",
       "2  2015-10-09  \n",
       "3  2015-11-17  \n",
       "4  2015-02-06  "
      ]
     },
     "execution_count": 164,
     "metadata": {},
     "output_type": "execute_result"
    }
   ],
   "source": [
    "df.head()"
   ]
  },
  {
   "cell_type": "code",
   "execution_count": 165,
   "metadata": {},
   "outputs": [],
   "source": [
    "#Dropping rows not of interest. To small samples\n",
    "\n",
    "df = df[df.media_outlet != 'media_outlet']\n",
    "df = df[df.media_outlet != 'starmagazine']"
   ]
  },
  {
   "cell_type": "code",
   "execution_count": 166,
   "metadata": {},
   "outputs": [
    {
     "data": {
      "text/plain": [
       "media_outlet     object\n",
       "compound        float64\n",
       "positive        float64\n",
       "negative        float64\n",
       "blob_polar      float64\n",
       "blob_subj       float64\n",
       "date_short       object\n",
       "dtype: object"
      ]
     },
     "execution_count": 166,
     "metadata": {},
     "output_type": "execute_result"
    }
   ],
   "source": [
    "df.dtypes"
   ]
  },
  {
   "cell_type": "code",
   "execution_count": 167,
   "metadata": {},
   "outputs": [
    {
     "data": {
      "text/plain": [
       "media_outlet\n",
       "aarp                    10647\n",
       "bbc                    633483\n",
       "chicagotribune         302545\n",
       "cnn                    542743\n",
       "dailymail              104839\n",
       "economist               30048\n",
       "espn                   889974\n",
       "express               1219309\n",
       "foxnews                448658\n",
       "independent            706913\n",
       "intouchweekly           18645\n",
       "latimes                523155\n",
       "mirror                 899252\n",
       "msn                    892391\n",
       "mtv                     60622\n",
       "nationalgeographic      14120\n",
       "nbcnews                196008\n",
       "newstoday               58413\n",
       "nytimes                669739\n",
       "people                1015700\n",
       "reuters                233767\n",
       "rollingstone            70055\n",
       "sportingnews            98512\n",
       "startribune            214206\n",
       "theathletic               193\n",
       "theguardian            422700\n",
       "thesun                 391473\n",
       "thetimes                86669\n",
       "timesrepublican         10467\n",
       "tmz                     20019\n",
       "usatoday               217865\n",
       "usmagazine              72427\n",
       "usnews                  50768\n",
       "vanityfair              79712\n",
       "washingtonpost         555325\n",
       "womansday                7486\n",
       "wsj                    148151\n",
       "Name: compound, dtype: int64"
      ]
     },
     "execution_count": 167,
     "metadata": {},
     "output_type": "execute_result"
    }
   ],
   "source": [
    "# Counting the number of qoutes per dataframe\n",
    "media = df.groupby(by='media_outlet').count()\n",
    "media['compound']"
   ]
  },
  {
   "cell_type": "code",
   "execution_count": 168,
   "metadata": {},
   "outputs": [
    {
     "name": "stdout",
     "output_type": "stream",
     "text": [
      "                    compound  positive  negative  blob_polar  blob_subj\n",
      "media_outlet                                                           \n",
      "aarp                0.183836  0.131132  0.060667    0.126072   0.374449\n",
      "bbc                 0.153965  0.125621  0.067830    0.109402   0.382687\n",
      "chicagotribune      0.185827  0.130868  0.056026    0.124636   0.375464\n",
      "cnn                 0.095295  0.110996  0.075607    0.088059   0.367360\n",
      "dailymail           0.187443  0.133669  0.061801    0.114771   0.378852\n",
      "economist           0.102192  0.106390  0.072124    0.089859   0.373278\n",
      "espn                0.278250  0.145377  0.049500    0.147783   0.404517\n",
      "express             0.163235  0.121867  0.064466    0.106405   0.388064\n",
      "foxnews             0.076495  0.112459  0.084968    0.080844   0.371784\n",
      "independent         0.161623  0.124508  0.067617    0.108429   0.389633\n",
      "intouchweekly       0.165652  0.142469  0.073848    0.123912   0.415321\n",
      "latimes             0.153323  0.123426  0.063203    0.109983   0.368558\n",
      "mirror              0.160879  0.129979  0.070235    0.109335   0.400109\n",
      "msn                 0.115606  0.115248  0.072714    0.095105   0.377244\n",
      "mtv                 0.234072  0.141683  0.057314    0.134443   0.410578\n",
      "nationalgeographic  0.093581  0.099284  0.059935    0.097730   0.380689\n",
      "nbcnews             0.076978  0.108449  0.079126    0.084946   0.367146\n",
      "newstoday           0.193942  0.128289  0.058385    0.122465   0.387792\n",
      "nytimes             0.085280  0.109771  0.072273    0.085834   0.343863\n",
      "people              0.167555  0.129060  0.067402    0.114517   0.392129\n",
      "reuters             0.119560  0.116939  0.073184    0.091926   0.379604\n",
      "rollingstone        0.126240  0.115878  0.068627    0.094108   0.372821\n",
      "sportingnews        0.260013  0.142864  0.053068    0.144375   0.403348\n",
      "startribune         0.201327  0.134079  0.053238    0.129532   0.378024\n",
      "theathletic         0.174704  0.135959  0.062477    0.126849   0.379356\n",
      "theguardian         0.118336  0.116120  0.074918    0.092561   0.384001\n",
      "thesun              0.143466  0.132226  0.074396    0.104349   0.396626\n",
      "thetimes            0.169441  0.127955  0.059283    0.119120   0.366986\n",
      "timesrepublican     0.258052  0.134534  0.044864    0.150235   0.400762\n",
      "tmz                 0.129816  0.132279  0.081084    0.098428   0.363039\n",
      "usatoday            0.196227  0.133505  0.059257    0.126009   0.390706\n",
      "usmagazine          0.236536  0.154404  0.059317    0.142679   0.416816\n",
      "usnews              0.083012  0.108974  0.077022    0.087411   0.369065\n",
      "vanityfair          0.121082  0.114180  0.069472    0.094713   0.380916\n",
      "washingtonpost      0.112803  0.115204  0.071702    0.092025   0.361353\n",
      "womansday           0.227933  0.147299  0.059954    0.136795   0.426340\n",
      "wsj                 0.128148  0.118370  0.064802    0.102832   0.361352\n"
     ]
    }
   ],
   "source": [
    "#Printing mean scores related to mediaoutlets\n",
    "\n",
    "print(df.groupby(by = 'media_outlet').mean())"
   ]
  },
  {
   "cell_type": "code",
   "execution_count": 169,
   "metadata": {},
   "outputs": [],
   "source": [
    "# Making dataframes from a selection of media outlets\n",
    "\n",
    "nytimes = df.loc[df['media_outlet']=='nytimes']\n",
    "wsj = df.loc[df['media_outlet']=='wsj']\n",
    "people = df.loc[df['media_outlet']=='people']\n",
    "womansday = df.loc[df['media_outlet'] == 'womansday'] \n",
    "mtv = df.loc[df['media_outlet'] == 'mtv']\n",
    "tmz = df.loc[df['media_outlet'] == 'tmz']\n",
    "espn = df.loc[df['media_outlet'] == 'espn']"
   ]
  },
  {
   "cell_type": "code",
   "execution_count": 198,
   "metadata": {},
   "outputs": [
    {
     "data": {
      "image/png": "[encoded data removed]",
      "text/plain": [
       "<Figure size 1008x720 with 7 Axes>"
      ]
     },
     "metadata": {},
     "output_type": "display_data"
    }
   ],
   "source": [
    "#Plotting the compound score distributions of the outlet selection\n",
    "\n",
    "fig, ax = plt.subplots(7,1, figsize=(14,10))\n",
    "\n",
    "ax[0].hist(nytimes.compound, bins=15)\n",
    "ax[0].set_xlabel('Compound score')\n",
    "ax[0].set_ylabel('Frequency')\n",
    "ax[1].hist(wsj.compound, bins=15)\n",
    "ax[1].set_xlabel('Compound score')\n",
    "ax[1].set_ylabel('Frequency')\n",
    "ax[2].hist(people.compound, bins = 15)\n",
    "ax[2].set_xlabel('Compound score')\n",
    "ax[2].set_ylabel('Frequency')\n",
    "ax[3].hist(womansday.compound, bins = 15)\n",
    "ax[3].set_xlabel('Compound score')\n",
    "ax[3].set_ylabel('Frequency')\n",
    "ax[4].hist(mtv.compound, bins = 15)\n",
    "ax[4].set_xlabel('Compound score')\n",
    "ax[4].set_ylabel('Frequency')\n",
    "ax[5].hist(tmz.compound, bins = 15)\n",
    "ax[5].set_xlabel('Compound score')\n",
    "ax[5].set_ylabel('Frequency')\n",
    "ax[6].hist(espn.compound, bins = 15)\n",
    "ax[6].set_xlabel('Compound score')\n",
    "ax[6].set_ylabel('Frequency')\n",
    "\n",
    "fig.tight_layout()\n",
    "\n",
    "plt.show()"
   ]
  },
  {
   "cell_type": "code",
   "execution_count": 172,
   "metadata": {},
   "outputs": [
    {
     "data": {
      "text/plain": [
       "Text(0.5, 1.0, '')"
      ]
     },
     "execution_count": 172,
     "metadata": {},
     "output_type": "execute_result"
    },
    {
     "data": {
      "image/png": "[encoded data removed]",
      "text/plain": [
       "<Figure size 720x720 with 1 Axes>"
      ]
     },
     "metadata": {},
     "output_type": "display_data"
    }
   ],
   "source": [
    "mean_polar = df.groupby(by = ['media_outlet'])['blob_polar'].mean()\n",
    "mean_subj = df.groupby(by = ['media_outlet'])['blob_subj'].mean()\n",
    "\n",
    "\n",
    "name = mean_polar.keys()\n",
    "\n",
    "def pltcolor(lst):\n",
    "    cols=[]\n",
    "    for l in lst:\n",
    "        if (l in newspapers):\n",
    "            cols.append('red')\n",
    "        elif (l in celebmagazines):\n",
    "            cols.append('blue')\n",
    "        elif (l in other):\n",
    "            cols.append('yellow')\n",
    "        else:\n",
    "            cols.append('green')\n",
    "    return cols\n",
    "# Create the colors list using the function above\n",
    "cols=pltcolor(mean_polar.keys())\n",
    "\n",
    "fig, ax = plt.subplots(figsize=(10,10))\n",
    "ax.scatter(mean_polar, mean_subj, c=cols)\n",
    "for i, txt in enumerate(name):\n",
    "    ax.annotate(txt, (mean_subj[i], mean_polar[i]))\n",
    "ax.set_title('')\n"
   ]
  },
  {
   "cell_type": "code",
   "execution_count": 173,
   "metadata": {},
   "outputs": [],
   "source": [
    "df_scatter = pd.DataFrame()\n",
    "df_scatter['Polarity'] = df.groupby(by = ['media_outlet'])['blob_polar'].mean()\n",
    "df_scatter['Subjectivity'] = df.groupby(by = ['media_outlet'])['blob_subj'].mean()\n",
    "df_scatter['media_outlet'] = df_scatter.index\n",
    "\n",
    "def add_category(row):\n",
    "    if (row['media_outlet'] in newspapers):\n",
    "        val = 'Newspaper'\n",
    "    elif (row['media_outlet'] in celebmagazines):\n",
    "        val = 'Celebrity magazine'\n",
    "    elif (row['media_outlet'] in other):\n",
    "        val = 'Other'\n",
    "    else:\n",
    "        val = 'Sports'\n",
    "    return val\n",
    "\n",
    "df_scatter['category'] = df_scatter.apply(add_category, axis=1)"
   ]
  },
  {
   "cell_type": "code",
   "execution_count": 174,
   "metadata": {},
   "outputs": [
    {
     "data": {
      "application/vnd.plotly.v1+json": {
       "config": {
        "plotlyServerURL": "https://plot.ly"
       },
       "data": [
        {
         "hovertemplate": "category=Newspaper<br>Polarity=%{x}<br>Subjectivity=%{y}<br>media_outlet=%{text}<extra></extra>",
         "legendgroup": "Newspaper",
         "marker": {
          "color": "#636efa",
          "symbol": "circle"
         },
         "mode": "markers+text",
         "name": "Newspaper",
         "orientation": "v",
         "showlegend": true,
         "text": [
          "aarp",
          "bbc",
          "chicagotribune",
          "cnn",
          "dailymail",
          "economist",
          "express",
          "foxnews",
          "independent",
          "latimes",
          "mirror",
          "nbcnews",
          "newstoday",
          "nytimes",
          "reuters",
          "startribune",
          "theguardian",
          "thesun",
          "thetimes",
          "timesrepublican",
          "usatoday",
          "usnews",
          "washingtonpost",
          "wsj"
         ],
         "textposition": "bottom right",
         "type": "scatter",
         "x": [
          0.12607170483555827,
          0.1094016003195945,
          0.12463567876753545,
          0.08805864923902959,
          0.11477087733411862,
          0.08985947145148475,
          0.10640510364464555,
          0.08084401281892531,
          0.10842936607639672,
          0.10998322933666663,
          0.10933458154045966,
          0.08494632650234392,
          0.12246460304152065,
          0.0858342137133931,
          0.09192630519182025,
          0.1295315868277594,
          0.09256143179181052,
          0.10434860856155259,
          0.11911973809355327,
          0.1502346940372679,
          0.1260092329694737,
          0.08741065196651417,
          0.09202484984227888,
          0.10283235717086375
         ],
         "xaxis": "x",
         "y": [
          0.37444873940855283,
          0.3826866088964548,
          0.3754635301401023,
          0.3673595221043469,
          0.3788517132594974,
          0.3732775154114441,
          0.38806425908411574,
          0.37178417425224825,
          0.389633153625474,
          0.36855834930055664,
          0.4001091472419341,
          0.36714583932474576,
          0.3877921464713478,
          0.34386292591034756,
          0.37960356540792095,
          0.37802431783563206,
          0.38400083227471815,
          0.3966257517730122,
          0.3669861414026695,
          0.4007623441449086,
          0.3907055217239117,
          0.3690654815499488,
          0.3613530721162659,
          0.3613523464292976
         ],
         "yaxis": "y"
        },
        {
         "hovertemplate": "category=Sports<br>Polarity=%{x}<br>Subjectivity=%{y}<br>media_outlet=%{text}<extra></extra>",
         "legendgroup": "Sports",
         "marker": {
          "color": "#EF553B",
          "symbol": "diamond"
         },
         "mode": "markers+text",
         "name": "Sports",
         "orientation": "v",
         "showlegend": true,
         "text": [
          "espn",
          "sportingnews",
          "theathletic"
         ],
         "textposition": "bottom right",
         "type": "scatter",
         "x": [
          0.1477825845154443,
          0.14437548530550923,
          0.12684908681115192
         ],
         "xaxis": "x",
         "y": [
          0.40451685397952636,
          0.4033481210929586,
          0.37935611074736436
         ],
         "yaxis": "y"
        },
        {
         "hovertemplate": "category=Celebrity magazine<br>Polarity=%{x}<br>Subjectivity=%{y}<br>media_outlet=%{text}<extra></extra>",
         "legendgroup": "Celebrity magazine",
         "marker": {
          "color": "#00cc96",
          "symbol": "square"
         },
         "mode": "markers+text",
         "name": "Celebrity magazine",
         "orientation": "v",
         "showlegend": true,
         "text": [
          "intouchweekly",
          "people",
          "tmz",
          "usmagazine",
          "womansday"
         ],
         "textposition": "bottom right",
         "type": "scatter",
         "x": [
          0.12391172043105501,
          0.11451660856813274,
          0.09842790978074807,
          0.14267907146848594,
          0.13679483685364588
         ],
         "xaxis": "x",
         "y": [
          0.41532078011875134,
          0.3921289398031538,
          0.3630387359587357,
          0.41681613934607675,
          0.4263403100597505
         ],
         "yaxis": "y"
        },
        {
         "hovertemplate": "category=Other<br>Polarity=%{x}<br>Subjectivity=%{y}<br>media_outlet=%{text}<extra></extra>",
         "legendgroup": "Other",
         "marker": {
          "color": "#ab63fa",
          "symbol": "x"
         },
         "mode": "markers+text",
         "name": "Other",
         "orientation": "v",
         "showlegend": true,
         "text": [
          "msn",
          "mtv",
          "nationalgeographic",
          "rollingstone",
          "vanityfair"
         ],
         "textposition": "bottom right",
         "type": "scatter",
         "x": [
          0.09510480804083123,
          0.1344426526618121,
          0.09773029147388952,
          0.094107804339251,
          0.09471254067763805
         ],
         "xaxis": "x",
         "y": [
          0.37724354731559356,
          0.410578016543632,
          0.3806892277143651,
          0.3728209166086783,
          0.3809155108312891
         ],
         "yaxis": "y"
        }
       ],
       "layout": {
        "legend": {
         "title": {
          "text": "category"
         },
         "tracegroupgap": 0
        },
        "margin": {
         "t": 60
        },
        "template": {
         "data": {
          "bar": [
           {
            "error_x": {
             "color": "#2a3f5f"
            },
            "error_y": {
             "color": "#2a3f5f"
            },
            "marker": {
             "line": {
              "color": "#E5ECF6",
              "width": 0.5
             },
             "pattern": {
              "fillmode": "overlay",
              "size": 10,
              "solidity": 0.2
             }
            },
            "type": "bar"
           }
          ],
          "barpolar": [
           {
            "marker": {
             "line": {
              "color": "#E5ECF6",
              "width": 0.5
             },
             "pattern": {
              "fillmode": "overlay",
              "size": 10,
              "solidity": 0.2
             }
            },
            "type": "barpolar"
           }
          ],
          "carpet": [
           {
            "aaxis": {
             "endlinecolor": "#2a3f5f",
             "gridcolor": "white",
             "linecolor": "white",
             "minorgridcolor": "white",
             "startlinecolor": "#2a3f5f"
            },
            "baxis": {
             "endlinecolor": "#2a3f5f",
             "gridcolor": "white",
             "linecolor": "white",
             "minorgridcolor": "white",
             "startlinecolor": "#2a3f5f"
            },
            "type": "carpet"
           }
          ],
          "choropleth": [
           {
            "colorbar": {
             "outlinewidth": 0,
             "ticks": ""
            },
            "type": "choropleth"
           }
          ],
          "contour": [
           {
            "colorbar": {
             "outlinewidth": 0,
             "ticks": ""
            },
            "colorscale": [
             [
              0,
              "#0d0887"
             ],
             [
              0.1111111111111111,
              "#46039f"
             ],
             [
              0.2222222222222222,
              "#7201a8"
             ],
             [
              0.3333333333333333,
              "#9c179e"
             ],
             [
              0.4444444444444444,
              "#bd3786"
             ],
             [
              0.5555555555555556,
              "#d8576b"
             ],
             [
              0.6666666666666666,
              "#ed7953"
             ],
             [
              0.7777777777777778,
              "#fb9f3a"
             ],
             [
              0.8888888888888888,
              "#fdca26"
             ],
             [
              1,
              "#f0f921"
             ]
            ],
            "type": "contour"
           }
          ],
          "contourcarpet": [
           {
            "colorbar": {
             "outlinewidth": 0,
             "ticks": ""
            },
            "type": "contourcarpet"
           }
          ],
          "heatmap": [
           {
            "colorbar": {
             "outlinewidth": 0,
             "ticks": ""
            },
            "colorscale": [
             [
              0,
              "#0d0887"
             ],
             [
              0.1111111111111111,
              "#46039f"
             ],
             [
              0.2222222222222222,
              "#7201a8"
             ],
             [
              0.3333333333333333,
              "#9c179e"
             ],
             [
              0.4444444444444444,
              "#bd3786"
             ],
             [
              0.5555555555555556,
              "#d8576b"
             ],
             [
              0.6666666666666666,
              "#ed7953"
             ],
             [
              0.7777777777777778,
              "#fb9f3a"
             ],
             [
              0.8888888888888888,
              "#fdca26"
             ],
             [
              1,
              "#f0f921"
             ]
            ],
            "type": "heatmap"
           }
          ],
          "heatmapgl": [
           {
            "colorbar": {
             "outlinewidth": 0,
             "ticks": ""
            },
            "colorscale": [
             [
              0,
              "#0d0887"
             ],
             [
              0.1111111111111111,
              "#46039f"
             ],
             [
              0.2222222222222222,
              "#7201a8"
             ],
             [
              0.3333333333333333,
              "#9c179e"
             ],
             [
              0.4444444444444444,
              "#bd3786"
             ],
             [
              0.5555555555555556,
              "#d8576b"
             ],
             [
              0.6666666666666666,
              "#ed7953"
             ],
             [
              0.7777777777777778,
              "#fb9f3a"
             ],
             [
              0.8888888888888888,
              "#fdca26"
             ],
             [
              1,
              "#f0f921"
             ]
            ],
            "type": "heatmapgl"
           }
          ],
          "histogram": [
           {
            "marker": {
             "pattern": {
              "fillmode": "overlay",
              "size": 10,
              "solidity": 0.2
             }
            },
            "type": "histogram"
           }
          ],
          "histogram2d": [
           {
            "colorbar": {
             "outlinewidth": 0,
             "ticks": ""
            },
            "colorscale": [
             [
              0,
              "#0d0887"
             ],
             [
              0.1111111111111111,
              "#46039f"
             ],
             [
              0.2222222222222222,
              "#7201a8"
             ],
             [
              0.3333333333333333,
              "#9c179e"
             ],
             [
              0.4444444444444444,
              "#bd3786"
             ],
             [
              0.5555555555555556,
              "#d8576b"
             ],
             [
              0.6666666666666666,
              "#ed7953"
             ],
             [
              0.7777777777777778,
              "#fb9f3a"
             ],
             [
              0.8888888888888888,
              "#fdca26"
             ],
             [
              1,
              "#f0f921"
             ]
            ],
            "type": "histogram2d"
           }
          ],
          "histogram2dcontour": [
           {
            "colorbar": {
             "outlinewidth": 0,
             "ticks": ""
            },
            "colorscale": [
             [
              0,
              "#0d0887"
             ],
             [
              0.1111111111111111,
              "#46039f"
             ],
             [
              0.2222222222222222,
              "#7201a8"
             ],
             [
              0.3333333333333333,
              "#9c179e"
             ],
             [
              0.4444444444444444,
              "#bd3786"
             ],
             [
              0.5555555555555556,
              "#d8576b"
             ],
             [
              0.6666666666666666,
              "#ed7953"
             ],
             [
              0.7777777777777778,
              "#fb9f3a"
             ],
             [
              0.8888888888888888,
              "#fdca26"
             ],
             [
              1,
              "#f0f921"
             ]
            ],
            "type": "histogram2dcontour"
           }
          ],
          "mesh3d": [
           {
            "colorbar": {
             "outlinewidth": 0,
             "ticks": ""
            },
            "type": "mesh3d"
           }
          ],
          "parcoords": [
           {
            "line": {
             "colorbar": {
              "outlinewidth": 0,
              "ticks": ""
             }
            },
            "type": "parcoords"
           }
          ],
          "pie": [
           {
            "automargin": true,
            "type": "pie"
           }
          ],
          "scatter": [
           {
            "marker": {
             "colorbar": {
              "outlinewidth": 0,
              "ticks": ""
             }
            },
            "type": "scatter"
           }
          ],
          "scatter3d": [
           {
            "line": {
             "colorbar": {
              "outlinewidth": 0,
              "ticks": ""
             }
            },
            "marker": {
             "colorbar": {
              "outlinewidth": 0,
              "ticks": ""
             }
            },
            "type": "scatter3d"
           }
          ],
          "scattercarpet": [
           {
            "marker": {
             "colorbar": {
              "outlinewidth": 0,
              "ticks": ""
             }
            },
            "type": "scattercarpet"
           }
          ],
          "scattergeo": [
           {
            "marker": {
             "colorbar": {
              "outlinewidth": 0,
              "ticks": ""
             }
            },
            "type": "scattergeo"
           }
          ],
          "scattergl": [
           {
            "marker": {
             "colorbar": {
              "outlinewidth": 0,
              "ticks": ""
             }
            },
            "type": "scattergl"
           }
          ],
          "scattermapbox": [
           {
            "marker": {
             "colorbar": {
              "outlinewidth": 0,
              "ticks": ""
             }
            },
            "type": "scattermapbox"
           }
          ],
          "scatterpolar": [
           {
            "marker": {
             "colorbar": {
              "outlinewidth": 0,
              "ticks": ""
             }
            },
            "type": "scatterpolar"
           }
          ],
          "scatterpolargl": [
           {
            "marker": {
             "colorbar": {
              "outlinewidth": 0,
              "ticks": ""
             }
            },
            "type": "scatterpolargl"
           }
          ],
          "scatterternary": [
           {
            "marker": {
             "colorbar": {
              "outlinewidth": 0,
              "ticks": ""
             }
            },
            "type": "scatterternary"
           }
          ],
          "surface": [
           {
            "colorbar": {
             "outlinewidth": 0,
             "ticks": ""
            },
            "colorscale": [
             [
              0,
              "#0d0887"
             ],
             [
              0.1111111111111111,
              "#46039f"
             ],
             [
              0.2222222222222222,
              "#7201a8"
             ],
             [
              0.3333333333333333,
              "#9c179e"
             ],
             [
              0.4444444444444444,
              "#bd3786"
             ],
             [
              0.5555555555555556,
              "#d8576b"
             ],
             [
              0.6666666666666666,
              "#ed7953"
             ],
             [
              0.7777777777777778,
              "#fb9f3a"
             ],
             [
              0.8888888888888888,
              "#fdca26"
             ],
             [
              1,
              "#f0f921"
             ]
            ],
            "type": "surface"
           }
          ],
          "table": [
           {
            "cells": {
             "fill": {
              "color": "#EBF0F8"
             },
             "line": {
              "color": "white"
             }
            },
            "header": {
             "fill": {
              "color": "#C8D4E3"
             },
             "line": {
              "color": "white"
             }
            },
            "type": "table"
           }
          ]
         },
         "layout": {
          "annotationdefaults": {
           "arrowcolor": "#2a3f5f",
           "arrowhead": 0,
           "arrowwidth": 1
          },
          "autotypenumbers": "strict",
          "coloraxis": {
           "colorbar": {
            "outlinewidth": 0,
            "ticks": ""
           }
          },
          "colorscale": {
           "diverging": [
            [
             0,
             "#8e0152"
            ],
            [
             0.1,
             "#c51b7d"
            ],
            [
             0.2,
             "#de77ae"
            ],
            [
             0.3,
             "#f1b6da"
            ],
            [
             0.4,
             "#fde0ef"
            ],
            [
             0.5,
             "#f7f7f7"
            ],
            [
             0.6,
             "#e6f5d0"
            ],
            [
             0.7,
             "#b8e186"
            ],
            [
             0.8,
             "#7fbc41"
            ],
            [
             0.9,
             "#4d9221"
            ],
            [
             1,
             "#276419"
            ]
           ],
           "sequential": [
            [
             0,
             "#0d0887"
            ],
            [
             0.1111111111111111,
             "#46039f"
            ],
            [
             0.2222222222222222,
             "#7201a8"
            ],
            [
             0.3333333333333333,
             "#9c179e"
            ],
            [
             0.4444444444444444,
             "#bd3786"
            ],
            [
             0.5555555555555556,
             "#d8576b"
            ],
            [
             0.6666666666666666,
             "#ed7953"
            ],
            [
             0.7777777777777778,
             "#fb9f3a"
            ],
            [
             0.8888888888888888,
             "#fdca26"
            ],
            [
             1,
             "#f0f921"
            ]
           ],
           "sequentialminus": [
            [
             0,
             "#0d0887"
            ],
            [
             0.1111111111111111,
             "#46039f"
            ],
            [
             0.2222222222222222,
             "#7201a8"
            ],
            [
             0.3333333333333333,
             "#9c179e"
            ],
            [
             0.4444444444444444,
             "#bd3786"
            ],
            [
             0.5555555555555556,
             "#d8576b"
            ],
            [
             0.6666666666666666,
             "#ed7953"
            ],
            [
             0.7777777777777778,
             "#fb9f3a"
            ],
            [
             0.8888888888888888,
             "#fdca26"
            ],
            [
             1,
             "#f0f921"
            ]
           ]
          },
          "colorway": [
           "#636efa",
           "#EF553B",
           "#00cc96",
           "#ab63fa",
           "#FFA15A",
           "#19d3f3",
           "#FF6692",
           "#B6E880",
           "#FF97FF",
           "#FECB52"
          ],
          "font": {
           "color": "#2a3f5f"
          },
          "geo": {
           "bgcolor": "white",
           "lakecolor": "white",
           "landcolor": "#E5ECF6",
           "showlakes": true,
           "showland": true,
           "subunitcolor": "white"
          },
          "hoverlabel": {
           "align": "left"
          },
          "hovermode": "closest",
          "mapbox": {
           "style": "light"
          },
          "paper_bgcolor": "white",
          "plot_bgcolor": "#E5ECF6",
          "polar": {
           "angularaxis": {
            "gridcolor": "white",
            "linecolor": "white",
            "ticks": ""
           },
           "bgcolor": "#E5ECF6",
           "radialaxis": {
            "gridcolor": "white",
            "linecolor": "white",
            "ticks": ""
           }
          },
          "scene": {
           "xaxis": {
            "backgroundcolor": "#E5ECF6",
            "gridcolor": "white",
            "gridwidth": 2,
            "linecolor": "white",
            "showbackground": true,
            "ticks": "",
            "zerolinecolor": "white"
           },
           "yaxis": {
            "backgroundcolor": "#E5ECF6",
            "gridcolor": "white",
            "gridwidth": 2,
            "linecolor": "white",
            "showbackground": true,
            "ticks": "",
            "zerolinecolor": "white"
           },
           "zaxis": {
            "backgroundcolor": "#E5ECF6",
            "gridcolor": "white",
            "gridwidth": 2,
            "linecolor": "white",
            "showbackground": true,
            "ticks": "",
            "zerolinecolor": "white"
           }
          },
          "shapedefaults": {
           "line": {
            "color": "#2a3f5f"
           }
          },
          "ternary": {
           "aaxis": {
            "gridcolor": "white",
            "linecolor": "white",
            "ticks": ""
           },
           "baxis": {
            "gridcolor": "white",
            "linecolor": "white",
            "ticks": ""
           },
           "bgcolor": "#E5ECF6",
           "caxis": {
            "gridcolor": "white",
            "linecolor": "white",
            "ticks": ""
           }
          },
          "title": {
           "x": 0.05
          },
          "xaxis": {
           "automargin": true,
           "gridcolor": "white",
           "linecolor": "white",
           "ticks": "",
           "title": {
            "standoff": 15
           },
           "zerolinecolor": "white",
           "zerolinewidth": 2
          },
          "yaxis": {
           "automargin": true,
           "gridcolor": "white",
           "linecolor": "white",
           "ticks": "",
           "title": {
            "standoff": 15
           },
           "zerolinecolor": "white",
           "zerolinewidth": 2
          }
         }
        },
        "title": {
         "text": "Average polarity and subjectivity per media outlet"
        },
        "xaxis": {
         "anchor": "y",
         "domain": [
          0,
          1
         ],
         "title": {
          "text": "Polarity"
         }
        },
        "yaxis": {
         "anchor": "x",
         "domain": [
          0,
          1
         ],
         "title": {
          "text": "Subjectivity"
         }
        }
       }
      }
     },
     "metadata": {},
     "output_type": "display_data"
    }
   ],
   "source": [
    "fig = px.scatter(df_scatter, x='Polarity', y = 'Subjectivity', color='category', symbol=\"category\", text='media_outlet')\n",
    "fig.update_layout(title = 'Average polarity and subjectivity per media outlet')\n",
    "fig.update_traces(textposition=\"bottom right\")\n",
    "fig.show()\n",
    "fig.write_html('images/scatterplot_medias.html')\n"
   ]
  },
  {
   "cell_type": "markdown",
   "metadata": {},
   "source": [
    "## T-testing for polarity scores"
   ]
  },
  {
   "cell_type": "code",
   "execution_count": 200,
   "metadata": {},
   "outputs": [
    {
     "name": "stdout",
     "output_type": "stream",
     "text": [
      "0.08528024693197732\n",
      "0.22793258081752665\n",
      "0.12814827169577306\n",
      "0.27825008719375127\n"
     ]
    }
   ],
   "source": [
    "print(nytimes.compound.mean())\n",
    "print(womansday.compound.mean())\n",
    "print(wsj.compound.mean())\n",
    "print(espn.compound.mean())"
   ]
  },
  {
   "cell_type": "code",
   "execution_count": 176,
   "metadata": {},
   "outputs": [
    {
     "name": "stdout",
     "output_type": "stream",
     "text": [
      "Two sided paired t-test with null hypothesis: The mean mood in NYtimes equals the mean mood in Wall Street Journal:\n",
      "t-value: -35.834473757551145, p-value: 2.1812370930100076e-280\n"
     ]
    }
   ],
   "source": [
    "t, p = stats.ttest_ind(nytimes['compound'], wsj['compound'], equal_var=False)\n",
    "print(\"Two sided paired t-test with null hypothesis: The mean mood in NYtimes equals the mean mood in Wall Street Journal:\")\n",
    "print(f\"t-value: {t}, p-value: {p}\")"
   ]
  },
  {
   "cell_type": "code",
   "execution_count": 177,
   "metadata": {},
   "outputs": [
    {
     "name": "stdout",
     "output_type": "stream",
     "text": [
      "Two sided paired t-test with null hypothesis: The mean mood in NYtimes equals the mean mood in ESPN:\n",
      "t-value: -282.18957162795226, p-value: 0.0\n"
     ]
    }
   ],
   "source": [
    "t, p = stats.ttest_ind(nytimes['compound'], espn['compound'], equal_var=False)\n",
    "print(\"Two sided paired t-test with null hypothesis: The mean mood in NYtimes equals the mean mood in ESPN:\")\n",
    "print(f\"t-value: {t}, p-value: {p}\")"
   ]
  },
  {
   "cell_type": "code",
   "execution_count": 178,
   "metadata": {},
   "outputs": [
    {
     "name": "stdout",
     "output_type": "stream",
     "text": [
      "Two sided paired t-test with null hypothesis: The mean blob polar score in NYtimes equals the mean mood in ESPN:\n",
      "t-value: -142.41662557831026, p-value: 0.0\n"
     ]
    }
   ],
   "source": [
    "t, p = stats.ttest_ind(nytimes['blob_polar'], espn['blob_polar'], equal_var=False)\n",
    "print(\"Two sided paired t-test with null hypothesis: The mean blob polar score in NYtimes equals the mean mood in ESPN:\")\n",
    "print(f\"t-value: {t}, p-value: {p}\")"
   ]
  },
  {
   "cell_type": "markdown",
   "metadata": {},
   "source": [
    "## Plotting distributions"
   ]
  },
  {
   "cell_type": "code",
   "execution_count": 179,
   "metadata": {},
   "outputs": [
    {
     "data": {
      "text/html": [
       "<div>\n",
       "<style scoped>\n",
       "    .dataframe tbody tr th:only-of-type {\n",
       "        vertical-align: middle;\n",
       "    }\n",
       "\n",
       "    .dataframe tbody tr th {\n",
       "        vertical-align: top;\n",
       "    }\n",
       "\n",
       "    .dataframe thead th {\n",
       "        text-align: right;\n",
       "    }\n",
       "</style>\n",
       "<table border=\"1\" class=\"dataframe\">\n",
       "  <thead>\n",
       "    <tr style=\"text-align: right;\">\n",
       "      <th></th>\n",
       "      <th>media_outlet</th>\n",
       "      <th>compound</th>\n",
       "      <th>positive</th>\n",
       "      <th>negative</th>\n",
       "      <th>blob_polar</th>\n",
       "      <th>blob_subj</th>\n",
       "      <th>date_short</th>\n",
       "      <th>category</th>\n",
       "    </tr>\n",
       "  </thead>\n",
       "  <tbody>\n",
       "    <tr>\n",
       "      <th>0</th>\n",
       "      <td>washingtonpost</td>\n",
       "      <td>0.25</td>\n",
       "      <td>0.083</td>\n",
       "      <td>0.000</td>\n",
       "      <td>0.00</td>\n",
       "      <td>0.000000</td>\n",
       "      <td>2015-12-13</td>\n",
       "      <td>Newspaper</td>\n",
       "    </tr>\n",
       "    <tr>\n",
       "      <th>1</th>\n",
       "      <td>startribune</td>\n",
       "      <td>0.00</td>\n",
       "      <td>0.000</td>\n",
       "      <td>0.000</td>\n",
       "      <td>0.06</td>\n",
       "      <td>0.354167</td>\n",
       "      <td>2015-10-02</td>\n",
       "      <td>Newspaper</td>\n",
       "    </tr>\n",
       "    <tr>\n",
       "      <th>2</th>\n",
       "      <td>mtv</td>\n",
       "      <td>0.00</td>\n",
       "      <td>0.000</td>\n",
       "      <td>0.000</td>\n",
       "      <td>-0.08</td>\n",
       "      <td>0.216667</td>\n",
       "      <td>2015-10-09</td>\n",
       "      <td>Other</td>\n",
       "    </tr>\n",
       "    <tr>\n",
       "      <th>3</th>\n",
       "      <td>express</td>\n",
       "      <td>-0.34</td>\n",
       "      <td>0.073</td>\n",
       "      <td>0.094</td>\n",
       "      <td>0.60</td>\n",
       "      <td>1.000000</td>\n",
       "      <td>2015-11-17</td>\n",
       "      <td>Newspaper</td>\n",
       "    </tr>\n",
       "    <tr>\n",
       "      <th>4</th>\n",
       "      <td>reuters</td>\n",
       "      <td>-0.27</td>\n",
       "      <td>0.000</td>\n",
       "      <td>0.110</td>\n",
       "      <td>-0.19</td>\n",
       "      <td>0.500000</td>\n",
       "      <td>2015-02-06</td>\n",
       "      <td>Newspaper</td>\n",
       "    </tr>\n",
       "    <tr>\n",
       "      <th>...</th>\n",
       "      <td>...</td>\n",
       "      <td>...</td>\n",
       "      <td>...</td>\n",
       "      <td>...</td>\n",
       "      <td>...</td>\n",
       "      <td>...</td>\n",
       "      <td>...</td>\n",
       "      <td>...</td>\n",
       "    </tr>\n",
       "    <tr>\n",
       "      <th>607108</th>\n",
       "      <td>express</td>\n",
       "      <td>0.30</td>\n",
       "      <td>0.151</td>\n",
       "      <td>0.000</td>\n",
       "      <td>-0.08</td>\n",
       "      <td>0.700000</td>\n",
       "      <td>2020-03-08</td>\n",
       "      <td>Newspaper</td>\n",
       "    </tr>\n",
       "    <tr>\n",
       "      <th>607109</th>\n",
       "      <td>espn</td>\n",
       "      <td>0.75</td>\n",
       "      <td>0.145</td>\n",
       "      <td>0.033</td>\n",
       "      <td>0.26</td>\n",
       "      <td>0.321429</td>\n",
       "      <td>2020-03-02</td>\n",
       "      <td>Sports</td>\n",
       "    </tr>\n",
       "    <tr>\n",
       "      <th>607110</th>\n",
       "      <td>mirror</td>\n",
       "      <td>0.00</td>\n",
       "      <td>0.000</td>\n",
       "      <td>0.000</td>\n",
       "      <td>0.00</td>\n",
       "      <td>0.000000</td>\n",
       "      <td>2020-01-13</td>\n",
       "      <td>Newspaper</td>\n",
       "    </tr>\n",
       "    <tr>\n",
       "      <th>607111</th>\n",
       "      <td>latimes</td>\n",
       "      <td>-0.13</td>\n",
       "      <td>0.000</td>\n",
       "      <td>0.097</td>\n",
       "      <td>-0.39</td>\n",
       "      <td>0.833333</td>\n",
       "      <td>2020-02-22</td>\n",
       "      <td>Newspaper</td>\n",
       "    </tr>\n",
       "    <tr>\n",
       "      <th>607112</th>\n",
       "      <td>thesun</td>\n",
       "      <td>-0.51</td>\n",
       "      <td>0.000</td>\n",
       "      <td>0.623</td>\n",
       "      <td>0.00</td>\n",
       "      <td>0.000000</td>\n",
       "      <td>2020-01-15</td>\n",
       "      <td>Newspaper</td>\n",
       "    </tr>\n",
       "  </tbody>\n",
       "</table>\n",
       "<p>11916999 rows × 8 columns</p>\n",
       "</div>"
      ],
      "text/plain": [
       "          media_outlet  compound  positive  negative  blob_polar  blob_subj  \\\n",
       "0       washingtonpost      0.25     0.083     0.000        0.00   0.000000   \n",
       "1          startribune      0.00     0.000     0.000        0.06   0.354167   \n",
       "2                  mtv      0.00     0.000     0.000       -0.08   0.216667   \n",
       "3              express     -0.34     0.073     0.094        0.60   1.000000   \n",
       "4              reuters     -0.27     0.000     0.110       -0.19   0.500000   \n",
       "...                ...       ...       ...       ...         ...        ...   \n",
       "607108         express      0.30     0.151     0.000       -0.08   0.700000   \n",
       "607109            espn      0.75     0.145     0.033        0.26   0.321429   \n",
       "607110          mirror      0.00     0.000     0.000        0.00   0.000000   \n",
       "607111         latimes     -0.13     0.000     0.097       -0.39   0.833333   \n",
       "607112          thesun     -0.51     0.000     0.623        0.00   0.000000   \n",
       "\n",
       "        date_short   category  \n",
       "0       2015-12-13  Newspaper  \n",
       "1       2015-10-02  Newspaper  \n",
       "2       2015-10-09      Other  \n",
       "3       2015-11-17  Newspaper  \n",
       "4       2015-02-06  Newspaper  \n",
       "...            ...        ...  \n",
       "607108  2020-03-08  Newspaper  \n",
       "607109  2020-03-02     Sports  \n",
       "607110  2020-01-13  Newspaper  \n",
       "607111  2020-02-22  Newspaper  \n",
       "607112  2020-01-15  Newspaper  \n",
       "\n",
       "[11916999 rows x 8 columns]"
      ]
     },
     "execution_count": 179,
     "metadata": {},
     "output_type": "execute_result"
    }
   ],
   "source": [
    "#Making a datafram with rounded scores to ease plotting\n",
    "\n",
    "df_rounded = df.copy()\n",
    "df_rounded['compound'] = df_rounded['compound'].apply(lambda x: round(x, 2))\n",
    "df_rounded['blob_polar'] = df_rounded['blob_polar'].apply(lambda x: round(x, 2))\n",
    "df_rounded['category'] = df_rounded.apply(add_category, axis=1)\n",
    "df_rounded"
   ]
  },
  {
   "cell_type": "code",
   "execution_count": 201,
   "metadata": {},
   "outputs": [
    {
     "data": {
      "text/html": [
       "<div>\n",
       "<style scoped>\n",
       "    .dataframe tbody tr th:only-of-type {\n",
       "        vertical-align: middle;\n",
       "    }\n",
       "\n",
       "    .dataframe tbody tr th {\n",
       "        vertical-align: top;\n",
       "    }\n",
       "\n",
       "    .dataframe thead th {\n",
       "        text-align: right;\n",
       "    }\n",
       "</style>\n",
       "<table border=\"1\" class=\"dataframe\">\n",
       "  <thead>\n",
       "    <tr style=\"text-align: right;\">\n",
       "      <th></th>\n",
       "      <th>category</th>\n",
       "      <th>blob_polar</th>\n",
       "      <th>count</th>\n",
       "    </tr>\n",
       "  </thead>\n",
       "  <tbody>\n",
       "    <tr>\n",
       "      <th>0</th>\n",
       "      <td>Celebrity magazine</td>\n",
       "      <td>-1.00</td>\n",
       "      <td>3230</td>\n",
       "    </tr>\n",
       "    <tr>\n",
       "      <th>1</th>\n",
       "      <td>Celebrity magazine</td>\n",
       "      <td>-0.99</td>\n",
       "      <td>2</td>\n",
       "    </tr>\n",
       "    <tr>\n",
       "      <th>2</th>\n",
       "      <td>Celebrity magazine</td>\n",
       "      <td>-0.98</td>\n",
       "      <td>12</td>\n",
       "    </tr>\n",
       "    <tr>\n",
       "      <th>3</th>\n",
       "      <td>Celebrity magazine</td>\n",
       "      <td>-0.97</td>\n",
       "      <td>35</td>\n",
       "    </tr>\n",
       "    <tr>\n",
       "      <th>4</th>\n",
       "      <td>Celebrity magazine</td>\n",
       "      <td>-0.96</td>\n",
       "      <td>2</td>\n",
       "    </tr>\n",
       "    <tr>\n",
       "      <th>...</th>\n",
       "      <td>...</td>\n",
       "      <td>...</td>\n",
       "      <td>...</td>\n",
       "    </tr>\n",
       "    <tr>\n",
       "      <th>791</th>\n",
       "      <td>Sports</td>\n",
       "      <td>0.94</td>\n",
       "      <td>5</td>\n",
       "    </tr>\n",
       "    <tr>\n",
       "      <th>792</th>\n",
       "      <td>Sports</td>\n",
       "      <td>0.95</td>\n",
       "      <td>109</td>\n",
       "    </tr>\n",
       "    <tr>\n",
       "      <th>793</th>\n",
       "      <td>Sports</td>\n",
       "      <td>0.97</td>\n",
       "      <td>37</td>\n",
       "    </tr>\n",
       "    <tr>\n",
       "      <th>794</th>\n",
       "      <td>Sports</td>\n",
       "      <td>0.98</td>\n",
       "      <td>7</td>\n",
       "    </tr>\n",
       "    <tr>\n",
       "      <th>795</th>\n",
       "      <td>Sports</td>\n",
       "      <td>1.00</td>\n",
       "      <td>10433</td>\n",
       "    </tr>\n",
       "  </tbody>\n",
       "</table>\n",
       "<p>796 rows × 3 columns</p>\n",
       "</div>"
      ],
      "text/plain": [
       "               category  blob_polar  count\n",
       "0    Celebrity magazine       -1.00   3230\n",
       "1    Celebrity magazine       -0.99      2\n",
       "2    Celebrity magazine       -0.98     12\n",
       "3    Celebrity magazine       -0.97     35\n",
       "4    Celebrity magazine       -0.96      2\n",
       "..                  ...         ...    ...\n",
       "791              Sports        0.94      5\n",
       "792              Sports        0.95    109\n",
       "793              Sports        0.97     37\n",
       "794              Sports        0.98      7\n",
       "795              Sports        1.00  10433\n",
       "\n",
       "[796 rows x 3 columns]"
      ]
     },
     "execution_count": 201,
     "metadata": {},
     "output_type": "execute_result"
    }
   ],
   "source": [
    "# Sorting the rows by category, counting frequecy per blob_polar value\n",
    "\n",
    "df_blob = df_rounded.groupby(['category', 'blob_polar']).agg({'blob_polar': 'count'}).rename(columns={'blob_polar': 'count'}).reset_index()\n",
    "df_blob\n"
   ]
  },
  {
   "cell_type": "code",
   "execution_count": 181,
   "metadata": {},
   "outputs": [],
   "source": [
    "# Making dictionaries with count of the blob_scores\n",
    "\n",
    "media_list = ['Sports', 'Newspaper','Celebrity magazine', 'Other' ]\n",
    "array_dict = {}\n",
    "for outlet in media_list:\n",
    "    array_dict[f'x_{outlet}'] = df_blob[df_blob['category']==outlet]['blob_polar'] # storing the blob_polar values for all categories\n",
    "    array_dict[f'y_{outlet}'] = np.log(df_blob[df_blob['category']==outlet]['count']) # storing the count of blob_polar values\n",
    "    array_dict[f'y_{outlet}'] = (array_dict[f'y_{outlet}'] - array_dict[f'y_{outlet}'].min()) \\\n",
    "                                / (array_dict[f'y_{outlet}'].max() - array_dict[f'y_{outlet}'].min())"
   ]
  },
  {
   "cell_type": "code",
   "execution_count": 182,
   "metadata": {},
   "outputs": [
    {
     "data": {
      "application/vnd.plotly.v1+json": {
       "config": {
        "plotlyServerURL": "https://plot.ly"
       },
       "data": [
        {
         "line": {
          "color": "white"
         },
         "mode": "lines",
         "type": "scatter",
         "x": [
          -1,
          1
         ],
         "y": [
          4,
          4,
          4,
          4,
          4
         ]
        },
        {
         "fill": "tonexty",
         "name": "Sports",
         "type": "scatter",
         "x": [
          -1,
          -0.98,
          -0.97,
          -0.95,
          -0.94,
          -0.93,
          -0.91,
          -0.9,
          -0.89,
          -0.88,
          -0.87,
          -0.86,
          -0.85,
          -0.84,
          -0.83,
          -0.82,
          -0.81,
          -0.8,
          -0.79,
          -0.78,
          -0.77,
          -0.76,
          -0.75,
          -0.74,
          -0.73,
          -0.72,
          -0.71,
          -0.7,
          -0.69,
          -0.68,
          -0.67,
          -0.66,
          -0.65,
          -0.64,
          -0.63,
          -0.62,
          -0.61,
          -0.6,
          -0.59,
          -0.58,
          -0.57,
          -0.56,
          -0.55,
          -0.54,
          -0.53,
          -0.52,
          -0.51,
          -0.5,
          -0.49,
          -0.48,
          -0.47,
          -0.46,
          -0.45,
          -0.44,
          -0.43,
          -0.42,
          -0.41,
          -0.4,
          -0.39,
          -0.38,
          -0.37,
          -0.36,
          -0.35,
          -0.34,
          -0.33,
          -0.32,
          -0.31,
          -0.3,
          -0.29,
          -0.28,
          -0.27,
          -0.26,
          -0.25,
          -0.24,
          -0.23,
          -0.22,
          -0.21,
          -0.2,
          -0.19,
          -0.18,
          -0.17,
          -0.16,
          -0.15,
          -0.14,
          -0.13,
          -0.12,
          -0.11,
          -0.1,
          -0.09,
          -0.08,
          -0.07,
          -0.06,
          -0.05,
          -0.04,
          -0.03,
          -0.02,
          -0.01,
          0,
          0.01,
          0.02,
          0.03,
          0.04,
          0.05,
          0.06,
          0.07,
          0.08,
          0.09,
          0.1,
          0.11,
          0.12,
          0.13,
          0.14,
          0.15,
          0.16,
          0.17,
          0.18,
          0.19,
          0.2,
          0.21,
          0.22,
          0.23,
          0.24,
          0.25,
          0.26,
          0.27,
          0.28,
          0.29,
          0.3,
          0.31,
          0.32,
          0.33,
          0.34,
          0.35,
          0.36,
          0.37,
          0.38,
          0.39,
          0.4,
          0.41,
          0.42,
          0.43,
          0.44,
          0.45,
          0.46,
          0.47,
          0.48,
          0.49,
          0.5,
          0.51,
          0.52,
          0.53,
          0.54,
          0.55,
          0.56,
          0.57,
          0.58,
          0.59,
          0.6,
          0.61,
          0.62,
          0.63,
          0.64,
          0.65,
          0.66,
          0.67,
          0.68,
          0.69,
          0.7,
          0.71,
          0.72,
          0.73,
          0.74,
          0.75,
          0.76,
          0.77,
          0.78,
          0.79,
          0.8,
          0.81,
          0.82,
          0.83,
          0.84,
          0.85,
          0.86,
          0.87,
          0.88,
          0.89,
          0.9,
          0.91,
          0.92,
          0.93,
          0.94,
          0.95,
          0.97,
          0.98,
          1
         ],
         "y": [
          4.5467465883148845,
          4.077684512935117,
          4.282509333957461,
          4.093142010042112,
          4.093142010042112,
          4,
          4.291138624593763,
          4.329954406142843,
          4.034375944599092,
          4.265831937945202,
          4.1175321308860395,
          4.05876606544302,
          4.186284020084224,
          4.034375944599092,
          4,
          4,
          4.093142010042112,
          4.525430188763368,
          4,
          4.312748774707197,
          4.05876606544302,
          4.05876606544302,
          4.462329017276257,
          4.1175321308860395,
          4.093142010042112,
          4.17629819632906,
          4.371514840150217,
          4.594076598490494,
          4.17629819632906,
          4.164977203071421,
          4.3937584789732895,
          4.22959258842025,
          4.46640498452098,
          4.15869421720121,
          4.190867920809211,
          4.434164707284754,
          4.144531119453472,
          4.584540545080291,
          4.271188340699823,
          4.304985569664935,
          4.348526098504582,
          4.312748774707197,
          4.4177400134303335,
          4.29897017426785,
          4.356480194349637,
          4.347828304349964,
          4.365476064274649,
          4.670547330856879,
          4.326421331966757,
          4.304985569664935,
          4.409351735134412,
          4.349904690036783,
          4.477118222407692,
          4.400041464843501,
          4.429214457428845,
          4.402282516323339,
          4.363751635107955,
          4.730219579211716,
          4.5970556638697815,
          4.512805507421385,
          4.4267647409364415,
          4.440736434212895,
          4.56387552909746,
          4.451910924045126,
          4.576670193798575,
          4.442360206358973,
          4.572020813598002,
          4.630936098518416,
          4.640223306692185,
          4.5314231331507315,
          4.528396361238828,
          4.523599360051141,
          4.676877024015677,
          4.516717689861647,
          4.5751005613814275,
          4.554619555917165,
          4.5292251216131945,
          4.714763622872387,
          4.667276940128533,
          4.5722693670190235,
          4.646922036829413,
          4.666952603423924,
          4.655226768897935,
          4.5783037994682125,
          4.626419812709785,
          4.703562723303631,
          4.595861538337928,
          4.723862484919811,
          4.64207363914694,
          4.67481425414573,
          4.663774165968952,
          4.667341658842505,
          4.716175458344176,
          4.645636501391817,
          4.682334243099091,
          4.65828674714188,
          4.644965293443186,
          5,
          4.653606810712537,
          4.67865052110384,
          4.699676943424109,
          4.675316270830282,
          4.737572136023078,
          4.680151614622268,
          4.718232338300356,
          4.702725132625198,
          4.670547330856879,
          4.797701125535672,
          4.687256979889309,
          4.735447748603235,
          4.699930598866304,
          4.730550201766574,
          4.732304600291469,
          4.706354264445852,
          4.75048773608641,
          4.694508098256578,
          4.6962049473076135,
          4.828464117008693,
          4.711060042120805,
          4.684343060289922,
          4.736154625940997,
          4.683398150219434,
          4.799124552297201,
          4.681503512465375,
          4.698385942461934,
          4.701663674611341,
          4.734390926913837,
          4.766140125180096,
          4.656302079103066,
          4.668050323016476,
          4.733580319588749,
          4.6545336005434805,
          4.747688150374284,
          4.6694185662536745,
          4.659270821314615,
          4.710595219421694,
          4.637966545523579,
          4.773177666674934,
          4.608186537980904,
          4.677481888730056,
          4.677424468131052,
          4.61456927363979,
          4.684752346586126,
          4.605747088265689,
          4.673531017757414,
          4.582277249187526,
          4.580358932684413,
          4.839897169838312,
          4.546612334112345,
          4.589988056124109,
          4.627720168127296,
          4.5569705625389645,
          4.636210310784978,
          4.534190141338399,
          4.603818999530257,
          4.529472178158648,
          4.483716482581645,
          4.745316796172162,
          4.474012325235677,
          4.564856303017828,
          4.511798589277079,
          4.504172641844171,
          4.633914620888106,
          4.4275892029719,
          4.539831790567962,
          4.477422644677987,
          4.379112294384676,
          4.750439195894037,
          4.3619914020977015,
          4.418656579234967,
          4.466058229390622,
          4.336607348285273,
          4.61317141060616,
          4.341275399400481,
          4.431595373957484,
          4.414929319194815,
          4.271188340699823,
          4.753385614140289,
          4.2141350913132545,
          4.317888621759947,
          4.365476064274649,
          4.260114164242956,
          4.500085994809652,
          4.136450578378137,
          4.340515022006003,
          4.350585669691392,
          4.144531119453472,
          4.567679950793844,
          4.517289252775967,
          4.127517954641204,
          4.311682326542805,
          4.077684512935117,
          4.338973497517243,
          4.247373011963892,
          4.106211137628401,
          4.725694293522144
         ]
        },
        {
         "line": {
          "color": "white"
         },
         "mode": "lines",
         "type": "scatter",
         "x": [
          -1,
          1
         ],
         "y": [
          3,
          3,
          3,
          3,
          3
         ]
        },
        {
         "fill": "tonexty",
         "name": "Newspaper",
         "type": "scatter",
         "x": [
          -1,
          -0.99,
          -0.98,
          -0.97,
          -0.96,
          -0.95,
          -0.94,
          -0.93,
          -0.92,
          -0.91,
          -0.9,
          -0.89,
          -0.88,
          -0.87,
          -0.86,
          -0.85,
          -0.84,
          -0.83,
          -0.82,
          -0.81,
          -0.8,
          -0.79,
          -0.78,
          -0.77,
          -0.76,
          -0.75,
          -0.74,
          -0.73,
          -0.72,
          -0.71,
          -0.7,
          -0.69,
          -0.68,
          -0.67,
          -0.66,
          -0.65,
          -0.64,
          -0.63,
          -0.62,
          -0.61,
          -0.6,
          -0.59,
          -0.58,
          -0.57,
          -0.56,
          -0.55,
          -0.54,
          -0.53,
          -0.52,
          -0.51,
          -0.5,
          -0.49,
          -0.48,
          -0.47,
          -0.46,
          -0.45,
          -0.44,
          -0.43,
          -0.42,
          -0.41,
          -0.4,
          -0.39,
          -0.38,
          -0.37,
          -0.36,
          -0.35,
          -0.34,
          -0.33,
          -0.32,
          -0.31,
          -0.3,
          -0.29,
          -0.28,
          -0.27,
          -0.26,
          -0.25,
          -0.24,
          -0.23,
          -0.22,
          -0.21,
          -0.2,
          -0.19,
          -0.18,
          -0.17,
          -0.16,
          -0.15,
          -0.14,
          -0.13,
          -0.12,
          -0.11,
          -0.1,
          -0.09,
          -0.08,
          -0.07,
          -0.06,
          -0.05,
          -0.04,
          -0.03,
          -0.02,
          -0.01,
          0,
          0.01,
          0.02,
          0.03,
          0.04,
          0.05,
          0.06,
          0.07,
          0.08,
          0.09,
          0.1,
          0.11,
          0.12,
          0.13,
          0.14,
          0.15,
          0.16,
          0.17,
          0.18,
          0.19,
          0.2,
          0.21,
          0.22,
          0.23,
          0.24,
          0.25,
          0.26,
          0.27,
          0.28,
          0.29,
          0.3,
          0.31,
          0.32,
          0.33,
          0.34,
          0.35,
          0.36,
          0.37,
          0.38,
          0.39,
          0.4,
          0.41,
          0.42,
          0.43,
          0.44,
          0.45,
          0.46,
          0.47,
          0.48,
          0.49,
          0.5,
          0.51,
          0.52,
          0.53,
          0.54,
          0.55,
          0.56,
          0.57,
          0.58,
          0.59,
          0.6,
          0.61,
          0.62,
          0.63,
          0.64,
          0.65,
          0.66,
          0.67,
          0.68,
          0.69,
          0.7,
          0.71,
          0.72,
          0.73,
          0.74,
          0.75,
          0.76,
          0.77,
          0.78,
          0.79,
          0.8,
          0.81,
          0.82,
          0.83,
          0.84,
          0.85,
          0.86,
          0.87,
          0.88,
          0.89,
          0.9,
          0.91,
          0.92,
          0.93,
          0.94,
          0.95,
          0.96,
          0.97,
          0.98,
          0.99,
          1
         ],
         "y": [
          3.630156995488343,
          3,
          3.1462153105921162,
          3.3106890097602957,
          3.02487592534046,
          3.2241360111232744,
          3.2201584023091185,
          3.1957184672581795,
          3.0174307969424645,
          3.383101823929098,
          3.4320072838751843,
          3.2082140617324257,
          3.374379388238133,
          3.2656835950303362,
          3.1924632160769324,
          3.327716301713057,
          3.174824390452036,
          3.2075318327314117,
          3.2207391836022556,
          3.2095609006848003,
          3.5809668234617202,
          3.1694350313319366,
          3.394593192332153,
          3.199605573847485,
          3.1560807100996078,
          3.5121670611505547,
          3.171635591613449,
          3.2574533874201737,
          3.2688723938689233,
          3.447795146740415,
          3.6135011306389933,
          3.2633713625009473,
          3.2874200208232653,
          3.4637574585455715,
          3.2964835907833265,
          3.5289543158286105,
          3.2585308489727693,
          3.2891261824665157,
          3.4846081174498393,
          3.3005451889152653,
          3.6280709979507018,
          3.33673688426937,
          3.3761402455127465,
          3.403946390178484,
          3.397235153259476,
          3.4662689129448014,
          3.3456456737700635,
          3.422423505025813,
          3.4016967106051648,
          3.3876029270116534,
          3.724256747850675,
          3.3847494215997926,
          3.386293518533254,
          3.461055891136295,
          3.4098698376690635,
          3.520973610802923,
          3.435378575767178,
          3.505237662008728,
          3.478321049216007,
          3.4338813622458098,
          3.703113606641295,
          3.565377046457281,
          3.5627428741511644,
          3.465968759937322,
          3.4810127515075866,
          3.5945099975182084,
          3.477762777783646,
          3.6309918033243656,
          3.5084015960039707,
          3.582430680809659,
          3.67415514085125,
          3.624800885612834,
          3.5606457580126327,
          3.5481880529856133,
          3.541583390504533,
          3.7069803049936105,
          3.540200452950072,
          3.604451563611275,
          3.5709897789138836,
          3.5616093259882176,
          3.7258204946042284,
          3.6511854821628518,
          3.5900484962563777,
          3.6897040150829716,
          3.6760724693205455,
          3.6783035596522082,
          3.593551761357822,
          3.6360917171293137,
          3.730665431321578,
          3.6191984738321707,
          3.739762930678945,
          3.633725427673288,
          3.6894033035961713,
          3.6816825102108344,
          3.685820218933029,
          3.726265680894361,
          3.662314293920847,
          3.6947819494112757,
          3.6655697107695335,
          3.651861199127591,
          4,
          3.6545048466639667,
          3.680491991259822,
          3.715663780640854,
          3.6742335806713764,
          3.7456782525163663,
          3.684580240593874,
          3.7249570296589174,
          3.7099509925959135,
          3.66862563920647,
          3.802488203732527,
          3.682434339006424,
          3.7389119647054003,
          3.6955853742619516,
          3.7365832611690135,
          3.7240038018227555,
          3.691681101252895,
          3.751884895660431,
          3.6808465738169036,
          3.6892956254717215,
          3.8180764920328203,
          3.7008988750396536,
          3.672759773782084,
          3.720459612519205,
          3.661113842439358,
          3.798156776492017,
          3.6609136830864992,
          3.6784506077289594,
          3.6830094615144215,
          3.7115069946146093,
          3.7536343387430273,
          3.638112267657711,
          3.650217703831438,
          3.72035542480908,
          3.6266711517441688,
          3.7318692477625164,
          3.64346067193262,
          3.6454904685381666,
          3.7007501275433388,
          3.6180838994014897,
          3.7645666051497835,
          3.5820403467996544,
          3.6627534431266993,
          3.6664715953587086,
          3.596707469074881,
          3.673115819605049,
          3.5799016588004027,
          3.6465306466818848,
          3.560615920455324,
          3.55754981777189,
          3.8325892099498,
          3.5218118390194757,
          3.5720861211530375,
          3.602359291687491,
          3.522859230182305,
          3.6329904047100894,
          3.523988214173822,
          3.5837289853565024,
          3.507006259705135,
          3.471061839654884,
          3.7359841470927795,
          3.459981024172335,
          3.5725933822511102,
          3.493304788761626,
          3.466667331272772,
          3.616935053310301,
          3.413583118371146,
          3.518224051872512,
          3.4909380381618074,
          3.3973558870147103,
          3.7198207287281395,
          3.360121198876225,
          3.4250906765046816,
          3.452608916623749,
          3.348515751343381,
          3.6042128238877655,
          3.309953806929999,
          3.4202941813883525,
          3.4610291989357664,
          3.2891261824665157,
          3.7204933472622845,
          3.2949323254249876,
          3.3456456737700635,
          3.366552875190981,
          3.2405631789610654,
          3.534483047778959,
          3.161204823721774,
          3.323949191651186,
          3.42047385880877,
          3.2279208556827736,
          3.5680203428992527,
          3.495910012124413,
          3.143151595405694,
          3.3199911655145073,
          3.2672942649610266,
          3.3522571715338807,
          3,
          3.2944833889934113,
          3.252218864275618,
          3.127649655082687,
          3.6965562469273854
         ]
        },
        {
         "line": {
          "color": "white"
         },
         "mode": "lines",
         "type": "scatter",
         "x": [
          -1,
          1
         ],
         "y": [
          2,
          2,
          2,
          2,
          2
         ]
        },
        {
         "fill": "tonexty",
         "name": "Celebrity magazine",
         "type": "scatter",
         "x": [
          -1,
          -0.99,
          -0.98,
          -0.97,
          -0.96,
          -0.95,
          -0.94,
          -0.93,
          -0.91,
          -0.9,
          -0.89,
          -0.88,
          -0.87,
          -0.86,
          -0.85,
          -0.84,
          -0.83,
          -0.82,
          -0.81,
          -0.8,
          -0.79,
          -0.78,
          -0.77,
          -0.76,
          -0.75,
          -0.74,
          -0.73,
          -0.72,
          -0.71,
          -0.7,
          -0.69,
          -0.68,
          -0.67,
          -0.66,
          -0.65,
          -0.64,
          -0.63,
          -0.62,
          -0.61,
          -0.6,
          -0.59,
          -0.58,
          -0.57,
          -0.56,
          -0.55,
          -0.54,
          -0.53,
          -0.52,
          -0.51,
          -0.5,
          -0.49,
          -0.48,
          -0.47,
          -0.46,
          -0.45,
          -0.44,
          -0.43,
          -0.42,
          -0.41,
          -0.4,
          -0.39,
          -0.38,
          -0.37,
          -0.36,
          -0.35,
          -0.34,
          -0.33,
          -0.32,
          -0.31,
          -0.3,
          -0.29,
          -0.28,
          -0.27,
          -0.26,
          -0.25,
          -0.24,
          -0.23,
          -0.22,
          -0.21,
          -0.2,
          -0.19,
          -0.18,
          -0.17,
          -0.16,
          -0.15,
          -0.14,
          -0.13,
          -0.12,
          -0.11,
          -0.1,
          -0.09,
          -0.08,
          -0.07,
          -0.06,
          -0.05,
          -0.04,
          -0.03,
          -0.02,
          -0.01,
          0,
          0.01,
          0.02,
          0.03,
          0.04,
          0.05,
          0.06,
          0.07,
          0.08,
          0.09,
          0.1,
          0.11,
          0.12,
          0.13,
          0.14,
          0.15,
          0.16,
          0.17,
          0.18,
          0.19,
          0.2,
          0.21,
          0.22,
          0.23,
          0.24,
          0.25,
          0.26,
          0.27,
          0.28,
          0.29,
          0.3,
          0.31,
          0.32,
          0.33,
          0.34,
          0.35,
          0.36,
          0.37,
          0.38,
          0.39,
          0.4,
          0.41,
          0.42,
          0.43,
          0.44,
          0.45,
          0.46,
          0.47,
          0.48,
          0.49,
          0.5,
          0.51,
          0.52,
          0.53,
          0.54,
          0.55,
          0.56,
          0.57,
          0.58,
          0.59,
          0.6,
          0.61,
          0.62,
          0.63,
          0.64,
          0.65,
          0.66,
          0.67,
          0.68,
          0.69,
          0.7,
          0.71,
          0.72,
          0.73,
          0.74,
          0.75,
          0.76,
          0.77,
          0.78,
          0.79,
          0.8,
          0.81,
          0.82,
          0.83,
          0.84,
          0.85,
          0.86,
          0.87,
          0.88,
          0.89,
          0.9,
          0.91,
          0.92,
          0.93,
          0.94,
          0.95,
          0.96,
          0.97,
          0.98,
          0.99,
          1
         ],
         "y": [
          2.6117840059284516,
          2,
          2.1483899276677945,
          2.2370417396899844,
          2,
          2.1722151802508503,
          2.218561438060371,
          2.181969735168355,
          2.3326287909572905,
          2.4056292745344234,
          2.202270285795799,
          2.331122967737196,
          2.2816803494646414,
          2.1722151802508503,
          2.285721053061492,
          2.133290421796847,
          2.1722151802508503,
          2.1668702292974076,
          2.17723598990791,
          2.5674452099831213,
          2.1245646750847382,
          2.3608138920234856,
          2.141183819839421,
          2.114810120167234,
          2.482984816786829,
          2.141183819839421,
          2.2393747952519716,
          2.2124239643556916,
          2.451975532343944,
          2.594259674845997,
          2.234641049991527,
          2.2481005419640807,
          2.4253365318719906,
          2.2802884176154703,
          2.4943163958709427,
          2.2521412455609315,
          2.241643923373113,
          2.4736088763876816,
          2.294446799773601,
          2.615273445039251,
          2.302340197816175,
          2.3482242144508065,
          2.37493434516996,
          2.3885280278208127,
          2.43817254790995,
          2.314334806606495,
          2.388907058210115,
          2.3726652170488185,
          2.3512581799278034,
          2.7083138970267875,
          2.361343082293705,
          2.3553272507095544,
          2.445169783003383,
          2.3988714384121526,
          2.4952641010116006,
          2.4141384225919533,
          2.4729261190541094,
          2.447065014347218,
          2.427262618578161,
          2.673570935881312,
          2.518009160830952,
          2.5412355822040693,
          2.4538955297154916,
          2.475091418744255,
          2.5705399632425676,
          2.451266166161199,
          2.6030012612818805,
          2.479259241315418,
          2.5752948005687077,
          2.6567488853129,
          2.601447299166872,
          2.536026746321976,
          2.5231001373951183,
          2.521666350409611,
          2.691849144311524,
          2.5177701476910173,
          2.589466270498371,
          2.5516684863361854,
          2.5467006462975,
          2.710631186635816,
          2.6403974713802985,
          2.5726230206265455,
          2.6783202167560622,
          2.661538892800716,
          2.660163641553208,
          2.577651090243768,
          2.6159345234580833,
          2.717561553218927,
          2.6030297651525816,
          2.726015201827966,
          2.61745682269085,
          2.6739107024932673,
          2.6665050955474654,
          2.6702843222660206,
          2.7121865721706953,
          2.6486152814204527,
          2.6802606874171406,
          2.6534357236907042,
          2.6385437391318023,
          3,
          2.644763369609268,
          2.669214702290095,
          2.7060696330413867,
          2.663717526479927,
          2.733130351429415,
          2.6744057164046002,
          2.7157401921895215,
          2.700901889103973,
          2.662614557016134,
          2.792487741782172,
          2.6732907953249696,
          2.7329583883225137,
          2.686616582335471,
          2.730138857071566,
          2.7175972891398716,
          2.685487085914997,
          2.747210674402332,
          2.6748858220709204,
          2.6879764804614954,
          2.81217590443305,
          2.6937863266087025,
          2.6680661366899128,
          2.7169876713521863,
          2.6614263300983665,
          2.7958133245000343,
          2.6621971267195774,
          2.6794491817848227,
          2.6831374816476883,
          2.7072358158038416,
          2.751883872677751,
          2.645875037246793,
          2.6519020132759685,
          2.719245709249753,
          2.630007507366247,
          2.728776586430704,
          2.644883807143432,
          2.645942962610867,
          2.7009193704751207,
          2.6202580962638744,
          2.7569763340538276,
          2.593207497516862,
          2.66633276512249,
          2.658108283467439,
          2.6040212700147496,
          2.6690222364923306,
          2.5804303506634243,
          2.6447805856981987,
          2.5622956499226,
          2.5598359969736704,
          2.8325341474353367,
          2.5223486077779222,
          2.565135925911596,
          2.599981974396333,
          2.522197480006962,
          2.6296363105498424,
          2.5288090010319797,
          2.578919031433672,
          2.5052161875448222,
          2.4790048079493854,
          2.7327920154817913,
          2.4644133895340428,
          2.5913908137268713,
          2.4873602322697894,
          2.460524506319772,
          2.608328392333048,
          2.407764663433115,
          2.506047607756288,
          2.504657233822363,
          2.400531173228726,
          2.7050116642204443,
          2.3735803423324455,
          2.4149707712614883,
          2.441645081047771,
          2.339085409548258,
          2.5985805203282366,
          2.315260156965202,
          2.403119446236155,
          2.4538955297154916,
          2.287025300418084,
          2.704435696400839,
          2.331122967737196,
          2.3669513657281653,
          2.3524413142709033,
          2.22146763082675,
          2.5389196963312703,
          2.161156377976754,
          2.294446799773601,
          2.435415228085878,
          2.2124239643556916,
          2.5508698495252577,
          2.436273453336003,
          2.133290421796847,
          2.339085409548258,
          2.2729546027525327,
          2.314334806606495,
          2.0335798075005607,
          2.2559939400066544,
          2.295621542810599,
          2.07588536171323,
          2.6883740320679785
         ]
        },
        {
         "line": {
          "color": "white"
         },
         "mode": "lines",
         "type": "scatter",
         "x": [
          -1,
          1
         ],
         "y": [
          1,
          1,
          1,
          1,
          1
         ]
        },
        {
         "fill": "tonexty",
         "name": "Other",
         "type": "scatter",
         "x": [
          -1,
          -0.99,
          -0.98,
          -0.97,
          -0.96,
          -0.95,
          -0.94,
          -0.93,
          -0.91,
          -0.9,
          -0.89,
          -0.88,
          -0.87,
          -0.86,
          -0.85,
          -0.84,
          -0.83,
          -0.82,
          -0.81,
          -0.8,
          -0.79,
          -0.78,
          -0.77,
          -0.76,
          -0.75,
          -0.74,
          -0.73,
          -0.72,
          -0.71,
          -0.7,
          -0.69,
          -0.68,
          -0.67,
          -0.66,
          -0.65,
          -0.64,
          -0.63,
          -0.62,
          -0.61,
          -0.6,
          -0.59,
          -0.58,
          -0.57,
          -0.56,
          -0.55,
          -0.54,
          -0.53,
          -0.52,
          -0.51,
          -0.5,
          -0.49,
          -0.48,
          -0.47,
          -0.46,
          -0.45,
          -0.44,
          -0.43,
          -0.42,
          -0.41,
          -0.4,
          -0.39,
          -0.38,
          -0.37,
          -0.36,
          -0.35,
          -0.34,
          -0.33,
          -0.32,
          -0.31,
          -0.3,
          -0.29,
          -0.28,
          -0.27,
          -0.26,
          -0.25,
          -0.24,
          -0.23,
          -0.22,
          -0.21,
          -0.2,
          -0.19,
          -0.18,
          -0.17,
          -0.16,
          -0.15,
          -0.14,
          -0.13,
          -0.12,
          -0.11,
          -0.1,
          -0.09,
          -0.08,
          -0.07,
          -0.06,
          -0.05,
          -0.04,
          -0.03,
          -0.02,
          -0.01,
          0,
          0.01,
          0.02,
          0.03,
          0.04,
          0.05,
          0.06,
          0.07,
          0.08,
          0.09,
          0.1,
          0.11,
          0.12,
          0.13,
          0.14,
          0.15,
          0.16,
          0.17,
          0.18,
          0.19,
          0.2,
          0.21,
          0.22,
          0.23,
          0.24,
          0.25,
          0.26,
          0.27,
          0.28,
          0.29,
          0.3,
          0.31,
          0.32,
          0.33,
          0.34,
          0.35,
          0.36,
          0.37,
          0.38,
          0.39,
          0.4,
          0.41,
          0.42,
          0.43,
          0.44,
          0.45,
          0.46,
          0.47,
          0.48,
          0.49,
          0.5,
          0.51,
          0.52,
          0.53,
          0.54,
          0.55,
          0.56,
          0.57,
          0.58,
          0.59,
          0.6,
          0.61,
          0.62,
          0.63,
          0.64,
          0.65,
          0.66,
          0.67,
          0.68,
          0.69,
          0.7,
          0.71,
          0.72,
          0.73,
          0.74,
          0.75,
          0.76,
          0.77,
          0.78,
          0.79,
          0.8,
          0.81,
          0.82,
          0.83,
          0.84,
          0.85,
          0.86,
          0.87,
          0.88,
          0.89,
          0.9,
          0.91,
          0.92,
          0.93,
          0.94,
          0.95,
          0.97,
          0.98,
          0.99,
          1
         ],
         "y": [
          1.6175495536175801,
          1.0571118770048036,
          1.114223754009607,
          1.2788569092935123,
          1,
          1.1763307980463906,
          1.208107466533606,
          1.1713356310144105,
          1.3523759978112355,
          1.4100580848546036,
          1.1937416154109926,
          1.3494642099450254,
          1.2447473644397729,
          1.1763307980463906,
          1.300796065122722,
          1.1603333090173837,
          1.201237237053133,
          1.1239284897920214,
          1.2203365360805953,
          1.5694114613495098,
          1.1603333090173837,
          1.3725728680675435,
          1.1603333090173837,
          1.1326096717692047,
          1.4938725820558452,
          1.1937416154109926,
          1.2231298551676173,
          1.2381522438016284,
          1.429010293652469,
          1.5940442130053034,
          1.2334426750511942,
          1.2546865101149451,
          1.4357268769117701,
          1.2618558144128231,
          1.5013324613607022,
          1.2309829395037506,
          1.2468334257788118,
          1.464278611800999,
          1.3029088737503356,
          1.6207608847450543,
          1.3089404698155953,
          1.3458285456856909,
          1.3790300890555396,
          1.382277603849958,
          1.4493150557448038,
          1.3239628584496066,
          1.3923794248429888,
          1.3834631641850008,
          1.3540749244283763,
          1.709048609126982,
          1.342671262028821,
          1.3645853343868144,
          1.4460764065405436,
          1.3927307900736672,
          1.5035544842447282,
          1.4131255972786265,
          1.4887874711315627,
          1.458488779882224,
          1.4219435345099938,
          1.6856236674706118,
          1.5329701235543616,
          1.5464981913664304,
          1.4486062769936785,
          1.4633910446360894,
          1.574739382133294,
          1.464572355505094,
          1.609799455920169,
          1.4849856695804404,
          1.5725149911893657,
          1.6595198746668824,
          1.6005150558006362,
          1.539304227498222,
          1.529042691234068,
          1.5189262945326494,
          1.6905740103640254,
          1.5187745541182516,
          1.5882397915445425,
          1.5507272155743594,
          1.5383516732852605,
          1.712923789713768,
          1.636855485047744,
          1.5668670443745398,
          1.677120492630945,
          1.6611817251246346,
          1.6608574412489183,
          1.5771674037633132,
          1.6162803151896332,
          1.71621791342486,
          1.6034199990326679,
          1.727194301386946,
          1.6167903591588044,
          1.6755950307422722,
          1.6683948449097086,
          1.6690593244927046,
          1.7137615303689175,
          1.6445964986885642,
          1.6787381830830737,
          1.6474650977467917,
          1.6346522783346273,
          2,
          1.6388599806103836,
          1.6640181857908767,
          1.6991201006949765,
          1.657683232788314,
          1.7315095332353296,
          1.667911588264975,
          1.7116838711496063,
          1.692726119820213,
          1.6508050502089868,
          1.7909431884146514,
          1.6665583549358653,
          1.724104935437754,
          1.678749079733454,
          1.7270004021435144,
          1.7092068654939534,
          1.6741560790304075,
          1.7384194975602796,
          1.6626519105026794,
          1.674443590738604,
          1.8079348186301019,
          1.6883059825916549,
          1.6546012122379214,
          1.7046486191400112,
          1.6472418048683144,
          1.7877495582120169,
          1.6442494325939494,
          1.660382227645135,
          1.6661530911776623,
          1.6942657476425274,
          1.741039228162049,
          1.6217025523857953,
          1.6314266410800382,
          1.7053932052533054,
          1.6037184828891526,
          1.717228149041623,
          1.6232555935377975,
          1.6231486841913716,
          1.683922234884045,
          1.5965639513428573,
          1.7453935993655227,
          1.5586318128985606,
          1.6464070926584486,
          1.642373311199175,
          1.5764540224954486,
          1.6509425917777105,
          1.5572152446824337,
          1.6220718912690701,
          1.5381718368623285,
          1.531876225902331,
          1.8223144802280111,
          1.495500190964329,
          1.544132094936215,
          1.5750468266009403,
          1.494893599107586,
          1.6091173531171932,
          1.4970962703482416,
          1.5559675385078156,
          1.476049788724305,
          1.4469888745782897,
          1.7181856492522456,
          1.4316755941267592,
          1.556208953921457,
          1.452261143225087,
          1.4367607050510416,
          1.5850408770190205,
          1.3818785957010418,
          1.4869084958509307,
          1.4684386870047739,
          1.3645853343868144,
          1.693549619396487,
          1.3366641070637741,
          1.3850178333592857,
          1.421697211391618,
          1.3189676914176265,
          1.5789425895919125,
          1.281603664365884,
          1.3916721670950059,
          1.4307967055617363,
          1.2788569092935123,
          1.6924405534687756,
          1.2941117240949926,
          1.3136500385660297,
          1.3393881575281954,
          1.2231298551676173,
          1.5140873176681926,
          1.1542271810413602,
          1.2760154200667198,
          1.3991369002562857,
          1.1854952366683074,
          1.532263967896621,
          1.4500177894009953,
          1.033408306393609,
          1.2986276499320186,
          1.228447508019214,
          1.3079653694205997,
          1.228447508019214,
          1.252792288261243,
          1.0905201833984124,
          1.681828826545796
         ]
        }
       ],
       "layout": {
        "annotations": [
         {
          "showarrow": false,
          "text": "Sports",
          "x": -0.1,
          "y": 4,
          "yshift": 1
         },
         {
          "showarrow": false,
          "text": "Newspaper",
          "x": -0.1,
          "y": 3,
          "yshift": 1
         },
         {
          "showarrow": false,
          "text": "Celebrity magazine",
          "x": -0.1,
          "y": 2,
          "yshift": 1
         },
         {
          "showarrow": false,
          "text": "Other",
          "x": -0.1,
          "y": 1,
          "yshift": 1
         }
        ],
        "showlegend": false,
        "template": {
         "data": {
          "bar": [
           {
            "error_x": {
             "color": "#2a3f5f"
            },
            "error_y": {
             "color": "#2a3f5f"
            },
            "marker": {
             "line": {
              "color": "#E5ECF6",
              "width": 0.5
             },
             "pattern": {
              "fillmode": "overlay",
              "size": 10,
              "solidity": 0.2
             }
            },
            "type": "bar"
           }
          ],
          "barpolar": [
           {
            "marker": {
             "line": {
              "color": "#E5ECF6",
              "width": 0.5
             },
             "pattern": {
              "fillmode": "overlay",
              "size": 10,
              "solidity": 0.2
             }
            },
            "type": "barpolar"
           }
          ],
          "carpet": [
           {
            "aaxis": {
             "endlinecolor": "#2a3f5f",
             "gridcolor": "white",
             "linecolor": "white",
             "minorgridcolor": "white",
             "startlinecolor": "#2a3f5f"
            },
            "baxis": {
             "endlinecolor": "#2a3f5f",
             "gridcolor": "white",
             "linecolor": "white",
             "minorgridcolor": "white",
             "startlinecolor": "#2a3f5f"
            },
            "type": "carpet"
           }
          ],
          "choropleth": [
           {
            "colorbar": {
             "outlinewidth": 0,
             "ticks": ""
            },
            "type": "choropleth"
           }
          ],
          "contour": [
           {
            "colorbar": {
             "outlinewidth": 0,
             "ticks": ""
            },
            "colorscale": [
             [
              0,
              "#0d0887"
             ],
             [
              0.1111111111111111,
              "#46039f"
             ],
             [
              0.2222222222222222,
              "#7201a8"
             ],
             [
              0.3333333333333333,
              "#9c179e"
             ],
             [
              0.4444444444444444,
              "#bd3786"
             ],
             [
              0.5555555555555556,
              "#d8576b"
             ],
             [
              0.6666666666666666,
              "#ed7953"
             ],
             [
              0.7777777777777778,
              "#fb9f3a"
             ],
             [
              0.8888888888888888,
              "#fdca26"
             ],
             [
              1,
              "#f0f921"
             ]
            ],
            "type": "contour"
           }
          ],
          "contourcarpet": [
           {
            "colorbar": {
             "outlinewidth": 0,
             "ticks": ""
            },
            "type": "contourcarpet"
           }
          ],
          "heatmap": [
           {
            "colorbar": {
             "outlinewidth": 0,
             "ticks": ""
            },
            "colorscale": [
             [
              0,
              "#0d0887"
             ],
             [
              0.1111111111111111,
              "#46039f"
             ],
             [
              0.2222222222222222,
              "#7201a8"
             ],
             [
              0.3333333333333333,
              "#9c179e"
             ],
             [
              0.4444444444444444,
              "#bd3786"
             ],
             [
              0.5555555555555556,
              "#d8576b"
             ],
             [
              0.6666666666666666,
              "#ed7953"
             ],
             [
              0.7777777777777778,
              "#fb9f3a"
             ],
             [
              0.8888888888888888,
              "#fdca26"
             ],
             [
              1,
              "#f0f921"
             ]
            ],
            "type": "heatmap"
           }
          ],
          "heatmapgl": [
           {
            "colorbar": {
             "outlinewidth": 0,
             "ticks": ""
            },
            "colorscale": [
             [
              0,
              "#0d0887"
             ],
             [
              0.1111111111111111,
              "#46039f"
             ],
             [
              0.2222222222222222,
              "#7201a8"
             ],
             [
              0.3333333333333333,
              "#9c179e"
             ],
             [
              0.4444444444444444,
              "#bd3786"
             ],
             [
              0.5555555555555556,
              "#d8576b"
             ],
             [
              0.6666666666666666,
              "#ed7953"
             ],
             [
              0.7777777777777778,
              "#fb9f3a"
             ],
             [
              0.8888888888888888,
              "#fdca26"
             ],
             [
              1,
              "#f0f921"
             ]
            ],
            "type": "heatmapgl"
           }
          ],
          "histogram": [
           {
            "marker": {
             "pattern": {
              "fillmode": "overlay",
              "size": 10,
              "solidity": 0.2
             }
            },
            "type": "histogram"
           }
          ],
          "histogram2d": [
           {
            "colorbar": {
             "outlinewidth": 0,
             "ticks": ""
            },
            "colorscale": [
             [
              0,
              "#0d0887"
             ],
             [
              0.1111111111111111,
              "#46039f"
             ],
             [
              0.2222222222222222,
              "#7201a8"
             ],
             [
              0.3333333333333333,
              "#9c179e"
             ],
             [
              0.4444444444444444,
              "#bd3786"
             ],
             [
              0.5555555555555556,
              "#d8576b"
             ],
             [
              0.6666666666666666,
              "#ed7953"
             ],
             [
              0.7777777777777778,
              "#fb9f3a"
             ],
             [
              0.8888888888888888,
              "#fdca26"
             ],
             [
              1,
              "#f0f921"
             ]
            ],
            "type": "histogram2d"
           }
          ],
          "histogram2dcontour": [
           {
            "colorbar": {
             "outlinewidth": 0,
             "ticks": ""
            },
            "colorscale": [
             [
              0,
              "#0d0887"
             ],
             [
              0.1111111111111111,
              "#46039f"
             ],
             [
              0.2222222222222222,
              "#7201a8"
             ],
             [
              0.3333333333333333,
              "#9c179e"
             ],
             [
              0.4444444444444444,
              "#bd3786"
             ],
             [
              0.5555555555555556,
              "#d8576b"
             ],
             [
              0.6666666666666666,
              "#ed7953"
             ],
             [
              0.7777777777777778,
              "#fb9f3a"
             ],
             [
              0.8888888888888888,
              "#fdca26"
             ],
             [
              1,
              "#f0f921"
             ]
            ],
            "type": "histogram2dcontour"
           }
          ],
          "mesh3d": [
           {
            "colorbar": {
             "outlinewidth": 0,
             "ticks": ""
            },
            "type": "mesh3d"
           }
          ],
          "parcoords": [
           {
            "line": {
             "colorbar": {
              "outlinewidth": 0,
              "ticks": ""
             }
            },
            "type": "parcoords"
           }
          ],
          "pie": [
           {
            "automargin": true,
            "type": "pie"
           }
          ],
          "scatter": [
           {
            "marker": {
             "colorbar": {
              "outlinewidth": 0,
              "ticks": ""
             }
            },
            "type": "scatter"
           }
          ],
          "scatter3d": [
           {
            "line": {
             "colorbar": {
              "outlinewidth": 0,
              "ticks": ""
             }
            },
            "marker": {
             "colorbar": {
              "outlinewidth": 0,
              "ticks": ""
             }
            },
            "type": "scatter3d"
           }
          ],
          "scattercarpet": [
           {
            "marker": {
             "colorbar": {
              "outlinewidth": 0,
              "ticks": ""
             }
            },
            "type": "scattercarpet"
           }
          ],
          "scattergeo": [
           {
            "marker": {
             "colorbar": {
              "outlinewidth": 0,
              "ticks": ""
             }
            },
            "type": "scattergeo"
           }
          ],
          "scattergl": [
           {
            "marker": {
             "colorbar": {
              "outlinewidth": 0,
              "ticks": ""
             }
            },
            "type": "scattergl"
           }
          ],
          "scattermapbox": [
           {
            "marker": {
             "colorbar": {
              "outlinewidth": 0,
              "ticks": ""
             }
            },
            "type": "scattermapbox"
           }
          ],
          "scatterpolar": [
           {
            "marker": {
             "colorbar": {
              "outlinewidth": 0,
              "ticks": ""
             }
            },
            "type": "scatterpolar"
           }
          ],
          "scatterpolargl": [
           {
            "marker": {
             "colorbar": {
              "outlinewidth": 0,
              "ticks": ""
             }
            },
            "type": "scatterpolargl"
           }
          ],
          "scatterternary": [
           {
            "marker": {
             "colorbar": {
              "outlinewidth": 0,
              "ticks": ""
             }
            },
            "type": "scatterternary"
           }
          ],
          "surface": [
           {
            "colorbar": {
             "outlinewidth": 0,
             "ticks": ""
            },
            "colorscale": [
             [
              0,
              "#0d0887"
             ],
             [
              0.1111111111111111,
              "#46039f"
             ],
             [
              0.2222222222222222,
              "#7201a8"
             ],
             [
              0.3333333333333333,
              "#9c179e"
             ],
             [
              0.4444444444444444,
              "#bd3786"
             ],
             [
              0.5555555555555556,
              "#d8576b"
             ],
             [
              0.6666666666666666,
              "#ed7953"
             ],
             [
              0.7777777777777778,
              "#fb9f3a"
             ],
             [
              0.8888888888888888,
              "#fdca26"
             ],
             [
              1,
              "#f0f921"
             ]
            ],
            "type": "surface"
           }
          ],
          "table": [
           {
            "cells": {
             "fill": {
              "color": "#EBF0F8"
             },
             "line": {
              "color": "white"
             }
            },
            "header": {
             "fill": {
              "color": "#C8D4E3"
             },
             "line": {
              "color": "white"
             }
            },
            "type": "table"
           }
          ]
         },
         "layout": {
          "annotationdefaults": {
           "arrowcolor": "#2a3f5f",
           "arrowhead": 0,
           "arrowwidth": 1
          },
          "autotypenumbers": "strict",
          "coloraxis": {
           "colorbar": {
            "outlinewidth": 0,
            "ticks": ""
           }
          },
          "colorscale": {
           "diverging": [
            [
             0,
             "#8e0152"
            ],
            [
             0.1,
             "#c51b7d"
            ],
            [
             0.2,
             "#de77ae"
            ],
            [
             0.3,
             "#f1b6da"
            ],
            [
             0.4,
             "#fde0ef"
            ],
            [
             0.5,
             "#f7f7f7"
            ],
            [
             0.6,
             "#e6f5d0"
            ],
            [
             0.7,
             "#b8e186"
            ],
            [
             0.8,
             "#7fbc41"
            ],
            [
             0.9,
             "#4d9221"
            ],
            [
             1,
             "#276419"
            ]
           ],
           "sequential": [
            [
             0,
             "#0d0887"
            ],
            [
             0.1111111111111111,
             "#46039f"
            ],
            [
             0.2222222222222222,
             "#7201a8"
            ],
            [
             0.3333333333333333,
             "#9c179e"
            ],
            [
             0.4444444444444444,
             "#bd3786"
            ],
            [
             0.5555555555555556,
             "#d8576b"
            ],
            [
             0.6666666666666666,
             "#ed7953"
            ],
            [
             0.7777777777777778,
             "#fb9f3a"
            ],
            [
             0.8888888888888888,
             "#fdca26"
            ],
            [
             1,
             "#f0f921"
            ]
           ],
           "sequentialminus": [
            [
             0,
             "#0d0887"
            ],
            [
             0.1111111111111111,
             "#46039f"
            ],
            [
             0.2222222222222222,
             "#7201a8"
            ],
            [
             0.3333333333333333,
             "#9c179e"
            ],
            [
             0.4444444444444444,
             "#bd3786"
            ],
            [
             0.5555555555555556,
             "#d8576b"
            ],
            [
             0.6666666666666666,
             "#ed7953"
            ],
            [
             0.7777777777777778,
             "#fb9f3a"
            ],
            [
             0.8888888888888888,
             "#fdca26"
            ],
            [
             1,
             "#f0f921"
            ]
           ]
          },
          "colorway": [
           "#636efa",
           "#EF553B",
           "#00cc96",
           "#ab63fa",
           "#FFA15A",
           "#19d3f3",
           "#FF6692",
           "#B6E880",
           "#FF97FF",
           "#FECB52"
          ],
          "font": {
           "color": "#2a3f5f"
          },
          "geo": {
           "bgcolor": "white",
           "lakecolor": "white",
           "landcolor": "#E5ECF6",
           "showlakes": true,
           "showland": true,
           "subunitcolor": "white"
          },
          "hoverlabel": {
           "align": "left"
          },
          "hovermode": "closest",
          "mapbox": {
           "style": "light"
          },
          "paper_bgcolor": "white",
          "plot_bgcolor": "#E5ECF6",
          "polar": {
           "angularaxis": {
            "gridcolor": "white",
            "linecolor": "white",
            "ticks": ""
           },
           "bgcolor": "#E5ECF6",
           "radialaxis": {
            "gridcolor": "white",
            "linecolor": "white",
            "ticks": ""
           }
          },
          "scene": {
           "xaxis": {
            "backgroundcolor": "#E5ECF6",
            "gridcolor": "white",
            "gridwidth": 2,
            "linecolor": "white",
            "showbackground": true,
            "ticks": "",
            "zerolinecolor": "white"
           },
           "yaxis": {
            "backgroundcolor": "#E5ECF6",
            "gridcolor": "white",
            "gridwidth": 2,
            "linecolor": "white",
            "showbackground": true,
            "ticks": "",
            "zerolinecolor": "white"
           },
           "zaxis": {
            "backgroundcolor": "#E5ECF6",
            "gridcolor": "white",
            "gridwidth": 2,
            "linecolor": "white",
            "showbackground": true,
            "ticks": "",
            "zerolinecolor": "white"
           }
          },
          "shapedefaults": {
           "line": {
            "color": "#2a3f5f"
           }
          },
          "ternary": {
           "aaxis": {
            "gridcolor": "white",
            "linecolor": "white",
            "ticks": ""
           },
           "baxis": {
            "gridcolor": "white",
            "linecolor": "white",
            "ticks": ""
           },
           "bgcolor": "#E5ECF6",
           "caxis": {
            "gridcolor": "white",
            "linecolor": "white",
            "ticks": ""
           }
          },
          "title": {
           "x": 0.05
          },
          "xaxis": {
           "automargin": true,
           "gridcolor": "white",
           "linecolor": "white",
           "ticks": "",
           "title": {
            "standoff": 15
           },
           "zerolinecolor": "white",
           "zerolinewidth": 2
          },
          "yaxis": {
           "automargin": true,
           "gridcolor": "white",
           "linecolor": "white",
           "ticks": "",
           "title": {
            "standoff": 15
           },
           "zerolinecolor": "white",
           "zerolinewidth": 2
          }
         }
        },
        "title": {
         "text": "Distribution of compound score"
        },
        "xaxis": {
         "title": {
          "text": "Compound score"
         }
        },
        "yaxis": {
         "showticklabels": false
        }
       }
      }
     },
     "metadata": {},
     "output_type": "display_data"
    }
   ],
   "source": [
    "# Making ridge plot of the blob_polar distributions per category\n",
    "\n",
    "import plotly.graph_objects as go\n",
    "fig = go.Figure()\n",
    "for index, media in enumerate(media_list):\n",
    "    fig.add_trace(go.Scatter(\n",
    "                            x=[-1, 1], y=np.full(5, len(media_list)-index),\n",
    "                            mode='lines',\n",
    "                            line_color='white'))\n",
    "    \n",
    "    fig.add_trace(go.Scatter(\n",
    "                            x=array_dict[f'x_{media}'],\n",
    "                            y=array_dict[f'y_{media}'] + (len(media_list)-index) ,\n",
    "                            fill='tonexty',\n",
    "                            name=f'{media}'))\n",
    "    \n",
    "    # Adding text to figure\n",
    "    fig.add_annotation(\n",
    "                        x=-0.1,\n",
    "                        y=len(media_list)-index,\n",
    "                        text=f'{media}',\n",
    "                        showarrow=False,\n",
    "                        yshift=1)\n",
    "\n",
    "# figure and legend titles\n",
    "fig.update_layout(\n",
    "                title='Distribution of compound score',\n",
    "                showlegend=False,\n",
    "                xaxis=dict(title='Compound score'),\n",
    "                yaxis=dict(showticklabels=False) # that way you hide the y axis ticks labels\n",
    "                )\n",
    "\n",
    "fig.show()\n",
    "fig.write_html(\"images/polarity_blob_categories.html\")"
   ]
  },
  {
   "cell_type": "code",
   "execution_count": 183,
   "metadata": {},
   "outputs": [],
   "source": [
    "df_compound = df_rounded.copy()"
   ]
  },
  {
   "cell_type": "code",
   "execution_count": 184,
   "metadata": {},
   "outputs": [
    {
     "data": {
      "text/html": [
       "<div>\n",
       "<style scoped>\n",
       "    .dataframe tbody tr th:only-of-type {\n",
       "        vertical-align: middle;\n",
       "    }\n",
       "\n",
       "    .dataframe tbody tr th {\n",
       "        vertical-align: top;\n",
       "    }\n",
       "\n",
       "    .dataframe thead th {\n",
       "        text-align: right;\n",
       "    }\n",
       "</style>\n",
       "<table border=\"1\" class=\"dataframe\">\n",
       "  <thead>\n",
       "    <tr style=\"text-align: right;\">\n",
       "      <th></th>\n",
       "      <th>category</th>\n",
       "      <th>compound</th>\n",
       "      <th>count</th>\n",
       "    </tr>\n",
       "  </thead>\n",
       "  <tbody>\n",
       "    <tr>\n",
       "      <th>0</th>\n",
       "      <td>Celebrity magazine</td>\n",
       "      <td>-1.00</td>\n",
       "      <td>12</td>\n",
       "    </tr>\n",
       "    <tr>\n",
       "      <th>1</th>\n",
       "      <td>Celebrity magazine</td>\n",
       "      <td>-0.99</td>\n",
       "      <td>124</td>\n",
       "    </tr>\n",
       "    <tr>\n",
       "      <th>2</th>\n",
       "      <td>Celebrity magazine</td>\n",
       "      <td>-0.98</td>\n",
       "      <td>352</td>\n",
       "    </tr>\n",
       "    <tr>\n",
       "      <th>3</th>\n",
       "      <td>Celebrity magazine</td>\n",
       "      <td>-0.97</td>\n",
       "      <td>594</td>\n",
       "    </tr>\n",
       "    <tr>\n",
       "      <th>4</th>\n",
       "      <td>Celebrity magazine</td>\n",
       "      <td>-0.96</td>\n",
       "      <td>846</td>\n",
       "    </tr>\n",
       "    <tr>\n",
       "      <th>...</th>\n",
       "      <td>...</td>\n",
       "      <td>...</td>\n",
       "      <td>...</td>\n",
       "    </tr>\n",
       "    <tr>\n",
       "      <th>798</th>\n",
       "      <td>Sports</td>\n",
       "      <td>0.96</td>\n",
       "      <td>6677</td>\n",
       "    </tr>\n",
       "    <tr>\n",
       "      <th>799</th>\n",
       "      <td>Sports</td>\n",
       "      <td>0.97</td>\n",
       "      <td>5424</td>\n",
       "    </tr>\n",
       "    <tr>\n",
       "      <th>800</th>\n",
       "      <td>Sports</td>\n",
       "      <td>0.98</td>\n",
       "      <td>3552</td>\n",
       "    </tr>\n",
       "    <tr>\n",
       "      <th>801</th>\n",
       "      <td>Sports</td>\n",
       "      <td>0.99</td>\n",
       "      <td>1395</td>\n",
       "    </tr>\n",
       "    <tr>\n",
       "      <th>802</th>\n",
       "      <td>Sports</td>\n",
       "      <td>1.00</td>\n",
       "      <td>60</td>\n",
       "    </tr>\n",
       "  </tbody>\n",
       "</table>\n",
       "<p>803 rows × 3 columns</p>\n",
       "</div>"
      ],
      "text/plain": [
       "               category  compound  count\n",
       "0    Celebrity magazine     -1.00     12\n",
       "1    Celebrity magazine     -0.99    124\n",
       "2    Celebrity magazine     -0.98    352\n",
       "3    Celebrity magazine     -0.97    594\n",
       "4    Celebrity magazine     -0.96    846\n",
       "..                  ...       ...    ...\n",
       "798              Sports      0.96   6677\n",
       "799              Sports      0.97   5424\n",
       "800              Sports      0.98   3552\n",
       "801              Sports      0.99   1395\n",
       "802              Sports      1.00     60\n",
       "\n",
       "[803 rows x 3 columns]"
      ]
     },
     "execution_count": 184,
     "metadata": {},
     "output_type": "execute_result"
    }
   ],
   "source": [
    "df_compound = df_compound.groupby(['category', 'compound']).agg({'compound': 'count'}).rename(columns={'compound': 'count'}).reset_index()\n",
    "df_compound"
   ]
  },
  {
   "cell_type": "code",
   "execution_count": 185,
   "metadata": {},
   "outputs": [],
   "source": [
    "categories = ['Sports', 'Newspaper','Celebrity magazine', 'Other' ]\n",
    "\n",
    "array_dict_2 = {}\n",
    "for outlet in categories:\n",
    "    array_dict_2[f'x_{outlet}'] = df_compound[df_compound['category']==outlet]['compound'] # storing the blob_polar values for each category\n",
    "    array_dict_2[f'y_{outlet}'] = np.log(df_compound[df_compound['category']==outlet]['count']) # storing the blob_polar count for each value\n",
    "    array_dict_2[f'y_{outlet}'] = (array_dict_2[f'y_{outlet}'] - array_dict_2[f'y_{outlet}'].min()) \\\n",
    "                                / (array_dict_2[f'y_{outlet}'].max() - array_dict_2[f'y_{outlet}'].min())"
   ]
  },
  {
   "cell_type": "code",
   "execution_count": 186,
   "metadata": {},
   "outputs": [
    {
     "data": {
      "application/vnd.plotly.v1+json": {
       "config": {
        "plotlyServerURL": "https://plot.ly"
       },
       "data": [
        {
         "line": {
          "color": "white"
         },
         "mode": "lines",
         "type": "scatter",
         "x": [
          -1,
          1
         ],
         "y": [
          4,
          4,
          4,
          4,
          4
         ]
        },
        {
         "fill": "tonexty",
         "name": "Sports",
         "type": "scatter",
         "x": [
          -0.99,
          -0.98,
          -0.97,
          -0.96,
          -0.95,
          -0.94,
          -0.93,
          -0.92,
          -0.91,
          -0.9,
          -0.89,
          -0.88,
          -0.87,
          -0.86,
          -0.85,
          -0.84,
          -0.83,
          -0.82,
          -0.81,
          -0.8,
          -0.79,
          -0.78,
          -0.77,
          -0.76,
          -0.75,
          -0.74,
          -0.73,
          -0.72,
          -0.71,
          -0.7,
          -0.69,
          -0.68,
          -0.67,
          -0.66,
          -0.65,
          -0.64,
          -0.63,
          -0.62,
          -0.61,
          -0.6,
          -0.59,
          -0.58,
          -0.57,
          -0.56,
          -0.55,
          -0.54,
          -0.53,
          -0.52,
          -0.51,
          -0.5,
          -0.49,
          -0.48,
          -0.47,
          -0.46,
          -0.45,
          -0.44,
          -0.43,
          -0.42,
          -0.41,
          -0.4,
          -0.39,
          -0.38,
          -0.37,
          -0.36,
          -0.35,
          -0.34,
          -0.33,
          -0.32,
          -0.31,
          -0.3,
          -0.29,
          -0.28,
          -0.27,
          -0.26,
          -0.25,
          -0.24,
          -0.23,
          -0.22,
          -0.21,
          -0.2,
          -0.19,
          -0.18,
          -0.17,
          -0.16,
          -0.15,
          -0.14,
          -0.13,
          -0.12,
          -0.11,
          -0.1,
          -0.09,
          -0.08,
          -0.07,
          -0.06,
          -0.05,
          -0.04,
          -0.03,
          -0.02,
          -0.01,
          0,
          0.01,
          0.02,
          0.03,
          0.04,
          0.05,
          0.06,
          0.07,
          0.08,
          0.09,
          0.1,
          0.11,
          0.12,
          0.13,
          0.14,
          0.15,
          0.16,
          0.17,
          0.18,
          0.19,
          0.2,
          0.21,
          0.22,
          0.23,
          0.24,
          0.25,
          0.26,
          0.27,
          0.28,
          0.29,
          0.3,
          0.31,
          0.32,
          0.33,
          0.34,
          0.35,
          0.36,
          0.37,
          0.38,
          0.39,
          0.4,
          0.41,
          0.42,
          0.43,
          0.44,
          0.45,
          0.46,
          0.47,
          0.48,
          0.49,
          0.5,
          0.51,
          0.52,
          0.53,
          0.54,
          0.55,
          0.56,
          0.57,
          0.58,
          0.59,
          0.6,
          0.61,
          0.62,
          0.63,
          0.64,
          0.65,
          0.66,
          0.67,
          0.68,
          0.69,
          0.7,
          0.71,
          0.72,
          0.73,
          0.74,
          0.75,
          0.76,
          0.77,
          0.78,
          0.79,
          0.8,
          0.81,
          0.82,
          0.83,
          0.84,
          0.85,
          0.86,
          0.87,
          0.88,
          0.89,
          0.9,
          0.91,
          0.92,
          0.93,
          0.94,
          0.95,
          0.96,
          0.97,
          0.98,
          0.99,
          1
         ],
         "y": [
          4,
          4.187162834784752,
          4.233908304488194,
          4.2717538696411665,
          4.316471749011179,
          4.3283391407248555,
          4.346352486524835,
          4.376847508491403,
          4.376058125781542,
          4.398613925444862,
          4.399241555060233,
          4.423827657074846,
          4.41120219726813,
          4.4313228608030295,
          4.422849134904109,
          4.44386440909895,
          4.44412859925895,
          4.4488918951897105,
          4.460492172169381,
          4.464108544552735,
          4.451128064195896,
          4.489134704964443,
          4.48051536449256,
          4.457545850051491,
          4.467075696233939,
          4.507683163049081,
          4.468629048714059,
          4.482586487277723,
          4.479232913617014,
          4.491847228742987,
          4.492895522051365,
          4.529042710481678,
          4.506223863288424,
          4.5171440092357065,
          4.514155337192133,
          4.514413270209456,
          4.460937693345639,
          4.529706093657165,
          4.519861661314861,
          4.529264337461394,
          4.534700517008527,
          4.454508209156197,
          4.558438817507313,
          4.53860108471296,
          4.447881427580185,
          4.579906546200373,
          4.597699640860992,
          4.461822706040409,
          4.570088229132136,
          4.483738048983321,
          4.56568485835495,
          4.62772416356357,
          4.471962165529507,
          4.5972581334026605,
          4.441318435046154,
          4.591006145990917,
          4.451373407227675,
          4.623075695981288,
          4.420527194068893,
          4.627053037760525,
          4.5069214782620115,
          4.617927334216656,
          4.456737240362026,
          4.622884240595363,
          4.441046550017394,
          4.648830422279575,
          4.492413087164244,
          4.6084084499167846,
          4.495194390237695,
          4.697579330658683,
          4.473342674126058,
          4.561473564259721,
          4.596592120715343,
          4.542206962643339,
          4.601718406834223,
          4.510872562501037,
          4.584957138406388,
          4.480606329223004,
          4.492493658060699,
          4.577567984585485,
          4.497133798387922,
          4.594024894207537,
          4.490541437706098,
          4.412485847851366,
          4.625074129101787,
          4.443200801350598,
          4.616255693730029,
          4.467699994459339,
          4.441454095261608,
          4.643973080882417,
          4.453674038248693,
          4.5943957834203575,
          4.383189596785605,
          4.5683208275545075,
          4.606338083419185,
          4.460492172169381,
          4.584296470108021,
          4.479601043589743,
          4.430719692807115,
          5,
          4.43870456040871,
          4.451618137666976,
          4.605069433944547,
          4.50580289847517,
          4.583025599920595,
          4.458803196028731,
          4.425596629439138,
          4.695358143341541,
          4.457890365309597,
          4.605502619708888,
          4.452832706988332,
          4.511006006347406,
          4.618396571244275,
          4.492493658060699,
          4.625903535278158,
          4.420359217181133,
          4.518264898719795,
          4.622756395590257,
          4.535949126123433,
          4.700352077972011,
          4.515883355329384,
          4.541574451949805,
          4.62957127539313,
          4.539801277138063,
          4.663986100561919,
          4.525656726459656,
          4.702690753468357,
          4.5030216532238105,
          4.509933333643757,
          4.64618032532754,
          4.520044240361792,
          4.689504323835961,
          4.5303102756712565,
          4.746536306500949,
          4.481691371558666,
          4.765433292100494,
          4.528430639579673,
          4.679992980161456,
          4.544885905120369,
          4.730144492274523,
          4.506013606883123,
          4.7118686103281995,
          4.513051485624148,
          4.770530128157096,
          4.56051263019011,
          4.670603627417466,
          4.525253966027864,
          4.673288416543112,
          4.724291909603881,
          4.5650722657982135,
          4.69524626044762,
          4.514026115696793,
          4.669312731184617,
          4.6457934144551825,
          4.561632807982838,
          4.667357465424063,
          4.694889417368629,
          4.549854385436054,
          4.711937302045435,
          4.663958096421724,
          4.676470252551628,
          4.707790843936058,
          4.545965319079911,
          4.732134344373937,
          4.667668086871833,
          4.656194407637518,
          4.662191767174189,
          4.662661179314515,
          4.65123550944138,
          4.672341656504449,
          4.6468829411679895,
          4.649498131780621,
          4.664167932704007,
          4.692563873548856,
          4.64961167774783,
          4.661461861049926,
          4.699244557826361,
          4.693230995911731,
          4.6489120942199875,
          4.684705453327494,
          4.677743822064453,
          4.676173986865045,
          4.674452858581019,
          4.688462876180359,
          4.673352058185514,
          4.6826325101758925,
          4.67665496488097,
          4.683931800405209,
          4.678856810212515,
          4.682875277804914,
          4.677926152042037,
          4.683048315847889,
          4.681830584814223,
          4.669339246669702,
          4.666365008401509,
          4.659341761274133,
          4.638970896782471,
          4.5974791357285785,
          4.505873184953634,
          4.197489691995033
         ]
        },
        {
         "line": {
          "color": "white"
         },
         "mode": "lines",
         "type": "scatter",
         "x": [
          -1,
          1
         ],
         "y": [
          3,
          3,
          3,
          3,
          3
         ]
        },
        {
         "fill": "tonexty",
         "name": "Newspaper",
         "type": "scatter",
         "x": [
          -1,
          -0.99,
          -0.98,
          -0.97,
          -0.96,
          -0.95,
          -0.94,
          -0.93,
          -0.92,
          -0.91,
          -0.9,
          -0.89,
          -0.88,
          -0.87,
          -0.86,
          -0.85,
          -0.84,
          -0.83,
          -0.82,
          -0.81,
          -0.8,
          -0.79,
          -0.78,
          -0.77,
          -0.76,
          -0.75,
          -0.74,
          -0.73,
          -0.72,
          -0.71,
          -0.7,
          -0.69,
          -0.68,
          -0.67,
          -0.66,
          -0.65,
          -0.64,
          -0.63,
          -0.62,
          -0.61,
          -0.6,
          -0.59,
          -0.58,
          -0.57,
          -0.56,
          -0.55,
          -0.54,
          -0.53,
          -0.52,
          -0.51,
          -0.5,
          -0.49,
          -0.48,
          -0.47,
          -0.46,
          -0.45,
          -0.44,
          -0.43,
          -0.42,
          -0.41,
          -0.4,
          -0.39,
          -0.38,
          -0.37,
          -0.36,
          -0.35,
          -0.34,
          -0.33,
          -0.32,
          -0.31,
          -0.3,
          -0.29,
          -0.28,
          -0.27,
          -0.26,
          -0.25,
          -0.24,
          -0.23,
          -0.22,
          -0.21,
          -0.2,
          -0.19,
          -0.18,
          -0.17,
          -0.16,
          -0.15,
          -0.14,
          -0.13,
          -0.12,
          -0.11,
          -0.1,
          -0.09,
          -0.08,
          -0.07,
          -0.06,
          -0.05,
          -0.04,
          -0.03,
          -0.02,
          -0.01,
          0,
          0.01,
          0.02,
          0.03,
          0.04,
          0.05,
          0.06,
          0.07,
          0.08,
          0.09,
          0.1,
          0.11,
          0.12,
          0.13,
          0.14,
          0.15,
          0.16,
          0.17,
          0.18,
          0.19,
          0.2,
          0.21,
          0.22,
          0.23,
          0.24,
          0.25,
          0.26,
          0.27,
          0.28,
          0.29,
          0.3,
          0.31,
          0.32,
          0.33,
          0.34,
          0.35,
          0.36,
          0.37,
          0.38,
          0.39,
          0.4,
          0.41,
          0.42,
          0.43,
          0.44,
          0.45,
          0.46,
          0.47,
          0.48,
          0.49,
          0.5,
          0.51,
          0.52,
          0.53,
          0.54,
          0.55,
          0.56,
          0.57,
          0.58,
          0.59,
          0.6,
          0.61,
          0.62,
          0.63,
          0.64,
          0.65,
          0.66,
          0.67,
          0.68,
          0.69,
          0.7,
          0.71,
          0.72,
          0.73,
          0.74,
          0.75,
          0.76,
          0.77,
          0.78,
          0.79,
          0.8,
          0.81,
          0.82,
          0.83,
          0.84,
          0.85,
          0.86,
          0.87,
          0.88,
          0.89,
          0.9,
          0.91,
          0.92,
          0.93,
          0.94,
          0.95,
          0.96,
          0.97,
          0.98,
          0.99,
          1
         ],
         "y": [
          3,
          3.2636458562965056,
          3.3611486405699225,
          3.411329632515358,
          3.4470212330248042,
          3.4690129809248957,
          3.484185253747778,
          3.501558556461304,
          3.5145354461148246,
          3.5168428876743376,
          3.5292529892703985,
          3.5328691266201164,
          3.5465753924559524,
          3.543150598991965,
          3.549574922869511,
          3.542863155466552,
          3.564889264872453,
          3.5566883064559702,
          3.5607095720908264,
          3.566469811072046,
          3.57607296484644,
          3.5450702614714094,
          3.5900528612708618,
          3.5916039094244794,
          3.5601074046898935,
          3.561084565054536,
          3.604866189343656,
          3.5631328796001114,
          3.568686691055778,
          3.5711394395713345,
          3.578323513017597,
          3.591813695133413,
          3.599946257680533,
          3.5951732213288574,
          3.6033616474086023,
          3.602902135725591,
          3.591896681095336,
          3.5114180161417172,
          3.623574648131303,
          3.602975398841482,
          3.6293266644149016,
          3.6017074952216084,
          3.511729858379068,
          3.6337896109753656,
          3.628545313896386,
          3.502793296270163,
          3.6433220973608167,
          3.663064111392453,
          3.5029330172953665,
          3.648957749855058,
          3.5165945585357608,
          3.647061961351871,
          3.686037697527914,
          3.4989129235771808,
          3.6455515634113773,
          3.495686592788014,
          3.6545196423723074,
          3.4827685483378836,
          3.669463271307997,
          3.47030870940371,
          3.6816883457822667,
          3.5435051992029067,
          3.662564064487902,
          3.5016675554480123,
          3.673590174197342,
          3.481547714075195,
          3.687283029659154,
          3.536004011888712,
          3.6698472051495123,
          3.5407544455104505,
          3.7393030614633487,
          3.529428561293717,
          3.5813673462422573,
          3.6580995968948837,
          3.5402828960889754,
          3.6425164311410922,
          3.5435120046018946,
          3.6450879669536445,
          3.5169530340190924,
          3.5229817810004516,
          3.627949496291113,
          3.515146031554542,
          3.6371175782041267,
          3.52781956007071,
          3.4448813584722817,
          3.6571279638177527,
          3.4795448717034976,
          3.6405314947507987,
          3.4901217002520175,
          3.4724523908379665,
          3.6694896889248607,
          3.4792370127484817,
          3.638569051228392,
          3.422295564169713,
          3.5885071166334153,
          3.6383443998893705,
          3.487055478697265,
          3.6185441560283813,
          3.4918900610457957,
          3.4547133023172893,
          4,
          3.4616391372244117,
          3.4666384725938,
          3.6527419234741507,
          3.5294763844844144,
          3.6217213947289637,
          3.480889685214181,
          3.4418816938801347,
          3.7197437312438435,
          3.472588447371373,
          3.641285013715601,
          3.4753693093916613,
          3.523110268279534,
          3.653391226233419,
          3.5054007301156225,
          3.655924746222751,
          3.44722237097127,
          3.528780418789573,
          3.6492173107861774,
          3.5485905616219053,
          3.699832108843217,
          3.53540221398464,
          3.5526486966367834,
          3.66057543702476,
          3.5450769481730644,
          3.6708722105216918,
          3.5429522253893593,
          3.723443185764677,
          3.517765722946119,
          3.5271186390114226,
          3.6651441941683203,
          3.5331601161312274,
          3.714164145107145,
          3.546792094866427,
          3.7221467209851564,
          3.495172469032672,
          3.7629604635544878,
          3.5363365929643304,
          3.713997153202696,
          3.5545202299517666,
          3.7514212599026,
          3.5077509701066325,
          3.7323992967330457,
          3.5272739697258797,
          3.7575736927685117,
          3.5643094438114815,
          3.69233098171807,
          3.5313139066591246,
          3.694887404372286,
          3.7283457926136467,
          3.5677485394725803,
          3.6998755246580997,
          3.522129077714423,
          3.6797855589883546,
          3.6582027389815917,
          3.564792890138944,
          3.6805119046020156,
          3.694822860159883,
          3.5536319088931956,
          3.6958720797173235,
          3.667905703781282,
          3.675753378024689,
          3.693071087503982,
          3.545183867088446,
          3.7221795922174783,
          3.65991420100273,
          3.6602719887508153,
          3.664500469942457,
          3.6587036179565247,
          3.651497662197412,
          3.661075870445354,
          3.648922390982815,
          3.649013879188211,
          3.651753956555539,
          3.683305694332086,
          3.643359753699043,
          3.6490097226743416,
          3.6791510279819417,
          3.680482730952874,
          3.633247868746717,
          3.669565595895201,
          3.6629486918665495,
          3.655253066011759,
          3.654096690141066,
          3.6666857206128776,
          3.644931445730633,
          3.658213983613228,
          3.6509686171141436,
          3.6550222134817405,
          3.6460729224240898,
          3.64910734943399,
          3.639146787785173,
          3.6410284871066447,
          3.6319255018031997,
          3.6185617181099907,
          3.611735874044244,
          3.594258660138868,
          3.5691061626612437,
          3.525375166661958,
          3.435629358886999,
          3.1756661623665674
         ]
        },
        {
         "line": {
          "color": "white"
         },
         "mode": "lines",
         "type": "scatter",
         "x": [
          -1,
          1
         ],
         "y": [
          2,
          2,
          2,
          2,
          2
         ]
        },
        {
         "fill": "tonexty",
         "name": "Celebrity magazine",
         "type": "scatter",
         "x": [
          -1,
          -0.99,
          -0.98,
          -0.97,
          -0.96,
          -0.95,
          -0.94,
          -0.93,
          -0.92,
          -0.91,
          -0.9,
          -0.89,
          -0.88,
          -0.87,
          -0.86,
          -0.85,
          -0.84,
          -0.83,
          -0.82,
          -0.81,
          -0.8,
          -0.79,
          -0.78,
          -0.77,
          -0.76,
          -0.75,
          -0.74,
          -0.73,
          -0.72,
          -0.71,
          -0.7,
          -0.69,
          -0.68,
          -0.67,
          -0.66,
          -0.65,
          -0.64,
          -0.63,
          -0.62,
          -0.61,
          -0.6,
          -0.59,
          -0.58,
          -0.57,
          -0.56,
          -0.55,
          -0.54,
          -0.53,
          -0.52,
          -0.51,
          -0.5,
          -0.49,
          -0.48,
          -0.47,
          -0.46,
          -0.45,
          -0.44,
          -0.43,
          -0.42,
          -0.41,
          -0.4,
          -0.39,
          -0.38,
          -0.37,
          -0.36,
          -0.35,
          -0.34,
          -0.33,
          -0.32,
          -0.31,
          -0.3,
          -0.29,
          -0.28,
          -0.27,
          -0.26,
          -0.25,
          -0.24,
          -0.23,
          -0.22,
          -0.21,
          -0.2,
          -0.19,
          -0.18,
          -0.17,
          -0.16,
          -0.15,
          -0.14,
          -0.13,
          -0.12,
          -0.11,
          -0.1,
          -0.09,
          -0.08,
          -0.07,
          -0.06,
          -0.05,
          -0.04,
          -0.03,
          -0.02,
          -0.01,
          0,
          0.01,
          0.02,
          0.03,
          0.04,
          0.05,
          0.06,
          0.07,
          0.08,
          0.09,
          0.1,
          0.11,
          0.12,
          0.13,
          0.14,
          0.15,
          0.16,
          0.17,
          0.18,
          0.19,
          0.2,
          0.21,
          0.22,
          0.23,
          0.24,
          0.25,
          0.26,
          0.27,
          0.28,
          0.29,
          0.3,
          0.31,
          0.32,
          0.33,
          0.34,
          0.35,
          0.36,
          0.37,
          0.38,
          0.39,
          0.4,
          0.41,
          0.42,
          0.43,
          0.44,
          0.45,
          0.46,
          0.47,
          0.48,
          0.49,
          0.5,
          0.51,
          0.52,
          0.53,
          0.54,
          0.55,
          0.56,
          0.57,
          0.58,
          0.59,
          0.6,
          0.61,
          0.62,
          0.63,
          0.64,
          0.65,
          0.66,
          0.67,
          0.68,
          0.69,
          0.7,
          0.71,
          0.72,
          0.73,
          0.74,
          0.75,
          0.76,
          0.77,
          0.78,
          0.79,
          0.8,
          0.81,
          0.82,
          0.83,
          0.84,
          0.85,
          0.86,
          0.87,
          0.88,
          0.89,
          0.9,
          0.91,
          0.92,
          0.93,
          0.94,
          0.95,
          0.96,
          0.97,
          0.98,
          0.99,
          1
         ],
         "y": [
          2,
          2.2333900212531486,
          2.337659098565539,
          2.3899508717479856,
          2.4252925447056817,
          2.4461171726814763,
          2.452614892267909,
          2.4704302937796725,
          2.4822596292520434,
          2.4840472191776426,
          2.4978175385655916,
          2.4958545332086683,
          2.5154839837414826,
          2.509002262981593,
          2.510524173414126,
          2.5055172524565528,
          2.5313944985574826,
          2.517804346602139,
          2.5196593762650505,
          2.5278598540495203,
          2.5423357056685836,
          2.508181000188814,
          2.548924999950333,
          2.5564828299198328,
          2.5155797545716982,
          2.520391853047939,
          2.5676585789122637,
          2.521435470992537,
          2.5255908967720693,
          2.528618871776666,
          2.535555801378129,
          2.55364572225461,
          2.55914880711058,
          2.5588077782732115,
          2.568225437231175,
          2.5598581289079028,
          2.5532196914084464,
          2.4639855300455764,
          2.5786813256585646,
          2.5629147251401845,
          2.5857322591545873,
          2.5600116653548812,
          2.4722927564358486,
          2.593312743796262,
          2.5913812149896955,
          2.4535986186811805,
          2.607342234136594,
          2.6192361672563083,
          2.4514396827976412,
          2.610298102996997,
          2.464305840748251,
          2.604865932981929,
          2.6505279467897016,
          2.4367742337609295,
          2.6015197871237135,
          2.444668087065403,
          2.6111478484620703,
          2.431919357551839,
          2.6248437311509925,
          2.4152345473958596,
          2.6439664740786544,
          2.495034894196223,
          2.6216827650711436,
          2.445443546658902,
          2.6301837085931186,
          2.4241042209103982,
          2.6511955136087884,
          2.4885380772757255,
          2.628574384707366,
          2.4835208882510824,
          2.696726625265481,
          2.4735396911539635,
          2.538414646173364,
          2.6144585764536634,
          2.479138469083144,
          2.599100684653019,
          2.4878455986685255,
          2.603405822671257,
          2.4649433985959606,
          2.4630183916555453,
          2.5800967422890944,
          2.4574394595538895,
          2.599411466038589,
          2.470955291591743,
          2.3891060919612803,
          2.6146541302633692,
          2.4202037510792107,
          2.59070641935581,
          2.429683540504628,
          2.4210700821709996,
          2.626324304211379,
          2.4236249065446707,
          2.592073749886695,
          2.3613129302459903,
          2.5431017886049743,
          2.591783916086701,
          2.4206997166315465,
          2.5713965358157975,
          2.432470582632086,
          2.393747443292272,
          3,
          2.40346368139532,
          2.4057878990265182,
          2.6052569227360602,
          2.4752023317700482,
          2.5726481435906794,
          2.4236249065446707,
          2.3833439439046358,
          2.688413768235349,
          2.419204374214201,
          2.593466543535482,
          2.412854986081297,
          2.4671433552802435,
          2.6039410406616916,
          2.44716663854575,
          2.6195241455067,
          2.390118974148734,
          2.4790695233379596,
          2.6043947170817234,
          2.5044529521559995,
          2.6509364339096724,
          2.4813199877081624,
          2.510272125730255,
          2.6216330905508527,
          2.486829713390331,
          2.626086980771231,
          2.4918696142302683,
          2.6891581172645767,
          2.463261055118395,
          2.4818580070624257,
          2.6308806633992674,
          2.484440156198988,
          2.6791135032594617,
          2.5055701710988703,
          2.6730834019732406,
          2.445443546658902,
          2.7476784455095435,
          2.487338946867614,
          2.677384091055531,
          2.5016315289438773,
          2.7265200223882236,
          2.4640657040199376,
          2.7062786095772227,
          2.4862537068753907,
          2.7254121929458583,
          2.51534015519133,
          2.6680078289971974,
          2.496725321642943,
          2.6651023297038323,
          2.7031265852294815,
          2.5309850885064784,
          2.6691364859762867,
          2.4805754496281605,
          2.64567371546273,
          2.62768977598719,
          2.5224683032070727,
          2.6505403497501496,
          2.6674858007851237,
          2.518504024048318,
          2.6603715520221956,
          2.6422160813365085,
          2.6532925941956607,
          2.6618886491435965,
          2.5113264806127913,
          2.705922962035755,
          2.6263559047977867,
          2.634469286141461,
          2.6416212173558327,
          2.6300163228835656,
          2.623617298694716,
          2.6289753045778403,
          2.6210017334318887,
          2.621831640656589,
          2.6256583731649474,
          2.660461433403122,
          2.6204501949182806,
          2.6256742803442377,
          2.6584536678888098,
          2.6637966522969774,
          2.6088405089858457,
          2.651478499040678,
          2.6478504015831676,
          2.639732202641659,
          2.640187182550297,
          2.6554765063124415,
          2.6306085205130505,
          2.64931748374165,
          2.6429680956087465,
          2.6461672959357543,
          2.6415533945818135,
          2.6431017904162193,
          2.6369721533600736,
          2.6431418640064166,
          2.6367161237059102,
          2.6257696702849973,
          2.6236335340702177,
          2.609889134647058,
          2.593970225468261,
          2.5558770535491537,
          2.476837763239769,
          2.214846480477782
         ]
        },
        {
         "line": {
          "color": "white"
         },
         "mode": "lines",
         "type": "scatter",
         "x": [
          -1,
          1
         ],
         "y": [
          1,
          1,
          1,
          1,
          1
         ]
        },
        {
         "fill": "tonexty",
         "name": "Other",
         "type": "scatter",
         "x": [
          -1,
          -0.99,
          -0.98,
          -0.97,
          -0.96,
          -0.95,
          -0.94,
          -0.93,
          -0.92,
          -0.91,
          -0.9,
          -0.89,
          -0.88,
          -0.87,
          -0.86,
          -0.85,
          -0.84,
          -0.83,
          -0.82,
          -0.81,
          -0.8,
          -0.79,
          -0.78,
          -0.77,
          -0.76,
          -0.75,
          -0.74,
          -0.73,
          -0.72,
          -0.71,
          -0.7,
          -0.69,
          -0.68,
          -0.67,
          -0.66,
          -0.65,
          -0.64,
          -0.63,
          -0.62,
          -0.61,
          -0.6,
          -0.59,
          -0.58,
          -0.57,
          -0.56,
          -0.55,
          -0.54,
          -0.53,
          -0.52,
          -0.51,
          -0.5,
          -0.49,
          -0.48,
          -0.47,
          -0.46,
          -0.45,
          -0.44,
          -0.43,
          -0.42,
          -0.41,
          -0.4,
          -0.39,
          -0.38,
          -0.37,
          -0.36,
          -0.35,
          -0.34,
          -0.33,
          -0.32,
          -0.31,
          -0.3,
          -0.29,
          -0.28,
          -0.27,
          -0.26,
          -0.25,
          -0.24,
          -0.23,
          -0.22,
          -0.21,
          -0.2,
          -0.19,
          -0.18,
          -0.17,
          -0.16,
          -0.15,
          -0.14,
          -0.13,
          -0.12,
          -0.11,
          -0.1,
          -0.09,
          -0.08,
          -0.07,
          -0.06,
          -0.05,
          -0.04,
          -0.03,
          -0.02,
          -0.01,
          0,
          0.01,
          0.02,
          0.03,
          0.04,
          0.05,
          0.06,
          0.07,
          0.08,
          0.09,
          0.1,
          0.11,
          0.12,
          0.13,
          0.14,
          0.15,
          0.16,
          0.17,
          0.18,
          0.19,
          0.2,
          0.21,
          0.22,
          0.23,
          0.24,
          0.25,
          0.26,
          0.27,
          0.28,
          0.29,
          0.3,
          0.31,
          0.32,
          0.33,
          0.34,
          0.35,
          0.36,
          0.37,
          0.38,
          0.39,
          0.4,
          0.41,
          0.42,
          0.43,
          0.44,
          0.45,
          0.46,
          0.47,
          0.48,
          0.49,
          0.5,
          0.51,
          0.52,
          0.53,
          0.54,
          0.55,
          0.56,
          0.57,
          0.58,
          0.59,
          0.6,
          0.61,
          0.62,
          0.63,
          0.64,
          0.65,
          0.66,
          0.67,
          0.68,
          0.69,
          0.7,
          0.71,
          0.72,
          0.73,
          0.74,
          0.75,
          0.76,
          0.77,
          0.78,
          0.79,
          0.8,
          0.81,
          0.82,
          0.83,
          0.84,
          0.85,
          0.86,
          0.87,
          0.88,
          0.89,
          0.9,
          0.91,
          0.92,
          0.93,
          0.94,
          0.95,
          0.96,
          0.97,
          0.98,
          0.99,
          1
         ],
         "y": [
          1,
          1.262821032702929,
          1.3665706008025968,
          1.412166967009956,
          1.4495990896767788,
          1.4730400503634207,
          1.4818407533488676,
          1.5059403299650915,
          1.5186364165707795,
          1.5210766314470647,
          1.5305136490043005,
          1.5349104640819147,
          1.5515366961724508,
          1.5387279118973527,
          1.5472741289947525,
          1.5473226267623406,
          1.5649917681709768,
          1.553503563341716,
          1.5624090161522517,
          1.567926290805287,
          1.5764721731995488,
          1.5509799783237737,
          1.5898310546525833,
          1.5911166859814054,
          1.5618751374925086,
          1.560296006323795,
          1.602916901144078,
          1.5659413530740232,
          1.5702063672434026,
          1.5722097961115586,
          1.5762620668513425,
          1.5938354790768257,
          1.6005182117983079,
          1.5965577273365612,
          1.605429992627629,
          1.6032543689904755,
          1.5953203268905556,
          1.5106689586655233,
          1.6242179912042962,
          1.600411281400315,
          1.6286344467087535,
          1.6051514106084641,
          1.5129781613777002,
          1.6367901975452697,
          1.6352284418476524,
          1.4995504727221451,
          1.6459808949807544,
          1.6591652002200257,
          1.5007839350821528,
          1.6504428742510338,
          1.5156449362049496,
          1.6482788861076656,
          1.6845176835471762,
          1.4931137488323831,
          1.6406387387686765,
          1.4975407786949093,
          1.6526450779239725,
          1.483640010801504,
          1.668293662737112,
          1.4696327611444873,
          1.6804764328781125,
          1.5405771078739403,
          1.6606076809543533,
          1.5025627286029168,
          1.6714384211184599,
          1.4796947279208605,
          1.6917536805303421,
          1.5301617688939948,
          1.6686181546514263,
          1.5358526785828595,
          1.738125352803766,
          1.5296313340207335,
          1.583012079878126,
          1.6610155726270621,
          1.5346314387248188,
          1.6411486038586445,
          1.5437111670673618,
          1.6400401916716003,
          1.520554640842203,
          1.5193688798600058,
          1.6265433953397337,
          1.507544534821141,
          1.6370744657442895,
          1.5261966693657487,
          1.4396454992710654,
          1.6549541022755752,
          1.4768574981788585,
          1.6342817621130723,
          1.4893883575619082,
          1.4710113235118878,
          1.6658344803613294,
          1.4739271149466087,
          1.6354816109692965,
          1.4149870844603643,
          1.583012079878126,
          1.6352646528579053,
          1.4794876277373523,
          1.6149658781773955,
          1.4878912970769376,
          1.446802582896803,
          2,
          1.4580274166615719,
          1.4682325733893464,
          1.648528870906944,
          1.5233885340684004,
          1.617894168378844,
          1.476429391175714,
          1.4426715564876278,
          1.7123590898036207,
          1.464387666134059,
          1.6373401474734768,
          1.464387666134059,
          1.513899473096266,
          1.6476193254289637,
          1.5030417644881817,
          1.652256859912323,
          1.445598380632214,
          1.5262580798525531,
          1.6457397598344203,
          1.5467389071515263,
          1.6913490030409792,
          1.5290977281463367,
          1.5563968154034855,
          1.6557634614132777,
          1.5315031748629817,
          1.661286468552893,
          1.538674510675868,
          1.7178207171302158,
          1.5070129969055706,
          1.5258273165392138,
          1.6615295739388907,
          1.5280810187528053,
          1.707449054124602,
          1.542797752329689,
          1.7142020621890675,
          1.488267922694987,
          1.765248831692095,
          1.533393258051753,
          1.7055008307434965,
          1.5447651365354065,
          1.7449271097684953,
          1.508373465666267,
          1.7260509804251212,
          1.5233885340684004,
          1.7457551367309965,
          1.5537745963608374,
          1.696471892170596,
          1.5267478486481383,
          1.6913586595714207,
          1.7236020709201774,
          1.5634268166788319,
          1.691849762497692,
          1.5233251165601915,
          1.6701619520242843,
          1.6508694468146239,
          1.5535487927012088,
          1.67251819403226,
          1.6883539096225504,
          1.54962006547761,
          1.682918826147032,
          1.6632659474235636,
          1.6721716914844924,
          1.681258373638724,
          1.540000049425933,
          1.7204311176338813,
          1.649906775708285,
          1.6514753214574822,
          1.6573463570252853,
          1.647965417342828,
          1.6434902070295436,
          1.6492282226619697,
          1.6377459963881738,
          1.638569645411999,
          1.6429105399275263,
          1.6722554532673461,
          1.6340618643076268,
          1.6399371793819797,
          1.667338327527342,
          1.6709906976629956,
          1.6214719488770386,
          1.6589572153359058,
          1.6539466572808124,
          1.6414869030661359,
          1.6439019622529696,
          1.6562656093046328,
          1.6322080045439358,
          1.6464292783946284,
          1.6404168895372493,
          1.6438033140877812,
          1.6338230287616855,
          1.638848311438295,
          1.6285954429331495,
          1.627397565868062,
          1.624871166872142,
          1.6124539387807655,
          1.6081935310062931,
          1.5922376145536847,
          1.573376135470543,
          1.5372747451900737,
          1.4632757607505356,
          1.240220731785253
         ]
        }
       ],
       "layout": {
        "annotations": [
         {
          "showarrow": false,
          "text": "Sports",
          "x": -0.1,
          "y": 4,
          "yshift": 1
         },
         {
          "showarrow": false,
          "text": "Newspaper",
          "x": -0.1,
          "y": 3,
          "yshift": 1
         },
         {
          "showarrow": false,
          "text": "Celebrity magazine",
          "x": -0.1,
          "y": 2,
          "yshift": 1
         },
         {
          "showarrow": false,
          "text": "Other",
          "x": -0.1,
          "y": 1,
          "yshift": 1
         }
        ],
        "showlegend": false,
        "template": {
         "data": {
          "bar": [
           {
            "error_x": {
             "color": "#2a3f5f"
            },
            "error_y": {
             "color": "#2a3f5f"
            },
            "marker": {
             "line": {
              "color": "#E5ECF6",
              "width": 0.5
             },
             "pattern": {
              "fillmode": "overlay",
              "size": 10,
              "solidity": 0.2
             }
            },
            "type": "bar"
           }
          ],
          "barpolar": [
           {
            "marker": {
             "line": {
              "color": "#E5ECF6",
              "width": 0.5
             },
             "pattern": {
              "fillmode": "overlay",
              "size": 10,
              "solidity": 0.2
             }
            },
            "type": "barpolar"
           }
          ],
          "carpet": [
           {
            "aaxis": {
             "endlinecolor": "#2a3f5f",
             "gridcolor": "white",
             "linecolor": "white",
             "minorgridcolor": "white",
             "startlinecolor": "#2a3f5f"
            },
            "baxis": {
             "endlinecolor": "#2a3f5f",
             "gridcolor": "white",
             "linecolor": "white",
             "minorgridcolor": "white",
             "startlinecolor": "#2a3f5f"
            },
            "type": "carpet"
           }
          ],
          "choropleth": [
           {
            "colorbar": {
             "outlinewidth": 0,
             "ticks": ""
            },
            "type": "choropleth"
           }
          ],
          "contour": [
           {
            "colorbar": {
             "outlinewidth": 0,
             "ticks": ""
            },
            "colorscale": [
             [
              0,
              "#0d0887"
             ],
             [
              0.1111111111111111,
              "#46039f"
             ],
             [
              0.2222222222222222,
              "#7201a8"
             ],
             [
              0.3333333333333333,
              "#9c179e"
             ],
             [
              0.4444444444444444,
              "#bd3786"
             ],
             [
              0.5555555555555556,
              "#d8576b"
             ],
             [
              0.6666666666666666,
              "#ed7953"
             ],
             [
              0.7777777777777778,
              "#fb9f3a"
             ],
             [
              0.8888888888888888,
              "#fdca26"
             ],
             [
              1,
              "#f0f921"
             ]
            ],
            "type": "contour"
           }
          ],
          "contourcarpet": [
           {
            "colorbar": {
             "outlinewidth": 0,
             "ticks": ""
            },
            "type": "contourcarpet"
           }
          ],
          "heatmap": [
           {
            "colorbar": {
             "outlinewidth": 0,
             "ticks": ""
            },
            "colorscale": [
             [
              0,
              "#0d0887"
             ],
             [
              0.1111111111111111,
              "#46039f"
             ],
             [
              0.2222222222222222,
              "#7201a8"
             ],
             [
              0.3333333333333333,
              "#9c179e"
             ],
             [
              0.4444444444444444,
              "#bd3786"
             ],
             [
              0.5555555555555556,
              "#d8576b"
             ],
             [
              0.6666666666666666,
              "#ed7953"
             ],
             [
              0.7777777777777778,
              "#fb9f3a"
             ],
             [
              0.8888888888888888,
              "#fdca26"
             ],
             [
              1,
              "#f0f921"
             ]
            ],
            "type": "heatmap"
           }
          ],
          "heatmapgl": [
           {
            "colorbar": {
             "outlinewidth": 0,
             "ticks": ""
            },
            "colorscale": [
             [
              0,
              "#0d0887"
             ],
             [
              0.1111111111111111,
              "#46039f"
             ],
             [
              0.2222222222222222,
              "#7201a8"
             ],
             [
              0.3333333333333333,
              "#9c179e"
             ],
             [
              0.4444444444444444,
              "#bd3786"
             ],
             [
              0.5555555555555556,
              "#d8576b"
             ],
             [
              0.6666666666666666,
              "#ed7953"
             ],
             [
              0.7777777777777778,
              "#fb9f3a"
             ],
             [
              0.8888888888888888,
              "#fdca26"
             ],
             [
              1,
              "#f0f921"
             ]
            ],
            "type": "heatmapgl"
           }
          ],
          "histogram": [
           {
            "marker": {
             "pattern": {
              "fillmode": "overlay",
              "size": 10,
              "solidity": 0.2
             }
            },
            "type": "histogram"
           }
          ],
          "histogram2d": [
           {
            "colorbar": {
             "outlinewidth": 0,
             "ticks": ""
            },
            "colorscale": [
             [
              0,
              "#0d0887"
             ],
             [
              0.1111111111111111,
              "#46039f"
             ],
             [
              0.2222222222222222,
              "#7201a8"
             ],
             [
              0.3333333333333333,
              "#9c179e"
             ],
             [
              0.4444444444444444,
              "#bd3786"
             ],
             [
              0.5555555555555556,
              "#d8576b"
             ],
             [
              0.6666666666666666,
              "#ed7953"
             ],
             [
              0.7777777777777778,
              "#fb9f3a"
             ],
             [
              0.8888888888888888,
              "#fdca26"
             ],
             [
              1,
              "#f0f921"
             ]
            ],
            "type": "histogram2d"
           }
          ],
          "histogram2dcontour": [
           {
            "colorbar": {
             "outlinewidth": 0,
             "ticks": ""
            },
            "colorscale": [
             [
              0,
              "#0d0887"
             ],
             [
              0.1111111111111111,
              "#46039f"
             ],
             [
              0.2222222222222222,
              "#7201a8"
             ],
             [
              0.3333333333333333,
              "#9c179e"
             ],
             [
              0.4444444444444444,
              "#bd3786"
             ],
             [
              0.5555555555555556,
              "#d8576b"
             ],
             [
              0.6666666666666666,
              "#ed7953"
             ],
             [
              0.7777777777777778,
              "#fb9f3a"
             ],
             [
              0.8888888888888888,
              "#fdca26"
             ],
             [
              1,
              "#f0f921"
             ]
            ],
            "type": "histogram2dcontour"
           }
          ],
          "mesh3d": [
           {
            "colorbar": {
             "outlinewidth": 0,
             "ticks": ""
            },
            "type": "mesh3d"
           }
          ],
          "parcoords": [
           {
            "line": {
             "colorbar": {
              "outlinewidth": 0,
              "ticks": ""
             }
            },
            "type": "parcoords"
           }
          ],
          "pie": [
           {
            "automargin": true,
            "type": "pie"
           }
          ],
          "scatter": [
           {
            "marker": {
             "colorbar": {
              "outlinewidth": 0,
              "ticks": ""
             }
            },
            "type": "scatter"
           }
          ],
          "scatter3d": [
           {
            "line": {
             "colorbar": {
              "outlinewidth": 0,
              "ticks": ""
             }
            },
            "marker": {
             "colorbar": {
              "outlinewidth": 0,
              "ticks": ""
             }
            },
            "type": "scatter3d"
           }
          ],
          "scattercarpet": [
           {
            "marker": {
             "colorbar": {
              "outlinewidth": 0,
              "ticks": ""
             }
            },
            "type": "scattercarpet"
           }
          ],
          "scattergeo": [
           {
            "marker": {
             "colorbar": {
              "outlinewidth": 0,
              "ticks": ""
             }
            },
            "type": "scattergeo"
           }
          ],
          "scattergl": [
           {
            "marker": {
             "colorbar": {
              "outlinewidth": 0,
              "ticks": ""
             }
            },
            "type": "scattergl"
           }
          ],
          "scattermapbox": [
           {
            "marker": {
             "colorbar": {
              "outlinewidth": 0,
              "ticks": ""
             }
            },
            "type": "scattermapbox"
           }
          ],
          "scatterpolar": [
           {
            "marker": {
             "colorbar": {
              "outlinewidth": 0,
              "ticks": ""
             }
            },
            "type": "scatterpolar"
           }
          ],
          "scatterpolargl": [
           {
            "marker": {
             "colorbar": {
              "outlinewidth": 0,
              "ticks": ""
             }
            },
            "type": "scatterpolargl"
           }
          ],
          "scatterternary": [
           {
            "marker": {
             "colorbar": {
              "outlinewidth": 0,
              "ticks": ""
             }
            },
            "type": "scatterternary"
           }
          ],
          "surface": [
           {
            "colorbar": {
             "outlinewidth": 0,
             "ticks": ""
            },
            "colorscale": [
             [
              0,
              "#0d0887"
             ],
             [
              0.1111111111111111,
              "#46039f"
             ],
             [
              0.2222222222222222,
              "#7201a8"
             ],
             [
              0.3333333333333333,
              "#9c179e"
             ],
             [
              0.4444444444444444,
              "#bd3786"
             ],
             [
              0.5555555555555556,
              "#d8576b"
             ],
             [
              0.6666666666666666,
              "#ed7953"
             ],
             [
              0.7777777777777778,
              "#fb9f3a"
             ],
             [
              0.8888888888888888,
              "#fdca26"
             ],
             [
              1,
              "#f0f921"
             ]
            ],
            "type": "surface"
           }
          ],
          "table": [
           {
            "cells": {
             "fill": {
              "color": "#EBF0F8"
             },
             "line": {
              "color": "white"
             }
            },
            "header": {
             "fill": {
              "color": "#C8D4E3"
             },
             "line": {
              "color": "white"
             }
            },
            "type": "table"
           }
          ]
         },
         "layout": {
          "annotationdefaults": {
           "arrowcolor": "#2a3f5f",
           "arrowhead": 0,
           "arrowwidth": 1
          },
          "autotypenumbers": "strict",
          "coloraxis": {
           "colorbar": {
            "outlinewidth": 0,
            "ticks": ""
           }
          },
          "colorscale": {
           "diverging": [
            [
             0,
             "#8e0152"
            ],
            [
             0.1,
             "#c51b7d"
            ],
            [
             0.2,
             "#de77ae"
            ],
            [
             0.3,
             "#f1b6da"
            ],
            [
             0.4,
             "#fde0ef"
            ],
            [
             0.5,
             "#f7f7f7"
            ],
            [
             0.6,
             "#e6f5d0"
            ],
            [
             0.7,
             "#b8e186"
            ],
            [
             0.8,
             "#7fbc41"
            ],
            [
             0.9,
             "#4d9221"
            ],
            [
             1,
             "#276419"
            ]
           ],
           "sequential": [
            [
             0,
             "#0d0887"
            ],
            [
             0.1111111111111111,
             "#46039f"
            ],
            [
             0.2222222222222222,
             "#7201a8"
            ],
            [
             0.3333333333333333,
             "#9c179e"
            ],
            [
             0.4444444444444444,
             "#bd3786"
            ],
            [
             0.5555555555555556,
             "#d8576b"
            ],
            [
             0.6666666666666666,
             "#ed7953"
            ],
            [
             0.7777777777777778,
             "#fb9f3a"
            ],
            [
             0.8888888888888888,
             "#fdca26"
            ],
            [
             1,
             "#f0f921"
            ]
           ],
           "sequentialminus": [
            [
             0,
             "#0d0887"
            ],
            [
             0.1111111111111111,
             "#46039f"
            ],
            [
             0.2222222222222222,
             "#7201a8"
            ],
            [
             0.3333333333333333,
             "#9c179e"
            ],
            [
             0.4444444444444444,
             "#bd3786"
            ],
            [
             0.5555555555555556,
             "#d8576b"
            ],
            [
             0.6666666666666666,
             "#ed7953"
            ],
            [
             0.7777777777777778,
             "#fb9f3a"
            ],
            [
             0.8888888888888888,
             "#fdca26"
            ],
            [
             1,
             "#f0f921"
            ]
           ]
          },
          "colorway": [
           "#636efa",
           "#EF553B",
           "#00cc96",
           "#ab63fa",
           "#FFA15A",
           "#19d3f3",
           "#FF6692",
           "#B6E880",
           "#FF97FF",
           "#FECB52"
          ],
          "font": {
           "color": "#2a3f5f"
          },
          "geo": {
           "bgcolor": "white",
           "lakecolor": "white",
           "landcolor": "#E5ECF6",
           "showlakes": true,
           "showland": true,
           "subunitcolor": "white"
          },
          "hoverlabel": {
           "align": "left"
          },
          "hovermode": "closest",
          "mapbox": {
           "style": "light"
          },
          "paper_bgcolor": "white",
          "plot_bgcolor": "#E5ECF6",
          "polar": {
           "angularaxis": {
            "gridcolor": "white",
            "linecolor": "white",
            "ticks": ""
           },
           "bgcolor": "#E5ECF6",
           "radialaxis": {
            "gridcolor": "white",
            "linecolor": "white",
            "ticks": ""
           }
          },
          "scene": {
           "xaxis": {
            "backgroundcolor": "#E5ECF6",
            "gridcolor": "white",
            "gridwidth": 2,
            "linecolor": "white",
            "showbackground": true,
            "ticks": "",
            "zerolinecolor": "white"
           },
           "yaxis": {
            "backgroundcolor": "#E5ECF6",
            "gridcolor": "white",
            "gridwidth": 2,
            "linecolor": "white",
            "showbackground": true,
            "ticks": "",
            "zerolinecolor": "white"
           },
           "zaxis": {
            "backgroundcolor": "#E5ECF6",
            "gridcolor": "white",
            "gridwidth": 2,
            "linecolor": "white",
            "showbackground": true,
            "ticks": "",
            "zerolinecolor": "white"
           }
          },
          "shapedefaults": {
           "line": {
            "color": "#2a3f5f"
           }
          },
          "ternary": {
           "aaxis": {
            "gridcolor": "white",
            "linecolor": "white",
            "ticks": ""
           },
           "baxis": {
            "gridcolor": "white",
            "linecolor": "white",
            "ticks": ""
           },
           "bgcolor": "#E5ECF6",
           "caxis": {
            "gridcolor": "white",
            "linecolor": "white",
            "ticks": ""
           }
          },
          "title": {
           "x": 0.05
          },
          "xaxis": {
           "automargin": true,
           "gridcolor": "white",
           "linecolor": "white",
           "ticks": "",
           "title": {
            "standoff": 15
           },
           "zerolinecolor": "white",
           "zerolinewidth": 2
          },
          "yaxis": {
           "automargin": true,
           "gridcolor": "white",
           "linecolor": "white",
           "ticks": "",
           "title": {
            "standoff": 15
           },
           "zerolinecolor": "white",
           "zerolinewidth": 2
          }
         }
        },
        "title": {
         "text": "Distribution of compound score"
        },
        "xaxis": {
         "title": {
          "text": "Compound score"
         }
        },
        "yaxis": {
         "showticklabels": false
        }
       }
      }
     },
     "metadata": {},
     "output_type": "display_data"
    }
   ],
   "source": [
    "import plotly.graph_objects as go\n",
    "fig = go.Figure()\n",
    "for index, media in enumerate(categories):\n",
    "    \n",
    "    fig.add_trace(go.Scatter(\n",
    "                            x=[-1, 1], y=np.full(5, len(categories)-index),\n",
    "                            mode='lines',\n",
    "                            line_color='white'))\n",
    "    fig.add_trace(go.Scatter(\n",
    "                            x=array_dict_2[f'x_{media}'],\n",
    "                            y=array_dict_2[f'y_{media}']+ (len(categories)-index) ,\n",
    "                            fill='tonexty',\n",
    "                            name=f'{media}'))\n",
    "\n",
    "\n",
    "    fig.add_annotation(\n",
    "                        x=-0.1,\n",
    "                        y=len(categories)-index,\n",
    "                        text=f'{media}',\n",
    "                        showarrow=False,\n",
    "                        yshift=1)\n",
    "\n",
    "# here you can modify the figure and the legend titles\n",
    "fig.update_layout(\n",
    "                title='Distribution of compound score',\n",
    "                showlegend=False,\n",
    "                xaxis=dict(title='Compound score'),\n",
    "                yaxis=dict(showticklabels=False) # that way you hide the y axis ticks labels\n",
    "                )\n",
    "\n",
    "fig.show()\n",
    "fig.write_html(\"images/polarity_distribution_categories.html\")"
   ]
  },
  {
   "cell_type": "code",
   "execution_count": 187,
   "metadata": {},
   "outputs": [],
   "source": [
    "chosen_news = ['nytimes', 'espn', 'womansday', 'foxnews', 'cnn', 'mtv', 'wsj']\n",
    "\n",
    "df_news_compound = df_rounded.copy()\n",
    "df_news_compound['compound'] = df_news_compound['compound'].apply(lambda x: round(x, 1))\n",
    "df_news_compound = df_news_compound.groupby(['media_outlet', 'compound']).agg({'compound': 'count'}).rename(columns={'compound': 'count'}).reset_index()\n",
    "\n",
    "\n",
    "array_dict_3 = {}\n",
    "for outlet in chosen_news:\n",
    "    array_dict_3[f'x_{outlet}'] = df_news_compound[df_news_compound['media_outlet']==outlet]['compound'] # storing the blob_polar values for each category\n",
    "    array_dict_3[f'y_{outlet}'] = np.log(df_news_compound[df_news_compound['media_outlet']==outlet]['count']) # # storing the blob_polar count for each value\n",
    "    array_dict_3[f'y_{outlet}'] = (array_dict_3[f'y_{outlet}'] - array_dict_3[f'y_{outlet}'].min()) \\\n",
    "                                / (array_dict_3[f'y_{outlet}'].max() - array_dict_3[f'y_{outlet}'].min())"
   ]
  },
  {
   "cell_type": "code",
   "execution_count": 188,
   "metadata": {},
   "outputs": [
    {
     "data": {
      "application/vnd.plotly.v1+json": {
       "config": {
        "plotlyServerURL": "https://plot.ly"
       },
       "data": [
        {
         "line": {
          "color": "white"
         },
         "mode": "lines",
         "type": "scatter",
         "x": [
          -1,
          1
         ],
         "y": [
          7,
          7,
          7,
          7,
          7
         ]
        },
        {
         "fill": "tonexty",
         "name": "nytimes",
         "type": "scatter",
         "x": [
          -1,
          -0.9,
          -0.8,
          -0.7,
          -0.6,
          -0.5,
          -0.4,
          -0.3,
          -0.2,
          -0.1,
          0,
          0.1,
          0.2,
          0.3,
          0.4,
          0.5,
          0.6,
          0.7,
          0.8,
          0.9,
          1
         ],
         "y": [
          7,
          7.414583096636362,
          7.5411015311307095,
          7.5830593990836626,
          7.606643884869131,
          7.655896727964405,
          7.652791471861687,
          7.683738022332981,
          7.589412044872024,
          7.620923817638288,
          8,
          7.639025132114885,
          7.629559871205262,
          7.686438410224892,
          7.777692253084172,
          7.709350545689221,
          7.712229238680584,
          7.673020064659383,
          7.6585542754519915,
          7.558366122782695,
          7.179417373858413
         ]
        },
        {
         "line": {
          "color": "white"
         },
         "mode": "lines",
         "type": "scatter",
         "x": [
          -1,
          1
         ],
         "y": [
          6,
          6,
          6,
          6,
          6
         ]
        },
        {
         "fill": "tonexty",
         "name": "espn",
         "type": "scatter",
         "x": [
          -1,
          -0.9,
          -0.8,
          -0.7,
          -0.6,
          -0.5,
          -0.4,
          -0.3,
          -0.2,
          -0.1,
          0,
          0.1,
          0.2,
          0.3,
          0.4,
          0.5,
          0.6,
          0.7,
          0.8,
          0.9,
          1
         ],
         "y": [
          6,
          6.407718216666526,
          6.530085722830475,
          6.579388034263886,
          6.602195573360775,
          6.667117479680985,
          6.676108618532324,
          6.711340596766503,
          6.642066799098099,
          6.69359239034293,
          7,
          6.70877380121363,
          6.730417991439842,
          6.779860255186989,
          6.847485827528612,
          6.8022714932334445,
          6.837081138878801,
          6.826341604432968,
          6.859577844122693,
          6.8487526397177,
          6.621237227915143
         ]
        },
        {
         "line": {
          "color": "white"
         },
         "mode": "lines",
         "type": "scatter",
         "x": [
          -1,
          1
         ],
         "y": [
          5,
          5,
          5,
          5,
          5
         ]
        },
        {
         "fill": "tonexty",
         "name": "womansday",
         "type": "scatter",
         "x": [
          -1,
          -0.9,
          -0.8,
          -0.7,
          -0.6,
          -0.5,
          -0.4,
          -0.3,
          -0.2,
          -0.1,
          0,
          0.1,
          0.2,
          0.3,
          0.4,
          0.5,
          0.6,
          0.7,
          0.8,
          0.9,
          1
         ],
         "y": [
          5,
          5.487360521724638,
          5.568514435196335,
          5.595033729941317,
          5.613947287160306,
          5.655801343533237,
          5.6827363483566,
          5.679433885371427,
          5.618837479470417,
          5.669109796519941,
          6,
          5.65656958449426,
          5.674008296111464,
          5.720029897199632,
          5.806177317642864,
          5.763344426987807,
          5.815785132080523,
          5.799553392121851,
          5.833990864323297,
          5.820386824117346,
          5.557704830376777
         ]
        },
        {
         "line": {
          "color": "white"
         },
         "mode": "lines",
         "type": "scatter",
         "x": [
          -1,
          1
         ],
         "y": [
          4,
          4,
          4,
          4,
          4
         ]
        },
        {
         "fill": "tonexty",
         "name": "foxnews",
         "type": "scatter",
         "x": [
          -1,
          -0.9,
          -0.8,
          -0.7,
          -0.6,
          -0.5,
          -0.4,
          -0.3,
          -0.2,
          -0.1,
          0,
          0.1,
          0.2,
          0.3,
          0.4,
          0.5,
          0.6,
          0.7,
          0.8,
          0.9,
          1
         ],
         "y": [
          4,
          4.459068119475967,
          4.559096413272443,
          4.576264328780584,
          4.587074986124207,
          4.641000894162119,
          4.614674716782463,
          4.640271978229249,
          4.527642276824375,
          4.566007749161484,
          5,
          4.58715367303022,
          4.562388900983119,
          4.632606503128788,
          4.736313172578897,
          4.6655210292857126,
          4.6724584858534595,
          4.652986196051898,
          4.667744062348889,
          4.606384242670649,
          4.2224167256456075
         ]
        },
        {
         "line": {
          "color": "white"
         },
         "mode": "lines",
         "type": "scatter",
         "x": [
          -1,
          1
         ],
         "y": [
          3,
          3,
          3,
          3,
          3
         ]
        },
        {
         "fill": "tonexty",
         "name": "cnn",
         "type": "scatter",
         "x": [
          -1,
          -0.9,
          -0.8,
          -0.7,
          -0.6,
          -0.5,
          -0.4,
          -0.3,
          -0.2,
          -0.1,
          0,
          0.1,
          0.2,
          0.3,
          0.4,
          0.5,
          0.6,
          0.7,
          0.8,
          0.9,
          1
         ],
         "y": [
          3,
          3.4388112634866648,
          3.5434569208252964,
          3.5663084445147493,
          3.5811227477198178,
          3.630198398800954,
          3.6173584559076684,
          3.649921557201087,
          3.5402274436384995,
          3.577551418330671,
          4,
          3.6007142101031517,
          3.5906738480909905,
          3.6534129430476594,
          3.7481291822833436,
          3.6818240777210804,
          3.681087413047128,
          3.6662627162936565,
          3.673220631555491,
          3.614796358023674,
          3.2721127657189637
         ]
        },
        {
         "line": {
          "color": "white"
         },
         "mode": "lines",
         "type": "scatter",
         "x": [
          -1,
          1
         ],
         "y": [
          2,
          2,
          2,
          2,
          2
         ]
        },
        {
         "fill": "tonexty",
         "name": "mtv",
         "type": "scatter",
         "x": [
          -1,
          -0.9,
          -0.8,
          -0.7,
          -0.6,
          -0.5,
          -0.4,
          -0.3,
          -0.2,
          -0.1,
          0,
          0.1,
          0.2,
          0.3,
          0.4,
          0.5,
          0.6,
          0.7,
          0.8,
          0.9,
          1
         ],
         "y": [
          2,
          2.3940638303796025,
          2.505594160947444,
          2.5365826394802324,
          2.561790838994847,
          2.6017524493546635,
          2.5907898170974537,
          2.639116190668917,
          2.540852977382289,
          2.5742918030116178,
          3,
          2.6116925798195094,
          2.6178696780838013,
          2.679585692650586,
          2.7878528257973287,
          2.734588205433049,
          2.7710401313786592,
          2.765094865504305,
          2.8031958425101013,
          2.7959310999860714,
          2.4952876007880134
         ]
        },
        {
         "line": {
          "color": "white"
         },
         "mode": "lines",
         "type": "scatter",
         "x": [
          -1,
          1
         ],
         "y": [
          1,
          1,
          1,
          1,
          1
         ]
        },
        {
         "fill": "tonexty",
         "name": "wsj",
         "type": "scatter",
         "x": [
          -1,
          -0.9,
          -0.8,
          -0.7,
          -0.6,
          -0.5,
          -0.4,
          -0.3,
          -0.2,
          -0.1,
          0,
          0.1,
          0.2,
          0.3,
          0.4,
          0.5,
          0.6,
          0.7,
          0.8,
          0.9,
          1
         ],
         "y": [
          1,
          1.414013975955877,
          1.52407301537463,
          1.5697951041388305,
          1.5985042182461848,
          1.6524051626657976,
          1.6553578025204234,
          1.6928525103144092,
          1.596340503012461,
          1.6379381128692176,
          2,
          1.6555100664344846,
          1.655935617029361,
          1.705968423084144,
          1.796616082677494,
          1.7351242264035478,
          1.740213174360505,
          1.7112536597324601,
          1.7108911689545492,
          1.631043369898075,
          1.2847108031718426
         ]
        }
       ],
       "layout": {
        "annotations": [
         {
          "showarrow": false,
          "text": "nytimes",
          "x": -0.1,
          "y": 7,
          "yshift": 1
         },
         {
          "showarrow": false,
          "text": "espn",
          "x": -0.1,
          "y": 6,
          "yshift": 1
         },
         {
          "showarrow": false,
          "text": "womansday",
          "x": -0.1,
          "y": 5,
          "yshift": 1
         },
         {
          "showarrow": false,
          "text": "foxnews",
          "x": -0.1,
          "y": 4,
          "yshift": 1
         },
         {
          "showarrow": false,
          "text": "cnn",
          "x": -0.1,
          "y": 3,
          "yshift": 1
         },
         {
          "showarrow": false,
          "text": "mtv",
          "x": -0.1,
          "y": 2,
          "yshift": 1
         },
         {
          "showarrow": false,
          "text": "wsj",
          "x": -0.1,
          "y": 1,
          "yshift": 1
         }
        ],
        "showlegend": false,
        "template": {
         "data": {
          "bar": [
           {
            "error_x": {
             "color": "#2a3f5f"
            },
            "error_y": {
             "color": "#2a3f5f"
            },
            "marker": {
             "line": {
              "color": "#E5ECF6",
              "width": 0.5
             },
             "pattern": {
              "fillmode": "overlay",
              "size": 10,
              "solidity": 0.2
             }
            },
            "type": "bar"
           }
          ],
          "barpolar": [
           {
            "marker": {
             "line": {
              "color": "#E5ECF6",
              "width": 0.5
             },
             "pattern": {
              "fillmode": "overlay",
              "size": 10,
              "solidity": 0.2
             }
            },
            "type": "barpolar"
           }
          ],
          "carpet": [
           {
            "aaxis": {
             "endlinecolor": "#2a3f5f",
             "gridcolor": "white",
             "linecolor": "white",
             "minorgridcolor": "white",
             "startlinecolor": "#2a3f5f"
            },
            "baxis": {
             "endlinecolor": "#2a3f5f",
             "gridcolor": "white",
             "linecolor": "white",
             "minorgridcolor": "white",
             "startlinecolor": "#2a3f5f"
            },
            "type": "carpet"
           }
          ],
          "choropleth": [
           {
            "colorbar": {
             "outlinewidth": 0,
             "ticks": ""
            },
            "type": "choropleth"
           }
          ],
          "contour": [
           {
            "colorbar": {
             "outlinewidth": 0,
             "ticks": ""
            },
            "colorscale": [
             [
              0,
              "#0d0887"
             ],
             [
              0.1111111111111111,
              "#46039f"
             ],
             [
              0.2222222222222222,
              "#7201a8"
             ],
             [
              0.3333333333333333,
              "#9c179e"
             ],
             [
              0.4444444444444444,
              "#bd3786"
             ],
             [
              0.5555555555555556,
              "#d8576b"
             ],
             [
              0.6666666666666666,
              "#ed7953"
             ],
             [
              0.7777777777777778,
              "#fb9f3a"
             ],
             [
              0.8888888888888888,
              "#fdca26"
             ],
             [
              1,
              "#f0f921"
             ]
            ],
            "type": "contour"
           }
          ],
          "contourcarpet": [
           {
            "colorbar": {
             "outlinewidth": 0,
             "ticks": ""
            },
            "type": "contourcarpet"
           }
          ],
          "heatmap": [
           {
            "colorbar": {
             "outlinewidth": 0,
             "ticks": ""
            },
            "colorscale": [
             [
              0,
              "#0d0887"
             ],
             [
              0.1111111111111111,
              "#46039f"
             ],
             [
              0.2222222222222222,
              "#7201a8"
             ],
             [
              0.3333333333333333,
              "#9c179e"
             ],
             [
              0.4444444444444444,
              "#bd3786"
             ],
             [
              0.5555555555555556,
              "#d8576b"
             ],
             [
              0.6666666666666666,
              "#ed7953"
             ],
             [
              0.7777777777777778,
              "#fb9f3a"
             ],
             [
              0.8888888888888888,
              "#fdca26"
             ],
             [
              1,
              "#f0f921"
             ]
            ],
            "type": "heatmap"
           }
          ],
          "heatmapgl": [
           {
            "colorbar": {
             "outlinewidth": 0,
             "ticks": ""
            },
            "colorscale": [
             [
              0,
              "#0d0887"
             ],
             [
              0.1111111111111111,
              "#46039f"
             ],
             [
              0.2222222222222222,
              "#7201a8"
             ],
             [
              0.3333333333333333,
              "#9c179e"
             ],
             [
              0.4444444444444444,
              "#bd3786"
             ],
             [
              0.5555555555555556,
              "#d8576b"
             ],
             [
              0.6666666666666666,
              "#ed7953"
             ],
             [
              0.7777777777777778,
              "#fb9f3a"
             ],
             [
              0.8888888888888888,
              "#fdca26"
             ],
             [
              1,
              "#f0f921"
             ]
            ],
            "type": "heatmapgl"
           }
          ],
          "histogram": [
           {
            "marker": {
             "pattern": {
              "fillmode": "overlay",
              "size": 10,
              "solidity": 0.2
             }
            },
            "type": "histogram"
           }
          ],
          "histogram2d": [
           {
            "colorbar": {
             "outlinewidth": 0,
             "ticks": ""
            },
            "colorscale": [
             [
              0,
              "#0d0887"
             ],
             [
              0.1111111111111111,
              "#46039f"
             ],
             [
              0.2222222222222222,
              "#7201a8"
             ],
             [
              0.3333333333333333,
              "#9c179e"
             ],
             [
              0.4444444444444444,
              "#bd3786"
             ],
             [
              0.5555555555555556,
              "#d8576b"
             ],
             [
              0.6666666666666666,
              "#ed7953"
             ],
             [
              0.7777777777777778,
              "#fb9f3a"
             ],
             [
              0.8888888888888888,
              "#fdca26"
             ],
             [
              1,
              "#f0f921"
             ]
            ],
            "type": "histogram2d"
           }
          ],
          "histogram2dcontour": [
           {
            "colorbar": {
             "outlinewidth": 0,
             "ticks": ""
            },
            "colorscale": [
             [
              0,
              "#0d0887"
             ],
             [
              0.1111111111111111,
              "#46039f"
             ],
             [
              0.2222222222222222,
              "#7201a8"
             ],
             [
              0.3333333333333333,
              "#9c179e"
             ],
             [
              0.4444444444444444,
              "#bd3786"
             ],
             [
              0.5555555555555556,
              "#d8576b"
             ],
             [
              0.6666666666666666,
              "#ed7953"
             ],
             [
              0.7777777777777778,
              "#fb9f3a"
             ],
             [
              0.8888888888888888,
              "#fdca26"
             ],
             [
              1,
              "#f0f921"
             ]
            ],
            "type": "histogram2dcontour"
           }
          ],
          "mesh3d": [
           {
            "colorbar": {
             "outlinewidth": 0,
             "ticks": ""
            },
            "type": "mesh3d"
           }
          ],
          "parcoords": [
           {
            "line": {
             "colorbar": {
              "outlinewidth": 0,
              "ticks": ""
             }
            },
            "type": "parcoords"
           }
          ],
          "pie": [
           {
            "automargin": true,
            "type": "pie"
           }
          ],
          "scatter": [
           {
            "marker": {
             "colorbar": {
              "outlinewidth": 0,
              "ticks": ""
             }
            },
            "type": "scatter"
           }
          ],
          "scatter3d": [
           {
            "line": {
             "colorbar": {
              "outlinewidth": 0,
              "ticks": ""
             }
            },
            "marker": {
             "colorbar": {
              "outlinewidth": 0,
              "ticks": ""
             }
            },
            "type": "scatter3d"
           }
          ],
          "scattercarpet": [
           {
            "marker": {
             "colorbar": {
              "outlinewidth": 0,
              "ticks": ""
             }
            },
            "type": "scattercarpet"
           }
          ],
          "scattergeo": [
           {
            "marker": {
             "colorbar": {
              "outlinewidth": 0,
              "ticks": ""
             }
            },
            "type": "scattergeo"
           }
          ],
          "scattergl": [
           {
            "marker": {
             "colorbar": {
              "outlinewidth": 0,
              "ticks": ""
             }
            },
            "type": "scattergl"
           }
          ],
          "scattermapbox": [
           {
            "marker": {
             "colorbar": {
              "outlinewidth": 0,
              "ticks": ""
             }
            },
            "type": "scattermapbox"
           }
          ],
          "scatterpolar": [
           {
            "marker": {
             "colorbar": {
              "outlinewidth": 0,
              "ticks": ""
             }
            },
            "type": "scatterpolar"
           }
          ],
          "scatterpolargl": [
           {
            "marker": {
             "colorbar": {
              "outlinewidth": 0,
              "ticks": ""
             }
            },
            "type": "scatterpolargl"
           }
          ],
          "scatterternary": [
           {
            "marker": {
             "colorbar": {
              "outlinewidth": 0,
              "ticks": ""
             }
            },
            "type": "scatterternary"
           }
          ],
          "surface": [
           {
            "colorbar": {
             "outlinewidth": 0,
             "ticks": ""
            },
            "colorscale": [
             [
              0,
              "#0d0887"
             ],
             [
              0.1111111111111111,
              "#46039f"
             ],
             [
              0.2222222222222222,
              "#7201a8"
             ],
             [
              0.3333333333333333,
              "#9c179e"
             ],
             [
              0.4444444444444444,
              "#bd3786"
             ],
             [
              0.5555555555555556,
              "#d8576b"
             ],
             [
              0.6666666666666666,
              "#ed7953"
             ],
             [
              0.7777777777777778,
              "#fb9f3a"
             ],
             [
              0.8888888888888888,
              "#fdca26"
             ],
             [
              1,
              "#f0f921"
             ]
            ],
            "type": "surface"
           }
          ],
          "table": [
           {
            "cells": {
             "fill": {
              "color": "#EBF0F8"
             },
             "line": {
              "color": "white"
             }
            },
            "header": {
             "fill": {
              "color": "#C8D4E3"
             },
             "line": {
              "color": "white"
             }
            },
            "type": "table"
           }
          ]
         },
         "layout": {
          "annotationdefaults": {
           "arrowcolor": "#2a3f5f",
           "arrowhead": 0,
           "arrowwidth": 1
          },
          "autotypenumbers": "strict",
          "coloraxis": {
           "colorbar": {
            "outlinewidth": 0,
            "ticks": ""
           }
          },
          "colorscale": {
           "diverging": [
            [
             0,
             "#8e0152"
            ],
            [
             0.1,
             "#c51b7d"
            ],
            [
             0.2,
             "#de77ae"
            ],
            [
             0.3,
             "#f1b6da"
            ],
            [
             0.4,
             "#fde0ef"
            ],
            [
             0.5,
             "#f7f7f7"
            ],
            [
             0.6,
             "#e6f5d0"
            ],
            [
             0.7,
             "#b8e186"
            ],
            [
             0.8,
             "#7fbc41"
            ],
            [
             0.9,
             "#4d9221"
            ],
            [
             1,
             "#276419"
            ]
           ],
           "sequential": [
            [
             0,
             "#0d0887"
            ],
            [
             0.1111111111111111,
             "#46039f"
            ],
            [
             0.2222222222222222,
             "#7201a8"
            ],
            [
             0.3333333333333333,
             "#9c179e"
            ],
            [
             0.4444444444444444,
             "#bd3786"
            ],
            [
             0.5555555555555556,
             "#d8576b"
            ],
            [
             0.6666666666666666,
             "#ed7953"
            ],
            [
             0.7777777777777778,
             "#fb9f3a"
            ],
            [
             0.8888888888888888,
             "#fdca26"
            ],
            [
             1,
             "#f0f921"
            ]
           ],
           "sequentialminus": [
            [
             0,
             "#0d0887"
            ],
            [
             0.1111111111111111,
             "#46039f"
            ],
            [
             0.2222222222222222,
             "#7201a8"
            ],
            [
             0.3333333333333333,
             "#9c179e"
            ],
            [
             0.4444444444444444,
             "#bd3786"
            ],
            [
             0.5555555555555556,
             "#d8576b"
            ],
            [
             0.6666666666666666,
             "#ed7953"
            ],
            [
             0.7777777777777778,
             "#fb9f3a"
            ],
            [
             0.8888888888888888,
             "#fdca26"
            ],
            [
             1,
             "#f0f921"
            ]
           ]
          },
          "colorway": [
           "#636efa",
           "#EF553B",
           "#00cc96",
           "#ab63fa",
           "#FFA15A",
           "#19d3f3",
           "#FF6692",
           "#B6E880",
           "#FF97FF",
           "#FECB52"
          ],
          "font": {
           "color": "#2a3f5f"
          },
          "geo": {
           "bgcolor": "white",
           "lakecolor": "white",
           "landcolor": "#E5ECF6",
           "showlakes": true,
           "showland": true,
           "subunitcolor": "white"
          },
          "hoverlabel": {
           "align": "left"
          },
          "hovermode": "closest",
          "mapbox": {
           "style": "light"
          },
          "paper_bgcolor": "white",
          "plot_bgcolor": "#E5ECF6",
          "polar": {
           "angularaxis": {
            "gridcolor": "white",
            "linecolor": "white",
            "ticks": ""
           },
           "bgcolor": "#E5ECF6",
           "radialaxis": {
            "gridcolor": "white",
            "linecolor": "white",
            "ticks": ""
           }
          },
          "scene": {
           "xaxis": {
            "backgroundcolor": "#E5ECF6",
            "gridcolor": "white",
            "gridwidth": 2,
            "linecolor": "white",
            "showbackground": true,
            "ticks": "",
            "zerolinecolor": "white"
           },
           "yaxis": {
            "backgroundcolor": "#E5ECF6",
            "gridcolor": "white",
            "gridwidth": 2,
            "linecolor": "white",
            "showbackground": true,
            "ticks": "",
            "zerolinecolor": "white"
           },
           "zaxis": {
            "backgroundcolor": "#E5ECF6",
            "gridcolor": "white",
            "gridwidth": 2,
            "linecolor": "white",
            "showbackground": true,
            "ticks": "",
            "zerolinecolor": "white"
           }
          },
          "shapedefaults": {
           "line": {
            "color": "#2a3f5f"
           }
          },
          "ternary": {
           "aaxis": {
            "gridcolor": "white",
            "linecolor": "white",
            "ticks": ""
           },
           "baxis": {
            "gridcolor": "white",
            "linecolor": "white",
            "ticks": ""
           },
           "bgcolor": "#E5ECF6",
           "caxis": {
            "gridcolor": "white",
            "linecolor": "white",
            "ticks": ""
           }
          },
          "title": {
           "x": 0.05
          },
          "xaxis": {
           "automargin": true,
           "gridcolor": "white",
           "linecolor": "white",
           "ticks": "",
           "title": {
            "standoff": 15
           },
           "zerolinecolor": "white",
           "zerolinewidth": 2
          },
          "yaxis": {
           "automargin": true,
           "gridcolor": "white",
           "linecolor": "white",
           "ticks": "",
           "title": {
            "standoff": 15
           },
           "zerolinecolor": "white",
           "zerolinewidth": 2
          }
         }
        },
        "title": {
         "text": "Distribution of compound score"
        },
        "xaxis": {
         "title": {
          "text": "Compound score"
         }
        },
        "yaxis": {
         "showticklabels": false
        }
       }
      }
     },
     "metadata": {},
     "output_type": "display_data"
    }
   ],
   "source": [
    "import plotly.graph_objects as go\n",
    "fig = go.Figure()\n",
    "for index, media in enumerate(chosen_news):\n",
    "    fig.add_trace(go.Scatter(\n",
    "                            x=[-1, 1], y=np.full(5, len(chosen_news)-index),\n",
    "                            mode='lines',\n",
    "                            line_color='white'))\n",
    "    \n",
    "    fig.add_trace(go.Scatter(\n",
    "                            x=array_dict_3[f'x_{media}'],\n",
    "                            y=array_dict_3[f'y_{media}'] + (len(chosen_news)-index) ,\n",
    "                            fill='tonexty',\n",
    "                            name=f'{media}'))\n",
    "    \n",
    "    # plotly.graph_objects' way of adding text to a figure\n",
    "    fig.add_annotation(\n",
    "                        x=-0.1,\n",
    "                        y=len(chosen_news)-index,\n",
    "                        text=f'{media}',\n",
    "                        showarrow=False,\n",
    "                        yshift=1)\n",
    "\n",
    "# here you can modify the figure and the legend titles\n",
    "fig.update_layout(\n",
    "                title='Distribution of compound score',\n",
    "                showlegend=False,\n",
    "                xaxis=dict(title='Compound score'),\n",
    "                yaxis=dict(showticklabels=False) # that way you hide the y axis ticks labels\n",
    "                )\n",
    "\n",
    "fig.show()\n",
    "fig.write_html(\"images/polarity_distribution_medias.html\")"
   ]
  },
  {
   "cell_type": "code",
   "execution_count": 189,
   "metadata": {},
   "outputs": [
    {
     "data": {
      "application/vnd.plotly.v1+json": {
       "config": {
        "plotlyServerURL": "https://plot.ly"
       },
       "data": [
        {
         "name": "nytimes",
         "type": "scatter",
         "x": [
          -1,
          -0.9,
          -0.8,
          -0.7,
          -0.6,
          -0.5,
          -0.4,
          -0.3,
          -0.2,
          -0.1,
          0,
          0.1,
          0.2,
          0.3,
          0.4,
          0.5,
          0.6,
          0.7,
          0.8,
          0.9,
          1
         ],
         "y": [
          0,
          0.4145830966363627,
          0.5411015311307094,
          0.5830593990836622,
          0.6066438848691306,
          0.6558967279644042,
          0.6527914718616871,
          0.683738022332981,
          0.5894120448720241,
          0.6209238176382884,
          1,
          0.6390251321148853,
          0.6295598712052625,
          0.6864384102248924,
          0.7776922530841724,
          0.7093505456892211,
          0.7122292386805843,
          0.6730200646593829,
          0.6585542754519914,
          0.5583661227826947,
          0.179417373858413
         ]
        },
        {
         "name": "espn",
         "type": "scatter",
         "x": [
          -1,
          -0.9,
          -0.8,
          -0.7,
          -0.6,
          -0.5,
          -0.4,
          -0.3,
          -0.2,
          -0.1,
          0,
          0.1,
          0.2,
          0.3,
          0.4,
          0.5,
          0.6,
          0.7,
          0.8,
          0.9,
          1
         ],
         "y": [
          0,
          0.4077182166665254,
          0.5300857228304753,
          0.5793880342638854,
          0.6021955733607752,
          0.667117479680985,
          0.6761086185323245,
          0.7113405967665025,
          0.6420667990980985,
          0.6935923903429302,
          1,
          0.7087738012136302,
          0.7304179914398427,
          0.7798602551869891,
          0.8474858275286118,
          0.8022714932334447,
          0.8370811388788016,
          0.8263416044329676,
          0.8595778441226931,
          0.8487526397177007,
          0.6212372279151425
         ]
        },
        {
         "name": "womansday",
         "type": "scatter",
         "x": [
          -1,
          -0.9,
          -0.8,
          -0.7,
          -0.6,
          -0.5,
          -0.4,
          -0.3,
          -0.2,
          -0.1,
          0,
          0.1,
          0.2,
          0.3,
          0.4,
          0.5,
          0.6,
          0.7,
          0.8,
          0.9,
          1
         ],
         "y": [
          0,
          0.4873605217246381,
          0.568514435196335,
          0.5950337299413171,
          0.6139472871603056,
          0.6558013435332368,
          0.6827363483565995,
          0.6794338853714276,
          0.6188374794704173,
          0.669109796519941,
          1,
          0.6565695844942602,
          0.6740082961114638,
          0.7200298971996318,
          0.8061773176428636,
          0.7633444269878066,
          0.8157851320805236,
          0.799553392121851,
          0.8339908643232978,
          0.8203868241173456,
          0.557704830376777
         ]
        },
        {
         "name": "foxnews",
         "type": "scatter",
         "x": [
          -1,
          -0.9,
          -0.8,
          -0.7,
          -0.6,
          -0.5,
          -0.4,
          -0.3,
          -0.2,
          -0.1,
          0,
          0.1,
          0.2,
          0.3,
          0.4,
          0.5,
          0.6,
          0.7,
          0.8,
          0.9,
          1
         ],
         "y": [
          0,
          0.4590681194759675,
          0.5590964132724435,
          0.5762643287805839,
          0.5870749861242066,
          0.6410008941621186,
          0.6146747167824624,
          0.6402719782292491,
          0.5276422768243749,
          0.566007749161484,
          1,
          0.5871536730302199,
          0.5623889009831188,
          0.6326065031287884,
          0.736313172578897,
          0.6655210292857123,
          0.6724584858534596,
          0.6529861960518979,
          0.6677440623488883,
          0.6063842426706492,
          0.22241672564560794
         ]
        },
        {
         "name": "cnn",
         "type": "scatter",
         "x": [
          -1,
          -0.9,
          -0.8,
          -0.7,
          -0.6,
          -0.5,
          -0.4,
          -0.3,
          -0.2,
          -0.1,
          0,
          0.1,
          0.2,
          0.3,
          0.4,
          0.5,
          0.6,
          0.7,
          0.8,
          0.9,
          1
         ],
         "y": [
          0,
          0.4388112634866649,
          0.5434569208252965,
          0.5663084445147493,
          0.5811227477198179,
          0.630198398800954,
          0.6173584559076682,
          0.6499215572010872,
          0.5402274436384995,
          0.5775514183306711,
          1,
          0.6007142101031517,
          0.5906738480909905,
          0.6534129430476594,
          0.7481291822833435,
          0.6818240777210803,
          0.6810874130471278,
          0.6662627162936564,
          0.6732206315554914,
          0.614796358023674,
          0.27211276571896376
         ]
        },
        {
         "name": "mtv",
         "type": "scatter",
         "x": [
          -1,
          -0.9,
          -0.8,
          -0.7,
          -0.6,
          -0.5,
          -0.4,
          -0.3,
          -0.2,
          -0.1,
          0,
          0.1,
          0.2,
          0.3,
          0.4,
          0.5,
          0.6,
          0.7,
          0.8,
          0.9,
          1
         ],
         "y": [
          0,
          0.39406383037960224,
          0.505594160947444,
          0.5365826394802325,
          0.5617908389948472,
          0.6017524493546637,
          0.5907898170974539,
          0.6391161906689172,
          0.540852977382289,
          0.5742918030116178,
          1,
          0.6116925798195096,
          0.6178696780838012,
          0.6795856926505863,
          0.7878528257973287,
          0.7345882054330486,
          0.7710401313786592,
          0.7650948655043048,
          0.8031958425101011,
          0.7959310999860715,
          0.4952876007880132
         ]
        },
        {
         "name": "wsj",
         "type": "scatter",
         "x": [
          -1,
          -0.9,
          -0.8,
          -0.7,
          -0.6,
          -0.5,
          -0.4,
          -0.3,
          -0.2,
          -0.1,
          0,
          0.1,
          0.2,
          0.3,
          0.4,
          0.5,
          0.6,
          0.7,
          0.8,
          0.9,
          1
         ],
         "y": [
          0,
          0.4140139759558769,
          0.5240730153746299,
          0.5697951041388305,
          0.5985042182461847,
          0.6524051626657976,
          0.6553578025204234,
          0.6928525103144093,
          0.5963405030124611,
          0.6379381128692176,
          1,
          0.6555100664344847,
          0.6559356170293611,
          0.7059684230841442,
          0.7966160826774941,
          0.7351242264035478,
          0.740213174360505,
          0.7112536597324601,
          0.7108911689545492,
          0.6310433698980751,
          0.2847108031718426
         ]
        }
       ],
       "layout": {
        "clickmode": "event+select",
        "showlegend": true,
        "template": {
         "data": {
          "bar": [
           {
            "error_x": {
             "color": "#2a3f5f"
            },
            "error_y": {
             "color": "#2a3f5f"
            },
            "marker": {
             "line": {
              "color": "#E5ECF6",
              "width": 0.5
             },
             "pattern": {
              "fillmode": "overlay",
              "size": 10,
              "solidity": 0.2
             }
            },
            "type": "bar"
           }
          ],
          "barpolar": [
           {
            "marker": {
             "line": {
              "color": "#E5ECF6",
              "width": 0.5
             },
             "pattern": {
              "fillmode": "overlay",
              "size": 10,
              "solidity": 0.2
             }
            },
            "type": "barpolar"
           }
          ],
          "carpet": [
           {
            "aaxis": {
             "endlinecolor": "#2a3f5f",
             "gridcolor": "white",
             "linecolor": "white",
             "minorgridcolor": "white",
             "startlinecolor": "#2a3f5f"
            },
            "baxis": {
             "endlinecolor": "#2a3f5f",
             "gridcolor": "white",
             "linecolor": "white",
             "minorgridcolor": "white",
             "startlinecolor": "#2a3f5f"
            },
            "type": "carpet"
           }
          ],
          "choropleth": [
           {
            "colorbar": {
             "outlinewidth": 0,
             "ticks": ""
            },
            "type": "choropleth"
           }
          ],
          "contour": [
           {
            "colorbar": {
             "outlinewidth": 0,
             "ticks": ""
            },
            "colorscale": [
             [
              0,
              "#0d0887"
             ],
             [
              0.1111111111111111,
              "#46039f"
             ],
             [
              0.2222222222222222,
              "#7201a8"
             ],
             [
              0.3333333333333333,
              "#9c179e"
             ],
             [
              0.4444444444444444,
              "#bd3786"
             ],
             [
              0.5555555555555556,
              "#d8576b"
             ],
             [
              0.6666666666666666,
              "#ed7953"
             ],
             [
              0.7777777777777778,
              "#fb9f3a"
             ],
             [
              0.8888888888888888,
              "#fdca26"
             ],
             [
              1,
              "#f0f921"
             ]
            ],
            "type": "contour"
           }
          ],
          "contourcarpet": [
           {
            "colorbar": {
             "outlinewidth": 0,
             "ticks": ""
            },
            "type": "contourcarpet"
           }
          ],
          "heatmap": [
           {
            "colorbar": {
             "outlinewidth": 0,
             "ticks": ""
            },
            "colorscale": [
             [
              0,
              "#0d0887"
             ],
             [
              0.1111111111111111,
              "#46039f"
             ],
             [
              0.2222222222222222,
              "#7201a8"
             ],
             [
              0.3333333333333333,
              "#9c179e"
             ],
             [
              0.4444444444444444,
              "#bd3786"
             ],
             [
              0.5555555555555556,
              "#d8576b"
             ],
             [
              0.6666666666666666,
              "#ed7953"
             ],
             [
              0.7777777777777778,
              "#fb9f3a"
             ],
             [
              0.8888888888888888,
              "#fdca26"
             ],
             [
              1,
              "#f0f921"
             ]
            ],
            "type": "heatmap"
           }
          ],
          "heatmapgl": [
           {
            "colorbar": {
             "outlinewidth": 0,
             "ticks": ""
            },
            "colorscale": [
             [
              0,
              "#0d0887"
             ],
             [
              0.1111111111111111,
              "#46039f"
             ],
             [
              0.2222222222222222,
              "#7201a8"
             ],
             [
              0.3333333333333333,
              "#9c179e"
             ],
             [
              0.4444444444444444,
              "#bd3786"
             ],
             [
              0.5555555555555556,
              "#d8576b"
             ],
             [
              0.6666666666666666,
              "#ed7953"
             ],
             [
              0.7777777777777778,
              "#fb9f3a"
             ],
             [
              0.8888888888888888,
              "#fdca26"
             ],
             [
              1,
              "#f0f921"
             ]
            ],
            "type": "heatmapgl"
           }
          ],
          "histogram": [
           {
            "marker": {
             "pattern": {
              "fillmode": "overlay",
              "size": 10,
              "solidity": 0.2
             }
            },
            "type": "histogram"
           }
          ],
          "histogram2d": [
           {
            "colorbar": {
             "outlinewidth": 0,
             "ticks": ""
            },
            "colorscale": [
             [
              0,
              "#0d0887"
             ],
             [
              0.1111111111111111,
              "#46039f"
             ],
             [
              0.2222222222222222,
              "#7201a8"
             ],
             [
              0.3333333333333333,
              "#9c179e"
             ],
             [
              0.4444444444444444,
              "#bd3786"
             ],
             [
              0.5555555555555556,
              "#d8576b"
             ],
             [
              0.6666666666666666,
              "#ed7953"
             ],
             [
              0.7777777777777778,
              "#fb9f3a"
             ],
             [
              0.8888888888888888,
              "#fdca26"
             ],
             [
              1,
              "#f0f921"
             ]
            ],
            "type": "histogram2d"
           }
          ],
          "histogram2dcontour": [
           {
            "colorbar": {
             "outlinewidth": 0,
             "ticks": ""
            },
            "colorscale": [
             [
              0,
              "#0d0887"
             ],
             [
              0.1111111111111111,
              "#46039f"
             ],
             [
              0.2222222222222222,
              "#7201a8"
             ],
             [
              0.3333333333333333,
              "#9c179e"
             ],
             [
              0.4444444444444444,
              "#bd3786"
             ],
             [
              0.5555555555555556,
              "#d8576b"
             ],
             [
              0.6666666666666666,
              "#ed7953"
             ],
             [
              0.7777777777777778,
              "#fb9f3a"
             ],
             [
              0.8888888888888888,
              "#fdca26"
             ],
             [
              1,
              "#f0f921"
             ]
            ],
            "type": "histogram2dcontour"
           }
          ],
          "mesh3d": [
           {
            "colorbar": {
             "outlinewidth": 0,
             "ticks": ""
            },
            "type": "mesh3d"
           }
          ],
          "parcoords": [
           {
            "line": {
             "colorbar": {
              "outlinewidth": 0,
              "ticks": ""
             }
            },
            "type": "parcoords"
           }
          ],
          "pie": [
           {
            "automargin": true,
            "type": "pie"
           }
          ],
          "scatter": [
           {
            "marker": {
             "colorbar": {
              "outlinewidth": 0,
              "ticks": ""
             }
            },
            "type": "scatter"
           }
          ],
          "scatter3d": [
           {
            "line": {
             "colorbar": {
              "outlinewidth": 0,
              "ticks": ""
             }
            },
            "marker": {
             "colorbar": {
              "outlinewidth": 0,
              "ticks": ""
             }
            },
            "type": "scatter3d"
           }
          ],
          "scattercarpet": [
           {
            "marker": {
             "colorbar": {
              "outlinewidth": 0,
              "ticks": ""
             }
            },
            "type": "scattercarpet"
           }
          ],
          "scattergeo": [
           {
            "marker": {
             "colorbar": {
              "outlinewidth": 0,
              "ticks": ""
             }
            },
            "type": "scattergeo"
           }
          ],
          "scattergl": [
           {
            "marker": {
             "colorbar": {
              "outlinewidth": 0,
              "ticks": ""
             }
            },
            "type": "scattergl"
           }
          ],
          "scattermapbox": [
           {
            "marker": {
             "colorbar": {
              "outlinewidth": 0,
              "ticks": ""
             }
            },
            "type": "scattermapbox"
           }
          ],
          "scatterpolar": [
           {
            "marker": {
             "colorbar": {
              "outlinewidth": 0,
              "ticks": ""
             }
            },
            "type": "scatterpolar"
           }
          ],
          "scatterpolargl": [
           {
            "marker": {
             "colorbar": {
              "outlinewidth": 0,
              "ticks": ""
             }
            },
            "type": "scatterpolargl"
           }
          ],
          "scatterternary": [
           {
            "marker": {
             "colorbar": {
              "outlinewidth": 0,
              "ticks": ""
             }
            },
            "type": "scatterternary"
           }
          ],
          "surface": [
           {
            "colorbar": {
             "outlinewidth": 0,
             "ticks": ""
            },
            "colorscale": [
             [
              0,
              "#0d0887"
             ],
             [
              0.1111111111111111,
              "#46039f"
             ],
             [
              0.2222222222222222,
              "#7201a8"
             ],
             [
              0.3333333333333333,
              "#9c179e"
             ],
             [
              0.4444444444444444,
              "#bd3786"
             ],
             [
              0.5555555555555556,
              "#d8576b"
             ],
             [
              0.6666666666666666,
              "#ed7953"
             ],
             [
              0.7777777777777778,
              "#fb9f3a"
             ],
             [
              0.8888888888888888,
              "#fdca26"
             ],
             [
              1,
              "#f0f921"
             ]
            ],
            "type": "surface"
           }
          ],
          "table": [
           {
            "cells": {
             "fill": {
              "color": "#EBF0F8"
             },
             "line": {
              "color": "white"
             }
            },
            "header": {
             "fill": {
              "color": "#C8D4E3"
             },
             "line": {
              "color": "white"
             }
            },
            "type": "table"
           }
          ]
         },
         "layout": {
          "annotationdefaults": {
           "arrowcolor": "#2a3f5f",
           "arrowhead": 0,
           "arrowwidth": 1
          },
          "autotypenumbers": "strict",
          "coloraxis": {
           "colorbar": {
            "outlinewidth": 0,
            "ticks": ""
           }
          },
          "colorscale": {
           "diverging": [
            [
             0,
             "#8e0152"
            ],
            [
             0.1,
             "#c51b7d"
            ],
            [
             0.2,
             "#de77ae"
            ],
            [
             0.3,
             "#f1b6da"
            ],
            [
             0.4,
             "#fde0ef"
            ],
            [
             0.5,
             "#f7f7f7"
            ],
            [
             0.6,
             "#e6f5d0"
            ],
            [
             0.7,
             "#b8e186"
            ],
            [
             0.8,
             "#7fbc41"
            ],
            [
             0.9,
             "#4d9221"
            ],
            [
             1,
             "#276419"
            ]
           ],
           "sequential": [
            [
             0,
             "#0d0887"
            ],
            [
             0.1111111111111111,
             "#46039f"
            ],
            [
             0.2222222222222222,
             "#7201a8"
            ],
            [
             0.3333333333333333,
             "#9c179e"
            ],
            [
             0.4444444444444444,
             "#bd3786"
            ],
            [
             0.5555555555555556,
             "#d8576b"
            ],
            [
             0.6666666666666666,
             "#ed7953"
            ],
            [
             0.7777777777777778,
             "#fb9f3a"
            ],
            [
             0.8888888888888888,
             "#fdca26"
            ],
            [
             1,
             "#f0f921"
            ]
           ],
           "sequentialminus": [
            [
             0,
             "#0d0887"
            ],
            [
             0.1111111111111111,
             "#46039f"
            ],
            [
             0.2222222222222222,
             "#7201a8"
            ],
            [
             0.3333333333333333,
             "#9c179e"
            ],
            [
             0.4444444444444444,
             "#bd3786"
            ],
            [
             0.5555555555555556,
             "#d8576b"
            ],
            [
             0.6666666666666666,
             "#ed7953"
            ],
            [
             0.7777777777777778,
             "#fb9f3a"
            ],
            [
             0.8888888888888888,
             "#fdca26"
            ],
            [
             1,
             "#f0f921"
            ]
           ]
          },
          "colorway": [
           "#636efa",
           "#EF553B",
           "#00cc96",
           "#ab63fa",
           "#FFA15A",
           "#19d3f3",
           "#FF6692",
           "#B6E880",
           "#FF97FF",
           "#FECB52"
          ],
          "font": {
           "color": "#2a3f5f"
          },
          "geo": {
           "bgcolor": "white",
           "lakecolor": "white",
           "landcolor": "#E5ECF6",
           "showlakes": true,
           "showland": true,
           "subunitcolor": "white"
          },
          "hoverlabel": {
           "align": "left"
          },
          "hovermode": "closest",
          "mapbox": {
           "style": "light"
          },
          "paper_bgcolor": "white",
          "plot_bgcolor": "#E5ECF6",
          "polar": {
           "angularaxis": {
            "gridcolor": "white",
            "linecolor": "white",
            "ticks": ""
           },
           "bgcolor": "#E5ECF6",
           "radialaxis": {
            "gridcolor": "white",
            "linecolor": "white",
            "ticks": ""
           }
          },
          "scene": {
           "xaxis": {
            "backgroundcolor": "#E5ECF6",
            "gridcolor": "white",
            "gridwidth": 2,
            "linecolor": "white",
            "showbackground": true,
            "ticks": "",
            "zerolinecolor": "white"
           },
           "yaxis": {
            "backgroundcolor": "#E5ECF6",
            "gridcolor": "white",
            "gridwidth": 2,
            "linecolor": "white",
            "showbackground": true,
            "ticks": "",
            "zerolinecolor": "white"
           },
           "zaxis": {
            "backgroundcolor": "#E5ECF6",
            "gridcolor": "white",
            "gridwidth": 2,
            "linecolor": "white",
            "showbackground": true,
            "ticks": "",
            "zerolinecolor": "white"
           }
          },
          "shapedefaults": {
           "line": {
            "color": "#2a3f5f"
           }
          },
          "ternary": {
           "aaxis": {
            "gridcolor": "white",
            "linecolor": "white",
            "ticks": ""
           },
           "baxis": {
            "gridcolor": "white",
            "linecolor": "white",
            "ticks": ""
           },
           "bgcolor": "#E5ECF6",
           "caxis": {
            "gridcolor": "white",
            "linecolor": "white",
            "ticks": ""
           }
          },
          "title": {
           "x": 0.05
          },
          "xaxis": {
           "automargin": true,
           "gridcolor": "white",
           "linecolor": "white",
           "ticks": "",
           "title": {
            "standoff": 15
           },
           "zerolinecolor": "white",
           "zerolinewidth": 2
          },
          "yaxis": {
           "automargin": true,
           "gridcolor": "white",
           "linecolor": "white",
           "ticks": "",
           "title": {
            "standoff": 15
           },
           "zerolinecolor": "white",
           "zerolinewidth": 2
          }
         }
        },
        "title": {
         "text": "Distribution of compound score"
        },
        "xaxis": {
         "title": {
          "text": "Compound score"
         }
        },
        "yaxis": {
         "showticklabels": false
        }
       }
      }
     },
     "metadata": {},
     "output_type": "display_data"
    }
   ],
   "source": [
    "\n",
    "fig = go.Figure()\n",
    "text = []\n",
    "for index, media in enumerate(chosen_news):\n",
    "\n",
    "    fig.update_layout(clickmode='event+select')\n",
    "    \n",
    "\n",
    "    \n",
    "    fig.add_trace(go.Scatter(\n",
    "                            x=array_dict_3[f'x_{media}'],\n",
    "                            y=array_dict_3[f'y_{media}'] ,\n",
    "                            #fill='tonexty',\n",
    "                            name=f'{media}'))\n",
    "\n",
    "# Modify the figure and the legend titles\n",
    "fig.update_layout(\n",
    "                title='Distribution of compound score',\n",
    "                showlegend=True,\n",
    "                xaxis=dict(title='Compound score'),\n",
    "                yaxis=dict(showticklabels=False) # that way you hide the y axis ticks labels\n",
    "                )\n",
    "\n",
    "fig.show()\n",
    "fig.write_html(\"images/polarity_distribution_media.html\")"
   ]
  },
  {
   "cell_type": "code",
   "execution_count": 190,
   "metadata": {},
   "outputs": [
    {
     "data": {
      "text/html": [
       "<div>\n",
       "<style scoped>\n",
       "    .dataframe tbody tr th:only-of-type {\n",
       "        vertical-align: middle;\n",
       "    }\n",
       "\n",
       "    .dataframe tbody tr th {\n",
       "        vertical-align: top;\n",
       "    }\n",
       "\n",
       "    .dataframe thead th {\n",
       "        text-align: right;\n",
       "    }\n",
       "</style>\n",
       "<table border=\"1\" class=\"dataframe\">\n",
       "  <thead>\n",
       "    <tr style=\"text-align: right;\">\n",
       "      <th></th>\n",
       "      <th>media_outlet</th>\n",
       "      <th>compound</th>\n",
       "      <th>positive</th>\n",
       "      <th>negative</th>\n",
       "      <th>blob_polar</th>\n",
       "      <th>blob_subj</th>\n",
       "      <th>date_short</th>\n",
       "      <th>category</th>\n",
       "    </tr>\n",
       "  </thead>\n",
       "  <tbody>\n",
       "    <tr>\n",
       "      <th>0</th>\n",
       "      <td>washingtonpost</td>\n",
       "      <td>0.25</td>\n",
       "      <td>0.083</td>\n",
       "      <td>0.000</td>\n",
       "      <td>0.00</td>\n",
       "      <td>0.000000</td>\n",
       "      <td>2015-12-13</td>\n",
       "      <td>Newspaper</td>\n",
       "    </tr>\n",
       "    <tr>\n",
       "      <th>1</th>\n",
       "      <td>startribune</td>\n",
       "      <td>0.00</td>\n",
       "      <td>0.000</td>\n",
       "      <td>0.000</td>\n",
       "      <td>0.06</td>\n",
       "      <td>0.354167</td>\n",
       "      <td>2015-10-02</td>\n",
       "      <td>Newspaper</td>\n",
       "    </tr>\n",
       "    <tr>\n",
       "      <th>2</th>\n",
       "      <td>mtv</td>\n",
       "      <td>0.00</td>\n",
       "      <td>0.000</td>\n",
       "      <td>0.000</td>\n",
       "      <td>-0.08</td>\n",
       "      <td>0.216667</td>\n",
       "      <td>2015-10-09</td>\n",
       "      <td>Other</td>\n",
       "    </tr>\n",
       "    <tr>\n",
       "      <th>3</th>\n",
       "      <td>express</td>\n",
       "      <td>-0.34</td>\n",
       "      <td>0.073</td>\n",
       "      <td>0.094</td>\n",
       "      <td>0.60</td>\n",
       "      <td>1.000000</td>\n",
       "      <td>2015-11-17</td>\n",
       "      <td>Newspaper</td>\n",
       "    </tr>\n",
       "    <tr>\n",
       "      <th>4</th>\n",
       "      <td>reuters</td>\n",
       "      <td>-0.27</td>\n",
       "      <td>0.000</td>\n",
       "      <td>0.110</td>\n",
       "      <td>-0.19</td>\n",
       "      <td>0.500000</td>\n",
       "      <td>2015-02-06</td>\n",
       "      <td>Newspaper</td>\n",
       "    </tr>\n",
       "  </tbody>\n",
       "</table>\n",
       "</div>"
      ],
      "text/plain": [
       "     media_outlet  compound  positive  negative  blob_polar  blob_subj  \\\n",
       "0  washingtonpost      0.25     0.083     0.000        0.00   0.000000   \n",
       "1     startribune      0.00     0.000     0.000        0.06   0.354167   \n",
       "2             mtv      0.00     0.000     0.000       -0.08   0.216667   \n",
       "3         express     -0.34     0.073     0.094        0.60   1.000000   \n",
       "4         reuters     -0.27     0.000     0.110       -0.19   0.500000   \n",
       "\n",
       "   date_short   category  \n",
       "0  2015-12-13  Newspaper  \n",
       "1  2015-10-02  Newspaper  \n",
       "2  2015-10-09      Other  \n",
       "3  2015-11-17  Newspaper  \n",
       "4  2015-02-06  Newspaper  "
      ]
     },
     "execution_count": 190,
     "metadata": {},
     "output_type": "execute_result"
    }
   ],
   "source": [
    "df_rounded.head()"
   ]
  },
  {
   "cell_type": "code",
   "execution_count": 191,
   "metadata": {},
   "outputs": [],
   "source": [
    "df_categories_compound = df_rounded.copy()\n",
    "df_categories_compound['compound'] = df_categories_compound['compound'].apply(lambda x: round(x, 1))\n",
    "df_categories_compound = df_categories_compound.groupby(['category', 'compound']).agg({'compound': 'count'}).rename(columns={'compound': 'count'}).reset_index()\n",
    "\n",
    "array_dict_3 = {}\n",
    "for outlet in categories:\n",
    "    array_dict_3[f'x_{outlet}'] = df_categories_compound[df_categories_compound['category']==outlet]['compound'] # storing the blob_polar values for each category\n",
    "    array_dict_3[f'y_{outlet}'] = np.log(df_categories_compound[df_categories_compound['category']==outlet]['count']) # storing the blob_polar counts for each value\n",
    "    array_dict_3[f'y_{outlet}'] = (array_dict_3[f'y_{outlet}'] - array_dict_3[f'y_{outlet}'].min()) \\\n",
    "                                / (array_dict_3[f'y_{outlet}'].max() - array_dict_3[f'y_{outlet}'].min())"
   ]
  },
  {
   "cell_type": "code",
   "execution_count": 192,
   "metadata": {},
   "outputs": [
    {
     "data": {
      "application/vnd.plotly.v1+json": {
       "config": {
        "plotlyServerURL": "https://plot.ly"
       },
       "data": [
        {
         "name": "Sports",
         "type": "scatter",
         "x": [
          -1,
          -0.9,
          -0.8,
          -0.7,
          -0.6,
          -0.5,
          -0.4,
          -0.3,
          -0.2,
          -0.1,
          0,
          0.1,
          0.2,
          0.3,
          0.4,
          0.5,
          0.6,
          0.7,
          0.8,
          0.9,
          1
         ],
         "y": [
          0,
          0.4039860731390043,
          0.5264043495428242,
          0.5757190984971128,
          0.5981351703437078,
          0.6637700984580072,
          0.6727456931725057,
          0.7074934998603636,
          0.636892746740555,
          0.6891315193170577,
          1,
          0.7052297657439683,
          0.7260063399802256,
          0.7755638206444614,
          0.8449920369576234,
          0.7989799502297033,
          0.8341362205350059,
          0.823108678893562,
          0.8571351817438908,
          0.8460764340911957,
          0.6141298827384578
         ]
        },
        {
         "name": "Newspaper",
         "type": "scatter",
         "x": [
          -1,
          -0.9,
          -0.8,
          -0.7,
          -0.6,
          -0.5,
          -0.4,
          -0.3,
          -0.2,
          -0.1,
          0,
          0.1,
          0.2,
          0.3,
          0.4,
          0.5,
          0.6,
          0.7,
          0.8,
          0.9,
          1
         ],
         "y": [
          0,
          0.43140871880071563,
          0.5391440070425595,
          0.5686083314746971,
          0.5828361465657516,
          0.6349822587954373,
          0.6270275904805719,
          0.6598233178489439,
          0.5612796079124075,
          0.6048045037876253,
          1,
          0.6253311964316999,
          0.6209769484543992,
          0.6801879407951782,
          0.775308151335157,
          0.7139021645782053,
          0.7294531724462323,
          0.7125398235188027,
          0.7294724984933091,
          0.675399121104623,
          0.31824544990169357
         ]
        },
        {
         "name": "Celebrity magazine",
         "type": "scatter",
         "x": [
          -1,
          -0.9,
          -0.8,
          -0.7,
          -0.6,
          -0.5,
          -0.4,
          -0.3,
          -0.2,
          -0.1,
          0,
          0.1,
          0.2,
          0.3,
          0.4,
          0.5,
          0.6,
          0.7,
          0.8,
          0.9,
          1
         ],
         "y": [
          0,
          0.4249797087639214,
          0.5227241423080172,
          0.5463555872599881,
          0.554825856719077,
          0.6037116808104876,
          0.5892539734159906,
          0.6207712454065057,
          0.5212668917584439,
          0.5635404488976228,
          1,
          0.5894147411888957,
          0.5791780635247872,
          0.6463367970949576,
          0.7638611020143108,
          0.7038118784074506,
          0.7262334261683107,
          0.7127742549968823,
          0.7509711065103972,
          0.7271707233888628,
          0.406503833215106
         ]
        },
        {
         "name": "Other",
         "type": "scatter",
         "x": [
          -1,
          -0.9,
          -0.8,
          -0.7,
          -0.6,
          -0.5,
          -0.4,
          -0.3,
          -0.2,
          -0.1,
          0,
          0.1,
          0.2,
          0.3,
          0.4,
          0.5,
          0.6,
          0.7,
          0.8,
          0.9,
          1
         ],
         "y": [
          0,
          0.43267806962122807,
          0.5399420801883228,
          0.569298323611188,
          0.5857188765813479,
          0.6323344870880926,
          0.623119079024601,
          0.6596843599059401,
          0.556219850815212,
          0.5965007660040952,
          1,
          0.6132321282527234,
          0.6076395168065541,
          0.6672724394233233,
          0.7638597486838342,
          0.7043205435624299,
          0.7154201837199399,
          0.6923555767281356,
          0.707650588375119,
          0.6545643514236105,
          0.3265969258898544
         ]
        }
       ],
       "layout": {
        "clickmode": "event+select",
        "showlegend": true,
        "template": {
         "data": {
          "bar": [
           {
            "error_x": {
             "color": "#2a3f5f"
            },
            "error_y": {
             "color": "#2a3f5f"
            },
            "marker": {
             "line": {
              "color": "#E5ECF6",
              "width": 0.5
             },
             "pattern": {
              "fillmode": "overlay",
              "size": 10,
              "solidity": 0.2
             }
            },
            "type": "bar"
           }
          ],
          "barpolar": [
           {
            "marker": {
             "line": {
              "color": "#E5ECF6",
              "width": 0.5
             },
             "pattern": {
              "fillmode": "overlay",
              "size": 10,
              "solidity": 0.2
             }
            },
            "type": "barpolar"
           }
          ],
          "carpet": [
           {
            "aaxis": {
             "endlinecolor": "#2a3f5f",
             "gridcolor": "white",
             "linecolor": "white",
             "minorgridcolor": "white",
             "startlinecolor": "#2a3f5f"
            },
            "baxis": {
             "endlinecolor": "#2a3f5f",
             "gridcolor": "white",
             "linecolor": "white",
             "minorgridcolor": "white",
             "startlinecolor": "#2a3f5f"
            },
            "type": "carpet"
           }
          ],
          "choropleth": [
           {
            "colorbar": {
             "outlinewidth": 0,
             "ticks": ""
            },
            "type": "choropleth"
           }
          ],
          "contour": [
           {
            "colorbar": {
             "outlinewidth": 0,
             "ticks": ""
            },
            "colorscale": [
             [
              0,
              "#0d0887"
             ],
             [
              0.1111111111111111,
              "#46039f"
             ],
             [
              0.2222222222222222,
              "#7201a8"
             ],
             [
              0.3333333333333333,
              "#9c179e"
             ],
             [
              0.4444444444444444,
              "#bd3786"
             ],
             [
              0.5555555555555556,
              "#d8576b"
             ],
             [
              0.6666666666666666,
              "#ed7953"
             ],
             [
              0.7777777777777778,
              "#fb9f3a"
             ],
             [
              0.8888888888888888,
              "#fdca26"
             ],
             [
              1,
              "#f0f921"
             ]
            ],
            "type": "contour"
           }
          ],
          "contourcarpet": [
           {
            "colorbar": {
             "outlinewidth": 0,
             "ticks": ""
            },
            "type": "contourcarpet"
           }
          ],
          "heatmap": [
           {
            "colorbar": {
             "outlinewidth": 0,
             "ticks": ""
            },
            "colorscale": [
             [
              0,
              "#0d0887"
             ],
             [
              0.1111111111111111,
              "#46039f"
             ],
             [
              0.2222222222222222,
              "#7201a8"
             ],
             [
              0.3333333333333333,
              "#9c179e"
             ],
             [
              0.4444444444444444,
              "#bd3786"
             ],
             [
              0.5555555555555556,
              "#d8576b"
             ],
             [
              0.6666666666666666,
              "#ed7953"
             ],
             [
              0.7777777777777778,
              "#fb9f3a"
             ],
             [
              0.8888888888888888,
              "#fdca26"
             ],
             [
              1,
              "#f0f921"
             ]
            ],
            "type": "heatmap"
           }
          ],
          "heatmapgl": [
           {
            "colorbar": {
             "outlinewidth": 0,
             "ticks": ""
            },
            "colorscale": [
             [
              0,
              "#0d0887"
             ],
             [
              0.1111111111111111,
              "#46039f"
             ],
             [
              0.2222222222222222,
              "#7201a8"
             ],
             [
              0.3333333333333333,
              "#9c179e"
             ],
             [
              0.4444444444444444,
              "#bd3786"
             ],
             [
              0.5555555555555556,
              "#d8576b"
             ],
             [
              0.6666666666666666,
              "#ed7953"
             ],
             [
              0.7777777777777778,
              "#fb9f3a"
             ],
             [
              0.8888888888888888,
              "#fdca26"
             ],
             [
              1,
              "#f0f921"
             ]
            ],
            "type": "heatmapgl"
           }
          ],
          "histogram": [
           {
            "marker": {
             "pattern": {
              "fillmode": "overlay",
              "size": 10,
              "solidity": 0.2
             }
            },
            "type": "histogram"
           }
          ],
          "histogram2d": [
           {
            "colorbar": {
             "outlinewidth": 0,
             "ticks": ""
            },
            "colorscale": [
             [
              0,
              "#0d0887"
             ],
             [
              0.1111111111111111,
              "#46039f"
             ],
             [
              0.2222222222222222,
              "#7201a8"
             ],
             [
              0.3333333333333333,
              "#9c179e"
             ],
             [
              0.4444444444444444,
              "#bd3786"
             ],
             [
              0.5555555555555556,
              "#d8576b"
             ],
             [
              0.6666666666666666,
              "#ed7953"
             ],
             [
              0.7777777777777778,
              "#fb9f3a"
             ],
             [
              0.8888888888888888,
              "#fdca26"
             ],
             [
              1,
              "#f0f921"
             ]
            ],
            "type": "histogram2d"
           }
          ],
          "histogram2dcontour": [
           {
            "colorbar": {
             "outlinewidth": 0,
             "ticks": ""
            },
            "colorscale": [
             [
              0,
              "#0d0887"
             ],
             [
              0.1111111111111111,
              "#46039f"
             ],
             [
              0.2222222222222222,
              "#7201a8"
             ],
             [
              0.3333333333333333,
              "#9c179e"
             ],
             [
              0.4444444444444444,
              "#bd3786"
             ],
             [
              0.5555555555555556,
              "#d8576b"
             ],
             [
              0.6666666666666666,
              "#ed7953"
             ],
             [
              0.7777777777777778,
              "#fb9f3a"
             ],
             [
              0.8888888888888888,
              "#fdca26"
             ],
             [
              1,
              "#f0f921"
             ]
            ],
            "type": "histogram2dcontour"
           }
          ],
          "mesh3d": [
           {
            "colorbar": {
             "outlinewidth": 0,
             "ticks": ""
            },
            "type": "mesh3d"
           }
          ],
          "parcoords": [
           {
            "line": {
             "colorbar": {
              "outlinewidth": 0,
              "ticks": ""
             }
            },
            "type": "parcoords"
           }
          ],
          "pie": [
           {
            "automargin": true,
            "type": "pie"
           }
          ],
          "scatter": [
           {
            "marker": {
             "colorbar": {
              "outlinewidth": 0,
              "ticks": ""
             }
            },
            "type": "scatter"
           }
          ],
          "scatter3d": [
           {
            "line": {
             "colorbar": {
              "outlinewidth": 0,
              "ticks": ""
             }
            },
            "marker": {
             "colorbar": {
              "outlinewidth": 0,
              "ticks": ""
             }
            },
            "type": "scatter3d"
           }
          ],
          "scattercarpet": [
           {
            "marker": {
             "colorbar": {
              "outlinewidth": 0,
              "ticks": ""
             }
            },
            "type": "scattercarpet"
           }
          ],
          "scattergeo": [
           {
            "marker": {
             "colorbar": {
              "outlinewidth": 0,
              "ticks": ""
             }
            },
            "type": "scattergeo"
           }
          ],
          "scattergl": [
           {
            "marker": {
             "colorbar": {
              "outlinewidth": 0,
              "ticks": ""
             }
            },
            "type": "scattergl"
           }
          ],
          "scattermapbox": [
           {
            "marker": {
             "colorbar": {
              "outlinewidth": 0,
              "ticks": ""
             }
            },
            "type": "scattermapbox"
           }
          ],
          "scatterpolar": [
           {
            "marker": {
             "colorbar": {
              "outlinewidth": 0,
              "ticks": ""
             }
            },
            "type": "scatterpolar"
           }
          ],
          "scatterpolargl": [
           {
            "marker": {
             "colorbar": {
              "outlinewidth": 0,
              "ticks": ""
             }
            },
            "type": "scatterpolargl"
           }
          ],
          "scatterternary": [
           {
            "marker": {
             "colorbar": {
              "outlinewidth": 0,
              "ticks": ""
             }
            },
            "type": "scatterternary"
           }
          ],
          "surface": [
           {
            "colorbar": {
             "outlinewidth": 0,
             "ticks": ""
            },
            "colorscale": [
             [
              0,
              "#0d0887"
             ],
             [
              0.1111111111111111,
              "#46039f"
             ],
             [
              0.2222222222222222,
              "#7201a8"
             ],
             [
              0.3333333333333333,
              "#9c179e"
             ],
             [
              0.4444444444444444,
              "#bd3786"
             ],
             [
              0.5555555555555556,
              "#d8576b"
             ],
             [
              0.6666666666666666,
              "#ed7953"
             ],
             [
              0.7777777777777778,
              "#fb9f3a"
             ],
             [
              0.8888888888888888,
              "#fdca26"
             ],
             [
              1,
              "#f0f921"
             ]
            ],
            "type": "surface"
           }
          ],
          "table": [
           {
            "cells": {
             "fill": {
              "color": "#EBF0F8"
             },
             "line": {
              "color": "white"
             }
            },
            "header": {
             "fill": {
              "color": "#C8D4E3"
             },
             "line": {
              "color": "white"
             }
            },
            "type": "table"
           }
          ]
         },
         "layout": {
          "annotationdefaults": {
           "arrowcolor": "#2a3f5f",
           "arrowhead": 0,
           "arrowwidth": 1
          },
          "autotypenumbers": "strict",
          "coloraxis": {
           "colorbar": {
            "outlinewidth": 0,
            "ticks": ""
           }
          },
          "colorscale": {
           "diverging": [
            [
             0,
             "#8e0152"
            ],
            [
             0.1,
             "#c51b7d"
            ],
            [
             0.2,
             "#de77ae"
            ],
            [
             0.3,
             "#f1b6da"
            ],
            [
             0.4,
             "#fde0ef"
            ],
            [
             0.5,
             "#f7f7f7"
            ],
            [
             0.6,
             "#e6f5d0"
            ],
            [
             0.7,
             "#b8e186"
            ],
            [
             0.8,
             "#7fbc41"
            ],
            [
             0.9,
             "#4d9221"
            ],
            [
             1,
             "#276419"
            ]
           ],
           "sequential": [
            [
             0,
             "#0d0887"
            ],
            [
             0.1111111111111111,
             "#46039f"
            ],
            [
             0.2222222222222222,
             "#7201a8"
            ],
            [
             0.3333333333333333,
             "#9c179e"
            ],
            [
             0.4444444444444444,
             "#bd3786"
            ],
            [
             0.5555555555555556,
             "#d8576b"
            ],
            [
             0.6666666666666666,
             "#ed7953"
            ],
            [
             0.7777777777777778,
             "#fb9f3a"
            ],
            [
             0.8888888888888888,
             "#fdca26"
            ],
            [
             1,
             "#f0f921"
            ]
           ],
           "sequentialminus": [
            [
             0,
             "#0d0887"
            ],
            [
             0.1111111111111111,
             "#46039f"
            ],
            [
             0.2222222222222222,
             "#7201a8"
            ],
            [
             0.3333333333333333,
             "#9c179e"
            ],
            [
             0.4444444444444444,
             "#bd3786"
            ],
            [
             0.5555555555555556,
             "#d8576b"
            ],
            [
             0.6666666666666666,
             "#ed7953"
            ],
            [
             0.7777777777777778,
             "#fb9f3a"
            ],
            [
             0.8888888888888888,
             "#fdca26"
            ],
            [
             1,
             "#f0f921"
            ]
           ]
          },
          "colorway": [
           "#636efa",
           "#EF553B",
           "#00cc96",
           "#ab63fa",
           "#FFA15A",
           "#19d3f3",
           "#FF6692",
           "#B6E880",
           "#FF97FF",
           "#FECB52"
          ],
          "font": {
           "color": "#2a3f5f"
          },
          "geo": {
           "bgcolor": "white",
           "lakecolor": "white",
           "landcolor": "#E5ECF6",
           "showlakes": true,
           "showland": true,
           "subunitcolor": "white"
          },
          "hoverlabel": {
           "align": "left"
          },
          "hovermode": "closest",
          "mapbox": {
           "style": "light"
          },
          "paper_bgcolor": "white",
          "plot_bgcolor": "#E5ECF6",
          "polar": {
           "angularaxis": {
            "gridcolor": "white",
            "linecolor": "white",
            "ticks": ""
           },
           "bgcolor": "#E5ECF6",
           "radialaxis": {
            "gridcolor": "white",
            "linecolor": "white",
            "ticks": ""
           }
          },
          "scene": {
           "xaxis": {
            "backgroundcolor": "#E5ECF6",
            "gridcolor": "white",
            "gridwidth": 2,
            "linecolor": "white",
            "showbackground": true,
            "ticks": "",
            "zerolinecolor": "white"
           },
           "yaxis": {
            "backgroundcolor": "#E5ECF6",
            "gridcolor": "white",
            "gridwidth": 2,
            "linecolor": "white",
            "showbackground": true,
            "ticks": "",
            "zerolinecolor": "white"
           },
           "zaxis": {
            "backgroundcolor": "#E5ECF6",
            "gridcolor": "white",
            "gridwidth": 2,
            "linecolor": "white",
            "showbackground": true,
            "ticks": "",
            "zerolinecolor": "white"
           }
          },
          "shapedefaults": {
           "line": {
            "color": "#2a3f5f"
           }
          },
          "ternary": {
           "aaxis": {
            "gridcolor": "white",
            "linecolor": "white",
            "ticks": ""
           },
           "baxis": {
            "gridcolor": "white",
            "linecolor": "white",
            "ticks": ""
           },
           "bgcolor": "#E5ECF6",
           "caxis": {
            "gridcolor": "white",
            "linecolor": "white",
            "ticks": ""
           }
          },
          "title": {
           "x": 0.05
          },
          "xaxis": {
           "automargin": true,
           "gridcolor": "white",
           "linecolor": "white",
           "ticks": "",
           "title": {
            "standoff": 15
           },
           "zerolinecolor": "white",
           "zerolinewidth": 2
          },
          "yaxis": {
           "automargin": true,
           "gridcolor": "white",
           "linecolor": "white",
           "ticks": "",
           "title": {
            "standoff": 15
           },
           "zerolinecolor": "white",
           "zerolinewidth": 2
          }
         }
        },
        "title": {
         "text": "Distribution of compound score"
        },
        "xaxis": {
         "title": {
          "text": "Compound score"
         }
        },
        "yaxis": {
         "showticklabels": false
        }
       }
      }
     },
     "metadata": {},
     "output_type": "display_data"
    }
   ],
   "source": [
    "\n",
    "fig = go.Figure()\n",
    "text = []\n",
    "for index, year in enumerate(categories):\n",
    "\n",
    "    fig.update_layout(clickmode='event+select')\n",
    "    \n",
    "\n",
    "    \n",
    "    fig.add_trace(go.Scatter(\n",
    "                            x=array_dict_3[f'x_{year}'],\n",
    "                            y=array_dict_3[f'y_{year}'] ,\n",
    "                            #fill='tonexty',\n",
    "                            name=f'{year}'))\n",
    "\n",
    "# Modify the figure and the legend titles\n",
    "fig.update_layout(\n",
    "                title='Distribution of compound score',\n",
    "                showlegend=True,\n",
    "                xaxis=dict(title='Compound score'),\n",
    "                yaxis=dict(showticklabels=False) # that way you hide the y axis ticks labels\n",
    "                )\n",
    "\n",
    "fig.show()\n",
    "fig.write_html(\"images/polarity_distribution_categories_same_plot.html\")\n",
    "\n"
   ]
  },
  {
   "cell_type": "markdown",
   "metadata": {},
   "source": [
    "## Det nedenfor skal antagelig ikke med"
   ]
  },
  {
   "cell_type": "code",
   "execution_count": 193,
   "metadata": {},
   "outputs": [
    {
     "data": {
      "text/plain": [
       "'\\nBlir for stort\\n\\n\\nimport plotly.figure_factory as ff\\n\\n\\nt = np.linspace(-1, 1.2, 2000)\\nx = nytimes[\\'blob_polar\\']\\ny = nytimes[\\'blob_subj\\']\\n\\ncolorscale = [\\'#7A4579\\', \\'#D56073\\', \\'rgb(236,158,105)\\', (1, 1, 0.2), (0.98,0.98,0.98)]\\n\\nfig = ff.create_2d_density(\\n    x, y, colorscale=colorscale,\\n    hist_color=\\'rgb(255, 237, 222)\\', point_size=3\\n)\\nfig.write_html(\"images/nytimes_scatter.html\")\\n'"
      ]
     },
     "execution_count": 193,
     "metadata": {},
     "output_type": "execute_result"
    }
   ],
   "source": [
    "'''\n",
    "Blir for stort\n",
    "\n",
    "\n",
    "import plotly.figure_factory as ff\n",
    "\n",
    "\n",
    "t = np.linspace(-1, 1.2, 2000)\n",
    "x = nytimes['blob_polar']\n",
    "y = nytimes['blob_subj']\n",
    "\n",
    "colorscale = ['#7A4579', '#D56073', 'rgb(236,158,105)', (1, 1, 0.2), (0.98,0.98,0.98)]\n",
    "\n",
    "fig = ff.create_2d_density(\n",
    "    x, y, colorscale=colorscale,\n",
    "    hist_color='rgb(255, 237, 222)', point_size=3\n",
    ")\n",
    "fig.write_html(\"images/nytimes_scatter.html\")\n",
    "'''"
   ]
  },
  {
   "cell_type": "code",
   "execution_count": 194,
   "metadata": {},
   "outputs": [
    {
     "data": {
      "text/plain": [
       "'\\n\\nBevegelig plot. Skal antagelig ikke med\\n\\nimport plotly.express as px\\n\\nper_day = wsj.copy()\\nper_day[\\'month_year\\'] = per_day[\\'date_short\\'].apply(lambda x: pd.to_datetime(x).to_period(\\'M\\'))\\nper_day = per_day.groupby([\\'month_year\\', \\'media_outlet\\']).agg(\\'mean\\').reset_index()\\nper_day[\\'blob_subj\\'] = per_day[\\'blob_subj\\'] \\nper_day[\\'blob_polar\\'] = per_day[\\'blob_polar\\'] \\n\\nfig = px.scatter(per_day, x=\"blob_polar\", y=\"blob_subj\", animation_frame= \"month_year\", animation_group=\"media_outlet\",\\n        color=\"media_outlet\", hover_name=\"media_outlet\",\\n           log_x=True, size_max=0.1, range_x=[0.01,1], range_y=[0.01,1])\\nfig.write_html(\"images/wsj_moving.html\")\\n'"
      ]
     },
     "execution_count": 194,
     "metadata": {},
     "output_type": "execute_result"
    }
   ],
   "source": [
    "'''\n",
    "\n",
    "Bevegelig plot. Skal antagelig ikke med\n",
    "\n",
    "import plotly.express as px\n",
    "\n",
    "per_day = wsj.copy()\n",
    "per_day['month_year'] = per_day['date_short'].apply(lambda x: pd.to_datetime(x).to_period('M'))\n",
    "per_day = per_day.groupby(['month_year', 'media_outlet']).agg('mean').reset_index()\n",
    "per_day['blob_subj'] = per_day['blob_subj'] \n",
    "per_day['blob_polar'] = per_day['blob_polar'] \n",
    "\n",
    "fig = px.scatter(per_day, x=\"blob_polar\", y=\"blob_subj\", animation_frame= \"month_year\", animation_group=\"media_outlet\",\n",
    "        color=\"media_outlet\", hover_name=\"media_outlet\",\n",
    "           log_x=True, size_max=0.1, range_x=[0.01,1], range_y=[0.01,1])\n",
    "fig.write_html(\"images/wsj_moving.html\")\n",
    "'''"
   ]
  },
  {
   "cell_type": "markdown",
   "metadata": {},
   "source": [
    "import plotly.figure_factory as ff\n",
    "\n",
    "\n",
    "t = np.linspace(-1, 1.2, 2000)\n",
    "x = nytimes['blob_polar']\n",
    "y = nytimes['blob_subj']\n",
    "\n",
    "colorscale = ['#7A4579', '#D56073', 'rgb(236,158,105)', (1, 1, 0.2), (0.98,0.98,0.98)]\n",
    "\n",
    "fig = ff.create_2d_density(\n",
    "    x, y, colorscale=colorscale,\n",
    "    hist_color='rgb(255, 237, 222)', point_size=3\n",
    ")\n",
    "fig.write_html(\"images/scatterplot_n\")\n"
   ]
  }
 ],
 "metadata": {
  "interpreter": {
   "hash": "f02b55953317407aa6a3868c665f9aa6d4ba331cc01e667e0182c896c3726979"
  },
  "kernelspec": {
   "display_name": "Python 3.8.11 64-bit ('ADA': conda)",
   "language": "python",
   "name": "python3"
  },
  "language_info": {
   "codemirror_mode": {
    "name": "ipython",
    "version": 3
   },
   "file_extension": ".py",
   "mimetype": "text/x-python",
   "name": "python",
   "nbconvert_exporter": "python",
   "pygments_lexer": "ipython3",
   "version": "3.8.11"
  },
  "orig_nbformat": 4
 },
 "nbformat": 4,
 "nbformat_minor": 2
}
