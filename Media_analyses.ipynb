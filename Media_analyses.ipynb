{
 "cells": [
  {
   "cell_type": "code",
   "execution_count": 229,
   "metadata": {},
   "outputs": [
    {
     "name": "stderr",
     "output_type": "stream",
     "text": [
      "[nltk_data] Downloading package vader_lexicon to\n",
      "[nltk_data]     C:\\Users\\asbjo\\AppData\\Roaming\\nltk_data...\n",
      "[nltk_data]   Package vader_lexicon is already up-to-date!\n"
     ]
    },
    {
     "data": {
      "text/plain": [
       "<Figure size 432x288 with 0 Axes>"
      ]
     },
     "metadata": {},
     "output_type": "display_data"
    }
   ],
   "source": [
    "import pandas as pd\n",
    "import seaborn as sns\n",
    "from IPython.display import display, HTML\n",
    "import matplotlib.pyplot as plt\n",
    "import scipy.stats as stats\n",
    "import numpy as np\n",
    "import nltk as nltk\n",
    "import bz2\n",
    "import json\n",
    "import datetime\n",
    "from iteration_utilities import deepflatten\n",
    "import nltk as nltk\n",
    "import scipy.stats as stats\n",
    "from nltk.sentiment.vader import SentimentIntensityAnalyzer\n",
    "nltk.download('vader_lexicon')\n",
    "pd.options.mode.chained_assignment = None\n",
    "from helpers import add_time, week, weekday_number, weekday, month, add_dict, to_dict, get_media, find_media\n",
    "sns.set_theme(context='notebook', style='white')\n",
    "plt.tight_layout()\n",
    "from textblob import TextBlob\n",
    "from chart_studio import plotly\n",
    "import plotly.express as px"
   ]
  },
  {
   "cell_type": "code",
   "execution_count": 230,
   "metadata": {},
   "outputs": [],
   "source": [
    "# Filepaths \n",
    "\n",
    "#Cleaned files from M2\n",
    "path_to_file = ['quotes-2015.json-001.bz2','quotes-2016.json-002.bz2','quotes-2017.json.bz2',\n",
    "                  'quotes-2018-004.json.bz2','quotes-2019-005.json.bz2','quotes-2020.json.bz2']\n",
    "\n",
    "# Path to files after adding media and remove unnesceceray columns\n",
    "files_with_sentiment = ['clean-quotes-2015_with_sentiment.csv.bz2','clean-quotes-2016_with_sentiment.csv.bz2','clean-quotes-2017_with_sentiment.csv.bz2',\n",
    "                  'clean-quotes-2018_with_sentiment.csv.bz2','clean-quotes-2019_with_sentiment.csv.bz2','clean-quotes-2020_with_sentiment.csv.bz2']"
   ]
  },
  {
   "cell_type": "code",
   "execution_count": 231,
   "metadata": {},
   "outputs": [],
   "source": [
    "# The media outlets that will be taken into concern for the project\n",
    "\n",
    "media_outlets = ['nytimes', 'wsj', 'womansday', 'nbcnews', 'foxnews', 'aarp', 'usmagazine', 'espn', 'usatoday', \n",
    "'newstoday', 'sportingnews', 'theguardian', 'people', 'tmz', 'mtv', 'cnn', 'msn', 'reuters', 'timesrepublican', \n",
    "'nationalgeographic', 'latimes', 'washingtonpost', 'startribune', 'chicagotribune', 'usnews', 'theathletic', \n",
    "'rollingstone', 'vanityfair', 'intouchweekly', 'starmagazine', 'bbc', 'independent', 'thesun', 'thetimes',\n",
    "'express', 'dailymail', 'mirror', 'economist', ]\n",
    "\n",
    "\n",
    "#Same media oulets sorted by category\n",
    "newspapers = ['nytimes', 'wsj','foxnews', 'aarp','usatoday', 'newstoday', 'reuters', 'timesrepublican', \n",
    "'latimes', 'washingtonpost', 'startribune', 'cnn',  'chicagotribune', 'usnews', 'nbcnews', 'theguardian',\n",
    "'bbc', 'independent', 'thesun', 'thetimes','express', 'dailymail', 'mirror', 'economist']\n",
    "\n",
    "celebmagazines = ['usmagazine', 'people','tmz', 'intouchweekly', 'starmagazine']\n",
    "\n",
    "other = ['mtv', 'msn','nationalgeographic', 'vanityfair', 'rollingstone', 'womansday']\n",
    "\n",
    "sport = ['espn', 'sportingnews', 'theathletic']\n",
    "\n"
   ]
  },
  {
   "cell_type": "code",
   "execution_count": 232,
   "metadata": {},
   "outputs": [
    {
     "ename": "FileNotFoundError",
     "evalue": "[Errno 2] No such file or directory: 'quotes-2015.json-001.bz2'",
     "output_type": "error",
     "traceback": [
      "\u001b[1;31m---------------------------------------------------------------------------\u001b[0m",
      "\u001b[1;31mFileNotFoundError\u001b[0m                         Traceback (most recent call last)",
      "\u001b[1;32m~\\AppData\\Local\\Temp/ipykernel_7196/4261877240.py\u001b[0m in \u001b[0;36m<module>\u001b[1;34m\u001b[0m\n\u001b[0;32m      5\u001b[0m \u001b[1;32mfor\u001b[0m \u001b[0mx\u001b[0m \u001b[1;32min\u001b[0m \u001b[0mrange\u001b[0m\u001b[1;33m(\u001b[0m\u001b[0mlen\u001b[0m\u001b[1;33m(\u001b[0m\u001b[0mpath_to_file\u001b[0m\u001b[1;33m)\u001b[0m\u001b[1;33m)\u001b[0m\u001b[1;33m:\u001b[0m\u001b[1;33m\u001b[0m\u001b[1;33m\u001b[0m\u001b[0m\n\u001b[0;32m      6\u001b[0m \u001b[1;31m# Reading the data in chunks\u001b[0m\u001b[1;33m\u001b[0m\u001b[1;33m\u001b[0m\u001b[1;33m\u001b[0m\u001b[0m\n\u001b[1;32m----> 7\u001b[1;33m   \u001b[0mdf_reader\u001b[0m \u001b[1;33m=\u001b[0m \u001b[0mpd\u001b[0m\u001b[1;33m.\u001b[0m\u001b[0mread_json\u001b[0m\u001b[1;33m(\u001b[0m\u001b[0mpath_to_file\u001b[0m\u001b[1;33m[\u001b[0m\u001b[0mx\u001b[0m\u001b[1;33m]\u001b[0m\u001b[1;33m,\u001b[0m \u001b[0mlines\u001b[0m\u001b[1;33m=\u001b[0m\u001b[1;32mTrue\u001b[0m\u001b[1;33m,\u001b[0m \u001b[0mcompression\u001b[0m\u001b[1;33m=\u001b[0m\u001b[1;34m'bz2'\u001b[0m\u001b[1;33m,\u001b[0m \u001b[0mchunksize\u001b[0m\u001b[1;33m=\u001b[0m\u001b[1;36m500000\u001b[0m\u001b[1;33m)\u001b[0m\u001b[1;33m\u001b[0m\u001b[1;33m\u001b[0m\u001b[0m\n\u001b[0m\u001b[0;32m      8\u001b[0m   \u001b[1;32mfor\u001b[0m \u001b[0mchunk\u001b[0m \u001b[1;32min\u001b[0m \u001b[0mdf_reader\u001b[0m\u001b[1;33m:\u001b[0m\u001b[1;33m\u001b[0m\u001b[1;33m\u001b[0m\u001b[0m\n\u001b[0;32m      9\u001b[0m \u001b[1;33m\u001b[0m\u001b[0m\n",
      "\u001b[1;32m~\\anaconda3\\envs\\ADA\\lib\\site-packages\\pandas\\util\\_decorators.py\u001b[0m in \u001b[0;36mwrapper\u001b[1;34m(*args, **kwargs)\u001b[0m\n\u001b[0;32m    212\u001b[0m                 \u001b[1;32melse\u001b[0m\u001b[1;33m:\u001b[0m\u001b[1;33m\u001b[0m\u001b[1;33m\u001b[0m\u001b[0m\n\u001b[0;32m    213\u001b[0m                     \u001b[0mkwargs\u001b[0m\u001b[1;33m[\u001b[0m\u001b[0mnew_arg_name\u001b[0m\u001b[1;33m]\u001b[0m \u001b[1;33m=\u001b[0m \u001b[0mnew_arg_value\u001b[0m\u001b[1;33m\u001b[0m\u001b[1;33m\u001b[0m\u001b[0m\n\u001b[1;32m--> 214\u001b[1;33m             \u001b[1;32mreturn\u001b[0m \u001b[0mfunc\u001b[0m\u001b[1;33m(\u001b[0m\u001b[1;33m*\u001b[0m\u001b[0margs\u001b[0m\u001b[1;33m,\u001b[0m \u001b[1;33m**\u001b[0m\u001b[0mkwargs\u001b[0m\u001b[1;33m)\u001b[0m\u001b[1;33m\u001b[0m\u001b[1;33m\u001b[0m\u001b[0m\n\u001b[0m\u001b[0;32m    215\u001b[0m \u001b[1;33m\u001b[0m\u001b[0m\n\u001b[0;32m    216\u001b[0m         \u001b[1;32mreturn\u001b[0m \u001b[0mcast\u001b[0m\u001b[1;33m(\u001b[0m\u001b[0mF\u001b[0m\u001b[1;33m,\u001b[0m \u001b[0mwrapper\u001b[0m\u001b[1;33m)\u001b[0m\u001b[1;33m\u001b[0m\u001b[1;33m\u001b[0m\u001b[0m\n",
      "\u001b[1;32m~\\anaconda3\\envs\\ADA\\lib\\site-packages\\pandas\\io\\json\\_json.py\u001b[0m in \u001b[0;36mread_json\u001b[1;34m(path_or_buf, orient, typ, dtype, convert_axes, convert_dates, keep_default_dates, numpy, precise_float, date_unit, encoding, lines, chunksize, compression)\u001b[0m\n\u001b[0;32m    586\u001b[0m     )\n\u001b[0;32m    587\u001b[0m \u001b[1;33m\u001b[0m\u001b[0m\n\u001b[1;32m--> 588\u001b[1;33m     json_reader = JsonReader(\n\u001b[0m\u001b[0;32m    589\u001b[0m         \u001b[0mfilepath_or_buffer\u001b[0m\u001b[1;33m,\u001b[0m\u001b[1;33m\u001b[0m\u001b[1;33m\u001b[0m\u001b[0m\n\u001b[0;32m    590\u001b[0m         \u001b[0morient\u001b[0m\u001b[1;33m=\u001b[0m\u001b[0morient\u001b[0m\u001b[1;33m,\u001b[0m\u001b[1;33m\u001b[0m\u001b[1;33m\u001b[0m\u001b[0m\n",
      "\u001b[1;32m~\\anaconda3\\envs\\ADA\\lib\\site-packages\\pandas\\io\\json\\_json.py\u001b[0m in \u001b[0;36m__init__\u001b[1;34m(self, filepath_or_buffer, orient, typ, dtype, convert_axes, convert_dates, keep_default_dates, numpy, precise_float, date_unit, encoding, lines, chunksize, compression)\u001b[0m\n\u001b[0;32m    662\u001b[0m                 \u001b[1;32mraise\u001b[0m \u001b[0mValueError\u001b[0m\u001b[1;33m(\u001b[0m\u001b[1;34m\"chunksize can only be passed if lines=True\"\u001b[0m\u001b[1;33m)\u001b[0m\u001b[1;33m\u001b[0m\u001b[1;33m\u001b[0m\u001b[0m\n\u001b[0;32m    663\u001b[0m \u001b[1;33m\u001b[0m\u001b[0m\n\u001b[1;32m--> 664\u001b[1;33m         \u001b[0mdata\u001b[0m \u001b[1;33m=\u001b[0m \u001b[0mself\u001b[0m\u001b[1;33m.\u001b[0m\u001b[0m_get_data_from_filepath\u001b[0m\u001b[1;33m(\u001b[0m\u001b[0mfilepath_or_buffer\u001b[0m\u001b[1;33m)\u001b[0m\u001b[1;33m\u001b[0m\u001b[1;33m\u001b[0m\u001b[0m\n\u001b[0m\u001b[0;32m    665\u001b[0m         \u001b[0mself\u001b[0m\u001b[1;33m.\u001b[0m\u001b[0mdata\u001b[0m \u001b[1;33m=\u001b[0m \u001b[0mself\u001b[0m\u001b[1;33m.\u001b[0m\u001b[0m_preprocess_data\u001b[0m\u001b[1;33m(\u001b[0m\u001b[0mdata\u001b[0m\u001b[1;33m)\u001b[0m\u001b[1;33m\u001b[0m\u001b[1;33m\u001b[0m\u001b[0m\n\u001b[0;32m    666\u001b[0m \u001b[1;33m\u001b[0m\u001b[0m\n",
      "\u001b[1;32m~\\anaconda3\\envs\\ADA\\lib\\site-packages\\pandas\\io\\json\\_json.py\u001b[0m in \u001b[0;36m_get_data_from_filepath\u001b[1;34m(self, filepath_or_buffer)\u001b[0m\n\u001b[0;32m    701\u001b[0m \u001b[1;33m\u001b[0m\u001b[0m\n\u001b[0;32m    702\u001b[0m         \u001b[1;32mif\u001b[0m \u001b[0mexists\u001b[0m \u001b[1;32mor\u001b[0m \u001b[0mself\u001b[0m\u001b[1;33m.\u001b[0m\u001b[0mcompression\u001b[0m \u001b[1;32mis\u001b[0m \u001b[1;32mnot\u001b[0m \u001b[1;32mNone\u001b[0m\u001b[1;33m:\u001b[0m\u001b[1;33m\u001b[0m\u001b[1;33m\u001b[0m\u001b[0m\n\u001b[1;32m--> 703\u001b[1;33m             data, _ = get_handle(\n\u001b[0m\u001b[0;32m    704\u001b[0m                 \u001b[0mfilepath_or_buffer\u001b[0m\u001b[1;33m,\u001b[0m\u001b[1;33m\u001b[0m\u001b[1;33m\u001b[0m\u001b[0m\n\u001b[0;32m    705\u001b[0m                 \u001b[1;34m\"r\"\u001b[0m\u001b[1;33m,\u001b[0m\u001b[1;33m\u001b[0m\u001b[1;33m\u001b[0m\u001b[0m\n",
      "\u001b[1;32m~\\anaconda3\\envs\\ADA\\lib\\site-packages\\pandas\\io\\common.py\u001b[0m in \u001b[0;36mget_handle\u001b[1;34m(path_or_buf, mode, encoding, compression, memory_map, is_text)\u001b[0m\n\u001b[0;32m    389\u001b[0m         \u001b[1;32melif\u001b[0m \u001b[0mcompression\u001b[0m \u001b[1;33m==\u001b[0m \u001b[1;34m\"bz2\"\u001b[0m\u001b[1;33m:\u001b[0m\u001b[1;33m\u001b[0m\u001b[1;33m\u001b[0m\u001b[0m\n\u001b[0;32m    390\u001b[0m             \u001b[1;32mif\u001b[0m \u001b[0mis_path\u001b[0m\u001b[1;33m:\u001b[0m\u001b[1;33m\u001b[0m\u001b[1;33m\u001b[0m\u001b[0m\n\u001b[1;32m--> 391\u001b[1;33m                 \u001b[0mf\u001b[0m \u001b[1;33m=\u001b[0m \u001b[0mbz2\u001b[0m\u001b[1;33m.\u001b[0m\u001b[0mBZ2File\u001b[0m\u001b[1;33m(\u001b[0m\u001b[0mpath_or_buf\u001b[0m\u001b[1;33m,\u001b[0m \u001b[0mmode\u001b[0m\u001b[1;33m)\u001b[0m\u001b[1;33m\u001b[0m\u001b[1;33m\u001b[0m\u001b[0m\n\u001b[0m\u001b[0;32m    392\u001b[0m             \u001b[1;32melse\u001b[0m\u001b[1;33m:\u001b[0m\u001b[1;33m\u001b[0m\u001b[1;33m\u001b[0m\u001b[0m\n\u001b[0;32m    393\u001b[0m                 \u001b[0mf\u001b[0m \u001b[1;33m=\u001b[0m \u001b[0mbz2\u001b[0m\u001b[1;33m.\u001b[0m\u001b[0mBZ2File\u001b[0m\u001b[1;33m(\u001b[0m\u001b[0mpath_or_buf\u001b[0m\u001b[1;33m)\u001b[0m\u001b[1;33m\u001b[0m\u001b[1;33m\u001b[0m\u001b[0m\n",
      "\u001b[1;32m~\\anaconda3\\envs\\ADA\\lib\\bz2.py\u001b[0m in \u001b[0;36m__init__\u001b[1;34m(self, filename, mode, buffering, compresslevel)\u001b[0m\n\u001b[0;32m     94\u001b[0m \u001b[1;33m\u001b[0m\u001b[0m\n\u001b[0;32m     95\u001b[0m         \u001b[1;32mif\u001b[0m \u001b[0misinstance\u001b[0m\u001b[1;33m(\u001b[0m\u001b[0mfilename\u001b[0m\u001b[1;33m,\u001b[0m \u001b[1;33m(\u001b[0m\u001b[0mstr\u001b[0m\u001b[1;33m,\u001b[0m \u001b[0mbytes\u001b[0m\u001b[1;33m,\u001b[0m \u001b[0mos\u001b[0m\u001b[1;33m.\u001b[0m\u001b[0mPathLike\u001b[0m\u001b[1;33m)\u001b[0m\u001b[1;33m)\u001b[0m\u001b[1;33m:\u001b[0m\u001b[1;33m\u001b[0m\u001b[1;33m\u001b[0m\u001b[0m\n\u001b[1;32m---> 96\u001b[1;33m             \u001b[0mself\u001b[0m\u001b[1;33m.\u001b[0m\u001b[0m_fp\u001b[0m \u001b[1;33m=\u001b[0m \u001b[0m_builtin_open\u001b[0m\u001b[1;33m(\u001b[0m\u001b[0mfilename\u001b[0m\u001b[1;33m,\u001b[0m \u001b[0mmode\u001b[0m\u001b[1;33m)\u001b[0m\u001b[1;33m\u001b[0m\u001b[1;33m\u001b[0m\u001b[0m\n\u001b[0m\u001b[0;32m     97\u001b[0m             \u001b[0mself\u001b[0m\u001b[1;33m.\u001b[0m\u001b[0m_closefp\u001b[0m \u001b[1;33m=\u001b[0m \u001b[1;32mTrue\u001b[0m\u001b[1;33m\u001b[0m\u001b[1;33m\u001b[0m\u001b[0m\n\u001b[0;32m     98\u001b[0m             \u001b[0mself\u001b[0m\u001b[1;33m.\u001b[0m\u001b[0m_mode\u001b[0m \u001b[1;33m=\u001b[0m \u001b[0mmode_code\u001b[0m\u001b[1;33m\u001b[0m\u001b[1;33m\u001b[0m\u001b[0m\n",
      "\u001b[1;31mFileNotFoundError\u001b[0m: [Errno 2] No such file or directory: 'quotes-2015.json-001.bz2'"
     ]
    }
   ],
   "source": [
    "# Initializing a sentiment analyzer\n",
    "sent_analyzer = SentimentIntensityAnalyzer()\n",
    "\n",
    "#Iterating through the cleaned files\n",
    "for x in range(len(path_to_file)):\n",
    "# Reading the data in chunks\n",
    "  df_reader = pd.read_json(path_to_file[x], lines=True, compression='bz2', chunksize=500000)\n",
    "  for chunk in df_reader:\n",
    "\n",
    "    #Dropping unnecesary columns\n",
    "    chunk = chunk.drop(axis=1, columns = 'quoteID')\n",
    "    chunk = chunk.drop(axis=1, columns = 'phase')\n",
    "    chunk = chunk.drop(axis=1, columns = 'speaker')\n",
    "    chunk = chunk.drop(axis=1, columns = 'qids')\n",
    "    chunk = chunk.drop(axis=1, columns = 'numOccurrences')\n",
    "    chunk = chunk.drop(axis=1, columns = 'probas')\n",
    "    \n",
    "    #Adding media outlet if substring found in url\n",
    "    chunk = get_media(chunk, media_outlets)\n",
    "    \n",
    "    # Dropping NaN values in media_outlet\n",
    "    chunk = chunk.dropna(axis=0, subset=['media_outlet'])\n",
    "    chunk = chunk.drop(axis=1, columns = 'urls')\n",
    "\n",
    "    # Calculating compound sentiment scores for the chunk and append the values in a column\n",
    "    chunk['compound'] = chunk['quotation'].apply(lambda x: sent_analyzer.polarity_scores(x)['compound'])\n",
    "    chunk['positive'] = chunk['quotation'].apply(lambda x: sent_analyzer.polarity_scores(x)['pos'])\n",
    "    chunk['negative'] = chunk['quotation'].apply(lambda x: sent_analyzer.polarity_scores(x)['neg'])\n",
    "    chunk['blob_polar'] = chunk['quotation'].apply(lambda x: TextBlob(x).sentiment.polarity)\n",
    "    chunk['blob_subj'] = chunk['quotation'].apply(lambda x: TextBlob(x).sentiment.subjectivity)\n",
    "    chunk = chunk.drop(axis=1, columns = 'quotation')\n",
    "\n",
    "    #Adding date_short\n",
    "    chunk['date_short'] = pd.to_datetime(chunk['date']).dt.date\n",
    "    chunk = chunk.drop(axis=1, columns = 'date')\n",
    "    \n",
    "    #Writing chunk to csv\n",
    "    chunk.to_csv(path_or_buf= files_with_sentiment[x], compression='bz2', mode = 'a')\n",
    "    print('chunk OK')\n"
   ]
  },
  {
   "cell_type": "markdown",
   "metadata": {},
   "source": [
    "## Start media analysis"
   ]
  },
  {
   "cell_type": "code",
   "execution_count": null,
   "metadata": {},
   "outputs": [],
   "source": [
    "# Files with media\n",
    "files = ['media_outlet_with_sentiment/clean-quotes-2015_with_sentiment.csv.bz2',\n",
    "    'media_outlet_with_sentiment/clean-quotes-2016_with_sentiment.csv.bz2',\n",
    "    'media_outlet_with_sentiment/clean-quotes-2017_with_sentiment.csv.bz2',\n",
    "    'media_outlet_with_sentiment/clean-quotes-2018_with_sentiment.csv.bz2',\n",
    "    'media_outlet_with_sentiment/clean-quotes-2019_with_sentiment.csv.bz2',\n",
    "    'media_outlet_with_sentiment/clean-quotes-2020_with_sentiment.csv.bz2']"
   ]
  },
  {
   "cell_type": "code",
   "execution_count": null,
   "metadata": {},
   "outputs": [
    {
     "name": "stderr",
     "output_type": "stream",
     "text": [
      "C:\\Users\\asbjo\\anaconda3\\envs\\ADA\\lib\\site-packages\\IPython\\core\\interactiveshell.py:3441: DtypeWarning:\n",
      "\n",
      "Columns (2,3,4,5,6) have mixed types.Specify dtype option on import or set low_memory=False.\n",
      "\n"
     ]
    }
   ],
   "source": [
    "#Reading in all files to one dataframe\n",
    "\n",
    "df = pd.concat(map(pd.read_csv, [files[0], files[1],files[2], files[3], files[4], files[5]]))"
   ]
  },
  {
   "cell_type": "code",
   "execution_count": null,
   "metadata": {},
   "outputs": [],
   "source": [
    "# Ensure that each column have the right datatype\n",
    "\n",
    "df['compound'] = pd.to_numeric(df.compound, errors='coerce')\n",
    "df['positive'] = pd.to_numeric(df.positive, errors='coerce')\n",
    "df['negative'] = pd.to_numeric(df.negative, errors='coerce')\n",
    "df['blob_polar'] = pd.to_numeric(df.blob_polar, errors='coerce')\n",
    "df['blob_subj'] = pd.to_numeric(df.blob_subj, errors='coerce')\n",
    "\n",
    "\n",
    "def add_category(row):\n",
    "    if (row['media_outlet'] in newspapers):\n",
    "        val = 'Newspaper'\n",
    "    elif (row['media_outlet'] in celebmagazines):\n",
    "        val = 'Celebrity magazine'\n",
    "    elif (row['media_outlet'] in other):\n",
    "        val = 'Other'\n",
    "    else:\n",
    "        val = 'Sports'\n",
    "    return val\n",
    "\n",
    "df['category'] = df.apply(add_category, axis=1)\n",
    "\n",
    "df = df.drop(axis=1, columns = 'Unnamed: 0')"
   ]
  },
  {
   "cell_type": "code",
   "execution_count": null,
   "metadata": {},
   "outputs": [
    {
     "data": {
      "text/html": [
       "<div>\n",
       "<style scoped>\n",
       "    .dataframe tbody tr th:only-of-type {\n",
       "        vertical-align: middle;\n",
       "    }\n",
       "\n",
       "    .dataframe tbody tr th {\n",
       "        vertical-align: top;\n",
       "    }\n",
       "\n",
       "    .dataframe thead th {\n",
       "        text-align: right;\n",
       "    }\n",
       "</style>\n",
       "<table border=\"1\" class=\"dataframe\">\n",
       "  <thead>\n",
       "    <tr style=\"text-align: right;\">\n",
       "      <th></th>\n",
       "      <th>compound</th>\n",
       "      <th>positive</th>\n",
       "      <th>negative</th>\n",
       "      <th>blob_polar</th>\n",
       "      <th>blob_subj</th>\n",
       "    </tr>\n",
       "  </thead>\n",
       "  <tbody>\n",
       "    <tr>\n",
       "      <th>count</th>\n",
       "      <td>1.191700e+07</td>\n",
       "      <td>1.191700e+07</td>\n",
       "      <td>1.191700e+07</td>\n",
       "      <td>1.191700e+07</td>\n",
       "      <td>1.191700e+07</td>\n",
       "    </tr>\n",
       "    <tr>\n",
       "      <th>mean</th>\n",
       "      <td>1.522685e-01</td>\n",
       "      <td>1.239034e-01</td>\n",
       "      <td>6.751057e-02</td>\n",
       "      <td>1.070985e-01</td>\n",
       "      <td>3.821861e-01</td>\n",
       "    </tr>\n",
       "    <tr>\n",
       "      <th>std</th>\n",
       "      <td>4.606570e-01</td>\n",
       "      <td>1.416592e-01</td>\n",
       "      <td>1.135490e-01</td>\n",
       "      <td>2.694825e-01</td>\n",
       "      <td>3.010360e-01</td>\n",
       "    </tr>\n",
       "    <tr>\n",
       "      <th>min</th>\n",
       "      <td>-9.991000e-01</td>\n",
       "      <td>0.000000e+00</td>\n",
       "      <td>0.000000e+00</td>\n",
       "      <td>-1.000000e+00</td>\n",
       "      <td>0.000000e+00</td>\n",
       "    </tr>\n",
       "    <tr>\n",
       "      <th>25%</th>\n",
       "      <td>-2.580000e-02</td>\n",
       "      <td>0.000000e+00</td>\n",
       "      <td>0.000000e+00</td>\n",
       "      <td>0.000000e+00</td>\n",
       "      <td>0.000000e+00</td>\n",
       "    </tr>\n",
       "    <tr>\n",
       "      <th>50%</th>\n",
       "      <td>0.000000e+00</td>\n",
       "      <td>9.000000e-02</td>\n",
       "      <td>0.000000e+00</td>\n",
       "      <td>0.000000e+00</td>\n",
       "      <td>4.000000e-01</td>\n",
       "    </tr>\n",
       "    <tr>\n",
       "      <th>75%</th>\n",
       "      <td>5.267000e-01</td>\n",
       "      <td>2.070000e-01</td>\n",
       "      <td>1.070000e-01</td>\n",
       "      <td>2.500000e-01</td>\n",
       "      <td>6.000000e-01</td>\n",
       "    </tr>\n",
       "    <tr>\n",
       "      <th>max</th>\n",
       "      <td>9.996000e-01</td>\n",
       "      <td>1.000000e+00</td>\n",
       "      <td>1.000000e+00</td>\n",
       "      <td>1.000000e+00</td>\n",
       "      <td>1.000000e+00</td>\n",
       "    </tr>\n",
       "  </tbody>\n",
       "</table>\n",
       "</div>"
      ],
      "text/plain": [
       "           compound      positive      negative    blob_polar     blob_subj\n",
       "count  1.191700e+07  1.191700e+07  1.191700e+07  1.191700e+07  1.191700e+07\n",
       "mean   1.522685e-01  1.239034e-01  6.751057e-02  1.070985e-01  3.821861e-01\n",
       "std    4.606570e-01  1.416592e-01  1.135490e-01  2.694825e-01  3.010360e-01\n",
       "min   -9.991000e-01  0.000000e+00  0.000000e+00 -1.000000e+00  0.000000e+00\n",
       "25%   -2.580000e-02  0.000000e+00  0.000000e+00  0.000000e+00  0.000000e+00\n",
       "50%    0.000000e+00  9.000000e-02  0.000000e+00  0.000000e+00  4.000000e-01\n",
       "75%    5.267000e-01  2.070000e-01  1.070000e-01  2.500000e-01  6.000000e-01\n",
       "max    9.996000e-01  1.000000e+00  1.000000e+00  1.000000e+00  1.000000e+00"
      ]
     },
     "execution_count": 163,
     "metadata": {},
     "output_type": "execute_result"
    }
   ],
   "source": [
    "df.describe()"
   ]
  },
  {
   "cell_type": "code",
   "execution_count": null,
   "metadata": {},
   "outputs": [
    {
     "data": {
      "text/html": [
       "<div>\n",
       "<style scoped>\n",
       "    .dataframe tbody tr th:only-of-type {\n",
       "        vertical-align: middle;\n",
       "    }\n",
       "\n",
       "    .dataframe tbody tr th {\n",
       "        vertical-align: top;\n",
       "    }\n",
       "\n",
       "    .dataframe thead th {\n",
       "        text-align: right;\n",
       "    }\n",
       "</style>\n",
       "<table border=\"1\" class=\"dataframe\">\n",
       "  <thead>\n",
       "    <tr style=\"text-align: right;\">\n",
       "      <th></th>\n",
       "      <th>media_outlet</th>\n",
       "      <th>compound</th>\n",
       "      <th>positive</th>\n",
       "      <th>negative</th>\n",
       "      <th>blob_polar</th>\n",
       "      <th>blob_subj</th>\n",
       "      <th>date_short</th>\n",
       "    </tr>\n",
       "  </thead>\n",
       "  <tbody>\n",
       "    <tr>\n",
       "      <th>0</th>\n",
       "      <td>washingtonpost</td>\n",
       "      <td>0.2500</td>\n",
       "      <td>0.083</td>\n",
       "      <td>0.000</td>\n",
       "      <td>0.000000</td>\n",
       "      <td>0.000000</td>\n",
       "      <td>2015-12-13</td>\n",
       "    </tr>\n",
       "    <tr>\n",
       "      <th>1</th>\n",
       "      <td>startribune</td>\n",
       "      <td>0.0000</td>\n",
       "      <td>0.000</td>\n",
       "      <td>0.000</td>\n",
       "      <td>0.062500</td>\n",
       "      <td>0.354167</td>\n",
       "      <td>2015-10-02</td>\n",
       "    </tr>\n",
       "    <tr>\n",
       "      <th>2</th>\n",
       "      <td>mtv</td>\n",
       "      <td>0.0000</td>\n",
       "      <td>0.000</td>\n",
       "      <td>0.000</td>\n",
       "      <td>-0.083333</td>\n",
       "      <td>0.216667</td>\n",
       "      <td>2015-10-09</td>\n",
       "    </tr>\n",
       "    <tr>\n",
       "      <th>3</th>\n",
       "      <td>express</td>\n",
       "      <td>-0.3400</td>\n",
       "      <td>0.073</td>\n",
       "      <td>0.094</td>\n",
       "      <td>0.600000</td>\n",
       "      <td>1.000000</td>\n",
       "      <td>2015-11-17</td>\n",
       "    </tr>\n",
       "    <tr>\n",
       "      <th>4</th>\n",
       "      <td>reuters</td>\n",
       "      <td>-0.2732</td>\n",
       "      <td>0.000</td>\n",
       "      <td>0.110</td>\n",
       "      <td>-0.187500</td>\n",
       "      <td>0.500000</td>\n",
       "      <td>2015-02-06</td>\n",
       "    </tr>\n",
       "  </tbody>\n",
       "</table>\n",
       "</div>"
      ],
      "text/plain": [
       "     media_outlet  compound  positive  negative  blob_polar  blob_subj  \\\n",
       "0  washingtonpost    0.2500     0.083     0.000    0.000000   0.000000   \n",
       "1     startribune    0.0000     0.000     0.000    0.062500   0.354167   \n",
       "2             mtv    0.0000     0.000     0.000   -0.083333   0.216667   \n",
       "3         express   -0.3400     0.073     0.094    0.600000   1.000000   \n",
       "4         reuters   -0.2732     0.000     0.110   -0.187500   0.500000   \n",
       "\n",
       "   date_short  \n",
       "0  2015-12-13  \n",
       "1  2015-10-02  \n",
       "2  2015-10-09  \n",
       "3  2015-11-17  \n",
       "4  2015-02-06  "
      ]
     },
     "execution_count": 164,
     "metadata": {},
     "output_type": "execute_result"
    }
   ],
   "source": [
    "df.head()"
   ]
  },
  {
   "cell_type": "code",
   "execution_count": null,
   "metadata": {},
   "outputs": [],
   "source": [
    "#Dropping rows not of interest. To small samples\n",
    "\n",
    "df = df[df.media_outlet != 'media_outlet']\n",
    "df = df[df.media_outlet != 'starmagazine']"
   ]
  },
  {
   "cell_type": "code",
   "execution_count": null,
   "metadata": {},
   "outputs": [
    {
     "data": {
      "text/plain": [
       "media_outlet     object\n",
       "compound        float64\n",
       "positive        float64\n",
       "negative        float64\n",
       "blob_polar      float64\n",
       "blob_subj       float64\n",
       "date_short       object\n",
       "dtype: object"
      ]
     },
     "execution_count": 166,
     "metadata": {},
     "output_type": "execute_result"
    }
   ],
   "source": [
    "df.dtypes"
   ]
  },
  {
   "cell_type": "code",
   "execution_count": null,
   "metadata": {},
   "outputs": [
    {
     "data": {
      "text/plain": [
       "media_outlet\n",
       "aarp                    10647\n",
       "bbc                    633483\n",
       "chicagotribune         302545\n",
       "cnn                    542743\n",
       "dailymail              104839\n",
       "economist               30048\n",
       "espn                   889974\n",
       "express               1219309\n",
       "foxnews                448658\n",
       "independent            706913\n",
       "intouchweekly           18645\n",
       "latimes                523155\n",
       "mirror                 899252\n",
       "msn                    892391\n",
       "mtv                     60622\n",
       "nationalgeographic      14120\n",
       "nbcnews                196008\n",
       "newstoday               58413\n",
       "nytimes                669739\n",
       "people                1015700\n",
       "reuters                233767\n",
       "rollingstone            70055\n",
       "sportingnews            98512\n",
       "startribune            214206\n",
       "theathletic               193\n",
       "theguardian            422700\n",
       "thesun                 391473\n",
       "thetimes                86669\n",
       "timesrepublican         10467\n",
       "tmz                     20019\n",
       "usatoday               217865\n",
       "usmagazine              72427\n",
       "usnews                  50768\n",
       "vanityfair              79712\n",
       "washingtonpost         555325\n",
       "womansday                7486\n",
       "wsj                    148151\n",
       "Name: compound, dtype: int64"
      ]
     },
     "execution_count": 167,
     "metadata": {},
     "output_type": "execute_result"
    }
   ],
   "source": [
    "# Counting the number of qoutes per dataframe\n",
    "media = df.groupby(by='media_outlet').count()\n",
    "media['compound']"
   ]
  },
  {
   "cell_type": "code",
   "execution_count": 233,
   "metadata": {},
   "outputs": [
    {
     "name": "stdout",
     "output_type": "stream",
     "text": [
      "                    compound  positive  negative  blob_polar  blob_subj\n",
      "media_outlet                                                           \n",
      "aarp                0.183836  0.131132  0.060667    0.126072   0.374449\n",
      "bbc                 0.153965  0.125621  0.067830    0.109402   0.382687\n",
      "chicagotribune      0.185827  0.130868  0.056026    0.124636   0.375464\n",
      "cnn                 0.095295  0.110996  0.075607    0.088059   0.367360\n",
      "dailymail           0.187443  0.133669  0.061801    0.114771   0.378852\n",
      "economist           0.102192  0.106390  0.072124    0.089859   0.373278\n",
      "espn                0.278250  0.145377  0.049500    0.147783   0.404517\n",
      "express             0.163235  0.121867  0.064466    0.106405   0.388064\n",
      "foxnews             0.076495  0.112459  0.084968    0.080844   0.371784\n",
      "independent         0.161623  0.124508  0.067617    0.108429   0.389633\n",
      "intouchweekly       0.165652  0.142469  0.073848    0.123912   0.415321\n",
      "latimes             0.153323  0.123426  0.063203    0.109983   0.368558\n",
      "mirror              0.160879  0.129979  0.070235    0.109335   0.400109\n",
      "msn                 0.115606  0.115248  0.072714    0.095105   0.377244\n",
      "mtv                 0.234072  0.141683  0.057314    0.134443   0.410578\n",
      "nationalgeographic  0.093581  0.099284  0.059935    0.097730   0.380689\n",
      "nbcnews             0.076978  0.108449  0.079126    0.084946   0.367146\n",
      "newstoday           0.193942  0.128289  0.058385    0.122465   0.387792\n",
      "nytimes             0.085280  0.109771  0.072273    0.085834   0.343863\n",
      "people              0.167555  0.129060  0.067402    0.114517   0.392129\n",
      "reuters             0.119560  0.116939  0.073184    0.091926   0.379604\n",
      "rollingstone        0.126240  0.115878  0.068627    0.094108   0.372821\n",
      "sportingnews        0.260013  0.142864  0.053068    0.144375   0.403348\n",
      "startribune         0.201327  0.134079  0.053238    0.129532   0.378024\n",
      "theathletic         0.174704  0.135959  0.062477    0.126849   0.379356\n",
      "theguardian         0.118336  0.116120  0.074918    0.092561   0.384001\n",
      "thesun              0.143466  0.132226  0.074396    0.104349   0.396626\n",
      "thetimes            0.169441  0.127955  0.059283    0.119120   0.366986\n",
      "timesrepublican     0.258052  0.134534  0.044864    0.150235   0.400762\n",
      "tmz                 0.129816  0.132279  0.081084    0.098428   0.363039\n",
      "usatoday            0.196227  0.133505  0.059257    0.126009   0.390706\n",
      "usmagazine          0.236536  0.154404  0.059317    0.142679   0.416816\n",
      "usnews              0.083012  0.108974  0.077022    0.087411   0.369065\n",
      "vanityfair          0.121082  0.114180  0.069472    0.094713   0.380916\n",
      "washingtonpost      0.112803  0.115204  0.071702    0.092025   0.361353\n",
      "womansday           0.227933  0.147299  0.059954    0.136795   0.426340\n",
      "wsj                 0.128148  0.118370  0.064802    0.102832   0.361352\n"
     ]
    }
   ],
   "source": [
    "#Printing mean scores related to mediaoutlets\n",
    "\n",
    "print(df.groupby(by = 'media_outlet').mean())"
   ]
  },
  {
   "cell_type": "code",
   "execution_count": 234,
   "metadata": {},
   "outputs": [],
   "source": [
    "# Making dataframes from a selection of media outlets\n",
    "\n",
    "nytimes = df.loc[df['media_outlet']=='nytimes']\n",
    "wsj = df.loc[df['media_outlet']=='wsj']\n",
    "people = df.loc[df['media_outlet']=='people']\n",
    "womansday = df.loc[df['media_outlet'] == 'womansday'] \n",
    "mtv = df.loc[df['media_outlet'] == 'mtv']\n",
    "tmz = df.loc[df['media_outlet'] == 'tmz']\n",
    "espn = df.loc[df['media_outlet'] == 'espn']"
   ]
  },
  {
   "cell_type": "code",
   "execution_count": 235,
   "metadata": {},
   "outputs": [
    {
     "data": {
      "image/png": "[encoded data removed]",
      "text/plain": [
       "<Figure size 1008x720 with 7 Axes>"
      ]
     },
     "metadata": {},
     "output_type": "display_data"
    }
   ],
   "source": [
    "#Plotting the compound score distributions of the outlet selection\n",
    "\n",
    "fig, ax = plt.subplots(7,1, figsize=(14,10))\n",
    "\n",
    "ax[0].hist(nytimes.compound, bins=15)\n",
    "ax[0].set_xlabel('Compound score')\n",
    "ax[0].set_ylabel('Frequency')\n",
    "ax[1].hist(wsj.compound, bins=15)\n",
    "ax[1].set_xlabel('Compound score')\n",
    "ax[1].set_ylabel('Frequency')\n",
    "ax[2].hist(people.compound, bins = 15)\n",
    "ax[2].set_xlabel('Compound score')\n",
    "ax[2].set_ylabel('Frequency')\n",
    "ax[3].hist(womansday.compound, bins = 15)\n",
    "ax[3].set_xlabel('Compound score')\n",
    "ax[3].set_ylabel('Frequency')\n",
    "ax[4].hist(mtv.compound, bins = 15)\n",
    "ax[4].set_xlabel('Compound score')\n",
    "ax[4].set_ylabel('Frequency')\n",
    "ax[5].hist(tmz.compound, bins = 15)\n",
    "ax[5].set_xlabel('Compound score')\n",
    "ax[5].set_ylabel('Frequency')\n",
    "ax[6].hist(espn.compound, bins = 15)\n",
    "ax[6].set_xlabel('Compound score')\n",
    "ax[6].set_ylabel('Frequency')\n",
    "\n",
    "fig.tight_layout()\n",
    "\n",
    "plt.show()"
   ]
  },
  {
   "cell_type": "code",
   "execution_count": 236,
   "metadata": {},
   "outputs": [
    {
     "data": {
      "text/plain": [
       "Text(0.5, 1.0, '')"
      ]
     },
     "execution_count": 236,
     "metadata": {},
     "output_type": "execute_result"
    },
    {
     "data": {
      "image/png": "[encoded data removed]",
      "text/plain": [
       "<Figure size 720x720 with 1 Axes>"
      ]
     },
     "metadata": {},
     "output_type": "display_data"
    }
   ],
   "source": [
    "mean_polar = df.groupby(by = ['media_outlet'])['blob_polar'].mean()\n",
    "mean_subj = df.groupby(by = ['media_outlet'])['blob_subj'].mean()\n",
    "\n",
    "\n",
    "name = mean_polar.keys()\n",
    "\n",
    "def pltcolor(lst):\n",
    "    cols=[]\n",
    "    for l in lst:\n",
    "        if (l in newspapers):\n",
    "            cols.append('red')\n",
    "        elif (l in celebmagazines):\n",
    "            cols.append('blue')\n",
    "        elif (l in other):\n",
    "            cols.append('yellow')\n",
    "        else:\n",
    "            cols.append('green')\n",
    "    return cols\n",
    "# Create the colors list using the function above\n",
    "cols=pltcolor(mean_polar.keys())\n",
    "\n",
    "fig, ax = plt.subplots(figsize=(10,10))\n",
    "ax.scatter(mean_polar, mean_subj, c=cols)\n",
    "for i, txt in enumerate(name):\n",
    "    ax.annotate(txt, (mean_subj[i], mean_polar[i]))\n",
    "ax.set_title('')\n"
   ]
  },
  {
   "cell_type": "code",
   "execution_count": 237,
   "metadata": {},
   "outputs": [],
   "source": [
    "df_scatter = pd.DataFrame()\n",
    "df_scatter['numquotes'] = df.groupby(by = ['media_outlet'])['media_outlet'].count()\n",
    "df_scatter['Polarity'] = df.groupby(by = ['media_outlet'])['compound'].mean()\n",
    "df_scatter['Subjectivity'] = df.groupby(by = ['media_outlet'])['blob_subj'].mean()\n",
    "df_scatter['media_outlet'] = df_scatter.index\n",
    "df_scatter['category'] = df_scatter.apply(add_category, axis=1)"
   ]
  },
  {
   "cell_type": "code",
   "execution_count": 238,
   "metadata": {},
   "outputs": [
    {
     "data": {
      "application/vnd.plotly.v1+json": {
       "config": {
        "plotlyServerURL": "https://plot.ly"
       },
       "data": [
        {
         "hovertemplate": "category=Newspaper<br>Polarity=%{x}<br>Subjectivity=%{y}<br>numquotes=%{marker.size}<br>media_outlet=%{text}<extra></extra>",
         "legendgroup": "Newspaper",
         "marker": {
          "color": "#636efa",
          "size": [
           10647,
           633483,
           302545,
           542743,
           104839,
           30048,
           1219309,
           448658,
           706913,
           523155,
           899252,
           196008,
           58413,
           669739,
           233767,
           214206,
           422700,
           391473,
           86669,
           10467,
           217865,
           50768,
           555325,
           148151
          ],
          "sizemode": "area",
          "sizeref": 3048.2725,
          "symbol": "circle"
         },
         "mode": "markers+text",
         "name": "Newspaper",
         "orientation": "v",
         "showlegend": true,
         "text": [
          "aarp",
          "bbc",
          "chicagotribune",
          "cnn",
          "dailymail",
          "economist",
          "express",
          "foxnews",
          "independent",
          "latimes",
          "mirror",
          "nbcnews",
          "newstoday",
          "nytimes",
          "reuters",
          "startribune",
          "theguardian",
          "thesun",
          "thetimes",
          "timesrepublican",
          "usatoday",
          "usnews",
          "washingtonpost",
          "wsj"
         ],
         "textposition": "bottom right",
         "type": "scatter",
         "x": [
          0.18383589743589673,
          0.15396481073676932,
          0.1858272911467367,
          0.09529527603301687,
          0.18744341418746974,
          0.10219167332268336,
          0.16323537946498037,
          0.07649547026912555,
          0.16162294794402263,
          0.15332329558155802,
          0.16087882251023364,
          0.07697787947430518,
          0.1939418280177371,
          0.08528024693197732,
          0.11956022150262026,
          0.20132665938394168,
          0.11833569387270494,
          0.14346605078763044,
          0.16944093966700477,
          0.258052173497659,
          0.19622670415164342,
          0.08301203317050075,
          0.11280290964746065,
          0.12814827169577306
         ],
         "xaxis": "x",
         "y": [
          0.37444873940855283,
          0.3826866088964548,
          0.3754635301401023,
          0.3673595221043469,
          0.3788517132594974,
          0.3732775154114441,
          0.38806425908411574,
          0.37178417425224825,
          0.389633153625474,
          0.36855834930055664,
          0.4001091472419341,
          0.36714583932474576,
          0.3877921464713478,
          0.34386292591034756,
          0.37960356540792095,
          0.37802431783563206,
          0.38400083227471815,
          0.3966257517730122,
          0.3669861414026695,
          0.4007623441449086,
          0.3907055217239117,
          0.3690654815499488,
          0.3613530721162659,
          0.3613523464292976
         ],
         "yaxis": "y"
        },
        {
         "hovertemplate": "category=Sports<br>Polarity=%{x}<br>Subjectivity=%{y}<br>numquotes=%{marker.size}<br>media_outlet=%{text}<extra></extra>",
         "legendgroup": "Sports",
         "marker": {
          "color": "#EF553B",
          "size": [
           889974,
           98512,
           193
          ],
          "sizemode": "area",
          "sizeref": 3048.2725,
          "symbol": "circle"
         },
         "mode": "markers+text",
         "name": "Sports",
         "orientation": "v",
         "showlegend": true,
         "text": [
          "espn",
          "sportingnews",
          "theathletic"
         ],
         "textposition": "bottom right",
         "type": "scatter",
         "x": [
          0.27825008719375127,
          0.2600133770505192,
          0.17470362694300512
         ],
         "xaxis": "x",
         "y": [
          0.40451685397952636,
          0.4033481210929586,
          0.37935611074736436
         ],
         "yaxis": "y"
        },
        {
         "hovertemplate": "category=Celebrity magazine<br>Polarity=%{x}<br>Subjectivity=%{y}<br>numquotes=%{marker.size}<br>media_outlet=%{text}<extra></extra>",
         "legendgroup": "Celebrity magazine",
         "marker": {
          "color": "#00cc96",
          "size": [
           18645,
           1015700,
           20019,
           72427
          ],
          "sizemode": "area",
          "sizeref": 3048.2725,
          "symbol": "circle"
         },
         "mode": "markers+text",
         "name": "Celebrity magazine",
         "orientation": "v",
         "showlegend": true,
         "text": [
          "intouchweekly",
          "people",
          "tmz",
          "usmagazine"
         ],
         "textposition": "bottom right",
         "type": "scatter",
         "x": [
          0.1656521802091711,
          0.16755527330905703,
          0.12981596982866228,
          0.236536356607337
         ],
         "xaxis": "x",
         "y": [
          0.41532078011875134,
          0.3921289398031538,
          0.3630387359587357,
          0.41681613934607675
         ],
         "yaxis": "y"
        },
        {
         "hovertemplate": "category=Other<br>Polarity=%{x}<br>Subjectivity=%{y}<br>numquotes=%{marker.size}<br>media_outlet=%{text}<extra></extra>",
         "legendgroup": "Other",
         "marker": {
          "color": "#ab63fa",
          "size": [
           892391,
           60622,
           14120,
           70055,
           79712,
           7486
          ],
          "sizemode": "area",
          "sizeref": 3048.2725,
          "symbol": "circle"
         },
         "mode": "markers+text",
         "name": "Other",
         "orientation": "v",
         "showlegend": true,
         "text": [
          "msn",
          "mtv",
          "nationalgeographic",
          "rollingstone",
          "vanityfair",
          "womansday"
         ],
         "textposition": "bottom right",
         "type": "scatter",
         "x": [
          0.11560608869872355,
          0.2340718682986343,
          0.09358089235127469,
          0.12623998144315443,
          0.12108200020072354,
          0.22793258081752665
         ],
         "xaxis": "x",
         "y": [
          0.37724354731559356,
          0.410578016543632,
          0.3806892277143651,
          0.3728209166086783,
          0.3809155108312891,
          0.4263403100597505
         ],
         "yaxis": "y"
        }
       ],
       "layout": {
        "legend": {
         "itemsizing": "constant",
         "title": {
          "text": "category"
         },
         "tracegroupgap": 0
        },
        "margin": {
         "t": 60
        },
        "template": {
         "data": {
          "bar": [
           {
            "error_x": {
             "color": "#2a3f5f"
            },
            "error_y": {
             "color": "#2a3f5f"
            },
            "marker": {
             "line": {
              "color": "#E5ECF6",
              "width": 0.5
             },
             "pattern": {
              "fillmode": "overlay",
              "size": 10,
              "solidity": 0.2
             }
            },
            "type": "bar"
           }
          ],
          "barpolar": [
           {
            "marker": {
             "line": {
              "color": "#E5ECF6",
              "width": 0.5
             },
             "pattern": {
              "fillmode": "overlay",
              "size": 10,
              "solidity": 0.2
             }
            },
            "type": "barpolar"
           }
          ],
          "carpet": [
           {
            "aaxis": {
             "endlinecolor": "#2a3f5f",
             "gridcolor": "white",
             "linecolor": "white",
             "minorgridcolor": "white",
             "startlinecolor": "#2a3f5f"
            },
            "baxis": {
             "endlinecolor": "#2a3f5f",
             "gridcolor": "white",
             "linecolor": "white",
             "minorgridcolor": "white",
             "startlinecolor": "#2a3f5f"
            },
            "type": "carpet"
           }
          ],
          "choropleth": [
           {
            "colorbar": {
             "outlinewidth": 0,
             "ticks": ""
            },
            "type": "choropleth"
           }
          ],
          "contour": [
           {
            "colorbar": {
             "outlinewidth": 0,
             "ticks": ""
            },
            "colorscale": [
             [
              0,
              "#0d0887"
             ],
             [
              0.1111111111111111,
              "#46039f"
             ],
             [
              0.2222222222222222,
              "#7201a8"
             ],
             [
              0.3333333333333333,
              "#9c179e"
             ],
             [
              0.4444444444444444,
              "#bd3786"
             ],
             [
              0.5555555555555556,
              "#d8576b"
             ],
             [
              0.6666666666666666,
              "#ed7953"
             ],
             [
              0.7777777777777778,
              "#fb9f3a"
             ],
             [
              0.8888888888888888,
              "#fdca26"
             ],
             [
              1,
              "#f0f921"
             ]
            ],
            "type": "contour"
           }
          ],
          "contourcarpet": [
           {
            "colorbar": {
             "outlinewidth": 0,
             "ticks": ""
            },
            "type": "contourcarpet"
           }
          ],
          "heatmap": [
           {
            "colorbar": {
             "outlinewidth": 0,
             "ticks": ""
            },
            "colorscale": [
             [
              0,
              "#0d0887"
             ],
             [
              0.1111111111111111,
              "#46039f"
             ],
             [
              0.2222222222222222,
              "#7201a8"
             ],
             [
              0.3333333333333333,
              "#9c179e"
             ],
             [
              0.4444444444444444,
              "#bd3786"
             ],
             [
              0.5555555555555556,
              "#d8576b"
             ],
             [
              0.6666666666666666,
              "#ed7953"
             ],
             [
              0.7777777777777778,
              "#fb9f3a"
             ],
             [
              0.8888888888888888,
              "#fdca26"
             ],
             [
              1,
              "#f0f921"
             ]
            ],
            "type": "heatmap"
           }
          ],
          "heatmapgl": [
           {
            "colorbar": {
             "outlinewidth": 0,
             "ticks": ""
            },
            "colorscale": [
             [
              0,
              "#0d0887"
             ],
             [
              0.1111111111111111,
              "#46039f"
             ],
             [
              0.2222222222222222,
              "#7201a8"
             ],
             [
              0.3333333333333333,
              "#9c179e"
             ],
             [
              0.4444444444444444,
              "#bd3786"
             ],
             [
              0.5555555555555556,
              "#d8576b"
             ],
             [
              0.6666666666666666,
              "#ed7953"
             ],
             [
              0.7777777777777778,
              "#fb9f3a"
             ],
             [
              0.8888888888888888,
              "#fdca26"
             ],
             [
              1,
              "#f0f921"
             ]
            ],
            "type": "heatmapgl"
           }
          ],
          "histogram": [
           {
            "marker": {
             "pattern": {
              "fillmode": "overlay",
              "size": 10,
              "solidity": 0.2
             }
            },
            "type": "histogram"
           }
          ],
          "histogram2d": [
           {
            "colorbar": {
             "outlinewidth": 0,
             "ticks": ""
            },
            "colorscale": [
             [
              0,
              "#0d0887"
             ],
             [
              0.1111111111111111,
              "#46039f"
             ],
             [
              0.2222222222222222,
              "#7201a8"
             ],
             [
              0.3333333333333333,
              "#9c179e"
             ],
             [
              0.4444444444444444,
              "#bd3786"
             ],
             [
              0.5555555555555556,
              "#d8576b"
             ],
             [
              0.6666666666666666,
              "#ed7953"
             ],
             [
              0.7777777777777778,
              "#fb9f3a"
             ],
             [
              0.8888888888888888,
              "#fdca26"
             ],
             [
              1,
              "#f0f921"
             ]
            ],
            "type": "histogram2d"
           }
          ],
          "histogram2dcontour": [
           {
            "colorbar": {
             "outlinewidth": 0,
             "ticks": ""
            },
            "colorscale": [
             [
              0,
              "#0d0887"
             ],
             [
              0.1111111111111111,
              "#46039f"
             ],
             [
              0.2222222222222222,
              "#7201a8"
             ],
             [
              0.3333333333333333,
              "#9c179e"
             ],
             [
              0.4444444444444444,
              "#bd3786"
             ],
             [
              0.5555555555555556,
              "#d8576b"
             ],
             [
              0.6666666666666666,
              "#ed7953"
             ],
             [
              0.7777777777777778,
              "#fb9f3a"
             ],
             [
              0.8888888888888888,
              "#fdca26"
             ],
             [
              1,
              "#f0f921"
             ]
            ],
            "type": "histogram2dcontour"
           }
          ],
          "mesh3d": [
           {
            "colorbar": {
             "outlinewidth": 0,
             "ticks": ""
            },
            "type": "mesh3d"
           }
          ],
          "parcoords": [
           {
            "line": {
             "colorbar": {
              "outlinewidth": 0,
              "ticks": ""
             }
            },
            "type": "parcoords"
           }
          ],
          "pie": [
           {
            "automargin": true,
            "type": "pie"
           }
          ],
          "scatter": [
           {
            "marker": {
             "colorbar": {
              "outlinewidth": 0,
              "ticks": ""
             }
            },
            "type": "scatter"
           }
          ],
          "scatter3d": [
           {
            "line": {
             "colorbar": {
              "outlinewidth": 0,
              "ticks": ""
             }
            },
            "marker": {
             "colorbar": {
              "outlinewidth": 0,
              "ticks": ""
             }
            },
            "type": "scatter3d"
           }
          ],
          "scattercarpet": [
           {
            "marker": {
             "colorbar": {
              "outlinewidth": 0,
              "ticks": ""
             }
            },
            "type": "scattercarpet"
           }
          ],
          "scattergeo": [
           {
            "marker": {
             "colorbar": {
              "outlinewidth": 0,
              "ticks": ""
             }
            },
            "type": "scattergeo"
           }
          ],
          "scattergl": [
           {
            "marker": {
             "colorbar": {
              "outlinewidth": 0,
              "ticks": ""
             }
            },
            "type": "scattergl"
           }
          ],
          "scattermapbox": [
           {
            "marker": {
             "colorbar": {
              "outlinewidth": 0,
              "ticks": ""
             }
            },
            "type": "scattermapbox"
           }
          ],
          "scatterpolar": [
           {
            "marker": {
             "colorbar": {
              "outlinewidth": 0,
              "ticks": ""
             }
            },
            "type": "scatterpolar"
           }
          ],
          "scatterpolargl": [
           {
            "marker": {
             "colorbar": {
              "outlinewidth": 0,
              "ticks": ""
             }
            },
            "type": "scatterpolargl"
           }
          ],
          "scatterternary": [
           {
            "marker": {
             "colorbar": {
              "outlinewidth": 0,
              "ticks": ""
             }
            },
            "type": "scatterternary"
           }
          ],
          "surface": [
           {
            "colorbar": {
             "outlinewidth": 0,
             "ticks": ""
            },
            "colorscale": [
             [
              0,
              "#0d0887"
             ],
             [
              0.1111111111111111,
              "#46039f"
             ],
             [
              0.2222222222222222,
              "#7201a8"
             ],
             [
              0.3333333333333333,
              "#9c179e"
             ],
             [
              0.4444444444444444,
              "#bd3786"
             ],
             [
              0.5555555555555556,
              "#d8576b"
             ],
             [
              0.6666666666666666,
              "#ed7953"
             ],
             [
              0.7777777777777778,
              "#fb9f3a"
             ],
             [
              0.8888888888888888,
              "#fdca26"
             ],
             [
              1,
              "#f0f921"
             ]
            ],
            "type": "surface"
           }
          ],
          "table": [
           {
            "cells": {
             "fill": {
              "color": "#EBF0F8"
             },
             "line": {
              "color": "white"
             }
            },
            "header": {
             "fill": {
              "color": "#C8D4E3"
             },
             "line": {
              "color": "white"
             }
            },
            "type": "table"
           }
          ]
         },
         "layout": {
          "annotationdefaults": {
           "arrowcolor": "#2a3f5f",
           "arrowhead": 0,
           "arrowwidth": 1
          },
          "autotypenumbers": "strict",
          "coloraxis": {
           "colorbar": {
            "outlinewidth": 0,
            "ticks": ""
           }
          },
          "colorscale": {
           "diverging": [
            [
             0,
             "#8e0152"
            ],
            [
             0.1,
             "#c51b7d"
            ],
            [
             0.2,
             "#de77ae"
            ],
            [
             0.3,
             "#f1b6da"
            ],
            [
             0.4,
             "#fde0ef"
            ],
            [
             0.5,
             "#f7f7f7"
            ],
            [
             0.6,
             "#e6f5d0"
            ],
            [
             0.7,
             "#b8e186"
            ],
            [
             0.8,
             "#7fbc41"
            ],
            [
             0.9,
             "#4d9221"
            ],
            [
             1,
             "#276419"
            ]
           ],
           "sequential": [
            [
             0,
             "#0d0887"
            ],
            [
             0.1111111111111111,
             "#46039f"
            ],
            [
             0.2222222222222222,
             "#7201a8"
            ],
            [
             0.3333333333333333,
             "#9c179e"
            ],
            [
             0.4444444444444444,
             "#bd3786"
            ],
            [
             0.5555555555555556,
             "#d8576b"
            ],
            [
             0.6666666666666666,
             "#ed7953"
            ],
            [
             0.7777777777777778,
             "#fb9f3a"
            ],
            [
             0.8888888888888888,
             "#fdca26"
            ],
            [
             1,
             "#f0f921"
            ]
           ],
           "sequentialminus": [
            [
             0,
             "#0d0887"
            ],
            [
             0.1111111111111111,
             "#46039f"
            ],
            [
             0.2222222222222222,
             "#7201a8"
            ],
            [
             0.3333333333333333,
             "#9c179e"
            ],
            [
             0.4444444444444444,
             "#bd3786"
            ],
            [
             0.5555555555555556,
             "#d8576b"
            ],
            [
             0.6666666666666666,
             "#ed7953"
            ],
            [
             0.7777777777777778,
             "#fb9f3a"
            ],
            [
             0.8888888888888888,
             "#fdca26"
            ],
            [
             1,
             "#f0f921"
            ]
           ]
          },
          "colorway": [
           "#636efa",
           "#EF553B",
           "#00cc96",
           "#ab63fa",
           "#FFA15A",
           "#19d3f3",
           "#FF6692",
           "#B6E880",
           "#FF97FF",
           "#FECB52"
          ],
          "font": {
           "color": "#2a3f5f"
          },
          "geo": {
           "bgcolor": "white",
           "lakecolor": "white",
           "landcolor": "#E5ECF6",
           "showlakes": true,
           "showland": true,
           "subunitcolor": "white"
          },
          "hoverlabel": {
           "align": "left"
          },
          "hovermode": "closest",
          "mapbox": {
           "style": "light"
          },
          "paper_bgcolor": "white",
          "plot_bgcolor": "#E5ECF6",
          "polar": {
           "angularaxis": {
            "gridcolor": "white",
            "linecolor": "white",
            "ticks": ""
           },
           "bgcolor": "#E5ECF6",
           "radialaxis": {
            "gridcolor": "white",
            "linecolor": "white",
            "ticks": ""
           }
          },
          "scene": {
           "xaxis": {
            "backgroundcolor": "#E5ECF6",
            "gridcolor": "white",
            "gridwidth": 2,
            "linecolor": "white",
            "showbackground": true,
            "ticks": "",
            "zerolinecolor": "white"
           },
           "yaxis": {
            "backgroundcolor": "#E5ECF6",
            "gridcolor": "white",
            "gridwidth": 2,
            "linecolor": "white",
            "showbackground": true,
            "ticks": "",
            "zerolinecolor": "white"
           },
           "zaxis": {
            "backgroundcolor": "#E5ECF6",
            "gridcolor": "white",
            "gridwidth": 2,
            "linecolor": "white",
            "showbackground": true,
            "ticks": "",
            "zerolinecolor": "white"
           }
          },
          "shapedefaults": {
           "line": {
            "color": "#2a3f5f"
           }
          },
          "ternary": {
           "aaxis": {
            "gridcolor": "white",
            "linecolor": "white",
            "ticks": ""
           },
           "baxis": {
            "gridcolor": "white",
            "linecolor": "white",
            "ticks": ""
           },
           "bgcolor": "#E5ECF6",
           "caxis": {
            "gridcolor": "white",
            "linecolor": "white",
            "ticks": ""
           }
          },
          "title": {
           "x": 0.05
          },
          "xaxis": {
           "automargin": true,
           "gridcolor": "white",
           "linecolor": "white",
           "ticks": "",
           "title": {
            "standoff": 15
           },
           "zerolinecolor": "white",
           "zerolinewidth": 2
          },
          "yaxis": {
           "automargin": true,
           "gridcolor": "white",
           "linecolor": "white",
           "ticks": "",
           "title": {
            "standoff": 15
           },
           "zerolinecolor": "white",
           "zerolinewidth": 2
          }
         }
        },
        "title": {
         "text": "Average polarity and subjectivity per media outlet"
        },
        "xaxis": {
         "anchor": "y",
         "domain": [
          0,
          1
         ],
         "title": {
          "text": "Polarity"
         }
        },
        "yaxis": {
         "anchor": "x",
         "domain": [
          0,
          1
         ],
         "title": {
          "text": "Subjectivity"
         }
        }
       }
      }
     },
     "metadata": {},
     "output_type": "display_data"
    }
   ],
   "source": [
    "fig = px.scatter(df_scatter, x='Polarity', y = 'Subjectivity', color='category', size='numquotes', text='media_outlet')\n",
    "fig.update_layout(title = 'Average polarity and subjectivity per media outlet')\n",
    "fig.update_traces(textposition=\"bottom right\")\n",
    "fig.show()\n",
    "fig.write_html('images/scatterplot_medias.html')\n"
   ]
  },
  {
   "cell_type": "markdown",
   "metadata": {},
   "source": [
    "## T-testing for polarity scores"
   ]
  },
  {
   "cell_type": "code",
   "execution_count": 239,
   "metadata": {},
   "outputs": [
    {
     "name": "stdout",
     "output_type": "stream",
     "text": [
      "0.08528024693197732\n",
      "0.22793258081752665\n",
      "0.12814827169577306\n",
      "0.27825008719375127\n"
     ]
    }
   ],
   "source": [
    "print(nytimes.compound.mean())\n",
    "print(womansday.compound.mean())\n",
    "print(wsj.compound.mean())\n",
    "print(espn.compound.mean())"
   ]
  },
  {
   "cell_type": "code",
   "execution_count": 240,
   "metadata": {},
   "outputs": [
    {
     "name": "stdout",
     "output_type": "stream",
     "text": [
      "Two sided paired t-test with null hypothesis: The mean mood in NYtimes equals the mean mood in Wall Street Journal:\n",
      "t-value: -35.834473757551145, p-value: 2.1812370930100076e-280\n"
     ]
    }
   ],
   "source": [
    "t, p = stats.ttest_ind(nytimes['compound'], wsj['compound'], equal_var=False)\n",
    "print(\"Two sided paired t-test with null hypothesis: The mean mood in NYtimes equals the mean mood in Wall Street Journal:\")\n",
    "print(f\"t-value: {t}, p-value: {p}\")"
   ]
  },
  {
   "cell_type": "code",
   "execution_count": 241,
   "metadata": {},
   "outputs": [
    {
     "name": "stdout",
     "output_type": "stream",
     "text": [
      "Two sided paired t-test with null hypothesis: The mean mood in NYtimes equals the mean mood in ESPN:\n",
      "t-value: -282.18957162795226, p-value: 0.0\n"
     ]
    }
   ],
   "source": [
    "t, p = stats.ttest_ind(nytimes['compound'], espn['compound'], equal_var=False)\n",
    "print(\"Two sided paired t-test with null hypothesis: The mean mood in NYtimes equals the mean mood in ESPN:\")\n",
    "print(f\"t-value: {t}, p-value: {p}\")"
   ]
  },
  {
   "cell_type": "code",
   "execution_count": 312,
   "metadata": {},
   "outputs": [
    {
     "name": "stdout",
     "output_type": "stream",
     "text": [
      "Two sided paired t-test with null hypothesis: The mean mood in NYtimes equals the mean mood in ESPN:\n",
      "t-value: -25.90305738105446, p-value: 7.535646575194922e-142\n"
     ]
    }
   ],
   "source": [
    "t, p = stats.ttest_ind(nytimes['compound'], womansday['compound'], equal_var=False)\n",
    "print(\"Two sided paired t-test with null hypothesis: The mean mood in NYtimes equals the mean mood in ESPN:\")\n",
    "print(f\"t-value: {t}, p-value: {p}\")"
   ]
  },
  {
   "cell_type": "code",
   "execution_count": 242,
   "metadata": {},
   "outputs": [
    {
     "name": "stdout",
     "output_type": "stream",
     "text": [
      "Two sided paired t-test with null hypothesis: The mean blob polar score in NYtimes equals the mean mood in ESPN:\n",
      "t-value: -142.41662557831026, p-value: 0.0\n"
     ]
    }
   ],
   "source": [
    "t, p = stats.ttest_ind(nytimes['blob_polar'], espn['blob_polar'], equal_var=False)\n",
    "print(\"Two sided paired t-test with null hypothesis: The mean blob polar score in NYtimes equals the mean mood in ESPN:\")\n",
    "print(f\"t-value: {t}, p-value: {p}\")"
   ]
  },
  {
   "cell_type": "code",
   "execution_count": 301,
   "metadata": {},
   "outputs": [],
   "source": [
    "df['category'] = df.apply(add_category, axis=1)"
   ]
  },
  {
   "cell_type": "code",
   "execution_count": 307,
   "metadata": {},
   "outputs": [
    {
     "data": {
      "text/html": [
       "<div>\n",
       "<style scoped>\n",
       "    .dataframe tbody tr th:only-of-type {\n",
       "        vertical-align: middle;\n",
       "    }\n",
       "\n",
       "    .dataframe tbody tr th {\n",
       "        vertical-align: top;\n",
       "    }\n",
       "\n",
       "    .dataframe thead th {\n",
       "        text-align: right;\n",
       "    }\n",
       "</style>\n",
       "<table border=\"1\" class=\"dataframe\">\n",
       "  <thead>\n",
       "    <tr style=\"text-align: right;\">\n",
       "      <th></th>\n",
       "      <th>media_outlet</th>\n",
       "      <th>compound</th>\n",
       "      <th>positive</th>\n",
       "      <th>negative</th>\n",
       "      <th>blob_polar</th>\n",
       "      <th>blob_subj</th>\n",
       "      <th>date_short</th>\n",
       "      <th>category</th>\n",
       "    </tr>\n",
       "  </thead>\n",
       "  <tbody>\n",
       "    <tr>\n",
       "      <th>0</th>\n",
       "      <td>washingtonpost</td>\n",
       "      <td>0.2500</td>\n",
       "      <td>0.083</td>\n",
       "      <td>0.000</td>\n",
       "      <td>0.000000</td>\n",
       "      <td>0.000000</td>\n",
       "      <td>2015-12-13</td>\n",
       "      <td>Newspaper</td>\n",
       "    </tr>\n",
       "    <tr>\n",
       "      <th>1</th>\n",
       "      <td>startribune</td>\n",
       "      <td>0.0000</td>\n",
       "      <td>0.000</td>\n",
       "      <td>0.000</td>\n",
       "      <td>0.062500</td>\n",
       "      <td>0.354167</td>\n",
       "      <td>2015-10-02</td>\n",
       "      <td>Newspaper</td>\n",
       "    </tr>\n",
       "    <tr>\n",
       "      <th>2</th>\n",
       "      <td>mtv</td>\n",
       "      <td>0.0000</td>\n",
       "      <td>0.000</td>\n",
       "      <td>0.000</td>\n",
       "      <td>-0.083333</td>\n",
       "      <td>0.216667</td>\n",
       "      <td>2015-10-09</td>\n",
       "      <td>Other</td>\n",
       "    </tr>\n",
       "    <tr>\n",
       "      <th>3</th>\n",
       "      <td>express</td>\n",
       "      <td>-0.3400</td>\n",
       "      <td>0.073</td>\n",
       "      <td>0.094</td>\n",
       "      <td>0.600000</td>\n",
       "      <td>1.000000</td>\n",
       "      <td>2015-11-17</td>\n",
       "      <td>Newspaper</td>\n",
       "    </tr>\n",
       "    <tr>\n",
       "      <th>4</th>\n",
       "      <td>reuters</td>\n",
       "      <td>-0.2732</td>\n",
       "      <td>0.000</td>\n",
       "      <td>0.110</td>\n",
       "      <td>-0.187500</td>\n",
       "      <td>0.500000</td>\n",
       "      <td>2015-02-06</td>\n",
       "      <td>Newspaper</td>\n",
       "    </tr>\n",
       "  </tbody>\n",
       "</table>\n",
       "</div>"
      ],
      "text/plain": [
       "     media_outlet  compound  positive  negative  blob_polar  blob_subj  \\\n",
       "0  washingtonpost    0.2500     0.083     0.000    0.000000   0.000000   \n",
       "1     startribune    0.0000     0.000     0.000    0.062500   0.354167   \n",
       "2             mtv    0.0000     0.000     0.000   -0.083333   0.216667   \n",
       "3         express   -0.3400     0.073     0.094    0.600000   1.000000   \n",
       "4         reuters   -0.2732     0.000     0.110   -0.187500   0.500000   \n",
       "\n",
       "   date_short   category  \n",
       "0  2015-12-13  Newspaper  \n",
       "1  2015-10-02  Newspaper  \n",
       "2  2015-10-09      Other  \n",
       "3  2015-11-17  Newspaper  \n",
       "4  2015-02-06  Newspaper  "
      ]
     },
     "execution_count": 307,
     "metadata": {},
     "output_type": "execute_result"
    }
   ],
   "source": [
    "df.head()"
   ]
  },
  {
   "cell_type": "code",
   "execution_count": 308,
   "metadata": {},
   "outputs": [
    {
     "name": "stdout",
     "output_type": "stream",
     "text": [
      "Two sided paired t-test with null hypothesis: The mean blob polar score in NYtimes equals the mean mood in ESPN:\n",
      "t-value: -290.27011618667115, p-value: 0.0\n"
     ]
    }
   ],
   "source": [
    "t, p = stats.ttest_ind(df.loc[df['category'] == 'Newspaper'].compound, df.loc[df['category'] == 'Sports'].compound, equal_var=False)\n",
    "print(\"Two sided paired t-test with null hypothesis: The mean blob polar score in NYtimes equals the mean mood in ESPN:\")\n",
    "print(f\"t-value: {t}, p-value: {p}\")"
   ]
  },
  {
   "cell_type": "code",
   "execution_count": 309,
   "metadata": {},
   "outputs": [
    {
     "name": "stdout",
     "output_type": "stream",
     "text": [
      "Two sided paired t-test with null hypothesis: The mean blob polar score in NYtimes equals the mean mood in ESPN:\n",
      "t-value: -66.56030181078874, p-value: 0.0\n"
     ]
    }
   ],
   "source": [
    "t, p = stats.ttest_ind(df.loc[df['category'] == 'Newspaper'].compound, df.loc[df['category'] == 'Celebrity magazine'].compound, equal_var=False)\n",
    "print(\"Two sided paired t-test with null hypothesis: The mean blob polar score in NYtimes equals the mean mood in ESPN:\")\n",
    "print(f\"t-value: {t}, p-value: {p}\")"
   ]
  },
  {
   "cell_type": "code",
   "execution_count": 311,
   "metadata": {},
   "outputs": [
    {
     "name": "stdout",
     "output_type": "stream",
     "text": [
      "Two sided paired t-test with null hypothesis: The mean blob polar score in NYtimes equals the mean mood in ESPN:\n",
      "t-value: -76.27134646588573, p-value: 0.0\n"
     ]
    }
   ],
   "source": [
    "t, p = stats.ttest_ind(df.loc[df['category'] == 'Other'].compound, df.loc[df['category'] == 'Celebrity magazine'].compound, equal_var=False)\n",
    "print(\"Two sided paired t-test with null hypothesis: The mean blob polar score in NYtimes equals the mean mood in ESPN:\")\n",
    "print(f\"t-value: {t}, p-value: {p}\")"
   ]
  },
  {
   "cell_type": "markdown",
   "metadata": {},
   "source": [
    "## Plotting distributions"
   ]
  },
  {
   "cell_type": "code",
   "execution_count": 260,
   "metadata": {},
   "outputs": [
    {
     "data": {
      "text/html": [
       "<div>\n",
       "<style scoped>\n",
       "    .dataframe tbody tr th:only-of-type {\n",
       "        vertical-align: middle;\n",
       "    }\n",
       "\n",
       "    .dataframe tbody tr th {\n",
       "        vertical-align: top;\n",
       "    }\n",
       "\n",
       "    .dataframe thead th {\n",
       "        text-align: right;\n",
       "    }\n",
       "</style>\n",
       "<table border=\"1\" class=\"dataframe\">\n",
       "  <thead>\n",
       "    <tr style=\"text-align: right;\">\n",
       "      <th></th>\n",
       "      <th>media_outlet</th>\n",
       "      <th>compound</th>\n",
       "      <th>positive</th>\n",
       "      <th>negative</th>\n",
       "      <th>blob_polar</th>\n",
       "      <th>blob_subj</th>\n",
       "      <th>date_short</th>\n",
       "      <th>category</th>\n",
       "    </tr>\n",
       "  </thead>\n",
       "  <tbody>\n",
       "    <tr>\n",
       "      <th>0</th>\n",
       "      <td>washingtonpost</td>\n",
       "      <td>0.25</td>\n",
       "      <td>0.083</td>\n",
       "      <td>0.000</td>\n",
       "      <td>0.00</td>\n",
       "      <td>0.00</td>\n",
       "      <td>2015-12-13</td>\n",
       "      <td>Newspaper</td>\n",
       "    </tr>\n",
       "    <tr>\n",
       "      <th>1</th>\n",
       "      <td>startribune</td>\n",
       "      <td>0.00</td>\n",
       "      <td>0.000</td>\n",
       "      <td>0.000</td>\n",
       "      <td>0.06</td>\n",
       "      <td>0.35</td>\n",
       "      <td>2015-10-02</td>\n",
       "      <td>Newspaper</td>\n",
       "    </tr>\n",
       "    <tr>\n",
       "      <th>2</th>\n",
       "      <td>mtv</td>\n",
       "      <td>0.00</td>\n",
       "      <td>0.000</td>\n",
       "      <td>0.000</td>\n",
       "      <td>-0.08</td>\n",
       "      <td>0.22</td>\n",
       "      <td>2015-10-09</td>\n",
       "      <td>Other</td>\n",
       "    </tr>\n",
       "    <tr>\n",
       "      <th>3</th>\n",
       "      <td>express</td>\n",
       "      <td>-0.34</td>\n",
       "      <td>0.073</td>\n",
       "      <td>0.094</td>\n",
       "      <td>0.60</td>\n",
       "      <td>1.00</td>\n",
       "      <td>2015-11-17</td>\n",
       "      <td>Newspaper</td>\n",
       "    </tr>\n",
       "    <tr>\n",
       "      <th>4</th>\n",
       "      <td>reuters</td>\n",
       "      <td>-0.27</td>\n",
       "      <td>0.000</td>\n",
       "      <td>0.110</td>\n",
       "      <td>-0.19</td>\n",
       "      <td>0.50</td>\n",
       "      <td>2015-02-06</td>\n",
       "      <td>Newspaper</td>\n",
       "    </tr>\n",
       "    <tr>\n",
       "      <th>...</th>\n",
       "      <td>...</td>\n",
       "      <td>...</td>\n",
       "      <td>...</td>\n",
       "      <td>...</td>\n",
       "      <td>...</td>\n",
       "      <td>...</td>\n",
       "      <td>...</td>\n",
       "      <td>...</td>\n",
       "    </tr>\n",
       "    <tr>\n",
       "      <th>607108</th>\n",
       "      <td>express</td>\n",
       "      <td>0.30</td>\n",
       "      <td>0.151</td>\n",
       "      <td>0.000</td>\n",
       "      <td>-0.08</td>\n",
       "      <td>0.70</td>\n",
       "      <td>2020-03-08</td>\n",
       "      <td>Newspaper</td>\n",
       "    </tr>\n",
       "    <tr>\n",
       "      <th>607109</th>\n",
       "      <td>espn</td>\n",
       "      <td>0.75</td>\n",
       "      <td>0.145</td>\n",
       "      <td>0.033</td>\n",
       "      <td>0.26</td>\n",
       "      <td>0.32</td>\n",
       "      <td>2020-03-02</td>\n",
       "      <td>Sports</td>\n",
       "    </tr>\n",
       "    <tr>\n",
       "      <th>607110</th>\n",
       "      <td>mirror</td>\n",
       "      <td>0.00</td>\n",
       "      <td>0.000</td>\n",
       "      <td>0.000</td>\n",
       "      <td>0.00</td>\n",
       "      <td>0.00</td>\n",
       "      <td>2020-01-13</td>\n",
       "      <td>Newspaper</td>\n",
       "    </tr>\n",
       "    <tr>\n",
       "      <th>607111</th>\n",
       "      <td>latimes</td>\n",
       "      <td>-0.13</td>\n",
       "      <td>0.000</td>\n",
       "      <td>0.097</td>\n",
       "      <td>-0.39</td>\n",
       "      <td>0.83</td>\n",
       "      <td>2020-02-22</td>\n",
       "      <td>Newspaper</td>\n",
       "    </tr>\n",
       "    <tr>\n",
       "      <th>607112</th>\n",
       "      <td>thesun</td>\n",
       "      <td>-0.51</td>\n",
       "      <td>0.000</td>\n",
       "      <td>0.623</td>\n",
       "      <td>0.00</td>\n",
       "      <td>0.00</td>\n",
       "      <td>2020-01-15</td>\n",
       "      <td>Newspaper</td>\n",
       "    </tr>\n",
       "  </tbody>\n",
       "</table>\n",
       "<p>11916999 rows × 8 columns</p>\n",
       "</div>"
      ],
      "text/plain": [
       "          media_outlet  compound  positive  negative  blob_polar  blob_subj  \\\n",
       "0       washingtonpost      0.25     0.083     0.000        0.00       0.00   \n",
       "1          startribune      0.00     0.000     0.000        0.06       0.35   \n",
       "2                  mtv      0.00     0.000     0.000       -0.08       0.22   \n",
       "3              express     -0.34     0.073     0.094        0.60       1.00   \n",
       "4              reuters     -0.27     0.000     0.110       -0.19       0.50   \n",
       "...                ...       ...       ...       ...         ...        ...   \n",
       "607108         express      0.30     0.151     0.000       -0.08       0.70   \n",
       "607109            espn      0.75     0.145     0.033        0.26       0.32   \n",
       "607110          mirror      0.00     0.000     0.000        0.00       0.00   \n",
       "607111         latimes     -0.13     0.000     0.097       -0.39       0.83   \n",
       "607112          thesun     -0.51     0.000     0.623        0.00       0.00   \n",
       "\n",
       "        date_short   category  \n",
       "0       2015-12-13  Newspaper  \n",
       "1       2015-10-02  Newspaper  \n",
       "2       2015-10-09      Other  \n",
       "3       2015-11-17  Newspaper  \n",
       "4       2015-02-06  Newspaper  \n",
       "...            ...        ...  \n",
       "607108  2020-03-08  Newspaper  \n",
       "607109  2020-03-02     Sports  \n",
       "607110  2020-01-13  Newspaper  \n",
       "607111  2020-02-22  Newspaper  \n",
       "607112  2020-01-15  Newspaper  \n",
       "\n",
       "[11916999 rows x 8 columns]"
      ]
     },
     "execution_count": 260,
     "metadata": {},
     "output_type": "execute_result"
    }
   ],
   "source": [
    "#Making a datafram with rounded scores to ease plotting\n",
    "\n",
    "df_rounded = df.copy()\n",
    "df_rounded['compound'] = df_rounded['compound'].apply(lambda x: round(x, 2))\n",
    "df_rounded['blob_polar'] = df_rounded['blob_polar'].apply(lambda x: round(x, 2))\n",
    "df_rounded['blob_subj'] = df_rounded['blob_subj'].apply(lambda x: round(x, 2))\n",
    "df_rounded['category'] = df_rounded.apply(add_category, axis=1)\n",
    "df_rounded"
   ]
  },
  {
   "cell_type": "code",
   "execution_count": 261,
   "metadata": {},
   "outputs": [
    {
     "data": {
      "text/html": [
       "<div>\n",
       "<style scoped>\n",
       "    .dataframe tbody tr th:only-of-type {\n",
       "        vertical-align: middle;\n",
       "    }\n",
       "\n",
       "    .dataframe tbody tr th {\n",
       "        vertical-align: top;\n",
       "    }\n",
       "\n",
       "    .dataframe thead th {\n",
       "        text-align: right;\n",
       "    }\n",
       "</style>\n",
       "<table border=\"1\" class=\"dataframe\">\n",
       "  <thead>\n",
       "    <tr style=\"text-align: right;\">\n",
       "      <th></th>\n",
       "      <th>category</th>\n",
       "      <th>blob_polar</th>\n",
       "      <th>count</th>\n",
       "    </tr>\n",
       "  </thead>\n",
       "  <tbody>\n",
       "    <tr>\n",
       "      <th>0</th>\n",
       "      <td>Celebrity magazine</td>\n",
       "      <td>-1.00</td>\n",
       "      <td>3205</td>\n",
       "    </tr>\n",
       "    <tr>\n",
       "      <th>1</th>\n",
       "      <td>Celebrity magazine</td>\n",
       "      <td>-0.99</td>\n",
       "      <td>2</td>\n",
       "    </tr>\n",
       "    <tr>\n",
       "      <th>2</th>\n",
       "      <td>Celebrity magazine</td>\n",
       "      <td>-0.98</td>\n",
       "      <td>12</td>\n",
       "    </tr>\n",
       "    <tr>\n",
       "      <th>3</th>\n",
       "      <td>Celebrity magazine</td>\n",
       "      <td>-0.97</td>\n",
       "      <td>35</td>\n",
       "    </tr>\n",
       "    <tr>\n",
       "      <th>4</th>\n",
       "      <td>Celebrity magazine</td>\n",
       "      <td>-0.96</td>\n",
       "      <td>2</td>\n",
       "    </tr>\n",
       "    <tr>\n",
       "      <th>...</th>\n",
       "      <td>...</td>\n",
       "      <td>...</td>\n",
       "      <td>...</td>\n",
       "    </tr>\n",
       "    <tr>\n",
       "      <th>791</th>\n",
       "      <td>Sports</td>\n",
       "      <td>0.94</td>\n",
       "      <td>5</td>\n",
       "    </tr>\n",
       "    <tr>\n",
       "      <th>792</th>\n",
       "      <td>Sports</td>\n",
       "      <td>0.95</td>\n",
       "      <td>109</td>\n",
       "    </tr>\n",
       "    <tr>\n",
       "      <th>793</th>\n",
       "      <td>Sports</td>\n",
       "      <td>0.97</td>\n",
       "      <td>37</td>\n",
       "    </tr>\n",
       "    <tr>\n",
       "      <th>794</th>\n",
       "      <td>Sports</td>\n",
       "      <td>0.98</td>\n",
       "      <td>7</td>\n",
       "    </tr>\n",
       "    <tr>\n",
       "      <th>795</th>\n",
       "      <td>Sports</td>\n",
       "      <td>1.00</td>\n",
       "      <td>10433</td>\n",
       "    </tr>\n",
       "  </tbody>\n",
       "</table>\n",
       "<p>796 rows × 3 columns</p>\n",
       "</div>"
      ],
      "text/plain": [
       "               category  blob_polar  count\n",
       "0    Celebrity magazine       -1.00   3205\n",
       "1    Celebrity magazine       -0.99      2\n",
       "2    Celebrity magazine       -0.98     12\n",
       "3    Celebrity magazine       -0.97     35\n",
       "4    Celebrity magazine       -0.96      2\n",
       "..                  ...         ...    ...\n",
       "791              Sports        0.94      5\n",
       "792              Sports        0.95    109\n",
       "793              Sports        0.97     37\n",
       "794              Sports        0.98      7\n",
       "795              Sports        1.00  10433\n",
       "\n",
       "[796 rows x 3 columns]"
      ]
     },
     "execution_count": 261,
     "metadata": {},
     "output_type": "execute_result"
    }
   ],
   "source": [
    "# Sorting the rows by category, counting frequecy per blob_polar value\n",
    "\n",
    "df_blob = df_rounded.groupby(['category', 'blob_polar']).agg({'blob_polar': 'count'}).rename(columns={'blob_polar': 'count'}).reset_index()\n",
    "df_blob\n"
   ]
  },
  {
   "cell_type": "code",
   "execution_count": 262,
   "metadata": {},
   "outputs": [],
   "source": [
    "# Making dictionaries with count of the blob_scores\n",
    "\n",
    "media_list = ['Sports', 'Newspaper','Celebrity magazine', 'Other' ]\n",
    "array_dict = {}\n",
    "for outlet in media_list:\n",
    "    array_dict[f'x_{outlet}'] = df_blob[df_blob['category']==outlet]['blob_polar'] # storing the blob_polar values for all categories\n",
    "    array_dict[f'y_{outlet}'] = np.log(df_blob[df_blob['category']==outlet]['count']) # storing the count of blob_polar values\n",
    "    array_dict[f'y_{outlet}'] = (array_dict[f'y_{outlet}'] - array_dict[f'y_{outlet}'].min()) \\\n",
    "                                / (array_dict[f'y_{outlet}'].max() - array_dict[f'y_{outlet}'].min())"
   ]
  },
  {
   "cell_type": "code",
   "execution_count": 263,
   "metadata": {},
   "outputs": [
    {
     "data": {
      "application/vnd.plotly.v1+json": {
       "config": {
        "plotlyServerURL": "https://plot.ly"
       },
       "data": [
        {
         "line": {
          "color": "white"
         },
         "mode": "lines",
         "type": "scatter",
         "x": [
          -1,
          1
         ],
         "y": [
          4,
          4,
          4,
          4,
          4
         ]
        },
        {
         "fill": "tonexty",
         "name": "Sports",
         "type": "scatter",
         "x": [
          -1,
          -0.98,
          -0.97,
          -0.95,
          -0.94,
          -0.93,
          -0.91,
          -0.9,
          -0.89,
          -0.88,
          -0.87,
          -0.86,
          -0.85,
          -0.84,
          -0.83,
          -0.82,
          -0.81,
          -0.8,
          -0.79,
          -0.78,
          -0.77,
          -0.76,
          -0.75,
          -0.74,
          -0.73,
          -0.72,
          -0.71,
          -0.7,
          -0.69,
          -0.68,
          -0.67,
          -0.66,
          -0.65,
          -0.64,
          -0.63,
          -0.62,
          -0.61,
          -0.6,
          -0.59,
          -0.58,
          -0.57,
          -0.56,
          -0.55,
          -0.54,
          -0.53,
          -0.52,
          -0.51,
          -0.5,
          -0.49,
          -0.48,
          -0.47,
          -0.46,
          -0.45,
          -0.44,
          -0.43,
          -0.42,
          -0.41,
          -0.4,
          -0.39,
          -0.38,
          -0.37,
          -0.36,
          -0.35,
          -0.34,
          -0.33,
          -0.32,
          -0.31,
          -0.3,
          -0.29,
          -0.28,
          -0.27,
          -0.26,
          -0.25,
          -0.24,
          -0.23,
          -0.22,
          -0.21,
          -0.2,
          -0.19,
          -0.18,
          -0.17,
          -0.16,
          -0.15,
          -0.14,
          -0.13,
          -0.12,
          -0.11,
          -0.1,
          -0.09,
          -0.08,
          -0.07,
          -0.06,
          -0.05,
          -0.04,
          -0.03,
          -0.02,
          -0.01,
          0,
          0.01,
          0.02,
          0.03,
          0.04,
          0.05,
          0.06,
          0.07,
          0.08,
          0.09,
          0.1,
          0.11,
          0.12,
          0.13,
          0.14,
          0.15,
          0.16,
          0.17,
          0.18,
          0.19,
          0.2,
          0.21,
          0.22,
          0.23,
          0.24,
          0.25,
          0.26,
          0.27,
          0.28,
          0.29,
          0.3,
          0.31,
          0.32,
          0.33,
          0.34,
          0.35,
          0.36,
          0.37,
          0.38,
          0.39,
          0.4,
          0.41,
          0.42,
          0.43,
          0.44,
          0.45,
          0.46,
          0.47,
          0.48,
          0.49,
          0.5,
          0.51,
          0.52,
          0.53,
          0.54,
          0.55,
          0.56,
          0.57,
          0.58,
          0.59,
          0.6,
          0.61,
          0.62,
          0.63,
          0.64,
          0.65,
          0.66,
          0.67,
          0.68,
          0.69,
          0.7,
          0.71,
          0.72,
          0.73,
          0.74,
          0.75,
          0.76,
          0.77,
          0.78,
          0.79,
          0.8,
          0.81,
          0.82,
          0.83,
          0.84,
          0.85,
          0.86,
          0.87,
          0.88,
          0.89,
          0.9,
          0.91,
          0.92,
          0.93,
          0.94,
          0.95,
          0.97,
          0.98,
          1
         ],
         "y": [
          4.5467465883148845,
          4.077684512935117,
          4.282509333957461,
          4.093142010042112,
          4.093142010042112,
          4,
          4.291138624593763,
          4.329954406142843,
          4.034375944599092,
          4.265831937945202,
          4.1175321308860395,
          4.05876606544302,
          4.186284020084224,
          4.034375944599092,
          4,
          4,
          4.093142010042112,
          4.525430188763368,
          4,
          4.312748774707197,
          4.05876606544302,
          4.05876606544302,
          4.462329017276257,
          4.1175321308860395,
          4.093142010042112,
          4.17629819632906,
          4.371514840150217,
          4.594076598490494,
          4.17629819632906,
          4.164977203071421,
          4.3937584789732895,
          4.22959258842025,
          4.46640498452098,
          4.15869421720121,
          4.190867920809211,
          4.434164707284754,
          4.144531119453472,
          4.584540545080291,
          4.271188340699823,
          4.304985569664935,
          4.348526098504582,
          4.312748774707197,
          4.4177400134303335,
          4.29897017426785,
          4.356480194349637,
          4.347828304349964,
          4.365476064274649,
          4.670547330856879,
          4.326421331966757,
          4.304985569664935,
          4.409351735134412,
          4.349904690036783,
          4.477118222407692,
          4.400041464843501,
          4.429214457428845,
          4.402282516323339,
          4.363751635107955,
          4.730219579211716,
          4.5970556638697815,
          4.512805507421385,
          4.4267647409364415,
          4.440736434212895,
          4.56387552909746,
          4.451910924045126,
          4.576670193798575,
          4.442360206358973,
          4.572020813598002,
          4.630936098518416,
          4.640223306692185,
          4.5314231331507315,
          4.528396361238828,
          4.523599360051141,
          4.676877024015677,
          4.516717689861647,
          4.5751005613814275,
          4.554619555917165,
          4.5292251216131945,
          4.714763622872387,
          4.667276940128533,
          4.5722693670190235,
          4.646922036829413,
          4.666952603423924,
          4.655226768897935,
          4.5783037994682125,
          4.626419812709785,
          4.703562723303631,
          4.595861538337928,
          4.723862484919811,
          4.64207363914694,
          4.67481425414573,
          4.663774165968952,
          4.667341658842505,
          4.716175458344176,
          4.645636501391817,
          4.682334243099091,
          4.65828674714188,
          4.644965293443186,
          5,
          4.653606810712537,
          4.67865052110384,
          4.699676943424109,
          4.675316270830282,
          4.737572136023078,
          4.680151614622268,
          4.718232338300356,
          4.702725132625198,
          4.670547330856879,
          4.797701125535672,
          4.687256979889309,
          4.735447748603235,
          4.699930598866304,
          4.730550201766574,
          4.732304600291469,
          4.706354264445852,
          4.75048773608641,
          4.694508098256578,
          4.6962049473076135,
          4.828464117008693,
          4.711060042120805,
          4.684343060289922,
          4.736154625940997,
          4.683398150219434,
          4.799124552297201,
          4.681503512465375,
          4.698385942461934,
          4.701663674611341,
          4.734390926913837,
          4.766140125180096,
          4.656302079103066,
          4.668050323016476,
          4.733580319588749,
          4.6545336005434805,
          4.747688150374284,
          4.6694185662536745,
          4.659270821314615,
          4.710595219421694,
          4.637966545523579,
          4.773177666674934,
          4.608186537980904,
          4.677481888730056,
          4.677424468131052,
          4.61456927363979,
          4.684752346586126,
          4.605747088265689,
          4.673531017757414,
          4.582277249187526,
          4.580358932684413,
          4.839897169838312,
          4.546612334112345,
          4.589988056124109,
          4.627720168127296,
          4.5569705625389645,
          4.636210310784978,
          4.534190141338399,
          4.603818999530257,
          4.529472178158648,
          4.483716482581645,
          4.745316796172162,
          4.474012325235677,
          4.564856303017828,
          4.511798589277079,
          4.504172641844171,
          4.633914620888106,
          4.4275892029719,
          4.539831790567962,
          4.477422644677987,
          4.379112294384676,
          4.750439195894037,
          4.3619914020977015,
          4.418656579234967,
          4.466058229390622,
          4.336607348285273,
          4.61317141060616,
          4.341275399400481,
          4.431595373957484,
          4.414929319194815,
          4.271188340699823,
          4.753385614140289,
          4.2141350913132545,
          4.317888621759947,
          4.365476064274649,
          4.260114164242956,
          4.500085994809652,
          4.136450578378137,
          4.340515022006003,
          4.350585669691392,
          4.144531119453472,
          4.567679950793844,
          4.517289252775967,
          4.127517954641204,
          4.311682326542805,
          4.077684512935117,
          4.338973497517243,
          4.247373011963892,
          4.106211137628401,
          4.725694293522144
         ]
        },
        {
         "line": {
          "color": "white"
         },
         "mode": "lines",
         "type": "scatter",
         "x": [
          -1,
          1
         ],
         "y": [
          3,
          3,
          3,
          3,
          3
         ]
        },
        {
         "fill": "tonexty",
         "name": "Newspaper",
         "type": "scatter",
         "x": [
          -1,
          -0.99,
          -0.98,
          -0.97,
          -0.96,
          -0.95,
          -0.94,
          -0.93,
          -0.92,
          -0.91,
          -0.9,
          -0.89,
          -0.88,
          -0.87,
          -0.86,
          -0.85,
          -0.84,
          -0.83,
          -0.82,
          -0.81,
          -0.8,
          -0.79,
          -0.78,
          -0.77,
          -0.76,
          -0.75,
          -0.74,
          -0.73,
          -0.72,
          -0.71,
          -0.7,
          -0.69,
          -0.68,
          -0.67,
          -0.66,
          -0.65,
          -0.64,
          -0.63,
          -0.62,
          -0.61,
          -0.6,
          -0.59,
          -0.58,
          -0.57,
          -0.56,
          -0.55,
          -0.54,
          -0.53,
          -0.52,
          -0.51,
          -0.5,
          -0.49,
          -0.48,
          -0.47,
          -0.46,
          -0.45,
          -0.44,
          -0.43,
          -0.42,
          -0.41,
          -0.4,
          -0.39,
          -0.38,
          -0.37,
          -0.36,
          -0.35,
          -0.34,
          -0.33,
          -0.32,
          -0.31,
          -0.3,
          -0.29,
          -0.28,
          -0.27,
          -0.26,
          -0.25,
          -0.24,
          -0.23,
          -0.22,
          -0.21,
          -0.2,
          -0.19,
          -0.18,
          -0.17,
          -0.16,
          -0.15,
          -0.14,
          -0.13,
          -0.12,
          -0.11,
          -0.1,
          -0.09,
          -0.08,
          -0.07,
          -0.06,
          -0.05,
          -0.04,
          -0.03,
          -0.02,
          -0.01,
          0,
          0.01,
          0.02,
          0.03,
          0.04,
          0.05,
          0.06,
          0.07,
          0.08,
          0.09,
          0.1,
          0.11,
          0.12,
          0.13,
          0.14,
          0.15,
          0.16,
          0.17,
          0.18,
          0.19,
          0.2,
          0.21,
          0.22,
          0.23,
          0.24,
          0.25,
          0.26,
          0.27,
          0.28,
          0.29,
          0.3,
          0.31,
          0.32,
          0.33,
          0.34,
          0.35,
          0.36,
          0.37,
          0.38,
          0.39,
          0.4,
          0.41,
          0.42,
          0.43,
          0.44,
          0.45,
          0.46,
          0.47,
          0.48,
          0.49,
          0.5,
          0.51,
          0.52,
          0.53,
          0.54,
          0.55,
          0.56,
          0.57,
          0.58,
          0.59,
          0.6,
          0.61,
          0.62,
          0.63,
          0.64,
          0.65,
          0.66,
          0.67,
          0.68,
          0.69,
          0.7,
          0.71,
          0.72,
          0.73,
          0.74,
          0.75,
          0.76,
          0.77,
          0.78,
          0.79,
          0.8,
          0.81,
          0.82,
          0.83,
          0.84,
          0.85,
          0.86,
          0.87,
          0.88,
          0.89,
          0.9,
          0.91,
          0.92,
          0.93,
          0.94,
          0.95,
          0.96,
          0.97,
          0.98,
          0.99,
          1
         ],
         "y": [
          3.630156995488343,
          3,
          3.1462153105921162,
          3.3106890097602957,
          3.02487592534046,
          3.2241360111232744,
          3.2201584023091185,
          3.1957184672581795,
          3.0174307969424645,
          3.383101823929098,
          3.4320072838751843,
          3.2082140617324257,
          3.374379388238133,
          3.2656835950303362,
          3.1924632160769324,
          3.327716301713057,
          3.174824390452036,
          3.2075318327314117,
          3.2207391836022556,
          3.2095609006848003,
          3.5809668234617202,
          3.1694350313319366,
          3.394593192332153,
          3.199605573847485,
          3.1560807100996078,
          3.5121670611505547,
          3.171635591613449,
          3.2574533874201737,
          3.2688723938689233,
          3.447795146740415,
          3.6135011306389933,
          3.2633713625009473,
          3.2874200208232653,
          3.4637574585455715,
          3.2964835907833265,
          3.5289543158286105,
          3.2585308489727693,
          3.2891261824665157,
          3.4846081174498393,
          3.3005451889152653,
          3.6280709979507018,
          3.33673688426937,
          3.3761402455127465,
          3.403946390178484,
          3.397235153259476,
          3.4662689129448014,
          3.3456456737700635,
          3.422423505025813,
          3.4016967106051648,
          3.3876029270116534,
          3.724256747850675,
          3.3847494215997926,
          3.386293518533254,
          3.461055891136295,
          3.4098698376690635,
          3.520973610802923,
          3.435378575767178,
          3.505237662008728,
          3.478321049216007,
          3.4338813622458098,
          3.703113606641295,
          3.565377046457281,
          3.5627428741511644,
          3.465968759937322,
          3.4810127515075866,
          3.5945099975182084,
          3.477762777783646,
          3.6309918033243656,
          3.5084015960039707,
          3.582430680809659,
          3.67415514085125,
          3.624800885612834,
          3.5606457580126327,
          3.5481880529856133,
          3.541583390504533,
          3.7069803049936105,
          3.540200452950072,
          3.604451563611275,
          3.5709897789138836,
          3.5616093259882176,
          3.7258204946042284,
          3.6511854821628518,
          3.5900484962563777,
          3.6897040150829716,
          3.6760724693205455,
          3.6783035596522082,
          3.593551761357822,
          3.6360917171293137,
          3.730665431321578,
          3.6191984738321707,
          3.739762930678945,
          3.633725427673288,
          3.6894033035961713,
          3.6816825102108344,
          3.685820218933029,
          3.726265680894361,
          3.662314293920847,
          3.6947819494112757,
          3.6655697107695335,
          3.651861199127591,
          4,
          3.6545048466639667,
          3.680491991259822,
          3.715663780640854,
          3.6742335806713764,
          3.7456782525163663,
          3.684580240593874,
          3.7249570296589174,
          3.7099509925959135,
          3.66862563920647,
          3.802488203732527,
          3.682434339006424,
          3.7389119647054003,
          3.6955853742619516,
          3.7365832611690135,
          3.7240038018227555,
          3.691681101252895,
          3.751884895660431,
          3.6808465738169036,
          3.6892956254717215,
          3.8180764920328203,
          3.7008988750396536,
          3.672759773782084,
          3.720459612519205,
          3.661113842439358,
          3.798156776492017,
          3.6609136830864992,
          3.6784506077289594,
          3.6830094615144215,
          3.7115069946146093,
          3.7536343387430273,
          3.638112267657711,
          3.650217703831438,
          3.72035542480908,
          3.6266711517441688,
          3.7318692477625164,
          3.64346067193262,
          3.6454904685381666,
          3.7007501275433388,
          3.6180838994014897,
          3.7645666051497835,
          3.5820403467996544,
          3.6627534431266993,
          3.6664715953587086,
          3.596707469074881,
          3.673115819605049,
          3.5799016588004027,
          3.6465306466818848,
          3.560615920455324,
          3.55754981777189,
          3.8325892099498,
          3.5218118390194757,
          3.5720861211530375,
          3.602359291687491,
          3.522859230182305,
          3.6329904047100894,
          3.523988214173822,
          3.5837289853565024,
          3.507006259705135,
          3.471061839654884,
          3.7359841470927795,
          3.459981024172335,
          3.5725933822511102,
          3.493304788761626,
          3.466667331272772,
          3.616935053310301,
          3.413583118371146,
          3.518224051872512,
          3.4909380381618074,
          3.3973558870147103,
          3.7198207287281395,
          3.360121198876225,
          3.4250906765046816,
          3.452608916623749,
          3.348515751343381,
          3.6042128238877655,
          3.309953806929999,
          3.4202941813883525,
          3.4610291989357664,
          3.2891261824665157,
          3.7204933472622845,
          3.2949323254249876,
          3.3456456737700635,
          3.366552875190981,
          3.2405631789610654,
          3.534483047778959,
          3.161204823721774,
          3.323949191651186,
          3.42047385880877,
          3.2279208556827736,
          3.5680203428992527,
          3.495910012124413,
          3.143151595405694,
          3.3199911655145073,
          3.2672942649610266,
          3.3522571715338807,
          3,
          3.2944833889934113,
          3.252218864275618,
          3.127649655082687,
          3.6965562469273854
         ]
        },
        {
         "line": {
          "color": "white"
         },
         "mode": "lines",
         "type": "scatter",
         "x": [
          -1,
          1
         ],
         "y": [
          2,
          2,
          2,
          2,
          2
         ]
        },
        {
         "fill": "tonexty",
         "name": "Celebrity magazine",
         "type": "scatter",
         "x": [
          -1,
          -0.99,
          -0.98,
          -0.97,
          -0.96,
          -0.95,
          -0.94,
          -0.93,
          -0.91,
          -0.9,
          -0.89,
          -0.88,
          -0.87,
          -0.86,
          -0.85,
          -0.84,
          -0.83,
          -0.82,
          -0.81,
          -0.8,
          -0.79,
          -0.78,
          -0.77,
          -0.76,
          -0.75,
          -0.74,
          -0.73,
          -0.72,
          -0.71,
          -0.7,
          -0.69,
          -0.68,
          -0.67,
          -0.66,
          -0.65,
          -0.64,
          -0.63,
          -0.62,
          -0.61,
          -0.6,
          -0.59,
          -0.58,
          -0.57,
          -0.56,
          -0.55,
          -0.54,
          -0.53,
          -0.52,
          -0.51,
          -0.5,
          -0.49,
          -0.48,
          -0.47,
          -0.46,
          -0.45,
          -0.44,
          -0.43,
          -0.42,
          -0.41,
          -0.4,
          -0.39,
          -0.38,
          -0.37,
          -0.36,
          -0.35,
          -0.34,
          -0.33,
          -0.32,
          -0.31,
          -0.3,
          -0.29,
          -0.28,
          -0.27,
          -0.26,
          -0.25,
          -0.24,
          -0.23,
          -0.22,
          -0.21,
          -0.2,
          -0.19,
          -0.18,
          -0.17,
          -0.16,
          -0.15,
          -0.14,
          -0.13,
          -0.12,
          -0.11,
          -0.1,
          -0.09,
          -0.08,
          -0.07,
          -0.06,
          -0.05,
          -0.04,
          -0.03,
          -0.02,
          -0.01,
          0,
          0.01,
          0.02,
          0.03,
          0.04,
          0.05,
          0.06,
          0.07,
          0.08,
          0.09,
          0.1,
          0.11,
          0.12,
          0.13,
          0.14,
          0.15,
          0.16,
          0.17,
          0.18,
          0.19,
          0.2,
          0.21,
          0.22,
          0.23,
          0.24,
          0.25,
          0.26,
          0.27,
          0.28,
          0.29,
          0.3,
          0.31,
          0.32,
          0.33,
          0.34,
          0.35,
          0.36,
          0.37,
          0.38,
          0.39,
          0.4,
          0.41,
          0.42,
          0.43,
          0.44,
          0.45,
          0.46,
          0.47,
          0.48,
          0.49,
          0.5,
          0.51,
          0.52,
          0.53,
          0.54,
          0.55,
          0.56,
          0.57,
          0.58,
          0.59,
          0.6,
          0.61,
          0.62,
          0.63,
          0.64,
          0.65,
          0.66,
          0.67,
          0.68,
          0.69,
          0.7,
          0.71,
          0.72,
          0.73,
          0.74,
          0.75,
          0.76,
          0.77,
          0.78,
          0.79,
          0.8,
          0.81,
          0.82,
          0.83,
          0.84,
          0.85,
          0.86,
          0.87,
          0.88,
          0.89,
          0.9,
          0.91,
          0.92,
          0.93,
          0.94,
          0.95,
          0.96,
          0.97,
          0.98,
          0.99,
          1
         ],
         "y": [
          2.6114299285334126,
          2,
          2.148460201778844,
          2.2371539972926406,
          2,
          2.1722967374622564,
          2.218664943810463,
          2.182055911916183,
          2.3320364722453415,
          2.4045753747212557,
          2.1986829271216597,
          2.331279780079998,
          2.280421155865936,
          2.1722967374622564,
          2.285856364085142,
          2.133353545123682,
          2.1722967374622564,
          2.161232697989711,
          2.1773199248611275,
          2.5674945659723583,
          2.124623666095431,
          2.3593758367773106,
          2.1412506813009076,
          2.1148644916415043,
          2.482726150669043,
          2.1412506813009076,
          2.239488157736935,
          2.212524563537154,
          2.4518354865193825,
          2.5940004857468577,
          2.2347521706818796,
          2.248218036765186,
          2.4255379616263135,
          2.280421155865936,
          2.493805464769014,
          2.2502639979059373,
          2.2417583604657945,
          2.4724613272790785,
          2.2945862431133928,
          2.615120945610893,
          2.300302800384703,
          2.3471431289005036,
          2.3751119055894763,
          2.387948359515779,
          2.4381710848585953,
          2.3135474187631644,
          2.38871202590075,
          2.3709796645839165,
          2.3502236776114223,
          2.7081520332454363,
          2.360451919645332,
          2.3549260580076385,
          2.4444160168381837,
          2.3983866952823516,
          2.494867751322433,
          2.412927771473678,
          2.473012791652409,
          2.446144271721502,
          2.4265070629220387,
          2.6735119416134774,
          2.5174546919555327,
          2.541009468555856,
          2.45324286160744,
          2.474780116752875,
          2.5703020897313547,
          2.4505841131901027,
          2.602857886487441,
          2.4789763154738704,
          2.5752077792855337,
          2.656491569795488,
          2.60091435838707,
          2.535508629230483,
          2.5228975537140226,
          2.521225149454507,
          2.69168754976152,
          2.5174546919555327,
          2.5889354124849837,
          2.5510771863879924,
          2.5463380486887464,
          2.7104763601194355,
          2.6401541955877925,
          2.5721914924651195,
          2.6783191861842743,
          2.6612025403302506,
          2.660002931964378,
          2.577380560232173,
          2.6158839314577538,
          2.717283998148864,
          2.6028005260031613,
          2.7258472603613773,
          2.6170999382584097,
          2.6736462617930012,
          2.666302421135541,
          2.67010662756429,
          2.712003260968356,
          2.6483449314090413,
          2.6800650545465308,
          2.6532160335112733,
          2.6382684747392915,
          3,
          2.6443941612930852,
          2.6688621743541647,
          2.7059425939671713,
          2.6633853287913936,
          2.7329484084054365,
          2.674120740944842,
          2.7154406268287246,
          2.7007074068105057,
          2.66237104987533,
          2.7924219601075446,
          2.672861692853764,
          2.7326496512625744,
          2.6864518684773917,
          2.729935970256162,
          2.7173632218828807,
          2.68524086898765,
          2.747007688124522,
          2.674664861795635,
          2.687768983196098,
          2.811921448228171,
          2.6935986421017173,
          2.6675987450214125,
          2.716698279035287,
          2.6611599949037794,
          2.7957022245851246,
          2.661894374220208,
          2.679133937206286,
          2.6829609419078375,
          2.707034294316868,
          2.7516376232113315,
          2.6450342557178432,
          2.6515602532799427,
          2.7190590431774284,
          2.6297067199815736,
          2.7285827875240116,
          2.6444288877044206,
          2.6456352328770696,
          2.7007426052886188,
          2.6198074656697132,
          2.756746166523169,
          2.592487216887335,
          2.665928286964218,
          2.6576539742673906,
          2.6035715620127777,
          2.6686550959177744,
          2.5798770267346995,
          2.6443767926280533,
          2.561953553716357,
          2.5594743266177327,
          2.832378748811281,
          2.5220655710244317,
          2.564906461896992,
          2.5997616979458096,
          2.5216082163237443,
          2.6292909779340707,
          2.528146203064888,
          2.578657395275259,
          2.5040502593487353,
          2.478848350635721,
          2.7326017499944486,
          2.464022956209768,
          2.5904144446628345,
          2.486896696767319,
          2.4604233042762576,
          2.607837213559493,
          2.4073529716642046,
          2.505733646699994,
          2.5040502593487353,
          2.3993951119839068,
          2.7048279433880014,
          2.371915914276925,
          2.4143345491751824,
          2.441452987778528,
          2.3385526228508384,
          2.597926035364105,
          2.3144836684561727,
          2.4013758568944255,
          2.4537645247129722,
          2.287161229103761,
          2.7042480791703345,
          2.3289673355881884,
          2.367125145589307,
          2.352018488934145,
          2.218664943810463,
          2.5379289198449375,
          2.161232697989711,
          2.290956879736226,
          2.4336563455083846,
          2.212524563537154,
          2.5504859225241088,
          2.4360518589478803,
          2.133353545123682,
          2.337148229632585,
          2.2715350897674362,
          2.3135474187631644,
          2.033595710137339,
          2.256115172942412,
          2.2957615424821034,
          2.0759212993029297,
          2.6879950322893196
         ]
        },
        {
         "line": {
          "color": "white"
         },
         "mode": "lines",
         "type": "scatter",
         "x": [
          -1,
          1
         ],
         "y": [
          1,
          1,
          1,
          1,
          1
         ]
        },
        {
         "fill": "tonexty",
         "name": "Other",
         "type": "scatter",
         "x": [
          -1,
          -0.99,
          -0.98,
          -0.97,
          -0.96,
          -0.95,
          -0.94,
          -0.93,
          -0.91,
          -0.9,
          -0.89,
          -0.88,
          -0.87,
          -0.86,
          -0.85,
          -0.84,
          -0.83,
          -0.82,
          -0.81,
          -0.8,
          -0.79,
          -0.78,
          -0.77,
          -0.76,
          -0.75,
          -0.74,
          -0.73,
          -0.72,
          -0.71,
          -0.7,
          -0.69,
          -0.68,
          -0.67,
          -0.66,
          -0.65,
          -0.64,
          -0.63,
          -0.62,
          -0.61,
          -0.6,
          -0.59,
          -0.58,
          -0.57,
          -0.56,
          -0.55,
          -0.54,
          -0.53,
          -0.52,
          -0.51,
          -0.5,
          -0.49,
          -0.48,
          -0.47,
          -0.46,
          -0.45,
          -0.44,
          -0.43,
          -0.42,
          -0.41,
          -0.4,
          -0.39,
          -0.38,
          -0.37,
          -0.36,
          -0.35,
          -0.34,
          -0.33,
          -0.32,
          -0.31,
          -0.3,
          -0.29,
          -0.28,
          -0.27,
          -0.26,
          -0.25,
          -0.24,
          -0.23,
          -0.22,
          -0.21,
          -0.2,
          -0.19,
          -0.18,
          -0.17,
          -0.16,
          -0.15,
          -0.14,
          -0.13,
          -0.12,
          -0.11,
          -0.1,
          -0.09,
          -0.08,
          -0.07,
          -0.06,
          -0.05,
          -0.04,
          -0.03,
          -0.02,
          -0.01,
          0,
          0.01,
          0.02,
          0.03,
          0.04,
          0.05,
          0.06,
          0.07,
          0.08,
          0.09,
          0.1,
          0.11,
          0.12,
          0.13,
          0.14,
          0.15,
          0.16,
          0.17,
          0.18,
          0.19,
          0.2,
          0.21,
          0.22,
          0.23,
          0.24,
          0.25,
          0.26,
          0.27,
          0.28,
          0.29,
          0.3,
          0.31,
          0.32,
          0.33,
          0.34,
          0.35,
          0.36,
          0.37,
          0.38,
          0.39,
          0.4,
          0.41,
          0.42,
          0.43,
          0.44,
          0.45,
          0.46,
          0.47,
          0.48,
          0.49,
          0.5,
          0.51,
          0.52,
          0.53,
          0.54,
          0.55,
          0.56,
          0.57,
          0.58,
          0.59,
          0.6,
          0.61,
          0.62,
          0.63,
          0.64,
          0.65,
          0.66,
          0.67,
          0.68,
          0.69,
          0.7,
          0.71,
          0.72,
          0.73,
          0.74,
          0.75,
          0.76,
          0.77,
          0.78,
          0.79,
          0.8,
          0.81,
          0.82,
          0.83,
          0.84,
          0.85,
          0.86,
          0.87,
          0.88,
          0.89,
          0.9,
          0.91,
          0.92,
          0.93,
          0.94,
          0.95,
          0.97,
          0.98,
          0.99,
          1
         ],
         "y": [
          1.6178481086859793,
          1.057086747963733,
          1.114173495927466,
          1.2787342131557922,
          1,
          1.1762532130658492,
          1.208015899921758,
          1.171260243891199,
          1.3527909126604651,
          1.411005880571132,
          1.1974877009109162,
          1.3493104468235009,
          1.2467248198702117,
          1.1762532130658492,
          1.300663715827431,
          1.1602627628802478,
          1.2011486933200248,
          1.1325513239427456,
          1.2202395887177195,
          1.5693659478168211,
          1.1602627628802478,
          1.3737409139767653,
          1.1602627628802478,
          1.1325513239427456,
          1.4940650256784191,
          1.1936563697271514,
          1.2230316787533821,
          1.2380474575850062,
          1.4292715795450102,
          1.594298812492012,
          1.233339961029582,
          1.2545744488746493,
          1.4355351584959224,
          1.2617405987018357,
          1.5017658919091743,
          1.233339961029582,
          1.2467248198702117,
          1.465532046081543,
          1.3027755948260855,
          1.6208830748108445,
          1.310719943528356,
          1.3469056404109225,
          1.3788633170428803,
          1.3829013202753442,
          1.449293527129514,
          1.3246238223909432,
          1.392557989796895,
          1.3848484267585088,
          1.3550321058716057,
          1.7092027846125357,
          1.3437973934872534,
          1.3649166136183504,
          1.4467922009199121,
          1.393255949636722,
          1.5038789488836453,
          1.4143006706508554,
          1.4886815629923538,
          1.459228299612752,
          1.4227354443418534,
          1.6856320098258077,
          1.5333720881161237,
          1.546690348284226,
          1.449293527129514,
          1.4637796657551847,
          1.5749470335174929,
          1.4650974341590612,
          1.6099075006408756,
          1.4852285598864914,
          1.5726181667150285,
          1.6597506874948484,
          1.6010352062689581,
          1.5397738819401505,
          1.5292110128516812,
          1.5193770644859244,
          1.6907405678025227,
          1.5190759351991252,
          1.5887613174163349,
          1.5513049043367557,
          1.5387705738969362,
          1.7130620558530465,
          1.6371167504115132,
          1.567334342341902,
          1.6771330152571067,
          1.6615085345344403,
          1.66101203210643,
          1.5774349474989395,
          1.616333949408304,
          1.7164950438114253,
          1.6036421482115601,
          1.7273508725309357,
          1.617140378256349,
          1.67583916184467,
          1.6685809807550434,
          1.6692413218548898,
          1.7139302717668474,
          1.644887839638214,
          1.6789390809524258,
          1.647719754338255,
          1.634947610221518,
          2,
          1.6392652846605102,
          1.6644004577140326,
          1.6992874261442545,
          1.6580522236653321,
          1.7316970320091272,
          1.6682364858534113,
          1.71200362113227,
          1.69297099380762,
          1.6511279760200015,
          1.7910182718308814,
          1.6670317896376319,
          1.7244743265351985,
          1.6789607315225261,
          1.7272184435519473,
          1.709494664781667,
          1.6744789530876023,
          1.738678497364341,
          1.6629540439429533,
          1.6747414059135584,
          1.8082104173512394,
          1.6885251854012844,
          1.6551845656274216,
          1.7050276422036699,
          1.6476089613211977,
          1.7879090638442838,
          1.644691161889372,
          1.6608503593539972,
          1.6664416716917931,
          1.6945535606928392,
          1.7413600865777812,
          1.6228745007868097,
          1.6319380488560242,
          1.7056718712818562,
          1.604234272624909,
          1.717497643160269,
          1.6239158202043684,
          1.6236408324090403,
          1.6842124298710863,
          1.597241040594934,
          1.7457034350903942,
          1.5598240266641537,
          1.6469889425721922,
          1.6429666551776485,
          1.5771746124990078,
          1.6514611675189708,
          1.558010805270611,
          1.6226817985245319,
          1.5387111734124372,
          1.532479646911117,
          1.8225360506704553,
          1.495983955643311,
          1.544504187594544,
          1.5754430572482325,
          1.4957840556223871,
          1.609631675615197,
          1.4981514167383474,
          1.5563968065757456,
          1.4777308192009606,
          1.4473346316503206,
          1.7184747868392432,
          1.4323548881586665,
          1.5577754270932853,
          1.453076849703241,
          1.4369782777146862,
          1.585762527294359,
          1.3825063134357067,
          1.4873620351428904,
          1.4694815108282655,
          1.3663743289857013,
          1.693806761698236,
          1.3392388278371286,
          1.3859949710504262,
          1.4220033615820833,
          1.3196808130408082,
          1.5798138375777855,
          1.2828189561339114,
          1.3936027239098299,
          1.4310475786751402,
          1.2787342131557922,
          1.6927057774019305,
          1.2973907513124805,
          1.313512033564019,
          1.3399057040976445,
          1.2257322081701785,
          1.5154526442180898,
          1.1541593215807746,
          1.2801184267171153,
          1.4018289942788638,
          1.185413619364428,
          1.5327994871895483,
          1.4501687613833494,
          1.0333936068469036,
          1.3017264243551443,
          1.2308813077578198,
          1.3088045370085948,
          1.228346991854932,
          1.2526810604724332,
          1.0904803548106365,
          1.6822495788752196
         ]
        }
       ],
       "layout": {
        "annotations": [
         {
          "showarrow": false,
          "text": "Sports",
          "x": -0.1,
          "y": 4,
          "yshift": 1
         },
         {
          "showarrow": false,
          "text": "Newspaper",
          "x": -0.1,
          "y": 3,
          "yshift": 1
         },
         {
          "showarrow": false,
          "text": "Celebrity magazine",
          "x": -0.1,
          "y": 2,
          "yshift": 1
         },
         {
          "showarrow": false,
          "text": "Other",
          "x": -0.1,
          "y": 1,
          "yshift": 1
         }
        ],
        "showlegend": false,
        "template": {
         "data": {
          "bar": [
           {
            "error_x": {
             "color": "#2a3f5f"
            },
            "error_y": {
             "color": "#2a3f5f"
            },
            "marker": {
             "line": {
              "color": "#E5ECF6",
              "width": 0.5
             },
             "pattern": {
              "fillmode": "overlay",
              "size": 10,
              "solidity": 0.2
             }
            },
            "type": "bar"
           }
          ],
          "barpolar": [
           {
            "marker": {
             "line": {
              "color": "#E5ECF6",
              "width": 0.5
             },
             "pattern": {
              "fillmode": "overlay",
              "size": 10,
              "solidity": 0.2
             }
            },
            "type": "barpolar"
           }
          ],
          "carpet": [
           {
            "aaxis": {
             "endlinecolor": "#2a3f5f",
             "gridcolor": "white",
             "linecolor": "white",
             "minorgridcolor": "white",
             "startlinecolor": "#2a3f5f"
            },
            "baxis": {
             "endlinecolor": "#2a3f5f",
             "gridcolor": "white",
             "linecolor": "white",
             "minorgridcolor": "white",
             "startlinecolor": "#2a3f5f"
            },
            "type": "carpet"
           }
          ],
          "choropleth": [
           {
            "colorbar": {
             "outlinewidth": 0,
             "ticks": ""
            },
            "type": "choropleth"
           }
          ],
          "contour": [
           {
            "colorbar": {
             "outlinewidth": 0,
             "ticks": ""
            },
            "colorscale": [
             [
              0,
              "#0d0887"
             ],
             [
              0.1111111111111111,
              "#46039f"
             ],
             [
              0.2222222222222222,
              "#7201a8"
             ],
             [
              0.3333333333333333,
              "#9c179e"
             ],
             [
              0.4444444444444444,
              "#bd3786"
             ],
             [
              0.5555555555555556,
              "#d8576b"
             ],
             [
              0.6666666666666666,
              "#ed7953"
             ],
             [
              0.7777777777777778,
              "#fb9f3a"
             ],
             [
              0.8888888888888888,
              "#fdca26"
             ],
             [
              1,
              "#f0f921"
             ]
            ],
            "type": "contour"
           }
          ],
          "contourcarpet": [
           {
            "colorbar": {
             "outlinewidth": 0,
             "ticks": ""
            },
            "type": "contourcarpet"
           }
          ],
          "heatmap": [
           {
            "colorbar": {
             "outlinewidth": 0,
             "ticks": ""
            },
            "colorscale": [
             [
              0,
              "#0d0887"
             ],
             [
              0.1111111111111111,
              "#46039f"
             ],
             [
              0.2222222222222222,
              "#7201a8"
             ],
             [
              0.3333333333333333,
              "#9c179e"
             ],
             [
              0.4444444444444444,
              "#bd3786"
             ],
             [
              0.5555555555555556,
              "#d8576b"
             ],
             [
              0.6666666666666666,
              "#ed7953"
             ],
             [
              0.7777777777777778,
              "#fb9f3a"
             ],
             [
              0.8888888888888888,
              "#fdca26"
             ],
             [
              1,
              "#f0f921"
             ]
            ],
            "type": "heatmap"
           }
          ],
          "heatmapgl": [
           {
            "colorbar": {
             "outlinewidth": 0,
             "ticks": ""
            },
            "colorscale": [
             [
              0,
              "#0d0887"
             ],
             [
              0.1111111111111111,
              "#46039f"
             ],
             [
              0.2222222222222222,
              "#7201a8"
             ],
             [
              0.3333333333333333,
              "#9c179e"
             ],
             [
              0.4444444444444444,
              "#bd3786"
             ],
             [
              0.5555555555555556,
              "#d8576b"
             ],
             [
              0.6666666666666666,
              "#ed7953"
             ],
             [
              0.7777777777777778,
              "#fb9f3a"
             ],
             [
              0.8888888888888888,
              "#fdca26"
             ],
             [
              1,
              "#f0f921"
             ]
            ],
            "type": "heatmapgl"
           }
          ],
          "histogram": [
           {
            "marker": {
             "pattern": {
              "fillmode": "overlay",
              "size": 10,
              "solidity": 0.2
             }
            },
            "type": "histogram"
           }
          ],
          "histogram2d": [
           {
            "colorbar": {
             "outlinewidth": 0,
             "ticks": ""
            },
            "colorscale": [
             [
              0,
              "#0d0887"
             ],
             [
              0.1111111111111111,
              "#46039f"
             ],
             [
              0.2222222222222222,
              "#7201a8"
             ],
             [
              0.3333333333333333,
              "#9c179e"
             ],
             [
              0.4444444444444444,
              "#bd3786"
             ],
             [
              0.5555555555555556,
              "#d8576b"
             ],
             [
              0.6666666666666666,
              "#ed7953"
             ],
             [
              0.7777777777777778,
              "#fb9f3a"
             ],
             [
              0.8888888888888888,
              "#fdca26"
             ],
             [
              1,
              "#f0f921"
             ]
            ],
            "type": "histogram2d"
           }
          ],
          "histogram2dcontour": [
           {
            "colorbar": {
             "outlinewidth": 0,
             "ticks": ""
            },
            "colorscale": [
             [
              0,
              "#0d0887"
             ],
             [
              0.1111111111111111,
              "#46039f"
             ],
             [
              0.2222222222222222,
              "#7201a8"
             ],
             [
              0.3333333333333333,
              "#9c179e"
             ],
             [
              0.4444444444444444,
              "#bd3786"
             ],
             [
              0.5555555555555556,
              "#d8576b"
             ],
             [
              0.6666666666666666,
              "#ed7953"
             ],
             [
              0.7777777777777778,
              "#fb9f3a"
             ],
             [
              0.8888888888888888,
              "#fdca26"
             ],
             [
              1,
              "#f0f921"
             ]
            ],
            "type": "histogram2dcontour"
           }
          ],
          "mesh3d": [
           {
            "colorbar": {
             "outlinewidth": 0,
             "ticks": ""
            },
            "type": "mesh3d"
           }
          ],
          "parcoords": [
           {
            "line": {
             "colorbar": {
              "outlinewidth": 0,
              "ticks": ""
             }
            },
            "type": "parcoords"
           }
          ],
          "pie": [
           {
            "automargin": true,
            "type": "pie"
           }
          ],
          "scatter": [
           {
            "marker": {
             "colorbar": {
              "outlinewidth": 0,
              "ticks": ""
             }
            },
            "type": "scatter"
           }
          ],
          "scatter3d": [
           {
            "line": {
             "colorbar": {
              "outlinewidth": 0,
              "ticks": ""
             }
            },
            "marker": {
             "colorbar": {
              "outlinewidth": 0,
              "ticks": ""
             }
            },
            "type": "scatter3d"
           }
          ],
          "scattercarpet": [
           {
            "marker": {
             "colorbar": {
              "outlinewidth": 0,
              "ticks": ""
             }
            },
            "type": "scattercarpet"
           }
          ],
          "scattergeo": [
           {
            "marker": {
             "colorbar": {
              "outlinewidth": 0,
              "ticks": ""
             }
            },
            "type": "scattergeo"
           }
          ],
          "scattergl": [
           {
            "marker": {
             "colorbar": {
              "outlinewidth": 0,
              "ticks": ""
             }
            },
            "type": "scattergl"
           }
          ],
          "scattermapbox": [
           {
            "marker": {
             "colorbar": {
              "outlinewidth": 0,
              "ticks": ""
             }
            },
            "type": "scattermapbox"
           }
          ],
          "scatterpolar": [
           {
            "marker": {
             "colorbar": {
              "outlinewidth": 0,
              "ticks": ""
             }
            },
            "type": "scatterpolar"
           }
          ],
          "scatterpolargl": [
           {
            "marker": {
             "colorbar": {
              "outlinewidth": 0,
              "ticks": ""
             }
            },
            "type": "scatterpolargl"
           }
          ],
          "scatterternary": [
           {
            "marker": {
             "colorbar": {
              "outlinewidth": 0,
              "ticks": ""
             }
            },
            "type": "scatterternary"
           }
          ],
          "surface": [
           {
            "colorbar": {
             "outlinewidth": 0,
             "ticks": ""
            },
            "colorscale": [
             [
              0,
              "#0d0887"
             ],
             [
              0.1111111111111111,
              "#46039f"
             ],
             [
              0.2222222222222222,
              "#7201a8"
             ],
             [
              0.3333333333333333,
              "#9c179e"
             ],
             [
              0.4444444444444444,
              "#bd3786"
             ],
             [
              0.5555555555555556,
              "#d8576b"
             ],
             [
              0.6666666666666666,
              "#ed7953"
             ],
             [
              0.7777777777777778,
              "#fb9f3a"
             ],
             [
              0.8888888888888888,
              "#fdca26"
             ],
             [
              1,
              "#f0f921"
             ]
            ],
            "type": "surface"
           }
          ],
          "table": [
           {
            "cells": {
             "fill": {
              "color": "#EBF0F8"
             },
             "line": {
              "color": "white"
             }
            },
            "header": {
             "fill": {
              "color": "#C8D4E3"
             },
             "line": {
              "color": "white"
             }
            },
            "type": "table"
           }
          ]
         },
         "layout": {
          "annotationdefaults": {
           "arrowcolor": "#2a3f5f",
           "arrowhead": 0,
           "arrowwidth": 1
          },
          "autotypenumbers": "strict",
          "coloraxis": {
           "colorbar": {
            "outlinewidth": 0,
            "ticks": ""
           }
          },
          "colorscale": {
           "diverging": [
            [
             0,
             "#8e0152"
            ],
            [
             0.1,
             "#c51b7d"
            ],
            [
             0.2,
             "#de77ae"
            ],
            [
             0.3,
             "#f1b6da"
            ],
            [
             0.4,
             "#fde0ef"
            ],
            [
             0.5,
             "#f7f7f7"
            ],
            [
             0.6,
             "#e6f5d0"
            ],
            [
             0.7,
             "#b8e186"
            ],
            [
             0.8,
             "#7fbc41"
            ],
            [
             0.9,
             "#4d9221"
            ],
            [
             1,
             "#276419"
            ]
           ],
           "sequential": [
            [
             0,
             "#0d0887"
            ],
            [
             0.1111111111111111,
             "#46039f"
            ],
            [
             0.2222222222222222,
             "#7201a8"
            ],
            [
             0.3333333333333333,
             "#9c179e"
            ],
            [
             0.4444444444444444,
             "#bd3786"
            ],
            [
             0.5555555555555556,
             "#d8576b"
            ],
            [
             0.6666666666666666,
             "#ed7953"
            ],
            [
             0.7777777777777778,
             "#fb9f3a"
            ],
            [
             0.8888888888888888,
             "#fdca26"
            ],
            [
             1,
             "#f0f921"
            ]
           ],
           "sequentialminus": [
            [
             0,
             "#0d0887"
            ],
            [
             0.1111111111111111,
             "#46039f"
            ],
            [
             0.2222222222222222,
             "#7201a8"
            ],
            [
             0.3333333333333333,
             "#9c179e"
            ],
            [
             0.4444444444444444,
             "#bd3786"
            ],
            [
             0.5555555555555556,
             "#d8576b"
            ],
            [
             0.6666666666666666,
             "#ed7953"
            ],
            [
             0.7777777777777778,
             "#fb9f3a"
            ],
            [
             0.8888888888888888,
             "#fdca26"
            ],
            [
             1,
             "#f0f921"
            ]
           ]
          },
          "colorway": [
           "#636efa",
           "#EF553B",
           "#00cc96",
           "#ab63fa",
           "#FFA15A",
           "#19d3f3",
           "#FF6692",
           "#B6E880",
           "#FF97FF",
           "#FECB52"
          ],
          "font": {
           "color": "#2a3f5f"
          },
          "geo": {
           "bgcolor": "white",
           "lakecolor": "white",
           "landcolor": "#E5ECF6",
           "showlakes": true,
           "showland": true,
           "subunitcolor": "white"
          },
          "hoverlabel": {
           "align": "left"
          },
          "hovermode": "closest",
          "mapbox": {
           "style": "light"
          },
          "paper_bgcolor": "white",
          "plot_bgcolor": "#E5ECF6",
          "polar": {
           "angularaxis": {
            "gridcolor": "white",
            "linecolor": "white",
            "ticks": ""
           },
           "bgcolor": "#E5ECF6",
           "radialaxis": {
            "gridcolor": "white",
            "linecolor": "white",
            "ticks": ""
           }
          },
          "scene": {
           "xaxis": {
            "backgroundcolor": "#E5ECF6",
            "gridcolor": "white",
            "gridwidth": 2,
            "linecolor": "white",
            "showbackground": true,
            "ticks": "",
            "zerolinecolor": "white"
           },
           "yaxis": {
            "backgroundcolor": "#E5ECF6",
            "gridcolor": "white",
            "gridwidth": 2,
            "linecolor": "white",
            "showbackground": true,
            "ticks": "",
            "zerolinecolor": "white"
           },
           "zaxis": {
            "backgroundcolor": "#E5ECF6",
            "gridcolor": "white",
            "gridwidth": 2,
            "linecolor": "white",
            "showbackground": true,
            "ticks": "",
            "zerolinecolor": "white"
           }
          },
          "shapedefaults": {
           "line": {
            "color": "#2a3f5f"
           }
          },
          "ternary": {
           "aaxis": {
            "gridcolor": "white",
            "linecolor": "white",
            "ticks": ""
           },
           "baxis": {
            "gridcolor": "white",
            "linecolor": "white",
            "ticks": ""
           },
           "bgcolor": "#E5ECF6",
           "caxis": {
            "gridcolor": "white",
            "linecolor": "white",
            "ticks": ""
           }
          },
          "title": {
           "x": 0.05
          },
          "xaxis": {
           "automargin": true,
           "gridcolor": "white",
           "linecolor": "white",
           "ticks": "",
           "title": {
            "standoff": 15
           },
           "zerolinecolor": "white",
           "zerolinewidth": 2
          },
          "yaxis": {
           "automargin": true,
           "gridcolor": "white",
           "linecolor": "white",
           "ticks": "",
           "title": {
            "standoff": 15
           },
           "zerolinecolor": "white",
           "zerolinewidth": 2
          }
         }
        },
        "title": {
         "text": "Distribution of compound score"
        },
        "xaxis": {
         "title": {
          "text": "Compound score"
         }
        },
        "yaxis": {
         "showticklabels": false
        }
       }
      }
     },
     "metadata": {},
     "output_type": "display_data"
    }
   ],
   "source": [
    "# Making ridge plot of the blob_polar distributions per category\n",
    "\n",
    "import plotly.graph_objects as go\n",
    "fig = go.Figure()\n",
    "for index, media in enumerate(media_list):\n",
    "    fig.add_trace(go.Scatter(\n",
    "                            x=[-1, 1], y=np.full(5, len(media_list)-index),\n",
    "                            mode='lines',\n",
    "                            line_color='white'))\n",
    "    \n",
    "    fig.add_trace(go.Scatter(\n",
    "                            x=array_dict[f'x_{media}'],\n",
    "                            y=array_dict[f'y_{media}'] + (len(media_list)-index) ,\n",
    "                            fill='tonexty',\n",
    "                            name=f'{media}'))\n",
    "    \n",
    "    # Adding text to figure\n",
    "    fig.add_annotation(\n",
    "                        x=-0.1,\n",
    "                        y=len(media_list)-index,\n",
    "                        text=f'{media}',\n",
    "                        showarrow=False,\n",
    "                        yshift=1)\n",
    "\n",
    "# figure and legend titles\n",
    "fig.update_layout(\n",
    "                title='Distribution of compound score',\n",
    "                showlegend=False,\n",
    "                xaxis=dict(title='Compound score'),\n",
    "                yaxis=dict(showticklabels=False) # that way you hide the y axis ticks labels\n",
    "                )\n",
    "\n",
    "fig.show()\n",
    "fig.write_html(\"images/polarity_blob_categories.html\")"
   ]
  },
  {
   "cell_type": "code",
   "execution_count": 264,
   "metadata": {},
   "outputs": [],
   "source": [
    "df_compound = df_rounded.copy()"
   ]
  },
  {
   "cell_type": "code",
   "execution_count": 265,
   "metadata": {},
   "outputs": [
    {
     "data": {
      "text/html": [
       "<div>\n",
       "<style scoped>\n",
       "    .dataframe tbody tr th:only-of-type {\n",
       "        vertical-align: middle;\n",
       "    }\n",
       "\n",
       "    .dataframe tbody tr th {\n",
       "        vertical-align: top;\n",
       "    }\n",
       "\n",
       "    .dataframe thead th {\n",
       "        text-align: right;\n",
       "    }\n",
       "</style>\n",
       "<table border=\"1\" class=\"dataframe\">\n",
       "  <thead>\n",
       "    <tr style=\"text-align: right;\">\n",
       "      <th></th>\n",
       "      <th>category</th>\n",
       "      <th>compound</th>\n",
       "      <th>count</th>\n",
       "    </tr>\n",
       "  </thead>\n",
       "  <tbody>\n",
       "    <tr>\n",
       "      <th>0</th>\n",
       "      <td>Celebrity magazine</td>\n",
       "      <td>-1.00</td>\n",
       "      <td>12</td>\n",
       "    </tr>\n",
       "    <tr>\n",
       "      <th>1</th>\n",
       "      <td>Celebrity magazine</td>\n",
       "      <td>-0.99</td>\n",
       "      <td>124</td>\n",
       "    </tr>\n",
       "    <tr>\n",
       "      <th>2</th>\n",
       "      <td>Celebrity magazine</td>\n",
       "      <td>-0.98</td>\n",
       "      <td>351</td>\n",
       "    </tr>\n",
       "    <tr>\n",
       "      <th>3</th>\n",
       "      <td>Celebrity magazine</td>\n",
       "      <td>-0.97</td>\n",
       "      <td>594</td>\n",
       "    </tr>\n",
       "    <tr>\n",
       "      <th>4</th>\n",
       "      <td>Celebrity magazine</td>\n",
       "      <td>-0.96</td>\n",
       "      <td>843</td>\n",
       "    </tr>\n",
       "    <tr>\n",
       "      <th>...</th>\n",
       "      <td>...</td>\n",
       "      <td>...</td>\n",
       "      <td>...</td>\n",
       "    </tr>\n",
       "    <tr>\n",
       "      <th>798</th>\n",
       "      <td>Sports</td>\n",
       "      <td>0.96</td>\n",
       "      <td>6677</td>\n",
       "    </tr>\n",
       "    <tr>\n",
       "      <th>799</th>\n",
       "      <td>Sports</td>\n",
       "      <td>0.97</td>\n",
       "      <td>5424</td>\n",
       "    </tr>\n",
       "    <tr>\n",
       "      <th>800</th>\n",
       "      <td>Sports</td>\n",
       "      <td>0.98</td>\n",
       "      <td>3552</td>\n",
       "    </tr>\n",
       "    <tr>\n",
       "      <th>801</th>\n",
       "      <td>Sports</td>\n",
       "      <td>0.99</td>\n",
       "      <td>1395</td>\n",
       "    </tr>\n",
       "    <tr>\n",
       "      <th>802</th>\n",
       "      <td>Sports</td>\n",
       "      <td>1.00</td>\n",
       "      <td>60</td>\n",
       "    </tr>\n",
       "  </tbody>\n",
       "</table>\n",
       "<p>803 rows × 3 columns</p>\n",
       "</div>"
      ],
      "text/plain": [
       "               category  compound  count\n",
       "0    Celebrity magazine     -1.00     12\n",
       "1    Celebrity magazine     -0.99    124\n",
       "2    Celebrity magazine     -0.98    351\n",
       "3    Celebrity magazine     -0.97    594\n",
       "4    Celebrity magazine     -0.96    843\n",
       "..                  ...       ...    ...\n",
       "798              Sports      0.96   6677\n",
       "799              Sports      0.97   5424\n",
       "800              Sports      0.98   3552\n",
       "801              Sports      0.99   1395\n",
       "802              Sports      1.00     60\n",
       "\n",
       "[803 rows x 3 columns]"
      ]
     },
     "execution_count": 265,
     "metadata": {},
     "output_type": "execute_result"
    }
   ],
   "source": [
    "df_compound = df_compound.groupby(['category', 'compound']).agg({'compound': 'count'}).rename(columns={'compound': 'count'}).reset_index()\n",
    "df_compound"
   ]
  },
  {
   "cell_type": "code",
   "execution_count": 266,
   "metadata": {},
   "outputs": [],
   "source": [
    "categories = ['Sports', 'Newspaper','Celebrity magazine', 'Other' ]\n",
    "\n",
    "array_dict_2 = {}\n",
    "for outlet in categories:\n",
    "    array_dict_2[f'x_{outlet}'] = df_compound[df_compound['category']==outlet]['compound'] # storing the blob_polar values for each category\n",
    "    array_dict_2[f'y_{outlet}'] = np.log(df_compound[df_compound['category']==outlet]['count']) # storing the blob_polar count for each value\n",
    "    array_dict_2[f'y_{outlet}'] = (array_dict_2[f'y_{outlet}'] - array_dict_2[f'y_{outlet}'].min()) \\\n",
    "                                / (array_dict_2[f'y_{outlet}'].max() - array_dict_2[f'y_{outlet}'].min())"
   ]
  },
  {
   "cell_type": "code",
   "execution_count": 267,
   "metadata": {},
   "outputs": [
    {
     "data": {
      "application/vnd.plotly.v1+json": {
       "config": {
        "plotlyServerURL": "https://plot.ly"
       },
       "data": [
        {
         "line": {
          "color": "white"
         },
         "mode": "lines",
         "type": "scatter",
         "x": [
          -1,
          1
         ],
         "y": [
          4,
          4,
          4,
          4,
          4
         ]
        },
        {
         "fill": "tonexty",
         "name": "Sports",
         "type": "scatter",
         "x": [
          -0.99,
          -0.98,
          -0.97,
          -0.96,
          -0.95,
          -0.94,
          -0.93,
          -0.92,
          -0.91,
          -0.9,
          -0.89,
          -0.88,
          -0.87,
          -0.86,
          -0.85,
          -0.84,
          -0.83,
          -0.82,
          -0.81,
          -0.8,
          -0.79,
          -0.78,
          -0.77,
          -0.76,
          -0.75,
          -0.74,
          -0.73,
          -0.72,
          -0.71,
          -0.7,
          -0.69,
          -0.68,
          -0.67,
          -0.66,
          -0.65,
          -0.64,
          -0.63,
          -0.62,
          -0.61,
          -0.6,
          -0.59,
          -0.58,
          -0.57,
          -0.56,
          -0.55,
          -0.54,
          -0.53,
          -0.52,
          -0.51,
          -0.5,
          -0.49,
          -0.48,
          -0.47,
          -0.46,
          -0.45,
          -0.44,
          -0.43,
          -0.42,
          -0.41,
          -0.4,
          -0.39,
          -0.38,
          -0.37,
          -0.36,
          -0.35,
          -0.34,
          -0.33,
          -0.32,
          -0.31,
          -0.3,
          -0.29,
          -0.28,
          -0.27,
          -0.26,
          -0.25,
          -0.24,
          -0.23,
          -0.22,
          -0.21,
          -0.2,
          -0.19,
          -0.18,
          -0.17,
          -0.16,
          -0.15,
          -0.14,
          -0.13,
          -0.12,
          -0.11,
          -0.1,
          -0.09,
          -0.08,
          -0.07,
          -0.06,
          -0.05,
          -0.04,
          -0.03,
          -0.02,
          -0.01,
          0,
          0.01,
          0.02,
          0.03,
          0.04,
          0.05,
          0.06,
          0.07,
          0.08,
          0.09,
          0.1,
          0.11,
          0.12,
          0.13,
          0.14,
          0.15,
          0.16,
          0.17,
          0.18,
          0.19,
          0.2,
          0.21,
          0.22,
          0.23,
          0.24,
          0.25,
          0.26,
          0.27,
          0.28,
          0.29,
          0.3,
          0.31,
          0.32,
          0.33,
          0.34,
          0.35,
          0.36,
          0.37,
          0.38,
          0.39,
          0.4,
          0.41,
          0.42,
          0.43,
          0.44,
          0.45,
          0.46,
          0.47,
          0.48,
          0.49,
          0.5,
          0.51,
          0.52,
          0.53,
          0.54,
          0.55,
          0.56,
          0.57,
          0.58,
          0.59,
          0.6,
          0.61,
          0.62,
          0.63,
          0.64,
          0.65,
          0.66,
          0.67,
          0.68,
          0.69,
          0.7,
          0.71,
          0.72,
          0.73,
          0.74,
          0.75,
          0.76,
          0.77,
          0.78,
          0.79,
          0.8,
          0.81,
          0.82,
          0.83,
          0.84,
          0.85,
          0.86,
          0.87,
          0.88,
          0.89,
          0.9,
          0.91,
          0.92,
          0.93,
          0.94,
          0.95,
          0.96,
          0.97,
          0.98,
          0.99,
          1
         ],
         "y": [
          4,
          4.187162834784752,
          4.233908304488194,
          4.2717538696411665,
          4.316471749011179,
          4.3283391407248555,
          4.346352486524835,
          4.376847508491403,
          4.376058125781542,
          4.398613925444862,
          4.399241555060233,
          4.423827657074846,
          4.41120219726813,
          4.4313228608030295,
          4.422849134904109,
          4.44386440909895,
          4.44412859925895,
          4.4488918951897105,
          4.460492172169381,
          4.464108544552735,
          4.451128064195896,
          4.489134704964443,
          4.48051536449256,
          4.457545850051491,
          4.467075696233939,
          4.507683163049081,
          4.468629048714059,
          4.482586487277723,
          4.479232913617014,
          4.491847228742987,
          4.492895522051365,
          4.529042710481678,
          4.506223863288424,
          4.5171440092357065,
          4.514155337192133,
          4.514413270209456,
          4.460937693345639,
          4.529706093657165,
          4.519861661314861,
          4.529264337461394,
          4.534700517008527,
          4.454508209156197,
          4.558438817507313,
          4.53860108471296,
          4.447881427580185,
          4.579906546200373,
          4.597699640860992,
          4.461822706040409,
          4.570088229132136,
          4.483738048983321,
          4.56568485835495,
          4.62772416356357,
          4.471962165529507,
          4.5972581334026605,
          4.441318435046154,
          4.591006145990917,
          4.451373407227675,
          4.623075695981288,
          4.420527194068893,
          4.627053037760525,
          4.5069214782620115,
          4.617927334216656,
          4.456737240362026,
          4.622884240595363,
          4.441046550017394,
          4.648830422279575,
          4.492413087164244,
          4.6084084499167846,
          4.495194390237695,
          4.697579330658683,
          4.473342674126058,
          4.561473564259721,
          4.596592120715343,
          4.542206962643339,
          4.601718406834223,
          4.510872562501037,
          4.584957138406388,
          4.480606329223004,
          4.492493658060699,
          4.577567984585485,
          4.497133798387922,
          4.594024894207537,
          4.490541437706098,
          4.412485847851366,
          4.625074129101787,
          4.443200801350598,
          4.616255693730029,
          4.467699994459339,
          4.441454095261608,
          4.643973080882417,
          4.453674038248693,
          4.5943957834203575,
          4.383189596785605,
          4.5683208275545075,
          4.606338083419185,
          4.460492172169381,
          4.584296470108021,
          4.479601043589743,
          4.430719692807115,
          5,
          4.43870456040871,
          4.451618137666976,
          4.605069433944547,
          4.50580289847517,
          4.583025599920595,
          4.458803196028731,
          4.425596629439138,
          4.695358143341541,
          4.457890365309597,
          4.605502619708888,
          4.452832706988332,
          4.511006006347406,
          4.618396571244275,
          4.492493658060699,
          4.625903535278158,
          4.420359217181133,
          4.518264898719795,
          4.622756395590257,
          4.535949126123433,
          4.700352077972011,
          4.515883355329384,
          4.541574451949805,
          4.62957127539313,
          4.539801277138063,
          4.663986100561919,
          4.525656726459656,
          4.702690753468357,
          4.5030216532238105,
          4.509933333643757,
          4.64618032532754,
          4.520044240361792,
          4.689504323835961,
          4.5303102756712565,
          4.746536306500949,
          4.481691371558666,
          4.765433292100494,
          4.528430639579673,
          4.679992980161456,
          4.544885905120369,
          4.730144492274523,
          4.506013606883123,
          4.7118686103281995,
          4.513051485624148,
          4.770530128157096,
          4.56051263019011,
          4.670603627417466,
          4.525253966027864,
          4.673288416543112,
          4.724291909603881,
          4.5650722657982135,
          4.69524626044762,
          4.514026115696793,
          4.669312731184617,
          4.6457934144551825,
          4.561632807982838,
          4.667357465424063,
          4.694889417368629,
          4.549854385436054,
          4.711937302045435,
          4.663958096421724,
          4.676470252551628,
          4.707790843936058,
          4.545965319079911,
          4.732134344373937,
          4.667668086871833,
          4.656194407637518,
          4.662191767174189,
          4.662661179314515,
          4.65123550944138,
          4.672341656504449,
          4.6468829411679895,
          4.649498131780621,
          4.664167932704007,
          4.692563873548856,
          4.64961167774783,
          4.661461861049926,
          4.699244557826361,
          4.693230995911731,
          4.6489120942199875,
          4.684705453327494,
          4.677743822064453,
          4.676173986865045,
          4.674452858581019,
          4.688462876180359,
          4.673352058185514,
          4.6826325101758925,
          4.67665496488097,
          4.683931800405209,
          4.678856810212515,
          4.682875277804914,
          4.677926152042037,
          4.683048315847889,
          4.681830584814223,
          4.669339246669702,
          4.666365008401509,
          4.659341761274133,
          4.638970896782471,
          4.5974791357285785,
          4.505873184953634,
          4.197489691995033
         ]
        },
        {
         "line": {
          "color": "white"
         },
         "mode": "lines",
         "type": "scatter",
         "x": [
          -1,
          1
         ],
         "y": [
          3,
          3,
          3,
          3,
          3
         ]
        },
        {
         "fill": "tonexty",
         "name": "Newspaper",
         "type": "scatter",
         "x": [
          -1,
          -0.99,
          -0.98,
          -0.97,
          -0.96,
          -0.95,
          -0.94,
          -0.93,
          -0.92,
          -0.91,
          -0.9,
          -0.89,
          -0.88,
          -0.87,
          -0.86,
          -0.85,
          -0.84,
          -0.83,
          -0.82,
          -0.81,
          -0.8,
          -0.79,
          -0.78,
          -0.77,
          -0.76,
          -0.75,
          -0.74,
          -0.73,
          -0.72,
          -0.71,
          -0.7,
          -0.69,
          -0.68,
          -0.67,
          -0.66,
          -0.65,
          -0.64,
          -0.63,
          -0.62,
          -0.61,
          -0.6,
          -0.59,
          -0.58,
          -0.57,
          -0.56,
          -0.55,
          -0.54,
          -0.53,
          -0.52,
          -0.51,
          -0.5,
          -0.49,
          -0.48,
          -0.47,
          -0.46,
          -0.45,
          -0.44,
          -0.43,
          -0.42,
          -0.41,
          -0.4,
          -0.39,
          -0.38,
          -0.37,
          -0.36,
          -0.35,
          -0.34,
          -0.33,
          -0.32,
          -0.31,
          -0.3,
          -0.29,
          -0.28,
          -0.27,
          -0.26,
          -0.25,
          -0.24,
          -0.23,
          -0.22,
          -0.21,
          -0.2,
          -0.19,
          -0.18,
          -0.17,
          -0.16,
          -0.15,
          -0.14,
          -0.13,
          -0.12,
          -0.11,
          -0.1,
          -0.09,
          -0.08,
          -0.07,
          -0.06,
          -0.05,
          -0.04,
          -0.03,
          -0.02,
          -0.01,
          0,
          0.01,
          0.02,
          0.03,
          0.04,
          0.05,
          0.06,
          0.07,
          0.08,
          0.09,
          0.1,
          0.11,
          0.12,
          0.13,
          0.14,
          0.15,
          0.16,
          0.17,
          0.18,
          0.19,
          0.2,
          0.21,
          0.22,
          0.23,
          0.24,
          0.25,
          0.26,
          0.27,
          0.28,
          0.29,
          0.3,
          0.31,
          0.32,
          0.33,
          0.34,
          0.35,
          0.36,
          0.37,
          0.38,
          0.39,
          0.4,
          0.41,
          0.42,
          0.43,
          0.44,
          0.45,
          0.46,
          0.47,
          0.48,
          0.49,
          0.5,
          0.51,
          0.52,
          0.53,
          0.54,
          0.55,
          0.56,
          0.57,
          0.58,
          0.59,
          0.6,
          0.61,
          0.62,
          0.63,
          0.64,
          0.65,
          0.66,
          0.67,
          0.68,
          0.69,
          0.7,
          0.71,
          0.72,
          0.73,
          0.74,
          0.75,
          0.76,
          0.77,
          0.78,
          0.79,
          0.8,
          0.81,
          0.82,
          0.83,
          0.84,
          0.85,
          0.86,
          0.87,
          0.88,
          0.89,
          0.9,
          0.91,
          0.92,
          0.93,
          0.94,
          0.95,
          0.96,
          0.97,
          0.98,
          0.99,
          1
         ],
         "y": [
          3,
          3.2636458562965056,
          3.3611486405699225,
          3.411329632515358,
          3.4470212330248042,
          3.4690129809248957,
          3.484185253747778,
          3.501558556461304,
          3.5145354461148246,
          3.5168428876743376,
          3.5292529892703985,
          3.5328691266201164,
          3.5465753924559524,
          3.543150598991965,
          3.549574922869511,
          3.542863155466552,
          3.564889264872453,
          3.5566883064559702,
          3.5607095720908264,
          3.566469811072046,
          3.57607296484644,
          3.5450702614714094,
          3.5900528612708618,
          3.5916039094244794,
          3.5601074046898935,
          3.561084565054536,
          3.604866189343656,
          3.5631328796001114,
          3.568686691055778,
          3.5711394395713345,
          3.578323513017597,
          3.591813695133413,
          3.599946257680533,
          3.5951732213288574,
          3.6033616474086023,
          3.602902135725591,
          3.591896681095336,
          3.5114180161417172,
          3.623574648131303,
          3.602975398841482,
          3.6293266644149016,
          3.6017074952216084,
          3.511729858379068,
          3.6337896109753656,
          3.628545313896386,
          3.502793296270163,
          3.6433220973608167,
          3.663064111392453,
          3.5029330172953665,
          3.648957749855058,
          3.5165945585357608,
          3.647061961351871,
          3.686037697527914,
          3.4989129235771808,
          3.6455515634113773,
          3.495686592788014,
          3.6545196423723074,
          3.4827685483378836,
          3.669463271307997,
          3.47030870940371,
          3.6816883457822667,
          3.5435051992029067,
          3.662564064487902,
          3.5016675554480123,
          3.673590174197342,
          3.481547714075195,
          3.687283029659154,
          3.536004011888712,
          3.6698472051495123,
          3.5407544455104505,
          3.7393030614633487,
          3.529428561293717,
          3.5813673462422573,
          3.6580995968948837,
          3.5402828960889754,
          3.6425164311410922,
          3.5435120046018946,
          3.6450879669536445,
          3.5169530340190924,
          3.5229817810004516,
          3.627949496291113,
          3.515146031554542,
          3.6371175782041267,
          3.52781956007071,
          3.4448813584722817,
          3.6571279638177527,
          3.4795448717034976,
          3.6405314947507987,
          3.4901217002520175,
          3.4724523908379665,
          3.6694896889248607,
          3.4792370127484817,
          3.638569051228392,
          3.422295564169713,
          3.5885071166334153,
          3.6383443998893705,
          3.487055478697265,
          3.6185441560283813,
          3.4918900610457957,
          3.4547133023172893,
          4,
          3.4616391372244117,
          3.4666384725938,
          3.6527419234741507,
          3.5294763844844144,
          3.6217213947289637,
          3.480889685214181,
          3.4418816938801347,
          3.7197437312438435,
          3.472588447371373,
          3.641285013715601,
          3.4753693093916613,
          3.523110268279534,
          3.653391226233419,
          3.5054007301156225,
          3.655924746222751,
          3.44722237097127,
          3.528780418789573,
          3.6492173107861774,
          3.5485905616219053,
          3.699832108843217,
          3.53540221398464,
          3.5526486966367834,
          3.66057543702476,
          3.5450769481730644,
          3.6708722105216918,
          3.5429522253893593,
          3.723443185764677,
          3.517765722946119,
          3.5271186390114226,
          3.6651441941683203,
          3.5331601161312274,
          3.714164145107145,
          3.546792094866427,
          3.7221467209851564,
          3.495172469032672,
          3.7629604635544878,
          3.5363365929643304,
          3.713997153202696,
          3.5545202299517666,
          3.7514212599026,
          3.5077509701066325,
          3.7323992967330457,
          3.5272739697258797,
          3.7575736927685117,
          3.5643094438114815,
          3.69233098171807,
          3.5313139066591246,
          3.694887404372286,
          3.7283457926136467,
          3.5677485394725803,
          3.6998755246580997,
          3.522129077714423,
          3.6797855589883546,
          3.6582027389815917,
          3.564792890138944,
          3.6805119046020156,
          3.694822860159883,
          3.5536319088931956,
          3.6958720797173235,
          3.667905703781282,
          3.675753378024689,
          3.693071087503982,
          3.545183867088446,
          3.7221795922174783,
          3.65991420100273,
          3.6602719887508153,
          3.664500469942457,
          3.6587036179565247,
          3.651497662197412,
          3.661075870445354,
          3.648922390982815,
          3.649013879188211,
          3.651753956555539,
          3.683305694332086,
          3.643359753699043,
          3.6490097226743416,
          3.6791510279819417,
          3.680482730952874,
          3.633247868746717,
          3.669565595895201,
          3.6629486918665495,
          3.655253066011759,
          3.654096690141066,
          3.6666857206128776,
          3.644931445730633,
          3.658213983613228,
          3.6509686171141436,
          3.6550222134817405,
          3.6460729224240898,
          3.64910734943399,
          3.639146787785173,
          3.6410284871066447,
          3.6319255018031997,
          3.6185617181099907,
          3.611735874044244,
          3.594258660138868,
          3.5691061626612437,
          3.525375166661958,
          3.435629358886999,
          3.1756661623665674
         ]
        },
        {
         "line": {
          "color": "white"
         },
         "mode": "lines",
         "type": "scatter",
         "x": [
          -1,
          1
         ],
         "y": [
          2,
          2,
          2,
          2,
          2
         ]
        },
        {
         "fill": "tonexty",
         "name": "Celebrity magazine",
         "type": "scatter",
         "x": [
          -1,
          -0.99,
          -0.98,
          -0.97,
          -0.96,
          -0.95,
          -0.94,
          -0.93,
          -0.92,
          -0.91,
          -0.9,
          -0.89,
          -0.88,
          -0.87,
          -0.86,
          -0.85,
          -0.84,
          -0.83,
          -0.82,
          -0.81,
          -0.8,
          -0.79,
          -0.78,
          -0.77,
          -0.76,
          -0.75,
          -0.74,
          -0.73,
          -0.72,
          -0.71,
          -0.7,
          -0.69,
          -0.68,
          -0.67,
          -0.66,
          -0.65,
          -0.64,
          -0.63,
          -0.62,
          -0.61,
          -0.6,
          -0.59,
          -0.58,
          -0.57,
          -0.56,
          -0.55,
          -0.54,
          -0.53,
          -0.52,
          -0.51,
          -0.5,
          -0.49,
          -0.48,
          -0.47,
          -0.46,
          -0.45,
          -0.44,
          -0.43,
          -0.42,
          -0.41,
          -0.4,
          -0.39,
          -0.38,
          -0.37,
          -0.36,
          -0.35,
          -0.34,
          -0.33,
          -0.32,
          -0.31,
          -0.3,
          -0.29,
          -0.28,
          -0.27,
          -0.26,
          -0.25,
          -0.24,
          -0.23,
          -0.22,
          -0.21,
          -0.2,
          -0.19,
          -0.18,
          -0.17,
          -0.16,
          -0.15,
          -0.14,
          -0.13,
          -0.12,
          -0.11,
          -0.1,
          -0.09,
          -0.08,
          -0.07,
          -0.06,
          -0.05,
          -0.04,
          -0.03,
          -0.02,
          -0.01,
          0,
          0.01,
          0.02,
          0.03,
          0.04,
          0.05,
          0.06,
          0.07,
          0.08,
          0.09,
          0.1,
          0.11,
          0.12,
          0.13,
          0.14,
          0.15,
          0.16,
          0.17,
          0.18,
          0.19,
          0.2,
          0.21,
          0.22,
          0.23,
          0.24,
          0.25,
          0.26,
          0.27,
          0.28,
          0.29,
          0.3,
          0.31,
          0.32,
          0.33,
          0.34,
          0.35,
          0.36,
          0.37,
          0.38,
          0.39,
          0.4,
          0.41,
          0.42,
          0.43,
          0.44,
          0.45,
          0.46,
          0.47,
          0.48,
          0.49,
          0.5,
          0.51,
          0.52,
          0.53,
          0.54,
          0.55,
          0.56,
          0.57,
          0.58,
          0.59,
          0.6,
          0.61,
          0.62,
          0.63,
          0.64,
          0.65,
          0.66,
          0.67,
          0.68,
          0.69,
          0.7,
          0.71,
          0.72,
          0.73,
          0.74,
          0.75,
          0.76,
          0.77,
          0.78,
          0.79,
          0.8,
          0.81,
          0.82,
          0.83,
          0.84,
          0.85,
          0.86,
          0.87,
          0.88,
          0.89,
          0.9,
          0.91,
          0.92,
          0.93,
          0.94,
          0.95,
          0.96,
          0.97,
          0.98,
          0.99,
          1
         ],
         "y": [
          2,
          2.233534628169826,
          2.3375838181892745,
          2.3901924827342493,
          2.4252008173544133,
          2.4459125884262707,
          2.452444680782972,
          2.470118001268444,
          2.4818204324541875,
          2.484018296177646,
          2.4974371253733363,
          2.4957525287859053,
          2.5152746604084237,
          2.5090102639016405,
          2.510487227059828,
          2.5054058437277558,
          2.531231948841385,
          2.517702743260954,
          2.5192893179852955,
          2.527677363535966,
          2.5421574107643035,
          2.508134206169639,
          2.5489902938041267,
          2.556317424075441,
          2.515226456611927,
          2.520210972195213,
          2.5676398774019455,
          2.520942227913778,
          2.5255258439265784,
          2.528356186839498,
          2.535297663238679,
          2.5534309285924626,
          2.5591850818779114,
          2.5587492210276794,
          2.567981851313667,
          2.559649977061569,
          2.5529030552510834,
          2.4633052747948616,
          2.5786570774737916,
          2.562605220632436,
          2.585643175486569,
          2.559958710785952,
          2.47169518323125,
          2.5931730272992484,
          2.5912529204052737,
          2.4531647470726625,
          2.6073354018426675,
          2.6191945679142066,
          2.4510804198700527,
          2.610117793840592,
          2.463628895704806,
          2.6046115314243354,
          2.65040836674659,
          2.435985537241581,
          2.601282610343943,
          2.4443576684849497,
          2.6108616973932195,
          2.4316323461432092,
          2.624619166542252,
          2.4147044279919894,
          2.6437406017265284,
          2.4942176886662857,
          2.6213865020070006,
          2.4447486710315784,
          2.6298105799751617,
          2.4235261576010747,
          2.6509930474410566,
          2.4882110549619876,
          2.6283435034693925,
          2.483224650949105,
          2.696617459478142,
          2.472732985603432,
          2.538136629131712,
          2.614482534314132,
          2.4786043205919577,
          2.598993170569552,
          2.4874501221293888,
          2.603181250442246,
          2.464112371782273,
          2.4624916106320445,
          2.579927404184718,
          2.4567758393301937,
          2.599118273305505,
          2.4704203409512,
          2.387979653615089,
          2.6141962097838087,
          2.4193384048997997,
          2.5902560960994343,
          2.429268731040287,
          2.4203396525525576,
          2.626205083421038,
          2.422556464922372,
          2.591926920534216,
          2.360635901404542,
          2.5424883501967295,
          2.5914780922497878,
          2.4203396525525576,
          2.5711184463591006,
          2.4321869719348936,
          2.3928504139253275,
          3,
          2.4031236998502026,
          2.405173526871723,
          2.6051426562875952,
          2.4747768273112327,
          2.57216068108385,
          2.4229212024959605,
          2.383581461282017,
          2.688371965558182,
          2.418327030676756,
          2.5933718540443187,
          2.4114913395699897,
          2.4669651451653376,
          2.6037399042633504,
          2.44658533619889,
          2.61931382705046,
          2.3898552184216464,
          2.478186206642491,
          2.604057739330748,
          2.5037972496758667,
          2.6509310096117225,
          2.4810090789249286,
          2.5095730622727643,
          2.6211360248603546,
          2.486426453316555,
          2.6258548246605065,
          2.4910140692618508,
          2.6889082445838803,
          2.4627364057944288,
          2.4812125353000907,
          2.630665406022969,
          2.4840841498342217,
          2.6790107714619222,
          2.504872515669455,
          2.6729243628385264,
          2.4447486710315784,
          2.7474160458035364,
          2.4870035558897845,
          2.6772329686577674,
          2.50133477513819,
          2.726277327752335,
          2.4637903142610766,
          2.7060246727239736,
          2.4859752818020877,
          2.72547369638374,
          2.514694675560372,
          2.6678679425448664,
          2.4961034020367503,
          2.6648687116452936,
          2.7029296579580064,
          2.5308202612533366,
          2.6688895171379303,
          2.4801226196179473,
          2.645459517593024,
          2.627421417126662,
          2.5217585489686285,
          2.650308505273909,
          2.6672372986180646,
          2.5180783259518447,
          2.6599449388212286,
          2.641610880270713,
          2.652848684695048,
          2.661576092847249,
          2.510638778653215,
          2.7055801373979804,
          2.6260619439985753,
          2.6341896935154825,
          2.6411192163657207,
          2.629687863256099,
          2.6229748680110037,
          2.6285610611052515,
          2.6206331804858536,
          2.6214698551616946,
          2.625343157288234,
          2.660182828964779,
          2.6198402716714027,
          2.6254553084523207,
          2.6580558451823526,
          2.663509937901266,
          2.6083475244934786,
          2.6511913102547435,
          2.6473168116692856,
          2.6394348122696374,
          2.6398100426307227,
          2.6551000012003554,
          2.6301931019544806,
          2.6490011488168856,
          2.6426814106028362,
          2.6456952094567665,
          2.641064437523542,
          2.6426544494881146,
          2.636524627032243,
          2.642829566938491,
          2.6363381022546317,
          2.625230880202532,
          2.6231388811261644,
          2.6093683147924334,
          2.5933056223779856,
          2.5557403215022116,
          2.4765670429331696,
          2.2149795979389917
         ]
        },
        {
         "line": {
          "color": "white"
         },
         "mode": "lines",
         "type": "scatter",
         "x": [
          -1,
          1
         ],
         "y": [
          1,
          1,
          1,
          1,
          1
         ]
        },
        {
         "fill": "tonexty",
         "name": "Other",
         "type": "scatter",
         "x": [
          -1,
          -0.99,
          -0.98,
          -0.97,
          -0.96,
          -0.95,
          -0.94,
          -0.93,
          -0.92,
          -0.91,
          -0.9,
          -0.89,
          -0.88,
          -0.87,
          -0.86,
          -0.85,
          -0.84,
          -0.83,
          -0.82,
          -0.81,
          -0.8,
          -0.79,
          -0.78,
          -0.77,
          -0.76,
          -0.75,
          -0.74,
          -0.73,
          -0.72,
          -0.71,
          -0.7,
          -0.69,
          -0.68,
          -0.67,
          -0.66,
          -0.65,
          -0.64,
          -0.63,
          -0.62,
          -0.61,
          -0.6,
          -0.59,
          -0.58,
          -0.57,
          -0.56,
          -0.55,
          -0.54,
          -0.53,
          -0.52,
          -0.51,
          -0.5,
          -0.49,
          -0.48,
          -0.47,
          -0.46,
          -0.45,
          -0.44,
          -0.43,
          -0.42,
          -0.41,
          -0.4,
          -0.39,
          -0.38,
          -0.37,
          -0.36,
          -0.35,
          -0.34,
          -0.33,
          -0.32,
          -0.31,
          -0.3,
          -0.29,
          -0.28,
          -0.27,
          -0.26,
          -0.25,
          -0.24,
          -0.23,
          -0.22,
          -0.21,
          -0.2,
          -0.19,
          -0.18,
          -0.17,
          -0.16,
          -0.15,
          -0.14,
          -0.13,
          -0.12,
          -0.11,
          -0.1,
          -0.09,
          -0.08,
          -0.07,
          -0.06,
          -0.05,
          -0.04,
          -0.03,
          -0.02,
          -0.01,
          0,
          0.01,
          0.02,
          0.03,
          0.04,
          0.05,
          0.06,
          0.07,
          0.08,
          0.09,
          0.1,
          0.11,
          0.12,
          0.13,
          0.14,
          0.15,
          0.16,
          0.17,
          0.18,
          0.19,
          0.2,
          0.21,
          0.22,
          0.23,
          0.24,
          0.25,
          0.26,
          0.27,
          0.28,
          0.29,
          0.3,
          0.31,
          0.32,
          0.33,
          0.34,
          0.35,
          0.36,
          0.37,
          0.38,
          0.39,
          0.4,
          0.41,
          0.42,
          0.43,
          0.44,
          0.45,
          0.46,
          0.47,
          0.48,
          0.49,
          0.5,
          0.51,
          0.52,
          0.53,
          0.54,
          0.55,
          0.56,
          0.57,
          0.58,
          0.59,
          0.6,
          0.61,
          0.62,
          0.63,
          0.64,
          0.65,
          0.66,
          0.67,
          0.68,
          0.69,
          0.7,
          0.71,
          0.72,
          0.73,
          0.74,
          0.75,
          0.76,
          0.77,
          0.78,
          0.79,
          0.8,
          0.81,
          0.82,
          0.83,
          0.84,
          0.85,
          0.86,
          0.87,
          0.88,
          0.89,
          0.9,
          0.91,
          0.92,
          0.93,
          0.94,
          0.95,
          0.96,
          0.97,
          0.98,
          0.99,
          1
         ],
         "y": [
          1,
          1.2626901223237639,
          1.36675440241012,
          1.4119616678625642,
          1.449808583048701,
          1.4733596014325225,
          1.4821039417464623,
          1.5063025465501092,
          1.5191101837568448,
          1.5211416237401483,
          1.530948679077314,
          1.5350330088489268,
          1.5517690169559641,
          1.538779152010365,
          1.5473402968640824,
          1.547436850638483,
          1.5651861655237367,
          1.553633904042289,
          1.5627406489365092,
          1.5681038774413412,
          1.5766731242356227,
          1.5510305487658624,
          1.5897777352219897,
          1.591295703324585,
          1.5621697971242918,
          1.560476692466494,
          1.6029538897732483,
          1.5663647253157447,
          1.5702592243483369,
          1.5724366747478657,
          1.5764991127140278,
          1.594027602051674,
          1.6004857294793187,
          1.5966227399551356,
          1.6056576021009006,
          1.603418824878489,
          1.5955881005214585,
          1.5112871278984588,
          1.6242136885817986,
          1.6006984644327864,
          1.628690829907039,
          1.6051789625516293,
          1.513573002921407,
          1.6368811622552997,
          1.6353093538843098,
          1.4999612864473906,
          1.645979477702049,
          1.6591822679965413,
          1.5011040463566725,
          1.6505756271336205,
          1.5162135350666572,
          1.6484550030639549,
          1.6846132956446667,
          1.493753213770427,
          1.6408292496350916,
          1.4977993841586827,
          1.6528544912738985,
          1.483892289174567,
          1.6684344120823054,
          1.470090436327912,
          1.6806484441112253,
          1.541295389643841,
          1.6608353429506715,
          1.5031089774469453,
          1.6717051657210622,
          1.4801765240916869,
          1.691878702575461,
          1.530483103701937,
          1.6687817966134706,
          1.5360803473507254,
          1.738151180754214,
          1.5302494017245865,
          1.583240003864943,
          1.6609570837184884,
          1.5350330088489268,
          1.641217989591488,
          1.5439937014366192,
          1.6402344195890661,
          1.5212063901160149,
          1.5197705544909246,
          1.6266492819468334,
          1.5081202463464,
          1.6373226937852132,
          1.5266074397719358,
          1.4407125271821934,
          1.6553073104741527,
          1.4775752996315237,
          1.6346219628528385,
          1.489699305339252,
          1.4716836157866848,
          1.6659129590006465,
          1.474895948750936,
          1.6355792411895673,
          1.4156300601750107,
          1.5835624316782546,
          1.6354893694394086,
          1.4797653912035602,
          1.6151804352577481,
          1.4881185797351888,
          1.4476200265622705,
          2,
          1.458324847089147,
          1.4687018374189094,
          1.6485948517574942,
          1.5237592303465426,
          1.6182651796427008,
          1.4770458281733987,
          1.4424510630944267,
          1.7124228158826575,
          1.465254033712287,
          1.6373931364883108,
          1.4656169454486632,
          1.514065325614879,
          1.6477524523081186,
          1.5035046130347283,
          1.652453921327062,
          1.4458296853020658,
          1.5270330008867545,
          1.6459954647424715,
          1.5473402968640824,
          1.691322600896103,
          1.529367526219504,
          1.5569909295829316,
          1.656195748925683,
          1.53187260374983,
          1.6614827157963643,
          1.53941489587991,
          1.7180353451740698,
          1.507518451964505,
          1.5264244331870715,
          1.661737675419072,
          1.5284171504805097,
          1.707546855029689,
          1.5434907932343709,
          1.7142786470563978,
          1.4889589220125954,
          1.7655148267144405,
          1.5336922345273791,
          1.7056422830395002,
          1.545040670286485,
          1.745184067068068,
          1.5086435069598125,
          1.7263217739733263,
          1.5236962915934291,
          1.745729313555646,
          1.5543958612185351,
          1.696606713786633,
          1.5274565416970498,
          1.6915914965794743,
          1.7238181421031213,
          1.5636303865620929,
          1.6921173366417683,
          1.5237592303465426,
          1.6704014903368112,
          1.6511809945374867,
          1.5543065562272562,
          1.6727890355067636,
          1.6886376784946358,
          1.5500987838595486,
          1.6833602458491344,
          1.6639086091408335,
          1.6726705709045242,
          1.681618775258891,
          1.5407769937702005,
          1.7208286072447523,
          1.6502409158040456,
          1.6518421883788827,
          1.6579465163250147,
          1.6483772145170108,
          1.644203179265502,
          1.6497058188766056,
          1.6382166986372795,
          1.6390327278557786,
          1.6433180633049884,
          1.6726468590960555,
          1.6348214897159608,
          1.6402685169251734,
          1.6678857744527074,
          1.6714291231771314,
          1.6221284881287419,
          1.6594026217457043,
          1.6546858980339136,
          1.6420071425500486,
          1.644496277214662,
          1.6568775469555785,
          1.6328799509799632,
          1.6470127220570674,
          1.6409646557378639,
          1.6445775227159856,
          1.6346945697165314,
          1.639618428565376,
          1.6294252785513395,
          1.6281262334376247,
          1.6256508865808201,
          1.6134936297126794,
          1.6092040413542832,
          1.5933380088302456,
          1.5747755943933344,
          1.5378169604076573,
          1.4640335539559084,
          1.2401010785491406
         ]
        }
       ],
       "layout": {
        "annotations": [
         {
          "showarrow": false,
          "text": "Sports",
          "x": -0.1,
          "y": 4,
          "yshift": 1
         },
         {
          "showarrow": false,
          "text": "Newspaper",
          "x": -0.1,
          "y": 3,
          "yshift": 1
         },
         {
          "showarrow": false,
          "text": "Celebrity magazine",
          "x": -0.1,
          "y": 2,
          "yshift": 1
         },
         {
          "showarrow": false,
          "text": "Other",
          "x": -0.1,
          "y": 1,
          "yshift": 1
         }
        ],
        "showlegend": false,
        "template": {
         "data": {
          "bar": [
           {
            "error_x": {
             "color": "#2a3f5f"
            },
            "error_y": {
             "color": "#2a3f5f"
            },
            "marker": {
             "line": {
              "color": "#E5ECF6",
              "width": 0.5
             },
             "pattern": {
              "fillmode": "overlay",
              "size": 10,
              "solidity": 0.2
             }
            },
            "type": "bar"
           }
          ],
          "barpolar": [
           {
            "marker": {
             "line": {
              "color": "#E5ECF6",
              "width": 0.5
             },
             "pattern": {
              "fillmode": "overlay",
              "size": 10,
              "solidity": 0.2
             }
            },
            "type": "barpolar"
           }
          ],
          "carpet": [
           {
            "aaxis": {
             "endlinecolor": "#2a3f5f",
             "gridcolor": "white",
             "linecolor": "white",
             "minorgridcolor": "white",
             "startlinecolor": "#2a3f5f"
            },
            "baxis": {
             "endlinecolor": "#2a3f5f",
             "gridcolor": "white",
             "linecolor": "white",
             "minorgridcolor": "white",
             "startlinecolor": "#2a3f5f"
            },
            "type": "carpet"
           }
          ],
          "choropleth": [
           {
            "colorbar": {
             "outlinewidth": 0,
             "ticks": ""
            },
            "type": "choropleth"
           }
          ],
          "contour": [
           {
            "colorbar": {
             "outlinewidth": 0,
             "ticks": ""
            },
            "colorscale": [
             [
              0,
              "#0d0887"
             ],
             [
              0.1111111111111111,
              "#46039f"
             ],
             [
              0.2222222222222222,
              "#7201a8"
             ],
             [
              0.3333333333333333,
              "#9c179e"
             ],
             [
              0.4444444444444444,
              "#bd3786"
             ],
             [
              0.5555555555555556,
              "#d8576b"
             ],
             [
              0.6666666666666666,
              "#ed7953"
             ],
             [
              0.7777777777777778,
              "#fb9f3a"
             ],
             [
              0.8888888888888888,
              "#fdca26"
             ],
             [
              1,
              "#f0f921"
             ]
            ],
            "type": "contour"
           }
          ],
          "contourcarpet": [
           {
            "colorbar": {
             "outlinewidth": 0,
             "ticks": ""
            },
            "type": "contourcarpet"
           }
          ],
          "heatmap": [
           {
            "colorbar": {
             "outlinewidth": 0,
             "ticks": ""
            },
            "colorscale": [
             [
              0,
              "#0d0887"
             ],
             [
              0.1111111111111111,
              "#46039f"
             ],
             [
              0.2222222222222222,
              "#7201a8"
             ],
             [
              0.3333333333333333,
              "#9c179e"
             ],
             [
              0.4444444444444444,
              "#bd3786"
             ],
             [
              0.5555555555555556,
              "#d8576b"
             ],
             [
              0.6666666666666666,
              "#ed7953"
             ],
             [
              0.7777777777777778,
              "#fb9f3a"
             ],
             [
              0.8888888888888888,
              "#fdca26"
             ],
             [
              1,
              "#f0f921"
             ]
            ],
            "type": "heatmap"
           }
          ],
          "heatmapgl": [
           {
            "colorbar": {
             "outlinewidth": 0,
             "ticks": ""
            },
            "colorscale": [
             [
              0,
              "#0d0887"
             ],
             [
              0.1111111111111111,
              "#46039f"
             ],
             [
              0.2222222222222222,
              "#7201a8"
             ],
             [
              0.3333333333333333,
              "#9c179e"
             ],
             [
              0.4444444444444444,
              "#bd3786"
             ],
             [
              0.5555555555555556,
              "#d8576b"
             ],
             [
              0.6666666666666666,
              "#ed7953"
             ],
             [
              0.7777777777777778,
              "#fb9f3a"
             ],
             [
              0.8888888888888888,
              "#fdca26"
             ],
             [
              1,
              "#f0f921"
             ]
            ],
            "type": "heatmapgl"
           }
          ],
          "histogram": [
           {
            "marker": {
             "pattern": {
              "fillmode": "overlay",
              "size": 10,
              "solidity": 0.2
             }
            },
            "type": "histogram"
           }
          ],
          "histogram2d": [
           {
            "colorbar": {
             "outlinewidth": 0,
             "ticks": ""
            },
            "colorscale": [
             [
              0,
              "#0d0887"
             ],
             [
              0.1111111111111111,
              "#46039f"
             ],
             [
              0.2222222222222222,
              "#7201a8"
             ],
             [
              0.3333333333333333,
              "#9c179e"
             ],
             [
              0.4444444444444444,
              "#bd3786"
             ],
             [
              0.5555555555555556,
              "#d8576b"
             ],
             [
              0.6666666666666666,
              "#ed7953"
             ],
             [
              0.7777777777777778,
              "#fb9f3a"
             ],
             [
              0.8888888888888888,
              "#fdca26"
             ],
             [
              1,
              "#f0f921"
             ]
            ],
            "type": "histogram2d"
           }
          ],
          "histogram2dcontour": [
           {
            "colorbar": {
             "outlinewidth": 0,
             "ticks": ""
            },
            "colorscale": [
             [
              0,
              "#0d0887"
             ],
             [
              0.1111111111111111,
              "#46039f"
             ],
             [
              0.2222222222222222,
              "#7201a8"
             ],
             [
              0.3333333333333333,
              "#9c179e"
             ],
             [
              0.4444444444444444,
              "#bd3786"
             ],
             [
              0.5555555555555556,
              "#d8576b"
             ],
             [
              0.6666666666666666,
              "#ed7953"
             ],
             [
              0.7777777777777778,
              "#fb9f3a"
             ],
             [
              0.8888888888888888,
              "#fdca26"
             ],
             [
              1,
              "#f0f921"
             ]
            ],
            "type": "histogram2dcontour"
           }
          ],
          "mesh3d": [
           {
            "colorbar": {
             "outlinewidth": 0,
             "ticks": ""
            },
            "type": "mesh3d"
           }
          ],
          "parcoords": [
           {
            "line": {
             "colorbar": {
              "outlinewidth": 0,
              "ticks": ""
             }
            },
            "type": "parcoords"
           }
          ],
          "pie": [
           {
            "automargin": true,
            "type": "pie"
           }
          ],
          "scatter": [
           {
            "marker": {
             "colorbar": {
              "outlinewidth": 0,
              "ticks": ""
             }
            },
            "type": "scatter"
           }
          ],
          "scatter3d": [
           {
            "line": {
             "colorbar": {
              "outlinewidth": 0,
              "ticks": ""
             }
            },
            "marker": {
             "colorbar": {
              "outlinewidth": 0,
              "ticks": ""
             }
            },
            "type": "scatter3d"
           }
          ],
          "scattercarpet": [
           {
            "marker": {
             "colorbar": {
              "outlinewidth": 0,
              "ticks": ""
             }
            },
            "type": "scattercarpet"
           }
          ],
          "scattergeo": [
           {
            "marker": {
             "colorbar": {
              "outlinewidth": 0,
              "ticks": ""
             }
            },
            "type": "scattergeo"
           }
          ],
          "scattergl": [
           {
            "marker": {
             "colorbar": {
              "outlinewidth": 0,
              "ticks": ""
             }
            },
            "type": "scattergl"
           }
          ],
          "scattermapbox": [
           {
            "marker": {
             "colorbar": {
              "outlinewidth": 0,
              "ticks": ""
             }
            },
            "type": "scattermapbox"
           }
          ],
          "scatterpolar": [
           {
            "marker": {
             "colorbar": {
              "outlinewidth": 0,
              "ticks": ""
             }
            },
            "type": "scatterpolar"
           }
          ],
          "scatterpolargl": [
           {
            "marker": {
             "colorbar": {
              "outlinewidth": 0,
              "ticks": ""
             }
            },
            "type": "scatterpolargl"
           }
          ],
          "scatterternary": [
           {
            "marker": {
             "colorbar": {
              "outlinewidth": 0,
              "ticks": ""
             }
            },
            "type": "scatterternary"
           }
          ],
          "surface": [
           {
            "colorbar": {
             "outlinewidth": 0,
             "ticks": ""
            },
            "colorscale": [
             [
              0,
              "#0d0887"
             ],
             [
              0.1111111111111111,
              "#46039f"
             ],
             [
              0.2222222222222222,
              "#7201a8"
             ],
             [
              0.3333333333333333,
              "#9c179e"
             ],
             [
              0.4444444444444444,
              "#bd3786"
             ],
             [
              0.5555555555555556,
              "#d8576b"
             ],
             [
              0.6666666666666666,
              "#ed7953"
             ],
             [
              0.7777777777777778,
              "#fb9f3a"
             ],
             [
              0.8888888888888888,
              "#fdca26"
             ],
             [
              1,
              "#f0f921"
             ]
            ],
            "type": "surface"
           }
          ],
          "table": [
           {
            "cells": {
             "fill": {
              "color": "#EBF0F8"
             },
             "line": {
              "color": "white"
             }
            },
            "header": {
             "fill": {
              "color": "#C8D4E3"
             },
             "line": {
              "color": "white"
             }
            },
            "type": "table"
           }
          ]
         },
         "layout": {
          "annotationdefaults": {
           "arrowcolor": "#2a3f5f",
           "arrowhead": 0,
           "arrowwidth": 1
          },
          "autotypenumbers": "strict",
          "coloraxis": {
           "colorbar": {
            "outlinewidth": 0,
            "ticks": ""
           }
          },
          "colorscale": {
           "diverging": [
            [
             0,
             "#8e0152"
            ],
            [
             0.1,
             "#c51b7d"
            ],
            [
             0.2,
             "#de77ae"
            ],
            [
             0.3,
             "#f1b6da"
            ],
            [
             0.4,
             "#fde0ef"
            ],
            [
             0.5,
             "#f7f7f7"
            ],
            [
             0.6,
             "#e6f5d0"
            ],
            [
             0.7,
             "#b8e186"
            ],
            [
             0.8,
             "#7fbc41"
            ],
            [
             0.9,
             "#4d9221"
            ],
            [
             1,
             "#276419"
            ]
           ],
           "sequential": [
            [
             0,
             "#0d0887"
            ],
            [
             0.1111111111111111,
             "#46039f"
            ],
            [
             0.2222222222222222,
             "#7201a8"
            ],
            [
             0.3333333333333333,
             "#9c179e"
            ],
            [
             0.4444444444444444,
             "#bd3786"
            ],
            [
             0.5555555555555556,
             "#d8576b"
            ],
            [
             0.6666666666666666,
             "#ed7953"
            ],
            [
             0.7777777777777778,
             "#fb9f3a"
            ],
            [
             0.8888888888888888,
             "#fdca26"
            ],
            [
             1,
             "#f0f921"
            ]
           ],
           "sequentialminus": [
            [
             0,
             "#0d0887"
            ],
            [
             0.1111111111111111,
             "#46039f"
            ],
            [
             0.2222222222222222,
             "#7201a8"
            ],
            [
             0.3333333333333333,
             "#9c179e"
            ],
            [
             0.4444444444444444,
             "#bd3786"
            ],
            [
             0.5555555555555556,
             "#d8576b"
            ],
            [
             0.6666666666666666,
             "#ed7953"
            ],
            [
             0.7777777777777778,
             "#fb9f3a"
            ],
            [
             0.8888888888888888,
             "#fdca26"
            ],
            [
             1,
             "#f0f921"
            ]
           ]
          },
          "colorway": [
           "#636efa",
           "#EF553B",
           "#00cc96",
           "#ab63fa",
           "#FFA15A",
           "#19d3f3",
           "#FF6692",
           "#B6E880",
           "#FF97FF",
           "#FECB52"
          ],
          "font": {
           "color": "#2a3f5f"
          },
          "geo": {
           "bgcolor": "white",
           "lakecolor": "white",
           "landcolor": "#E5ECF6",
           "showlakes": true,
           "showland": true,
           "subunitcolor": "white"
          },
          "hoverlabel": {
           "align": "left"
          },
          "hovermode": "closest",
          "mapbox": {
           "style": "light"
          },
          "paper_bgcolor": "white",
          "plot_bgcolor": "#E5ECF6",
          "polar": {
           "angularaxis": {
            "gridcolor": "white",
            "linecolor": "white",
            "ticks": ""
           },
           "bgcolor": "#E5ECF6",
           "radialaxis": {
            "gridcolor": "white",
            "linecolor": "white",
            "ticks": ""
           }
          },
          "scene": {
           "xaxis": {
            "backgroundcolor": "#E5ECF6",
            "gridcolor": "white",
            "gridwidth": 2,
            "linecolor": "white",
            "showbackground": true,
            "ticks": "",
            "zerolinecolor": "white"
           },
           "yaxis": {
            "backgroundcolor": "#E5ECF6",
            "gridcolor": "white",
            "gridwidth": 2,
            "linecolor": "white",
            "showbackground": true,
            "ticks": "",
            "zerolinecolor": "white"
           },
           "zaxis": {
            "backgroundcolor": "#E5ECF6",
            "gridcolor": "white",
            "gridwidth": 2,
            "linecolor": "white",
            "showbackground": true,
            "ticks": "",
            "zerolinecolor": "white"
           }
          },
          "shapedefaults": {
           "line": {
            "color": "#2a3f5f"
           }
          },
          "ternary": {
           "aaxis": {
            "gridcolor": "white",
            "linecolor": "white",
            "ticks": ""
           },
           "baxis": {
            "gridcolor": "white",
            "linecolor": "white",
            "ticks": ""
           },
           "bgcolor": "#E5ECF6",
           "caxis": {
            "gridcolor": "white",
            "linecolor": "white",
            "ticks": ""
           }
          },
          "title": {
           "x": 0.05
          },
          "xaxis": {
           "automargin": true,
           "gridcolor": "white",
           "linecolor": "white",
           "ticks": "",
           "title": {
            "standoff": 15
           },
           "zerolinecolor": "white",
           "zerolinewidth": 2
          },
          "yaxis": {
           "automargin": true,
           "gridcolor": "white",
           "linecolor": "white",
           "ticks": "",
           "title": {
            "standoff": 15
           },
           "zerolinecolor": "white",
           "zerolinewidth": 2
          }
         }
        },
        "title": {
         "text": "Distribution of compound score"
        },
        "xaxis": {
         "title": {
          "text": "Compound score"
         }
        },
        "yaxis": {
         "showticklabels": false
        }
       }
      }
     },
     "metadata": {},
     "output_type": "display_data"
    }
   ],
   "source": [
    "import plotly.graph_objects as go\n",
    "fig = go.Figure()\n",
    "for index, media in enumerate(categories):\n",
    "    \n",
    "    fig.add_trace(go.Scatter(\n",
    "                            x=[-1, 1], y=np.full(5, len(categories)-index),\n",
    "                            mode='lines',\n",
    "                            line_color='white'))\n",
    "    fig.add_trace(go.Scatter(\n",
    "                            x=array_dict_2[f'x_{media}'],\n",
    "                            y=array_dict_2[f'y_{media}']+ (len(categories)-index) ,\n",
    "                            fill='tonexty',\n",
    "                            name=f'{media}'))\n",
    "\n",
    "\n",
    "    fig.add_annotation(\n",
    "                        x=-0.1,\n",
    "                        y=len(categories)-index,\n",
    "                        text=f'{media}',\n",
    "                        showarrow=False,\n",
    "                        yshift=1)\n",
    "\n",
    "# here you can modify the figure and the legend titles\n",
    "fig.update_layout(\n",
    "                title='Distribution of compound score',\n",
    "                showlegend=False,\n",
    "                xaxis=dict(title='Compound score'),\n",
    "                yaxis=dict(showticklabels=False) # that way you hide the y axis ticks labels\n",
    "                )\n",
    "\n",
    "fig.show()\n",
    "fig.write_html(\"images/polarity_distribution_categories.html\")"
   ]
  },
  {
   "cell_type": "code",
   "execution_count": 268,
   "metadata": {},
   "outputs": [],
   "source": [
    "chosen_news = ['nytimes', 'espn', 'womansday', 'foxnews', 'cnn', 'mtv', 'wsj']\n",
    "\n",
    "df_news_compound = df_rounded.copy()\n",
    "df_news_compound['compound'] = df_news_compound['compound'].apply(lambda x: round(x, 1))\n",
    "df_news_compound = df_news_compound.groupby(['media_outlet', 'compound']).agg({'compound': 'count'}).rename(columns={'compound': 'count'}).reset_index()\n",
    "\n",
    "\n",
    "array_dict_3 = {}\n",
    "for outlet in chosen_news:\n",
    "    array_dict_3[f'x_{outlet}'] = df_news_compound[df_news_compound['media_outlet']==outlet]['compound'] # storing the blob_polar values for each category\n",
    "    array_dict_3[f'y_{outlet}'] = np.log(df_news_compound[df_news_compound['media_outlet']==outlet]['count']) # # storing the blob_polar count for each value\n",
    "    array_dict_3[f'y_{outlet}'] = (array_dict_3[f'y_{outlet}'] - array_dict_3[f'y_{outlet}'].min()) \\\n",
    "                                / (array_dict_3[f'y_{outlet}'].max() - array_dict_3[f'y_{outlet}'].min())"
   ]
  },
  {
   "cell_type": "code",
   "execution_count": 269,
   "metadata": {},
   "outputs": [
    {
     "data": {
      "application/vnd.plotly.v1+json": {
       "config": {
        "plotlyServerURL": "https://plot.ly"
       },
       "data": [
        {
         "line": {
          "color": "white"
         },
         "mode": "lines",
         "type": "scatter",
         "x": [
          -1,
          1
         ],
         "y": [
          7,
          7,
          7,
          7,
          7
         ]
        },
        {
         "fill": "tonexty",
         "name": "nytimes",
         "type": "scatter",
         "x": [
          -1,
          -0.9,
          -0.8,
          -0.7,
          -0.6,
          -0.5,
          -0.4,
          -0.3,
          -0.2,
          -0.1,
          0,
          0.1,
          0.2,
          0.3,
          0.4,
          0.5,
          0.6,
          0.7,
          0.8,
          0.9,
          1
         ],
         "y": [
          7,
          7.414583096636362,
          7.5411015311307095,
          7.5830593990836626,
          7.606643884869131,
          7.655896727964405,
          7.652791471861687,
          7.683738022332981,
          7.589412044872024,
          7.620923817638288,
          8,
          7.639025132114885,
          7.629559871205262,
          7.686438410224892,
          7.777692253084172,
          7.709350545689221,
          7.712229238680584,
          7.673020064659383,
          7.6585542754519915,
          7.558366122782695,
          7.179417373858413
         ]
        },
        {
         "line": {
          "color": "white"
         },
         "mode": "lines",
         "type": "scatter",
         "x": [
          -1,
          1
         ],
         "y": [
          6,
          6,
          6,
          6,
          6
         ]
        },
        {
         "fill": "tonexty",
         "name": "espn",
         "type": "scatter",
         "x": [
          -1,
          -0.9,
          -0.8,
          -0.7,
          -0.6,
          -0.5,
          -0.4,
          -0.3,
          -0.2,
          -0.1,
          0,
          0.1,
          0.2,
          0.3,
          0.4,
          0.5,
          0.6,
          0.7,
          0.8,
          0.9,
          1
         ],
         "y": [
          6,
          6.407718216666526,
          6.530085722830475,
          6.579388034263886,
          6.602195573360775,
          6.667117479680985,
          6.676108618532324,
          6.711340596766503,
          6.642066799098099,
          6.69359239034293,
          7,
          6.70877380121363,
          6.730417991439842,
          6.779860255186989,
          6.847485827528612,
          6.8022714932334445,
          6.837081138878801,
          6.826341604432968,
          6.859577844122693,
          6.8487526397177,
          6.621237227915143
         ]
        },
        {
         "line": {
          "color": "white"
         },
         "mode": "lines",
         "type": "scatter",
         "x": [
          -1,
          1
         ],
         "y": [
          5,
          5,
          5,
          5,
          5
         ]
        },
        {
         "fill": "tonexty",
         "name": "womansday",
         "type": "scatter",
         "x": [
          -1,
          -0.9,
          -0.8,
          -0.7,
          -0.6,
          -0.5,
          -0.4,
          -0.3,
          -0.2,
          -0.1,
          0,
          0.1,
          0.2,
          0.3,
          0.4,
          0.5,
          0.6,
          0.7,
          0.8,
          0.9,
          1
         ],
         "y": [
          5,
          5.487360521724638,
          5.568514435196335,
          5.595033729941317,
          5.613947287160306,
          5.655801343533237,
          5.6827363483566,
          5.679433885371427,
          5.618837479470417,
          5.669109796519941,
          6,
          5.65656958449426,
          5.674008296111464,
          5.720029897199632,
          5.806177317642864,
          5.763344426987807,
          5.815785132080523,
          5.799553392121851,
          5.833990864323297,
          5.820386824117346,
          5.557704830376777
         ]
        },
        {
         "line": {
          "color": "white"
         },
         "mode": "lines",
         "type": "scatter",
         "x": [
          -1,
          1
         ],
         "y": [
          4,
          4,
          4,
          4,
          4
         ]
        },
        {
         "fill": "tonexty",
         "name": "foxnews",
         "type": "scatter",
         "x": [
          -1,
          -0.9,
          -0.8,
          -0.7,
          -0.6,
          -0.5,
          -0.4,
          -0.3,
          -0.2,
          -0.1,
          0,
          0.1,
          0.2,
          0.3,
          0.4,
          0.5,
          0.6,
          0.7,
          0.8,
          0.9,
          1
         ],
         "y": [
          4,
          4.459068119475967,
          4.559096413272443,
          4.576264328780584,
          4.587074986124207,
          4.641000894162119,
          4.614674716782463,
          4.640271978229249,
          4.527642276824375,
          4.566007749161484,
          5,
          4.58715367303022,
          4.562388900983119,
          4.632606503128788,
          4.736313172578897,
          4.6655210292857126,
          4.6724584858534595,
          4.652986196051898,
          4.667744062348889,
          4.606384242670649,
          4.2224167256456075
         ]
        },
        {
         "line": {
          "color": "white"
         },
         "mode": "lines",
         "type": "scatter",
         "x": [
          -1,
          1
         ],
         "y": [
          3,
          3,
          3,
          3,
          3
         ]
        },
        {
         "fill": "tonexty",
         "name": "cnn",
         "type": "scatter",
         "x": [
          -1,
          -0.9,
          -0.8,
          -0.7,
          -0.6,
          -0.5,
          -0.4,
          -0.3,
          -0.2,
          -0.1,
          0,
          0.1,
          0.2,
          0.3,
          0.4,
          0.5,
          0.6,
          0.7,
          0.8,
          0.9,
          1
         ],
         "y": [
          3,
          3.4388112634866648,
          3.5434569208252964,
          3.5663084445147493,
          3.5811227477198178,
          3.630198398800954,
          3.6173584559076684,
          3.649921557201087,
          3.5402274436384995,
          3.577551418330671,
          4,
          3.6007142101031517,
          3.5906738480909905,
          3.6534129430476594,
          3.7481291822833436,
          3.6818240777210804,
          3.681087413047128,
          3.6662627162936565,
          3.673220631555491,
          3.614796358023674,
          3.2721127657189637
         ]
        },
        {
         "line": {
          "color": "white"
         },
         "mode": "lines",
         "type": "scatter",
         "x": [
          -1,
          1
         ],
         "y": [
          2,
          2,
          2,
          2,
          2
         ]
        },
        {
         "fill": "tonexty",
         "name": "mtv",
         "type": "scatter",
         "x": [
          -1,
          -0.9,
          -0.8,
          -0.7,
          -0.6,
          -0.5,
          -0.4,
          -0.3,
          -0.2,
          -0.1,
          0,
          0.1,
          0.2,
          0.3,
          0.4,
          0.5,
          0.6,
          0.7,
          0.8,
          0.9,
          1
         ],
         "y": [
          2,
          2.3940638303796025,
          2.505594160947444,
          2.5365826394802324,
          2.561790838994847,
          2.6017524493546635,
          2.5907898170974537,
          2.639116190668917,
          2.540852977382289,
          2.5742918030116178,
          3,
          2.6116925798195094,
          2.6178696780838013,
          2.679585692650586,
          2.7878528257973287,
          2.734588205433049,
          2.7710401313786592,
          2.765094865504305,
          2.8031958425101013,
          2.7959310999860714,
          2.4952876007880134
         ]
        },
        {
         "line": {
          "color": "white"
         },
         "mode": "lines",
         "type": "scatter",
         "x": [
          -1,
          1
         ],
         "y": [
          1,
          1,
          1,
          1,
          1
         ]
        },
        {
         "fill": "tonexty",
         "name": "wsj",
         "type": "scatter",
         "x": [
          -1,
          -0.9,
          -0.8,
          -0.7,
          -0.6,
          -0.5,
          -0.4,
          -0.3,
          -0.2,
          -0.1,
          0,
          0.1,
          0.2,
          0.3,
          0.4,
          0.5,
          0.6,
          0.7,
          0.8,
          0.9,
          1
         ],
         "y": [
          1,
          1.414013975955877,
          1.52407301537463,
          1.5697951041388305,
          1.5985042182461848,
          1.6524051626657976,
          1.6553578025204234,
          1.6928525103144092,
          1.596340503012461,
          1.6379381128692176,
          2,
          1.6555100664344846,
          1.655935617029361,
          1.705968423084144,
          1.796616082677494,
          1.7351242264035478,
          1.740213174360505,
          1.7112536597324601,
          1.7108911689545492,
          1.631043369898075,
          1.2847108031718426
         ]
        }
       ],
       "layout": {
        "annotations": [
         {
          "showarrow": false,
          "text": "nytimes",
          "x": -0.1,
          "y": 7,
          "yshift": 1
         },
         {
          "showarrow": false,
          "text": "espn",
          "x": -0.1,
          "y": 6,
          "yshift": 1
         },
         {
          "showarrow": false,
          "text": "womansday",
          "x": -0.1,
          "y": 5,
          "yshift": 1
         },
         {
          "showarrow": false,
          "text": "foxnews",
          "x": -0.1,
          "y": 4,
          "yshift": 1
         },
         {
          "showarrow": false,
          "text": "cnn",
          "x": -0.1,
          "y": 3,
          "yshift": 1
         },
         {
          "showarrow": false,
          "text": "mtv",
          "x": -0.1,
          "y": 2,
          "yshift": 1
         },
         {
          "showarrow": false,
          "text": "wsj",
          "x": -0.1,
          "y": 1,
          "yshift": 1
         }
        ],
        "showlegend": false,
        "template": {
         "data": {
          "bar": [
           {
            "error_x": {
             "color": "#2a3f5f"
            },
            "error_y": {
             "color": "#2a3f5f"
            },
            "marker": {
             "line": {
              "color": "#E5ECF6",
              "width": 0.5
             },
             "pattern": {
              "fillmode": "overlay",
              "size": 10,
              "solidity": 0.2
             }
            },
            "type": "bar"
           }
          ],
          "barpolar": [
           {
            "marker": {
             "line": {
              "color": "#E5ECF6",
              "width": 0.5
             },
             "pattern": {
              "fillmode": "overlay",
              "size": 10,
              "solidity": 0.2
             }
            },
            "type": "barpolar"
           }
          ],
          "carpet": [
           {
            "aaxis": {
             "endlinecolor": "#2a3f5f",
             "gridcolor": "white",
             "linecolor": "white",
             "minorgridcolor": "white",
             "startlinecolor": "#2a3f5f"
            },
            "baxis": {
             "endlinecolor": "#2a3f5f",
             "gridcolor": "white",
             "linecolor": "white",
             "minorgridcolor": "white",
             "startlinecolor": "#2a3f5f"
            },
            "type": "carpet"
           }
          ],
          "choropleth": [
           {
            "colorbar": {
             "outlinewidth": 0,
             "ticks": ""
            },
            "type": "choropleth"
           }
          ],
          "contour": [
           {
            "colorbar": {
             "outlinewidth": 0,
             "ticks": ""
            },
            "colorscale": [
             [
              0,
              "#0d0887"
             ],
             [
              0.1111111111111111,
              "#46039f"
             ],
             [
              0.2222222222222222,
              "#7201a8"
             ],
             [
              0.3333333333333333,
              "#9c179e"
             ],
             [
              0.4444444444444444,
              "#bd3786"
             ],
             [
              0.5555555555555556,
              "#d8576b"
             ],
             [
              0.6666666666666666,
              "#ed7953"
             ],
             [
              0.7777777777777778,
              "#fb9f3a"
             ],
             [
              0.8888888888888888,
              "#fdca26"
             ],
             [
              1,
              "#f0f921"
             ]
            ],
            "type": "contour"
           }
          ],
          "contourcarpet": [
           {
            "colorbar": {
             "outlinewidth": 0,
             "ticks": ""
            },
            "type": "contourcarpet"
           }
          ],
          "heatmap": [
           {
            "colorbar": {
             "outlinewidth": 0,
             "ticks": ""
            },
            "colorscale": [
             [
              0,
              "#0d0887"
             ],
             [
              0.1111111111111111,
              "#46039f"
             ],
             [
              0.2222222222222222,
              "#7201a8"
             ],
             [
              0.3333333333333333,
              "#9c179e"
             ],
             [
              0.4444444444444444,
              "#bd3786"
             ],
             [
              0.5555555555555556,
              "#d8576b"
             ],
             [
              0.6666666666666666,
              "#ed7953"
             ],
             [
              0.7777777777777778,
              "#fb9f3a"
             ],
             [
              0.8888888888888888,
              "#fdca26"
             ],
             [
              1,
              "#f0f921"
             ]
            ],
            "type": "heatmap"
           }
          ],
          "heatmapgl": [
           {
            "colorbar": {
             "outlinewidth": 0,
             "ticks": ""
            },
            "colorscale": [
             [
              0,
              "#0d0887"
             ],
             [
              0.1111111111111111,
              "#46039f"
             ],
             [
              0.2222222222222222,
              "#7201a8"
             ],
             [
              0.3333333333333333,
              "#9c179e"
             ],
             [
              0.4444444444444444,
              "#bd3786"
             ],
             [
              0.5555555555555556,
              "#d8576b"
             ],
             [
              0.6666666666666666,
              "#ed7953"
             ],
             [
              0.7777777777777778,
              "#fb9f3a"
             ],
             [
              0.8888888888888888,
              "#fdca26"
             ],
             [
              1,
              "#f0f921"
             ]
            ],
            "type": "heatmapgl"
           }
          ],
          "histogram": [
           {
            "marker": {
             "pattern": {
              "fillmode": "overlay",
              "size": 10,
              "solidity": 0.2
             }
            },
            "type": "histogram"
           }
          ],
          "histogram2d": [
           {
            "colorbar": {
             "outlinewidth": 0,
             "ticks": ""
            },
            "colorscale": [
             [
              0,
              "#0d0887"
             ],
             [
              0.1111111111111111,
              "#46039f"
             ],
             [
              0.2222222222222222,
              "#7201a8"
             ],
             [
              0.3333333333333333,
              "#9c179e"
             ],
             [
              0.4444444444444444,
              "#bd3786"
             ],
             [
              0.5555555555555556,
              "#d8576b"
             ],
             [
              0.6666666666666666,
              "#ed7953"
             ],
             [
              0.7777777777777778,
              "#fb9f3a"
             ],
             [
              0.8888888888888888,
              "#fdca26"
             ],
             [
              1,
              "#f0f921"
             ]
            ],
            "type": "histogram2d"
           }
          ],
          "histogram2dcontour": [
           {
            "colorbar": {
             "outlinewidth": 0,
             "ticks": ""
            },
            "colorscale": [
             [
              0,
              "#0d0887"
             ],
             [
              0.1111111111111111,
              "#46039f"
             ],
             [
              0.2222222222222222,
              "#7201a8"
             ],
             [
              0.3333333333333333,
              "#9c179e"
             ],
             [
              0.4444444444444444,
              "#bd3786"
             ],
             [
              0.5555555555555556,
              "#d8576b"
             ],
             [
              0.6666666666666666,
              "#ed7953"
             ],
             [
              0.7777777777777778,
              "#fb9f3a"
             ],
             [
              0.8888888888888888,
              "#fdca26"
             ],
             [
              1,
              "#f0f921"
             ]
            ],
            "type": "histogram2dcontour"
           }
          ],
          "mesh3d": [
           {
            "colorbar": {
             "outlinewidth": 0,
             "ticks": ""
            },
            "type": "mesh3d"
           }
          ],
          "parcoords": [
           {
            "line": {
             "colorbar": {
              "outlinewidth": 0,
              "ticks": ""
             }
            },
            "type": "parcoords"
           }
          ],
          "pie": [
           {
            "automargin": true,
            "type": "pie"
           }
          ],
          "scatter": [
           {
            "marker": {
             "colorbar": {
              "outlinewidth": 0,
              "ticks": ""
             }
            },
            "type": "scatter"
           }
          ],
          "scatter3d": [
           {
            "line": {
             "colorbar": {
              "outlinewidth": 0,
              "ticks": ""
             }
            },
            "marker": {
             "colorbar": {
              "outlinewidth": 0,
              "ticks": ""
             }
            },
            "type": "scatter3d"
           }
          ],
          "scattercarpet": [
           {
            "marker": {
             "colorbar": {
              "outlinewidth": 0,
              "ticks": ""
             }
            },
            "type": "scattercarpet"
           }
          ],
          "scattergeo": [
           {
            "marker": {
             "colorbar": {
              "outlinewidth": 0,
              "ticks": ""
             }
            },
            "type": "scattergeo"
           }
          ],
          "scattergl": [
           {
            "marker": {
             "colorbar": {
              "outlinewidth": 0,
              "ticks": ""
             }
            },
            "type": "scattergl"
           }
          ],
          "scattermapbox": [
           {
            "marker": {
             "colorbar": {
              "outlinewidth": 0,
              "ticks": ""
             }
            },
            "type": "scattermapbox"
           }
          ],
          "scatterpolar": [
           {
            "marker": {
             "colorbar": {
              "outlinewidth": 0,
              "ticks": ""
             }
            },
            "type": "scatterpolar"
           }
          ],
          "scatterpolargl": [
           {
            "marker": {
             "colorbar": {
              "outlinewidth": 0,
              "ticks": ""
             }
            },
            "type": "scatterpolargl"
           }
          ],
          "scatterternary": [
           {
            "marker": {
             "colorbar": {
              "outlinewidth": 0,
              "ticks": ""
             }
            },
            "type": "scatterternary"
           }
          ],
          "surface": [
           {
            "colorbar": {
             "outlinewidth": 0,
             "ticks": ""
            },
            "colorscale": [
             [
              0,
              "#0d0887"
             ],
             [
              0.1111111111111111,
              "#46039f"
             ],
             [
              0.2222222222222222,
              "#7201a8"
             ],
             [
              0.3333333333333333,
              "#9c179e"
             ],
             [
              0.4444444444444444,
              "#bd3786"
             ],
             [
              0.5555555555555556,
              "#d8576b"
             ],
             [
              0.6666666666666666,
              "#ed7953"
             ],
             [
              0.7777777777777778,
              "#fb9f3a"
             ],
             [
              0.8888888888888888,
              "#fdca26"
             ],
             [
              1,
              "#f0f921"
             ]
            ],
            "type": "surface"
           }
          ],
          "table": [
           {
            "cells": {
             "fill": {
              "color": "#EBF0F8"
             },
             "line": {
              "color": "white"
             }
            },
            "header": {
             "fill": {
              "color": "#C8D4E3"
             },
             "line": {
              "color": "white"
             }
            },
            "type": "table"
           }
          ]
         },
         "layout": {
          "annotationdefaults": {
           "arrowcolor": "#2a3f5f",
           "arrowhead": 0,
           "arrowwidth": 1
          },
          "autotypenumbers": "strict",
          "coloraxis": {
           "colorbar": {
            "outlinewidth": 0,
            "ticks": ""
           }
          },
          "colorscale": {
           "diverging": [
            [
             0,
             "#8e0152"
            ],
            [
             0.1,
             "#c51b7d"
            ],
            [
             0.2,
             "#de77ae"
            ],
            [
             0.3,
             "#f1b6da"
            ],
            [
             0.4,
             "#fde0ef"
            ],
            [
             0.5,
             "#f7f7f7"
            ],
            [
             0.6,
             "#e6f5d0"
            ],
            [
             0.7,
             "#b8e186"
            ],
            [
             0.8,
             "#7fbc41"
            ],
            [
             0.9,
             "#4d9221"
            ],
            [
             1,
             "#276419"
            ]
           ],
           "sequential": [
            [
             0,
             "#0d0887"
            ],
            [
             0.1111111111111111,
             "#46039f"
            ],
            [
             0.2222222222222222,
             "#7201a8"
            ],
            [
             0.3333333333333333,
             "#9c179e"
            ],
            [
             0.4444444444444444,
             "#bd3786"
            ],
            [
             0.5555555555555556,
             "#d8576b"
            ],
            [
             0.6666666666666666,
             "#ed7953"
            ],
            [
             0.7777777777777778,
             "#fb9f3a"
            ],
            [
             0.8888888888888888,
             "#fdca26"
            ],
            [
             1,
             "#f0f921"
            ]
           ],
           "sequentialminus": [
            [
             0,
             "#0d0887"
            ],
            [
             0.1111111111111111,
             "#46039f"
            ],
            [
             0.2222222222222222,
             "#7201a8"
            ],
            [
             0.3333333333333333,
             "#9c179e"
            ],
            [
             0.4444444444444444,
             "#bd3786"
            ],
            [
             0.5555555555555556,
             "#d8576b"
            ],
            [
             0.6666666666666666,
             "#ed7953"
            ],
            [
             0.7777777777777778,
             "#fb9f3a"
            ],
            [
             0.8888888888888888,
             "#fdca26"
            ],
            [
             1,
             "#f0f921"
            ]
           ]
          },
          "colorway": [
           "#636efa",
           "#EF553B",
           "#00cc96",
           "#ab63fa",
           "#FFA15A",
           "#19d3f3",
           "#FF6692",
           "#B6E880",
           "#FF97FF",
           "#FECB52"
          ],
          "font": {
           "color": "#2a3f5f"
          },
          "geo": {
           "bgcolor": "white",
           "lakecolor": "white",
           "landcolor": "#E5ECF6",
           "showlakes": true,
           "showland": true,
           "subunitcolor": "white"
          },
          "hoverlabel": {
           "align": "left"
          },
          "hovermode": "closest",
          "mapbox": {
           "style": "light"
          },
          "paper_bgcolor": "white",
          "plot_bgcolor": "#E5ECF6",
          "polar": {
           "angularaxis": {
            "gridcolor": "white",
            "linecolor": "white",
            "ticks": ""
           },
           "bgcolor": "#E5ECF6",
           "radialaxis": {
            "gridcolor": "white",
            "linecolor": "white",
            "ticks": ""
           }
          },
          "scene": {
           "xaxis": {
            "backgroundcolor": "#E5ECF6",
            "gridcolor": "white",
            "gridwidth": 2,
            "linecolor": "white",
            "showbackground": true,
            "ticks": "",
            "zerolinecolor": "white"
           },
           "yaxis": {
            "backgroundcolor": "#E5ECF6",
            "gridcolor": "white",
            "gridwidth": 2,
            "linecolor": "white",
            "showbackground": true,
            "ticks": "",
            "zerolinecolor": "white"
           },
           "zaxis": {
            "backgroundcolor": "#E5ECF6",
            "gridcolor": "white",
            "gridwidth": 2,
            "linecolor": "white",
            "showbackground": true,
            "ticks": "",
            "zerolinecolor": "white"
           }
          },
          "shapedefaults": {
           "line": {
            "color": "#2a3f5f"
           }
          },
          "ternary": {
           "aaxis": {
            "gridcolor": "white",
            "linecolor": "white",
            "ticks": ""
           },
           "baxis": {
            "gridcolor": "white",
            "linecolor": "white",
            "ticks": ""
           },
           "bgcolor": "#E5ECF6",
           "caxis": {
            "gridcolor": "white",
            "linecolor": "white",
            "ticks": ""
           }
          },
          "title": {
           "x": 0.05
          },
          "xaxis": {
           "automargin": true,
           "gridcolor": "white",
           "linecolor": "white",
           "ticks": "",
           "title": {
            "standoff": 15
           },
           "zerolinecolor": "white",
           "zerolinewidth": 2
          },
          "yaxis": {
           "automargin": true,
           "gridcolor": "white",
           "linecolor": "white",
           "ticks": "",
           "title": {
            "standoff": 15
           },
           "zerolinecolor": "white",
           "zerolinewidth": 2
          }
         }
        },
        "title": {
         "text": "Distribution of compound score"
        },
        "xaxis": {
         "title": {
          "text": "Compound score"
         }
        },
        "yaxis": {
         "showticklabels": false
        }
       }
      }
     },
     "metadata": {},
     "output_type": "display_data"
    }
   ],
   "source": [
    "import plotly.graph_objects as go\n",
    "fig = go.Figure()\n",
    "for index, media in enumerate(chosen_news):\n",
    "    fig.add_trace(go.Scatter(\n",
    "                            x=[-1, 1], y=np.full(5, len(chosen_news)-index),\n",
    "                            mode='lines',\n",
    "                            line_color='white'))\n",
    "    \n",
    "    fig.add_trace(go.Scatter(\n",
    "                            x=array_dict_3[f'x_{media}'],\n",
    "                            y=array_dict_3[f'y_{media}'] + (len(chosen_news)-index) ,\n",
    "                            fill='tonexty',\n",
    "                            name=f'{media}'))\n",
    "    \n",
    "    # plotly.graph_objects' way of adding text to a figure\n",
    "    fig.add_annotation(\n",
    "                        x=-0.1,\n",
    "                        y=len(chosen_news)-index,\n",
    "                        text=f'{media}',\n",
    "                        showarrow=False,\n",
    "                        yshift=1)\n",
    "\n",
    "# here you can modify the figure and the legend titles\n",
    "fig.update_layout(\n",
    "                title='Distribution of compound score',\n",
    "                showlegend=False,\n",
    "                xaxis=dict(title='Compound score'),\n",
    "                yaxis=dict(showticklabels=False) # that way you hide the y axis ticks labels\n",
    "                )\n",
    "\n",
    "fig.show()\n",
    "fig.write_html(\"images/polarity_distribution_medias.html\")"
   ]
  },
  {
   "cell_type": "code",
   "execution_count": 270,
   "metadata": {},
   "outputs": [
    {
     "data": {
      "application/vnd.plotly.v1+json": {
       "config": {
        "plotlyServerURL": "https://plot.ly"
       },
       "data": [
        {
         "name": "nytimes",
         "type": "scatter",
         "x": [
          -1,
          -0.9,
          -0.8,
          -0.7,
          -0.6,
          -0.5,
          -0.4,
          -0.3,
          -0.2,
          -0.1,
          0,
          0.1,
          0.2,
          0.3,
          0.4,
          0.5,
          0.6,
          0.7,
          0.8,
          0.9,
          1
         ],
         "y": [
          0,
          0.4145830966363627,
          0.5411015311307094,
          0.5830593990836622,
          0.6066438848691306,
          0.6558967279644042,
          0.6527914718616871,
          0.683738022332981,
          0.5894120448720241,
          0.6209238176382884,
          1,
          0.6390251321148853,
          0.6295598712052625,
          0.6864384102248924,
          0.7776922530841724,
          0.7093505456892211,
          0.7122292386805843,
          0.6730200646593829,
          0.6585542754519914,
          0.5583661227826947,
          0.179417373858413
         ]
        },
        {
         "name": "espn",
         "type": "scatter",
         "x": [
          -1,
          -0.9,
          -0.8,
          -0.7,
          -0.6,
          -0.5,
          -0.4,
          -0.3,
          -0.2,
          -0.1,
          0,
          0.1,
          0.2,
          0.3,
          0.4,
          0.5,
          0.6,
          0.7,
          0.8,
          0.9,
          1
         ],
         "y": [
          0,
          0.4077182166665254,
          0.5300857228304753,
          0.5793880342638854,
          0.6021955733607752,
          0.667117479680985,
          0.6761086185323245,
          0.7113405967665025,
          0.6420667990980985,
          0.6935923903429302,
          1,
          0.7087738012136302,
          0.7304179914398427,
          0.7798602551869891,
          0.8474858275286118,
          0.8022714932334447,
          0.8370811388788016,
          0.8263416044329676,
          0.8595778441226931,
          0.8487526397177007,
          0.6212372279151425
         ]
        },
        {
         "name": "womansday",
         "type": "scatter",
         "x": [
          -1,
          -0.9,
          -0.8,
          -0.7,
          -0.6,
          -0.5,
          -0.4,
          -0.3,
          -0.2,
          -0.1,
          0,
          0.1,
          0.2,
          0.3,
          0.4,
          0.5,
          0.6,
          0.7,
          0.8,
          0.9,
          1
         ],
         "y": [
          0,
          0.4873605217246381,
          0.568514435196335,
          0.5950337299413171,
          0.6139472871603056,
          0.6558013435332368,
          0.6827363483565995,
          0.6794338853714276,
          0.6188374794704173,
          0.669109796519941,
          1,
          0.6565695844942602,
          0.6740082961114638,
          0.7200298971996318,
          0.8061773176428636,
          0.7633444269878066,
          0.8157851320805236,
          0.799553392121851,
          0.8339908643232978,
          0.8203868241173456,
          0.557704830376777
         ]
        },
        {
         "name": "foxnews",
         "type": "scatter",
         "x": [
          -1,
          -0.9,
          -0.8,
          -0.7,
          -0.6,
          -0.5,
          -0.4,
          -0.3,
          -0.2,
          -0.1,
          0,
          0.1,
          0.2,
          0.3,
          0.4,
          0.5,
          0.6,
          0.7,
          0.8,
          0.9,
          1
         ],
         "y": [
          0,
          0.4590681194759675,
          0.5590964132724435,
          0.5762643287805839,
          0.5870749861242066,
          0.6410008941621186,
          0.6146747167824624,
          0.6402719782292491,
          0.5276422768243749,
          0.566007749161484,
          1,
          0.5871536730302199,
          0.5623889009831188,
          0.6326065031287884,
          0.736313172578897,
          0.6655210292857123,
          0.6724584858534596,
          0.6529861960518979,
          0.6677440623488883,
          0.6063842426706492,
          0.22241672564560794
         ]
        },
        {
         "name": "cnn",
         "type": "scatter",
         "x": [
          -1,
          -0.9,
          -0.8,
          -0.7,
          -0.6,
          -0.5,
          -0.4,
          -0.3,
          -0.2,
          -0.1,
          0,
          0.1,
          0.2,
          0.3,
          0.4,
          0.5,
          0.6,
          0.7,
          0.8,
          0.9,
          1
         ],
         "y": [
          0,
          0.4388112634866649,
          0.5434569208252965,
          0.5663084445147493,
          0.5811227477198179,
          0.630198398800954,
          0.6173584559076682,
          0.6499215572010872,
          0.5402274436384995,
          0.5775514183306711,
          1,
          0.6007142101031517,
          0.5906738480909905,
          0.6534129430476594,
          0.7481291822833435,
          0.6818240777210803,
          0.6810874130471278,
          0.6662627162936564,
          0.6732206315554914,
          0.614796358023674,
          0.27211276571896376
         ]
        },
        {
         "name": "mtv",
         "type": "scatter",
         "x": [
          -1,
          -0.9,
          -0.8,
          -0.7,
          -0.6,
          -0.5,
          -0.4,
          -0.3,
          -0.2,
          -0.1,
          0,
          0.1,
          0.2,
          0.3,
          0.4,
          0.5,
          0.6,
          0.7,
          0.8,
          0.9,
          1
         ],
         "y": [
          0,
          0.39406383037960224,
          0.505594160947444,
          0.5365826394802325,
          0.5617908389948472,
          0.6017524493546637,
          0.5907898170974539,
          0.6391161906689172,
          0.540852977382289,
          0.5742918030116178,
          1,
          0.6116925798195096,
          0.6178696780838012,
          0.6795856926505863,
          0.7878528257973287,
          0.7345882054330486,
          0.7710401313786592,
          0.7650948655043048,
          0.8031958425101011,
          0.7959310999860715,
          0.4952876007880132
         ]
        },
        {
         "name": "wsj",
         "type": "scatter",
         "x": [
          -1,
          -0.9,
          -0.8,
          -0.7,
          -0.6,
          -0.5,
          -0.4,
          -0.3,
          -0.2,
          -0.1,
          0,
          0.1,
          0.2,
          0.3,
          0.4,
          0.5,
          0.6,
          0.7,
          0.8,
          0.9,
          1
         ],
         "y": [
          0,
          0.4140139759558769,
          0.5240730153746299,
          0.5697951041388305,
          0.5985042182461847,
          0.6524051626657976,
          0.6553578025204234,
          0.6928525103144093,
          0.5963405030124611,
          0.6379381128692176,
          1,
          0.6555100664344847,
          0.6559356170293611,
          0.7059684230841442,
          0.7966160826774941,
          0.7351242264035478,
          0.740213174360505,
          0.7112536597324601,
          0.7108911689545492,
          0.6310433698980751,
          0.2847108031718426
         ]
        }
       ],
       "layout": {
        "clickmode": "event+select",
        "showlegend": true,
        "template": {
         "data": {
          "bar": [
           {
            "error_x": {
             "color": "#2a3f5f"
            },
            "error_y": {
             "color": "#2a3f5f"
            },
            "marker": {
             "line": {
              "color": "#E5ECF6",
              "width": 0.5
             },
             "pattern": {
              "fillmode": "overlay",
              "size": 10,
              "solidity": 0.2
             }
            },
            "type": "bar"
           }
          ],
          "barpolar": [
           {
            "marker": {
             "line": {
              "color": "#E5ECF6",
              "width": 0.5
             },
             "pattern": {
              "fillmode": "overlay",
              "size": 10,
              "solidity": 0.2
             }
            },
            "type": "barpolar"
           }
          ],
          "carpet": [
           {
            "aaxis": {
             "endlinecolor": "#2a3f5f",
             "gridcolor": "white",
             "linecolor": "white",
             "minorgridcolor": "white",
             "startlinecolor": "#2a3f5f"
            },
            "baxis": {
             "endlinecolor": "#2a3f5f",
             "gridcolor": "white",
             "linecolor": "white",
             "minorgridcolor": "white",
             "startlinecolor": "#2a3f5f"
            },
            "type": "carpet"
           }
          ],
          "choropleth": [
           {
            "colorbar": {
             "outlinewidth": 0,
             "ticks": ""
            },
            "type": "choropleth"
           }
          ],
          "contour": [
           {
            "colorbar": {
             "outlinewidth": 0,
             "ticks": ""
            },
            "colorscale": [
             [
              0,
              "#0d0887"
             ],
             [
              0.1111111111111111,
              "#46039f"
             ],
             [
              0.2222222222222222,
              "#7201a8"
             ],
             [
              0.3333333333333333,
              "#9c179e"
             ],
             [
              0.4444444444444444,
              "#bd3786"
             ],
             [
              0.5555555555555556,
              "#d8576b"
             ],
             [
              0.6666666666666666,
              "#ed7953"
             ],
             [
              0.7777777777777778,
              "#fb9f3a"
             ],
             [
              0.8888888888888888,
              "#fdca26"
             ],
             [
              1,
              "#f0f921"
             ]
            ],
            "type": "contour"
           }
          ],
          "contourcarpet": [
           {
            "colorbar": {
             "outlinewidth": 0,
             "ticks": ""
            },
            "type": "contourcarpet"
           }
          ],
          "heatmap": [
           {
            "colorbar": {
             "outlinewidth": 0,
             "ticks": ""
            },
            "colorscale": [
             [
              0,
              "#0d0887"
             ],
             [
              0.1111111111111111,
              "#46039f"
             ],
             [
              0.2222222222222222,
              "#7201a8"
             ],
             [
              0.3333333333333333,
              "#9c179e"
             ],
             [
              0.4444444444444444,
              "#bd3786"
             ],
             [
              0.5555555555555556,
              "#d8576b"
             ],
             [
              0.6666666666666666,
              "#ed7953"
             ],
             [
              0.7777777777777778,
              "#fb9f3a"
             ],
             [
              0.8888888888888888,
              "#fdca26"
             ],
             [
              1,
              "#f0f921"
             ]
            ],
            "type": "heatmap"
           }
          ],
          "heatmapgl": [
           {
            "colorbar": {
             "outlinewidth": 0,
             "ticks": ""
            },
            "colorscale": [
             [
              0,
              "#0d0887"
             ],
             [
              0.1111111111111111,
              "#46039f"
             ],
             [
              0.2222222222222222,
              "#7201a8"
             ],
             [
              0.3333333333333333,
              "#9c179e"
             ],
             [
              0.4444444444444444,
              "#bd3786"
             ],
             [
              0.5555555555555556,
              "#d8576b"
             ],
             [
              0.6666666666666666,
              "#ed7953"
             ],
             [
              0.7777777777777778,
              "#fb9f3a"
             ],
             [
              0.8888888888888888,
              "#fdca26"
             ],
             [
              1,
              "#f0f921"
             ]
            ],
            "type": "heatmapgl"
           }
          ],
          "histogram": [
           {
            "marker": {
             "pattern": {
              "fillmode": "overlay",
              "size": 10,
              "solidity": 0.2
             }
            },
            "type": "histogram"
           }
          ],
          "histogram2d": [
           {
            "colorbar": {
             "outlinewidth": 0,
             "ticks": ""
            },
            "colorscale": [
             [
              0,
              "#0d0887"
             ],
             [
              0.1111111111111111,
              "#46039f"
             ],
             [
              0.2222222222222222,
              "#7201a8"
             ],
             [
              0.3333333333333333,
              "#9c179e"
             ],
             [
              0.4444444444444444,
              "#bd3786"
             ],
             [
              0.5555555555555556,
              "#d8576b"
             ],
             [
              0.6666666666666666,
              "#ed7953"
             ],
             [
              0.7777777777777778,
              "#fb9f3a"
             ],
             [
              0.8888888888888888,
              "#fdca26"
             ],
             [
              1,
              "#f0f921"
             ]
            ],
            "type": "histogram2d"
           }
          ],
          "histogram2dcontour": [
           {
            "colorbar": {
             "outlinewidth": 0,
             "ticks": ""
            },
            "colorscale": [
             [
              0,
              "#0d0887"
             ],
             [
              0.1111111111111111,
              "#46039f"
             ],
             [
              0.2222222222222222,
              "#7201a8"
             ],
             [
              0.3333333333333333,
              "#9c179e"
             ],
             [
              0.4444444444444444,
              "#bd3786"
             ],
             [
              0.5555555555555556,
              "#d8576b"
             ],
             [
              0.6666666666666666,
              "#ed7953"
             ],
             [
              0.7777777777777778,
              "#fb9f3a"
             ],
             [
              0.8888888888888888,
              "#fdca26"
             ],
             [
              1,
              "#f0f921"
             ]
            ],
            "type": "histogram2dcontour"
           }
          ],
          "mesh3d": [
           {
            "colorbar": {
             "outlinewidth": 0,
             "ticks": ""
            },
            "type": "mesh3d"
           }
          ],
          "parcoords": [
           {
            "line": {
             "colorbar": {
              "outlinewidth": 0,
              "ticks": ""
             }
            },
            "type": "parcoords"
           }
          ],
          "pie": [
           {
            "automargin": true,
            "type": "pie"
           }
          ],
          "scatter": [
           {
            "marker": {
             "colorbar": {
              "outlinewidth": 0,
              "ticks": ""
             }
            },
            "type": "scatter"
           }
          ],
          "scatter3d": [
           {
            "line": {
             "colorbar": {
              "outlinewidth": 0,
              "ticks": ""
             }
            },
            "marker": {
             "colorbar": {
              "outlinewidth": 0,
              "ticks": ""
             }
            },
            "type": "scatter3d"
           }
          ],
          "scattercarpet": [
           {
            "marker": {
             "colorbar": {
              "outlinewidth": 0,
              "ticks": ""
             }
            },
            "type": "scattercarpet"
           }
          ],
          "scattergeo": [
           {
            "marker": {
             "colorbar": {
              "outlinewidth": 0,
              "ticks": ""
             }
            },
            "type": "scattergeo"
           }
          ],
          "scattergl": [
           {
            "marker": {
             "colorbar": {
              "outlinewidth": 0,
              "ticks": ""
             }
            },
            "type": "scattergl"
           }
          ],
          "scattermapbox": [
           {
            "marker": {
             "colorbar": {
              "outlinewidth": 0,
              "ticks": ""
             }
            },
            "type": "scattermapbox"
           }
          ],
          "scatterpolar": [
           {
            "marker": {
             "colorbar": {
              "outlinewidth": 0,
              "ticks": ""
             }
            },
            "type": "scatterpolar"
           }
          ],
          "scatterpolargl": [
           {
            "marker": {
             "colorbar": {
              "outlinewidth": 0,
              "ticks": ""
             }
            },
            "type": "scatterpolargl"
           }
          ],
          "scatterternary": [
           {
            "marker": {
             "colorbar": {
              "outlinewidth": 0,
              "ticks": ""
             }
            },
            "type": "scatterternary"
           }
          ],
          "surface": [
           {
            "colorbar": {
             "outlinewidth": 0,
             "ticks": ""
            },
            "colorscale": [
             [
              0,
              "#0d0887"
             ],
             [
              0.1111111111111111,
              "#46039f"
             ],
             [
              0.2222222222222222,
              "#7201a8"
             ],
             [
              0.3333333333333333,
              "#9c179e"
             ],
             [
              0.4444444444444444,
              "#bd3786"
             ],
             [
              0.5555555555555556,
              "#d8576b"
             ],
             [
              0.6666666666666666,
              "#ed7953"
             ],
             [
              0.7777777777777778,
              "#fb9f3a"
             ],
             [
              0.8888888888888888,
              "#fdca26"
             ],
             [
              1,
              "#f0f921"
             ]
            ],
            "type": "surface"
           }
          ],
          "table": [
           {
            "cells": {
             "fill": {
              "color": "#EBF0F8"
             },
             "line": {
              "color": "white"
             }
            },
            "header": {
             "fill": {
              "color": "#C8D4E3"
             },
             "line": {
              "color": "white"
             }
            },
            "type": "table"
           }
          ]
         },
         "layout": {
          "annotationdefaults": {
           "arrowcolor": "#2a3f5f",
           "arrowhead": 0,
           "arrowwidth": 1
          },
          "autotypenumbers": "strict",
          "coloraxis": {
           "colorbar": {
            "outlinewidth": 0,
            "ticks": ""
           }
          },
          "colorscale": {
           "diverging": [
            [
             0,
             "#8e0152"
            ],
            [
             0.1,
             "#c51b7d"
            ],
            [
             0.2,
             "#de77ae"
            ],
            [
             0.3,
             "#f1b6da"
            ],
            [
             0.4,
             "#fde0ef"
            ],
            [
             0.5,
             "#f7f7f7"
            ],
            [
             0.6,
             "#e6f5d0"
            ],
            [
             0.7,
             "#b8e186"
            ],
            [
             0.8,
             "#7fbc41"
            ],
            [
             0.9,
             "#4d9221"
            ],
            [
             1,
             "#276419"
            ]
           ],
           "sequential": [
            [
             0,
             "#0d0887"
            ],
            [
             0.1111111111111111,
             "#46039f"
            ],
            [
             0.2222222222222222,
             "#7201a8"
            ],
            [
             0.3333333333333333,
             "#9c179e"
            ],
            [
             0.4444444444444444,
             "#bd3786"
            ],
            [
             0.5555555555555556,
             "#d8576b"
            ],
            [
             0.6666666666666666,
             "#ed7953"
            ],
            [
             0.7777777777777778,
             "#fb9f3a"
            ],
            [
             0.8888888888888888,
             "#fdca26"
            ],
            [
             1,
             "#f0f921"
            ]
           ],
           "sequentialminus": [
            [
             0,
             "#0d0887"
            ],
            [
             0.1111111111111111,
             "#46039f"
            ],
            [
             0.2222222222222222,
             "#7201a8"
            ],
            [
             0.3333333333333333,
             "#9c179e"
            ],
            [
             0.4444444444444444,
             "#bd3786"
            ],
            [
             0.5555555555555556,
             "#d8576b"
            ],
            [
             0.6666666666666666,
             "#ed7953"
            ],
            [
             0.7777777777777778,
             "#fb9f3a"
            ],
            [
             0.8888888888888888,
             "#fdca26"
            ],
            [
             1,
             "#f0f921"
            ]
           ]
          },
          "colorway": [
           "#636efa",
           "#EF553B",
           "#00cc96",
           "#ab63fa",
           "#FFA15A",
           "#19d3f3",
           "#FF6692",
           "#B6E880",
           "#FF97FF",
           "#FECB52"
          ],
          "font": {
           "color": "#2a3f5f"
          },
          "geo": {
           "bgcolor": "white",
           "lakecolor": "white",
           "landcolor": "#E5ECF6",
           "showlakes": true,
           "showland": true,
           "subunitcolor": "white"
          },
          "hoverlabel": {
           "align": "left"
          },
          "hovermode": "closest",
          "mapbox": {
           "style": "light"
          },
          "paper_bgcolor": "white",
          "plot_bgcolor": "#E5ECF6",
          "polar": {
           "angularaxis": {
            "gridcolor": "white",
            "linecolor": "white",
            "ticks": ""
           },
           "bgcolor": "#E5ECF6",
           "radialaxis": {
            "gridcolor": "white",
            "linecolor": "white",
            "ticks": ""
           }
          },
          "scene": {
           "xaxis": {
            "backgroundcolor": "#E5ECF6",
            "gridcolor": "white",
            "gridwidth": 2,
            "linecolor": "white",
            "showbackground": true,
            "ticks": "",
            "zerolinecolor": "white"
           },
           "yaxis": {
            "backgroundcolor": "#E5ECF6",
            "gridcolor": "white",
            "gridwidth": 2,
            "linecolor": "white",
            "showbackground": true,
            "ticks": "",
            "zerolinecolor": "white"
           },
           "zaxis": {
            "backgroundcolor": "#E5ECF6",
            "gridcolor": "white",
            "gridwidth": 2,
            "linecolor": "white",
            "showbackground": true,
            "ticks": "",
            "zerolinecolor": "white"
           }
          },
          "shapedefaults": {
           "line": {
            "color": "#2a3f5f"
           }
          },
          "ternary": {
           "aaxis": {
            "gridcolor": "white",
            "linecolor": "white",
            "ticks": ""
           },
           "baxis": {
            "gridcolor": "white",
            "linecolor": "white",
            "ticks": ""
           },
           "bgcolor": "#E5ECF6",
           "caxis": {
            "gridcolor": "white",
            "linecolor": "white",
            "ticks": ""
           }
          },
          "title": {
           "x": 0.05
          },
          "xaxis": {
           "automargin": true,
           "gridcolor": "white",
           "linecolor": "white",
           "ticks": "",
           "title": {
            "standoff": 15
           },
           "zerolinecolor": "white",
           "zerolinewidth": 2
          },
          "yaxis": {
           "automargin": true,
           "gridcolor": "white",
           "linecolor": "white",
           "ticks": "",
           "title": {
            "standoff": 15
           },
           "zerolinecolor": "white",
           "zerolinewidth": 2
          }
         }
        },
        "title": {
         "text": "Distribution of compound score"
        },
        "xaxis": {
         "title": {
          "text": "Compound score"
         }
        },
        "yaxis": {
         "showticklabels": false
        }
       }
      }
     },
     "metadata": {},
     "output_type": "display_data"
    }
   ],
   "source": [
    "\n",
    "fig = go.Figure()\n",
    "text = []\n",
    "for index, media in enumerate(chosen_news):\n",
    "\n",
    "    fig.update_layout(clickmode='event+select')\n",
    "    \n",
    "\n",
    "    \n",
    "    fig.add_trace(go.Scatter(\n",
    "                            x=array_dict_3[f'x_{media}'],\n",
    "                            y=array_dict_3[f'y_{media}'] ,\n",
    "                            #fill='tonexty',\n",
    "                            name=f'{media}'))\n",
    "\n",
    "# Modify the figure and the legend titles\n",
    "fig.update_layout(\n",
    "                title='Distribution of compound score',\n",
    "                showlegend=True,\n",
    "                xaxis=dict(title='Compound score'),\n",
    "                yaxis=dict(showticklabels=False) # that way you hide the y axis ticks labels\n",
    "                )\n",
    "\n",
    "fig.show()\n",
    "fig.write_html(\"images/polarity_distribution_media.html\")"
   ]
  },
  {
   "cell_type": "code",
   "execution_count": 271,
   "metadata": {},
   "outputs": [
    {
     "data": {
      "text/html": [
       "<div>\n",
       "<style scoped>\n",
       "    .dataframe tbody tr th:only-of-type {\n",
       "        vertical-align: middle;\n",
       "    }\n",
       "\n",
       "    .dataframe tbody tr th {\n",
       "        vertical-align: top;\n",
       "    }\n",
       "\n",
       "    .dataframe thead th {\n",
       "        text-align: right;\n",
       "    }\n",
       "</style>\n",
       "<table border=\"1\" class=\"dataframe\">\n",
       "  <thead>\n",
       "    <tr style=\"text-align: right;\">\n",
       "      <th></th>\n",
       "      <th>media_outlet</th>\n",
       "      <th>compound</th>\n",
       "      <th>positive</th>\n",
       "      <th>negative</th>\n",
       "      <th>blob_polar</th>\n",
       "      <th>blob_subj</th>\n",
       "      <th>date_short</th>\n",
       "      <th>category</th>\n",
       "    </tr>\n",
       "  </thead>\n",
       "  <tbody>\n",
       "    <tr>\n",
       "      <th>0</th>\n",
       "      <td>washingtonpost</td>\n",
       "      <td>0.25</td>\n",
       "      <td>0.083</td>\n",
       "      <td>0.000</td>\n",
       "      <td>0.00</td>\n",
       "      <td>0.00</td>\n",
       "      <td>2015-12-13</td>\n",
       "      <td>Newspaper</td>\n",
       "    </tr>\n",
       "    <tr>\n",
       "      <th>1</th>\n",
       "      <td>startribune</td>\n",
       "      <td>0.00</td>\n",
       "      <td>0.000</td>\n",
       "      <td>0.000</td>\n",
       "      <td>0.06</td>\n",
       "      <td>0.35</td>\n",
       "      <td>2015-10-02</td>\n",
       "      <td>Newspaper</td>\n",
       "    </tr>\n",
       "    <tr>\n",
       "      <th>2</th>\n",
       "      <td>mtv</td>\n",
       "      <td>0.00</td>\n",
       "      <td>0.000</td>\n",
       "      <td>0.000</td>\n",
       "      <td>-0.08</td>\n",
       "      <td>0.22</td>\n",
       "      <td>2015-10-09</td>\n",
       "      <td>Other</td>\n",
       "    </tr>\n",
       "    <tr>\n",
       "      <th>3</th>\n",
       "      <td>express</td>\n",
       "      <td>-0.34</td>\n",
       "      <td>0.073</td>\n",
       "      <td>0.094</td>\n",
       "      <td>0.60</td>\n",
       "      <td>1.00</td>\n",
       "      <td>2015-11-17</td>\n",
       "      <td>Newspaper</td>\n",
       "    </tr>\n",
       "    <tr>\n",
       "      <th>4</th>\n",
       "      <td>reuters</td>\n",
       "      <td>-0.27</td>\n",
       "      <td>0.000</td>\n",
       "      <td>0.110</td>\n",
       "      <td>-0.19</td>\n",
       "      <td>0.50</td>\n",
       "      <td>2015-02-06</td>\n",
       "      <td>Newspaper</td>\n",
       "    </tr>\n",
       "    <tr>\n",
       "      <th>...</th>\n",
       "      <td>...</td>\n",
       "      <td>...</td>\n",
       "      <td>...</td>\n",
       "      <td>...</td>\n",
       "      <td>...</td>\n",
       "      <td>...</td>\n",
       "      <td>...</td>\n",
       "      <td>...</td>\n",
       "    </tr>\n",
       "    <tr>\n",
       "      <th>607108</th>\n",
       "      <td>express</td>\n",
       "      <td>0.30</td>\n",
       "      <td>0.151</td>\n",
       "      <td>0.000</td>\n",
       "      <td>-0.08</td>\n",
       "      <td>0.70</td>\n",
       "      <td>2020-03-08</td>\n",
       "      <td>Newspaper</td>\n",
       "    </tr>\n",
       "    <tr>\n",
       "      <th>607109</th>\n",
       "      <td>espn</td>\n",
       "      <td>0.75</td>\n",
       "      <td>0.145</td>\n",
       "      <td>0.033</td>\n",
       "      <td>0.26</td>\n",
       "      <td>0.32</td>\n",
       "      <td>2020-03-02</td>\n",
       "      <td>Sports</td>\n",
       "    </tr>\n",
       "    <tr>\n",
       "      <th>607110</th>\n",
       "      <td>mirror</td>\n",
       "      <td>0.00</td>\n",
       "      <td>0.000</td>\n",
       "      <td>0.000</td>\n",
       "      <td>0.00</td>\n",
       "      <td>0.00</td>\n",
       "      <td>2020-01-13</td>\n",
       "      <td>Newspaper</td>\n",
       "    </tr>\n",
       "    <tr>\n",
       "      <th>607111</th>\n",
       "      <td>latimes</td>\n",
       "      <td>-0.13</td>\n",
       "      <td>0.000</td>\n",
       "      <td>0.097</td>\n",
       "      <td>-0.39</td>\n",
       "      <td>0.83</td>\n",
       "      <td>2020-02-22</td>\n",
       "      <td>Newspaper</td>\n",
       "    </tr>\n",
       "    <tr>\n",
       "      <th>607112</th>\n",
       "      <td>thesun</td>\n",
       "      <td>-0.51</td>\n",
       "      <td>0.000</td>\n",
       "      <td>0.623</td>\n",
       "      <td>0.00</td>\n",
       "      <td>0.00</td>\n",
       "      <td>2020-01-15</td>\n",
       "      <td>Newspaper</td>\n",
       "    </tr>\n",
       "  </tbody>\n",
       "</table>\n",
       "<p>11916999 rows × 8 columns</p>\n",
       "</div>"
      ],
      "text/plain": [
       "          media_outlet  compound  positive  negative  blob_polar  blob_subj  \\\n",
       "0       washingtonpost      0.25     0.083     0.000        0.00       0.00   \n",
       "1          startribune      0.00     0.000     0.000        0.06       0.35   \n",
       "2                  mtv      0.00     0.000     0.000       -0.08       0.22   \n",
       "3              express     -0.34     0.073     0.094        0.60       1.00   \n",
       "4              reuters     -0.27     0.000     0.110       -0.19       0.50   \n",
       "...                ...       ...       ...       ...         ...        ...   \n",
       "607108         express      0.30     0.151     0.000       -0.08       0.70   \n",
       "607109            espn      0.75     0.145     0.033        0.26       0.32   \n",
       "607110          mirror      0.00     0.000     0.000        0.00       0.00   \n",
       "607111         latimes     -0.13     0.000     0.097       -0.39       0.83   \n",
       "607112          thesun     -0.51     0.000     0.623        0.00       0.00   \n",
       "\n",
       "        date_short   category  \n",
       "0       2015-12-13  Newspaper  \n",
       "1       2015-10-02  Newspaper  \n",
       "2       2015-10-09      Other  \n",
       "3       2015-11-17  Newspaper  \n",
       "4       2015-02-06  Newspaper  \n",
       "...            ...        ...  \n",
       "607108  2020-03-08  Newspaper  \n",
       "607109  2020-03-02     Sports  \n",
       "607110  2020-01-13  Newspaper  \n",
       "607111  2020-02-22  Newspaper  \n",
       "607112  2020-01-15  Newspaper  \n",
       "\n",
       "[11916999 rows x 8 columns]"
      ]
     },
     "execution_count": 271,
     "metadata": {},
     "output_type": "execute_result"
    }
   ],
   "source": [
    "df_rounded"
   ]
  },
  {
   "cell_type": "code",
   "execution_count": 284,
   "metadata": {},
   "outputs": [],
   "source": [
    "df_categories_compound = df_rounded.copy()\n",
    "df_categories_compound['compound'] = df_categories_compound['compound'].apply(lambda x: round(x, 1))\n",
    "df_categories_compound = df_categories_compound.groupby(['category', 'compound']).agg({'compound': 'count'}).rename(columns={'compound': 'count'}).reset_index()\n",
    "\n",
    "array_dict_3 = {}\n",
    "for outlet in categories:\n",
    "    array_dict_3[f'x_{outlet}'] = df_categories_compound[df_categories_compound['category']==outlet]['compound'] # storing the blob_polar values for each category\n",
    "    array_dict_3[f'y_{outlet}'] = np.log(df_categories_compound[df_categories_compound['category']==outlet]['count']) # storing the blob_polar counts for each value\n",
    "    array_dict_3[f'y_{outlet}'] = (array_dict_3[f'y_{outlet}'] - array_dict_3[f'y_{outlet}'].min()) \\\n",
    "                                / (array_dict_3[f'y_{outlet}'].max() - array_dict_3[f'y_{outlet}'].min())"
   ]
  },
  {
   "cell_type": "code",
   "execution_count": 285,
   "metadata": {},
   "outputs": [
    {
     "data": {
      "application/vnd.plotly.v1+json": {
       "config": {
        "plotlyServerURL": "https://plot.ly"
       },
       "data": [
        {
         "name": "Sports",
         "type": "scatter",
         "x": [
          -1,
          -0.9,
          -0.8,
          -0.7,
          -0.6,
          -0.5,
          -0.4,
          -0.3,
          -0.2,
          -0.1,
          0,
          0.1,
          0.2,
          0.3,
          0.4,
          0.5,
          0.6,
          0.7,
          0.8,
          0.9,
          1
         ],
         "y": [
          0,
          0.4039860731390043,
          0.5264043495428242,
          0.5757190984971128,
          0.5981351703437078,
          0.6637700984580072,
          0.6727456931725057,
          0.7074934998603636,
          0.636892746740555,
          0.6891315193170577,
          1,
          0.7052297657439683,
          0.7260063399802256,
          0.7755638206444614,
          0.8449920369576234,
          0.7989799502297033,
          0.8341362205350059,
          0.823108678893562,
          0.8571351817438908,
          0.8460764340911957,
          0.6141298827384578
         ]
        },
        {
         "name": "Newspaper",
         "type": "scatter",
         "x": [
          -1,
          -0.9,
          -0.8,
          -0.7,
          -0.6,
          -0.5,
          -0.4,
          -0.3,
          -0.2,
          -0.1,
          0,
          0.1,
          0.2,
          0.3,
          0.4,
          0.5,
          0.6,
          0.7,
          0.8,
          0.9,
          1
         ],
         "y": [
          0,
          0.43140871880071563,
          0.5391440070425595,
          0.5686083314746971,
          0.5828361465657516,
          0.6349822587954373,
          0.6270275904805719,
          0.6598233178489439,
          0.5612796079124075,
          0.6048045037876253,
          1,
          0.6253311964316999,
          0.6209769484543992,
          0.6801879407951782,
          0.775308151335157,
          0.7139021645782053,
          0.7294531724462323,
          0.7125398235188027,
          0.7294724984933091,
          0.675399121104623,
          0.31824544990169357
         ]
        },
        {
         "name": "Celebrity magazine",
         "type": "scatter",
         "x": [
          -1,
          -0.9,
          -0.8,
          -0.7,
          -0.6,
          -0.5,
          -0.4,
          -0.3,
          -0.2,
          -0.1,
          0,
          0.1,
          0.2,
          0.3,
          0.4,
          0.5,
          0.6,
          0.7,
          0.8,
          0.9,
          1
         ],
         "y": [
          0,
          0.4247784871015208,
          0.5225980439721349,
          0.5462057388704725,
          0.5546060187589411,
          0.6035205388618103,
          0.5887556256283472,
          0.6205272620167012,
          0.5207800675388814,
          0.5629555254439301,
          1,
          0.5891241886942591,
          0.5786753275556865,
          0.6459648323693061,
          0.763666576867049,
          0.7035180222731066,
          0.7256599661959192,
          0.7122392202881633,
          0.7504382288359641,
          0.7265604216136434,
          0.405624582863996
         ]
        },
        {
         "name": "Other",
         "type": "scatter",
         "x": [
          -1,
          -0.9,
          -0.8,
          -0.7,
          -0.6,
          -0.5,
          -0.4,
          -0.3,
          -0.2,
          -0.1,
          0,
          0.1,
          0.2,
          0.3,
          0.4,
          0.5,
          0.6,
          0.7,
          0.8,
          0.9,
          1
         ],
         "y": [
          0,
          0.4329235498785167,
          0.5400495698430411,
          0.5693929308458879,
          0.5858291734965723,
          0.6324229216498598,
          0.6234348084708918,
          0.6597547299086923,
          0.5565401522915198,
          0.5969033700701319,
          1,
          0.6134370705791894,
          0.6079993700043816,
          0.6675511785927783,
          0.7640894699186016,
          0.7046538898066835,
          0.7161051997519622,
          0.6930944124620972,
          0.7085980212781486,
          0.6559543836472861,
          0.32860871758335136
         ]
        }
       ],
       "layout": {
        "clickmode": "event+select",
        "showlegend": true,
        "template": {
         "data": {
          "bar": [
           {
            "error_x": {
             "color": "#2a3f5f"
            },
            "error_y": {
             "color": "#2a3f5f"
            },
            "marker": {
             "line": {
              "color": "#E5ECF6",
              "width": 0.5
             },
             "pattern": {
              "fillmode": "overlay",
              "size": 10,
              "solidity": 0.2
             }
            },
            "type": "bar"
           }
          ],
          "barpolar": [
           {
            "marker": {
             "line": {
              "color": "#E5ECF6",
              "width": 0.5
             },
             "pattern": {
              "fillmode": "overlay",
              "size": 10,
              "solidity": 0.2
             }
            },
            "type": "barpolar"
           }
          ],
          "carpet": [
           {
            "aaxis": {
             "endlinecolor": "#2a3f5f",
             "gridcolor": "white",
             "linecolor": "white",
             "minorgridcolor": "white",
             "startlinecolor": "#2a3f5f"
            },
            "baxis": {
             "endlinecolor": "#2a3f5f",
             "gridcolor": "white",
             "linecolor": "white",
             "minorgridcolor": "white",
             "startlinecolor": "#2a3f5f"
            },
            "type": "carpet"
           }
          ],
          "choropleth": [
           {
            "colorbar": {
             "outlinewidth": 0,
             "ticks": ""
            },
            "type": "choropleth"
           }
          ],
          "contour": [
           {
            "colorbar": {
             "outlinewidth": 0,
             "ticks": ""
            },
            "colorscale": [
             [
              0,
              "#0d0887"
             ],
             [
              0.1111111111111111,
              "#46039f"
             ],
             [
              0.2222222222222222,
              "#7201a8"
             ],
             [
              0.3333333333333333,
              "#9c179e"
             ],
             [
              0.4444444444444444,
              "#bd3786"
             ],
             [
              0.5555555555555556,
              "#d8576b"
             ],
             [
              0.6666666666666666,
              "#ed7953"
             ],
             [
              0.7777777777777778,
              "#fb9f3a"
             ],
             [
              0.8888888888888888,
              "#fdca26"
             ],
             [
              1,
              "#f0f921"
             ]
            ],
            "type": "contour"
           }
          ],
          "contourcarpet": [
           {
            "colorbar": {
             "outlinewidth": 0,
             "ticks": ""
            },
            "type": "contourcarpet"
           }
          ],
          "heatmap": [
           {
            "colorbar": {
             "outlinewidth": 0,
             "ticks": ""
            },
            "colorscale": [
             [
              0,
              "#0d0887"
             ],
             [
              0.1111111111111111,
              "#46039f"
             ],
             [
              0.2222222222222222,
              "#7201a8"
             ],
             [
              0.3333333333333333,
              "#9c179e"
             ],
             [
              0.4444444444444444,
              "#bd3786"
             ],
             [
              0.5555555555555556,
              "#d8576b"
             ],
             [
              0.6666666666666666,
              "#ed7953"
             ],
             [
              0.7777777777777778,
              "#fb9f3a"
             ],
             [
              0.8888888888888888,
              "#fdca26"
             ],
             [
              1,
              "#f0f921"
             ]
            ],
            "type": "heatmap"
           }
          ],
          "heatmapgl": [
           {
            "colorbar": {
             "outlinewidth": 0,
             "ticks": ""
            },
            "colorscale": [
             [
              0,
              "#0d0887"
             ],
             [
              0.1111111111111111,
              "#46039f"
             ],
             [
              0.2222222222222222,
              "#7201a8"
             ],
             [
              0.3333333333333333,
              "#9c179e"
             ],
             [
              0.4444444444444444,
              "#bd3786"
             ],
             [
              0.5555555555555556,
              "#d8576b"
             ],
             [
              0.6666666666666666,
              "#ed7953"
             ],
             [
              0.7777777777777778,
              "#fb9f3a"
             ],
             [
              0.8888888888888888,
              "#fdca26"
             ],
             [
              1,
              "#f0f921"
             ]
            ],
            "type": "heatmapgl"
           }
          ],
          "histogram": [
           {
            "marker": {
             "pattern": {
              "fillmode": "overlay",
              "size": 10,
              "solidity": 0.2
             }
            },
            "type": "histogram"
           }
          ],
          "histogram2d": [
           {
            "colorbar": {
             "outlinewidth": 0,
             "ticks": ""
            },
            "colorscale": [
             [
              0,
              "#0d0887"
             ],
             [
              0.1111111111111111,
              "#46039f"
             ],
             [
              0.2222222222222222,
              "#7201a8"
             ],
             [
              0.3333333333333333,
              "#9c179e"
             ],
             [
              0.4444444444444444,
              "#bd3786"
             ],
             [
              0.5555555555555556,
              "#d8576b"
             ],
             [
              0.6666666666666666,
              "#ed7953"
             ],
             [
              0.7777777777777778,
              "#fb9f3a"
             ],
             [
              0.8888888888888888,
              "#fdca26"
             ],
             [
              1,
              "#f0f921"
             ]
            ],
            "type": "histogram2d"
           }
          ],
          "histogram2dcontour": [
           {
            "colorbar": {
             "outlinewidth": 0,
             "ticks": ""
            },
            "colorscale": [
             [
              0,
              "#0d0887"
             ],
             [
              0.1111111111111111,
              "#46039f"
             ],
             [
              0.2222222222222222,
              "#7201a8"
             ],
             [
              0.3333333333333333,
              "#9c179e"
             ],
             [
              0.4444444444444444,
              "#bd3786"
             ],
             [
              0.5555555555555556,
              "#d8576b"
             ],
             [
              0.6666666666666666,
              "#ed7953"
             ],
             [
              0.7777777777777778,
              "#fb9f3a"
             ],
             [
              0.8888888888888888,
              "#fdca26"
             ],
             [
              1,
              "#f0f921"
             ]
            ],
            "type": "histogram2dcontour"
           }
          ],
          "mesh3d": [
           {
            "colorbar": {
             "outlinewidth": 0,
             "ticks": ""
            },
            "type": "mesh3d"
           }
          ],
          "parcoords": [
           {
            "line": {
             "colorbar": {
              "outlinewidth": 0,
              "ticks": ""
             }
            },
            "type": "parcoords"
           }
          ],
          "pie": [
           {
            "automargin": true,
            "type": "pie"
           }
          ],
          "scatter": [
           {
            "marker": {
             "colorbar": {
              "outlinewidth": 0,
              "ticks": ""
             }
            },
            "type": "scatter"
           }
          ],
          "scatter3d": [
           {
            "line": {
             "colorbar": {
              "outlinewidth": 0,
              "ticks": ""
             }
            },
            "marker": {
             "colorbar": {
              "outlinewidth": 0,
              "ticks": ""
             }
            },
            "type": "scatter3d"
           }
          ],
          "scattercarpet": [
           {
            "marker": {
             "colorbar": {
              "outlinewidth": 0,
              "ticks": ""
             }
            },
            "type": "scattercarpet"
           }
          ],
          "scattergeo": [
           {
            "marker": {
             "colorbar": {
              "outlinewidth": 0,
              "ticks": ""
             }
            },
            "type": "scattergeo"
           }
          ],
          "scattergl": [
           {
            "marker": {
             "colorbar": {
              "outlinewidth": 0,
              "ticks": ""
             }
            },
            "type": "scattergl"
           }
          ],
          "scattermapbox": [
           {
            "marker": {
             "colorbar": {
              "outlinewidth": 0,
              "ticks": ""
             }
            },
            "type": "scattermapbox"
           }
          ],
          "scatterpolar": [
           {
            "marker": {
             "colorbar": {
              "outlinewidth": 0,
              "ticks": ""
             }
            },
            "type": "scatterpolar"
           }
          ],
          "scatterpolargl": [
           {
            "marker": {
             "colorbar": {
              "outlinewidth": 0,
              "ticks": ""
             }
            },
            "type": "scatterpolargl"
           }
          ],
          "scatterternary": [
           {
            "marker": {
             "colorbar": {
              "outlinewidth": 0,
              "ticks": ""
             }
            },
            "type": "scatterternary"
           }
          ],
          "surface": [
           {
            "colorbar": {
             "outlinewidth": 0,
             "ticks": ""
            },
            "colorscale": [
             [
              0,
              "#0d0887"
             ],
             [
              0.1111111111111111,
              "#46039f"
             ],
             [
              0.2222222222222222,
              "#7201a8"
             ],
             [
              0.3333333333333333,
              "#9c179e"
             ],
             [
              0.4444444444444444,
              "#bd3786"
             ],
             [
              0.5555555555555556,
              "#d8576b"
             ],
             [
              0.6666666666666666,
              "#ed7953"
             ],
             [
              0.7777777777777778,
              "#fb9f3a"
             ],
             [
              0.8888888888888888,
              "#fdca26"
             ],
             [
              1,
              "#f0f921"
             ]
            ],
            "type": "surface"
           }
          ],
          "table": [
           {
            "cells": {
             "fill": {
              "color": "#EBF0F8"
             },
             "line": {
              "color": "white"
             }
            },
            "header": {
             "fill": {
              "color": "#C8D4E3"
             },
             "line": {
              "color": "white"
             }
            },
            "type": "table"
           }
          ]
         },
         "layout": {
          "annotationdefaults": {
           "arrowcolor": "#2a3f5f",
           "arrowhead": 0,
           "arrowwidth": 1
          },
          "autotypenumbers": "strict",
          "coloraxis": {
           "colorbar": {
            "outlinewidth": 0,
            "ticks": ""
           }
          },
          "colorscale": {
           "diverging": [
            [
             0,
             "#8e0152"
            ],
            [
             0.1,
             "#c51b7d"
            ],
            [
             0.2,
             "#de77ae"
            ],
            [
             0.3,
             "#f1b6da"
            ],
            [
             0.4,
             "#fde0ef"
            ],
            [
             0.5,
             "#f7f7f7"
            ],
            [
             0.6,
             "#e6f5d0"
            ],
            [
             0.7,
             "#b8e186"
            ],
            [
             0.8,
             "#7fbc41"
            ],
            [
             0.9,
             "#4d9221"
            ],
            [
             1,
             "#276419"
            ]
           ],
           "sequential": [
            [
             0,
             "#0d0887"
            ],
            [
             0.1111111111111111,
             "#46039f"
            ],
            [
             0.2222222222222222,
             "#7201a8"
            ],
            [
             0.3333333333333333,
             "#9c179e"
            ],
            [
             0.4444444444444444,
             "#bd3786"
            ],
            [
             0.5555555555555556,
             "#d8576b"
            ],
            [
             0.6666666666666666,
             "#ed7953"
            ],
            [
             0.7777777777777778,
             "#fb9f3a"
            ],
            [
             0.8888888888888888,
             "#fdca26"
            ],
            [
             1,
             "#f0f921"
            ]
           ],
           "sequentialminus": [
            [
             0,
             "#0d0887"
            ],
            [
             0.1111111111111111,
             "#46039f"
            ],
            [
             0.2222222222222222,
             "#7201a8"
            ],
            [
             0.3333333333333333,
             "#9c179e"
            ],
            [
             0.4444444444444444,
             "#bd3786"
            ],
            [
             0.5555555555555556,
             "#d8576b"
            ],
            [
             0.6666666666666666,
             "#ed7953"
            ],
            [
             0.7777777777777778,
             "#fb9f3a"
            ],
            [
             0.8888888888888888,
             "#fdca26"
            ],
            [
             1,
             "#f0f921"
            ]
           ]
          },
          "colorway": [
           "#636efa",
           "#EF553B",
           "#00cc96",
           "#ab63fa",
           "#FFA15A",
           "#19d3f3",
           "#FF6692",
           "#B6E880",
           "#FF97FF",
           "#FECB52"
          ],
          "font": {
           "color": "#2a3f5f"
          },
          "geo": {
           "bgcolor": "white",
           "lakecolor": "white",
           "landcolor": "#E5ECF6",
           "showlakes": true,
           "showland": true,
           "subunitcolor": "white"
          },
          "hoverlabel": {
           "align": "left"
          },
          "hovermode": "closest",
          "mapbox": {
           "style": "light"
          },
          "paper_bgcolor": "white",
          "plot_bgcolor": "#E5ECF6",
          "polar": {
           "angularaxis": {
            "gridcolor": "white",
            "linecolor": "white",
            "ticks": ""
           },
           "bgcolor": "#E5ECF6",
           "radialaxis": {
            "gridcolor": "white",
            "linecolor": "white",
            "ticks": ""
           }
          },
          "scene": {
           "xaxis": {
            "backgroundcolor": "#E5ECF6",
            "gridcolor": "white",
            "gridwidth": 2,
            "linecolor": "white",
            "showbackground": true,
            "ticks": "",
            "zerolinecolor": "white"
           },
           "yaxis": {
            "backgroundcolor": "#E5ECF6",
            "gridcolor": "white",
            "gridwidth": 2,
            "linecolor": "white",
            "showbackground": true,
            "ticks": "",
            "zerolinecolor": "white"
           },
           "zaxis": {
            "backgroundcolor": "#E5ECF6",
            "gridcolor": "white",
            "gridwidth": 2,
            "linecolor": "white",
            "showbackground": true,
            "ticks": "",
            "zerolinecolor": "white"
           }
          },
          "shapedefaults": {
           "line": {
            "color": "#2a3f5f"
           }
          },
          "ternary": {
           "aaxis": {
            "gridcolor": "white",
            "linecolor": "white",
            "ticks": ""
           },
           "baxis": {
            "gridcolor": "white",
            "linecolor": "white",
            "ticks": ""
           },
           "bgcolor": "#E5ECF6",
           "caxis": {
            "gridcolor": "white",
            "linecolor": "white",
            "ticks": ""
           }
          },
          "title": {
           "x": 0.05
          },
          "xaxis": {
           "automargin": true,
           "gridcolor": "white",
           "linecolor": "white",
           "ticks": "",
           "title": {
            "standoff": 15
           },
           "zerolinecolor": "white",
           "zerolinewidth": 2
          },
          "yaxis": {
           "automargin": true,
           "gridcolor": "white",
           "linecolor": "white",
           "ticks": "",
           "title": {
            "standoff": 15
           },
           "zerolinecolor": "white",
           "zerolinewidth": 2
          }
         }
        },
        "title": {
         "text": "Distribution of compound score"
        },
        "xaxis": {
         "title": {
          "text": "Compound score"
         }
        },
        "yaxis": {
         "showticklabels": false
        }
       }
      }
     },
     "metadata": {},
     "output_type": "display_data"
    }
   ],
   "source": [
    "\n",
    "fig = go.Figure()\n",
    "text = []\n",
    "for index, media in enumerate(categories):\n",
    "\n",
    "    fig.update_layout(clickmode='event+select')\n",
    "    \n",
    "\n",
    "    \n",
    "    fig.add_trace(go.Scatter(\n",
    "                            x=array_dict_3[f'x_{media}'],\n",
    "                            y=array_dict_3[f'y_{media}'] ,\n",
    "                            #fill='tonexty',\n",
    "                            name=f'{media}'))\n",
    "\n",
    "# Modify the figure and the legend titles\n",
    "fig.update_layout(\n",
    "                title='Distribution of compound score',\n",
    "                showlegend=True,\n",
    "                xaxis=dict(title='Compound score'),\n",
    "                yaxis=dict(showticklabels=False) # that way you hide the y axis ticks labels\n",
    "                )\n",
    "\n",
    "fig.show()\n",
    "fig.write_html(\"images/polarity_distribution_categories_same_plot.html\")\n",
    "\n"
   ]
  },
  {
   "cell_type": "code",
   "execution_count": 292,
   "metadata": {},
   "outputs": [
    {
     "data": {
      "text/html": [
       "<div>\n",
       "<style scoped>\n",
       "    .dataframe tbody tr th:only-of-type {\n",
       "        vertical-align: middle;\n",
       "    }\n",
       "\n",
       "    .dataframe tbody tr th {\n",
       "        vertical-align: top;\n",
       "    }\n",
       "\n",
       "    .dataframe thead th {\n",
       "        text-align: right;\n",
       "    }\n",
       "</style>\n",
       "<table border=\"1\" class=\"dataframe\">\n",
       "  <thead>\n",
       "    <tr style=\"text-align: right;\">\n",
       "      <th></th>\n",
       "      <th>category</th>\n",
       "      <th>blob_subj</th>\n",
       "      <th>count</th>\n",
       "    </tr>\n",
       "  </thead>\n",
       "  <tbody>\n",
       "    <tr>\n",
       "      <th>0</th>\n",
       "      <td>Celebrity magazine</td>\n",
       "      <td>0.00</td>\n",
       "      <td>273580</td>\n",
       "    </tr>\n",
       "    <tr>\n",
       "      <th>1</th>\n",
       "      <td>Celebrity magazine</td>\n",
       "      <td>0.01</td>\n",
       "      <td>11</td>\n",
       "    </tr>\n",
       "    <tr>\n",
       "      <th>2</th>\n",
       "      <td>Celebrity magazine</td>\n",
       "      <td>0.02</td>\n",
       "      <td>128</td>\n",
       "    </tr>\n",
       "    <tr>\n",
       "      <th>3</th>\n",
       "      <td>Celebrity magazine</td>\n",
       "      <td>0.03</td>\n",
       "      <td>1400</td>\n",
       "    </tr>\n",
       "    <tr>\n",
       "      <th>4</th>\n",
       "      <td>Celebrity magazine</td>\n",
       "      <td>0.04</td>\n",
       "      <td>227</td>\n",
       "    </tr>\n",
       "    <tr>\n",
       "      <th>...</th>\n",
       "      <td>...</td>\n",
       "      <td>...</td>\n",
       "      <td>...</td>\n",
       "    </tr>\n",
       "    <tr>\n",
       "      <th>399</th>\n",
       "      <td>Sports</td>\n",
       "      <td>0.96</td>\n",
       "      <td>126</td>\n",
       "    </tr>\n",
       "    <tr>\n",
       "      <th>400</th>\n",
       "      <td>Sports</td>\n",
       "      <td>0.97</td>\n",
       "      <td>646</td>\n",
       "    </tr>\n",
       "    <tr>\n",
       "      <th>401</th>\n",
       "      <td>Sports</td>\n",
       "      <td>0.98</td>\n",
       "      <td>46</td>\n",
       "    </tr>\n",
       "    <tr>\n",
       "      <th>402</th>\n",
       "      <td>Sports</td>\n",
       "      <td>0.99</td>\n",
       "      <td>40</td>\n",
       "    </tr>\n",
       "    <tr>\n",
       "      <th>403</th>\n",
       "      <td>Sports</td>\n",
       "      <td>1.00</td>\n",
       "      <td>34203</td>\n",
       "    </tr>\n",
       "  </tbody>\n",
       "</table>\n",
       "<p>404 rows × 3 columns</p>\n",
       "</div>"
      ],
      "text/plain": [
       "               category  blob_subj   count\n",
       "0    Celebrity magazine       0.00  273580\n",
       "1    Celebrity magazine       0.01      11\n",
       "2    Celebrity magazine       0.02     128\n",
       "3    Celebrity magazine       0.03    1400\n",
       "4    Celebrity magazine       0.04     227\n",
       "..                  ...        ...     ...\n",
       "399              Sports       0.96     126\n",
       "400              Sports       0.97     646\n",
       "401              Sports       0.98      46\n",
       "402              Sports       0.99      40\n",
       "403              Sports       1.00   34203\n",
       "\n",
       "[404 rows x 3 columns]"
      ]
     },
     "execution_count": 292,
     "metadata": {},
     "output_type": "execute_result"
    }
   ],
   "source": [
    "df_blob_subj = df_rounded.copy()\n",
    "df_blob_subj = df_rounded.groupby(['category', 'blob_subj']).agg({'blob_subj': 'count'}).rename(columns={'blob_subj': 'count'}).reset_index()\n",
    "\n",
    "array_dict_4 = {}\n",
    "for outlet in categories:\n",
    "    array_dict_4[f'x_{outlet}'] = df_blob_subj[df_blob_subj['category']==outlet]['blob_subj'] # storing the blob_polar values for each category\n",
    "    array_dict_4[f'y_{outlet}'] = np.log(df_blob_subj[df_blob_subj['category']==outlet]['count']) # storing the blob_polar counts for each value\n",
    "    #array_dict_3[f'y_{outlet}'] = (array_dict_3[f'y_{outlet}'] - array_dict_3[f'y_{outlet}'].min()) \\\n",
    "    #                            / (array_dict_3[f'y_{outlet}'].max() - array_dict_3[f'y_{outlet}'].min())\n",
    "\n",
    "df_blob_subj"
   ]
  },
  {
   "cell_type": "code",
   "execution_count": 297,
   "metadata": {},
   "outputs": [
    {
     "data": {
      "text/plain": [
       "{'x_Sports': 303    0.00\n",
       " 304    0.01\n",
       " 305    0.02\n",
       " 306    0.03\n",
       " 307    0.04\n",
       "        ... \n",
       " 399    0.96\n",
       " 400    0.97\n",
       " 401    0.98\n",
       " 402    0.99\n",
       " 403    1.00\n",
       " Name: blob_subj, Length: 101, dtype: float64,\n",
       " 'y_Sports': 303    12.240972\n",
       " 304     1.609438\n",
       " 305     4.406719\n",
       " 306     6.675823\n",
       " 307     4.976734\n",
       "          ...    \n",
       " 399     4.836282\n",
       " 400     6.470800\n",
       " 401     3.828641\n",
       " 402     3.688879\n",
       " 403    10.440069\n",
       " Name: count, Length: 101, dtype: float64,\n",
       " 'x_Newspaper': 101    0.00\n",
       " 102    0.01\n",
       " 103    0.02\n",
       " 104    0.03\n",
       " 105    0.04\n",
       "        ... \n",
       " 197    0.96\n",
       " 198    0.97\n",
       " 199    0.98\n",
       " 200    0.99\n",
       " 201    1.00\n",
       " Name: blob_subj, Length: 101, dtype: float64,\n",
       " 'y_Newspaper': 101    14.628020\n",
       " 102     4.127134\n",
       " 103     7.168580\n",
       " 104     9.371353\n",
       " 105     7.593878\n",
       "          ...    \n",
       " 197     6.891626\n",
       " 198     8.903136\n",
       " 199     6.442540\n",
       " 200     6.054439\n",
       " 201    12.898224\n",
       " Name: count, Length: 101, dtype: float64,\n",
       " 'x_Celebrity magazine': 0      0.00\n",
       " 1      0.01\n",
       " 2      0.02\n",
       " 3      0.03\n",
       " 4      0.04\n",
       "        ... \n",
       " 96     0.96\n",
       " 97     0.97\n",
       " 98     0.98\n",
       " 99     0.99\n",
       " 100    1.00\n",
       " Name: blob_subj, Length: 101, dtype: float64,\n",
       " 'y_Celebrity magazine': 0      12.519349\n",
       " 1       2.397895\n",
       " 2       4.852030\n",
       " 3       7.244228\n",
       " 4       5.424950\n",
       "          ...    \n",
       " 96      4.955827\n",
       " 97      7.030857\n",
       " 98      4.736198\n",
       " 99      4.143135\n",
       " 100    10.840267\n",
       " Name: count, Length: 101, dtype: float64,\n",
       " 'x_Other': 202    0.00\n",
       " 203    0.01\n",
       " 204    0.02\n",
       " 205    0.03\n",
       " 206    0.04\n",
       "        ... \n",
       " 298    0.96\n",
       " 299    0.97\n",
       " 300    0.98\n",
       " 301    0.99\n",
       " 302    1.00\n",
       " Name: blob_subj, Length: 101, dtype: float64,\n",
       " 'y_Other': 202    12.593336\n",
       " 203     2.197225\n",
       " 204     5.247024\n",
       " 205     7.300473\n",
       " 206     5.605802\n",
       "          ...    \n",
       " 298     4.983607\n",
       " 299     6.892642\n",
       " 300     4.189655\n",
       " 301     3.951244\n",
       " 302    10.851781\n",
       " Name: count, Length: 101, dtype: float64}"
      ]
     },
     "execution_count": 297,
     "metadata": {},
     "output_type": "execute_result"
    }
   ],
   "source": [
    "array_dict_3"
   ]
  },
  {
   "cell_type": "code",
   "execution_count": 293,
   "metadata": {},
   "outputs": [
    {
     "data": {
      "application/vnd.plotly.v1+json": {
       "config": {
        "plotlyServerURL": "https://plot.ly"
       },
       "data": [
        {
         "name": "Sports",
         "type": "scatter",
         "x": [
          0,
          0.01,
          0.02,
          0.03,
          0.04,
          0.05,
          0.06,
          0.07,
          0.08,
          0.09,
          0.1,
          0.11,
          0.12,
          0.13,
          0.14,
          0.15,
          0.16,
          0.17,
          0.18,
          0.19,
          0.2,
          0.21,
          0.22,
          0.23,
          0.24,
          0.25,
          0.26,
          0.27,
          0.28,
          0.29,
          0.3,
          0.31,
          0.32,
          0.33,
          0.34,
          0.35,
          0.36,
          0.37,
          0.38,
          0.39,
          0.4,
          0.41,
          0.42,
          0.43,
          0.44,
          0.45,
          0.46,
          0.47,
          0.48,
          0.49,
          0.5,
          0.51,
          0.52,
          0.53,
          0.54,
          0.55,
          0.56,
          0.57,
          0.58,
          0.59,
          0.6,
          0.61,
          0.62,
          0.63,
          0.64,
          0.65,
          0.66,
          0.67,
          0.68,
          0.69,
          0.7,
          0.71,
          0.72,
          0.73,
          0.74,
          0.75,
          0.76,
          0.77,
          0.78,
          0.79,
          0.8,
          0.81,
          0.82,
          0.83,
          0.84,
          0.85,
          0.86,
          0.87,
          0.88,
          0.89,
          0.9,
          0.91,
          0.92,
          0.93,
          0.94,
          0.95,
          0.96,
          0.97,
          0.98,
          0.99,
          1
         ],
         "y": [
          12.24097153303443,
          1.6094379124341003,
          4.406719247264253,
          6.675823221634848,
          4.976733742420574,
          7.841492924460013,
          6.504288173536645,
          8.486527777105353,
          7.10085190894405,
          5.673323267171493,
          9.562967133068346,
          6.429719478039138,
          8.513185170018698,
          7.340186835320115,
          7.349230824613334,
          7.916078096302786,
          7.060476365999801,
          8.224163512637862,
          7.421177528595393,
          7.693937325509272,
          9.913140809564267,
          7.7354333524996886,
          7.738923757439457,
          8.457443187010464,
          7.851271997109883,
          9.422220731011683,
          8.128290171607052,
          8.601534339849989,
          8.668711839055147,
          8.97094039814245,
          10.107366731668879,
          8.538758969330798,
          8.543055850941965,
          9.61400385813772,
          8.629449873761905,
          9.34862295977619,
          8.832879460277615,
          9.085910293598007,
          9.636783886469539,
          8.981430225767635,
          10.569571813546384,
          8.963032193662675,
          9.417517129768314,
          9.212936997823448,
          9.181014542594355,
          9.793561073157523,
          9.10320049641828,
          9.652201695275638,
          9.117676687112763,
          9.086702731518004,
          11.038206737097521,
          9.117347505127018,
          9.29596745794362,
          9.555418330069251,
          9.89600966268017,
          9.741203889478681,
          9.0918946167697,
          9.643355794171352,
          9.074176947163311,
          8.836373930927389,
          10.386685009184644,
          8.736328721332908,
          9.46148811969999,
          8.902455592206882,
          8.789660098061537,
          9.408863308108145,
          8.403352374992478,
          9.294773427951013,
          8.70317470904168,
          8.754002933494261,
          9.59212735272977,
          8.10258642539079,
          8.517593111437565,
          8.375860015299594,
          7.83399634170946,
          9.934065253000266,
          7.656810091480378,
          8.258681496264236,
          8.200562797008564,
          7.526178913346146,
          9.078749951588586,
          7.372118028337787,
          7.746732907753622,
          8.731820582962108,
          6.502790045915623,
          7.666221925662725,
          6.459904454377535,
          7.005789019253503,
          8.014996894348302,
          8.066521490469993,
          9.567735056839265,
          5.69035945432406,
          6.915723448631314,
          6.257667587882639,
          6.6052979209482015,
          7.932362154339751,
          4.836281906951478,
          6.470799503782602,
          3.828641396489095,
          3.6888794541139363,
          10.44006863850183
         ]
        },
        {
         "name": "Newspaper",
         "type": "scatter",
         "x": [
          0,
          0.01,
          0.02,
          0.03,
          0.04,
          0.05,
          0.06,
          0.07,
          0.08,
          0.09,
          0.1,
          0.11,
          0.12,
          0.13,
          0.14,
          0.15,
          0.16,
          0.17,
          0.18,
          0.19,
          0.2,
          0.21,
          0.22,
          0.23,
          0.24,
          0.25,
          0.26,
          0.27,
          0.28,
          0.29,
          0.3,
          0.31,
          0.32,
          0.33,
          0.34,
          0.35,
          0.36,
          0.37,
          0.38,
          0.39,
          0.4,
          0.41,
          0.42,
          0.43,
          0.44,
          0.45,
          0.46,
          0.47,
          0.48,
          0.49,
          0.5,
          0.51,
          0.52,
          0.53,
          0.54,
          0.55,
          0.56,
          0.57,
          0.58,
          0.59,
          0.6,
          0.61,
          0.62,
          0.63,
          0.64,
          0.65,
          0.66,
          0.67,
          0.68,
          0.69,
          0.7,
          0.71,
          0.72,
          0.73,
          0.74,
          0.75,
          0.76,
          0.77,
          0.78,
          0.79,
          0.8,
          0.81,
          0.82,
          0.83,
          0.84,
          0.85,
          0.86,
          0.87,
          0.88,
          0.89,
          0.9,
          0.91,
          0.92,
          0.93,
          0.94,
          0.95,
          0.96,
          0.97,
          0.98,
          0.99,
          1
         ],
         "y": [
          14.628019527293818,
          4.127134385045092,
          7.168579897264035,
          9.371353167823885,
          7.593877844605118,
          10.378043305129086,
          9.045819439807735,
          10.961034761585639,
          9.539500223874272,
          8.121183242078828,
          11.985507018511935,
          9.046055177668327,
          11.008959592551948,
          9.686077533069678,
          9.590556045830896,
          10.325416386674958,
          9.428591977209965,
          10.681642019904501,
          9.744374580879056,
          10.140770667404057,
          12.061965526533466,
          10.138796800749208,
          10.063861683597258,
          10.680447249181304,
          10.102993934084184,
          11.769101390334663,
          10.328984019949246,
          10.640531994133257,
          10.898607948952096,
          11.107945239287579,
          12.224482146012923,
          10.700521663560345,
          10.577298996789331,
          11.79150372317254,
          10.643064971973882,
          11.36435584866076,
          10.894031960234424,
          11.01513122930293,
          11.898269495082172,
          10.977636369025863,
          12.53721642539249,
          10.832339066455141,
          11.356903034510173,
          11.223308187883937,
          11.132660157883807,
          11.871005421416463,
          10.965470434381448,
          11.501621818798837,
          11.021788082873664,
          10.908082159098116,
          13.214727403374507,
          10.898700364415117,
          11.136907502384792,
          11.482971284577042,
          11.764524297248927,
          11.790754151869494,
          10.961937351385163,
          11.522420246532018,
          10.982611164620375,
          10.674613774412663,
          12.375418716968404,
          10.55396206880912,
          11.513475313775665,
          10.830183957124165,
          10.68090694533025,
          11.500144130605495,
          10.234372782288558,
          11.41376789343701,
          10.665974211174687,
          10.803465958917979,
          11.787225901368663,
          10.025616685769192,
          10.498856510177369,
          10.610019752706195,
          9.763075398819383,
          12.083899361822493,
          9.63135069141981,
          10.34296753923157,
          10.273118207635076,
          9.578242059529382,
          11.335472039573135,
          9.420114955551439,
          9.852036350945049,
          10.77369246021493,
          8.679312040892672,
          10.045594569160958,
          8.733916174927524,
          9.373139262281274,
          10.285922831529602,
          10.039634272209469,
          11.857266659970136,
          7.9483852851118995,
          8.896177422274805,
          8.755264763314685,
          8.712595487748722,
          10.401197541154744,
          6.891625897052253,
          8.903135633035538,
          6.4425401664681985,
          6.054439346269371,
          12.898224330749015
         ]
        },
        {
         "name": "Celebrity magazine",
         "type": "scatter",
         "x": [
          0,
          0.01,
          0.02,
          0.03,
          0.04,
          0.05,
          0.06,
          0.07,
          0.08,
          0.09,
          0.1,
          0.11,
          0.12,
          0.13,
          0.14,
          0.15,
          0.16,
          0.17,
          0.18,
          0.19,
          0.2,
          0.21,
          0.22,
          0.23,
          0.24,
          0.25,
          0.26,
          0.27,
          0.28,
          0.29,
          0.3,
          0.31,
          0.32,
          0.33,
          0.34,
          0.35,
          0.36,
          0.37,
          0.38,
          0.39,
          0.4,
          0.41,
          0.42,
          0.43,
          0.44,
          0.45,
          0.46,
          0.47,
          0.48,
          0.49,
          0.5,
          0.51,
          0.52,
          0.53,
          0.54,
          0.55,
          0.56,
          0.57,
          0.58,
          0.59,
          0.6,
          0.61,
          0.62,
          0.63,
          0.64,
          0.65,
          0.66,
          0.67,
          0.68,
          0.69,
          0.7,
          0.71,
          0.72,
          0.73,
          0.74,
          0.75,
          0.76,
          0.77,
          0.78,
          0.79,
          0.8,
          0.81,
          0.82,
          0.83,
          0.84,
          0.85,
          0.86,
          0.87,
          0.88,
          0.89,
          0.9,
          0.91,
          0.92,
          0.93,
          0.94,
          0.95,
          0.96,
          0.97,
          0.98,
          0.99,
          1
         ],
         "y": [
          12.519349362643435,
          2.3978952727983707,
          4.852030263919617,
          7.24422751560335,
          5.424950017481403,
          8.252446090246952,
          6.748759547491679,
          8.853379672927634,
          7.357556200910353,
          6.003887067106539,
          9.862873869650832,
          6.968850378341948,
          8.794370279222871,
          7.618742377670413,
          7.430114138561801,
          8.268988209506656,
          7.325807502595773,
          8.584290934948731,
          7.6246189861593985,
          7.998671361015776,
          10.04037580459825,
          8.03689677268507,
          8.017307507688582,
          8.592857095337227,
          8.003363058629947,
          9.650722071987907,
          8.24117615049496,
          8.571870752706934,
          8.837681215593197,
          9.033006356693267,
          10.127310872755094,
          8.630343289348893,
          8.550241045462437,
          9.742614326948043,
          8.607399459302387,
          9.351145248567203,
          8.87024156729927,
          8.983565234427923,
          9.812687188209631,
          8.96098117384356,
          10.401410290946595,
          8.83811659764782,
          9.362460420037015,
          9.273502946933823,
          9.15704507491796,
          9.827901565579532,
          9.006263883379198,
          9.502487461387123,
          9.06900719585954,
          8.97449144816442,
          11.143527062898457,
          8.95686647085414,
          9.190341725469493,
          9.541871851706224,
          9.747184558140727,
          9.806480934593978,
          9.03741453682259,
          9.545239944037075,
          9.104646467417119,
          8.818038250394299,
          10.431376761728,
          8.698180525197055,
          9.568574100378909,
          8.927048647825695,
          8.751949058058614,
          9.565914710470881,
          8.412499120301572,
          9.426016108442871,
          8.777401286867264,
          8.87024156729927,
          9.787066089518877,
          8.19478163844336,
          8.605020901781758,
          8.672999642554437,
          7.9102237070973445,
          10.070060752361943,
          7.771488760117616,
          8.412054873292933,
          8.334471554600944,
          7.641564441260972,
          9.419952789006041,
          7.552237287560802,
          8.021256180143997,
          8.697679732264463,
          6.876264611890766,
          8.14002395246292,
          7.010311867307229,
          7.383989457978509,
          8.264363329731667,
          7.933796874815411,
          9.825255704266555,
          6.09807428216624,
          6.897704943128636,
          6.898714534329988,
          6.654152520183219,
          8.435983135990694,
          4.955827057601261,
          7.030857476116121,
          4.736198448394496,
          4.143134726391533,
          10.840266950837599
         ]
        },
        {
         "name": "Other",
         "type": "scatter",
         "x": [
          0,
          0.01,
          0.02,
          0.03,
          0.04,
          0.05,
          0.06,
          0.07,
          0.08,
          0.09,
          0.1,
          0.11,
          0.12,
          0.13,
          0.14,
          0.15,
          0.16,
          0.17,
          0.18,
          0.19,
          0.2,
          0.21,
          0.22,
          0.23,
          0.24,
          0.25,
          0.26,
          0.27,
          0.28,
          0.29,
          0.3,
          0.31,
          0.32,
          0.33,
          0.34,
          0.35,
          0.36,
          0.37,
          0.38,
          0.39,
          0.4,
          0.41,
          0.42,
          0.43,
          0.44,
          0.45,
          0.46,
          0.47,
          0.48,
          0.49,
          0.5,
          0.51,
          0.52,
          0.53,
          0.54,
          0.55,
          0.56,
          0.57,
          0.58,
          0.59,
          0.6,
          0.61,
          0.62,
          0.63,
          0.64,
          0.65,
          0.66,
          0.67,
          0.68,
          0.69,
          0.7,
          0.71,
          0.72,
          0.73,
          0.74,
          0.75,
          0.76,
          0.77,
          0.78,
          0.79,
          0.8,
          0.81,
          0.82,
          0.83,
          0.84,
          0.85,
          0.86,
          0.87,
          0.88,
          0.89,
          0.9,
          0.91,
          0.92,
          0.93,
          0.94,
          0.95,
          0.96,
          0.97,
          0.98,
          0.99,
          1
         ],
         "y": [
          12.593336443549132,
          2.1972245773362196,
          5.247024072160486,
          7.300472814267799,
          5.605802066295998,
          8.327484416188264,
          6.927557906278317,
          8.851090687664982,
          7.466799475018602,
          6.068425588244111,
          9.94136120496421,
          6.967909201801884,
          8.890272839380247,
          7.603897968521881,
          7.539027055823995,
          8.332067707289548,
          7.3343293503005365,
          8.62998601889136,
          7.630461261783627,
          8.03073492409854,
          10.041508850433503,
          8.08487062913819,
          7.995643604287271,
          8.614138397472717,
          7.994294986415977,
          9.703694249830134,
          8.236420527265391,
          8.553910774351401,
          8.790116892892472,
          9.076237387452702,
          10.172942006713589,
          8.600798775271034,
          8.513787398281405,
          9.747126097411705,
          8.564649132572534,
          9.298259670014065,
          8.83200393125627,
          8.936166649549195,
          9.831078137017988,
          8.920255414908091,
          10.470220808240414,
          8.765614549914716,
          9.307739277963316,
          9.20170317858052,
          9.087381464575735,
          9.8492953234527,
          8.89959435992585,
          9.434922887484646,
          8.967886572127473,
          8.868413284672005,
          11.14836234818249,
          8.85051762174672,
          9.079776001955066,
          9.445649620189263,
          9.698429468768303,
          9.757767898186723,
          8.913281137711804,
          9.504724932487637,
          8.967631665167133,
          8.65591111072806,
          10.346537420971563,
          8.531293315795018,
          9.464517365870565,
          8.815073088844464,
          8.701512750872865,
          9.479374650055481,
          8.249052274171293,
          9.396736947923277,
          8.668711839055147,
          8.798001694924846,
          9.753652546776472,
          8.037220031133012,
          8.489410810403786,
          8.600430789986293,
          7.752764808851328,
          10.008162833474259,
          7.6487397889562425,
          8.332548939252638,
          8.285261134068948,
          7.56164174558878,
          9.351232110673664,
          7.380879035564116,
          7.864419904994565,
          8.703838719690246,
          6.75343791859778,
          8.066835314417336,
          6.802394763324311,
          7.3783837129967145,
          8.21851757748959,
          7.971776122880628,
          9.826282481627157,
          6.003887067106539,
          6.902742737158593,
          6.838405200847344,
          6.673297967767654,
          8.388905171114706,
          4.983606621708336,
          6.892641641172089,
          4.189654742026425,
          3.9512437185814275,
          10.851780700535777
         ]
        }
       ],
       "layout": {
        "clickmode": "event+select",
        "showlegend": true,
        "template": {
         "data": {
          "bar": [
           {
            "error_x": {
             "color": "#2a3f5f"
            },
            "error_y": {
             "color": "#2a3f5f"
            },
            "marker": {
             "line": {
              "color": "#E5ECF6",
              "width": 0.5
             },
             "pattern": {
              "fillmode": "overlay",
              "size": 10,
              "solidity": 0.2
             }
            },
            "type": "bar"
           }
          ],
          "barpolar": [
           {
            "marker": {
             "line": {
              "color": "#E5ECF6",
              "width": 0.5
             },
             "pattern": {
              "fillmode": "overlay",
              "size": 10,
              "solidity": 0.2
             }
            },
            "type": "barpolar"
           }
          ],
          "carpet": [
           {
            "aaxis": {
             "endlinecolor": "#2a3f5f",
             "gridcolor": "white",
             "linecolor": "white",
             "minorgridcolor": "white",
             "startlinecolor": "#2a3f5f"
            },
            "baxis": {
             "endlinecolor": "#2a3f5f",
             "gridcolor": "white",
             "linecolor": "white",
             "minorgridcolor": "white",
             "startlinecolor": "#2a3f5f"
            },
            "type": "carpet"
           }
          ],
          "choropleth": [
           {
            "colorbar": {
             "outlinewidth": 0,
             "ticks": ""
            },
            "type": "choropleth"
           }
          ],
          "contour": [
           {
            "colorbar": {
             "outlinewidth": 0,
             "ticks": ""
            },
            "colorscale": [
             [
              0,
              "#0d0887"
             ],
             [
              0.1111111111111111,
              "#46039f"
             ],
             [
              0.2222222222222222,
              "#7201a8"
             ],
             [
              0.3333333333333333,
              "#9c179e"
             ],
             [
              0.4444444444444444,
              "#bd3786"
             ],
             [
              0.5555555555555556,
              "#d8576b"
             ],
             [
              0.6666666666666666,
              "#ed7953"
             ],
             [
              0.7777777777777778,
              "#fb9f3a"
             ],
             [
              0.8888888888888888,
              "#fdca26"
             ],
             [
              1,
              "#f0f921"
             ]
            ],
            "type": "contour"
           }
          ],
          "contourcarpet": [
           {
            "colorbar": {
             "outlinewidth": 0,
             "ticks": ""
            },
            "type": "contourcarpet"
           }
          ],
          "heatmap": [
           {
            "colorbar": {
             "outlinewidth": 0,
             "ticks": ""
            },
            "colorscale": [
             [
              0,
              "#0d0887"
             ],
             [
              0.1111111111111111,
              "#46039f"
             ],
             [
              0.2222222222222222,
              "#7201a8"
             ],
             [
              0.3333333333333333,
              "#9c179e"
             ],
             [
              0.4444444444444444,
              "#bd3786"
             ],
             [
              0.5555555555555556,
              "#d8576b"
             ],
             [
              0.6666666666666666,
              "#ed7953"
             ],
             [
              0.7777777777777778,
              "#fb9f3a"
             ],
             [
              0.8888888888888888,
              "#fdca26"
             ],
             [
              1,
              "#f0f921"
             ]
            ],
            "type": "heatmap"
           }
          ],
          "heatmapgl": [
           {
            "colorbar": {
             "outlinewidth": 0,
             "ticks": ""
            },
            "colorscale": [
             [
              0,
              "#0d0887"
             ],
             [
              0.1111111111111111,
              "#46039f"
             ],
             [
              0.2222222222222222,
              "#7201a8"
             ],
             [
              0.3333333333333333,
              "#9c179e"
             ],
             [
              0.4444444444444444,
              "#bd3786"
             ],
             [
              0.5555555555555556,
              "#d8576b"
             ],
             [
              0.6666666666666666,
              "#ed7953"
             ],
             [
              0.7777777777777778,
              "#fb9f3a"
             ],
             [
              0.8888888888888888,
              "#fdca26"
             ],
             [
              1,
              "#f0f921"
             ]
            ],
            "type": "heatmapgl"
           }
          ],
          "histogram": [
           {
            "marker": {
             "pattern": {
              "fillmode": "overlay",
              "size": 10,
              "solidity": 0.2
             }
            },
            "type": "histogram"
           }
          ],
          "histogram2d": [
           {
            "colorbar": {
             "outlinewidth": 0,
             "ticks": ""
            },
            "colorscale": [
             [
              0,
              "#0d0887"
             ],
             [
              0.1111111111111111,
              "#46039f"
             ],
             [
              0.2222222222222222,
              "#7201a8"
             ],
             [
              0.3333333333333333,
              "#9c179e"
             ],
             [
              0.4444444444444444,
              "#bd3786"
             ],
             [
              0.5555555555555556,
              "#d8576b"
             ],
             [
              0.6666666666666666,
              "#ed7953"
             ],
             [
              0.7777777777777778,
              "#fb9f3a"
             ],
             [
              0.8888888888888888,
              "#fdca26"
             ],
             [
              1,
              "#f0f921"
             ]
            ],
            "type": "histogram2d"
           }
          ],
          "histogram2dcontour": [
           {
            "colorbar": {
             "outlinewidth": 0,
             "ticks": ""
            },
            "colorscale": [
             [
              0,
              "#0d0887"
             ],
             [
              0.1111111111111111,
              "#46039f"
             ],
             [
              0.2222222222222222,
              "#7201a8"
             ],
             [
              0.3333333333333333,
              "#9c179e"
             ],
             [
              0.4444444444444444,
              "#bd3786"
             ],
             [
              0.5555555555555556,
              "#d8576b"
             ],
             [
              0.6666666666666666,
              "#ed7953"
             ],
             [
              0.7777777777777778,
              "#fb9f3a"
             ],
             [
              0.8888888888888888,
              "#fdca26"
             ],
             [
              1,
              "#f0f921"
             ]
            ],
            "type": "histogram2dcontour"
           }
          ],
          "mesh3d": [
           {
            "colorbar": {
             "outlinewidth": 0,
             "ticks": ""
            },
            "type": "mesh3d"
           }
          ],
          "parcoords": [
           {
            "line": {
             "colorbar": {
              "outlinewidth": 0,
              "ticks": ""
             }
            },
            "type": "parcoords"
           }
          ],
          "pie": [
           {
            "automargin": true,
            "type": "pie"
           }
          ],
          "scatter": [
           {
            "marker": {
             "colorbar": {
              "outlinewidth": 0,
              "ticks": ""
             }
            },
            "type": "scatter"
           }
          ],
          "scatter3d": [
           {
            "line": {
             "colorbar": {
              "outlinewidth": 0,
              "ticks": ""
             }
            },
            "marker": {
             "colorbar": {
              "outlinewidth": 0,
              "ticks": ""
             }
            },
            "type": "scatter3d"
           }
          ],
          "scattercarpet": [
           {
            "marker": {
             "colorbar": {
              "outlinewidth": 0,
              "ticks": ""
             }
            },
            "type": "scattercarpet"
           }
          ],
          "scattergeo": [
           {
            "marker": {
             "colorbar": {
              "outlinewidth": 0,
              "ticks": ""
             }
            },
            "type": "scattergeo"
           }
          ],
          "scattergl": [
           {
            "marker": {
             "colorbar": {
              "outlinewidth": 0,
              "ticks": ""
             }
            },
            "type": "scattergl"
           }
          ],
          "scattermapbox": [
           {
            "marker": {
             "colorbar": {
              "outlinewidth": 0,
              "ticks": ""
             }
            },
            "type": "scattermapbox"
           }
          ],
          "scatterpolar": [
           {
            "marker": {
             "colorbar": {
              "outlinewidth": 0,
              "ticks": ""
             }
            },
            "type": "scatterpolar"
           }
          ],
          "scatterpolargl": [
           {
            "marker": {
             "colorbar": {
              "outlinewidth": 0,
              "ticks": ""
             }
            },
            "type": "scatterpolargl"
           }
          ],
          "scatterternary": [
           {
            "marker": {
             "colorbar": {
              "outlinewidth": 0,
              "ticks": ""
             }
            },
            "type": "scatterternary"
           }
          ],
          "surface": [
           {
            "colorbar": {
             "outlinewidth": 0,
             "ticks": ""
            },
            "colorscale": [
             [
              0,
              "#0d0887"
             ],
             [
              0.1111111111111111,
              "#46039f"
             ],
             [
              0.2222222222222222,
              "#7201a8"
             ],
             [
              0.3333333333333333,
              "#9c179e"
             ],
             [
              0.4444444444444444,
              "#bd3786"
             ],
             [
              0.5555555555555556,
              "#d8576b"
             ],
             [
              0.6666666666666666,
              "#ed7953"
             ],
             [
              0.7777777777777778,
              "#fb9f3a"
             ],
             [
              0.8888888888888888,
              "#fdca26"
             ],
             [
              1,
              "#f0f921"
             ]
            ],
            "type": "surface"
           }
          ],
          "table": [
           {
            "cells": {
             "fill": {
              "color": "#EBF0F8"
             },
             "line": {
              "color": "white"
             }
            },
            "header": {
             "fill": {
              "color": "#C8D4E3"
             },
             "line": {
              "color": "white"
             }
            },
            "type": "table"
           }
          ]
         },
         "layout": {
          "annotationdefaults": {
           "arrowcolor": "#2a3f5f",
           "arrowhead": 0,
           "arrowwidth": 1
          },
          "autotypenumbers": "strict",
          "coloraxis": {
           "colorbar": {
            "outlinewidth": 0,
            "ticks": ""
           }
          },
          "colorscale": {
           "diverging": [
            [
             0,
             "#8e0152"
            ],
            [
             0.1,
             "#c51b7d"
            ],
            [
             0.2,
             "#de77ae"
            ],
            [
             0.3,
             "#f1b6da"
            ],
            [
             0.4,
             "#fde0ef"
            ],
            [
             0.5,
             "#f7f7f7"
            ],
            [
             0.6,
             "#e6f5d0"
            ],
            [
             0.7,
             "#b8e186"
            ],
            [
             0.8,
             "#7fbc41"
            ],
            [
             0.9,
             "#4d9221"
            ],
            [
             1,
             "#276419"
            ]
           ],
           "sequential": [
            [
             0,
             "#0d0887"
            ],
            [
             0.1111111111111111,
             "#46039f"
            ],
            [
             0.2222222222222222,
             "#7201a8"
            ],
            [
             0.3333333333333333,
             "#9c179e"
            ],
            [
             0.4444444444444444,
             "#bd3786"
            ],
            [
             0.5555555555555556,
             "#d8576b"
            ],
            [
             0.6666666666666666,
             "#ed7953"
            ],
            [
             0.7777777777777778,
             "#fb9f3a"
            ],
            [
             0.8888888888888888,
             "#fdca26"
            ],
            [
             1,
             "#f0f921"
            ]
           ],
           "sequentialminus": [
            [
             0,
             "#0d0887"
            ],
            [
             0.1111111111111111,
             "#46039f"
            ],
            [
             0.2222222222222222,
             "#7201a8"
            ],
            [
             0.3333333333333333,
             "#9c179e"
            ],
            [
             0.4444444444444444,
             "#bd3786"
            ],
            [
             0.5555555555555556,
             "#d8576b"
            ],
            [
             0.6666666666666666,
             "#ed7953"
            ],
            [
             0.7777777777777778,
             "#fb9f3a"
            ],
            [
             0.8888888888888888,
             "#fdca26"
            ],
            [
             1,
             "#f0f921"
            ]
           ]
          },
          "colorway": [
           "#636efa",
           "#EF553B",
           "#00cc96",
           "#ab63fa",
           "#FFA15A",
           "#19d3f3",
           "#FF6692",
           "#B6E880",
           "#FF97FF",
           "#FECB52"
          ],
          "font": {
           "color": "#2a3f5f"
          },
          "geo": {
           "bgcolor": "white",
           "lakecolor": "white",
           "landcolor": "#E5ECF6",
           "showlakes": true,
           "showland": true,
           "subunitcolor": "white"
          },
          "hoverlabel": {
           "align": "left"
          },
          "hovermode": "closest",
          "mapbox": {
           "style": "light"
          },
          "paper_bgcolor": "white",
          "plot_bgcolor": "#E5ECF6",
          "polar": {
           "angularaxis": {
            "gridcolor": "white",
            "linecolor": "white",
            "ticks": ""
           },
           "bgcolor": "#E5ECF6",
           "radialaxis": {
            "gridcolor": "white",
            "linecolor": "white",
            "ticks": ""
           }
          },
          "scene": {
           "xaxis": {
            "backgroundcolor": "#E5ECF6",
            "gridcolor": "white",
            "gridwidth": 2,
            "linecolor": "white",
            "showbackground": true,
            "ticks": "",
            "zerolinecolor": "white"
           },
           "yaxis": {
            "backgroundcolor": "#E5ECF6",
            "gridcolor": "white",
            "gridwidth": 2,
            "linecolor": "white",
            "showbackground": true,
            "ticks": "",
            "zerolinecolor": "white"
           },
           "zaxis": {
            "backgroundcolor": "#E5ECF6",
            "gridcolor": "white",
            "gridwidth": 2,
            "linecolor": "white",
            "showbackground": true,
            "ticks": "",
            "zerolinecolor": "white"
           }
          },
          "shapedefaults": {
           "line": {
            "color": "#2a3f5f"
           }
          },
          "ternary": {
           "aaxis": {
            "gridcolor": "white",
            "linecolor": "white",
            "ticks": ""
           },
           "baxis": {
            "gridcolor": "white",
            "linecolor": "white",
            "ticks": ""
           },
           "bgcolor": "#E5ECF6",
           "caxis": {
            "gridcolor": "white",
            "linecolor": "white",
            "ticks": ""
           }
          },
          "title": {
           "x": 0.05
          },
          "xaxis": {
           "automargin": true,
           "gridcolor": "white",
           "linecolor": "white",
           "ticks": "",
           "title": {
            "standoff": 15
           },
           "zerolinecolor": "white",
           "zerolinewidth": 2
          },
          "yaxis": {
           "automargin": true,
           "gridcolor": "white",
           "linecolor": "white",
           "ticks": "",
           "title": {
            "standoff": 15
           },
           "zerolinecolor": "white",
           "zerolinewidth": 2
          }
         }
        },
        "title": {
         "text": "Distribution of compound score"
        },
        "xaxis": {
         "title": {
          "text": "Subjectivity score"
         }
        },
        "yaxis": {
         "showticklabels": false
        }
       }
      }
     },
     "metadata": {},
     "output_type": "display_data"
    }
   ],
   "source": [
    "\n",
    "fig = go.Figure()\n",
    "text = []\n",
    "for index, media in enumerate(categories):\n",
    "\n",
    "    fig.update_layout(clickmode='event+select')\n",
    "    \n",
    "\n",
    "    \n",
    "    fig.add_trace(go.Scatter(\n",
    "                            x=array_dict_4[f'x_{media}'],\n",
    "                            y=array_dict_4[f'y_{media}'] ,\n",
    "                            #fill='tonexty',\n",
    "                            name=f'{media}'))\n",
    "\n",
    "# Modify the figure and the legend titles\n",
    "fig.update_layout(\n",
    "                title='Distribution of compound score',\n",
    "                showlegend=True,\n",
    "                xaxis=dict(title='Subjectivity score'),\n",
    "                yaxis=dict(showticklabels=False) # that way you hide the y axis ticks labels\n",
    "                )\n",
    "\n",
    "fig.show()\n",
    "fig.write_html(\"images/subj_distribution_categories_same_plot.html\")"
   ]
  },
  {
   "cell_type": "code",
   "execution_count": 283,
   "metadata": {},
   "outputs": [
    {
     "data": {
      "text/html": [
       "<div>\n",
       "<style scoped>\n",
       "    .dataframe tbody tr th:only-of-type {\n",
       "        vertical-align: middle;\n",
       "    }\n",
       "\n",
       "    .dataframe tbody tr th {\n",
       "        vertical-align: top;\n",
       "    }\n",
       "\n",
       "    .dataframe thead th {\n",
       "        text-align: right;\n",
       "    }\n",
       "</style>\n",
       "<table border=\"1\" class=\"dataframe\">\n",
       "  <thead>\n",
       "    <tr style=\"text-align: right;\">\n",
       "      <th></th>\n",
       "      <th>compound</th>\n",
       "      <th>positive</th>\n",
       "      <th>negative</th>\n",
       "      <th>blob_polar</th>\n",
       "      <th>blob_subj</th>\n",
       "    </tr>\n",
       "    <tr>\n",
       "      <th>category</th>\n",
       "      <th></th>\n",
       "      <th></th>\n",
       "      <th></th>\n",
       "      <th></th>\n",
       "      <th></th>\n",
       "    </tr>\n",
       "  </thead>\n",
       "  <tbody>\n",
       "    <tr>\n",
       "      <th>Celebrity magazine</th>\n",
       "      <td>0.171261</td>\n",
       "      <td>0.130968</td>\n",
       "      <td>0.067232</td>\n",
       "      <td>0.116269</td>\n",
       "      <td>0.393578</td>\n",
       "    </tr>\n",
       "    <tr>\n",
       "      <th>Newspaper</th>\n",
       "      <td>0.139339</td>\n",
       "      <td>0.121508</td>\n",
       "      <td>0.069086</td>\n",
       "      <td>0.102639</td>\n",
       "      <td>0.378528</td>\n",
       "    </tr>\n",
       "    <tr>\n",
       "      <th>Other</th>\n",
       "      <td>0.123469</td>\n",
       "      <td>0.116649</td>\n",
       "      <td>0.071154</td>\n",
       "      <td>0.097515</td>\n",
       "      <td>0.379382</td>\n",
       "    </tr>\n",
       "    <tr>\n",
       "      <th>Sports</th>\n",
       "      <td>0.276404</td>\n",
       "      <td>0.145125</td>\n",
       "      <td>0.049858</td>\n",
       "      <td>0.147484</td>\n",
       "      <td>0.404395</td>\n",
       "    </tr>\n",
       "  </tbody>\n",
       "</table>\n",
       "</div>"
      ],
      "text/plain": [
       "                    compound  positive  negative  blob_polar  blob_subj\n",
       "category                                                               \n",
       "Celebrity magazine  0.171261  0.130968  0.067232    0.116269   0.393578\n",
       "Newspaper           0.139339  0.121508  0.069086    0.102639   0.378528\n",
       "Other               0.123469  0.116649  0.071154    0.097515   0.379382\n",
       "Sports              0.276404  0.145125  0.049858    0.147484   0.404395"
      ]
     },
     "execution_count": 283,
     "metadata": {},
     "output_type": "execute_result"
    }
   ],
   "source": [
    "df_rounded.groupby(by = 'category').agg('mean')"
   ]
  },
  {
   "cell_type": "markdown",
   "metadata": {},
   "source": [
    "## Det nedenfor skal antagelig ikke med"
   ]
  },
  {
   "cell_type": "code",
   "execution_count": null,
   "metadata": {},
   "outputs": [
    {
     "data": {
      "text/plain": [
       "'\\nBlir for stort\\n\\n\\nimport plotly.figure_factory as ff\\n\\n\\nt = np.linspace(-1, 1.2, 2000)\\nx = nytimes[\\'blob_polar\\']\\ny = nytimes[\\'blob_subj\\']\\n\\ncolorscale = [\\'#7A4579\\', \\'#D56073\\', \\'rgb(236,158,105)\\', (1, 1, 0.2), (0.98,0.98,0.98)]\\n\\nfig = ff.create_2d_density(\\n    x, y, colorscale=colorscale,\\n    hist_color=\\'rgb(255, 237, 222)\\', point_size=3\\n)\\nfig.write_html(\"images/nytimes_scatter.html\")\\n'"
      ]
     },
     "execution_count": 193,
     "metadata": {},
     "output_type": "execute_result"
    }
   ],
   "source": [
    "'''\n",
    "Blir for stort\n",
    "\n",
    "\n",
    "import plotly.figure_factory as ff\n",
    "\n",
    "\n",
    "t = np.linspace(-1, 1.2, 2000)\n",
    "x = nytimes['blob_polar']\n",
    "y = nytimes['blob_subj']\n",
    "\n",
    "colorscale = ['#7A4579', '#D56073', 'rgb(236,158,105)', (1, 1, 0.2), (0.98,0.98,0.98)]\n",
    "\n",
    "fig = ff.create_2d_density(\n",
    "    x, y, colorscale=colorscale,\n",
    "    hist_color='rgb(255, 237, 222)', point_size=3\n",
    ")\n",
    "fig.write_html(\"images/nytimes_scatter.html\")\n",
    "'''"
   ]
  },
  {
   "cell_type": "code",
   "execution_count": null,
   "metadata": {},
   "outputs": [
    {
     "data": {
      "text/html": [
       "<div>\n",
       "<style scoped>\n",
       "    .dataframe tbody tr th:only-of-type {\n",
       "        vertical-align: middle;\n",
       "    }\n",
       "\n",
       "    .dataframe tbody tr th {\n",
       "        vertical-align: top;\n",
       "    }\n",
       "\n",
       "    .dataframe thead th {\n",
       "        text-align: right;\n",
       "    }\n",
       "</style>\n",
       "<table border=\"1\" class=\"dataframe\">\n",
       "  <thead>\n",
       "    <tr style=\"text-align: right;\">\n",
       "      <th></th>\n",
       "      <th>date_short</th>\n",
       "      <th>media_outlet</th>\n",
       "      <th>compound</th>\n",
       "      <th>positive</th>\n",
       "      <th>negative</th>\n",
       "      <th>blob_polar</th>\n",
       "      <th>blob_subj</th>\n",
       "    </tr>\n",
       "  </thead>\n",
       "  <tbody>\n",
       "    <tr>\n",
       "      <th>41630</th>\n",
       "      <td>2019-01-02</td>\n",
       "      <td>aarp</td>\n",
       "      <td>0.120000</td>\n",
       "      <td>0.117000</td>\n",
       "      <td>0.031750</td>\n",
       "      <td>0.002500</td>\n",
       "      <td>0.427407</td>\n",
       "    </tr>\n",
       "    <tr>\n",
       "      <th>41631</th>\n",
       "      <td>2019-01-02</td>\n",
       "      <td>bbc</td>\n",
       "      <td>0.142252</td>\n",
       "      <td>0.116685</td>\n",
       "      <td>0.058009</td>\n",
       "      <td>0.086216</td>\n",
       "      <td>0.367131</td>\n",
       "    </tr>\n",
       "    <tr>\n",
       "      <th>41632</th>\n",
       "      <td>2019-01-02</td>\n",
       "      <td>cnn</td>\n",
       "      <td>0.150028</td>\n",
       "      <td>0.123425</td>\n",
       "      <td>0.070615</td>\n",
       "      <td>0.098464</td>\n",
       "      <td>0.364463</td>\n",
       "    </tr>\n",
       "    <tr>\n",
       "      <th>41633</th>\n",
       "      <td>2019-01-02</td>\n",
       "      <td>dailymail</td>\n",
       "      <td>0.243810</td>\n",
       "      <td>0.128786</td>\n",
       "      <td>0.062500</td>\n",
       "      <td>0.137857</td>\n",
       "      <td>0.323336</td>\n",
       "    </tr>\n",
       "    <tr>\n",
       "      <th>41634</th>\n",
       "      <td>2019-01-02</td>\n",
       "      <td>economist</td>\n",
       "      <td>-0.082222</td>\n",
       "      <td>0.117889</td>\n",
       "      <td>0.114222</td>\n",
       "      <td>0.113333</td>\n",
       "      <td>0.395062</td>\n",
       "    </tr>\n",
       "    <tr>\n",
       "      <th>...</th>\n",
       "      <td>...</td>\n",
       "      <td>...</td>\n",
       "      <td>...</td>\n",
       "      <td>...</td>\n",
       "      <td>...</td>\n",
       "      <td>...</td>\n",
       "      <td>...</td>\n",
       "    </tr>\n",
       "    <tr>\n",
       "      <th>55674</th>\n",
       "      <td>2020-04-16</td>\n",
       "      <td>usatoday</td>\n",
       "      <td>0.325833</td>\n",
       "      <td>0.132917</td>\n",
       "      <td>0.064833</td>\n",
       "      <td>0.110833</td>\n",
       "      <td>0.382791</td>\n",
       "    </tr>\n",
       "    <tr>\n",
       "      <th>55675</th>\n",
       "      <td>2020-04-16</td>\n",
       "      <td>usmagazine</td>\n",
       "      <td>0.253014</td>\n",
       "      <td>0.158603</td>\n",
       "      <td>0.071658</td>\n",
       "      <td>0.116301</td>\n",
       "      <td>0.454472</td>\n",
       "    </tr>\n",
       "    <tr>\n",
       "      <th>55676</th>\n",
       "      <td>2020-04-16</td>\n",
       "      <td>usnews</td>\n",
       "      <td>0.302500</td>\n",
       "      <td>0.161000</td>\n",
       "      <td>0.055500</td>\n",
       "      <td>0.000000</td>\n",
       "      <td>0.220833</td>\n",
       "    </tr>\n",
       "    <tr>\n",
       "      <th>55677</th>\n",
       "      <td>2020-04-16</td>\n",
       "      <td>vanityfair</td>\n",
       "      <td>0.140444</td>\n",
       "      <td>0.104533</td>\n",
       "      <td>0.071933</td>\n",
       "      <td>0.065333</td>\n",
       "      <td>0.455057</td>\n",
       "    </tr>\n",
       "    <tr>\n",
       "      <th>55678</th>\n",
       "      <td>2020-04-16</td>\n",
       "      <td>wsj</td>\n",
       "      <td>0.130741</td>\n",
       "      <td>0.116815</td>\n",
       "      <td>0.057259</td>\n",
       "      <td>0.113333</td>\n",
       "      <td>0.413699</td>\n",
       "    </tr>\n",
       "  </tbody>\n",
       "</table>\n",
       "<p>14049 rows × 7 columns</p>\n",
       "</div>"
      ],
      "text/plain": [
       "       date_short media_outlet  compound  positive  negative  blob_polar  \\\n",
       "41630  2019-01-02         aarp  0.120000  0.117000  0.031750    0.002500   \n",
       "41631  2019-01-02          bbc  0.142252  0.116685  0.058009    0.086216   \n",
       "41632  2019-01-02          cnn  0.150028  0.123425  0.070615    0.098464   \n",
       "41633  2019-01-02    dailymail  0.243810  0.128786  0.062500    0.137857   \n",
       "41634  2019-01-02    economist -0.082222  0.117889  0.114222    0.113333   \n",
       "...           ...          ...       ...       ...       ...         ...   \n",
       "55674  2020-04-16     usatoday  0.325833  0.132917  0.064833    0.110833   \n",
       "55675  2020-04-16   usmagazine  0.253014  0.158603  0.071658    0.116301   \n",
       "55676  2020-04-16       usnews  0.302500  0.161000  0.055500    0.000000   \n",
       "55677  2020-04-16   vanityfair  0.140444  0.104533  0.071933    0.065333   \n",
       "55678  2020-04-16          wsj  0.130741  0.116815  0.057259    0.113333   \n",
       "\n",
       "       blob_subj  \n",
       "41630   0.427407  \n",
       "41631   0.367131  \n",
       "41632   0.364463  \n",
       "41633   0.323336  \n",
       "41634   0.395062  \n",
       "...          ...  \n",
       "55674   0.382791  \n",
       "55675   0.454472  \n",
       "55676   0.220833  \n",
       "55677   0.455057  \n",
       "55678   0.413699  \n",
       "\n",
       "[14049 rows x 7 columns]"
      ]
     },
     "execution_count": 210,
     "metadata": {},
     "output_type": "execute_result"
    }
   ],
   "source": [
    "\n",
    "\n",
    "#Bevegelig plot. Skal antagelig ikke med\n",
    "\n",
    "import plotly.express as px\n",
    "\n",
    "per_day = df_rounded.copy()\n",
    "#per_day['month_year'] = per_day['date_short'].apply(lambda x: pd.to_datetime(x).to_period('M'))\n",
    "per_day = per_day.groupby(['date_short', 'media_outlet']).agg('mean').reset_index()\n",
    "per_day = per_day[per_day['date_short'] > '2019-01-01']\n",
    "\n",
    "per_day['blob_subj'] = per_day['blob_subj'] \n",
    "per_day['blob_polar'] = per_day['blob_polar'] \n",
    "\n",
    "per_day"
   ]
  },
  {
   "cell_type": "code",
   "execution_count": null,
   "metadata": {},
   "outputs": [],
   "source": [
    "fig = px.scatter(per_day, x=\"blob_polar\", y=\"blob_subj\", animation_frame= \"date_short\", animation_group=\"media_outlet\",\n",
    "        color=\"media_outlet\", hover_name=\"media_outlet\",\n",
    "           log_x=True, size_max=0.1, range_x=[0.01,1], range_y=[0.01,1])\n",
    "fig.write_html(\"images/wsj_moving.html\")"
   ]
  },
  {
   "cell_type": "markdown",
   "metadata": {},
   "source": [
    "import plotly.figure_factory as ff\n",
    "\n",
    "\n",
    "t = np.linspace(-1, 1.2, 2000)\n",
    "x = nytimes['blob_polar']\n",
    "y = nytimes['blob_subj']\n",
    "\n",
    "colorscale = ['#7A4579', '#D56073', 'rgb(236,158,105)', (1, 1, 0.2), (0.98,0.98,0.98)]\n",
    "\n",
    "fig = ff.create_2d_density(\n",
    "    x, y, colorscale=colorscale,\n",
    "    hist_color='rgb(255, 237, 222)', point_size=3\n",
    ")\n",
    "fig.write_html(\"images/scatterplot_n\")\n"
   ]
  }
 ],
 "metadata": {
  "interpreter": {
   "hash": "f02b55953317407aa6a3868c665f9aa6d4ba331cc01e667e0182c896c3726979"
  },
  "kernelspec": {
   "display_name": "Python 3.8.11 64-bit ('ADA': conda)",
   "language": "python",
   "name": "python3"
  },
  "language_info": {
   "codemirror_mode": {
    "name": "ipython",
    "version": 3
   },
   "file_extension": ".py",
   "mimetype": "text/x-python",
   "name": "python",
   "nbconvert_exporter": "python",
   "pygments_lexer": "ipython3",
   "version": "3.8.11"
  },
  "orig_nbformat": 4
 },
 "nbformat": 4,
 "nbformat_minor": 2
}
