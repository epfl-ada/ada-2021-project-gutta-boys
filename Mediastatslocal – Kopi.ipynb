{
  "cells": [
    {
      "cell_type": "code",
      "execution_count": 2,
      "metadata": {
        "colab": {
          "base_uri": "https://localhost:8080/"
        },
        "id": "ek-bP8DHkTyX",
        "outputId": "fc462fc5-0d0f-40ea-8fc9-a63915d49550"
      },
      "outputs": [
        {
          "name": "stderr",
          "output_type": "stream",
          "text": [
            "[nltk_data] Downloading package vader_lexicon to\n",
            "[nltk_data]     C:\\Users\\asbjo\\AppData\\Roaming\\nltk_data...\n",
            "[nltk_data]   Package vader_lexicon is already up-to-date!\n"
          ]
        }
      ],
      "source": [
        "import pandas as pd\n",
        "import seaborn as sns\n",
        "from IPython.display import display, HTML\n",
        "import matplotlib.pyplot as plt\n",
        "import scipy.stats as stats\n",
        "import numpy as np\n",
        "import nltk as nltk\n",
        "#import pyarrow\n",
        "import bz2\n",
        "import json\n",
        "import datetime\n",
        "from iteration_utilities import deepflatten\n",
        "import nltk as nltk\n",
        "import scipy.stats as stats\n",
        "from nltk.sentiment.vader import SentimentIntensityAnalyzer\n",
        "nltk.download('vader_lexicon')\n",
        "pd.options.mode.chained_assignment = None"
      ]
    },
    {
      "cell_type": "code",
      "execution_count": 49,
      "metadata": {
        "id": "m7MFr6YSkX3W"
      },
      "outputs": [],
      "source": [
        "#path_to_file = '/content/drive/MyDrive/Quotebank/'\n",
        "\n",
        "'''\n",
        "path_to_file = ['quotes-2015.json-001.bz2','quotes-2016.json-002.bz2','quotes-2017.json.bz2',\n",
        "                  'quotes-2018-004.json.bz2','quotes-2019-005.json.bz2','quotes-2020.json.bz2']\n",
        "\n",
        "files_with_sentiment = ['clean-quotes-2015_with_sentiment.csv.bz2','clean-quotes-2016_with_sentiment.csv.bz2','clean-quotes-2017_with_sentiment.csv.bz2',\n",
        "                  'clean-quotes-2018_with_sentiment.csv.bz2','clean-quotes-2019_with_sentiment.csv.bz2','clean-quotes-2020_with_sentiment.csv.bz2']\n",
        "'''\n",
        "path_to_file = ['quotes-2018.json-004.bz2','quotes-2019.json-005.bz2','quotes-2020.json.bz2']\n",
        "\n",
        "files_with_sentiment = ['clean-quotes-2018_with_sentiment.csv.bz2','clean-quotes-2019_with_sentiment.csv.bz2','clean-quotes-2020_with_sentiment.csv.bz2']\n",
        "\n",
        "path_to_wikidata_file = '/content/drive/MyDrive/Project datasets/speaker_attributes.parquet'\n",
        "\n",
        "wikidata_csv = '/content/drive/MyDrive/Project datasets/wikidata_labels_descriptions_quotebank.csv.bz2' "
      ]
    },
    {
      "cell_type": "code",
      "execution_count": 3,
      "metadata": {
        "id": "GZjBM05zkh45"
      },
      "outputs": [],
      "source": [
        "def weekday_number(date):\n",
        "  ''' Returning the weekday number of a date, e.g., 0 for Mondays.\n",
        "\n",
        "  Parameters\n",
        "  ----------\n",
        "  date: datetime\n",
        "    A datetime for which to find the weekday number.\n",
        "\n",
        "  Returns\n",
        "  -------\n",
        "  weekday_number: int\n",
        "    The weekday number of the date.\n",
        "  '''\n",
        "\n",
        "  weekday_number = date.weekday()\n",
        "  return weekday_number\n",
        "\n",
        "\n",
        "def weekday(date):\n",
        "  ''' Returning the name of the weekday for a date.\n",
        "\n",
        "  Parameters\n",
        "  ----------\n",
        "  date: datetime\n",
        "    A datetime for which to find the weekday.\n",
        "\n",
        "  Returns\n",
        "  -------\n",
        "  weekday: str\n",
        "    The weekday of the date.\n",
        "  '''\n",
        "  \n",
        "  day_number = date.weekday()\n",
        "  week_days = [\"Monday\", \"Tuesday\", \"Wednesday\", \"Thursday\", \"Friday\", \"Saturday\", \"Sunday\"]\n",
        "  weekday = week_days[day_number]\n",
        "  return weekday\n",
        "\n",
        "\n",
        "def week(date):\n",
        "  ''' Returning the week number of a date.\n",
        "\n",
        "  Parameters\n",
        "  ----------\n",
        "  date: datetime\n",
        "    A datetime for which to find the weekday.\n",
        "\n",
        "  Returns\n",
        "  -------\n",
        "  week_number: int\n",
        "    The week number of the date.\n",
        "  '''\n",
        "\n",
        "  week_number = date.week()\n",
        "  return week_number\n",
        "\n",
        "\n",
        "def month(date):\n",
        "  ''' Returning the month name of date.\n",
        "\n",
        "  Parameters\n",
        "  ----------\n",
        "  date: datetime\n",
        "    A date for which to find the month name.\n",
        "\n",
        "  Returns\n",
        "  -------\n",
        "  name_month: str\n",
        "    The name of the month.\n",
        "  '''\n",
        "  name_month = date.month_name()\n",
        "  return name_month\n",
        "\n",
        "\n",
        "def add_time(chunk):\n",
        "  ''' Adding columns for weekday, weekday number and month name to a chunk.\n",
        "\n",
        "  Parameters\n",
        "  ----------\n",
        "  chunk: dataframe\n",
        "    The chunk for which to add date information.\n",
        "\n",
        "  Returns\n",
        "  -------\n",
        "  chunk: dataframe\n",
        "    The chunk with date information.\n",
        "  '''\n",
        "\n",
        "  chunk['weekday'] = chunk['date'].apply(lambda x: weekday(x))\n",
        "  chunk['weekday_number'] = chunk['date'].apply(lambda x: weekday_number(x))  \n",
        "  chunk['Month'] =  chunk['date'].apply(lambda x: month(x))\n",
        "  chunk['date_short'] = pd.to_datetime(chunk['date']).dt.date\n",
        "  return chunk\n"
      ]
    },
    {
      "cell_type": "code",
      "execution_count": 4,
      "metadata": {
        "id": "W38iFrOGklAV"
      },
      "outputs": [],
      "source": [
        "def add_dict(key, dictionary):\n",
        "  ''' Incrementing the value of a key in a dictionary.\n",
        "  \n",
        "  Parameters\n",
        "  ----------\n",
        "  key: object\n",
        "    The key for which to increment the value.\n",
        "  \n",
        "  dictionary: dict\n",
        "    A dictionary in which we are incrementing the value of the key, or adding the key if not already present.\n",
        "\n",
        "  Returns\n",
        "  -------\n",
        "  dictionary: dict\n",
        "    The given dictionary after incrementing the value.\n",
        "  '''\n",
        "  \n",
        "  if key in dictionary:\n",
        "    dictionary[key] += 1\n",
        "  else:\n",
        "    dictionary[key] = 1\n",
        "  return dictionary\n",
        "\n",
        "\n",
        "def to_dict(dictionary, chunk_column):\n",
        "  ''' Making a column of a dataframe into a dictionary, e.g., making a dictionary where weekdays are keys,\n",
        "  and the values are the number of occurences of the key in the key.\n",
        "  \n",
        "  Parameters\n",
        "  ----------\n",
        "  dictionary: dict\n",
        "    An initalized dictionary, either containing some preset keys or empty.\n",
        "  \n",
        "  chunk_column: series\n",
        "    A series containing a column of a dataframe.\n",
        "\n",
        "  Returns\n",
        "  -------\n",
        "  dictionary: dict\n",
        "    A dictionary containing the desired values and keys as descripted.\n",
        "  '''\n",
        "\n",
        "  chunk_column.apply(lambda x: add_dict(x, dictionary))\n",
        "  return dictionary"
      ]
    },
    {
      "cell_type": "code",
      "execution_count": 5,
      "metadata": {
        "id": "htGr6kzXklh7"
      },
      "outputs": [],
      "source": [
        "def find_media(url, medias_list):\n",
        "  ''' Returning the media outlet where the quote is found, \n",
        "  but only if the outlet is present in medias_list.\n",
        "  \n",
        "  Parameters\n",
        "  ----------\n",
        "  url: array\n",
        "    An entry in the column 'urls' of the Quotebank dataset, where the first value is the first source where the quote was found.\n",
        "  \n",
        "  medias_list: array\n",
        "    An array containing some chosen media outlets, e.g., 'nytimes'.\n",
        "  \n",
        "  Returns\n",
        "  -------\n",
        "  media: str\n",
        "    The first entry in url if its present in medias_list.\n",
        "  '''\n",
        "\n",
        "  for string in medias_list:\n",
        "    url_string = str(url[0])\n",
        "    if string in url_string:\n",
        "      media = string\n",
        "      return media\n",
        "\n",
        "\n",
        "def get_media(chunk, medias_list):\n",
        "  ''' Adding column with the media outlet where the quote is first found, \n",
        "  but only if the outlet is present in medias_list.\n",
        "  \n",
        "  Parameters\n",
        "  ----------\n",
        "  chunk: dataframe  \n",
        "    A chunk of the Quotebank dataset.\n",
        "\n",
        "  medias_list: array\n",
        "    An array containing some chosen media outlets represented as strings, e.g., 'nytimes'.\n",
        "\n",
        "  Returns\n",
        "  -------\n",
        "  chunk: dataframe\n",
        "    The given chunk of the dataset, now containing a column 'media_outlet' \n",
        "    keeping the media where the quote was first found.\n",
        "  '''\n",
        "\n",
        "  chunk['media_outlet'] = chunk['urls'].apply(lambda x: find_media(x, medias_list))\n",
        "  return chunk"
      ]
    },
    {
      "cell_type": "code",
      "execution_count": 6,
      "metadata": {
        "id": "GPvjYaNCksn_"
      },
      "outputs": [],
      "source": [
        "def occurences_stats(chunk):\n",
        "  ''' Returning the median and 75-th percentile of 'numOccurences' for the given chunk, as well as the chunk size.\n",
        "  \n",
        "  Parameters\n",
        "  ----------\n",
        "  chunk: dataframe\n",
        "    The dataframe keeping a chunk of the dataset.\n",
        "  \n",
        "  Returns\n",
        "  -------\n",
        "  chunk_stats: array\n",
        "    An array keeping the median, 75-th percentile.\n",
        "  '''\n",
        "  \n",
        "  median = chunk.numOccurrences.describe()['50%']\n",
        "  third_quartile = chunk.numOccurrences.describe()['75%']\n",
        "  chunk_stats = [median, third_quartile]\n",
        "  return chunk_stats\n",
        "\n",
        "\n",
        "def stats_entire_dataset(occurence_stats_list):\n",
        "  ''' Aggregating and printing statistics on numOccurences for the entire data set based upon the values in occurence_stats_list.\n",
        "  \n",
        "  Parameters\n",
        "  ----------\n",
        "  occurence_stats_list: array\n",
        "    A 2D-array containing median and 75th percentile for each chunk of the dataset.   \n",
        "  '''\n",
        "\n",
        "  avg_median = 0\n",
        "  avg_75th = 0\n",
        "  for element in occurence_stats_list:\n",
        "    avg_median += element[0]\n",
        "    avg_75th += element[1]\n",
        "  avg_median = avg_median/len(occurence_stats_list)\n",
        "  avg_75th = avg_75th/len(occurence_stats_list)\n",
        "\n",
        "  print(f'Average of median for each chunk for numOccurences: {round(avg_median, 2)}')\n",
        "  print(f'Average 75th quantile for each chunk for  numOccurences: {round(avg_75th, 2)}')\n",
        "\n",
        "\n",
        "def add_length(chunk):\n",
        "  ''' Helper function adding the length of each quote in a new column.\n",
        "  \n",
        "  Parameters\n",
        "  ----------\n",
        "  chunk: dataframe\n",
        "    A chunk of the dataset.\n",
        "    \n",
        "  Returns\n",
        "  -------\n",
        "  chunk: dataframe\n",
        "    The given chunk now containing a 'len_quote' column.\n",
        "  '''\n",
        "\n",
        "  chunk['len_quote'] = chunk['quotation'].apply(lambda x: len(str(x)))\n",
        "  return chunk"
      ]
    },
    {
      "cell_type": "code",
      "execution_count": null,
      "metadata": {
        "id": "CzdZBueKmBpb"
      },
      "outputs": [],
      "source": [
        "# Initializing an array that will store the mean and variance of 'numOccurences' as well as the size of a chunk\n",
        "occurence_stats_list = []\n",
        "\n",
        "# Initializing dictionaries for dates, weekdays and months that will store values for all the chunks\n",
        "date_dictionary = {}\n",
        "\n",
        "# Dictionaries for weekdays and months are initialized with keys to keep them in the correct order for later plotting\n",
        "weekday_dictionary = {'Monday': 0, 'Tuesday': 0, 'Wednesday': 0, 'Thursday': 0,\n",
        "                      'Friday': 0, 'Saturday': 0, 'Sunday': 0}\n",
        "\n",
        "month_dictionary = {'January': 0, 'February': 0,'March': 0,\n",
        "                    'April': 0, 'May': 0, 'June': 0, \n",
        "                    'July': 0, 'August': 0, 'September': 0,\n",
        "                    'October': 0, 'November': 0, 'December': 0}\n",
        "\n",
        "# Iterating through all the cleaned data sets in chunks\n",
        "for x in range(len(files_pre_cleaning)): \n",
        "  print('Working on %d. dataset'%(x+1))\n",
        "  df_reader = pd.read_json(path_to_file + files_pre_cleaning[x], lines=True, compression='bz2', chunksize=50000)\n",
        "  for chunk in df_reader:\n",
        "    chunk = add_time(chunk)\n",
        "    \n",
        "    # Inserting values in the dictionaries\n",
        "    date_dictionary = to_dict(date_dictionary, chunk['date_short'])\n",
        "    weekday_dictionary = to_dict(weekday_dictionary, chunk['weekday'])\n",
        "    month_dictionary = to_dict(month_dictionary, chunk['Month'])\n",
        "\n",
        "    # Generating descriptive stats for the chunk and adding them to occurence_stats_list\n",
        "    occurence_stats_list.append(occurences_stats(chunk))\n",
        "\n",
        "# Creating empty array to store dictionary values\n",
        "arr = []\n",
        "for element in date_dictionary.values():\n",
        "    arr.append(element)\n",
        "arr = np.array(arr)\n",
        "\n",
        "# Calculating mean, std, and median for date_dictionary\n",
        "mean = np.mean(arr)\n",
        "std = np.std(arr)\n",
        "median = np.median(arr)"
      ]
    },
    {
      "cell_type": "code",
      "execution_count": 21,
      "metadata": {
        "id": "49Y2jV1KnKOw"
      },
      "outputs": [],
      "source": [
        "#Bruker ikke per nå\n",
        "#from empath import Empath\n",
        "#lexicon = Empath()\n"
      ]
    },
    {
      "cell_type": "code",
      "execution_count": 7,
      "metadata": {},
      "outputs": [],
      "source": [
        "from textblob import TextBlob"
      ]
    },
    {
      "cell_type": "code",
      "execution_count": 8,
      "metadata": {},
      "outputs": [
        {
          "data": {
            "text/plain": [
              "'\\nchunk = get_media(chunk, media_outlets)\\nfor element in media_outlets:\\n    media_chunk = chunk.loc[chunk[\\'media_outlet\\'] == element]\\n    #print(\"Number of quotes in %s: %d\"%(element, media_chunk.shape[0]))\\n\\n'"
            ]
          },
          "execution_count": 8,
          "metadata": {},
          "output_type": "execute_result"
        }
      ],
      "source": [
        "media_outlets = ['nytimes', 'wsj', 'womansday', 'nbcnews', 'foxnews', 'aarp', 'usmagazine', 'espn', 'usatoday', \n",
        "'newstoday', 'sportingnews', 'theguardian', 'people', 'tmz', 'mtv', 'cnn', 'msn', 'reuters', 'timesrepublican', \n",
        "'nationalgeographic', 'latimes', 'washingtonpost', 'startribune', 'chicagotribune', 'usnews', 'theathletic', \n",
        "'rollingstone', 'vanityfair', 'intouchweekly', 'starmagazine', 'bbc', 'independent', 'thesun', 'thetimes',\n",
        "'express', 'dailymail', 'mirror', 'economist', ]\n",
        "\n",
        "'''\n",
        "chunk = get_media(chunk, media_outlets)\n",
        "for element in media_outlets:\n",
        "    media_chunk = chunk.loc[chunk['media_outlet'] == element]\n",
        "    #print(\"Number of quotes in %s: %d\"%(element, media_chunk.shape[0]))\n",
        "\n",
        "'''\n"
      ]
    },
    {
      "cell_type": "code",
      "execution_count": 50,
      "metadata": {
        "id": "UFZ2c1Ffln3f"
      },
      "outputs": [
        {
          "name": "stdout",
          "output_type": "stream",
          "text": [
            "chunk OK\n",
            "chunk OK\n",
            "chunk OK\n",
            "chunk OK\n",
            "chunk OK\n",
            "chunk OK\n",
            "chunk OK\n",
            "chunk OK\n",
            "chunk OK\n",
            "chunk OK\n",
            "chunk OK\n",
            "chunk OK\n",
            "chunk OK\n",
            "chunk OK\n",
            "chunk OK\n",
            "chunk OK\n",
            "chunk OK\n",
            "chunk OK\n",
            "chunk OK\n",
            "chunk OK\n",
            "chunk OK\n",
            "chunk OK\n",
            "chunk OK\n",
            "chunk OK\n",
            "chunk OK\n",
            "chunk OK\n",
            "chunk OK\n",
            "chunk OK\n",
            "chunk OK\n",
            "chunk OK\n",
            "chunk OK\n",
            "chunk OK\n",
            "chunk OK\n",
            "chunk OK\n",
            "chunk OK\n",
            "chunk OK\n",
            "chunk OK\n",
            "chunk OK\n",
            "chunk OK\n",
            "chunk OK\n",
            "chunk OK\n",
            "chunk OK\n",
            "chunk OK\n",
            "chunk OK\n",
            "chunk OK\n",
            "chunk OK\n",
            "chunk OK\n",
            "chunk OK\n",
            "chunk OK\n",
            "chunk OK\n",
            "chunk OK\n",
            "chunk OK\n",
            "chunk OK\n",
            "chunk OK\n",
            "chunk OK\n",
            "chunk OK\n",
            "chunk OK\n",
            "chunk OK\n",
            "chunk OK\n",
            "chunk OK\n",
            "chunk OK\n",
            "chunk OK\n",
            "chunk OK\n",
            "chunk OK\n",
            "chunk OK\n",
            "chunk OK\n",
            "chunk OK\n",
            "chunk OK\n",
            "chunk OK\n",
            "chunk OK\n",
            "chunk OK\n",
            "chunk OK\n",
            "chunk OK\n",
            "chunk OK\n",
            "chunk OK\n",
            "chunk OK\n",
            "chunk OK\n",
            "chunk OK\n",
            "chunk OK\n",
            "chunk OK\n",
            "chunk OK\n",
            "chunk OK\n",
            "chunk OK\n",
            "chunk OK\n",
            "chunk OK\n",
            "chunk OK\n",
            "chunk OK\n",
            "chunk OK\n",
            "chunk OK\n",
            "chunk OK\n",
            "chunk OK\n",
            "chunk OK\n",
            "chunk OK\n",
            "chunk OK\n",
            "chunk OK\n",
            "chunk OK\n",
            "chunk OK\n",
            "chunk OK\n",
            "chunk OK\n",
            "chunk OK\n",
            "chunk OK\n",
            "chunk OK\n",
            "chunk OK\n",
            "chunk OK\n",
            "chunk OK\n",
            "chunk OK\n",
            "chunk OK\n",
            "chunk OK\n",
            "chunk OK\n",
            "chunk OK\n"
          ]
        }
      ],
      "source": [
        "# Initializing a sentiment analyzer\n",
        "sent_analyzer = SentimentIntensityAnalyzer()\n",
        "\n",
        "\n",
        "\n",
        "for x in range(len(path_to_file)):\n",
        "# Reading the data in chunks\n",
        "  df_reader = pd.read_json(path_to_file[x], lines=True, compression='bz2', chunksize=500000)\n",
        "  for chunk in df_reader:\n",
        "\n",
        "\n",
        "    #Dropping unnecesary columns\n",
        "    chunk = chunk.drop(axis=1, columns = 'quoteID')\n",
        "    chunk = chunk.drop(axis=1, columns = 'phase')\n",
        "    chunk = chunk.drop(axis=1, columns = 'speaker')\n",
        "    chunk = chunk.drop(axis=1, columns = 'qids')\n",
        "    chunk = chunk.drop(axis=1, columns = 'numOccurrences')\n",
        "    chunk = chunk.drop(axis=1, columns = 'probas')\n",
        "\n",
        "    chunk = get_media(chunk, media_outlets)\n",
        "    # Dropping NaN values in media_outlet\n",
        "    chunk = chunk.dropna(axis=0, subset=['media_outlet'])\n",
        "    chunk = chunk.drop(axis=1, columns = 'urls')\n",
        "\n",
        "    # Calculating compound sentiment scores for the chunk and append the values in a column\n",
        "    chunk['compound'] = chunk['quotation'].apply(lambda x: sent_analyzer.polarity_scores(x)['compound'])\n",
        "    chunk['positive'] = chunk['quotation'].apply(lambda x: sent_analyzer.polarity_scores(x)['pos'])\n",
        "    chunk['negative'] = chunk['quotation'].apply(lambda x: sent_analyzer.polarity_scores(x)['neg'])\n",
        "    chunk['blob_polar'] = chunk['quotation'].apply(lambda x: TextBlob(x).sentiment.polarity)\n",
        "    chunk['blob_subj'] = chunk['quotation'].apply(lambda x: TextBlob(x).sentiment.subjectivity)\n",
        "    chunk = chunk.drop(axis=1, columns = 'quotation')\n",
        "\n",
        "    #Adding date_short\n",
        "    chunk['date_short'] = pd.to_datetime(chunk['date']).dt.date\n",
        "    chunk = chunk.drop(axis=1, columns = 'date')\n",
        "    \n",
        "    chunk.to_csv(path_or_buf= files_with_sentiment[x], compression='bz2', mode = 'a')\n",
        "    print('chunk OK')\n",
        "\n",
        "  "
      ]
    },
    {
      "cell_type": "code",
      "execution_count": 4,
      "metadata": {},
      "outputs": [
        {
          "name": "stderr",
          "output_type": "stream",
          "text": [
            "C:\\Users\\asbjo\\anaconda3\\envs\\ADA\\lib\\site-packages\\numpy\\lib\\arraysetops.py:583: FutureWarning: elementwise comparison failed; returning scalar instead, but in the future will perform elementwise comparison\n",
            "  mask |= (ar1 == a)\n"
          ]
        }
      ],
      "source": [
        "df_reader = pd.read_csv('media_outlet_with_sentiment/clean-quotes-2015_with_sentiment.csv.bz2', compression='bz2', index_col=[0])"
      ]
    },
    {
      "cell_type": "code",
      "execution_count": 5,
      "metadata": {},
      "outputs": [
        {
          "data": {
            "text/html": [
              "<div>\n",
              "<style scoped>\n",
              "    .dataframe tbody tr th:only-of-type {\n",
              "        vertical-align: middle;\n",
              "    }\n",
              "\n",
              "    .dataframe tbody tr th {\n",
              "        vertical-align: top;\n",
              "    }\n",
              "\n",
              "    .dataframe thead th {\n",
              "        text-align: right;\n",
              "    }\n",
              "</style>\n",
              "<table border=\"1\" class=\"dataframe\">\n",
              "  <thead>\n",
              "    <tr style=\"text-align: right;\">\n",
              "      <th></th>\n",
              "      <th>media_outlet</th>\n",
              "      <th>compound</th>\n",
              "      <th>positive</th>\n",
              "      <th>negative</th>\n",
              "      <th>blob_polar</th>\n",
              "      <th>blob_subj</th>\n",
              "      <th>date_short</th>\n",
              "    </tr>\n",
              "  </thead>\n",
              "  <tbody>\n",
              "    <tr>\n",
              "      <th>22.0</th>\n",
              "      <td>washingtonpost</td>\n",
              "      <td>0.25</td>\n",
              "      <td>0.083</td>\n",
              "      <td>0.0</td>\n",
              "      <td>0.0</td>\n",
              "      <td>0.0</td>\n",
              "      <td>2015-12-13</td>\n",
              "    </tr>\n",
              "    <tr>\n",
              "      <th>34.0</th>\n",
              "      <td>startribune</td>\n",
              "      <td>0.0</td>\n",
              "      <td>0.0</td>\n",
              "      <td>0.0</td>\n",
              "      <td>0.0625</td>\n",
              "      <td>0.35416666666666663</td>\n",
              "      <td>2015-10-02</td>\n",
              "    </tr>\n",
              "    <tr>\n",
              "      <th>52.0</th>\n",
              "      <td>mtv</td>\n",
              "      <td>0.0</td>\n",
              "      <td>0.0</td>\n",
              "      <td>0.0</td>\n",
              "      <td>-0.08333333333333333</td>\n",
              "      <td>0.21666666666666667</td>\n",
              "      <td>2015-10-09</td>\n",
              "    </tr>\n",
              "    <tr>\n",
              "      <th>53.0</th>\n",
              "      <td>express</td>\n",
              "      <td>-0.34</td>\n",
              "      <td>0.073</td>\n",
              "      <td>0.094</td>\n",
              "      <td>0.6</td>\n",
              "      <td>1.0</td>\n",
              "      <td>2015-11-17</td>\n",
              "    </tr>\n",
              "    <tr>\n",
              "      <th>59.0</th>\n",
              "      <td>reuters</td>\n",
              "      <td>-0.2732</td>\n",
              "      <td>0.0</td>\n",
              "      <td>0.11</td>\n",
              "      <td>-0.1875</td>\n",
              "      <td>0.5</td>\n",
              "      <td>2015-02-06</td>\n",
              "    </tr>\n",
              "  </tbody>\n",
              "</table>\n",
              "</div>"
            ],
            "text/plain": [
              "        media_outlet compound positive negative            blob_polar  \\\n",
              "22.0  washingtonpost     0.25    0.083      0.0                   0.0   \n",
              "34.0     startribune      0.0      0.0      0.0                0.0625   \n",
              "52.0             mtv      0.0      0.0      0.0  -0.08333333333333333   \n",
              "53.0         express    -0.34    0.073    0.094                   0.6   \n",
              "59.0         reuters  -0.2732      0.0     0.11               -0.1875   \n",
              "\n",
              "                blob_subj  date_short  \n",
              "22.0                  0.0  2015-12-13  \n",
              "34.0  0.35416666666666663  2015-10-02  \n",
              "52.0  0.21666666666666667  2015-10-09  \n",
              "53.0                  1.0  2015-11-17  \n",
              "59.0                  0.5  2015-02-06  "
            ]
          },
          "execution_count": 5,
          "metadata": {},
          "output_type": "execute_result"
        }
      ],
      "source": [
        "df_reader.head()"
      ]
    },
    {
      "cell_type": "code",
      "execution_count": 14,
      "metadata": {},
      "outputs": [
        {
          "data": {
            "text/html": [
              "<div>\n",
              "<style scoped>\n",
              "    .dataframe tbody tr th:only-of-type {\n",
              "        vertical-align: middle;\n",
              "    }\n",
              "\n",
              "    .dataframe tbody tr th {\n",
              "        vertical-align: top;\n",
              "    }\n",
              "\n",
              "    .dataframe thead th {\n",
              "        text-align: right;\n",
              "    }\n",
              "</style>\n",
              "<table border=\"1\" class=\"dataframe\">\n",
              "  <thead>\n",
              "    <tr style=\"text-align: right;\">\n",
              "      <th></th>\n",
              "      <th>compound</th>\n",
              "      <th>positive</th>\n",
              "      <th>negative</th>\n",
              "      <th>blob_polar</th>\n",
              "      <th>blob_subj</th>\n",
              "    </tr>\n",
              "  </thead>\n",
              "  <tbody>\n",
              "    <tr>\n",
              "      <th>count</th>\n",
              "      <td>52906.000000</td>\n",
              "      <td>52906.000000</td>\n",
              "      <td>52906.000000</td>\n",
              "      <td>52906.000000</td>\n",
              "      <td>52906.000000</td>\n",
              "    </tr>\n",
              "    <tr>\n",
              "      <th>mean</th>\n",
              "      <td>0.152175</td>\n",
              "      <td>0.124269</td>\n",
              "      <td>0.067706</td>\n",
              "      <td>0.109480</td>\n",
              "      <td>0.384565</td>\n",
              "    </tr>\n",
              "    <tr>\n",
              "      <th>std</th>\n",
              "      <td>0.458667</td>\n",
              "      <td>0.142090</td>\n",
              "      <td>0.114094</td>\n",
              "      <td>0.270425</td>\n",
              "      <td>0.299372</td>\n",
              "    </tr>\n",
              "    <tr>\n",
              "      <th>min</th>\n",
              "      <td>-0.988600</td>\n",
              "      <td>0.000000</td>\n",
              "      <td>0.000000</td>\n",
              "      <td>-1.000000</td>\n",
              "      <td>0.000000</td>\n",
              "    </tr>\n",
              "    <tr>\n",
              "      <th>25%</th>\n",
              "      <td>-0.025800</td>\n",
              "      <td>0.000000</td>\n",
              "      <td>0.000000</td>\n",
              "      <td>0.000000</td>\n",
              "      <td>0.000000</td>\n",
              "    </tr>\n",
              "    <tr>\n",
              "      <th>50%</th>\n",
              "      <td>0.000000</td>\n",
              "      <td>0.090000</td>\n",
              "      <td>0.000000</td>\n",
              "      <td>0.000000</td>\n",
              "      <td>0.400000</td>\n",
              "    </tr>\n",
              "    <tr>\n",
              "      <th>75%</th>\n",
              "      <td>0.525600</td>\n",
              "      <td>0.208000</td>\n",
              "      <td>0.106000</td>\n",
              "      <td>0.250000</td>\n",
              "      <td>0.595833</td>\n",
              "    </tr>\n",
              "    <tr>\n",
              "      <th>max</th>\n",
              "      <td>0.995200</td>\n",
              "      <td>1.000000</td>\n",
              "      <td>1.000000</td>\n",
              "      <td>1.000000</td>\n",
              "      <td>1.000000</td>\n",
              "    </tr>\n",
              "  </tbody>\n",
              "</table>\n",
              "</div>"
            ],
            "text/plain": [
              "           compound      positive      negative    blob_polar     blob_subj\n",
              "count  52906.000000  52906.000000  52906.000000  52906.000000  52906.000000\n",
              "mean       0.152175      0.124269      0.067706      0.109480      0.384565\n",
              "std        0.458667      0.142090      0.114094      0.270425      0.299372\n",
              "min       -0.988600      0.000000      0.000000     -1.000000      0.000000\n",
              "25%       -0.025800      0.000000      0.000000      0.000000      0.000000\n",
              "50%        0.000000      0.090000      0.000000      0.000000      0.400000\n",
              "75%        0.525600      0.208000      0.106000      0.250000      0.595833\n",
              "max        0.995200      1.000000      1.000000      1.000000      1.000000"
            ]
          },
          "execution_count": 14,
          "metadata": {},
          "output_type": "execute_result"
        }
      ],
      "source": [
        "df_reader.describe()"
      ]
    },
    {
      "cell_type": "code",
      "execution_count": 6,
      "metadata": {},
      "outputs": [
        {
          "ename": "ValueError",
          "evalue": "could not convert string to float: 'compound'",
          "output_type": "error",
          "traceback": [
            "\u001b[1;31m---------------------------------------------------------------------------\u001b[0m",
            "\u001b[1;31mValueError\u001b[0m                                Traceback (most recent call last)",
            "\u001b[1;32m~\\AppData\\Local\\Temp/ipykernel_15076/1507399686.py\u001b[0m in \u001b[0;36m<module>\u001b[1;34m\u001b[0m\n\u001b[1;32m----> 1\u001b[1;33m \u001b[0mdf_reader\u001b[0m\u001b[1;33m[\u001b[0m\u001b[1;34m'compound'\u001b[0m\u001b[1;33m]\u001b[0m \u001b[1;33m=\u001b[0m \u001b[0mdf_reader\u001b[0m\u001b[1;33m[\u001b[0m\u001b[1;34m'compound'\u001b[0m\u001b[1;33m]\u001b[0m\u001b[1;33m.\u001b[0m\u001b[0mapply\u001b[0m\u001b[1;33m(\u001b[0m\u001b[1;32mlambda\u001b[0m \u001b[0mx\u001b[0m\u001b[1;33m:\u001b[0m \u001b[0mfloat\u001b[0m\u001b[1;33m(\u001b[0m\u001b[0mx\u001b[0m\u001b[1;33m)\u001b[0m\u001b[1;33m)\u001b[0m\u001b[1;33m\u001b[0m\u001b[1;33m\u001b[0m\u001b[0m\n\u001b[0m\u001b[0;32m      2\u001b[0m \u001b[0mdf_reader\u001b[0m\u001b[1;33m[\u001b[0m\u001b[1;34m'positive'\u001b[0m\u001b[1;33m]\u001b[0m \u001b[1;33m=\u001b[0m \u001b[0mdf_reader\u001b[0m\u001b[1;33m[\u001b[0m\u001b[1;34m'positive'\u001b[0m\u001b[1;33m]\u001b[0m\u001b[1;33m.\u001b[0m\u001b[0mapply\u001b[0m\u001b[1;33m(\u001b[0m\u001b[1;32mlambda\u001b[0m \u001b[0mx\u001b[0m\u001b[1;33m:\u001b[0m \u001b[0mfloat\u001b[0m\u001b[1;33m(\u001b[0m\u001b[0mx\u001b[0m\u001b[1;33m)\u001b[0m\u001b[1;33m)\u001b[0m\u001b[1;33m\u001b[0m\u001b[1;33m\u001b[0m\u001b[0m\n\u001b[0;32m      3\u001b[0m \u001b[0mdf_reader\u001b[0m\u001b[1;33m[\u001b[0m\u001b[1;34m'negative'\u001b[0m\u001b[1;33m]\u001b[0m \u001b[1;33m=\u001b[0m \u001b[0mdf_reader\u001b[0m\u001b[1;33m[\u001b[0m\u001b[1;34m'negative'\u001b[0m\u001b[1;33m]\u001b[0m\u001b[1;33m.\u001b[0m\u001b[0mapply\u001b[0m\u001b[1;33m(\u001b[0m\u001b[1;32mlambda\u001b[0m \u001b[0mx\u001b[0m\u001b[1;33m:\u001b[0m \u001b[0mfloat\u001b[0m\u001b[1;33m(\u001b[0m\u001b[0mx\u001b[0m\u001b[1;33m)\u001b[0m\u001b[1;33m)\u001b[0m\u001b[1;33m\u001b[0m\u001b[1;33m\u001b[0m\u001b[0m\n\u001b[0;32m      4\u001b[0m \u001b[0mdf_reader\u001b[0m\u001b[1;33m[\u001b[0m\u001b[1;34m'blob_polar'\u001b[0m\u001b[1;33m]\u001b[0m \u001b[1;33m=\u001b[0m \u001b[0mdf_reader\u001b[0m\u001b[1;33m[\u001b[0m\u001b[1;34m'blob_polar'\u001b[0m\u001b[1;33m]\u001b[0m\u001b[1;33m.\u001b[0m\u001b[0mapply\u001b[0m\u001b[1;33m(\u001b[0m\u001b[1;32mlambda\u001b[0m \u001b[0mx\u001b[0m\u001b[1;33m:\u001b[0m \u001b[0mfloat\u001b[0m\u001b[1;33m(\u001b[0m\u001b[0mx\u001b[0m\u001b[1;33m)\u001b[0m\u001b[1;33m)\u001b[0m\u001b[1;33m\u001b[0m\u001b[1;33m\u001b[0m\u001b[0m\n\u001b[0;32m      5\u001b[0m \u001b[0mdf_reader\u001b[0m\u001b[1;33m[\u001b[0m\u001b[1;34m'blob_subj'\u001b[0m\u001b[1;33m]\u001b[0m \u001b[1;33m=\u001b[0m \u001b[0mdf_reader\u001b[0m\u001b[1;33m[\u001b[0m\u001b[1;34m'blob_subj'\u001b[0m\u001b[1;33m]\u001b[0m\u001b[1;33m.\u001b[0m\u001b[0mapply\u001b[0m\u001b[1;33m(\u001b[0m\u001b[1;32mlambda\u001b[0m \u001b[0mx\u001b[0m\u001b[1;33m:\u001b[0m \u001b[0mfloat\u001b[0m\u001b[1;33m(\u001b[0m\u001b[0mx\u001b[0m\u001b[1;33m)\u001b[0m\u001b[1;33m)\u001b[0m\u001b[1;33m\u001b[0m\u001b[1;33m\u001b[0m\u001b[0m\n",
            "\u001b[1;32m~\\anaconda3\\envs\\ADA\\lib\\site-packages\\pandas\\core\\series.py\u001b[0m in \u001b[0;36mapply\u001b[1;34m(self, func, convert_dtype, args, **kwds)\u001b[0m\n\u001b[0;32m   3846\u001b[0m             \u001b[1;32melse\u001b[0m\u001b[1;33m:\u001b[0m\u001b[1;33m\u001b[0m\u001b[1;33m\u001b[0m\u001b[0m\n\u001b[0;32m   3847\u001b[0m                 \u001b[0mvalues\u001b[0m \u001b[1;33m=\u001b[0m \u001b[0mself\u001b[0m\u001b[1;33m.\u001b[0m\u001b[0mastype\u001b[0m\u001b[1;33m(\u001b[0m\u001b[0mobject\u001b[0m\u001b[1;33m)\u001b[0m\u001b[1;33m.\u001b[0m\u001b[0mvalues\u001b[0m\u001b[1;33m\u001b[0m\u001b[1;33m\u001b[0m\u001b[0m\n\u001b[1;32m-> 3848\u001b[1;33m                 \u001b[0mmapped\u001b[0m \u001b[1;33m=\u001b[0m \u001b[0mlib\u001b[0m\u001b[1;33m.\u001b[0m\u001b[0mmap_infer\u001b[0m\u001b[1;33m(\u001b[0m\u001b[0mvalues\u001b[0m\u001b[1;33m,\u001b[0m \u001b[0mf\u001b[0m\u001b[1;33m,\u001b[0m \u001b[0mconvert\u001b[0m\u001b[1;33m=\u001b[0m\u001b[0mconvert_dtype\u001b[0m\u001b[1;33m)\u001b[0m\u001b[1;33m\u001b[0m\u001b[1;33m\u001b[0m\u001b[0m\n\u001b[0m\u001b[0;32m   3849\u001b[0m \u001b[1;33m\u001b[0m\u001b[0m\n\u001b[0;32m   3850\u001b[0m         \u001b[1;32mif\u001b[0m \u001b[0mlen\u001b[0m\u001b[1;33m(\u001b[0m\u001b[0mmapped\u001b[0m\u001b[1;33m)\u001b[0m \u001b[1;32mand\u001b[0m \u001b[0misinstance\u001b[0m\u001b[1;33m(\u001b[0m\u001b[0mmapped\u001b[0m\u001b[1;33m[\u001b[0m\u001b[1;36m0\u001b[0m\u001b[1;33m]\u001b[0m\u001b[1;33m,\u001b[0m \u001b[0mSeries\u001b[0m\u001b[1;33m)\u001b[0m\u001b[1;33m:\u001b[0m\u001b[1;33m\u001b[0m\u001b[1;33m\u001b[0m\u001b[0m\n",
            "\u001b[1;32mpandas\\_libs\\lib.pyx\u001b[0m in \u001b[0;36mpandas._libs.lib.map_infer\u001b[1;34m()\u001b[0m\n",
            "\u001b[1;32m~\\AppData\\Local\\Temp/ipykernel_15076/1507399686.py\u001b[0m in \u001b[0;36m<lambda>\u001b[1;34m(x)\u001b[0m\n\u001b[1;32m----> 1\u001b[1;33m \u001b[0mdf_reader\u001b[0m\u001b[1;33m[\u001b[0m\u001b[1;34m'compound'\u001b[0m\u001b[1;33m]\u001b[0m \u001b[1;33m=\u001b[0m \u001b[0mdf_reader\u001b[0m\u001b[1;33m[\u001b[0m\u001b[1;34m'compound'\u001b[0m\u001b[1;33m]\u001b[0m\u001b[1;33m.\u001b[0m\u001b[0mapply\u001b[0m\u001b[1;33m(\u001b[0m\u001b[1;32mlambda\u001b[0m \u001b[0mx\u001b[0m\u001b[1;33m:\u001b[0m \u001b[0mfloat\u001b[0m\u001b[1;33m(\u001b[0m\u001b[0mx\u001b[0m\u001b[1;33m)\u001b[0m\u001b[1;33m)\u001b[0m\u001b[1;33m\u001b[0m\u001b[1;33m\u001b[0m\u001b[0m\n\u001b[0m\u001b[0;32m      2\u001b[0m \u001b[0mdf_reader\u001b[0m\u001b[1;33m[\u001b[0m\u001b[1;34m'positive'\u001b[0m\u001b[1;33m]\u001b[0m \u001b[1;33m=\u001b[0m \u001b[0mdf_reader\u001b[0m\u001b[1;33m[\u001b[0m\u001b[1;34m'positive'\u001b[0m\u001b[1;33m]\u001b[0m\u001b[1;33m.\u001b[0m\u001b[0mapply\u001b[0m\u001b[1;33m(\u001b[0m\u001b[1;32mlambda\u001b[0m \u001b[0mx\u001b[0m\u001b[1;33m:\u001b[0m \u001b[0mfloat\u001b[0m\u001b[1;33m(\u001b[0m\u001b[0mx\u001b[0m\u001b[1;33m)\u001b[0m\u001b[1;33m)\u001b[0m\u001b[1;33m\u001b[0m\u001b[1;33m\u001b[0m\u001b[0m\n\u001b[0;32m      3\u001b[0m \u001b[0mdf_reader\u001b[0m\u001b[1;33m[\u001b[0m\u001b[1;34m'negative'\u001b[0m\u001b[1;33m]\u001b[0m \u001b[1;33m=\u001b[0m \u001b[0mdf_reader\u001b[0m\u001b[1;33m[\u001b[0m\u001b[1;34m'negative'\u001b[0m\u001b[1;33m]\u001b[0m\u001b[1;33m.\u001b[0m\u001b[0mapply\u001b[0m\u001b[1;33m(\u001b[0m\u001b[1;32mlambda\u001b[0m \u001b[0mx\u001b[0m\u001b[1;33m:\u001b[0m \u001b[0mfloat\u001b[0m\u001b[1;33m(\u001b[0m\u001b[0mx\u001b[0m\u001b[1;33m)\u001b[0m\u001b[1;33m)\u001b[0m\u001b[1;33m\u001b[0m\u001b[1;33m\u001b[0m\u001b[0m\n\u001b[0;32m      4\u001b[0m \u001b[0mdf_reader\u001b[0m\u001b[1;33m[\u001b[0m\u001b[1;34m'blob_polar'\u001b[0m\u001b[1;33m]\u001b[0m \u001b[1;33m=\u001b[0m \u001b[0mdf_reader\u001b[0m\u001b[1;33m[\u001b[0m\u001b[1;34m'blob_polar'\u001b[0m\u001b[1;33m]\u001b[0m\u001b[1;33m.\u001b[0m\u001b[0mapply\u001b[0m\u001b[1;33m(\u001b[0m\u001b[1;32mlambda\u001b[0m \u001b[0mx\u001b[0m\u001b[1;33m:\u001b[0m \u001b[0mfloat\u001b[0m\u001b[1;33m(\u001b[0m\u001b[0mx\u001b[0m\u001b[1;33m)\u001b[0m\u001b[1;33m)\u001b[0m\u001b[1;33m\u001b[0m\u001b[1;33m\u001b[0m\u001b[0m\n\u001b[0;32m      5\u001b[0m \u001b[0mdf_reader\u001b[0m\u001b[1;33m[\u001b[0m\u001b[1;34m'blob_subj'\u001b[0m\u001b[1;33m]\u001b[0m \u001b[1;33m=\u001b[0m \u001b[0mdf_reader\u001b[0m\u001b[1;33m[\u001b[0m\u001b[1;34m'blob_subj'\u001b[0m\u001b[1;33m]\u001b[0m\u001b[1;33m.\u001b[0m\u001b[0mapply\u001b[0m\u001b[1;33m(\u001b[0m\u001b[1;32mlambda\u001b[0m \u001b[0mx\u001b[0m\u001b[1;33m:\u001b[0m \u001b[0mfloat\u001b[0m\u001b[1;33m(\u001b[0m\u001b[0mx\u001b[0m\u001b[1;33m)\u001b[0m\u001b[1;33m)\u001b[0m\u001b[1;33m\u001b[0m\u001b[1;33m\u001b[0m\u001b[0m\n",
            "\u001b[1;31mValueError\u001b[0m: could not convert string to float: 'compound'"
          ]
        }
      ],
      "source": [
        "df_reader['compound'] = df_reader['compound'].apply(lambda x: float(x))\n",
        "df_reader['positive'] = df_reader['positive'].apply(lambda x: float(x))\n",
        "df_reader['negative'] = df_reader['negative'].apply(lambda x: float(x))\n",
        "df_reader['blob_polar'] = df_reader['blob_polar'].apply(lambda x: float(x))\n",
        "df_reader['blob_subj'] = df_reader['blob_subj'].apply(lambda x: float(x))\n"
      ]
    },
    {
      "cell_type": "code",
      "execution_count": 39,
      "metadata": {
        "colab": {
          "base_uri": "https://localhost:8080/"
        },
        "id": "PQk2-yG23xuY",
        "outputId": "0ef4c62e-40a9-43d5-d547-9f448eab2d20"
      },
      "outputs": [
        {
          "name": "stdout",
          "output_type": "stream",
          "text": [
            "Sentiment scores for quotes in ESPN:\n",
            "count    4273.000000\n",
            "mean        0.264721\n",
            "std         0.446538\n",
            "min        -0.938500\n",
            "25%         0.000000\n",
            "50%         0.297500\n",
            "75%         0.642800\n",
            "max         0.992800\n",
            "Name: compound, dtype: float64\n"
          ]
        }
      ],
      "source": [
        "# Looking at the differences in the sentiment across media outlets\n",
        "espn = df_reader.loc[df_reader['media_outlet']=='espn']\n",
        "\n",
        "print(\"Sentiment scores for quotes in ESPN:\")\n",
        "print(espn['compound'].describe())"
      ]
    },
    {
      "cell_type": "code",
      "execution_count": 40,
      "metadata": {
        "colab": {
          "base_uri": "https://localhost:8080/"
        },
        "id": "Z_8t04UYlV3U",
        "outputId": "ebd341fc-0805-48b8-bdc6-ceb662cb1e38"
      },
      "outputs": [
        {
          "name": "stdout",
          "output_type": "stream",
          "text": [
            "Sentiment scores for quotes in New York Times:\n",
            "count    85.000000\n",
            "mean      0.119058\n",
            "std       0.375447\n",
            "min      -0.913600\n",
            "25%      -0.033300\n",
            "50%       0.000000\n",
            "75%       0.421500\n",
            "max       0.895700\n",
            "Name: compound, dtype: float64\n"
          ]
        }
      ],
      "source": [
        "# Looking at the differences in the sentiment across media outlets\n",
        "nytimes = df_reader.loc[df_reader['media_outlet']=='nytimes']\n",
        "\n",
        "print(\"Sentiment scores for quotes in New York Times:\")\n",
        "print(nytimes['compound'].describe())"
      ]
    },
    {
      "cell_type": "code",
      "execution_count": 41,
      "metadata": {
        "colab": {
          "base_uri": "https://localhost:8080/"
        },
        "id": "oeHeDIiz2uPZ",
        "outputId": "a7fb8b78-f2ab-4380-d4c6-401f5759fbb4"
      },
      "outputs": [
        {
          "name": "stdout",
          "output_type": "stream",
          "text": [
            "Sentiment scores for quotes in USmagazine:\n",
            "count    337.000000\n",
            "mean       0.226207\n",
            "std        0.467449\n",
            "min       -0.944000\n",
            "25%        0.000000\n",
            "50%        0.177900\n",
            "75%        0.636900\n",
            "max        0.958700\n",
            "Name: compound, dtype: float64\n"
          ]
        }
      ],
      "source": [
        "usmagazine = df_reader.loc[df_reader['media_outlet']=='usmagazine']\n",
        "\n",
        "print(\"Sentiment scores for quotes in USmagazine:\")\n",
        "print(usmagazine['compound'].describe())"
      ]
    },
    {
      "cell_type": "code",
      "execution_count": 42,
      "metadata": {
        "colab": {
          "base_uri": "https://localhost:8080/"
        },
        "id": "gjy9oigPlXg-",
        "outputId": "871e7bcd-a62d-4080-b056-fa711c084157"
      },
      "outputs": [
        {
          "name": "stdout",
          "output_type": "stream",
          "text": [
            "Sentiment scores for quotes in the Wall Street Journal:\n",
            "count    1361.000000\n",
            "mean        0.138739\n",
            "std         0.418898\n",
            "min        -0.953100\n",
            "25%         0.000000\n",
            "50%         0.000000\n",
            "75%         0.458800\n",
            "max         0.972600\n",
            "Name: compound, dtype: float64\n"
          ]
        }
      ],
      "source": [
        "wsj = df_reader.loc[df_reader['media_outlet']=='wsj']\n",
        "\n",
        "print(\"Sentiment scores for quotes in the Wall Street Journal:\")\n",
        "print(wsj['compound'].describe())"
      ]
    },
    {
      "cell_type": "code",
      "execution_count": 43,
      "metadata": {
        "colab": {
          "base_uri": "https://localhost:8080/"
        },
        "id": "Gk2e260XlZCm",
        "outputId": "b15b0b57-b4e3-4ef6-fec5-d73eeb0b34f7"
      },
      "outputs": [
        {
          "name": "stdout",
          "output_type": "stream",
          "text": [
            "Sentiment scores for quotes in the Womansday:\n",
            "count    21.000000\n",
            "mean      0.183405\n",
            "std       0.493311\n",
            "min      -0.680800\n",
            "25%      -0.059800\n",
            "50%       0.000000\n",
            "75%       0.700300\n",
            "max       0.930000\n",
            "Name: compound, dtype: float64\n"
          ]
        }
      ],
      "source": [
        "womansday = df_reader.loc[df_reader['media_outlet']=='womansday']\n",
        "\n",
        "print(\"Sentiment scores for quotes in the Womansday:\")\n",
        "print(womansday['compound'].describe())"
      ]
    },
    {
      "cell_type": "code",
      "execution_count": 44,
      "metadata": {
        "colab": {
          "base_uri": "https://localhost:8080/"
        },
        "id": "CnZ6G13_lamr",
        "outputId": "dc9a6148-720e-4bc6-b796-1b26d7e49af2"
      },
      "outputs": [
        {
          "name": "stdout",
          "output_type": "stream",
          "text": [
            "Sentiment scores for quotes in FOX news:\n",
            "count    1210.000000\n",
            "mean        0.071698\n",
            "std         0.467825\n",
            "min        -0.956500\n",
            "25%        -0.256300\n",
            "50%         0.000000\n",
            "75%         0.421500\n",
            "max         0.987800\n",
            "Name: compound, dtype: float64\n"
          ]
        }
      ],
      "source": [
        "fox = df_reader.loc[df_reader['media_outlet']=='foxnews']\n",
        "\n",
        "print(\"Sentiment scores for quotes in FOX news:\")\n",
        "print(fox['compound'].describe())"
      ]
    },
    {
      "cell_type": "code",
      "execution_count": 47,
      "metadata": {
        "colab": {
          "base_uri": "https://localhost:8080/"
        },
        "id": "pPkgSp_OldCK",
        "outputId": "0511855b-cf3f-4c4b-9421-2e43388ee009"
      },
      "outputs": [
        {
          "name": "stdout",
          "output_type": "stream",
          "text": [
            "Two sided paired t-test with null hypothesis: The mean mood in NYtimes equals the mean mood in Wall Street Journal:\n",
            "t-value: 1.1043000630464117, p-value: 0.2720301991970484\n"
          ]
        }
      ],
      "source": [
        "t, p = stats.ttest_ind(nytimes['compound'], fox['compound'], equal_var=False)\n",
        "print(\"Two sided paired t-test with null hypothesis: The mean mood in NYtimes equals the mean mood in Wall Street Journal:\")\n",
        "print(f\"t-value: {t}, p-value: {p}\")"
      ]
    },
    {
      "cell_type": "code",
      "execution_count": 25,
      "metadata": {
        "colab": {
          "base_uri": "https://localhost:8080/"
        },
        "id": "GEJOB04mmHo4",
        "outputId": "264026b4-1add-4d26-f511-c37ee7a33cb6"
      },
      "outputs": [
        {
          "name": "stdout",
          "output_type": "stream",
          "text": [
            "Sentiment scores for quotes in New York Times:\n",
            "count    85.000000\n",
            "mean      0.119058\n",
            "std       0.375447\n",
            "min      -0.913600\n",
            "25%      -0.033300\n",
            "50%       0.000000\n",
            "75%       0.421500\n",
            "max       0.895700\n",
            "Name: compound, dtype: float64\n"
          ]
        }
      ],
      "source": [
        "nytimes = df_reader.loc[df_reader['media_outlet']=='nytimes']\n",
        "print(\"Sentiment scores for quotes in New York Times:\")\n",
        "print(nytimes['compound'].describe())\n"
      ]
    },
    {
      "cell_type": "code",
      "execution_count": 26,
      "metadata": {
        "colab": {
          "base_uri": "https://localhost:8080/"
        },
        "id": "jkfUHjOg1udY",
        "outputId": "d37d9fca-475e-4f2e-a8aa-f2a6ed1ce8d0"
      },
      "outputs": [
        {
          "data": {
            "text/plain": [
              "2941      0.000000\n",
              "4597      0.000000\n",
              "5322     -0.900000\n",
              "10781     0.200000\n",
              "12635     0.000000\n",
              "            ...   \n",
              "479179    0.395833\n",
              "481119    0.350000\n",
              "482527    0.500000\n",
              "483633    0.100000\n",
              "492681    0.000000\n",
              "Name: blob_polar, Length: 85, dtype: float64"
            ]
          },
          "execution_count": 26,
          "metadata": {},
          "output_type": "execute_result"
        }
      ],
      "source": [
        "nytimes['blob_polar']"
      ]
    },
    {
      "cell_type": "code",
      "execution_count": 27,
      "metadata": {},
      "outputs": [
        {
          "data": {
            "text/plain": [
              "2941     -0.3612\n",
              "4597      0.1531\n",
              "5322     -0.6249\n",
              "10781     0.0000\n",
              "12635     0.3612\n",
              "           ...  \n",
              "479179    0.7845\n",
              "481119    0.4215\n",
              "482527    0.0000\n",
              "483633    0.4754\n",
              "492681    0.0000\n",
              "Name: compound, Length: 85, dtype: float64"
            ]
          },
          "execution_count": 27,
          "metadata": {},
          "output_type": "execute_result"
        }
      ],
      "source": [
        "nytimes['compound'] = nytimes['compound'].apply(lambda x: float(x))\n",
        "\n",
        "\n",
        "nytimes['compound']"
      ]
    },
    {
      "cell_type": "code",
      "execution_count": 28,
      "metadata": {
        "colab": {
          "base_uri": "https://localhost:8080/"
        },
        "id": "Y20xwEvlwWmP",
        "outputId": "2441ec59-93bd-449c-ad6d-0dd3e4326608"
      },
      "outputs": [
        {
          "name": "stdout",
          "output_type": "stream",
          "text": [
            "count    85.000000\n",
            "mean      0.081249\n",
            "std       0.313936\n",
            "min      -0.900000\n",
            "25%       0.000000\n",
            "50%       0.000000\n",
            "75%       0.250000\n",
            "max       1.000000\n",
            "Name: blob_polar, dtype: float64\n"
          ]
        }
      ],
      "source": [
        "print(nytimes['blob_polar'].describe())"
      ]
    },
    {
      "cell_type": "code",
      "execution_count": 29,
      "metadata": {
        "colab": {
          "base_uri": "https://localhost:8080/",
          "height": 335
        },
        "id": "-VV67OS42TqU",
        "outputId": "bd1ba759-0ffd-4edb-9639-55aa439e2a55"
      },
      "outputs": [
        {
          "data": {
            "text/plain": [
              "(array([ 1.,  2.,  2.,  8., 38., 12., 13.,  5.,  1.,  3.]),\n",
              " array([-0.9 , -0.71, -0.52, -0.33, -0.14,  0.05,  0.24,  0.43,  0.62,\n",
              "         0.81,  1.  ]),\n",
              " <BarContainer object of 10 artists>)"
            ]
          },
          "execution_count": 29,
          "metadata": {},
          "output_type": "execute_result"
        },
        {
          "data": {
            "image/png": "[encoded data removed]",
            "text/plain": [
              "<Figure size 432x288 with 1 Axes>"
            ]
          },
          "metadata": {
            "needs_background": "light"
          },
          "output_type": "display_data"
        }
      ],
      "source": [
        "plt.hist(nytimes['blob_polar'])"
      ]
    },
    {
      "cell_type": "code",
      "execution_count": 30,
      "metadata": {
        "colab": {
          "base_uri": "https://localhost:8080/",
          "height": 355
        },
        "id": "z_leNXzL2cdC",
        "outputId": "a301e9b7-a67f-4b70-8f74-65a92243fb3c"
      },
      "outputs": [
        {
          "data": {
            "text/plain": [
              "(array([ 1.,  1.,  5.,  8.,  7., 32.,  3., 15.,  7.,  6.]),\n",
              " array([-0.9136 , -0.73267, -0.55174, -0.37081, -0.18988, -0.00895,\n",
              "         0.17198,  0.35291,  0.53384,  0.71477,  0.8957 ]),\n",
              " <BarContainer object of 10 artists>)"
            ]
          },
          "execution_count": 30,
          "metadata": {},
          "output_type": "execute_result"
        },
        {
          "data": {
            "image/png": "[encoded data removed]",
            "text/plain": [
              "<Figure size 432x288 with 1 Axes>"
            ]
          },
          "metadata": {
            "needs_background": "light"
          },
          "output_type": "display_data"
        }
      ],
      "source": [
        "plt.hist(nytimes['compound'])"
      ]
    },
    {
      "cell_type": "code",
      "execution_count": 31,
      "metadata": {
        "colab": {
          "base_uri": "https://localhost:8080/",
          "height": 335
        },
        "id": "Nw2Rm8Fx28tZ",
        "outputId": "dcaba1fd-aabc-4af2-a66f-6de32a6c150a"
      },
      "outputs": [
        {
          "data": {
            "text/plain": [
              "(array([  6.,  15.,  17.,  15., 105.,  12.,  34.,  33.,  46.,  54.]),\n",
              " array([-0.944  , -0.75373, -0.56346, -0.37319, -0.18292,  0.00735,\n",
              "         0.19762,  0.38789,  0.57816,  0.76843,  0.9587 ]),\n",
              " <BarContainer object of 10 artists>)"
            ]
          },
          "execution_count": 31,
          "metadata": {},
          "output_type": "execute_result"
        },
        {
          "data": {
            "image/png": "[encoded data removed]",
            "text/plain": [
              "<Figure size 432x288 with 1 Axes>"
            ]
          },
          "metadata": {
            "needs_background": "light"
          },
          "output_type": "display_data"
        }
      ],
      "source": [
        "plt.hist(usmagazine['compound'])"
      ]
    },
    {
      "cell_type": "code",
      "execution_count": 32,
      "metadata": {
        "colab": {
          "base_uri": "https://localhost:8080/",
          "height": 1000
        },
        "id": "ei6SODM69tDc",
        "outputId": "cef2ea5e-984e-4e20-c72a-99b5eb5e13b8"
      },
      "outputs": [
        {
          "data": {
            "text/html": [
              "<div>\n",
              "<style scoped>\n",
              "    .dataframe tbody tr th:only-of-type {\n",
              "        vertical-align: middle;\n",
              "    }\n",
              "\n",
              "    .dataframe tbody tr th {\n",
              "        vertical-align: top;\n",
              "    }\n",
              "\n",
              "    .dataframe thead th {\n",
              "        text-align: right;\n",
              "    }\n",
              "</style>\n",
              "<table border=\"1\" class=\"dataframe\">\n",
              "  <thead>\n",
              "    <tr style=\"text-align: right;\">\n",
              "      <th></th>\n",
              "      <th>media_outlet</th>\n",
              "      <th>compound</th>\n",
              "      <th>positive</th>\n",
              "      <th>negative</th>\n",
              "      <th>blob_polar</th>\n",
              "      <th>blob_subj</th>\n",
              "      <th>date_short</th>\n",
              "    </tr>\n",
              "  </thead>\n",
              "  <tbody>\n",
              "    <tr>\n",
              "      <th>2941</th>\n",
              "      <td>nytimes</td>\n",
              "      <td>-0.3612</td>\n",
              "      <td>0.000</td>\n",
              "      <td>0.294</td>\n",
              "      <td>0.000000</td>\n",
              "      <td>0.000000</td>\n",
              "      <td>2015-12-14</td>\n",
              "    </tr>\n",
              "    <tr>\n",
              "      <th>4597</th>\n",
              "      <td>nytimes</td>\n",
              "      <td>0.1531</td>\n",
              "      <td>0.233</td>\n",
              "      <td>0.183</td>\n",
              "      <td>0.000000</td>\n",
              "      <td>0.000000</td>\n",
              "      <td>2015-10-02</td>\n",
              "    </tr>\n",
              "    <tr>\n",
              "      <th>5322</th>\n",
              "      <td>nytimes</td>\n",
              "      <td>-0.6249</td>\n",
              "      <td>0.165</td>\n",
              "      <td>0.615</td>\n",
              "      <td>-0.900000</td>\n",
              "      <td>0.700000</td>\n",
              "      <td>2015-01-29</td>\n",
              "    </tr>\n",
              "    <tr>\n",
              "      <th>10781</th>\n",
              "      <td>nytimes</td>\n",
              "      <td>0.0000</td>\n",
              "      <td>0.000</td>\n",
              "      <td>0.000</td>\n",
              "      <td>0.200000</td>\n",
              "      <td>0.400000</td>\n",
              "      <td>2015-11-30</td>\n",
              "    </tr>\n",
              "    <tr>\n",
              "      <th>12635</th>\n",
              "      <td>nytimes</td>\n",
              "      <td>0.3612</td>\n",
              "      <td>0.455</td>\n",
              "      <td>0.000</td>\n",
              "      <td>0.000000</td>\n",
              "      <td>0.000000</td>\n",
              "      <td>2015-07-31</td>\n",
              "    </tr>\n",
              "    <tr>\n",
              "      <th>...</th>\n",
              "      <td>...</td>\n",
              "      <td>...</td>\n",
              "      <td>...</td>\n",
              "      <td>...</td>\n",
              "      <td>...</td>\n",
              "      <td>...</td>\n",
              "      <td>...</td>\n",
              "    </tr>\n",
              "    <tr>\n",
              "      <th>479179</th>\n",
              "      <td>nytimes</td>\n",
              "      <td>0.7845</td>\n",
              "      <td>0.173</td>\n",
              "      <td>0.000</td>\n",
              "      <td>0.395833</td>\n",
              "      <td>0.545833</td>\n",
              "      <td>2015-03-24</td>\n",
              "    </tr>\n",
              "    <tr>\n",
              "      <th>481119</th>\n",
              "      <td>nytimes</td>\n",
              "      <td>0.4215</td>\n",
              "      <td>0.412</td>\n",
              "      <td>0.000</td>\n",
              "      <td>0.350000</td>\n",
              "      <td>0.650000</td>\n",
              "      <td>2015-07-14</td>\n",
              "    </tr>\n",
              "    <tr>\n",
              "      <th>482527</th>\n",
              "      <td>nytimes</td>\n",
              "      <td>0.0000</td>\n",
              "      <td>0.000</td>\n",
              "      <td>0.000</td>\n",
              "      <td>0.500000</td>\n",
              "      <td>0.500000</td>\n",
              "      <td>2015-07-31</td>\n",
              "    </tr>\n",
              "    <tr>\n",
              "      <th>483633</th>\n",
              "      <td>nytimes</td>\n",
              "      <td>0.4754</td>\n",
              "      <td>0.177</td>\n",
              "      <td>0.000</td>\n",
              "      <td>0.100000</td>\n",
              "      <td>0.100000</td>\n",
              "      <td>2015-07-24</td>\n",
              "    </tr>\n",
              "    <tr>\n",
              "      <th>492681</th>\n",
              "      <td>nytimes</td>\n",
              "      <td>0.0000</td>\n",
              "      <td>0.000</td>\n",
              "      <td>0.000</td>\n",
              "      <td>0.000000</td>\n",
              "      <td>0.000000</td>\n",
              "      <td>2015-07-27</td>\n",
              "    </tr>\n",
              "  </tbody>\n",
              "</table>\n",
              "<p>85 rows × 7 columns</p>\n",
              "</div>"
            ],
            "text/plain": [
              "       media_outlet  compound  positive  negative  blob_polar  blob_subj  \\\n",
              "2941        nytimes   -0.3612     0.000     0.294    0.000000   0.000000   \n",
              "4597        nytimes    0.1531     0.233     0.183    0.000000   0.000000   \n",
              "5322        nytimes   -0.6249     0.165     0.615   -0.900000   0.700000   \n",
              "10781       nytimes    0.0000     0.000     0.000    0.200000   0.400000   \n",
              "12635       nytimes    0.3612     0.455     0.000    0.000000   0.000000   \n",
              "...             ...       ...       ...       ...         ...        ...   \n",
              "479179      nytimes    0.7845     0.173     0.000    0.395833   0.545833   \n",
              "481119      nytimes    0.4215     0.412     0.000    0.350000   0.650000   \n",
              "482527      nytimes    0.0000     0.000     0.000    0.500000   0.500000   \n",
              "483633      nytimes    0.4754     0.177     0.000    0.100000   0.100000   \n",
              "492681      nytimes    0.0000     0.000     0.000    0.000000   0.000000   \n",
              "\n",
              "        date_short  \n",
              "2941    2015-12-14  \n",
              "4597    2015-10-02  \n",
              "5322    2015-01-29  \n",
              "10781   2015-11-30  \n",
              "12635   2015-07-31  \n",
              "...            ...  \n",
              "479179  2015-03-24  \n",
              "481119  2015-07-14  \n",
              "482527  2015-07-31  \n",
              "483633  2015-07-24  \n",
              "492681  2015-07-27  \n",
              "\n",
              "[85 rows x 7 columns]"
            ]
          },
          "execution_count": 32,
          "metadata": {},
          "output_type": "execute_result"
        }
      ],
      "source": [
        "nytimes"
      ]
    },
    {
      "cell_type": "code",
      "execution_count": 37,
      "metadata": {
        "id": "WJHjRdvr--hl"
      },
      "outputs": [],
      "source": [
        "date = nytimes.groupby('date_short').compound.mean()\n"
      ]
    },
    {
      "cell_type": "code",
      "execution_count": 38,
      "metadata": {
        "colab": {
          "base_uri": "https://localhost:8080/",
          "height": 283
        },
        "id": "C4GeQiJ3_xvU",
        "outputId": "8abd2233-8c97-4e3e-d751-cffdfbdc22fc"
      },
      "outputs": [
        {
          "data": {
            "text/plain": [
              "[<matplotlib.lines.Line2D at 0x1608875b4f0>]"
            ]
          },
          "execution_count": 38,
          "metadata": {},
          "output_type": "execute_result"
        },
        {
          "data": {
            "image/png": "[encoded data removed]",
            "text/plain": [
              "<Figure size 432x288 with 1 Axes>"
            ]
          },
          "metadata": {
            "needs_background": "light"
          },
          "output_type": "display_data"
        }
      ],
      "source": [
        "plt.plot(date)"
      ]
    }
  ],
  "metadata": {
    "colab": {
      "name": "Mediastats.ipynb",
      "provenance": []
    },
    "kernelspec": {
      "display_name": "Python 3",
      "name": "python3"
    },
    "language_info": {
      "codemirror_mode": {
        "name": "ipython",
        "version": 3
      },
      "file_extension": ".py",
      "mimetype": "text/x-python",
      "name": "python",
      "nbconvert_exporter": "python",
      "pygments_lexer": "ipython3",
      "version": "3.8.11"
    }
  },
  "nbformat": 4,
  "nbformat_minor": 0
}
